{
 "cells": [
  {
   "cell_type": "markdown",
   "metadata": {},
   "source": [
    "# Creating brain mask for 3D MRI with MONAI"
   ]
  },
  {
   "cell_type": "markdown",
   "metadata": {},
   "source": [
    "This notebook is about creating brain mask from 3D MRI image.  \n",
    "And it contains below features:\n",
    "\n",
    "1. Load Nifti image with metadata, load a list of images and stack them.\n",
    "2. Define a new transform according MONAI transform API.\n",
    "\n",
    "\n",
    "\n",
    "The Brain tumor dataset can be downloaded from \n",
    "https://ipp.cbica.upenn.edu/ and  http://medicaldecathlon.com/.  \n",
    "\n",
    "Target: Glioma segmentation tumour core, whole tumor, and enhancing tumor \n",
    "Modality: Multimodal multisite MRI data (FLAIR, T1w, T1gd,T2w)  \n",
    "Size: 369 3D volumes   \n",
    "Source: BRATS 2020/2021 datasets.  \n",
    "\n",
    "\n",
    "Below figure shows image patches with the tumor sub-regions that are annotated in the different modalities (top left) and the final labels for the whole dataset (right). (Figure taken from the [BraTS IEEE TMI paper](https://ieeexplore.ieee.org/document/6975210/))  \n",
    "![image](https://ieeexplore.ieee.org/mediastore_new/IEEE/content/media/42/7283692/6975210/6975210-fig-3-source-large.gif)\n",
    "\n",
    "The image patches show from left to right:\n",
    "1. the whole tumor (yellow) visible in T2-FLAIR (Fig.A).\n",
    "2. the tumor core (red) visible in T2 (Fig.B).\n",
    "3. the enhancing tumor structures (light blue) visible in T1Gd, surrounding the cystic/necrotic components of the core (green) (Fig. C).\n",
    "4. The segmentations are used to generate the final labels of the tumor sub-regions (Fig.D): edema (yellow), non-enhancing solid core (red), necrotic/cystic core (green), enhancing core (blue)."
   ]
  },
  {
   "cell_type": "code",
   "execution_count": 1,
   "metadata": {},
   "outputs": [
    {
     "name": "stdout",
     "output_type": "stream",
     "text": [
      "\n",
      "\n",
      "Please cite the following paper when using nnUNet:\n",
      "\n",
      "Isensee, F., Jaeger, P.F., Kohl, S.A.A. et al. \"nnU-Net: a self-configuring method for deep learning-based biomedical image segmentation.\" Nat Methods (2020). https://doi.org/10.1038/s41592-020-01008-z\n",
      "\n",
      "\n",
      "If you have questions or suggestions, feel free to open an issue at https://github.com/MIC-DKFZ/nnUNet\n",
      "\n",
      "MONAI version: 0.9.0\n",
      "Numpy version: 1.22.3\n",
      "Pytorch version: 1.10.1\n",
      "MONAI flags: HAS_EXT = False, USE_COMPILED = False\n",
      "MONAI rev id: af0e0e9f757558d144b655c63afcea3a4e0a06f5\n",
      "MONAI __file__: /home/mmiv-ml/anaconda3/envs/sa_tumorseg22/lib/python3.9/site-packages/monai/__init__.py\n",
      "\n",
      "Optional dependencies:\n",
      "Pytorch Ignite version: 0.4.9\n",
      "Nibabel version: 4.0.1\n",
      "scikit-image version: 0.19.3\n",
      "Pillow version: 9.0.1\n",
      "Tensorboard version: NOT INSTALLED or UNKNOWN VERSION.\n",
      "gdown version: NOT INSTALLED or UNKNOWN VERSION.\n",
      "TorchVision version: 0.11.2\n",
      "tqdm version: 4.64.0\n",
      "lmdb version: NOT INSTALLED or UNKNOWN VERSION.\n",
      "psutil version: 5.9.1\n",
      "pandas version: 1.4.2\n",
      "einops version: NOT INSTALLED or UNKNOWN VERSION.\n",
      "transformers version: NOT INSTALLED or UNKNOWN VERSION.\n",
      "mlflow version: NOT INSTALLED or UNKNOWN VERSION.\n",
      "pynrrd version: NOT INSTALLED or UNKNOWN VERSION.\n",
      "\n",
      "For details about installing the optional dependencies, please visit:\n",
      "    https://docs.monai.io/en/latest/installation.html#installing-the-recommended-dependencies\n",
      "\n"
     ]
    }
   ],
   "source": [
    "# Copyright 2020 MONAI Consortium\n",
    "# Licensed under the Apache License, Version 2.0 (the \"License\");\n",
    "# you may not use this file except in compliance with the License.\n",
    "# You may obtain a copy of the License at\n",
    "#     http://www.apache.org/licenses/LICENSE-2.0\n",
    "# Unless required by applicable law or agreed to in writing, software\n",
    "# distributed under the License is distributed on an \"AS IS\" BASIS,\n",
    "# WITHOUT WARRANTIES OR CONDITIONS OF ANY KIND, either express or implied.\n",
    "# See the License for the specific language governing permissions and\n",
    "# limitations under the License.\n",
    "\n",
    "import os\n",
    "import shutil\n",
    "import tempfile\n",
    "import sys\n",
    "import gc\n",
    "import logging\n",
    "import copy\n",
    "import pdb\n",
    "\n",
    "import matplotlib.pyplot as plt\n",
    "import numpy as np\n",
    "import pandas as pd\n",
    "import glob\n",
    "from sklearn.model_selection import KFold\n",
    "from mpl_toolkits.axes_grid1 import ImageGrid\n",
    "import scipy\n",
    "from scipy import ndimage\n",
    "import skimage\n",
    "from skimage import morphology\n",
    "\n",
    "import torch\n",
    "import torch.nn as nn\n",
    "import torch.nn.functional as F\n",
    "\n",
    "import monai\n",
    "from monai.transforms import (\n",
    "    Activations,\n",
    "    AsDiscrete,\n",
    "    CastToTyped,\n",
    "    Compose, \n",
    "    CropForegroundd,\n",
    "    EnsureChannelFirstd, \n",
    "    LoadImaged,\n",
    "    DivisiblePadd,\n",
    "    Spacingd,\n",
    "    NormalizeIntensity,\n",
    "    NormalizeIntensityd,\n",
    "    ScaleIntensity,\n",
    "    RandCropByPosNegLabeld,\n",
    "    ResizeWithPadOrCropd,\n",
    "    RandFlipd, \n",
    "    RandGaussianNoised,\n",
    "    RandGaussianSmoothd, \n",
    "    RandScaleIntensityd,\n",
    "    RandZoomd,\n",
    "    Resized,\n",
    "    SpatialCrop, \n",
    "    SpatialPadd, \n",
    "    MapTransform,\n",
    "    CastToType,\n",
    "    ToTensord\n",
    ")\n",
    "\n",
    "\n",
    "from monai.config import KeysCollection\n",
    "from monai.transforms.compose import MapTransform, Randomizable\n",
    "from collections.abc import Iterable\n",
    "from typing import Any, Dict, Hashable, Mapping, Optional, Sequence, Tuple, Union\n",
    "from monai.utils import set_determinism\n",
    "from monai.utils import (\n",
    "    ensure_tuple,\n",
    "    ensure_tuple_rep,\n",
    "    ensure_tuple_size,\n",
    ")\n",
    "\n",
    "from monai.optimizers import LearningRateFinder\n",
    "\n",
    "from monai.transforms.compose import MapTransform\n",
    "from monai.transforms.utils import generate_spatial_bounding_box\n",
    "from skimage.transform import resize\n",
    "from monai.losses import DiceCELoss, DiceLoss\n",
    "from monai.utils import set_determinism\n",
    "from monai.inferers import sliding_window_inference\n",
    "\n",
    "from nnunet.network_architecture.initialization import InitWeights_He\n",
    "from monai.metrics import DiceMetric\n",
    "import glob\n",
    "import monai\n",
    "from monai.metrics import compute_meandice\n",
    "import random\n",
    "import pickle\n",
    "from collections import OrderedDict\n",
    "from typing import Sequence, Optional\n",
    "import SimpleITK as sitk\n",
    "\n",
    "### monai and ignite based imports\n",
    "import logging\n",
    "import sys\n",
    "from ignite.engine import Engine, Events\n",
    "from ignite.contrib.handlers import FastaiLRFinder, ProgressBar\n",
    "from ignite.engine import (\n",
    "    Events,\n",
    "    _prepare_batch,\n",
    "    create_supervised_evaluator,\n",
    "    create_supervised_trainer,\n",
    ")\n",
    "from ignite.handlers import EarlyStopping, ModelCheckpoint\n",
    "import multiprocessing as mp\n",
    "from tqdm import tqdm\n",
    "import itkwidgets\n",
    "from itkwidgets import view\n",
    "import torchio as tio\n",
    "\n",
    "from ranger21 import Ranger21\n",
    "#from ranger.ranger2020 import Ranger as Ranger2020\n",
    "\n",
    "monai.config.print_config()"
   ]
  },
  {
   "cell_type": "code",
   "execution_count": null,
   "metadata": {},
   "outputs": [],
   "source": []
  },
  {
   "cell_type": "markdown",
   "metadata": {},
   "source": [
    "## Set deterministic training for reproducibility"
   ]
  },
  {
   "cell_type": "code",
   "execution_count": 2,
   "metadata": {},
   "outputs": [
    {
     "name": "stdout",
     "output_type": "stream",
     "text": [
      "Tue Jul 26 00:59:45 2022       \n",
      "+-----------------------------------------------------------------------------+\n",
      "| NVIDIA-SMI 450.172.01   Driver Version: 450.172.01   CUDA Version: 11.0     |\n",
      "|-------------------------------+----------------------+----------------------+\n",
      "| GPU  Name        Persistence-M| Bus-Id        Disp.A | Volatile Uncorr. ECC |\n",
      "| Fan  Temp  Perf  Pwr:Usage/Cap|         Memory-Usage | GPU-Util  Compute M. |\n",
      "|                               |                      |               MIG M. |\n",
      "|===============================+======================+======================|\n",
      "|   0  Tesla V100-DGXS...  On   | 00000000:07:00.0 Off |                    0 |\n",
      "| N/A   36C    P0    41W / 300W |    108MiB / 32505MiB |      0%      Default |\n",
      "|                               |                      |                  N/A |\n",
      "+-------------------------------+----------------------+----------------------+\n",
      "|   1  Tesla V100-DGXS...  On   | 00000000:08:00.0 Off |                    0 |\n",
      "| N/A   38C    P0    52W / 300W |   7832MiB / 32508MiB |      0%      Default |\n",
      "|                               |                      |                  N/A |\n",
      "+-------------------------------+----------------------+----------------------+\n",
      "|   2  Tesla V100-DGXS...  On   | 00000000:0E:00.0 Off |                    0 |\n",
      "| N/A   37C    P0    37W / 300W |     13MiB / 32508MiB |      0%      Default |\n",
      "|                               |                      |                  N/A |\n",
      "+-------------------------------+----------------------+----------------------+\n",
      "|   3  Tesla V100-DGXS...  On   | 00000000:0F:00.0 Off |                    0 |\n",
      "| N/A   39C    P0    50W / 300W |   3801MiB / 32508MiB |      0%      Default |\n",
      "|                               |                      |                  N/A |\n",
      "+-------------------------------+----------------------+----------------------+\n",
      "                                                                               \n",
      "+-----------------------------------------------------------------------------+\n",
      "| Processes:                                                                  |\n",
      "|  GPU   GI   CI        PID   Type   Process name                  GPU Memory |\n",
      "|        ID   ID                                                   Usage      |\n",
      "|=============================================================================|\n",
      "|    0   N/A  N/A      2917      G   /usr/lib/xorg/Xorg                 86MiB |\n",
      "|    0   N/A  N/A      3284      G   /usr/bin/gnome-shell               16MiB |\n",
      "|    1   N/A  N/A      2917      G   /usr/lib/xorg/Xorg                  4MiB |\n",
      "|    2   N/A  N/A      2917      G   /usr/lib/xorg/Xorg                  4MiB |\n",
      "|    3   N/A  N/A      2917      G   /usr/lib/xorg/Xorg                  4MiB |\n",
      "|    3   N/A  N/A    530572      C   .../sa_tumorseg22/bin/python     1503MiB |\n",
      "|    3   N/A  N/A    611843      C   .../sa_tumorseg22/bin/python     2285MiB |\n",
      "+-----------------------------------------------------------------------------+\n"
     ]
    }
   ],
   "source": [
    "seeds = 40961024\n",
    "set_determinism(seed=seeds)\n",
    "##np.random.seed(seeds) np random seed does not work here\n",
    "!nvidia-smi"
   ]
  },
  {
   "cell_type": "code",
   "execution_count": 3,
   "metadata": {},
   "outputs": [],
   "source": [
    "# MAX_THREADS =4\n",
    "# sitk.ProcessObject.SetGlobalDefaultNumberOfThreads(MAX_THREADS)"
   ]
  },
  {
   "cell_type": "markdown",
   "metadata": {},
   "source": [
    "### Here loading data of Brats2020 files from DataFrame"
   ]
  },
  {
   "cell_type": "code",
   "execution_count": 4,
   "metadata": {},
   "outputs": [
    {
     "data": {
      "text/html": [
       "<div>\n",
       "<style scoped>\n",
       "    .dataframe tbody tr th:only-of-type {\n",
       "        vertical-align: middle;\n",
       "    }\n",
       "\n",
       "    .dataframe tbody tr th {\n",
       "        vertical-align: top;\n",
       "    }\n",
       "\n",
       "    .dataframe thead th {\n",
       "        text-align: right;\n",
       "    }\n",
       "</style>\n",
       "<table border=\"1\" class=\"dataframe\">\n",
       "  <thead>\n",
       "    <tr style=\"text-align: right;\">\n",
       "      <th></th>\n",
       "      <th>BraTS21ID</th>\n",
       "      <th>WTVol</th>\n",
       "      <th>TCVol</th>\n",
       "      <th>ETVol</th>\n",
       "      <th>EDVol</th>\n",
       "      <th>NECVol</th>\n",
       "      <th>WT_CoordX</th>\n",
       "      <th>WT_CoordY</th>\n",
       "      <th>WT_CoordZ</th>\n",
       "      <th>TC_CoordX</th>\n",
       "      <th>...</th>\n",
       "      <th>ED_CoordZ</th>\n",
       "      <th>NEC_CoordX</th>\n",
       "      <th>NEC_CoordY</th>\n",
       "      <th>NEC_CoordZ</th>\n",
       "      <th>t1wPath</th>\n",
       "      <th>t1cwPath</th>\n",
       "      <th>t2wPath</th>\n",
       "      <th>flairPath</th>\n",
       "      <th>segPath</th>\n",
       "      <th>is_train_test</th>\n",
       "    </tr>\n",
       "  </thead>\n",
       "  <tbody>\n",
       "    <tr>\n",
       "      <th>0</th>\n",
       "      <td>BraTS2021_01483</td>\n",
       "      <td>107864</td>\n",
       "      <td>59424</td>\n",
       "      <td>0</td>\n",
       "      <td>48440</td>\n",
       "      <td>59424</td>\n",
       "      <td>85.491461</td>\n",
       "      <td>164.058147</td>\n",
       "      <td>77.561531</td>\n",
       "      <td>78.758768</td>\n",
       "      <td>...</td>\n",
       "      <td>72.053117</td>\n",
       "      <td>78.758768</td>\n",
       "      <td>165.909649</td>\n",
       "      <td>82.051764</td>\n",
       "      <td>BraTS2021_01483/BraTS2021_01483_t1.nii.gz</td>\n",
       "      <td>BraTS2021_01483/BraTS2021_01483_t1ce.nii.gz</td>\n",
       "      <td>BraTS2021_01483/BraTS2021_01483_t2.nii.gz</td>\n",
       "      <td>BraTS2021_01483/BraTS2021_01483_flair.nii.gz</td>\n",
       "      <td>BraTS2021_01483/BraTS2021_01483_seg.nii.gz</td>\n",
       "      <td>train</td>\n",
       "    </tr>\n",
       "    <tr>\n",
       "      <th>1</th>\n",
       "      <td>BraTS2021_01480</td>\n",
       "      <td>34700</td>\n",
       "      <td>10557</td>\n",
       "      <td>0</td>\n",
       "      <td>24143</td>\n",
       "      <td>10557</td>\n",
       "      <td>147.493343</td>\n",
       "      <td>126.876023</td>\n",
       "      <td>52.802853</td>\n",
       "      <td>145.425121</td>\n",
       "      <td>...</td>\n",
       "      <td>51.566624</td>\n",
       "      <td>145.425121</td>\n",
       "      <td>126.980676</td>\n",
       "      <td>55.630009</td>\n",
       "      <td>BraTS2021_01480/BraTS2021_01480_t1.nii.gz</td>\n",
       "      <td>BraTS2021_01480/BraTS2021_01480_t1ce.nii.gz</td>\n",
       "      <td>BraTS2021_01480/BraTS2021_01480_t2.nii.gz</td>\n",
       "      <td>BraTS2021_01480/BraTS2021_01480_flair.nii.gz</td>\n",
       "      <td>BraTS2021_01480/BraTS2021_01480_seg.nii.gz</td>\n",
       "      <td>train</td>\n",
       "    </tr>\n",
       "    <tr>\n",
       "      <th>2</th>\n",
       "      <td>BraTS2021_01350</td>\n",
       "      <td>25783</td>\n",
       "      <td>0</td>\n",
       "      <td>0</td>\n",
       "      <td>25783</td>\n",
       "      <td>0</td>\n",
       "      <td>165.052283</td>\n",
       "      <td>112.931854</td>\n",
       "      <td>56.507233</td>\n",
       "      <td>NaN</td>\n",
       "      <td>...</td>\n",
       "      <td>56.507233</td>\n",
       "      <td>NaN</td>\n",
       "      <td>NaN</td>\n",
       "      <td>NaN</td>\n",
       "      <td>BraTS2021_01350/BraTS2021_01350_t1.nii.gz</td>\n",
       "      <td>BraTS2021_01350/BraTS2021_01350_t1ce.nii.gz</td>\n",
       "      <td>BraTS2021_01350/BraTS2021_01350_t2.nii.gz</td>\n",
       "      <td>BraTS2021_01350/BraTS2021_01350_flair.nii.gz</td>\n",
       "      <td>BraTS2021_01350/BraTS2021_01350_seg.nii.gz</td>\n",
       "      <td>train</td>\n",
       "    </tr>\n",
       "    <tr>\n",
       "      <th>3</th>\n",
       "      <td>BraTS2021_01551</td>\n",
       "      <td>18958</td>\n",
       "      <td>0</td>\n",
       "      <td>0</td>\n",
       "      <td>18958</td>\n",
       "      <td>0</td>\n",
       "      <td>148.443190</td>\n",
       "      <td>185.222017</td>\n",
       "      <td>42.112934</td>\n",
       "      <td>NaN</td>\n",
       "      <td>...</td>\n",
       "      <td>42.112934</td>\n",
       "      <td>NaN</td>\n",
       "      <td>NaN</td>\n",
       "      <td>NaN</td>\n",
       "      <td>BraTS2021_01551/BraTS2021_01551_t1.nii.gz</td>\n",
       "      <td>BraTS2021_01551/BraTS2021_01551_t1ce.nii.gz</td>\n",
       "      <td>BraTS2021_01551/BraTS2021_01551_t2.nii.gz</td>\n",
       "      <td>BraTS2021_01551/BraTS2021_01551_flair.nii.gz</td>\n",
       "      <td>BraTS2021_01551/BraTS2021_01551_seg.nii.gz</td>\n",
       "      <td>train</td>\n",
       "    </tr>\n",
       "    <tr>\n",
       "      <th>4</th>\n",
       "      <td>BraTS2021_01439</td>\n",
       "      <td>18890</td>\n",
       "      <td>9329</td>\n",
       "      <td>0</td>\n",
       "      <td>9561</td>\n",
       "      <td>9329</td>\n",
       "      <td>78.750926</td>\n",
       "      <td>142.109952</td>\n",
       "      <td>55.188089</td>\n",
       "      <td>78.490728</td>\n",
       "      <td>...</td>\n",
       "      <td>53.995293</td>\n",
       "      <td>78.490728</td>\n",
       "      <td>140.208061</td>\n",
       "      <td>56.410548</td>\n",
       "      <td>BraTS2021_01439/BraTS2021_01439_t1.nii.gz</td>\n",
       "      <td>BraTS2021_01439/BraTS2021_01439_t1ce.nii.gz</td>\n",
       "      <td>BraTS2021_01439/BraTS2021_01439_t2.nii.gz</td>\n",
       "      <td>BraTS2021_01439/BraTS2021_01439_flair.nii.gz</td>\n",
       "      <td>BraTS2021_01439/BraTS2021_01439_seg.nii.gz</td>\n",
       "      <td>train</td>\n",
       "    </tr>\n",
       "    <tr>\n",
       "      <th>...</th>\n",
       "      <td>...</td>\n",
       "      <td>...</td>\n",
       "      <td>...</td>\n",
       "      <td>...</td>\n",
       "      <td>...</td>\n",
       "      <td>...</td>\n",
       "      <td>...</td>\n",
       "      <td>...</td>\n",
       "      <td>...</td>\n",
       "      <td>...</td>\n",
       "      <td>...</td>\n",
       "      <td>...</td>\n",
       "      <td>...</td>\n",
       "      <td>...</td>\n",
       "      <td>...</td>\n",
       "      <td>...</td>\n",
       "      <td>...</td>\n",
       "      <td>...</td>\n",
       "      <td>...</td>\n",
       "      <td>...</td>\n",
       "      <td>...</td>\n",
       "    </tr>\n",
       "    <tr>\n",
       "      <th>1246</th>\n",
       "      <td>BraTS2021_00806</td>\n",
       "      <td>136876</td>\n",
       "      <td>121765</td>\n",
       "      <td>81526</td>\n",
       "      <td>15111</td>\n",
       "      <td>40239</td>\n",
       "      <td>101.115309</td>\n",
       "      <td>103.301273</td>\n",
       "      <td>101.651656</td>\n",
       "      <td>101.769121</td>\n",
       "      <td>...</td>\n",
       "      <td>96.450930</td>\n",
       "      <td>101.767390</td>\n",
       "      <td>100.360844</td>\n",
       "      <td>106.028107</td>\n",
       "      <td>BraTS2021_00806/BraTS2021_00806_t1.nii.gz</td>\n",
       "      <td>BraTS2021_00806/BraTS2021_00806_t1ce.nii.gz</td>\n",
       "      <td>BraTS2021_00806/BraTS2021_00806_t2.nii.gz</td>\n",
       "      <td>BraTS2021_00806/BraTS2021_00806_flair.nii.gz</td>\n",
       "      <td>BraTS2021_00806/BraTS2021_00806_seg.nii.gz</td>\n",
       "      <td>valid</td>\n",
       "    </tr>\n",
       "    <tr>\n",
       "      <th>1247</th>\n",
       "      <td>BraTS2021_01430</td>\n",
       "      <td>256849</td>\n",
       "      <td>115924</td>\n",
       "      <td>67135</td>\n",
       "      <td>140925</td>\n",
       "      <td>48789</td>\n",
       "      <td>153.416097</td>\n",
       "      <td>132.299195</td>\n",
       "      <td>68.897909</td>\n",
       "      <td>152.365843</td>\n",
       "      <td>...</td>\n",
       "      <td>72.719908</td>\n",
       "      <td>152.548812</td>\n",
       "      <td>142.957654</td>\n",
       "      <td>65.067085</td>\n",
       "      <td>BraTS2021_01430/BraTS2021_01430_t1.nii.gz</td>\n",
       "      <td>BraTS2021_01430/BraTS2021_01430_t1ce.nii.gz</td>\n",
       "      <td>BraTS2021_01430/BraTS2021_01430_t2.nii.gz</td>\n",
       "      <td>BraTS2021_01430/BraTS2021_01430_flair.nii.gz</td>\n",
       "      <td>BraTS2021_01430/BraTS2021_01430_seg.nii.gz</td>\n",
       "      <td>valid</td>\n",
       "    </tr>\n",
       "    <tr>\n",
       "      <th>1248</th>\n",
       "      <td>BraTS2021_00060</td>\n",
       "      <td>240373</td>\n",
       "      <td>109066</td>\n",
       "      <td>61830</td>\n",
       "      <td>131307</td>\n",
       "      <td>47236</td>\n",
       "      <td>85.931353</td>\n",
       "      <td>130.302151</td>\n",
       "      <td>66.820737</td>\n",
       "      <td>87.874874</td>\n",
       "      <td>...</td>\n",
       "      <td>71.196943</td>\n",
       "      <td>86.609281</td>\n",
       "      <td>122.412440</td>\n",
       "      <td>61.499682</td>\n",
       "      <td>BraTS2021_00060/BraTS2021_00060_t1.nii.gz</td>\n",
       "      <td>BraTS2021_00060/BraTS2021_00060_t1ce.nii.gz</td>\n",
       "      <td>BraTS2021_00060/BraTS2021_00060_t2.nii.gz</td>\n",
       "      <td>BraTS2021_00060/BraTS2021_00060_flair.nii.gz</td>\n",
       "      <td>BraTS2021_00060/BraTS2021_00060_seg.nii.gz</td>\n",
       "      <td>valid</td>\n",
       "    </tr>\n",
       "    <tr>\n",
       "      <th>1249</th>\n",
       "      <td>BraTS2021_01385</td>\n",
       "      <td>146347</td>\n",
       "      <td>106252</td>\n",
       "      <td>70189</td>\n",
       "      <td>40095</td>\n",
       "      <td>36063</td>\n",
       "      <td>95.842142</td>\n",
       "      <td>86.124827</td>\n",
       "      <td>87.672135</td>\n",
       "      <td>97.039924</td>\n",
       "      <td>...</td>\n",
       "      <td>95.752513</td>\n",
       "      <td>99.370629</td>\n",
       "      <td>85.567340</td>\n",
       "      <td>84.666445</td>\n",
       "      <td>BraTS2021_01385/BraTS2021_01385_t1.nii.gz</td>\n",
       "      <td>BraTS2021_01385/BraTS2021_01385_t1ce.nii.gz</td>\n",
       "      <td>BraTS2021_01385/BraTS2021_01385_t2.nii.gz</td>\n",
       "      <td>BraTS2021_01385/BraTS2021_01385_flair.nii.gz</td>\n",
       "      <td>BraTS2021_01385/BraTS2021_01385_seg.nii.gz</td>\n",
       "      <td>valid</td>\n",
       "    </tr>\n",
       "    <tr>\n",
       "      <th>1250</th>\n",
       "      <td>BraTS2021_01321</td>\n",
       "      <td>128820</td>\n",
       "      <td>94878</td>\n",
       "      <td>79119</td>\n",
       "      <td>33942</td>\n",
       "      <td>15759</td>\n",
       "      <td>86.272854</td>\n",
       "      <td>106.140491</td>\n",
       "      <td>91.677923</td>\n",
       "      <td>83.713000</td>\n",
       "      <td>...</td>\n",
       "      <td>99.876937</td>\n",
       "      <td>88.345834</td>\n",
       "      <td>108.050765</td>\n",
       "      <td>91.688622</td>\n",
       "      <td>BraTS2021_01321/BraTS2021_01321_t1.nii.gz</td>\n",
       "      <td>BraTS2021_01321/BraTS2021_01321_t1ce.nii.gz</td>\n",
       "      <td>BraTS2021_01321/BraTS2021_01321_t2.nii.gz</td>\n",
       "      <td>BraTS2021_01321/BraTS2021_01321_flair.nii.gz</td>\n",
       "      <td>BraTS2021_01321/BraTS2021_01321_seg.nii.gz</td>\n",
       "      <td>valid</td>\n",
       "    </tr>\n",
       "  </tbody>\n",
       "</table>\n",
       "<p>1251 rows × 27 columns</p>\n",
       "</div>"
      ],
      "text/plain": [
       "            BraTS21ID   WTVol   TCVol  ETVol   EDVol  NECVol   WT_CoordX  \\\n",
       "0     BraTS2021_01483  107864   59424      0   48440   59424   85.491461   \n",
       "1     BraTS2021_01480   34700   10557      0   24143   10557  147.493343   \n",
       "2     BraTS2021_01350   25783       0      0   25783       0  165.052283   \n",
       "3     BraTS2021_01551   18958       0      0   18958       0  148.443190   \n",
       "4     BraTS2021_01439   18890    9329      0    9561    9329   78.750926   \n",
       "...               ...     ...     ...    ...     ...     ...         ...   \n",
       "1246  BraTS2021_00806  136876  121765  81526   15111   40239  101.115309   \n",
       "1247  BraTS2021_01430  256849  115924  67135  140925   48789  153.416097   \n",
       "1248  BraTS2021_00060  240373  109066  61830  131307   47236   85.931353   \n",
       "1249  BraTS2021_01385  146347  106252  70189   40095   36063   95.842142   \n",
       "1250  BraTS2021_01321  128820   94878  79119   33942   15759   86.272854   \n",
       "\n",
       "       WT_CoordY   WT_CoordZ   TC_CoordX  ...  ED_CoordZ  NEC_CoordX  \\\n",
       "0     164.058147   77.561531   78.758768  ...  72.053117   78.758768   \n",
       "1     126.876023   52.802853  145.425121  ...  51.566624  145.425121   \n",
       "2     112.931854   56.507233         NaN  ...  56.507233         NaN   \n",
       "3     185.222017   42.112934         NaN  ...  42.112934         NaN   \n",
       "4     142.109952   55.188089   78.490728  ...  53.995293   78.490728   \n",
       "...          ...         ...         ...  ...        ...         ...   \n",
       "1246  103.301273  101.651656  101.769121  ...  96.450930  101.767390   \n",
       "1247  132.299195   68.897909  152.365843  ...  72.719908  152.548812   \n",
       "1248  130.302151   66.820737   87.874874  ...  71.196943   86.609281   \n",
       "1249   86.124827   87.672135   97.039924  ...  95.752513   99.370629   \n",
       "1250  106.140491   91.677923   83.713000  ...  99.876937   88.345834   \n",
       "\n",
       "      NEC_CoordY  NEC_CoordZ                                    t1wPath  \\\n",
       "0     165.909649   82.051764  BraTS2021_01483/BraTS2021_01483_t1.nii.gz   \n",
       "1     126.980676   55.630009  BraTS2021_01480/BraTS2021_01480_t1.nii.gz   \n",
       "2            NaN         NaN  BraTS2021_01350/BraTS2021_01350_t1.nii.gz   \n",
       "3            NaN         NaN  BraTS2021_01551/BraTS2021_01551_t1.nii.gz   \n",
       "4     140.208061   56.410548  BraTS2021_01439/BraTS2021_01439_t1.nii.gz   \n",
       "...          ...         ...                                        ...   \n",
       "1246  100.360844  106.028107  BraTS2021_00806/BraTS2021_00806_t1.nii.gz   \n",
       "1247  142.957654   65.067085  BraTS2021_01430/BraTS2021_01430_t1.nii.gz   \n",
       "1248  122.412440   61.499682  BraTS2021_00060/BraTS2021_00060_t1.nii.gz   \n",
       "1249   85.567340   84.666445  BraTS2021_01385/BraTS2021_01385_t1.nii.gz   \n",
       "1250  108.050765   91.688622  BraTS2021_01321/BraTS2021_01321_t1.nii.gz   \n",
       "\n",
       "                                         t1cwPath  \\\n",
       "0     BraTS2021_01483/BraTS2021_01483_t1ce.nii.gz   \n",
       "1     BraTS2021_01480/BraTS2021_01480_t1ce.nii.gz   \n",
       "2     BraTS2021_01350/BraTS2021_01350_t1ce.nii.gz   \n",
       "3     BraTS2021_01551/BraTS2021_01551_t1ce.nii.gz   \n",
       "4     BraTS2021_01439/BraTS2021_01439_t1ce.nii.gz   \n",
       "...                                           ...   \n",
       "1246  BraTS2021_00806/BraTS2021_00806_t1ce.nii.gz   \n",
       "1247  BraTS2021_01430/BraTS2021_01430_t1ce.nii.gz   \n",
       "1248  BraTS2021_00060/BraTS2021_00060_t1ce.nii.gz   \n",
       "1249  BraTS2021_01385/BraTS2021_01385_t1ce.nii.gz   \n",
       "1250  BraTS2021_01321/BraTS2021_01321_t1ce.nii.gz   \n",
       "\n",
       "                                        t2wPath  \\\n",
       "0     BraTS2021_01483/BraTS2021_01483_t2.nii.gz   \n",
       "1     BraTS2021_01480/BraTS2021_01480_t2.nii.gz   \n",
       "2     BraTS2021_01350/BraTS2021_01350_t2.nii.gz   \n",
       "3     BraTS2021_01551/BraTS2021_01551_t2.nii.gz   \n",
       "4     BraTS2021_01439/BraTS2021_01439_t2.nii.gz   \n",
       "...                                         ...   \n",
       "1246  BraTS2021_00806/BraTS2021_00806_t2.nii.gz   \n",
       "1247  BraTS2021_01430/BraTS2021_01430_t2.nii.gz   \n",
       "1248  BraTS2021_00060/BraTS2021_00060_t2.nii.gz   \n",
       "1249  BraTS2021_01385/BraTS2021_01385_t2.nii.gz   \n",
       "1250  BraTS2021_01321/BraTS2021_01321_t2.nii.gz   \n",
       "\n",
       "                                         flairPath  \\\n",
       "0     BraTS2021_01483/BraTS2021_01483_flair.nii.gz   \n",
       "1     BraTS2021_01480/BraTS2021_01480_flair.nii.gz   \n",
       "2     BraTS2021_01350/BraTS2021_01350_flair.nii.gz   \n",
       "3     BraTS2021_01551/BraTS2021_01551_flair.nii.gz   \n",
       "4     BraTS2021_01439/BraTS2021_01439_flair.nii.gz   \n",
       "...                                            ...   \n",
       "1246  BraTS2021_00806/BraTS2021_00806_flair.nii.gz   \n",
       "1247  BraTS2021_01430/BraTS2021_01430_flair.nii.gz   \n",
       "1248  BraTS2021_00060/BraTS2021_00060_flair.nii.gz   \n",
       "1249  BraTS2021_01385/BraTS2021_01385_flair.nii.gz   \n",
       "1250  BraTS2021_01321/BraTS2021_01321_flair.nii.gz   \n",
       "\n",
       "                                         segPath  is_train_test  \n",
       "0     BraTS2021_01483/BraTS2021_01483_seg.nii.gz          train  \n",
       "1     BraTS2021_01480/BraTS2021_01480_seg.nii.gz          train  \n",
       "2     BraTS2021_01350/BraTS2021_01350_seg.nii.gz          train  \n",
       "3     BraTS2021_01551/BraTS2021_01551_seg.nii.gz          train  \n",
       "4     BraTS2021_01439/BraTS2021_01439_seg.nii.gz          train  \n",
       "...                                          ...            ...  \n",
       "1246  BraTS2021_00806/BraTS2021_00806_seg.nii.gz          valid  \n",
       "1247  BraTS2021_01430/BraTS2021_01430_seg.nii.gz          valid  \n",
       "1248  BraTS2021_00060/BraTS2021_00060_seg.nii.gz          valid  \n",
       "1249  BraTS2021_01385/BraTS2021_01385_seg.nii.gz          valid  \n",
       "1250  BraTS2021_01321/BraTS2021_01321_seg.nii.gz          valid  \n",
       "\n",
       "[1251 rows x 27 columns]"
      ]
     },
     "execution_count": 4,
     "metadata": {},
     "output_type": "execute_result"
    }
   ],
   "source": [
    "pd.set_option('display.max_colwidth', None)\n",
    "data_rpath = '/home/mmiv-ml/data'\n",
    "dataInferrpath = '/raid/brats2021/RSNA_ASNR_MICCAI_BraTS2021_TrainingData'\n",
    "brainRMaskpath = '/raid/brats2021/T1wx4Brain_ROIs'\n",
    "csvPath = '/home/mmiv-ml/saruarlive/tumorSeg21/assets/Brats21PlusMetaDF_14Jul21.csv'\n",
    "dfBrats2021Training = pd.read_csv(csvPath)\n",
    "dfBrats2021Training"
   ]
  },
  {
   "cell_type": "code",
   "execution_count": 5,
   "metadata": {},
   "outputs": [
    {
     "data": {
      "text/html": [
       "<div>\n",
       "<style scoped>\n",
       "    .dataframe tbody tr th:only-of-type {\n",
       "        vertical-align: middle;\n",
       "    }\n",
       "\n",
       "    .dataframe tbody tr th {\n",
       "        vertical-align: top;\n",
       "    }\n",
       "\n",
       "    .dataframe thead th {\n",
       "        text-align: right;\n",
       "    }\n",
       "</style>\n",
       "<table border=\"1\" class=\"dataframe\">\n",
       "  <thead>\n",
       "    <tr style=\"text-align: right;\">\n",
       "      <th></th>\n",
       "      <th>BraTS21ID</th>\n",
       "      <th>WTVol</th>\n",
       "      <th>TCVol</th>\n",
       "      <th>ETVol</th>\n",
       "      <th>EDVol</th>\n",
       "      <th>NECVol</th>\n",
       "      <th>WT_CoordX</th>\n",
       "      <th>WT_CoordY</th>\n",
       "      <th>WT_CoordZ</th>\n",
       "      <th>TC_CoordX</th>\n",
       "      <th>...</th>\n",
       "      <th>ED_CoordZ</th>\n",
       "      <th>NEC_CoordX</th>\n",
       "      <th>NEC_CoordY</th>\n",
       "      <th>NEC_CoordZ</th>\n",
       "      <th>t1wPath</th>\n",
       "      <th>t1cwPath</th>\n",
       "      <th>t2wPath</th>\n",
       "      <th>flairPath</th>\n",
       "      <th>segPath</th>\n",
       "      <th>is_train_test</th>\n",
       "    </tr>\n",
       "  </thead>\n",
       "  <tbody>\n",
       "    <tr>\n",
       "      <th>68</th>\n",
       "      <td>BraTS2021_01476</td>\n",
       "      <td>51173</td>\n",
       "      <td>23413</td>\n",
       "      <td>224</td>\n",
       "      <td>27760</td>\n",
       "      <td>23189</td>\n",
       "      <td>87.429015</td>\n",
       "      <td>119.159127</td>\n",
       "      <td>76.346413</td>\n",
       "      <td>86.156195</td>\n",
       "      <td>...</td>\n",
       "      <td>76.782601</td>\n",
       "      <td>86.219802</td>\n",
       "      <td>119.926431</td>\n",
       "      <td>75.855449</td>\n",
       "      <td>/raid/brats2021/RSNA_ASNR_MICCAI_BraTS2021_TrainingData/BraTS2021_01476/BraTS2021_01476_t1.nii.gz</td>\n",
       "      <td>/raid/brats2021/RSNA_ASNR_MICCAI_BraTS2021_TrainingData/BraTS2021_01476/BraTS2021_01476_t1ce.nii.gz</td>\n",
       "      <td>/raid/brats2021/RSNA_ASNR_MICCAI_BraTS2021_TrainingData/BraTS2021_01476/BraTS2021_01476_t2.nii.gz</td>\n",
       "      <td>/raid/brats2021/RSNA_ASNR_MICCAI_BraTS2021_TrainingData/BraTS2021_01476/BraTS2021_01476_flair.nii.gz</td>\n",
       "      <td>/raid/brats2021/RSNA_ASNR_MICCAI_BraTS2021_TrainingData/BraTS2021_01476/BraTS2021_01476_seg.nii.gz</td>\n",
       "      <td>train</td>\n",
       "    </tr>\n",
       "    <tr>\n",
       "      <th>843</th>\n",
       "      <td>BraTS2021_00818</td>\n",
       "      <td>146677</td>\n",
       "      <td>72231</td>\n",
       "      <td>46428</td>\n",
       "      <td>74446</td>\n",
       "      <td>25803</td>\n",
       "      <td>89.207326</td>\n",
       "      <td>159.983269</td>\n",
       "      <td>95.963007</td>\n",
       "      <td>86.028049</td>\n",
       "      <td>...</td>\n",
       "      <td>94.874701</td>\n",
       "      <td>85.567647</td>\n",
       "      <td>160.782700</td>\n",
       "      <td>98.102973</td>\n",
       "      <td>/raid/brats2021/RSNA_ASNR_MICCAI_BraTS2021_TrainingData/BraTS2021_00818/BraTS2021_00818_t1.nii.gz</td>\n",
       "      <td>/raid/brats2021/RSNA_ASNR_MICCAI_BraTS2021_TrainingData/BraTS2021_00818/BraTS2021_00818_t1ce.nii.gz</td>\n",
       "      <td>/raid/brats2021/RSNA_ASNR_MICCAI_BraTS2021_TrainingData/BraTS2021_00818/BraTS2021_00818_t2.nii.gz</td>\n",
       "      <td>/raid/brats2021/RSNA_ASNR_MICCAI_BraTS2021_TrainingData/BraTS2021_00818/BraTS2021_00818_flair.nii.gz</td>\n",
       "      <td>/raid/brats2021/RSNA_ASNR_MICCAI_BraTS2021_TrainingData/BraTS2021_00818/BraTS2021_00818_seg.nii.gz</td>\n",
       "      <td>train</td>\n",
       "    </tr>\n",
       "    <tr>\n",
       "      <th>868</th>\n",
       "      <td>BraTS2021_00809</td>\n",
       "      <td>182713</td>\n",
       "      <td>58722</td>\n",
       "      <td>51979</td>\n",
       "      <td>123991</td>\n",
       "      <td>6743</td>\n",
       "      <td>159.525168</td>\n",
       "      <td>132.562872</td>\n",
       "      <td>62.308030</td>\n",
       "      <td>162.423231</td>\n",
       "      <td>...</td>\n",
       "      <td>68.942254</td>\n",
       "      <td>162.284888</td>\n",
       "      <td>118.270058</td>\n",
       "      <td>43.627614</td>\n",
       "      <td>/raid/brats2021/RSNA_ASNR_MICCAI_BraTS2021_TrainingData/BraTS2021_00809/BraTS2021_00809_t1.nii.gz</td>\n",
       "      <td>/raid/brats2021/RSNA_ASNR_MICCAI_BraTS2021_TrainingData/BraTS2021_00809/BraTS2021_00809_t1ce.nii.gz</td>\n",
       "      <td>/raid/brats2021/RSNA_ASNR_MICCAI_BraTS2021_TrainingData/BraTS2021_00809/BraTS2021_00809_t2.nii.gz</td>\n",
       "      <td>/raid/brats2021/RSNA_ASNR_MICCAI_BraTS2021_TrainingData/BraTS2021_00809/BraTS2021_00809_flair.nii.gz</td>\n",
       "      <td>/raid/brats2021/RSNA_ASNR_MICCAI_BraTS2021_TrainingData/BraTS2021_00809/BraTS2021_00809_seg.nii.gz</td>\n",
       "      <td>train</td>\n",
       "    </tr>\n",
       "    <tr>\n",
       "      <th>443</th>\n",
       "      <td>BraTS2021_00730</td>\n",
       "      <td>78169</td>\n",
       "      <td>22314</td>\n",
       "      <td>17569</td>\n",
       "      <td>55855</td>\n",
       "      <td>4745</td>\n",
       "      <td>88.020980</td>\n",
       "      <td>137.273868</td>\n",
       "      <td>105.547020</td>\n",
       "      <td>88.801291</td>\n",
       "      <td>...</td>\n",
       "      <td>102.193179</td>\n",
       "      <td>88.137408</td>\n",
       "      <td>148.025079</td>\n",
       "      <td>114.029505</td>\n",
       "      <td>/raid/brats2021/RSNA_ASNR_MICCAI_BraTS2021_TrainingData/BraTS2021_00730/BraTS2021_00730_t1.nii.gz</td>\n",
       "      <td>/raid/brats2021/RSNA_ASNR_MICCAI_BraTS2021_TrainingData/BraTS2021_00730/BraTS2021_00730_t1ce.nii.gz</td>\n",
       "      <td>/raid/brats2021/RSNA_ASNR_MICCAI_BraTS2021_TrainingData/BraTS2021_00730/BraTS2021_00730_t2.nii.gz</td>\n",
       "      <td>/raid/brats2021/RSNA_ASNR_MICCAI_BraTS2021_TrainingData/BraTS2021_00730/BraTS2021_00730_flair.nii.gz</td>\n",
       "      <td>/raid/brats2021/RSNA_ASNR_MICCAI_BraTS2021_TrainingData/BraTS2021_00730/BraTS2021_00730_seg.nii.gz</td>\n",
       "      <td>train</td>\n",
       "    </tr>\n",
       "    <tr>\n",
       "      <th>102</th>\n",
       "      <td>BraTS2021_01556</td>\n",
       "      <td>41800</td>\n",
       "      <td>6656</td>\n",
       "      <td>3427</td>\n",
       "      <td>35144</td>\n",
       "      <td>3229</td>\n",
       "      <td>144.838493</td>\n",
       "      <td>127.864450</td>\n",
       "      <td>51.955933</td>\n",
       "      <td>144.545823</td>\n",
       "      <td>...</td>\n",
       "      <td>51.815246</td>\n",
       "      <td>144.028492</td>\n",
       "      <td>141.158253</td>\n",
       "      <td>52.869309</td>\n",
       "      <td>/raid/brats2021/RSNA_ASNR_MICCAI_BraTS2021_TrainingData/BraTS2021_01556/BraTS2021_01556_t1.nii.gz</td>\n",
       "      <td>/raid/brats2021/RSNA_ASNR_MICCAI_BraTS2021_TrainingData/BraTS2021_01556/BraTS2021_01556_t1ce.nii.gz</td>\n",
       "      <td>/raid/brats2021/RSNA_ASNR_MICCAI_BraTS2021_TrainingData/BraTS2021_01556/BraTS2021_01556_t2.nii.gz</td>\n",
       "      <td>/raid/brats2021/RSNA_ASNR_MICCAI_BraTS2021_TrainingData/BraTS2021_01556/BraTS2021_01556_flair.nii.gz</td>\n",
       "      <td>/raid/brats2021/RSNA_ASNR_MICCAI_BraTS2021_TrainingData/BraTS2021_01556/BraTS2021_01556_seg.nii.gz</td>\n",
       "      <td>train</td>\n",
       "    </tr>\n",
       "    <tr>\n",
       "      <th>...</th>\n",
       "      <td>...</td>\n",
       "      <td>...</td>\n",
       "      <td>...</td>\n",
       "      <td>...</td>\n",
       "      <td>...</td>\n",
       "      <td>...</td>\n",
       "      <td>...</td>\n",
       "      <td>...</td>\n",
       "      <td>...</td>\n",
       "      <td>...</td>\n",
       "      <td>...</td>\n",
       "      <td>...</td>\n",
       "      <td>...</td>\n",
       "      <td>...</td>\n",
       "      <td>...</td>\n",
       "      <td>...</td>\n",
       "      <td>...</td>\n",
       "      <td>...</td>\n",
       "      <td>...</td>\n",
       "      <td>...</td>\n",
       "      <td>...</td>\n",
       "    </tr>\n",
       "    <tr>\n",
       "      <th>373</th>\n",
       "      <td>BraTS2021_00517</td>\n",
       "      <td>142604</td>\n",
       "      <td>13486</td>\n",
       "      <td>13165</td>\n",
       "      <td>129118</td>\n",
       "      <td>321</td>\n",
       "      <td>94.668431</td>\n",
       "      <td>152.921804</td>\n",
       "      <td>85.580068</td>\n",
       "      <td>101.276064</td>\n",
       "      <td>...</td>\n",
       "      <td>86.247951</td>\n",
       "      <td>100.074766</td>\n",
       "      <td>142.436137</td>\n",
       "      <td>77.383178</td>\n",
       "      <td>/raid/brats2021/RSNA_ASNR_MICCAI_BraTS2021_TrainingData/BraTS2021_00517/BraTS2021_00517_t1.nii.gz</td>\n",
       "      <td>/raid/brats2021/RSNA_ASNR_MICCAI_BraTS2021_TrainingData/BraTS2021_00517/BraTS2021_00517_t1ce.nii.gz</td>\n",
       "      <td>/raid/brats2021/RSNA_ASNR_MICCAI_BraTS2021_TrainingData/BraTS2021_00517/BraTS2021_00517_t2.nii.gz</td>\n",
       "      <td>/raid/brats2021/RSNA_ASNR_MICCAI_BraTS2021_TrainingData/BraTS2021_00517/BraTS2021_00517_flair.nii.gz</td>\n",
       "      <td>/raid/brats2021/RSNA_ASNR_MICCAI_BraTS2021_TrainingData/BraTS2021_00517/BraTS2021_00517_seg.nii.gz</td>\n",
       "      <td>train</td>\n",
       "    </tr>\n",
       "    <tr>\n",
       "      <th>513</th>\n",
       "      <td>BraTS2021_01415</td>\n",
       "      <td>80679</td>\n",
       "      <td>45264</td>\n",
       "      <td>18352</td>\n",
       "      <td>35415</td>\n",
       "      <td>26912</td>\n",
       "      <td>84.642435</td>\n",
       "      <td>168.314617</td>\n",
       "      <td>92.592199</td>\n",
       "      <td>79.526401</td>\n",
       "      <td>...</td>\n",
       "      <td>95.463532</td>\n",
       "      <td>79.866677</td>\n",
       "      <td>166.151234</td>\n",
       "      <td>91.743497</td>\n",
       "      <td>/raid/brats2021/RSNA_ASNR_MICCAI_BraTS2021_TrainingData/BraTS2021_01415/BraTS2021_01415_t1.nii.gz</td>\n",
       "      <td>/raid/brats2021/RSNA_ASNR_MICCAI_BraTS2021_TrainingData/BraTS2021_01415/BraTS2021_01415_t1ce.nii.gz</td>\n",
       "      <td>/raid/brats2021/RSNA_ASNR_MICCAI_BraTS2021_TrainingData/BraTS2021_01415/BraTS2021_01415_t2.nii.gz</td>\n",
       "      <td>/raid/brats2021/RSNA_ASNR_MICCAI_BraTS2021_TrainingData/BraTS2021_01415/BraTS2021_01415_flair.nii.gz</td>\n",
       "      <td>/raid/brats2021/RSNA_ASNR_MICCAI_BraTS2021_TrainingData/BraTS2021_01415/BraTS2021_01415_seg.nii.gz</td>\n",
       "      <td>train</td>\n",
       "    </tr>\n",
       "    <tr>\n",
       "      <th>897</th>\n",
       "      <td>BraTS2021_00143</td>\n",
       "      <td>162623</td>\n",
       "      <td>79535</td>\n",
       "      <td>63709</td>\n",
       "      <td>83088</td>\n",
       "      <td>15826</td>\n",
       "      <td>82.762291</td>\n",
       "      <td>132.659199</td>\n",
       "      <td>69.949429</td>\n",
       "      <td>76.541761</td>\n",
       "      <td>...</td>\n",
       "      <td>78.427041</td>\n",
       "      <td>76.911791</td>\n",
       "      <td>121.506761</td>\n",
       "      <td>60.745356</td>\n",
       "      <td>/raid/brats2021/RSNA_ASNR_MICCAI_BraTS2021_TrainingData/BraTS2021_00143/BraTS2021_00143_t1.nii.gz</td>\n",
       "      <td>/raid/brats2021/RSNA_ASNR_MICCAI_BraTS2021_TrainingData/BraTS2021_00143/BraTS2021_00143_t1ce.nii.gz</td>\n",
       "      <td>/raid/brats2021/RSNA_ASNR_MICCAI_BraTS2021_TrainingData/BraTS2021_00143/BraTS2021_00143_t2.nii.gz</td>\n",
       "      <td>/raid/brats2021/RSNA_ASNR_MICCAI_BraTS2021_TrainingData/BraTS2021_00143/BraTS2021_00143_flair.nii.gz</td>\n",
       "      <td>/raid/brats2021/RSNA_ASNR_MICCAI_BraTS2021_TrainingData/BraTS2021_00143/BraTS2021_00143_seg.nii.gz</td>\n",
       "      <td>train</td>\n",
       "    </tr>\n",
       "    <tr>\n",
       "      <th>709</th>\n",
       "      <td>BraTS2021_01241</td>\n",
       "      <td>132682</td>\n",
       "      <td>62246</td>\n",
       "      <td>32001</td>\n",
       "      <td>70436</td>\n",
       "      <td>30245</td>\n",
       "      <td>125.571720</td>\n",
       "      <td>89.891749</td>\n",
       "      <td>81.888990</td>\n",
       "      <td>123.888009</td>\n",
       "      <td>...</td>\n",
       "      <td>81.407505</td>\n",
       "      <td>121.946636</td>\n",
       "      <td>92.576360</td>\n",
       "      <td>82.873897</td>\n",
       "      <td>/raid/brats2021/RSNA_ASNR_MICCAI_BraTS2021_TrainingData/BraTS2021_01241/BraTS2021_01241_t1.nii.gz</td>\n",
       "      <td>/raid/brats2021/RSNA_ASNR_MICCAI_BraTS2021_TrainingData/BraTS2021_01241/BraTS2021_01241_t1ce.nii.gz</td>\n",
       "      <td>/raid/brats2021/RSNA_ASNR_MICCAI_BraTS2021_TrainingData/BraTS2021_01241/BraTS2021_01241_t2.nii.gz</td>\n",
       "      <td>/raid/brats2021/RSNA_ASNR_MICCAI_BraTS2021_TrainingData/BraTS2021_01241/BraTS2021_01241_flair.nii.gz</td>\n",
       "      <td>/raid/brats2021/RSNA_ASNR_MICCAI_BraTS2021_TrainingData/BraTS2021_01241/BraTS2021_01241_seg.nii.gz</td>\n",
       "      <td>train</td>\n",
       "    </tr>\n",
       "    <tr>\n",
       "      <th>203</th>\n",
       "      <td>BraTS2021_01396</td>\n",
       "      <td>84001</td>\n",
       "      <td>11383</td>\n",
       "      <td>7835</td>\n",
       "      <td>72618</td>\n",
       "      <td>3548</td>\n",
       "      <td>150.295544</td>\n",
       "      <td>176.101630</td>\n",
       "      <td>80.706658</td>\n",
       "      <td>153.236932</td>\n",
       "      <td>...</td>\n",
       "      <td>80.816781</td>\n",
       "      <td>154.456877</td>\n",
       "      <td>185.506201</td>\n",
       "      <td>78.674183</td>\n",
       "      <td>/raid/brats2021/RSNA_ASNR_MICCAI_BraTS2021_TrainingData/BraTS2021_01396/BraTS2021_01396_t1.nii.gz</td>\n",
       "      <td>/raid/brats2021/RSNA_ASNR_MICCAI_BraTS2021_TrainingData/BraTS2021_01396/BraTS2021_01396_t1ce.nii.gz</td>\n",
       "      <td>/raid/brats2021/RSNA_ASNR_MICCAI_BraTS2021_TrainingData/BraTS2021_01396/BraTS2021_01396_t2.nii.gz</td>\n",
       "      <td>/raid/brats2021/RSNA_ASNR_MICCAI_BraTS2021_TrainingData/BraTS2021_01396/BraTS2021_01396_flair.nii.gz</td>\n",
       "      <td>/raid/brats2021/RSNA_ASNR_MICCAI_BraTS2021_TrainingData/BraTS2021_01396/BraTS2021_01396_seg.nii.gz</td>\n",
       "      <td>train</td>\n",
       "    </tr>\n",
       "  </tbody>\n",
       "</table>\n",
       "<p>1251 rows × 27 columns</p>\n",
       "</div>"
      ],
      "text/plain": [
       "           BraTS21ID   WTVol  TCVol  ETVol   EDVol  NECVol   WT_CoordX  \\\n",
       "68   BraTS2021_01476   51173  23413    224   27760   23189   87.429015   \n",
       "843  BraTS2021_00818  146677  72231  46428   74446   25803   89.207326   \n",
       "868  BraTS2021_00809  182713  58722  51979  123991    6743  159.525168   \n",
       "443  BraTS2021_00730   78169  22314  17569   55855    4745   88.020980   \n",
       "102  BraTS2021_01556   41800   6656   3427   35144    3229  144.838493   \n",
       "..               ...     ...    ...    ...     ...     ...         ...   \n",
       "373  BraTS2021_00517  142604  13486  13165  129118     321   94.668431   \n",
       "513  BraTS2021_01415   80679  45264  18352   35415   26912   84.642435   \n",
       "897  BraTS2021_00143  162623  79535  63709   83088   15826   82.762291   \n",
       "709  BraTS2021_01241  132682  62246  32001   70436   30245  125.571720   \n",
       "203  BraTS2021_01396   84001  11383   7835   72618    3548  150.295544   \n",
       "\n",
       "      WT_CoordY   WT_CoordZ   TC_CoordX  ...   ED_CoordZ  NEC_CoordX  \\\n",
       "68   119.159127   76.346413   86.156195  ...   76.782601   86.219802   \n",
       "843  159.983269   95.963007   86.028049  ...   94.874701   85.567647   \n",
       "868  132.562872   62.308030  162.423231  ...   68.942254  162.284888   \n",
       "443  137.273868  105.547020   88.801291  ...  102.193179   88.137408   \n",
       "102  127.864450   51.955933  144.545823  ...   51.815246  144.028492   \n",
       "..          ...         ...         ...  ...         ...         ...   \n",
       "373  152.921804   85.580068  101.276064  ...   86.247951  100.074766   \n",
       "513  168.314617   92.592199   79.526401  ...   95.463532   79.866677   \n",
       "897  132.659199   69.949429   76.541761  ...   78.427041   76.911791   \n",
       "709   89.891749   81.888990  123.888009  ...   81.407505  121.946636   \n",
       "203  176.101630   80.706658  153.236932  ...   80.816781  154.456877   \n",
       "\n",
       "     NEC_CoordY  NEC_CoordZ  \\\n",
       "68   119.926431   75.855449   \n",
       "843  160.782700   98.102973   \n",
       "868  118.270058   43.627614   \n",
       "443  148.025079  114.029505   \n",
       "102  141.158253   52.869309   \n",
       "..          ...         ...   \n",
       "373  142.436137   77.383178   \n",
       "513  166.151234   91.743497   \n",
       "897  121.506761   60.745356   \n",
       "709   92.576360   82.873897   \n",
       "203  185.506201   78.674183   \n",
       "\n",
       "                                                                                               t1wPath  \\\n",
       "68   /raid/brats2021/RSNA_ASNR_MICCAI_BraTS2021_TrainingData/BraTS2021_01476/BraTS2021_01476_t1.nii.gz   \n",
       "843  /raid/brats2021/RSNA_ASNR_MICCAI_BraTS2021_TrainingData/BraTS2021_00818/BraTS2021_00818_t1.nii.gz   \n",
       "868  /raid/brats2021/RSNA_ASNR_MICCAI_BraTS2021_TrainingData/BraTS2021_00809/BraTS2021_00809_t1.nii.gz   \n",
       "443  /raid/brats2021/RSNA_ASNR_MICCAI_BraTS2021_TrainingData/BraTS2021_00730/BraTS2021_00730_t1.nii.gz   \n",
       "102  /raid/brats2021/RSNA_ASNR_MICCAI_BraTS2021_TrainingData/BraTS2021_01556/BraTS2021_01556_t1.nii.gz   \n",
       "..                                                                                                 ...   \n",
       "373  /raid/brats2021/RSNA_ASNR_MICCAI_BraTS2021_TrainingData/BraTS2021_00517/BraTS2021_00517_t1.nii.gz   \n",
       "513  /raid/brats2021/RSNA_ASNR_MICCAI_BraTS2021_TrainingData/BraTS2021_01415/BraTS2021_01415_t1.nii.gz   \n",
       "897  /raid/brats2021/RSNA_ASNR_MICCAI_BraTS2021_TrainingData/BraTS2021_00143/BraTS2021_00143_t1.nii.gz   \n",
       "709  /raid/brats2021/RSNA_ASNR_MICCAI_BraTS2021_TrainingData/BraTS2021_01241/BraTS2021_01241_t1.nii.gz   \n",
       "203  /raid/brats2021/RSNA_ASNR_MICCAI_BraTS2021_TrainingData/BraTS2021_01396/BraTS2021_01396_t1.nii.gz   \n",
       "\n",
       "                                                                                                t1cwPath  \\\n",
       "68   /raid/brats2021/RSNA_ASNR_MICCAI_BraTS2021_TrainingData/BraTS2021_01476/BraTS2021_01476_t1ce.nii.gz   \n",
       "843  /raid/brats2021/RSNA_ASNR_MICCAI_BraTS2021_TrainingData/BraTS2021_00818/BraTS2021_00818_t1ce.nii.gz   \n",
       "868  /raid/brats2021/RSNA_ASNR_MICCAI_BraTS2021_TrainingData/BraTS2021_00809/BraTS2021_00809_t1ce.nii.gz   \n",
       "443  /raid/brats2021/RSNA_ASNR_MICCAI_BraTS2021_TrainingData/BraTS2021_00730/BraTS2021_00730_t1ce.nii.gz   \n",
       "102  /raid/brats2021/RSNA_ASNR_MICCAI_BraTS2021_TrainingData/BraTS2021_01556/BraTS2021_01556_t1ce.nii.gz   \n",
       "..                                                                                                   ...   \n",
       "373  /raid/brats2021/RSNA_ASNR_MICCAI_BraTS2021_TrainingData/BraTS2021_00517/BraTS2021_00517_t1ce.nii.gz   \n",
       "513  /raid/brats2021/RSNA_ASNR_MICCAI_BraTS2021_TrainingData/BraTS2021_01415/BraTS2021_01415_t1ce.nii.gz   \n",
       "897  /raid/brats2021/RSNA_ASNR_MICCAI_BraTS2021_TrainingData/BraTS2021_00143/BraTS2021_00143_t1ce.nii.gz   \n",
       "709  /raid/brats2021/RSNA_ASNR_MICCAI_BraTS2021_TrainingData/BraTS2021_01241/BraTS2021_01241_t1ce.nii.gz   \n",
       "203  /raid/brats2021/RSNA_ASNR_MICCAI_BraTS2021_TrainingData/BraTS2021_01396/BraTS2021_01396_t1ce.nii.gz   \n",
       "\n",
       "                                                                                               t2wPath  \\\n",
       "68   /raid/brats2021/RSNA_ASNR_MICCAI_BraTS2021_TrainingData/BraTS2021_01476/BraTS2021_01476_t2.nii.gz   \n",
       "843  /raid/brats2021/RSNA_ASNR_MICCAI_BraTS2021_TrainingData/BraTS2021_00818/BraTS2021_00818_t2.nii.gz   \n",
       "868  /raid/brats2021/RSNA_ASNR_MICCAI_BraTS2021_TrainingData/BraTS2021_00809/BraTS2021_00809_t2.nii.gz   \n",
       "443  /raid/brats2021/RSNA_ASNR_MICCAI_BraTS2021_TrainingData/BraTS2021_00730/BraTS2021_00730_t2.nii.gz   \n",
       "102  /raid/brats2021/RSNA_ASNR_MICCAI_BraTS2021_TrainingData/BraTS2021_01556/BraTS2021_01556_t2.nii.gz   \n",
       "..                                                                                                 ...   \n",
       "373  /raid/brats2021/RSNA_ASNR_MICCAI_BraTS2021_TrainingData/BraTS2021_00517/BraTS2021_00517_t2.nii.gz   \n",
       "513  /raid/brats2021/RSNA_ASNR_MICCAI_BraTS2021_TrainingData/BraTS2021_01415/BraTS2021_01415_t2.nii.gz   \n",
       "897  /raid/brats2021/RSNA_ASNR_MICCAI_BraTS2021_TrainingData/BraTS2021_00143/BraTS2021_00143_t2.nii.gz   \n",
       "709  /raid/brats2021/RSNA_ASNR_MICCAI_BraTS2021_TrainingData/BraTS2021_01241/BraTS2021_01241_t2.nii.gz   \n",
       "203  /raid/brats2021/RSNA_ASNR_MICCAI_BraTS2021_TrainingData/BraTS2021_01396/BraTS2021_01396_t2.nii.gz   \n",
       "\n",
       "                                                                                                flairPath  \\\n",
       "68   /raid/brats2021/RSNA_ASNR_MICCAI_BraTS2021_TrainingData/BraTS2021_01476/BraTS2021_01476_flair.nii.gz   \n",
       "843  /raid/brats2021/RSNA_ASNR_MICCAI_BraTS2021_TrainingData/BraTS2021_00818/BraTS2021_00818_flair.nii.gz   \n",
       "868  /raid/brats2021/RSNA_ASNR_MICCAI_BraTS2021_TrainingData/BraTS2021_00809/BraTS2021_00809_flair.nii.gz   \n",
       "443  /raid/brats2021/RSNA_ASNR_MICCAI_BraTS2021_TrainingData/BraTS2021_00730/BraTS2021_00730_flair.nii.gz   \n",
       "102  /raid/brats2021/RSNA_ASNR_MICCAI_BraTS2021_TrainingData/BraTS2021_01556/BraTS2021_01556_flair.nii.gz   \n",
       "..                                                                                                    ...   \n",
       "373  /raid/brats2021/RSNA_ASNR_MICCAI_BraTS2021_TrainingData/BraTS2021_00517/BraTS2021_00517_flair.nii.gz   \n",
       "513  /raid/brats2021/RSNA_ASNR_MICCAI_BraTS2021_TrainingData/BraTS2021_01415/BraTS2021_01415_flair.nii.gz   \n",
       "897  /raid/brats2021/RSNA_ASNR_MICCAI_BraTS2021_TrainingData/BraTS2021_00143/BraTS2021_00143_flair.nii.gz   \n",
       "709  /raid/brats2021/RSNA_ASNR_MICCAI_BraTS2021_TrainingData/BraTS2021_01241/BraTS2021_01241_flair.nii.gz   \n",
       "203  /raid/brats2021/RSNA_ASNR_MICCAI_BraTS2021_TrainingData/BraTS2021_01396/BraTS2021_01396_flair.nii.gz   \n",
       "\n",
       "                                                                                                segPath  \\\n",
       "68   /raid/brats2021/RSNA_ASNR_MICCAI_BraTS2021_TrainingData/BraTS2021_01476/BraTS2021_01476_seg.nii.gz   \n",
       "843  /raid/brats2021/RSNA_ASNR_MICCAI_BraTS2021_TrainingData/BraTS2021_00818/BraTS2021_00818_seg.nii.gz   \n",
       "868  /raid/brats2021/RSNA_ASNR_MICCAI_BraTS2021_TrainingData/BraTS2021_00809/BraTS2021_00809_seg.nii.gz   \n",
       "443  /raid/brats2021/RSNA_ASNR_MICCAI_BraTS2021_TrainingData/BraTS2021_00730/BraTS2021_00730_seg.nii.gz   \n",
       "102  /raid/brats2021/RSNA_ASNR_MICCAI_BraTS2021_TrainingData/BraTS2021_01556/BraTS2021_01556_seg.nii.gz   \n",
       "..                                                                                                  ...   \n",
       "373  /raid/brats2021/RSNA_ASNR_MICCAI_BraTS2021_TrainingData/BraTS2021_00517/BraTS2021_00517_seg.nii.gz   \n",
       "513  /raid/brats2021/RSNA_ASNR_MICCAI_BraTS2021_TrainingData/BraTS2021_01415/BraTS2021_01415_seg.nii.gz   \n",
       "897  /raid/brats2021/RSNA_ASNR_MICCAI_BraTS2021_TrainingData/BraTS2021_00143/BraTS2021_00143_seg.nii.gz   \n",
       "709  /raid/brats2021/RSNA_ASNR_MICCAI_BraTS2021_TrainingData/BraTS2021_01241/BraTS2021_01241_seg.nii.gz   \n",
       "203  /raid/brats2021/RSNA_ASNR_MICCAI_BraTS2021_TrainingData/BraTS2021_01396/BraTS2021_01396_seg.nii.gz   \n",
       "\n",
       "     is_train_test  \n",
       "68           train  \n",
       "843          train  \n",
       "868          train  \n",
       "443          train  \n",
       "102          train  \n",
       "..             ...  \n",
       "373          train  \n",
       "513          train  \n",
       "897          train  \n",
       "709          train  \n",
       "203          train  \n",
       "\n",
       "[1251 rows x 27 columns]"
      ]
     },
     "metadata": {},
     "output_type": "display_data"
    }
   ],
   "source": [
    "chnSeglst = ['t1wPath','t1cwPath', 't2wPath', 'flairPath', 'segPath']\n",
    "for iname in chnSeglst:\n",
    "    dfBrats2021Training[iname] = dfBrats2021Training[iname].apply(lambda x: glob.glob(os.path.join(dataInferrpath, x))[0])\n",
    "\n",
    "dfBrats2021Training = dfBrats2021Training.sample(frac = 1.0, random_state = seeds)\n",
    "display(dfBrats2021Training)"
   ]
  },
  {
   "cell_type": "code",
   "execution_count": null,
   "metadata": {},
   "outputs": [],
   "source": []
  },
  {
   "cell_type": "code",
   "execution_count": 6,
   "metadata": {},
   "outputs": [
    {
     "name": "stdout",
     "output_type": "stream",
     "text": [
      "/raid/brats2021/T1wx2Brain_ROIs_BraTS21_Validation\n"
     ]
    }
   ],
   "source": [
    "BraTS21_training = False\n",
    "BraTS21_validation = True\n",
    "if BraTS21_training:\n",
    "    t1wMask4save_folder = '/raid/brats2021/T1wx2Brain_ROIs_BraTS21_Training'\n",
    "if BraTS21_validation:\n",
    "    t1wMask4save_folder = '/raid/brats2021/T1wx2Brain_ROIs_BraTS21_Validation'\n",
    "\n",
    "print(t1wMask4save_folder)\n",
    "brain_maskSaverT1wx2 = monai.data.NiftiSaver(output_dir=t1wMask4save_folder, output_postfix='BrainROIT1cwx2', output_ext='.nii.gz', resample=False, separate_folder=True)\n",
    "brain_maskSaver = monai.data.NiftiSaver(output_dir=t1wMask4save_folder, output_postfix='BrainROI', output_ext='.nii.gz', resample=False, separate_folder=True)\n"
   ]
  },
  {
   "cell_type": "code",
   "execution_count": 7,
   "metadata": {},
   "outputs": [
    {
     "name": "stdout",
     "output_type": "stream",
     "text": [
      "1251\n"
     ]
    }
   ],
   "source": [
    "brats21train_files = [{'image': (image_t1cw, image_t2)} \\\n",
    "                   for image_t1cw, image_t2 \\\n",
    "                   in zip(dfBrats2021Training['t1cwPath'], dfBrats2021Training['t2wPath'])]\n",
    "print(len(brats21train_files))"
   ]
  },
  {
   "cell_type": "code",
   "execution_count": 8,
   "metadata": {},
   "outputs": [
    {
     "data": {
      "text/plain": [
       "[{'image': ('/raid/brats2021/RSNA_ASNR_MICCAI_BraTS2021_TrainingData/BraTS2021_01201/BraTS2021_01201_t1ce.nii.gz',\n",
       "   '/raid/brats2021/RSNA_ASNR_MICCAI_BraTS2021_TrainingData/BraTS2021_01201/BraTS2021_01201_t2.nii.gz')},\n",
       " {'image': ('/raid/brats2021/RSNA_ASNR_MICCAI_BraTS2021_TrainingData/BraTS2021_01315/BraTS2021_01315_t1ce.nii.gz',\n",
       "   '/raid/brats2021/RSNA_ASNR_MICCAI_BraTS2021_TrainingData/BraTS2021_01315/BraTS2021_01315_t2.nii.gz')},\n",
       " {'image': ('/raid/brats2021/RSNA_ASNR_MICCAI_BraTS2021_TrainingData/BraTS2021_01010/BraTS2021_01010_t1ce.nii.gz',\n",
       "   '/raid/brats2021/RSNA_ASNR_MICCAI_BraTS2021_TrainingData/BraTS2021_01010/BraTS2021_01010_t2.nii.gz')},\n",
       " {'image': ('/raid/brats2021/RSNA_ASNR_MICCAI_BraTS2021_TrainingData/BraTS2021_01194/BraTS2021_01194_t1ce.nii.gz',\n",
       "   '/raid/brats2021/RSNA_ASNR_MICCAI_BraTS2021_TrainingData/BraTS2021_01194/BraTS2021_01194_t2.nii.gz')},\n",
       " {'image': ('/raid/brats2021/RSNA_ASNR_MICCAI_BraTS2021_TrainingData/BraTS2021_00251/BraTS2021_00251_t1ce.nii.gz',\n",
       "   '/raid/brats2021/RSNA_ASNR_MICCAI_BraTS2021_TrainingData/BraTS2021_00251/BraTS2021_00251_t2.nii.gz')}]"
      ]
     },
     "execution_count": 8,
     "metadata": {},
     "output_type": "execute_result"
    }
   ],
   "source": [
    "brats21train_files[20:25]"
   ]
  },
  {
   "cell_type": "code",
   "execution_count": 9,
   "metadata": {},
   "outputs": [],
   "source": [
    "class CreateBrainMaskT1wx1d(MapTransform):\n",
    "    \n",
    "    \n",
    "    def __init__(\n",
    "        self,\n",
    "        keys: KeysCollection,\n",
    "        image_key = 'image',\n",
    "    ) -> None:\n",
    "        \n",
    "        super().__init__(keys)\n",
    "        self.image_key = image_key\n",
    "        self.keys = ensure_tuple(keys)\n",
    "    \n",
    "    \n",
    "    def __call__(self, data):\n",
    "        d = dict(data)\n",
    "        #ball_struct = morphology.ball(3)\n",
    "        neighb_struct = np.ones((3,3,3))\n",
    "        \n",
    "        \n",
    "        akey_meta_dict = f\"{self.keys[0]}_meta_dict\"\n",
    "        d[self.keys[0]]=np.where(d[self.image_key] != 0, 1, 0).astype(np.uint8)\n",
    "        \n",
    "        #t1wBrainmask = ndimage.binary_closing(d[self.keys[0]][0], structure = neighb_struct).astype(np.uint8)\n",
    "        t1wBrainmask = ndimage.binary_fill_holes(d[self.keys[0]][0], structure = neighb_struct).astype(np.uint8)\n",
    "        #t1wBrainmask = t1wBrainmask[np.newaxis,:, :, :]\n",
    "        t1wBrainmask = np.tile(t1wBrainmask, (2,1,1,1))\n",
    "        \n",
    "        \n",
    "        d[self.keys[0]] = t1wBrainmask\n",
    "        d[f\"{self.keys[0]}_meta_dict\"] = d[f\"{self.image_key}_meta_dict\"].copy()\n",
    "             \n",
    "        \n",
    "        return d"
   ]
  },
  {
   "cell_type": "code",
   "execution_count": 10,
   "metadata": {},
   "outputs": [],
   "source": [
    "class saveMask2file(MapTransform):\n",
    "    \n",
    "    \n",
    "    def __call__(self, data):\n",
    "        \n",
    "        d = dict(data)\n",
    "        \n",
    "        for key in self.keys:\n",
    "\n",
    "            \n",
    "            input_file_path = d[f'{key}_meta_dict']['filename_or_obj']\n",
    "            \n",
    "            asub_id = os.path.basename(os.path.dirname(input_file_path))\n",
    "            \n",
    "\n",
    "        \n",
    "            if not os.path.exists(t1wMask4save_folder):\n",
    "                os.makedirs(t1wMask4save_folder)\n",
    "                \n",
    "            brain_mask_meta_dct = copy.deepcopy(d[f'{key}_meta_dict'])\n",
    "            brain_mask_meta_dct['filename_or_obj'] = os.path.join(t1wMask4save_folder, f\"{asub_id}.nii.gz\")\n",
    "\n",
    "            #pdb.set_trace()\n",
    "            #breakpoint()\n",
    "            brain_maskSaverT1wx2.save(data = d[key], meta_data = brain_mask_meta_dct)\n",
    "            brain_maskSaver.save(data = d[key][0:1,:,:,:], meta_data = brain_mask_meta_dct)\n",
    "            \n",
    "            #pdb.set_trace()\n",
    "\n",
    "            \n",
    "            return d"
   ]
  },
  {
   "cell_type": "code",
   "execution_count": 11,
   "metadata": {},
   "outputs": [],
   "source": [
    "keys = [\"image\"]\n",
    "file_saveMask_transforms = Compose([\n",
    "    LoadImaged(keys=keys, reader = \"NibabelReader\", allow_missing_keys=True),\n",
    "    EnsureChannelFirstd(keys=keys),\n",
    "    #CreateBrainMaskd(keys = \"brain_mask\", image_key = 'image'),\n",
    "    CreateBrainMaskT1wx1d(keys = \"brain_mask\", image_key = 'image'),\n",
    "    saveMask2file(keys = [\"brain_mask\"]),  \n",
    "])\n"
   ]
  },
  {
   "cell_type": "code",
   "execution_count": null,
   "metadata": {},
   "outputs": [],
   "source": []
  },
  {
   "cell_type": "code",
   "execution_count": 12,
   "metadata": {},
   "outputs": [],
   "source": [
    "ds_brats21train_4SaveMask = monai.data.Dataset(data = brats21train_files, transform = file_saveMask_transforms) \n",
    "\n",
    "\n",
    "# for i in range(3):\n",
    "#     print(val_ds_4SaveMask[i]['brain_mask'].shape)\n",
    "    \n",
    "\n",
    "\n",
    "def get_saveMasks(data_ds_ins):\n",
    "    print(f\"BraTS ID: {os.path.basename(os.path.dirname(data_ds_ins['brain_mask_meta_dict']['filename_or_obj']))}\")\n",
    "    return {'BraTSID': os.path.basename(os.path.dirname(data_ds_ins['brain_mask_meta_dict']['filename_or_obj']))}"
   ]
  },
  {
   "cell_type": "code",
   "execution_count": null,
   "metadata": {},
   "outputs": [],
   "source": []
  },
  {
   "cell_type": "code",
   "execution_count": null,
   "metadata": {},
   "outputs": [],
   "source": [
    "ds_brats21train_4SaveMask[0]['brain_mask_meta_dict']"
   ]
  },
  {
   "cell_type": "raw",
   "metadata": {},
   "source": [
    "with mp.Pool(8) as p:\n",
    "    print(p)\n",
    "    MaskedDctList =p.map(get_saveMasks, ds_brats21train_4SaveMask)"
   ]
  },
  {
   "cell_type": "markdown",
   "metadata": {},
   "source": [
    "### If not paralleled"
   ]
  },
  {
   "cell_type": "code",
   "execution_count": null,
   "metadata": {
    "scrolled": true
   },
   "outputs": [],
   "source": [
    "for i in tqdm(range(len(ds_brats21train_4SaveMask))):\n",
    "#for i in tqdm(range(50)):\n",
    "    print(ds_brats21train_4SaveMask[i]['brain_mask'].shape)"
   ]
  },
  {
   "cell_type": "markdown",
   "metadata": {},
   "source": [
    "## Creating masks for BraTS 21/22 dataset"
   ]
  },
  {
   "cell_type": "code",
   "execution_count": 10,
   "metadata": {},
   "outputs": [
    {
     "data": {
      "text/plain": [
       "('/raid/brats2021/RSNA_ASNR_MICCAI_BraTS2021_ValidationData',\n",
       " '/raid/brats2021/T1wx4Brain_ROIs_Validation')"
      ]
     },
     "execution_count": 10,
     "metadata": {},
     "output_type": "execute_result"
    }
   ],
   "source": [
    "val_t1wx4Mask_folder = '/raid/brats2021/T1wx4Brain_ROIs_Validation'\n",
    "val_data_folder = '/raid/brats2021/RSNA_ASNR_MICCAI_BraTS2021_ValidationData'\n",
    "val_data_folder, val_t1wx4Mask_folder"
   ]
  },
  {
   "cell_type": "code",
   "execution_count": 11,
   "metadata": {},
   "outputs": [
    {
     "data": {
      "text/plain": [
       "[{'image': ('/raid/brats2021/RSNA_ASNR_MICCAI_BraTS2021_ValidationData/BraTS2021_00001/BraTS2021_00001_t1ce.nii.gz',\n",
       "   '/raid/brats2021/RSNA_ASNR_MICCAI_BraTS2021_ValidationData/BraTS2021_00001/BraTS2021_00001_t2.nii.gz')},\n",
       " {'image': ('/raid/brats2021/RSNA_ASNR_MICCAI_BraTS2021_ValidationData/BraTS2021_00013/BraTS2021_00013_t1ce.nii.gz',\n",
       "   '/raid/brats2021/RSNA_ASNR_MICCAI_BraTS2021_ValidationData/BraTS2021_00013/BraTS2021_00013_t2.nii.gz')}]"
      ]
     },
     "execution_count": 11,
     "metadata": {},
     "output_type": "execute_result"
    }
   ],
   "source": [
    "val_images21T1ce=sorted(glob.glob(os.path.join(val_data_folder,'*/*_t1ce.nii.gz')))\n",
    "val_images21T2=sorted(glob.glob(os.path.join(val_data_folder,'*/*_t2.nii.gz')))\n",
    "\n",
    "\n",
    "\n",
    "brats21val_infer_files = [{'image': (image_t1cw, image_t2)} \\\n",
    "                   for image_t1cw, image_t2, \\\n",
    "                   in zip(val_images21T1ce, val_images21T2)]\n",
    "#np.random.shuffle(val_infer_files)\n",
    "\n",
    "len(brats21val_infer_files)\n",
    "brats21val_infer_files[0:2]"
   ]
  },
  {
   "cell_type": "code",
   "execution_count": 13,
   "metadata": {},
   "outputs": [
    {
     "data": {
      "text/plain": [
       "219"
      ]
     },
     "execution_count": 13,
     "metadata": {},
     "output_type": "execute_result"
    }
   ],
   "source": [
    "ds_brats21validation_4SaveMask = monai.data.Dataset(data = brats21val_infer_files, transform = file_saveMask_transforms)\n",
    "len(ds_brats21validation_4SaveMask)"
   ]
  },
  {
   "cell_type": "code",
   "execution_count": 14,
   "metadata": {
    "scrolled": true
   },
   "outputs": [
    {
     "name": "stdout",
     "output_type": "stream",
     "text": [
      "file written: /raid/brats2021/T1wx2Brain_ROIs_BraTS21_Validation/BraTS2021_00001/BraTS2021_00001_BrainROIT1cwx2.nii.gz.\n",
      "file written: /raid/brats2021/T1wx2Brain_ROIs_BraTS21_Validation/BraTS2021_00001/BraTS2021_00001_BrainROI.nii.gz.\n"
     ]
    },
    {
     "data": {
      "text/plain": [
       "{'sizeof_hdr': array(348, dtype=int32),\n",
       " 'extents': array(0, dtype=int32),\n",
       " 'session_error': array(0, dtype=int16),\n",
       " 'dim_info': array(0, dtype=uint8),\n",
       " 'dim': array([  3, 240, 240, 155,   1,   1,   1,   1], dtype=int16),\n",
       " 'intent_p1': array(0., dtype=float32),\n",
       " 'intent_p2': array(0., dtype=float32),\n",
       " 'intent_p3': array(0., dtype=float32),\n",
       " 'intent_code': array(0, dtype=int16),\n",
       " 'datatype': array(4, dtype=int16),\n",
       " 'bitpix': array(16, dtype=int16),\n",
       " 'slice_start': array(0, dtype=int16),\n",
       " 'pixdim': array([1., 1., 1., 1., 0., 0., 0., 0.], dtype=float32),\n",
       " 'vox_offset': array(0., dtype=float32),\n",
       " 'scl_slope': array(nan, dtype=float32),\n",
       " 'scl_inter': array(nan, dtype=float32),\n",
       " 'slice_end': array(0, dtype=int16),\n",
       " 'slice_code': array(0, dtype=uint8),\n",
       " 'xyzt_units': array(2, dtype=uint8),\n",
       " 'cal_max': array(0., dtype=float32),\n",
       " 'cal_min': array(0., dtype=float32),\n",
       " 'slice_duration': array(0., dtype=float32),\n",
       " 'toffset': array(0., dtype=float32),\n",
       " 'glmax': array(0, dtype=int32),\n",
       " 'glmin': array(0, dtype=int32),\n",
       " 'qform_code': array(1, dtype=int16),\n",
       " 'sform_code': array(1, dtype=int16),\n",
       " 'quatern_b': array(0., dtype=float32),\n",
       " 'quatern_c': array(0., dtype=float32),\n",
       " 'quatern_d': array(1., dtype=float32),\n",
       " 'qoffset_x': array(0., dtype=float32),\n",
       " 'qoffset_y': array(239., dtype=float32),\n",
       " 'qoffset_z': array(0., dtype=float32),\n",
       " 'srow_x': array([-1., -0., -0.,  0.], dtype=float32),\n",
       " 'srow_y': array([ -0.,  -1.,  -0., 239.], dtype=float32),\n",
       " 'srow_z': array([0., 0., 1., 0.], dtype=float32),\n",
       " 'affine': array([[ -1.,  -0.,  -0.,   0.],\n",
       "        [ -0.,  -1.,  -0., 239.],\n",
       "        [  0.,   0.,   1.,   0.],\n",
       "        [  0.,   0.,   0.,   1.]]),\n",
       " 'original_affine': array([[ -1.,  -0.,  -0.,   0.],\n",
       "        [ -0.,  -1.,  -0., 239.],\n",
       "        [  0.,   0.,   1.,   0.],\n",
       "        [  0.,   0.,   0.,   1.]]),\n",
       " 'as_closest_canonical': False,\n",
       " 'spatial_shape': array([240, 240, 155], dtype=int16),\n",
       " 'original_channel_dim': 0,\n",
       " 'filename_or_obj': '/raid/brats2021/RSNA_ASNR_MICCAI_BraTS2021_ValidationData/BraTS2021_00001/BraTS2021_00001_t1ce.nii.gz'}"
      ]
     },
     "execution_count": 14,
     "metadata": {},
     "output_type": "execute_result"
    }
   ],
   "source": [
    "ds_brats21validation_4SaveMask[0]['brain_mask_meta_dict']"
   ]
  },
  {
   "cell_type": "code",
   "execution_count": 15,
   "metadata": {
    "scrolled": true
   },
   "outputs": [
    {
     "name": "stderr",
     "output_type": "stream",
     "text": [
      "  0%|▋                                                                                                                                              | 1/219 [00:01<06:22,  1.75s/it]"
     ]
    },
    {
     "name": "stdout",
     "output_type": "stream",
     "text": [
      "file written: /raid/brats2021/T1wx2Brain_ROIs_BraTS21_Validation/BraTS2021_00001/BraTS2021_00001_BrainROIT1cwx2.nii.gz.\n",
      "file written: /raid/brats2021/T1wx2Brain_ROIs_BraTS21_Validation/BraTS2021_00001/BraTS2021_00001_BrainROI.nii.gz.\n",
      "(2, 240, 240, 155)\n"
     ]
    },
    {
     "name": "stderr",
     "output_type": "stream",
     "text": [
      "  1%|█▎                                                                                                                                             | 2/219 [00:03<06:24,  1.77s/it]"
     ]
    },
    {
     "name": "stdout",
     "output_type": "stream",
     "text": [
      "file written: /raid/brats2021/T1wx2Brain_ROIs_BraTS21_Validation/BraTS2021_00013/BraTS2021_00013_BrainROIT1cwx2.nii.gz.\n",
      "file written: /raid/brats2021/T1wx2Brain_ROIs_BraTS21_Validation/BraTS2021_00013/BraTS2021_00013_BrainROI.nii.gz.\n",
      "(2, 240, 240, 155)\n"
     ]
    },
    {
     "name": "stderr",
     "output_type": "stream",
     "text": [
      "  1%|█▉                                                                                                                                             | 3/219 [00:05<06:17,  1.75s/it]"
     ]
    },
    {
     "name": "stdout",
     "output_type": "stream",
     "text": [
      "file written: /raid/brats2021/T1wx2Brain_ROIs_BraTS21_Validation/BraTS2021_00015/BraTS2021_00015_BrainROIT1cwx2.nii.gz.\n",
      "file written: /raid/brats2021/T1wx2Brain_ROIs_BraTS21_Validation/BraTS2021_00015/BraTS2021_00015_BrainROI.nii.gz.\n",
      "(2, 240, 240, 155)\n"
     ]
    },
    {
     "name": "stderr",
     "output_type": "stream",
     "text": [
      "  2%|██▌                                                                                                                                            | 4/219 [00:06<06:12,  1.73s/it]"
     ]
    },
    {
     "name": "stdout",
     "output_type": "stream",
     "text": [
      "file written: /raid/brats2021/T1wx2Brain_ROIs_BraTS21_Validation/BraTS2021_00027/BraTS2021_00027_BrainROIT1cwx2.nii.gz.\n",
      "file written: /raid/brats2021/T1wx2Brain_ROIs_BraTS21_Validation/BraTS2021_00027/BraTS2021_00027_BrainROI.nii.gz.\n",
      "(2, 240, 240, 155)\n"
     ]
    },
    {
     "name": "stderr",
     "output_type": "stream",
     "text": [
      "  2%|███▎                                                                                                                                           | 5/219 [00:08<06:12,  1.74s/it]"
     ]
    },
    {
     "name": "stdout",
     "output_type": "stream",
     "text": [
      "file written: /raid/brats2021/T1wx2Brain_ROIs_BraTS21_Validation/BraTS2021_00037/BraTS2021_00037_BrainROIT1cwx2.nii.gz.\n",
      "file written: /raid/brats2021/T1wx2Brain_ROIs_BraTS21_Validation/BraTS2021_00037/BraTS2021_00037_BrainROI.nii.gz.\n",
      "(2, 240, 240, 155)\n"
     ]
    },
    {
     "name": "stderr",
     "output_type": "stream",
     "text": [
      "  3%|███▉                                                                                                                                           | 6/219 [00:10<06:10,  1.74s/it]"
     ]
    },
    {
     "name": "stdout",
     "output_type": "stream",
     "text": [
      "file written: /raid/brats2021/T1wx2Brain_ROIs_BraTS21_Validation/BraTS2021_00047/BraTS2021_00047_BrainROIT1cwx2.nii.gz.\n",
      "file written: /raid/brats2021/T1wx2Brain_ROIs_BraTS21_Validation/BraTS2021_00047/BraTS2021_00047_BrainROI.nii.gz.\n",
      "(2, 240, 240, 155)\n"
     ]
    },
    {
     "name": "stderr",
     "output_type": "stream",
     "text": [
      "  3%|████▌                                                                                                                                          | 7/219 [00:12<06:13,  1.76s/it]"
     ]
    },
    {
     "name": "stdout",
     "output_type": "stream",
     "text": [
      "file written: /raid/brats2021/T1wx2Brain_ROIs_BraTS21_Validation/BraTS2021_00079/BraTS2021_00079_BrainROIT1cwx2.nii.gz.\n",
      "file written: /raid/brats2021/T1wx2Brain_ROIs_BraTS21_Validation/BraTS2021_00079/BraTS2021_00079_BrainROI.nii.gz.\n",
      "(2, 240, 240, 155)\n"
     ]
    },
    {
     "name": "stderr",
     "output_type": "stream",
     "text": [
      "  4%|█████▏                                                                                                                                         | 8/219 [00:13<06:08,  1.75s/it]"
     ]
    },
    {
     "name": "stdout",
     "output_type": "stream",
     "text": [
      "file written: /raid/brats2021/T1wx2Brain_ROIs_BraTS21_Validation/BraTS2021_00080/BraTS2021_00080_BrainROIT1cwx2.nii.gz.\n",
      "file written: /raid/brats2021/T1wx2Brain_ROIs_BraTS21_Validation/BraTS2021_00080/BraTS2021_00080_BrainROI.nii.gz.\n",
      "(2, 240, 240, 155)\n"
     ]
    },
    {
     "name": "stderr",
     "output_type": "stream",
     "text": [
      "  4%|█████▉                                                                                                                                         | 9/219 [00:15<06:07,  1.75s/it]"
     ]
    },
    {
     "name": "stdout",
     "output_type": "stream",
     "text": [
      "file written: /raid/brats2021/T1wx2Brain_ROIs_BraTS21_Validation/BraTS2021_00082/BraTS2021_00082_BrainROIT1cwx2.nii.gz.\n",
      "file written: /raid/brats2021/T1wx2Brain_ROIs_BraTS21_Validation/BraTS2021_00082/BraTS2021_00082_BrainROI.nii.gz.\n",
      "(2, 240, 240, 155)\n"
     ]
    },
    {
     "name": "stderr",
     "output_type": "stream",
     "text": [
      "  5%|██████▍                                                                                                                                       | 10/219 [00:17<06:05,  1.75s/it]"
     ]
    },
    {
     "name": "stdout",
     "output_type": "stream",
     "text": [
      "file written: /raid/brats2021/T1wx2Brain_ROIs_BraTS21_Validation/BraTS2021_00091/BraTS2021_00091_BrainROIT1cwx2.nii.gz.\n",
      "file written: /raid/brats2021/T1wx2Brain_ROIs_BraTS21_Validation/BraTS2021_00091/BraTS2021_00091_BrainROI.nii.gz.\n",
      "(2, 240, 240, 155)\n"
     ]
    },
    {
     "name": "stderr",
     "output_type": "stream",
     "text": [
      "  5%|███████▏                                                                                                                                      | 11/219 [00:19<06:07,  1.77s/it]"
     ]
    },
    {
     "name": "stdout",
     "output_type": "stream",
     "text": [
      "file written: /raid/brats2021/T1wx2Brain_ROIs_BraTS21_Validation/BraTS2021_00114/BraTS2021_00114_BrainROIT1cwx2.nii.gz.\n",
      "file written: /raid/brats2021/T1wx2Brain_ROIs_BraTS21_Validation/BraTS2021_00114/BraTS2021_00114_BrainROI.nii.gz.\n",
      "(2, 240, 240, 155)\n"
     ]
    },
    {
     "name": "stderr",
     "output_type": "stream",
     "text": [
      "  5%|███████▊                                                                                                                                      | 12/219 [00:21<06:04,  1.76s/it]"
     ]
    },
    {
     "name": "stdout",
     "output_type": "stream",
     "text": [
      "file written: /raid/brats2021/T1wx2Brain_ROIs_BraTS21_Validation/BraTS2021_00119/BraTS2021_00119_BrainROIT1cwx2.nii.gz.\n",
      "file written: /raid/brats2021/T1wx2Brain_ROIs_BraTS21_Validation/BraTS2021_00119/BraTS2021_00119_BrainROI.nii.gz.\n",
      "(2, 240, 240, 155)\n"
     ]
    },
    {
     "name": "stderr",
     "output_type": "stream",
     "text": [
      "  6%|████████▍                                                                                                                                     | 13/219 [00:22<06:02,  1.76s/it]"
     ]
    },
    {
     "name": "stdout",
     "output_type": "stream",
     "text": [
      "file written: /raid/brats2021/T1wx2Brain_ROIs_BraTS21_Validation/BraTS2021_00125/BraTS2021_00125_BrainROIT1cwx2.nii.gz.\n",
      "file written: /raid/brats2021/T1wx2Brain_ROIs_BraTS21_Validation/BraTS2021_00125/BraTS2021_00125_BrainROI.nii.gz.\n",
      "(2, 240, 240, 155)\n"
     ]
    },
    {
     "name": "stderr",
     "output_type": "stream",
     "text": [
      "  6%|█████████                                                                                                                                     | 14/219 [00:24<06:00,  1.76s/it]"
     ]
    },
    {
     "name": "stdout",
     "output_type": "stream",
     "text": [
      "file written: /raid/brats2021/T1wx2Brain_ROIs_BraTS21_Validation/BraTS2021_00129/BraTS2021_00129_BrainROIT1cwx2.nii.gz.\n",
      "file written: /raid/brats2021/T1wx2Brain_ROIs_BraTS21_Validation/BraTS2021_00129/BraTS2021_00129_BrainROI.nii.gz.\n",
      "(2, 240, 240, 155)\n"
     ]
    },
    {
     "name": "stderr",
     "output_type": "stream",
     "text": [
      "  7%|█████████▋                                                                                                                                    | 15/219 [00:26<06:04,  1.79s/it]"
     ]
    },
    {
     "name": "stdout",
     "output_type": "stream",
     "text": [
      "file written: /raid/brats2021/T1wx2Brain_ROIs_BraTS21_Validation/BraTS2021_00135/BraTS2021_00135_BrainROIT1cwx2.nii.gz.\n",
      "file written: /raid/brats2021/T1wx2Brain_ROIs_BraTS21_Validation/BraTS2021_00135/BraTS2021_00135_BrainROI.nii.gz.\n",
      "(2, 240, 240, 155)\n"
     ]
    },
    {
     "name": "stderr",
     "output_type": "stream",
     "text": [
      "  7%|██████████▎                                                                                                                                   | 16/219 [00:28<05:59,  1.77s/it]"
     ]
    },
    {
     "name": "stdout",
     "output_type": "stream",
     "text": [
      "file written: /raid/brats2021/T1wx2Brain_ROIs_BraTS21_Validation/BraTS2021_00141/BraTS2021_00141_BrainROIT1cwx2.nii.gz.\n",
      "file written: /raid/brats2021/T1wx2Brain_ROIs_BraTS21_Validation/BraTS2021_00141/BraTS2021_00141_BrainROI.nii.gz.\n",
      "(2, 240, 240, 155)\n"
     ]
    },
    {
     "name": "stderr",
     "output_type": "stream",
     "text": [
      "  8%|███████████                                                                                                                                   | 17/219 [00:29<05:55,  1.76s/it]"
     ]
    },
    {
     "name": "stdout",
     "output_type": "stream",
     "text": [
      "file written: /raid/brats2021/T1wx2Brain_ROIs_BraTS21_Validation/BraTS2021_00145/BraTS2021_00145_BrainROIT1cwx2.nii.gz.\n",
      "file written: /raid/brats2021/T1wx2Brain_ROIs_BraTS21_Validation/BraTS2021_00145/BraTS2021_00145_BrainROI.nii.gz.\n",
      "(2, 240, 240, 155)\n"
     ]
    },
    {
     "name": "stderr",
     "output_type": "stream",
     "text": [
      "  8%|███████████▋                                                                                                                                  | 18/219 [00:31<05:56,  1.78s/it]"
     ]
    },
    {
     "name": "stdout",
     "output_type": "stream",
     "text": [
      "file written: /raid/brats2021/T1wx2Brain_ROIs_BraTS21_Validation/BraTS2021_00153/BraTS2021_00153_BrainROIT1cwx2.nii.gz.\n",
      "file written: /raid/brats2021/T1wx2Brain_ROIs_BraTS21_Validation/BraTS2021_00153/BraTS2021_00153_BrainROI.nii.gz.\n",
      "(2, 240, 240, 155)\n"
     ]
    },
    {
     "name": "stderr",
     "output_type": "stream",
     "text": [
      "  9%|████████████▎                                                                                                                                 | 19/219 [00:33<05:53,  1.77s/it]"
     ]
    },
    {
     "name": "stdout",
     "output_type": "stream",
     "text": [
      "file written: /raid/brats2021/T1wx2Brain_ROIs_BraTS21_Validation/BraTS2021_00161/BraTS2021_00161_BrainROIT1cwx2.nii.gz.\n",
      "file written: /raid/brats2021/T1wx2Brain_ROIs_BraTS21_Validation/BraTS2021_00161/BraTS2021_00161_BrainROI.nii.gz.\n",
      "(2, 240, 240, 155)\n"
     ]
    },
    {
     "name": "stderr",
     "output_type": "stream",
     "text": [
      "  9%|████████████▉                                                                                                                                 | 20/219 [00:35<05:50,  1.76s/it]"
     ]
    },
    {
     "name": "stdout",
     "output_type": "stream",
     "text": [
      "file written: /raid/brats2021/T1wx2Brain_ROIs_BraTS21_Validation/BraTS2021_00163/BraTS2021_00163_BrainROIT1cwx2.nii.gz.\n",
      "file written: /raid/brats2021/T1wx2Brain_ROIs_BraTS21_Validation/BraTS2021_00163/BraTS2021_00163_BrainROI.nii.gz.\n",
      "(2, 240, 240, 155)\n"
     ]
    },
    {
     "name": "stderr",
     "output_type": "stream",
     "text": [
      " 10%|█████████████▌                                                                                                                                | 21/219 [00:36<05:48,  1.76s/it]"
     ]
    },
    {
     "name": "stdout",
     "output_type": "stream",
     "text": [
      "file written: /raid/brats2021/T1wx2Brain_ROIs_BraTS21_Validation/BraTS2021_00174/BraTS2021_00174_BrainROIT1cwx2.nii.gz.\n",
      "file written: /raid/brats2021/T1wx2Brain_ROIs_BraTS21_Validation/BraTS2021_00174/BraTS2021_00174_BrainROI.nii.gz.\n",
      "(2, 240, 240, 155)\n"
     ]
    },
    {
     "name": "stderr",
     "output_type": "stream",
     "text": [
      " 10%|██████████████▎                                                                                                                               | 22/219 [00:38<05:50,  1.78s/it]"
     ]
    },
    {
     "name": "stdout",
     "output_type": "stream",
     "text": [
      "file written: /raid/brats2021/T1wx2Brain_ROIs_BraTS21_Validation/BraTS2021_00181/BraTS2021_00181_BrainROIT1cwx2.nii.gz.\n",
      "file written: /raid/brats2021/T1wx2Brain_ROIs_BraTS21_Validation/BraTS2021_00181/BraTS2021_00181_BrainROI.nii.gz.\n",
      "(2, 240, 240, 155)\n"
     ]
    },
    {
     "name": "stderr",
     "output_type": "stream",
     "text": [
      " 11%|██████████████▉                                                                                                                               | 23/219 [00:40<05:48,  1.78s/it]"
     ]
    },
    {
     "name": "stdout",
     "output_type": "stream",
     "text": [
      "file written: /raid/brats2021/T1wx2Brain_ROIs_BraTS21_Validation/BraTS2021_00182/BraTS2021_00182_BrainROIT1cwx2.nii.gz.\n",
      "file written: /raid/brats2021/T1wx2Brain_ROIs_BraTS21_Validation/BraTS2021_00182/BraTS2021_00182_BrainROI.nii.gz.\n",
      "(2, 240, 240, 155)\n"
     ]
    },
    {
     "name": "stderr",
     "output_type": "stream",
     "text": [
      " 11%|███████████████▌                                                                                                                              | 24/219 [00:42<05:44,  1.77s/it]"
     ]
    },
    {
     "name": "stdout",
     "output_type": "stream",
     "text": [
      "file written: /raid/brats2021/T1wx2Brain_ROIs_BraTS21_Validation/BraTS2021_00190/BraTS2021_00190_BrainROIT1cwx2.nii.gz.\n",
      "file written: /raid/brats2021/T1wx2Brain_ROIs_BraTS21_Validation/BraTS2021_00190/BraTS2021_00190_BrainROI.nii.gz.\n",
      "(2, 240, 240, 155)\n"
     ]
    },
    {
     "name": "stderr",
     "output_type": "stream",
     "text": [
      " 11%|████████████████▏                                                                                                                             | 25/219 [00:44<05:41,  1.76s/it]"
     ]
    },
    {
     "name": "stdout",
     "output_type": "stream",
     "text": [
      "file written: /raid/brats2021/T1wx2Brain_ROIs_BraTS21_Validation/BraTS2021_00200/BraTS2021_00200_BrainROIT1cwx2.nii.gz.\n",
      "file written: /raid/brats2021/T1wx2Brain_ROIs_BraTS21_Validation/BraTS2021_00200/BraTS2021_00200_BrainROI.nii.gz.\n",
      "(2, 240, 240, 155)\n"
     ]
    },
    {
     "name": "stderr",
     "output_type": "stream",
     "text": [
      " 12%|████████████████▊                                                                                                                             | 26/219 [00:45<05:45,  1.79s/it]"
     ]
    },
    {
     "name": "stdout",
     "output_type": "stream",
     "text": [
      "file written: /raid/brats2021/T1wx2Brain_ROIs_BraTS21_Validation/BraTS2021_00208/BraTS2021_00208_BrainROIT1cwx2.nii.gz.\n",
      "file written: /raid/brats2021/T1wx2Brain_ROIs_BraTS21_Validation/BraTS2021_00208/BraTS2021_00208_BrainROI.nii.gz.\n",
      "(2, 240, 240, 155)\n"
     ]
    },
    {
     "name": "stderr",
     "output_type": "stream",
     "text": [
      " 12%|█████████████████▌                                                                                                                            | 27/219 [00:47<05:42,  1.78s/it]"
     ]
    },
    {
     "name": "stdout",
     "output_type": "stream",
     "text": [
      "file written: /raid/brats2021/T1wx2Brain_ROIs_BraTS21_Validation/BraTS2021_00213/BraTS2021_00213_BrainROIT1cwx2.nii.gz.\n",
      "file written: /raid/brats2021/T1wx2Brain_ROIs_BraTS21_Validation/BraTS2021_00213/BraTS2021_00213_BrainROI.nii.gz.\n",
      "(2, 240, 240, 155)\n"
     ]
    },
    {
     "name": "stderr",
     "output_type": "stream",
     "text": [
      " 13%|██████████████████▏                                                                                                                           | 28/219 [00:49<05:40,  1.79s/it]"
     ]
    },
    {
     "name": "stdout",
     "output_type": "stream",
     "text": [
      "file written: /raid/brats2021/T1wx2Brain_ROIs_BraTS21_Validation/BraTS2021_00229/BraTS2021_00229_BrainROIT1cwx2.nii.gz.\n",
      "file written: /raid/brats2021/T1wx2Brain_ROIs_BraTS21_Validation/BraTS2021_00229/BraTS2021_00229_BrainROI.nii.gz.\n",
      "(2, 240, 240, 155)\n"
     ]
    },
    {
     "name": "stderr",
     "output_type": "stream",
     "text": [
      " 13%|██████████████████▊                                                                                                                           | 29/219 [00:51<05:37,  1.78s/it]"
     ]
    },
    {
     "name": "stdout",
     "output_type": "stream",
     "text": [
      "file written: /raid/brats2021/T1wx2Brain_ROIs_BraTS21_Validation/BraTS2021_00252/BraTS2021_00252_BrainROIT1cwx2.nii.gz.\n",
      "file written: /raid/brats2021/T1wx2Brain_ROIs_BraTS21_Validation/BraTS2021_00252/BraTS2021_00252_BrainROI.nii.gz.\n",
      "(2, 240, 240, 155)\n"
     ]
    },
    {
     "name": "stderr",
     "output_type": "stream",
     "text": [
      " 14%|███████████████████▍                                                                                                                          | 30/219 [00:53<05:39,  1.79s/it]"
     ]
    },
    {
     "name": "stdout",
     "output_type": "stream",
     "text": [
      "file written: /raid/brats2021/T1wx2Brain_ROIs_BraTS21_Validation/BraTS2021_00256/BraTS2021_00256_BrainROIT1cwx2.nii.gz.\n",
      "file written: /raid/brats2021/T1wx2Brain_ROIs_BraTS21_Validation/BraTS2021_00256/BraTS2021_00256_BrainROI.nii.gz.\n",
      "(2, 240, 240, 155)\n"
     ]
    },
    {
     "name": "stderr",
     "output_type": "stream",
     "text": [
      " 14%|████████████████████                                                                                                                          | 31/219 [00:54<05:36,  1.79s/it]"
     ]
    },
    {
     "name": "stdout",
     "output_type": "stream",
     "text": [
      "file written: /raid/brats2021/T1wx2Brain_ROIs_BraTS21_Validation/BraTS2021_00264/BraTS2021_00264_BrainROIT1cwx2.nii.gz.\n",
      "file written: /raid/brats2021/T1wx2Brain_ROIs_BraTS21_Validation/BraTS2021_00264/BraTS2021_00264_BrainROI.nii.gz.\n",
      "(2, 240, 240, 155)\n"
     ]
    },
    {
     "name": "stderr",
     "output_type": "stream",
     "text": [
      " 15%|████████████████████▋                                                                                                                         | 32/219 [00:56<05:37,  1.80s/it]"
     ]
    },
    {
     "name": "stdout",
     "output_type": "stream",
     "text": [
      "file written: /raid/brats2021/T1wx2Brain_ROIs_BraTS21_Validation/BraTS2021_00287/BraTS2021_00287_BrainROIT1cwx2.nii.gz.\n",
      "file written: /raid/brats2021/T1wx2Brain_ROIs_BraTS21_Validation/BraTS2021_00287/BraTS2021_00287_BrainROI.nii.gz.\n",
      "(2, 240, 240, 155)\n"
     ]
    },
    {
     "name": "stderr",
     "output_type": "stream",
     "text": [
      " 15%|█████████████████████▍                                                                                                                        | 33/219 [00:58<05:33,  1.79s/it]"
     ]
    },
    {
     "name": "stdout",
     "output_type": "stream",
     "text": [
      "file written: /raid/brats2021/T1wx2Brain_ROIs_BraTS21_Validation/BraTS2021_00307/BraTS2021_00307_BrainROIT1cwx2.nii.gz.\n",
      "file written: /raid/brats2021/T1wx2Brain_ROIs_BraTS21_Validation/BraTS2021_00307/BraTS2021_00307_BrainROI.nii.gz.\n",
      "(2, 240, 240, 155)\n"
     ]
    },
    {
     "name": "stderr",
     "output_type": "stream",
     "text": [
      " 16%|██████████████████████                                                                                                                        | 34/219 [01:00<05:32,  1.80s/it]"
     ]
    },
    {
     "name": "stdout",
     "output_type": "stream",
     "text": [
      "file written: /raid/brats2021/T1wx2Brain_ROIs_BraTS21_Validation/BraTS2021_00323/BraTS2021_00323_BrainROIT1cwx2.nii.gz.\n",
      "file written: /raid/brats2021/T1wx2Brain_ROIs_BraTS21_Validation/BraTS2021_00323/BraTS2021_00323_BrainROI.nii.gz.\n",
      "(2, 240, 240, 155)\n"
     ]
    },
    {
     "name": "stderr",
     "output_type": "stream",
     "text": [
      " 16%|██████████████████████▋                                                                                                                       | 35/219 [01:02<05:29,  1.79s/it]"
     ]
    },
    {
     "name": "stdout",
     "output_type": "stream",
     "text": [
      "file written: /raid/brats2021/T1wx2Brain_ROIs_BraTS21_Validation/BraTS2021_00333/BraTS2021_00333_BrainROIT1cwx2.nii.gz.\n",
      "file written: /raid/brats2021/T1wx2Brain_ROIs_BraTS21_Validation/BraTS2021_00333/BraTS2021_00333_BrainROI.nii.gz.\n",
      "(2, 240, 240, 155)\n"
     ]
    },
    {
     "name": "stderr",
     "output_type": "stream",
     "text": [
      " 16%|███████████████████████▎                                                                                                                      | 36/219 [01:03<05:26,  1.78s/it]"
     ]
    },
    {
     "name": "stdout",
     "output_type": "stream",
     "text": [
      "file written: /raid/brats2021/T1wx2Brain_ROIs_BraTS21_Validation/BraTS2021_00335/BraTS2021_00335_BrainROIT1cwx2.nii.gz.\n",
      "file written: /raid/brats2021/T1wx2Brain_ROIs_BraTS21_Validation/BraTS2021_00335/BraTS2021_00335_BrainROI.nii.gz.\n",
      "(2, 240, 240, 155)\n"
     ]
    },
    {
     "name": "stderr",
     "output_type": "stream",
     "text": [
      " 17%|███████████████████████▉                                                                                                                      | 37/219 [01:05<05:23,  1.78s/it]"
     ]
    },
    {
     "name": "stdout",
     "output_type": "stream",
     "text": [
      "file written: /raid/brats2021/T1wx2Brain_ROIs_BraTS21_Validation/BraTS2021_00337/BraTS2021_00337_BrainROIT1cwx2.nii.gz.\n",
      "file written: /raid/brats2021/T1wx2Brain_ROIs_BraTS21_Validation/BraTS2021_00337/BraTS2021_00337_BrainROI.nii.gz.\n",
      "(2, 240, 240, 155)\n"
     ]
    },
    {
     "name": "stderr",
     "output_type": "stream",
     "text": [
      " 17%|████████████████████████▋                                                                                                                     | 38/219 [01:07<05:21,  1.78s/it]"
     ]
    },
    {
     "name": "stdout",
     "output_type": "stream",
     "text": [
      "file written: /raid/brats2021/T1wx2Brain_ROIs_BraTS21_Validation/BraTS2021_00355/BraTS2021_00355_BrainROIT1cwx2.nii.gz.\n",
      "file written: /raid/brats2021/T1wx2Brain_ROIs_BraTS21_Validation/BraTS2021_00355/BraTS2021_00355_BrainROI.nii.gz.\n",
      "(2, 240, 240, 155)\n"
     ]
    },
    {
     "name": "stderr",
     "output_type": "stream",
     "text": [
      " 18%|█████████████████████████▎                                                                                                                    | 39/219 [01:09<05:20,  1.78s/it]"
     ]
    },
    {
     "name": "stdout",
     "output_type": "stream",
     "text": [
      "file written: /raid/brats2021/T1wx2Brain_ROIs_BraTS21_Validation/BraTS2021_00372/BraTS2021_00372_BrainROIT1cwx2.nii.gz.\n",
      "file written: /raid/brats2021/T1wx2Brain_ROIs_BraTS21_Validation/BraTS2021_00372/BraTS2021_00372_BrainROI.nii.gz.\n",
      "(2, 240, 240, 155)\n"
     ]
    },
    {
     "name": "stderr",
     "output_type": "stream",
     "text": [
      " 18%|█████████████████████████▉                                                                                                                    | 40/219 [01:10<05:18,  1.78s/it]"
     ]
    },
    {
     "name": "stdout",
     "output_type": "stream",
     "text": [
      "file written: /raid/brats2021/T1wx2Brain_ROIs_BraTS21_Validation/BraTS2021_00381/BraTS2021_00381_BrainROIT1cwx2.nii.gz.\n",
      "file written: /raid/brats2021/T1wx2Brain_ROIs_BraTS21_Validation/BraTS2021_00381/BraTS2021_00381_BrainROI.nii.gz.\n",
      "(2, 240, 240, 155)\n"
     ]
    },
    {
     "name": "stderr",
     "output_type": "stream",
     "text": [
      " 19%|██████████████████████████▌                                                                                                                   | 41/219 [01:12<05:17,  1.79s/it]"
     ]
    },
    {
     "name": "stdout",
     "output_type": "stream",
     "text": [
      "file written: /raid/brats2021/T1wx2Brain_ROIs_BraTS21_Validation/BraTS2021_00384/BraTS2021_00384_BrainROIT1cwx2.nii.gz.\n",
      "file written: /raid/brats2021/T1wx2Brain_ROIs_BraTS21_Validation/BraTS2021_00384/BraTS2021_00384_BrainROI.nii.gz.\n",
      "(2, 240, 240, 155)\n"
     ]
    },
    {
     "name": "stderr",
     "output_type": "stream",
     "text": [
      " 19%|███████████████████████████▏                                                                                                                  | 42/219 [01:14<05:15,  1.78s/it]"
     ]
    },
    {
     "name": "stdout",
     "output_type": "stream",
     "text": [
      "file written: /raid/brats2021/T1wx2Brain_ROIs_BraTS21_Validation/BraTS2021_00422/BraTS2021_00422_BrainROIT1cwx2.nii.gz.\n",
      "file written: /raid/brats2021/T1wx2Brain_ROIs_BraTS21_Validation/BraTS2021_00422/BraTS2021_00422_BrainROI.nii.gz.\n",
      "(2, 240, 240, 155)\n"
     ]
    },
    {
     "name": "stderr",
     "output_type": "stream",
     "text": [
      " 20%|███████████████████████████▉                                                                                                                  | 43/219 [01:16<05:16,  1.80s/it]"
     ]
    },
    {
     "name": "stdout",
     "output_type": "stream",
     "text": [
      "file written: /raid/brats2021/T1wx2Brain_ROIs_BraTS21_Validation/BraTS2021_00428/BraTS2021_00428_BrainROIT1cwx2.nii.gz.\n",
      "file written: /raid/brats2021/T1wx2Brain_ROIs_BraTS21_Validation/BraTS2021_00428/BraTS2021_00428_BrainROI.nii.gz.\n",
      "(2, 240, 240, 155)\n"
     ]
    },
    {
     "name": "stderr",
     "output_type": "stream",
     "text": [
      " 20%|████████████████████████████▌                                                                                                                 | 44/219 [01:18<05:12,  1.79s/it]"
     ]
    },
    {
     "name": "stdout",
     "output_type": "stream",
     "text": [
      "file written: /raid/brats2021/T1wx2Brain_ROIs_BraTS21_Validation/BraTS2021_00434/BraTS2021_00434_BrainROIT1cwx2.nii.gz.\n",
      "file written: /raid/brats2021/T1wx2Brain_ROIs_BraTS21_Validation/BraTS2021_00434/BraTS2021_00434_BrainROI.nii.gz.\n",
      "(2, 240, 240, 155)\n"
     ]
    },
    {
     "name": "stderr",
     "output_type": "stream",
     "text": [
      " 21%|█████████████████████████████▏                                                                                                                | 45/219 [01:19<05:09,  1.78s/it]"
     ]
    },
    {
     "name": "stdout",
     "output_type": "stream",
     "text": [
      "file written: /raid/brats2021/T1wx2Brain_ROIs_BraTS21_Validation/BraTS2021_00438/BraTS2021_00438_BrainROIT1cwx2.nii.gz.\n",
      "file written: /raid/brats2021/T1wx2Brain_ROIs_BraTS21_Validation/BraTS2021_00438/BraTS2021_00438_BrainROI.nii.gz.\n",
      "(2, 240, 240, 155)\n"
     ]
    },
    {
     "name": "stderr",
     "output_type": "stream",
     "text": [
      " 21%|█████████████████████████████▊                                                                                                                | 46/219 [01:21<05:10,  1.80s/it]"
     ]
    },
    {
     "name": "stdout",
     "output_type": "stream",
     "text": [
      "file written: /raid/brats2021/T1wx2Brain_ROIs_BraTS21_Validation/BraTS2021_00447/BraTS2021_00447_BrainROIT1cwx2.nii.gz.\n",
      "file written: /raid/brats2021/T1wx2Brain_ROIs_BraTS21_Validation/BraTS2021_00447/BraTS2021_00447_BrainROI.nii.gz.\n",
      "(2, 240, 240, 155)\n"
     ]
    },
    {
     "name": "stderr",
     "output_type": "stream",
     "text": [
      " 21%|██████████████████████████████▍                                                                                                               | 47/219 [01:23<05:07,  1.79s/it]"
     ]
    },
    {
     "name": "stdout",
     "output_type": "stream",
     "text": [
      "file written: /raid/brats2021/T1wx2Brain_ROIs_BraTS21_Validation/BraTS2021_00450/BraTS2021_00450_BrainROIT1cwx2.nii.gz.\n",
      "file written: /raid/brats2021/T1wx2Brain_ROIs_BraTS21_Validation/BraTS2021_00450/BraTS2021_00450_BrainROI.nii.gz.\n",
      "(2, 240, 240, 155)\n"
     ]
    },
    {
     "name": "stderr",
     "output_type": "stream",
     "text": [
      " 22%|███████████████████████████████                                                                                                               | 48/219 [01:25<05:08,  1.80s/it]"
     ]
    },
    {
     "name": "stdout",
     "output_type": "stream",
     "text": [
      "file written: /raid/brats2021/T1wx2Brain_ROIs_BraTS21_Validation/BraTS2021_00458/BraTS2021_00458_BrainROIT1cwx2.nii.gz.\n",
      "file written: /raid/brats2021/T1wx2Brain_ROIs_BraTS21_Validation/BraTS2021_00458/BraTS2021_00458_BrainROI.nii.gz.\n",
      "(2, 240, 240, 155)\n"
     ]
    },
    {
     "name": "stderr",
     "output_type": "stream",
     "text": [
      " 22%|███████████████████████████████▊                                                                                                              | 49/219 [01:26<05:03,  1.79s/it]"
     ]
    },
    {
     "name": "stdout",
     "output_type": "stream",
     "text": [
      "file written: /raid/brats2021/T1wx2Brain_ROIs_BraTS21_Validation/BraTS2021_00460/BraTS2021_00460_BrainROIT1cwx2.nii.gz.\n",
      "file written: /raid/brats2021/T1wx2Brain_ROIs_BraTS21_Validation/BraTS2021_00460/BraTS2021_00460_BrainROI.nii.gz.\n",
      "(2, 240, 240, 155)\n"
     ]
    },
    {
     "name": "stderr",
     "output_type": "stream",
     "text": [
      " 23%|████████████████████████████████▍                                                                                                             | 50/219 [01:28<05:02,  1.79s/it]"
     ]
    },
    {
     "name": "stdout",
     "output_type": "stream",
     "text": [
      "file written: /raid/brats2021/T1wx2Brain_ROIs_BraTS21_Validation/BraTS2021_00462/BraTS2021_00462_BrainROIT1cwx2.nii.gz.\n",
      "file written: /raid/brats2021/T1wx2Brain_ROIs_BraTS21_Validation/BraTS2021_00462/BraTS2021_00462_BrainROI.nii.gz.\n",
      "(2, 240, 240, 155)\n"
     ]
    },
    {
     "name": "stderr",
     "output_type": "stream",
     "text": [
      " 23%|█████████████████████████████████                                                                                                             | 51/219 [01:30<04:58,  1.78s/it]"
     ]
    },
    {
     "name": "stdout",
     "output_type": "stream",
     "text": [
      "file written: /raid/brats2021/T1wx2Brain_ROIs_BraTS21_Validation/BraTS2021_00463/BraTS2021_00463_BrainROIT1cwx2.nii.gz.\n",
      "file written: /raid/brats2021/T1wx2Brain_ROIs_BraTS21_Validation/BraTS2021_00463/BraTS2021_00463_BrainROI.nii.gz.\n",
      "(2, 240, 240, 155)\n"
     ]
    },
    {
     "name": "stderr",
     "output_type": "stream",
     "text": [
      " 24%|█████████████████████████████████▋                                                                                                            | 52/219 [01:32<04:57,  1.78s/it]"
     ]
    },
    {
     "name": "stdout",
     "output_type": "stream",
     "text": [
      "file written: /raid/brats2021/T1wx2Brain_ROIs_BraTS21_Validation/BraTS2021_00467/BraTS2021_00467_BrainROIT1cwx2.nii.gz.\n",
      "file written: /raid/brats2021/T1wx2Brain_ROIs_BraTS21_Validation/BraTS2021_00467/BraTS2021_00467_BrainROI.nii.gz.\n",
      "(2, 240, 240, 155)\n"
     ]
    },
    {
     "name": "stderr",
     "output_type": "stream",
     "text": [
      " 24%|██████████████████████████████████▎                                                                                                           | 53/219 [01:34<04:53,  1.77s/it]"
     ]
    },
    {
     "name": "stdout",
     "output_type": "stream",
     "text": [
      "file written: /raid/brats2021/T1wx2Brain_ROIs_BraTS21_Validation/BraTS2021_00474/BraTS2021_00474_BrainROIT1cwx2.nii.gz.\n",
      "file written: /raid/brats2021/T1wx2Brain_ROIs_BraTS21_Validation/BraTS2021_00474/BraTS2021_00474_BrainROI.nii.gz.\n",
      "(2, 240, 240, 155)\n"
     ]
    },
    {
     "name": "stderr",
     "output_type": "stream",
     "text": [
      " 25%|███████████████████████████████████                                                                                                           | 54/219 [01:35<04:49,  1.75s/it]"
     ]
    },
    {
     "name": "stdout",
     "output_type": "stream",
     "text": [
      "file written: /raid/brats2021/T1wx2Brain_ROIs_BraTS21_Validation/BraTS2021_00489/BraTS2021_00489_BrainROIT1cwx2.nii.gz.\n",
      "file written: /raid/brats2021/T1wx2Brain_ROIs_BraTS21_Validation/BraTS2021_00489/BraTS2021_00489_BrainROI.nii.gz.\n",
      "(2, 240, 240, 155)\n"
     ]
    },
    {
     "name": "stderr",
     "output_type": "stream",
     "text": [
      " 25%|███████████████████████████████████▋                                                                                                          | 55/219 [01:37<04:49,  1.77s/it]"
     ]
    },
    {
     "name": "stdout",
     "output_type": "stream",
     "text": [
      "file written: /raid/brats2021/T1wx2Brain_ROIs_BraTS21_Validation/BraTS2021_00492/BraTS2021_00492_BrainROIT1cwx2.nii.gz.\n",
      "file written: /raid/brats2021/T1wx2Brain_ROIs_BraTS21_Validation/BraTS2021_00492/BraTS2021_00492_BrainROI.nii.gz.\n",
      "(2, 240, 240, 155)\n"
     ]
    },
    {
     "name": "stderr",
     "output_type": "stream",
     "text": [
      " 26%|████████████████████████████████████▎                                                                                                         | 56/219 [01:39<04:49,  1.78s/it]"
     ]
    },
    {
     "name": "stdout",
     "output_type": "stream",
     "text": [
      "file written: /raid/brats2021/T1wx2Brain_ROIs_BraTS21_Validation/BraTS2021_00503/BraTS2021_00503_BrainROIT1cwx2.nii.gz.\n",
      "file written: /raid/brats2021/T1wx2Brain_ROIs_BraTS21_Validation/BraTS2021_00503/BraTS2021_00503_BrainROI.nii.gz.\n",
      "(2, 240, 240, 155)\n"
     ]
    },
    {
     "name": "stderr",
     "output_type": "stream",
     "text": [
      " 26%|████████████████████████████████████▉                                                                                                         | 57/219 [01:41<04:47,  1.77s/it]"
     ]
    },
    {
     "name": "stdout",
     "output_type": "stream",
     "text": [
      "file written: /raid/brats2021/T1wx2Brain_ROIs_BraTS21_Validation/BraTS2021_00521/BraTS2021_00521_BrainROIT1cwx2.nii.gz.\n",
      "file written: /raid/brats2021/T1wx2Brain_ROIs_BraTS21_Validation/BraTS2021_00521/BraTS2021_00521_BrainROI.nii.gz.\n",
      "(2, 240, 240, 155)\n"
     ]
    },
    {
     "name": "stderr",
     "output_type": "stream",
     "text": [
      " 26%|█████████████████████████████████████▌                                                                                                        | 58/219 [01:42<04:46,  1.78s/it]"
     ]
    },
    {
     "name": "stdout",
     "output_type": "stream",
     "text": [
      "file written: /raid/brats2021/T1wx2Brain_ROIs_BraTS21_Validation/BraTS2021_00535/BraTS2021_00535_BrainROIT1cwx2.nii.gz.\n",
      "file written: /raid/brats2021/T1wx2Brain_ROIs_BraTS21_Validation/BraTS2021_00535/BraTS2021_00535_BrainROI.nii.gz.\n",
      "(2, 240, 240, 155)\n"
     ]
    },
    {
     "name": "stderr",
     "output_type": "stream",
     "text": [
      " 27%|██████████████████████████████████████▎                                                                                                       | 59/219 [01:44<04:42,  1.76s/it]"
     ]
    },
    {
     "name": "stdout",
     "output_type": "stream",
     "text": [
      "file written: /raid/brats2021/T1wx2Brain_ROIs_BraTS21_Validation/BraTS2021_00553/BraTS2021_00553_BrainROIT1cwx2.nii.gz.\n",
      "file written: /raid/brats2021/T1wx2Brain_ROIs_BraTS21_Validation/BraTS2021_00553/BraTS2021_00553_BrainROI.nii.gz.\n",
      "(2, 240, 240, 155)\n"
     ]
    },
    {
     "name": "stderr",
     "output_type": "stream",
     "text": [
      " 27%|██████████████████████████████████████▉                                                                                                       | 60/219 [01:46<04:39,  1.75s/it]"
     ]
    },
    {
     "name": "stdout",
     "output_type": "stream",
     "text": [
      "file written: /raid/brats2021/T1wx2Brain_ROIs_BraTS21_Validation/BraTS2021_00560/BraTS2021_00560_BrainROIT1cwx2.nii.gz.\n",
      "file written: /raid/brats2021/T1wx2Brain_ROIs_BraTS21_Validation/BraTS2021_00560/BraTS2021_00560_BrainROI.nii.gz.\n",
      "(2, 240, 240, 155)\n"
     ]
    },
    {
     "name": "stderr",
     "output_type": "stream",
     "text": [
      " 28%|███████████████████████████████████████▌                                                                                                      | 61/219 [01:48<04:44,  1.80s/it]"
     ]
    },
    {
     "name": "stdout",
     "output_type": "stream",
     "text": [
      "file written: /raid/brats2021/T1wx2Brain_ROIs_BraTS21_Validation/BraTS2021_00573/BraTS2021_00573_BrainROIT1cwx2.nii.gz.\n",
      "file written: /raid/brats2021/T1wx2Brain_ROIs_BraTS21_Validation/BraTS2021_00573/BraTS2021_00573_BrainROI.nii.gz.\n",
      "(2, 240, 240, 155)\n"
     ]
    },
    {
     "name": "stderr",
     "output_type": "stream",
     "text": [
      " 28%|████████████████████████████████████████▏                                                                                                     | 62/219 [01:50<04:52,  1.86s/it]"
     ]
    },
    {
     "name": "stdout",
     "output_type": "stream",
     "text": [
      "file written: /raid/brats2021/T1wx2Brain_ROIs_BraTS21_Validation/BraTS2021_00585/BraTS2021_00585_BrainROIT1cwx2.nii.gz.\n",
      "file written: /raid/brats2021/T1wx2Brain_ROIs_BraTS21_Validation/BraTS2021_00585/BraTS2021_00585_BrainROI.nii.gz.\n",
      "(2, 240, 240, 155)\n"
     ]
    },
    {
     "name": "stderr",
     "output_type": "stream",
     "text": [
      " 29%|████████████████████████████████████████▊                                                                                                     | 63/219 [01:52<04:55,  1.89s/it]"
     ]
    },
    {
     "name": "stdout",
     "output_type": "stream",
     "text": [
      "file written: /raid/brats2021/T1wx2Brain_ROIs_BraTS21_Validation/BraTS2021_00592/BraTS2021_00592_BrainROIT1cwx2.nii.gz.\n",
      "file written: /raid/brats2021/T1wx2Brain_ROIs_BraTS21_Validation/BraTS2021_00592/BraTS2021_00592_BrainROI.nii.gz.\n",
      "(2, 240, 240, 155)\n"
     ]
    },
    {
     "name": "stderr",
     "output_type": "stream",
     "text": [
      " 29%|█████████████████████████████████████████▍                                                                                                    | 64/219 [01:54<04:54,  1.90s/it]"
     ]
    },
    {
     "name": "stdout",
     "output_type": "stream",
     "text": [
      "file written: /raid/brats2021/T1wx2Brain_ROIs_BraTS21_Validation/BraTS2021_00595/BraTS2021_00595_BrainROIT1cwx2.nii.gz.\n",
      "file written: /raid/brats2021/T1wx2Brain_ROIs_BraTS21_Validation/BraTS2021_00595/BraTS2021_00595_BrainROI.nii.gz.\n",
      "(2, 240, 240, 155)\n"
     ]
    },
    {
     "name": "stderr",
     "output_type": "stream",
     "text": [
      " 30%|██████████████████████████████████████████▏                                                                                                   | 65/219 [01:55<04:47,  1.86s/it]"
     ]
    },
    {
     "name": "stdout",
     "output_type": "stream",
     "text": [
      "file written: /raid/brats2021/T1wx2Brain_ROIs_BraTS21_Validation/BraTS2021_00603/BraTS2021_00603_BrainROIT1cwx2.nii.gz.\n",
      "file written: /raid/brats2021/T1wx2Brain_ROIs_BraTS21_Validation/BraTS2021_00603/BraTS2021_00603_BrainROI.nii.gz.\n",
      "(2, 240, 240, 155)\n"
     ]
    },
    {
     "name": "stderr",
     "output_type": "stream",
     "text": [
      " 30%|██████████████████████████████████████████▊                                                                                                   | 66/219 [01:57<04:39,  1.83s/it]"
     ]
    },
    {
     "name": "stdout",
     "output_type": "stream",
     "text": [
      "file written: /raid/brats2021/T1wx2Brain_ROIs_BraTS21_Validation/BraTS2021_00644/BraTS2021_00644_BrainROIT1cwx2.nii.gz.\n",
      "file written: /raid/brats2021/T1wx2Brain_ROIs_BraTS21_Validation/BraTS2021_00644/BraTS2021_00644_BrainROI.nii.gz.\n",
      "(2, 240, 240, 155)\n"
     ]
    },
    {
     "name": "stderr",
     "output_type": "stream",
     "text": [
      " 31%|███████████████████████████████████████████▍                                                                                                  | 67/219 [01:59<04:36,  1.82s/it]"
     ]
    },
    {
     "name": "stdout",
     "output_type": "stream",
     "text": [
      "file written: /raid/brats2021/T1wx2Brain_ROIs_BraTS21_Validation/BraTS2021_00647/BraTS2021_00647_BrainROIT1cwx2.nii.gz.\n",
      "file written: /raid/brats2021/T1wx2Brain_ROIs_BraTS21_Validation/BraTS2021_00647/BraTS2021_00647_BrainROI.nii.gz.\n",
      "(2, 240, 240, 155)\n"
     ]
    },
    {
     "name": "stderr",
     "output_type": "stream",
     "text": [
      " 31%|████████████████████████████████████████████                                                                                                  | 68/219 [02:01<04:30,  1.79s/it]"
     ]
    },
    {
     "name": "stdout",
     "output_type": "stream",
     "text": [
      "file written: /raid/brats2021/T1wx2Brain_ROIs_BraTS21_Validation/BraTS2021_00662/BraTS2021_00662_BrainROIT1cwx2.nii.gz.\n",
      "file written: /raid/brats2021/T1wx2Brain_ROIs_BraTS21_Validation/BraTS2021_00662/BraTS2021_00662_BrainROI.nii.gz.\n",
      "(2, 240, 240, 155)\n"
     ]
    },
    {
     "name": "stderr",
     "output_type": "stream",
     "text": [
      " 32%|████████████████████████████████████████████▋                                                                                                 | 69/219 [02:02<04:25,  1.77s/it]"
     ]
    },
    {
     "name": "stdout",
     "output_type": "stream",
     "text": [
      "file written: /raid/brats2021/T1wx2Brain_ROIs_BraTS21_Validation/BraTS2021_00671/BraTS2021_00671_BrainROIT1cwx2.nii.gz.\n",
      "file written: /raid/brats2021/T1wx2Brain_ROIs_BraTS21_Validation/BraTS2021_00671/BraTS2021_00671_BrainROI.nii.gz.\n",
      "(2, 240, 240, 155)\n"
     ]
    },
    {
     "name": "stderr",
     "output_type": "stream",
     "text": [
      " 32%|█████████████████████████████████████████████▍                                                                                                | 70/219 [02:04<04:23,  1.77s/it]"
     ]
    },
    {
     "name": "stdout",
     "output_type": "stream",
     "text": [
      "file written: /raid/brats2021/T1wx2Brain_ROIs_BraTS21_Validation/BraTS2021_00681/BraTS2021_00681_BrainROIT1cwx2.nii.gz.\n",
      "file written: /raid/brats2021/T1wx2Brain_ROIs_BraTS21_Validation/BraTS2021_00681/BraTS2021_00681_BrainROI.nii.gz.\n",
      "(2, 240, 240, 155)\n"
     ]
    },
    {
     "name": "stderr",
     "output_type": "stream",
     "text": [
      " 32%|██████████████████████████████████████████████                                                                                                | 71/219 [02:06<04:21,  1.77s/it]"
     ]
    },
    {
     "name": "stdout",
     "output_type": "stream",
     "text": [
      "file written: /raid/brats2021/T1wx2Brain_ROIs_BraTS21_Validation/BraTS2021_00699/BraTS2021_00699_BrainROIT1cwx2.nii.gz.\n",
      "file written: /raid/brats2021/T1wx2Brain_ROIs_BraTS21_Validation/BraTS2021_00699/BraTS2021_00699_BrainROI.nii.gz.\n",
      "(2, 240, 240, 155)\n"
     ]
    },
    {
     "name": "stderr",
     "output_type": "stream",
     "text": [
      " 33%|██████████████████████████████████████████████▋                                                                                               | 72/219 [02:08<04:17,  1.75s/it]"
     ]
    },
    {
     "name": "stdout",
     "output_type": "stream",
     "text": [
      "file written: /raid/brats2021/T1wx2Brain_ROIs_BraTS21_Validation/BraTS2021_00702/BraTS2021_00702_BrainROIT1cwx2.nii.gz.\n",
      "file written: /raid/brats2021/T1wx2Brain_ROIs_BraTS21_Validation/BraTS2021_00702/BraTS2021_00702_BrainROI.nii.gz.\n",
      "(2, 240, 240, 155)\n"
     ]
    },
    {
     "name": "stderr",
     "output_type": "stream",
     "text": [
      " 33%|███████████████████████████████████████████████▎                                                                                              | 73/219 [02:09<04:14,  1.74s/it]"
     ]
    },
    {
     "name": "stdout",
     "output_type": "stream",
     "text": [
      "file written: /raid/brats2021/T1wx2Brain_ROIs_BraTS21_Validation/BraTS2021_00712/BraTS2021_00712_BrainROIT1cwx2.nii.gz.\n",
      "file written: /raid/brats2021/T1wx2Brain_ROIs_BraTS21_Validation/BraTS2021_00712/BraTS2021_00712_BrainROI.nii.gz.\n",
      "(2, 240, 240, 155)\n"
     ]
    },
    {
     "name": "stderr",
     "output_type": "stream",
     "text": [
      " 34%|███████████████████████████████████████████████▉                                                                                              | 74/219 [02:11<04:15,  1.76s/it]"
     ]
    },
    {
     "name": "stdout",
     "output_type": "stream",
     "text": [
      "file written: /raid/brats2021/T1wx2Brain_ROIs_BraTS21_Validation/BraTS2021_00719/BraTS2021_00719_BrainROIT1cwx2.nii.gz.\n",
      "file written: /raid/brats2021/T1wx2Brain_ROIs_BraTS21_Validation/BraTS2021_00719/BraTS2021_00719_BrainROI.nii.gz.\n",
      "(2, 240, 240, 155)\n"
     ]
    },
    {
     "name": "stderr",
     "output_type": "stream",
     "text": [
      " 34%|████████████████████████████████████████████████▋                                                                                             | 75/219 [02:13<04:13,  1.76s/it]"
     ]
    },
    {
     "name": "stdout",
     "output_type": "stream",
     "text": [
      "file written: /raid/brats2021/T1wx2Brain_ROIs_BraTS21_Validation/BraTS2021_00721/BraTS2021_00721_BrainROIT1cwx2.nii.gz.\n",
      "file written: /raid/brats2021/T1wx2Brain_ROIs_BraTS21_Validation/BraTS2021_00721/BraTS2021_00721_BrainROI.nii.gz.\n",
      "(2, 240, 240, 155)\n"
     ]
    },
    {
     "name": "stderr",
     "output_type": "stream",
     "text": [
      " 35%|█████████████████████████████████████████████████▎                                                                                            | 76/219 [02:15<04:10,  1.75s/it]"
     ]
    },
    {
     "name": "stdout",
     "output_type": "stream",
     "text": [
      "file written: /raid/brats2021/T1wx2Brain_ROIs_BraTS21_Validation/BraTS2021_00749/BraTS2021_00749_BrainROIT1cwx2.nii.gz.\n",
      "file written: /raid/brats2021/T1wx2Brain_ROIs_BraTS21_Validation/BraTS2021_00749/BraTS2021_00749_BrainROI.nii.gz.\n",
      "(2, 240, 240, 155)\n"
     ]
    },
    {
     "name": "stderr",
     "output_type": "stream",
     "text": [
      " 35%|█████████████████████████████████████████████████▉                                                                                            | 77/219 [02:17<04:09,  1.76s/it]"
     ]
    },
    {
     "name": "stdout",
     "output_type": "stream",
     "text": [
      "file written: /raid/brats2021/T1wx2Brain_ROIs_BraTS21_Validation/BraTS2021_00762/BraTS2021_00762_BrainROIT1cwx2.nii.gz.\n",
      "file written: /raid/brats2021/T1wx2Brain_ROIs_BraTS21_Validation/BraTS2021_00762/BraTS2021_00762_BrainROI.nii.gz.\n",
      "(2, 240, 240, 155)\n"
     ]
    },
    {
     "name": "stderr",
     "output_type": "stream",
     "text": [
      " 36%|██████████████████████████████████████████████████▌                                                                                           | 78/219 [02:18<04:08,  1.76s/it]"
     ]
    },
    {
     "name": "stdout",
     "output_type": "stream",
     "text": [
      "file written: /raid/brats2021/T1wx2Brain_ROIs_BraTS21_Validation/BraTS2021_00769/BraTS2021_00769_BrainROIT1cwx2.nii.gz.\n",
      "file written: /raid/brats2021/T1wx2Brain_ROIs_BraTS21_Validation/BraTS2021_00769/BraTS2021_00769_BrainROI.nii.gz.\n",
      "(2, 240, 240, 155)\n"
     ]
    },
    {
     "name": "stderr",
     "output_type": "stream",
     "text": [
      " 36%|███████████████████████████████████████████████████▏                                                                                          | 79/219 [02:20<04:07,  1.77s/it]"
     ]
    },
    {
     "name": "stdout",
     "output_type": "stream",
     "text": [
      "file written: /raid/brats2021/T1wx2Brain_ROIs_BraTS21_Validation/BraTS2021_00779/BraTS2021_00779_BrainROIT1cwx2.nii.gz.\n",
      "file written: /raid/brats2021/T1wx2Brain_ROIs_BraTS21_Validation/BraTS2021_00779/BraTS2021_00779_BrainROI.nii.gz.\n",
      "(2, 240, 240, 155)\n"
     ]
    },
    {
     "name": "stderr",
     "output_type": "stream",
     "text": [
      " 37%|███████████████████████████████████████████████████▊                                                                                          | 80/219 [02:22<04:13,  1.83s/it]"
     ]
    },
    {
     "name": "stdout",
     "output_type": "stream",
     "text": [
      "file written: /raid/brats2021/T1wx2Brain_ROIs_BraTS21_Validation/BraTS2021_00821/BraTS2021_00821_BrainROIT1cwx2.nii.gz.\n",
      "file written: /raid/brats2021/T1wx2Brain_ROIs_BraTS21_Validation/BraTS2021_00821/BraTS2021_00821_BrainROI.nii.gz.\n",
      "(2, 240, 240, 155)\n"
     ]
    },
    {
     "name": "stderr",
     "output_type": "stream",
     "text": [
      " 37%|████████████████████████████████████████████████████▌                                                                                         | 81/219 [02:24<04:18,  1.87s/it]"
     ]
    },
    {
     "name": "stdout",
     "output_type": "stream",
     "text": [
      "file written: /raid/brats2021/T1wx2Brain_ROIs_BraTS21_Validation/BraTS2021_00822/BraTS2021_00822_BrainROIT1cwx2.nii.gz.\n",
      "file written: /raid/brats2021/T1wx2Brain_ROIs_BraTS21_Validation/BraTS2021_00822/BraTS2021_00822_BrainROI.nii.gz.\n",
      "(2, 240, 240, 155)\n"
     ]
    },
    {
     "name": "stderr",
     "output_type": "stream",
     "text": [
      " 37%|█████████████████████████████████████████████████████▏                                                                                        | 82/219 [02:26<04:20,  1.90s/it]"
     ]
    },
    {
     "name": "stdout",
     "output_type": "stream",
     "text": [
      "file written: /raid/brats2021/T1wx2Brain_ROIs_BraTS21_Validation/BraTS2021_00825/BraTS2021_00825_BrainROIT1cwx2.nii.gz.\n",
      "file written: /raid/brats2021/T1wx2Brain_ROIs_BraTS21_Validation/BraTS2021_00825/BraTS2021_00825_BrainROI.nii.gz.\n",
      "(2, 240, 240, 155)\n"
     ]
    },
    {
     "name": "stderr",
     "output_type": "stream",
     "text": [
      " 38%|█████████████████████████████████████████████████████▊                                                                                        | 83/219 [02:28<04:19,  1.91s/it]"
     ]
    },
    {
     "name": "stdout",
     "output_type": "stream",
     "text": [
      "file written: /raid/brats2021/T1wx2Brain_ROIs_BraTS21_Validation/BraTS2021_00826/BraTS2021_00826_BrainROIT1cwx2.nii.gz.\n",
      "file written: /raid/brats2021/T1wx2Brain_ROIs_BraTS21_Validation/BraTS2021_00826/BraTS2021_00826_BrainROI.nii.gz.\n",
      "(2, 240, 240, 155)\n"
     ]
    },
    {
     "name": "stderr",
     "output_type": "stream",
     "text": [
      " 38%|██████████████████████████████████████████████████████▍                                                                                       | 84/219 [02:30<04:18,  1.91s/it]"
     ]
    },
    {
     "name": "stdout",
     "output_type": "stream",
     "text": [
      "file written: /raid/brats2021/T1wx2Brain_ROIs_BraTS21_Validation/BraTS2021_00829/BraTS2021_00829_BrainROIT1cwx2.nii.gz.\n",
      "file written: /raid/brats2021/T1wx2Brain_ROIs_BraTS21_Validation/BraTS2021_00829/BraTS2021_00829_BrainROI.nii.gz.\n",
      "(2, 240, 240, 155)\n"
     ]
    },
    {
     "name": "stderr",
     "output_type": "stream",
     "text": [
      " 39%|███████████████████████████████████████████████████████                                                                                       | 85/219 [02:32<04:12,  1.88s/it]"
     ]
    },
    {
     "name": "stdout",
     "output_type": "stream",
     "text": [
      "file written: /raid/brats2021/T1wx2Brain_ROIs_BraTS21_Validation/BraTS2021_00833/BraTS2021_00833_BrainROIT1cwx2.nii.gz.\n",
      "file written: /raid/brats2021/T1wx2Brain_ROIs_BraTS21_Validation/BraTS2021_00833/BraTS2021_00833_BrainROI.nii.gz.\n",
      "(2, 240, 240, 155)\n"
     ]
    },
    {
     "name": "stderr",
     "output_type": "stream",
     "text": [
      " 39%|███████████████████████████████████████████████████████▊                                                                                      | 86/219 [02:33<04:05,  1.85s/it]"
     ]
    },
    {
     "name": "stdout",
     "output_type": "stream",
     "text": [
      "file written: /raid/brats2021/T1wx2Brain_ROIs_BraTS21_Validation/BraTS2021_00997/BraTS2021_00997_BrainROIT1cwx2.nii.gz.\n",
      "file written: /raid/brats2021/T1wx2Brain_ROIs_BraTS21_Validation/BraTS2021_00997/BraTS2021_00997_BrainROI.nii.gz.\n",
      "(2, 240, 240, 155)\n"
     ]
    },
    {
     "name": "stderr",
     "output_type": "stream",
     "text": [
      " 40%|████████████████████████████████████████████████████████▍                                                                                     | 87/219 [02:35<04:00,  1.83s/it]"
     ]
    },
    {
     "name": "stdout",
     "output_type": "stream",
     "text": [
      "file written: /raid/brats2021/T1wx2Brain_ROIs_BraTS21_Validation/BraTS2021_01006/BraTS2021_01006_BrainROIT1cwx2.nii.gz.\n",
      "file written: /raid/brats2021/T1wx2Brain_ROIs_BraTS21_Validation/BraTS2021_01006/BraTS2021_01006_BrainROI.nii.gz.\n",
      "(2, 240, 240, 155)\n"
     ]
    },
    {
     "name": "stderr",
     "output_type": "stream",
     "text": [
      " 40%|█████████████████████████████████████████████████████████                                                                                     | 88/219 [02:37<03:56,  1.80s/it]"
     ]
    },
    {
     "name": "stdout",
     "output_type": "stream",
     "text": [
      "file written: /raid/brats2021/T1wx2Brain_ROIs_BraTS21_Validation/BraTS2021_01667/BraTS2021_01667_BrainROIT1cwx2.nii.gz.\n",
      "file written: /raid/brats2021/T1wx2Brain_ROIs_BraTS21_Validation/BraTS2021_01667/BraTS2021_01667_BrainROI.nii.gz.\n",
      "(2, 240, 240, 155)\n"
     ]
    },
    {
     "name": "stderr",
     "output_type": "stream",
     "text": [
      " 41%|█████████████████████████████████████████████████████████▋                                                                                    | 89/219 [02:39<03:53,  1.79s/it]"
     ]
    },
    {
     "name": "stdout",
     "output_type": "stream",
     "text": [
      "file written: /raid/brats2021/T1wx2Brain_ROIs_BraTS21_Validation/BraTS2021_01668/BraTS2021_01668_BrainROIT1cwx2.nii.gz.\n",
      "file written: /raid/brats2021/T1wx2Brain_ROIs_BraTS21_Validation/BraTS2021_01668/BraTS2021_01668_BrainROI.nii.gz.\n",
      "(2, 240, 240, 155)\n"
     ]
    },
    {
     "name": "stderr",
     "output_type": "stream",
     "text": [
      " 41%|██████████████████████████████████████████████████████████▎                                                                                   | 90/219 [02:40<03:51,  1.79s/it]"
     ]
    },
    {
     "name": "stdout",
     "output_type": "stream",
     "text": [
      "file written: /raid/brats2021/T1wx2Brain_ROIs_BraTS21_Validation/BraTS2021_01669/BraTS2021_01669_BrainROIT1cwx2.nii.gz.\n",
      "file written: /raid/brats2021/T1wx2Brain_ROIs_BraTS21_Validation/BraTS2021_01669/BraTS2021_01669_BrainROI.nii.gz.\n",
      "(2, 240, 240, 155)\n"
     ]
    },
    {
     "name": "stderr",
     "output_type": "stream",
     "text": [
      " 42%|███████████████████████████████████████████████████████████                                                                                   | 91/219 [02:42<03:51,  1.81s/it]"
     ]
    },
    {
     "name": "stdout",
     "output_type": "stream",
     "text": [
      "file written: /raid/brats2021/T1wx2Brain_ROIs_BraTS21_Validation/BraTS2021_01670/BraTS2021_01670_BrainROIT1cwx2.nii.gz.\n",
      "file written: /raid/brats2021/T1wx2Brain_ROIs_BraTS21_Validation/BraTS2021_01670/BraTS2021_01670_BrainROI.nii.gz.\n",
      "(2, 240, 240, 155)\n"
     ]
    },
    {
     "name": "stderr",
     "output_type": "stream",
     "text": [
      " 42%|███████████████████████████████████████████████████████████▋                                                                                  | 92/219 [02:44<03:48,  1.80s/it]"
     ]
    },
    {
     "name": "stdout",
     "output_type": "stream",
     "text": [
      "file written: /raid/brats2021/T1wx2Brain_ROIs_BraTS21_Validation/BraTS2021_01671/BraTS2021_01671_BrainROIT1cwx2.nii.gz.\n",
      "file written: /raid/brats2021/T1wx2Brain_ROIs_BraTS21_Validation/BraTS2021_01671/BraTS2021_01671_BrainROI.nii.gz.\n",
      "(2, 240, 240, 155)\n"
     ]
    },
    {
     "name": "stderr",
     "output_type": "stream",
     "text": [
      " 42%|████████████████████████████████████████████████████████████▎                                                                                 | 93/219 [02:46<03:45,  1.79s/it]"
     ]
    },
    {
     "name": "stdout",
     "output_type": "stream",
     "text": [
      "file written: /raid/brats2021/T1wx2Brain_ROIs_BraTS21_Validation/BraTS2021_01672/BraTS2021_01672_BrainROIT1cwx2.nii.gz.\n",
      "file written: /raid/brats2021/T1wx2Brain_ROIs_BraTS21_Validation/BraTS2021_01672/BraTS2021_01672_BrainROI.nii.gz.\n",
      "(2, 240, 240, 155)\n"
     ]
    },
    {
     "name": "stderr",
     "output_type": "stream",
     "text": [
      " 43%|████████████████████████████████████████████████████████████▉                                                                                 | 94/219 [02:48<03:47,  1.82s/it]"
     ]
    },
    {
     "name": "stdout",
     "output_type": "stream",
     "text": [
      "file written: /raid/brats2021/T1wx2Brain_ROIs_BraTS21_Validation/BraTS2021_01673/BraTS2021_01673_BrainROIT1cwx2.nii.gz.\n",
      "file written: /raid/brats2021/T1wx2Brain_ROIs_BraTS21_Validation/BraTS2021_01673/BraTS2021_01673_BrainROI.nii.gz.\n",
      "(2, 240, 240, 155)\n"
     ]
    },
    {
     "name": "stderr",
     "output_type": "stream",
     "text": [
      " 43%|█████████████████████████████████████████████████████████████▌                                                                                | 95/219 [02:50<03:49,  1.85s/it]"
     ]
    },
    {
     "name": "stdout",
     "output_type": "stream",
     "text": [
      "file written: /raid/brats2021/T1wx2Brain_ROIs_BraTS21_Validation/BraTS2021_01674/BraTS2021_01674_BrainROIT1cwx2.nii.gz.\n",
      "file written: /raid/brats2021/T1wx2Brain_ROIs_BraTS21_Validation/BraTS2021_01674/BraTS2021_01674_BrainROI.nii.gz.\n",
      "(2, 240, 240, 155)\n"
     ]
    },
    {
     "name": "stderr",
     "output_type": "stream",
     "text": [
      " 44%|██████████████████████████████████████████████████████████████▏                                                                               | 96/219 [02:52<03:52,  1.89s/it]"
     ]
    },
    {
     "name": "stdout",
     "output_type": "stream",
     "text": [
      "file written: /raid/brats2021/T1wx2Brain_ROIs_BraTS21_Validation/BraTS2021_01675/BraTS2021_01675_BrainROIT1cwx2.nii.gz.\n",
      "file written: /raid/brats2021/T1wx2Brain_ROIs_BraTS21_Validation/BraTS2021_01675/BraTS2021_01675_BrainROI.nii.gz.\n",
      "(2, 240, 240, 155)\n"
     ]
    },
    {
     "name": "stderr",
     "output_type": "stream",
     "text": [
      " 44%|██████████████████████████████████████████████████████████████▉                                                                               | 97/219 [02:53<03:45,  1.85s/it]"
     ]
    },
    {
     "name": "stdout",
     "output_type": "stream",
     "text": [
      "file written: /raid/brats2021/T1wx2Brain_ROIs_BraTS21_Validation/BraTS2021_01676/BraTS2021_01676_BrainROIT1cwx2.nii.gz.\n",
      "file written: /raid/brats2021/T1wx2Brain_ROIs_BraTS21_Validation/BraTS2021_01676/BraTS2021_01676_BrainROI.nii.gz.\n",
      "(2, 240, 240, 155)\n"
     ]
    },
    {
     "name": "stderr",
     "output_type": "stream",
     "text": [
      " 45%|███████████████████████████████████████████████████████████████▌                                                                              | 98/219 [02:55<03:42,  1.84s/it]"
     ]
    },
    {
     "name": "stdout",
     "output_type": "stream",
     "text": [
      "file written: /raid/brats2021/T1wx2Brain_ROIs_BraTS21_Validation/BraTS2021_01677/BraTS2021_01677_BrainROIT1cwx2.nii.gz.\n",
      "file written: /raid/brats2021/T1wx2Brain_ROIs_BraTS21_Validation/BraTS2021_01677/BraTS2021_01677_BrainROI.nii.gz.\n",
      "(2, 240, 240, 155)\n"
     ]
    },
    {
     "name": "stderr",
     "output_type": "stream",
     "text": [
      " 45%|████████████████████████████████████████████████████████████████▏                                                                             | 99/219 [02:57<03:36,  1.81s/it]"
     ]
    },
    {
     "name": "stdout",
     "output_type": "stream",
     "text": [
      "file written: /raid/brats2021/T1wx2Brain_ROIs_BraTS21_Validation/BraTS2021_01678/BraTS2021_01678_BrainROIT1cwx2.nii.gz.\n",
      "file written: /raid/brats2021/T1wx2Brain_ROIs_BraTS21_Validation/BraTS2021_01678/BraTS2021_01678_BrainROI.nii.gz.\n",
      "(2, 240, 240, 155)\n"
     ]
    },
    {
     "name": "stderr",
     "output_type": "stream",
     "text": [
      " 46%|████████████████████████████████████████████████████████████████▍                                                                            | 100/219 [02:59<03:32,  1.79s/it]"
     ]
    },
    {
     "name": "stdout",
     "output_type": "stream",
     "text": [
      "file written: /raid/brats2021/T1wx2Brain_ROIs_BraTS21_Validation/BraTS2021_01679/BraTS2021_01679_BrainROIT1cwx2.nii.gz.\n",
      "file written: /raid/brats2021/T1wx2Brain_ROIs_BraTS21_Validation/BraTS2021_01679/BraTS2021_01679_BrainROI.nii.gz.\n",
      "(2, 240, 240, 155)\n"
     ]
    },
    {
     "name": "stderr",
     "output_type": "stream",
     "text": [
      " 46%|█████████████████████████████████████████████████████████████████                                                                            | 101/219 [03:00<03:29,  1.78s/it]"
     ]
    },
    {
     "name": "stdout",
     "output_type": "stream",
     "text": [
      "file written: /raid/brats2021/T1wx2Brain_ROIs_BraTS21_Validation/BraTS2021_01680/BraTS2021_01680_BrainROIT1cwx2.nii.gz.\n",
      "file written: /raid/brats2021/T1wx2Brain_ROIs_BraTS21_Validation/BraTS2021_01680/BraTS2021_01680_BrainROI.nii.gz.\n",
      "(2, 240, 240, 155)\n"
     ]
    },
    {
     "name": "stderr",
     "output_type": "stream",
     "text": [
      " 47%|█████████████████████████████████████████████████████████████████▋                                                                           | 102/219 [03:02<03:29,  1.79s/it]"
     ]
    },
    {
     "name": "stdout",
     "output_type": "stream",
     "text": [
      "file written: /raid/brats2021/T1wx2Brain_ROIs_BraTS21_Validation/BraTS2021_01681/BraTS2021_01681_BrainROIT1cwx2.nii.gz.\n",
      "file written: /raid/brats2021/T1wx2Brain_ROIs_BraTS21_Validation/BraTS2021_01681/BraTS2021_01681_BrainROI.nii.gz.\n",
      "(2, 240, 240, 155)\n"
     ]
    },
    {
     "name": "stderr",
     "output_type": "stream",
     "text": [
      " 47%|██████████████████████████████████████████████████████████████████▎                                                                          | 103/219 [03:04<03:28,  1.80s/it]"
     ]
    },
    {
     "name": "stdout",
     "output_type": "stream",
     "text": [
      "file written: /raid/brats2021/T1wx2Brain_ROIs_BraTS21_Validation/BraTS2021_01682/BraTS2021_01682_BrainROIT1cwx2.nii.gz.\n",
      "file written: /raid/brats2021/T1wx2Brain_ROIs_BraTS21_Validation/BraTS2021_01682/BraTS2021_01682_BrainROI.nii.gz.\n",
      "(2, 240, 240, 155)\n"
     ]
    },
    {
     "name": "stderr",
     "output_type": "stream",
     "text": [
      " 47%|██████████████████████████████████████████████████████████████████▉                                                                          | 104/219 [03:06<03:25,  1.79s/it]"
     ]
    },
    {
     "name": "stdout",
     "output_type": "stream",
     "text": [
      "file written: /raid/brats2021/T1wx2Brain_ROIs_BraTS21_Validation/BraTS2021_01683/BraTS2021_01683_BrainROIT1cwx2.nii.gz.\n",
      "file written: /raid/brats2021/T1wx2Brain_ROIs_BraTS21_Validation/BraTS2021_01683/BraTS2021_01683_BrainROI.nii.gz.\n",
      "(2, 240, 240, 155)\n"
     ]
    },
    {
     "name": "stderr",
     "output_type": "stream",
     "text": [
      " 48%|███████████████████████████████████████████████████████████████████▌                                                                         | 105/219 [03:08<03:23,  1.78s/it]"
     ]
    },
    {
     "name": "stdout",
     "output_type": "stream",
     "text": [
      "file written: /raid/brats2021/T1wx2Brain_ROIs_BraTS21_Validation/BraTS2021_01684/BraTS2021_01684_BrainROIT1cwx2.nii.gz.\n",
      "file written: /raid/brats2021/T1wx2Brain_ROIs_BraTS21_Validation/BraTS2021_01684/BraTS2021_01684_BrainROI.nii.gz.\n",
      "(2, 240, 240, 155)\n"
     ]
    },
    {
     "name": "stderr",
     "output_type": "stream",
     "text": [
      " 48%|████████████████████████████████████████████████████████████████████▏                                                                        | 106/219 [03:09<03:22,  1.79s/it]"
     ]
    },
    {
     "name": "stdout",
     "output_type": "stream",
     "text": [
      "file written: /raid/brats2021/T1wx2Brain_ROIs_BraTS21_Validation/BraTS2021_01685/BraTS2021_01685_BrainROIT1cwx2.nii.gz.\n",
      "file written: /raid/brats2021/T1wx2Brain_ROIs_BraTS21_Validation/BraTS2021_01685/BraTS2021_01685_BrainROI.nii.gz.\n",
      "(2, 240, 240, 155)\n"
     ]
    },
    {
     "name": "stderr",
     "output_type": "stream",
     "text": [
      " 49%|████████████████████████████████████████████████████████████████████▉                                                                        | 107/219 [03:11<03:19,  1.78s/it]"
     ]
    },
    {
     "name": "stdout",
     "output_type": "stream",
     "text": [
      "file written: /raid/brats2021/T1wx2Brain_ROIs_BraTS21_Validation/BraTS2021_01686/BraTS2021_01686_BrainROIT1cwx2.nii.gz.\n",
      "file written: /raid/brats2021/T1wx2Brain_ROIs_BraTS21_Validation/BraTS2021_01686/BraTS2021_01686_BrainROI.nii.gz.\n",
      "(2, 240, 240, 155)\n"
     ]
    },
    {
     "name": "stderr",
     "output_type": "stream",
     "text": [
      " 49%|█████████████████████████████████████████████████████████████████████▌                                                                       | 108/219 [03:13<03:19,  1.80s/it]"
     ]
    },
    {
     "name": "stdout",
     "output_type": "stream",
     "text": [
      "file written: /raid/brats2021/T1wx2Brain_ROIs_BraTS21_Validation/BraTS2021_01687/BraTS2021_01687_BrainROIT1cwx2.nii.gz.\n",
      "file written: /raid/brats2021/T1wx2Brain_ROIs_BraTS21_Validation/BraTS2021_01687/BraTS2021_01687_BrainROI.nii.gz.\n",
      "(2, 240, 240, 155)\n"
     ]
    },
    {
     "name": "stderr",
     "output_type": "stream",
     "text": [
      " 50%|██████████████████████████████████████████████████████████████████████▏                                                                      | 109/219 [03:15<03:18,  1.80s/it]"
     ]
    },
    {
     "name": "stdout",
     "output_type": "stream",
     "text": [
      "file written: /raid/brats2021/T1wx2Brain_ROIs_BraTS21_Validation/BraTS2021_01688/BraTS2021_01688_BrainROIT1cwx2.nii.gz.\n",
      "file written: /raid/brats2021/T1wx2Brain_ROIs_BraTS21_Validation/BraTS2021_01688/BraTS2021_01688_BrainROI.nii.gz.\n",
      "(2, 240, 240, 155)\n"
     ]
    },
    {
     "name": "stderr",
     "output_type": "stream",
     "text": [
      " 50%|██████████████████████████████████████████████████████████████████████▊                                                                      | 110/219 [03:17<03:15,  1.80s/it]"
     ]
    },
    {
     "name": "stdout",
     "output_type": "stream",
     "text": [
      "file written: /raid/brats2021/T1wx2Brain_ROIs_BraTS21_Validation/BraTS2021_01689/BraTS2021_01689_BrainROIT1cwx2.nii.gz.\n",
      "file written: /raid/brats2021/T1wx2Brain_ROIs_BraTS21_Validation/BraTS2021_01689/BraTS2021_01689_BrainROI.nii.gz.\n",
      "(2, 240, 240, 155)\n"
     ]
    },
    {
     "name": "stderr",
     "output_type": "stream",
     "text": [
      " 51%|███████████████████████████████████████████████████████████████████████▍                                                                     | 111/219 [03:18<03:12,  1.78s/it]"
     ]
    },
    {
     "name": "stdout",
     "output_type": "stream",
     "text": [
      "file written: /raid/brats2021/T1wx2Brain_ROIs_BraTS21_Validation/BraTS2021_01690/BraTS2021_01690_BrainROIT1cwx2.nii.gz.\n",
      "file written: /raid/brats2021/T1wx2Brain_ROIs_BraTS21_Validation/BraTS2021_01690/BraTS2021_01690_BrainROI.nii.gz.\n",
      "(2, 240, 240, 155)\n"
     ]
    },
    {
     "name": "stderr",
     "output_type": "stream",
     "text": [
      " 51%|████████████████████████████████████████████████████████████████████████                                                                     | 112/219 [03:20<03:09,  1.77s/it]"
     ]
    },
    {
     "name": "stdout",
     "output_type": "stream",
     "text": [
      "file written: /raid/brats2021/T1wx2Brain_ROIs_BraTS21_Validation/BraTS2021_01691/BraTS2021_01691_BrainROIT1cwx2.nii.gz.\n",
      "file written: /raid/brats2021/T1wx2Brain_ROIs_BraTS21_Validation/BraTS2021_01691/BraTS2021_01691_BrainROI.nii.gz.\n",
      "(2, 240, 240, 155)\n"
     ]
    },
    {
     "name": "stderr",
     "output_type": "stream",
     "text": [
      " 52%|████████████████████████████████████████████████████████████████████████▊                                                                    | 113/219 [03:22<03:07,  1.77s/it]"
     ]
    },
    {
     "name": "stdout",
     "output_type": "stream",
     "text": [
      "file written: /raid/brats2021/T1wx2Brain_ROIs_BraTS21_Validation/BraTS2021_01692/BraTS2021_01692_BrainROIT1cwx2.nii.gz.\n",
      "file written: /raid/brats2021/T1wx2Brain_ROIs_BraTS21_Validation/BraTS2021_01692/BraTS2021_01692_BrainROI.nii.gz.\n",
      "(2, 240, 240, 155)\n"
     ]
    },
    {
     "name": "stderr",
     "output_type": "stream",
     "text": [
      " 52%|█████████████████████████████████████████████████████████████████████████▍                                                                   | 114/219 [03:24<03:05,  1.76s/it]"
     ]
    },
    {
     "name": "stdout",
     "output_type": "stream",
     "text": [
      "file written: /raid/brats2021/T1wx2Brain_ROIs_BraTS21_Validation/BraTS2021_01693/BraTS2021_01693_BrainROIT1cwx2.nii.gz.\n",
      "file written: /raid/brats2021/T1wx2Brain_ROIs_BraTS21_Validation/BraTS2021_01693/BraTS2021_01693_BrainROI.nii.gz.\n",
      "(2, 240, 240, 155)\n"
     ]
    },
    {
     "name": "stderr",
     "output_type": "stream",
     "text": [
      " 53%|██████████████████████████████████████████████████████████████████████████                                                                   | 115/219 [03:25<03:05,  1.78s/it]"
     ]
    },
    {
     "name": "stdout",
     "output_type": "stream",
     "text": [
      "file written: /raid/brats2021/T1wx2Brain_ROIs_BraTS21_Validation/BraTS2021_01694/BraTS2021_01694_BrainROIT1cwx2.nii.gz.\n",
      "file written: /raid/brats2021/T1wx2Brain_ROIs_BraTS21_Validation/BraTS2021_01694/BraTS2021_01694_BrainROI.nii.gz.\n",
      "(2, 240, 240, 155)\n"
     ]
    },
    {
     "name": "stderr",
     "output_type": "stream",
     "text": [
      " 53%|██████████████████████████████████████████████████████████████████████████▋                                                                  | 116/219 [03:27<03:04,  1.79s/it]"
     ]
    },
    {
     "name": "stdout",
     "output_type": "stream",
     "text": [
      "file written: /raid/brats2021/T1wx2Brain_ROIs_BraTS21_Validation/BraTS2021_01695/BraTS2021_01695_BrainROIT1cwx2.nii.gz.\n",
      "file written: /raid/brats2021/T1wx2Brain_ROIs_BraTS21_Validation/BraTS2021_01695/BraTS2021_01695_BrainROI.nii.gz.\n",
      "(2, 240, 240, 155)\n"
     ]
    },
    {
     "name": "stderr",
     "output_type": "stream",
     "text": [
      " 53%|███████████████████████████████████████████████████████████████████████████▎                                                                 | 117/219 [03:29<03:02,  1.78s/it]"
     ]
    },
    {
     "name": "stdout",
     "output_type": "stream",
     "text": [
      "file written: /raid/brats2021/T1wx2Brain_ROIs_BraTS21_Validation/BraTS2021_01696/BraTS2021_01696_BrainROIT1cwx2.nii.gz.\n",
      "file written: /raid/brats2021/T1wx2Brain_ROIs_BraTS21_Validation/BraTS2021_01696/BraTS2021_01696_BrainROI.nii.gz.\n",
      "(2, 240, 240, 155)\n"
     ]
    },
    {
     "name": "stderr",
     "output_type": "stream",
     "text": [
      " 54%|███████████████████████████████████████████████████████████████████████████▉                                                                 | 118/219 [03:31<03:01,  1.79s/it]"
     ]
    },
    {
     "name": "stdout",
     "output_type": "stream",
     "text": [
      "file written: /raid/brats2021/T1wx2Brain_ROIs_BraTS21_Validation/BraTS2021_01697/BraTS2021_01697_BrainROIT1cwx2.nii.gz.\n",
      "file written: /raid/brats2021/T1wx2Brain_ROIs_BraTS21_Validation/BraTS2021_01697/BraTS2021_01697_BrainROI.nii.gz.\n",
      "(2, 240, 240, 155)\n"
     ]
    },
    {
     "name": "stderr",
     "output_type": "stream",
     "text": [
      " 54%|████████████████████████████████████████████████████████████████████████████▌                                                                | 119/219 [03:33<02:58,  1.79s/it]"
     ]
    },
    {
     "name": "stdout",
     "output_type": "stream",
     "text": [
      "file written: /raid/brats2021/T1wx2Brain_ROIs_BraTS21_Validation/BraTS2021_01698/BraTS2021_01698_BrainROIT1cwx2.nii.gz.\n",
      "file written: /raid/brats2021/T1wx2Brain_ROIs_BraTS21_Validation/BraTS2021_01698/BraTS2021_01698_BrainROI.nii.gz.\n",
      "(2, 240, 240, 155)\n"
     ]
    },
    {
     "name": "stderr",
     "output_type": "stream",
     "text": [
      " 55%|█████████████████████████████████████████████████████████████████████████████▎                                                               | 120/219 [03:34<02:57,  1.80s/it]"
     ]
    },
    {
     "name": "stdout",
     "output_type": "stream",
     "text": [
      "file written: /raid/brats2021/T1wx2Brain_ROIs_BraTS21_Validation/BraTS2021_01699/BraTS2021_01699_BrainROIT1cwx2.nii.gz.\n",
      "file written: /raid/brats2021/T1wx2Brain_ROIs_BraTS21_Validation/BraTS2021_01699/BraTS2021_01699_BrainROI.nii.gz.\n",
      "(2, 240, 240, 155)\n"
     ]
    },
    {
     "name": "stderr",
     "output_type": "stream",
     "text": [
      " 55%|█████████████████████████████████████████████████████████████████████████████▉                                                               | 121/219 [03:36<02:57,  1.81s/it]"
     ]
    },
    {
     "name": "stdout",
     "output_type": "stream",
     "text": [
      "file written: /raid/brats2021/T1wx2Brain_ROIs_BraTS21_Validation/BraTS2021_01700/BraTS2021_01700_BrainROIT1cwx2.nii.gz.\n",
      "file written: /raid/brats2021/T1wx2Brain_ROIs_BraTS21_Validation/BraTS2021_01700/BraTS2021_01700_BrainROI.nii.gz.\n",
      "(2, 240, 240, 155)\n"
     ]
    },
    {
     "name": "stderr",
     "output_type": "stream",
     "text": [
      " 56%|██████████████████████████████████████████████████████████████████████████████▌                                                              | 122/219 [03:38<02:53,  1.79s/it]"
     ]
    },
    {
     "name": "stdout",
     "output_type": "stream",
     "text": [
      "file written: /raid/brats2021/T1wx2Brain_ROIs_BraTS21_Validation/BraTS2021_01701/BraTS2021_01701_BrainROIT1cwx2.nii.gz.\n",
      "file written: /raid/brats2021/T1wx2Brain_ROIs_BraTS21_Validation/BraTS2021_01701/BraTS2021_01701_BrainROI.nii.gz.\n",
      "(2, 240, 240, 155)\n"
     ]
    },
    {
     "name": "stderr",
     "output_type": "stream",
     "text": [
      " 56%|███████████████████████████████████████████████████████████████████████████████▏                                                             | 123/219 [03:40<02:50,  1.78s/it]"
     ]
    },
    {
     "name": "stdout",
     "output_type": "stream",
     "text": [
      "file written: /raid/brats2021/T1wx2Brain_ROIs_BraTS21_Validation/BraTS2021_01702/BraTS2021_01702_BrainROIT1cwx2.nii.gz.\n",
      "file written: /raid/brats2021/T1wx2Brain_ROIs_BraTS21_Validation/BraTS2021_01702/BraTS2021_01702_BrainROI.nii.gz.\n",
      "(2, 240, 240, 155)\n"
     ]
    },
    {
     "name": "stderr",
     "output_type": "stream",
     "text": [
      " 57%|███████████████████████████████████████████████████████████████████████████████▊                                                             | 124/219 [03:42<02:48,  1.77s/it]"
     ]
    },
    {
     "name": "stdout",
     "output_type": "stream",
     "text": [
      "file written: /raid/brats2021/T1wx2Brain_ROIs_BraTS21_Validation/BraTS2021_01703/BraTS2021_01703_BrainROIT1cwx2.nii.gz.\n",
      "file written: /raid/brats2021/T1wx2Brain_ROIs_BraTS21_Validation/BraTS2021_01703/BraTS2021_01703_BrainROI.nii.gz.\n",
      "(2, 240, 240, 155)\n"
     ]
    },
    {
     "name": "stderr",
     "output_type": "stream",
     "text": [
      " 57%|████████████████████████████████████████████████████████████████████████████████▍                                                            | 125/219 [03:43<02:46,  1.77s/it]"
     ]
    },
    {
     "name": "stdout",
     "output_type": "stream",
     "text": [
      "file written: /raid/brats2021/T1wx2Brain_ROIs_BraTS21_Validation/BraTS2021_01704/BraTS2021_01704_BrainROIT1cwx2.nii.gz.\n",
      "file written: /raid/brats2021/T1wx2Brain_ROIs_BraTS21_Validation/BraTS2021_01704/BraTS2021_01704_BrainROI.nii.gz.\n",
      "(2, 240, 240, 155)\n"
     ]
    },
    {
     "name": "stderr",
     "output_type": "stream",
     "text": [
      " 58%|█████████████████████████████████████████████████████████████████████████████████                                                            | 126/219 [03:45<02:44,  1.77s/it]"
     ]
    },
    {
     "name": "stdout",
     "output_type": "stream",
     "text": [
      "file written: /raid/brats2021/T1wx2Brain_ROIs_BraTS21_Validation/BraTS2021_01705/BraTS2021_01705_BrainROIT1cwx2.nii.gz.\n",
      "file written: /raid/brats2021/T1wx2Brain_ROIs_BraTS21_Validation/BraTS2021_01705/BraTS2021_01705_BrainROI.nii.gz.\n",
      "(2, 240, 240, 155)\n"
     ]
    },
    {
     "name": "stderr",
     "output_type": "stream",
     "text": [
      " 58%|█████████████████████████████████████████████████████████████████████████████████▊                                                           | 127/219 [03:47<02:42,  1.76s/it]"
     ]
    },
    {
     "name": "stdout",
     "output_type": "stream",
     "text": [
      "file written: /raid/brats2021/T1wx2Brain_ROIs_BraTS21_Validation/BraTS2021_01706/BraTS2021_01706_BrainROIT1cwx2.nii.gz.\n",
      "file written: /raid/brats2021/T1wx2Brain_ROIs_BraTS21_Validation/BraTS2021_01706/BraTS2021_01706_BrainROI.nii.gz.\n",
      "(2, 240, 240, 155)\n"
     ]
    },
    {
     "name": "stderr",
     "output_type": "stream",
     "text": [
      " 58%|██████████████████████████████████████████████████████████████████████████████████▍                                                          | 128/219 [03:49<02:41,  1.77s/it]"
     ]
    },
    {
     "name": "stdout",
     "output_type": "stream",
     "text": [
      "file written: /raid/brats2021/T1wx2Brain_ROIs_BraTS21_Validation/BraTS2021_01707/BraTS2021_01707_BrainROIT1cwx2.nii.gz.\n",
      "file written: /raid/brats2021/T1wx2Brain_ROIs_BraTS21_Validation/BraTS2021_01707/BraTS2021_01707_BrainROI.nii.gz.\n",
      "(2, 240, 240, 155)\n"
     ]
    },
    {
     "name": "stderr",
     "output_type": "stream",
     "text": [
      " 59%|███████████████████████████████████████████████████████████████████████████████████                                                          | 129/219 [03:50<02:38,  1.76s/it]"
     ]
    },
    {
     "name": "stdout",
     "output_type": "stream",
     "text": [
      "file written: /raid/brats2021/T1wx2Brain_ROIs_BraTS21_Validation/BraTS2021_01708/BraTS2021_01708_BrainROIT1cwx2.nii.gz.\n",
      "file written: /raid/brats2021/T1wx2Brain_ROIs_BraTS21_Validation/BraTS2021_01708/BraTS2021_01708_BrainROI.nii.gz.\n",
      "(2, 240, 240, 155)\n"
     ]
    },
    {
     "name": "stderr",
     "output_type": "stream",
     "text": [
      " 59%|███████████████████████████████████████████████████████████████████████████████████▋                                                         | 130/219 [03:52<02:37,  1.77s/it]"
     ]
    },
    {
     "name": "stdout",
     "output_type": "stream",
     "text": [
      "file written: /raid/brats2021/T1wx2Brain_ROIs_BraTS21_Validation/BraTS2021_01709/BraTS2021_01709_BrainROIT1cwx2.nii.gz.\n",
      "file written: /raid/brats2021/T1wx2Brain_ROIs_BraTS21_Validation/BraTS2021_01709/BraTS2021_01709_BrainROI.nii.gz.\n",
      "(2, 240, 240, 155)\n"
     ]
    },
    {
     "name": "stderr",
     "output_type": "stream",
     "text": [
      " 60%|████████████████████████████████████████████████████████████████████████████████████▎                                                        | 131/219 [03:54<02:35,  1.77s/it]"
     ]
    },
    {
     "name": "stdout",
     "output_type": "stream",
     "text": [
      "file written: /raid/brats2021/T1wx2Brain_ROIs_BraTS21_Validation/BraTS2021_01710/BraTS2021_01710_BrainROIT1cwx2.nii.gz.\n",
      "file written: /raid/brats2021/T1wx2Brain_ROIs_BraTS21_Validation/BraTS2021_01710/BraTS2021_01710_BrainROI.nii.gz.\n",
      "(2, 240, 240, 155)\n"
     ]
    },
    {
     "name": "stderr",
     "output_type": "stream",
     "text": [
      " 60%|████████████████████████████████████████████████████████████████████████████████████▉                                                        | 132/219 [03:56<02:34,  1.77s/it]"
     ]
    },
    {
     "name": "stdout",
     "output_type": "stream",
     "text": [
      "file written: /raid/brats2021/T1wx2Brain_ROIs_BraTS21_Validation/BraTS2021_01711/BraTS2021_01711_BrainROIT1cwx2.nii.gz.\n",
      "file written: /raid/brats2021/T1wx2Brain_ROIs_BraTS21_Validation/BraTS2021_01711/BraTS2021_01711_BrainROI.nii.gz.\n",
      "(2, 240, 240, 155)\n"
     ]
    },
    {
     "name": "stderr",
     "output_type": "stream",
     "text": [
      " 61%|█████████████████████████████████████████████████████████████████████████████████████▋                                                       | 133/219 [03:57<02:32,  1.77s/it]"
     ]
    },
    {
     "name": "stdout",
     "output_type": "stream",
     "text": [
      "file written: /raid/brats2021/T1wx2Brain_ROIs_BraTS21_Validation/BraTS2021_01712/BraTS2021_01712_BrainROIT1cwx2.nii.gz.\n",
      "file written: /raid/brats2021/T1wx2Brain_ROIs_BraTS21_Validation/BraTS2021_01712/BraTS2021_01712_BrainROI.nii.gz.\n",
      "(2, 240, 240, 155)\n"
     ]
    },
    {
     "name": "stderr",
     "output_type": "stream",
     "text": [
      " 61%|██████████████████████████████████████████████████████████████████████████████████████▎                                                      | 134/219 [03:59<02:30,  1.77s/it]"
     ]
    },
    {
     "name": "stdout",
     "output_type": "stream",
     "text": [
      "file written: /raid/brats2021/T1wx2Brain_ROIs_BraTS21_Validation/BraTS2021_01713/BraTS2021_01713_BrainROIT1cwx2.nii.gz.\n",
      "file written: /raid/brats2021/T1wx2Brain_ROIs_BraTS21_Validation/BraTS2021_01713/BraTS2021_01713_BrainROI.nii.gz.\n",
      "(2, 240, 240, 155)\n"
     ]
    },
    {
     "name": "stderr",
     "output_type": "stream",
     "text": [
      " 62%|██████████████████████████████████████████████████████████████████████████████████████▉                                                      | 135/219 [04:01<02:28,  1.77s/it]"
     ]
    },
    {
     "name": "stdout",
     "output_type": "stream",
     "text": [
      "file written: /raid/brats2021/T1wx2Brain_ROIs_BraTS21_Validation/BraTS2021_01714/BraTS2021_01714_BrainROIT1cwx2.nii.gz.\n",
      "file written: /raid/brats2021/T1wx2Brain_ROIs_BraTS21_Validation/BraTS2021_01714/BraTS2021_01714_BrainROI.nii.gz.\n",
      "(2, 240, 240, 155)\n"
     ]
    },
    {
     "name": "stderr",
     "output_type": "stream",
     "text": [
      " 62%|███████████████████████████████████████████████████████████████████████████████████████▌                                                     | 136/219 [04:03<02:27,  1.77s/it]"
     ]
    },
    {
     "name": "stdout",
     "output_type": "stream",
     "text": [
      "file written: /raid/brats2021/T1wx2Brain_ROIs_BraTS21_Validation/BraTS2021_01715/BraTS2021_01715_BrainROIT1cwx2.nii.gz.\n",
      "file written: /raid/brats2021/T1wx2Brain_ROIs_BraTS21_Validation/BraTS2021_01715/BraTS2021_01715_BrainROI.nii.gz.\n",
      "(2, 240, 240, 155)\n"
     ]
    },
    {
     "name": "stderr",
     "output_type": "stream",
     "text": [
      " 63%|████████████████████████████████████████████████████████████████████████████████████████▏                                                    | 137/219 [04:05<02:26,  1.79s/it]"
     ]
    },
    {
     "name": "stdout",
     "output_type": "stream",
     "text": [
      "file written: /raid/brats2021/T1wx2Brain_ROIs_BraTS21_Validation/BraTS2021_01716/BraTS2021_01716_BrainROIT1cwx2.nii.gz.\n",
      "file written: /raid/brats2021/T1wx2Brain_ROIs_BraTS21_Validation/BraTS2021_01716/BraTS2021_01716_BrainROI.nii.gz.\n",
      "(2, 240, 240, 155)\n"
     ]
    },
    {
     "name": "stderr",
     "output_type": "stream",
     "text": [
      " 63%|████████████████████████████████████████████████████████████████████████████████████████▊                                                    | 138/219 [04:06<02:24,  1.78s/it]"
     ]
    },
    {
     "name": "stdout",
     "output_type": "stream",
     "text": [
      "file written: /raid/brats2021/T1wx2Brain_ROIs_BraTS21_Validation/BraTS2021_01717/BraTS2021_01717_BrainROIT1cwx2.nii.gz.\n",
      "file written: /raid/brats2021/T1wx2Brain_ROIs_BraTS21_Validation/BraTS2021_01717/BraTS2021_01717_BrainROI.nii.gz.\n",
      "(2, 240, 240, 155)\n"
     ]
    },
    {
     "name": "stderr",
     "output_type": "stream",
     "text": [
      " 63%|█████████████████████████████████████████████████████████████████████████████████████████▍                                                   | 139/219 [04:08<02:23,  1.79s/it]"
     ]
    },
    {
     "name": "stdout",
     "output_type": "stream",
     "text": [
      "file written: /raid/brats2021/T1wx2Brain_ROIs_BraTS21_Validation/BraTS2021_01718/BraTS2021_01718_BrainROIT1cwx2.nii.gz.\n",
      "file written: /raid/brats2021/T1wx2Brain_ROIs_BraTS21_Validation/BraTS2021_01718/BraTS2021_01718_BrainROI.nii.gz.\n",
      "(2, 240, 240, 155)\n"
     ]
    },
    {
     "name": "stderr",
     "output_type": "stream",
     "text": [
      " 64%|██████████████████████████████████████████████████████████████████████████████████████████▏                                                  | 140/219 [04:10<02:20,  1.78s/it]"
     ]
    },
    {
     "name": "stdout",
     "output_type": "stream",
     "text": [
      "file written: /raid/brats2021/T1wx2Brain_ROIs_BraTS21_Validation/BraTS2021_01719/BraTS2021_01719_BrainROIT1cwx2.nii.gz.\n",
      "file written: /raid/brats2021/T1wx2Brain_ROIs_BraTS21_Validation/BraTS2021_01719/BraTS2021_01719_BrainROI.nii.gz.\n",
      "(2, 240, 240, 155)\n"
     ]
    },
    {
     "name": "stderr",
     "output_type": "stream",
     "text": [
      " 64%|██████████████████████████████████████████████████████████████████████████████████████████▊                                                  | 141/219 [04:12<02:18,  1.78s/it]"
     ]
    },
    {
     "name": "stdout",
     "output_type": "stream",
     "text": [
      "file written: /raid/brats2021/T1wx2Brain_ROIs_BraTS21_Validation/BraTS2021_01720/BraTS2021_01720_BrainROIT1cwx2.nii.gz.\n",
      "file written: /raid/brats2021/T1wx2Brain_ROIs_BraTS21_Validation/BraTS2021_01720/BraTS2021_01720_BrainROI.nii.gz.\n",
      "(2, 240, 240, 155)\n"
     ]
    },
    {
     "name": "stderr",
     "output_type": "stream",
     "text": [
      " 65%|███████████████████████████████████████████████████████████████████████████████████████████▍                                                 | 142/219 [04:13<02:16,  1.77s/it]"
     ]
    },
    {
     "name": "stdout",
     "output_type": "stream",
     "text": [
      "file written: /raid/brats2021/T1wx2Brain_ROIs_BraTS21_Validation/BraTS2021_01721/BraTS2021_01721_BrainROIT1cwx2.nii.gz.\n",
      "file written: /raid/brats2021/T1wx2Brain_ROIs_BraTS21_Validation/BraTS2021_01721/BraTS2021_01721_BrainROI.nii.gz.\n",
      "(2, 240, 240, 155)\n"
     ]
    },
    {
     "name": "stderr",
     "output_type": "stream",
     "text": [
      " 65%|████████████████████████████████████████████████████████████████████████████████████████████                                                 | 143/219 [04:15<02:14,  1.77s/it]"
     ]
    },
    {
     "name": "stdout",
     "output_type": "stream",
     "text": [
      "file written: /raid/brats2021/T1wx2Brain_ROIs_BraTS21_Validation/BraTS2021_01722/BraTS2021_01722_BrainROIT1cwx2.nii.gz.\n",
      "file written: /raid/brats2021/T1wx2Brain_ROIs_BraTS21_Validation/BraTS2021_01722/BraTS2021_01722_BrainROI.nii.gz.\n",
      "(2, 240, 240, 155)\n"
     ]
    },
    {
     "name": "stderr",
     "output_type": "stream",
     "text": [
      " 66%|████████████████████████████████████████████████████████████████████████████████████████████▋                                                | 144/219 [04:17<02:14,  1.80s/it]"
     ]
    },
    {
     "name": "stdout",
     "output_type": "stream",
     "text": [
      "file written: /raid/brats2021/T1wx2Brain_ROIs_BraTS21_Validation/BraTS2021_01723/BraTS2021_01723_BrainROIT1cwx2.nii.gz.\n",
      "file written: /raid/brats2021/T1wx2Brain_ROIs_BraTS21_Validation/BraTS2021_01723/BraTS2021_01723_BrainROI.nii.gz.\n",
      "(2, 240, 240, 155)\n"
     ]
    },
    {
     "name": "stderr",
     "output_type": "stream",
     "text": [
      " 66%|█████████████████████████████████████████████████████████████████████████████████████████████▎                                               | 145/219 [04:19<02:12,  1.79s/it]"
     ]
    },
    {
     "name": "stdout",
     "output_type": "stream",
     "text": [
      "file written: /raid/brats2021/T1wx2Brain_ROIs_BraTS21_Validation/BraTS2021_01724/BraTS2021_01724_BrainROIT1cwx2.nii.gz.\n",
      "file written: /raid/brats2021/T1wx2Brain_ROIs_BraTS21_Validation/BraTS2021_01724/BraTS2021_01724_BrainROI.nii.gz.\n",
      "(2, 240, 240, 155)\n"
     ]
    },
    {
     "name": "stderr",
     "output_type": "stream",
     "text": [
      " 67%|██████████████████████████████████████████████████████████████████████████████████████████████                                               | 146/219 [04:21<02:10,  1.79s/it]"
     ]
    },
    {
     "name": "stdout",
     "output_type": "stream",
     "text": [
      "file written: /raid/brats2021/T1wx2Brain_ROIs_BraTS21_Validation/BraTS2021_01725/BraTS2021_01725_BrainROIT1cwx2.nii.gz.\n",
      "file written: /raid/brats2021/T1wx2Brain_ROIs_BraTS21_Validation/BraTS2021_01725/BraTS2021_01725_BrainROI.nii.gz.\n",
      "(2, 240, 240, 155)\n"
     ]
    },
    {
     "name": "stderr",
     "output_type": "stream",
     "text": [
      " 67%|██████████████████████████████████████████████████████████████████████████████████████████████▋                                              | 147/219 [04:22<02:07,  1.77s/it]"
     ]
    },
    {
     "name": "stdout",
     "output_type": "stream",
     "text": [
      "file written: /raid/brats2021/T1wx2Brain_ROIs_BraTS21_Validation/BraTS2021_01726/BraTS2021_01726_BrainROIT1cwx2.nii.gz.\n",
      "file written: /raid/brats2021/T1wx2Brain_ROIs_BraTS21_Validation/BraTS2021_01726/BraTS2021_01726_BrainROI.nii.gz.\n",
      "(2, 240, 240, 155)\n"
     ]
    },
    {
     "name": "stderr",
     "output_type": "stream",
     "text": [
      " 68%|███████████████████████████████████████████████████████████████████████████████████████████████▎                                             | 148/219 [04:24<02:06,  1.78s/it]"
     ]
    },
    {
     "name": "stdout",
     "output_type": "stream",
     "text": [
      "file written: /raid/brats2021/T1wx2Brain_ROIs_BraTS21_Validation/BraTS2021_01727/BraTS2021_01727_BrainROIT1cwx2.nii.gz.\n",
      "file written: /raid/brats2021/T1wx2Brain_ROIs_BraTS21_Validation/BraTS2021_01727/BraTS2021_01727_BrainROI.nii.gz.\n",
      "(2, 240, 240, 155)\n"
     ]
    },
    {
     "name": "stderr",
     "output_type": "stream",
     "text": [
      " 68%|███████████████████████████████████████████████████████████████████████████████████████████████▉                                             | 149/219 [04:26<02:04,  1.78s/it]"
     ]
    },
    {
     "name": "stdout",
     "output_type": "stream",
     "text": [
      "file written: /raid/brats2021/T1wx2Brain_ROIs_BraTS21_Validation/BraTS2021_01728/BraTS2021_01728_BrainROIT1cwx2.nii.gz.\n",
      "file written: /raid/brats2021/T1wx2Brain_ROIs_BraTS21_Validation/BraTS2021_01728/BraTS2021_01728_BrainROI.nii.gz.\n",
      "(2, 240, 240, 155)\n"
     ]
    },
    {
     "name": "stderr",
     "output_type": "stream",
     "text": [
      " 68%|████████████████████████████████████████████████████████████████████████████████████████████████▌                                            | 150/219 [04:28<02:02,  1.78s/it]"
     ]
    },
    {
     "name": "stdout",
     "output_type": "stream",
     "text": [
      "file written: /raid/brats2021/T1wx2Brain_ROIs_BraTS21_Validation/BraTS2021_01729/BraTS2021_01729_BrainROIT1cwx2.nii.gz.\n",
      "file written: /raid/brats2021/T1wx2Brain_ROIs_BraTS21_Validation/BraTS2021_01729/BraTS2021_01729_BrainROI.nii.gz.\n",
      "(2, 240, 240, 155)\n"
     ]
    },
    {
     "name": "stderr",
     "output_type": "stream",
     "text": [
      " 69%|█████████████████████████████████████████████████████████████████████████████████████████████████▏                                           | 151/219 [04:29<02:00,  1.77s/it]"
     ]
    },
    {
     "name": "stdout",
     "output_type": "stream",
     "text": [
      "file written: /raid/brats2021/T1wx2Brain_ROIs_BraTS21_Validation/BraTS2021_01730/BraTS2021_01730_BrainROIT1cwx2.nii.gz.\n",
      "file written: /raid/brats2021/T1wx2Brain_ROIs_BraTS21_Validation/BraTS2021_01730/BraTS2021_01730_BrainROI.nii.gz.\n",
      "(2, 240, 240, 155)\n"
     ]
    },
    {
     "name": "stderr",
     "output_type": "stream",
     "text": [
      " 69%|█████████████████████████████████████████████████████████████████████████████████████████████████▊                                           | 152/219 [04:31<01:58,  1.77s/it]"
     ]
    },
    {
     "name": "stdout",
     "output_type": "stream",
     "text": [
      "file written: /raid/brats2021/T1wx2Brain_ROIs_BraTS21_Validation/BraTS2021_01731/BraTS2021_01731_BrainROIT1cwx2.nii.gz.\n",
      "file written: /raid/brats2021/T1wx2Brain_ROIs_BraTS21_Validation/BraTS2021_01731/BraTS2021_01731_BrainROI.nii.gz.\n",
      "(2, 240, 240, 155)\n"
     ]
    },
    {
     "name": "stderr",
     "output_type": "stream",
     "text": [
      " 70%|██████████████████████████████████████████████████████████████████████████████████████████████████▌                                          | 153/219 [04:33<01:56,  1.76s/it]"
     ]
    },
    {
     "name": "stdout",
     "output_type": "stream",
     "text": [
      "file written: /raid/brats2021/T1wx2Brain_ROIs_BraTS21_Validation/BraTS2021_01732/BraTS2021_01732_BrainROIT1cwx2.nii.gz.\n",
      "file written: /raid/brats2021/T1wx2Brain_ROIs_BraTS21_Validation/BraTS2021_01732/BraTS2021_01732_BrainROI.nii.gz.\n",
      "(2, 240, 240, 155)\n"
     ]
    },
    {
     "name": "stderr",
     "output_type": "stream",
     "text": [
      " 70%|███████████████████████████████████████████████████████████████████████████████████████████████████▏                                         | 154/219 [04:35<01:54,  1.77s/it]"
     ]
    },
    {
     "name": "stdout",
     "output_type": "stream",
     "text": [
      "file written: /raid/brats2021/T1wx2Brain_ROIs_BraTS21_Validation/BraTS2021_01733/BraTS2021_01733_BrainROIT1cwx2.nii.gz.\n",
      "file written: /raid/brats2021/T1wx2Brain_ROIs_BraTS21_Validation/BraTS2021_01733/BraTS2021_01733_BrainROI.nii.gz.\n",
      "(2, 240, 240, 155)\n"
     ]
    },
    {
     "name": "stderr",
     "output_type": "stream",
     "text": [
      " 71%|███████████████████████████████████████████████████████████████████████████████████████████████████▊                                         | 155/219 [04:37<01:53,  1.78s/it]"
     ]
    },
    {
     "name": "stdout",
     "output_type": "stream",
     "text": [
      "file written: /raid/brats2021/T1wx2Brain_ROIs_BraTS21_Validation/BraTS2021_01734/BraTS2021_01734_BrainROIT1cwx2.nii.gz.\n",
      "file written: /raid/brats2021/T1wx2Brain_ROIs_BraTS21_Validation/BraTS2021_01734/BraTS2021_01734_BrainROI.nii.gz.\n",
      "(2, 240, 240, 155)\n"
     ]
    },
    {
     "name": "stderr",
     "output_type": "stream",
     "text": [
      " 71%|████████████████████████████████████████████████████████████████████████████████████████████████████▍                                        | 156/219 [04:38<01:51,  1.77s/it]"
     ]
    },
    {
     "name": "stdout",
     "output_type": "stream",
     "text": [
      "file written: /raid/brats2021/T1wx2Brain_ROIs_BraTS21_Validation/BraTS2021_01735/BraTS2021_01735_BrainROIT1cwx2.nii.gz.\n",
      "file written: /raid/brats2021/T1wx2Brain_ROIs_BraTS21_Validation/BraTS2021_01735/BraTS2021_01735_BrainROI.nii.gz.\n",
      "(2, 240, 240, 155)\n"
     ]
    },
    {
     "name": "stderr",
     "output_type": "stream",
     "text": [
      " 72%|█████████████████████████████████████████████████████████████████████████████████████████████████████                                        | 157/219 [04:40<01:49,  1.77s/it]"
     ]
    },
    {
     "name": "stdout",
     "output_type": "stream",
     "text": [
      "file written: /raid/brats2021/T1wx2Brain_ROIs_BraTS21_Validation/BraTS2021_01736/BraTS2021_01736_BrainROIT1cwx2.nii.gz.\n",
      "file written: /raid/brats2021/T1wx2Brain_ROIs_BraTS21_Validation/BraTS2021_01736/BraTS2021_01736_BrainROI.nii.gz.\n",
      "(2, 240, 240, 155)\n"
     ]
    },
    {
     "name": "stderr",
     "output_type": "stream",
     "text": [
      " 72%|█████████████████████████████████████████████████████████████████████████████████████████████████████▋                                       | 158/219 [04:42<01:50,  1.81s/it]"
     ]
    },
    {
     "name": "stdout",
     "output_type": "stream",
     "text": [
      "file written: /raid/brats2021/T1wx2Brain_ROIs_BraTS21_Validation/BraTS2021_01737/BraTS2021_01737_BrainROIT1cwx2.nii.gz.\n",
      "file written: /raid/brats2021/T1wx2Brain_ROIs_BraTS21_Validation/BraTS2021_01737/BraTS2021_01737_BrainROI.nii.gz.\n",
      "(2, 240, 240, 155)\n"
     ]
    },
    {
     "name": "stderr",
     "output_type": "stream",
     "text": [
      " 73%|██████████████████████████████████████████████████████████████████████████████████████████████████████▎                                      | 159/219 [04:44<01:48,  1.81s/it]"
     ]
    },
    {
     "name": "stdout",
     "output_type": "stream",
     "text": [
      "file written: /raid/brats2021/T1wx2Brain_ROIs_BraTS21_Validation/BraTS2021_01738/BraTS2021_01738_BrainROIT1cwx2.nii.gz.\n",
      "file written: /raid/brats2021/T1wx2Brain_ROIs_BraTS21_Validation/BraTS2021_01738/BraTS2021_01738_BrainROI.nii.gz.\n",
      "(2, 240, 240, 155)\n"
     ]
    },
    {
     "name": "stderr",
     "output_type": "stream",
     "text": [
      " 73%|███████████████████████████████████████████████████████████████████████████████████████████████████████                                      | 160/219 [04:46<01:46,  1.80s/it]"
     ]
    },
    {
     "name": "stdout",
     "output_type": "stream",
     "text": [
      "file written: /raid/brats2021/T1wx2Brain_ROIs_BraTS21_Validation/BraTS2021_01739/BraTS2021_01739_BrainROIT1cwx2.nii.gz.\n",
      "file written: /raid/brats2021/T1wx2Brain_ROIs_BraTS21_Validation/BraTS2021_01739/BraTS2021_01739_BrainROI.nii.gz.\n",
      "(2, 240, 240, 155)\n"
     ]
    },
    {
     "name": "stderr",
     "output_type": "stream",
     "text": [
      " 74%|███████████████████████████████████████████████████████████████████████████████████████████████████████▋                                     | 161/219 [04:47<01:43,  1.79s/it]"
     ]
    },
    {
     "name": "stdout",
     "output_type": "stream",
     "text": [
      "file written: /raid/brats2021/T1wx2Brain_ROIs_BraTS21_Validation/BraTS2021_01740/BraTS2021_01740_BrainROIT1cwx2.nii.gz.\n",
      "file written: /raid/brats2021/T1wx2Brain_ROIs_BraTS21_Validation/BraTS2021_01740/BraTS2021_01740_BrainROI.nii.gz.\n",
      "(2, 240, 240, 155)\n"
     ]
    },
    {
     "name": "stderr",
     "output_type": "stream",
     "text": [
      " 74%|████████████████████████████████████████████████████████████████████████████████████████████████████████▎                                    | 162/219 [04:49<01:41,  1.78s/it]"
     ]
    },
    {
     "name": "stdout",
     "output_type": "stream",
     "text": [
      "file written: /raid/brats2021/T1wx2Brain_ROIs_BraTS21_Validation/BraTS2021_01741/BraTS2021_01741_BrainROIT1cwx2.nii.gz.\n",
      "file written: /raid/brats2021/T1wx2Brain_ROIs_BraTS21_Validation/BraTS2021_01741/BraTS2021_01741_BrainROI.nii.gz.\n",
      "(2, 240, 240, 155)\n"
     ]
    },
    {
     "name": "stderr",
     "output_type": "stream",
     "text": [
      " 74%|████████████████████████████████████████████████████████████████████████████████████████████████████████▉                                    | 163/219 [04:51<01:39,  1.78s/it]"
     ]
    },
    {
     "name": "stdout",
     "output_type": "stream",
     "text": [
      "file written: /raid/brats2021/T1wx2Brain_ROIs_BraTS21_Validation/BraTS2021_01742/BraTS2021_01742_BrainROIT1cwx2.nii.gz.\n",
      "file written: /raid/brats2021/T1wx2Brain_ROIs_BraTS21_Validation/BraTS2021_01742/BraTS2021_01742_BrainROI.nii.gz.\n",
      "(2, 240, 240, 155)\n"
     ]
    },
    {
     "name": "stderr",
     "output_type": "stream",
     "text": [
      " 75%|█████████████████████████████████████████████████████████████████████████████████████████████████████████▌                                   | 164/219 [04:53<01:37,  1.78s/it]"
     ]
    },
    {
     "name": "stdout",
     "output_type": "stream",
     "text": [
      "file written: /raid/brats2021/T1wx2Brain_ROIs_BraTS21_Validation/BraTS2021_01743/BraTS2021_01743_BrainROIT1cwx2.nii.gz.\n",
      "file written: /raid/brats2021/T1wx2Brain_ROIs_BraTS21_Validation/BraTS2021_01743/BraTS2021_01743_BrainROI.nii.gz.\n",
      "(2, 240, 240, 155)\n"
     ]
    },
    {
     "name": "stderr",
     "output_type": "stream",
     "text": [
      " 75%|██████████████████████████████████████████████████████████████████████████████████████████████████████████▏                                  | 165/219 [04:54<01:35,  1.77s/it]"
     ]
    },
    {
     "name": "stdout",
     "output_type": "stream",
     "text": [
      "file written: /raid/brats2021/T1wx2Brain_ROIs_BraTS21_Validation/BraTS2021_01744/BraTS2021_01744_BrainROIT1cwx2.nii.gz.\n",
      "file written: /raid/brats2021/T1wx2Brain_ROIs_BraTS21_Validation/BraTS2021_01744/BraTS2021_01744_BrainROI.nii.gz.\n",
      "(2, 240, 240, 155)\n"
     ]
    },
    {
     "name": "stderr",
     "output_type": "stream",
     "text": [
      " 76%|██████████████████████████████████████████████████████████████████████████████████████████████████████████▉                                  | 166/219 [04:56<01:33,  1.76s/it]"
     ]
    },
    {
     "name": "stdout",
     "output_type": "stream",
     "text": [
      "file written: /raid/brats2021/T1wx2Brain_ROIs_BraTS21_Validation/BraTS2021_01745/BraTS2021_01745_BrainROIT1cwx2.nii.gz.\n",
      "file written: /raid/brats2021/T1wx2Brain_ROIs_BraTS21_Validation/BraTS2021_01745/BraTS2021_01745_BrainROI.nii.gz.\n",
      "(2, 240, 240, 155)\n"
     ]
    },
    {
     "name": "stderr",
     "output_type": "stream",
     "text": [
      " 76%|███████████████████████████████████████████████████████████████████████████████████████████████████████████▌                                 | 167/219 [04:58<01:31,  1.75s/it]"
     ]
    },
    {
     "name": "stdout",
     "output_type": "stream",
     "text": [
      "file written: /raid/brats2021/T1wx2Brain_ROIs_BraTS21_Validation/BraTS2021_01746/BraTS2021_01746_BrainROIT1cwx2.nii.gz.\n",
      "file written: /raid/brats2021/T1wx2Brain_ROIs_BraTS21_Validation/BraTS2021_01746/BraTS2021_01746_BrainROI.nii.gz.\n",
      "(2, 240, 240, 155)\n"
     ]
    },
    {
     "name": "stderr",
     "output_type": "stream",
     "text": [
      " 77%|████████████████████████████████████████████████████████████████████████████████████████████████████████████▏                                | 168/219 [05:00<01:29,  1.76s/it]"
     ]
    },
    {
     "name": "stdout",
     "output_type": "stream",
     "text": [
      "file written: /raid/brats2021/T1wx2Brain_ROIs_BraTS21_Validation/BraTS2021_01747/BraTS2021_01747_BrainROIT1cwx2.nii.gz.\n",
      "file written: /raid/brats2021/T1wx2Brain_ROIs_BraTS21_Validation/BraTS2021_01747/BraTS2021_01747_BrainROI.nii.gz.\n",
      "(2, 240, 240, 155)\n"
     ]
    },
    {
     "name": "stderr",
     "output_type": "stream",
     "text": [
      " 77%|████████████████████████████████████████████████████████████████████████████████████████████████████████████▊                                | 169/219 [05:01<01:27,  1.75s/it]"
     ]
    },
    {
     "name": "stdout",
     "output_type": "stream",
     "text": [
      "file written: /raid/brats2021/T1wx2Brain_ROIs_BraTS21_Validation/BraTS2021_01748/BraTS2021_01748_BrainROIT1cwx2.nii.gz.\n",
      "file written: /raid/brats2021/T1wx2Brain_ROIs_BraTS21_Validation/BraTS2021_01748/BraTS2021_01748_BrainROI.nii.gz.\n",
      "(2, 240, 240, 155)\n"
     ]
    },
    {
     "name": "stderr",
     "output_type": "stream",
     "text": [
      " 78%|█████████████████████████████████████████████████████████████████████████████████████████████████████████████▍                               | 170/219 [05:03<01:25,  1.75s/it]"
     ]
    },
    {
     "name": "stdout",
     "output_type": "stream",
     "text": [
      "file written: /raid/brats2021/T1wx2Brain_ROIs_BraTS21_Validation/BraTS2021_01749/BraTS2021_01749_BrainROIT1cwx2.nii.gz.\n",
      "file written: /raid/brats2021/T1wx2Brain_ROIs_BraTS21_Validation/BraTS2021_01749/BraTS2021_01749_BrainROI.nii.gz.\n",
      "(2, 240, 240, 155)\n"
     ]
    },
    {
     "name": "stderr",
     "output_type": "stream",
     "text": [
      " 78%|██████████████████████████████████████████████████████████████████████████████████████████████████████████████                               | 171/219 [05:05<01:24,  1.76s/it]"
     ]
    },
    {
     "name": "stdout",
     "output_type": "stream",
     "text": [
      "file written: /raid/brats2021/T1wx2Brain_ROIs_BraTS21_Validation/BraTS2021_01750/BraTS2021_01750_BrainROIT1cwx2.nii.gz.\n",
      "file written: /raid/brats2021/T1wx2Brain_ROIs_BraTS21_Validation/BraTS2021_01750/BraTS2021_01750_BrainROI.nii.gz.\n",
      "(2, 240, 240, 155)\n"
     ]
    },
    {
     "name": "stderr",
     "output_type": "stream",
     "text": [
      " 79%|██████████████████████████████████████████████████████████████████████████████████████████████████████████████▋                              | 172/219 [05:07<01:22,  1.76s/it]"
     ]
    },
    {
     "name": "stdout",
     "output_type": "stream",
     "text": [
      "file written: /raid/brats2021/T1wx2Brain_ROIs_BraTS21_Validation/BraTS2021_01751/BraTS2021_01751_BrainROIT1cwx2.nii.gz.\n",
      "file written: /raid/brats2021/T1wx2Brain_ROIs_BraTS21_Validation/BraTS2021_01751/BraTS2021_01751_BrainROI.nii.gz.\n",
      "(2, 240, 240, 155)\n"
     ]
    },
    {
     "name": "stderr",
     "output_type": "stream",
     "text": [
      " 79%|███████████████████████████████████████████████████████████████████████████████████████████████████████████████▍                             | 173/219 [05:08<01:20,  1.76s/it]"
     ]
    },
    {
     "name": "stdout",
     "output_type": "stream",
     "text": [
      "file written: /raid/brats2021/T1wx2Brain_ROIs_BraTS21_Validation/BraTS2021_01752/BraTS2021_01752_BrainROIT1cwx2.nii.gz.\n",
      "file written: /raid/brats2021/T1wx2Brain_ROIs_BraTS21_Validation/BraTS2021_01752/BraTS2021_01752_BrainROI.nii.gz.\n",
      "(2, 240, 240, 155)\n"
     ]
    },
    {
     "name": "stderr",
     "output_type": "stream",
     "text": [
      " 79%|████████████████████████████████████████████████████████████████████████████████████████████████████████████████                             | 174/219 [05:10<01:18,  1.75s/it]"
     ]
    },
    {
     "name": "stdout",
     "output_type": "stream",
     "text": [
      "file written: /raid/brats2021/T1wx2Brain_ROIs_BraTS21_Validation/BraTS2021_01753/BraTS2021_01753_BrainROIT1cwx2.nii.gz.\n",
      "file written: /raid/brats2021/T1wx2Brain_ROIs_BraTS21_Validation/BraTS2021_01753/BraTS2021_01753_BrainROI.nii.gz.\n",
      "(2, 240, 240, 155)\n"
     ]
    },
    {
     "name": "stderr",
     "output_type": "stream",
     "text": [
      " 80%|████████████████████████████████████████████████████████████████████████████████████████████████████████████████▋                            | 175/219 [05:12<01:17,  1.76s/it]"
     ]
    },
    {
     "name": "stdout",
     "output_type": "stream",
     "text": [
      "file written: /raid/brats2021/T1wx2Brain_ROIs_BraTS21_Validation/BraTS2021_01754/BraTS2021_01754_BrainROIT1cwx2.nii.gz.\n",
      "file written: /raid/brats2021/T1wx2Brain_ROIs_BraTS21_Validation/BraTS2021_01754/BraTS2021_01754_BrainROI.nii.gz.\n",
      "(2, 240, 240, 155)\n"
     ]
    },
    {
     "name": "stderr",
     "output_type": "stream",
     "text": [
      " 80%|█████████████████████████████████████████████████████████████████████████████████████████████████████████████████▎                           | 176/219 [05:14<01:15,  1.75s/it]"
     ]
    },
    {
     "name": "stdout",
     "output_type": "stream",
     "text": [
      "file written: /raid/brats2021/T1wx2Brain_ROIs_BraTS21_Validation/BraTS2021_01755/BraTS2021_01755_BrainROIT1cwx2.nii.gz.\n",
      "file written: /raid/brats2021/T1wx2Brain_ROIs_BraTS21_Validation/BraTS2021_01755/BraTS2021_01755_BrainROI.nii.gz.\n",
      "(2, 240, 240, 155)\n"
     ]
    },
    {
     "name": "stderr",
     "output_type": "stream",
     "text": [
      " 81%|█████████████████████████████████████████████████████████████████████████████████████████████████████████████████▉                           | 177/219 [05:15<01:13,  1.76s/it]"
     ]
    },
    {
     "name": "stdout",
     "output_type": "stream",
     "text": [
      "file written: /raid/brats2021/T1wx2Brain_ROIs_BraTS21_Validation/BraTS2021_01756/BraTS2021_01756_BrainROIT1cwx2.nii.gz.\n",
      "file written: /raid/brats2021/T1wx2Brain_ROIs_BraTS21_Validation/BraTS2021_01756/BraTS2021_01756_BrainROI.nii.gz.\n",
      "(2, 240, 240, 155)\n"
     ]
    },
    {
     "name": "stderr",
     "output_type": "stream",
     "text": [
      " 81%|██████████████████████████████████████████████████████████████████████████████████████████████████████████████████▌                          | 178/219 [05:17<01:12,  1.76s/it]"
     ]
    },
    {
     "name": "stdout",
     "output_type": "stream",
     "text": [
      "file written: /raid/brats2021/T1wx2Brain_ROIs_BraTS21_Validation/BraTS2021_01757/BraTS2021_01757_BrainROIT1cwx2.nii.gz.\n",
      "file written: /raid/brats2021/T1wx2Brain_ROIs_BraTS21_Validation/BraTS2021_01757/BraTS2021_01757_BrainROI.nii.gz.\n",
      "(2, 240, 240, 155)\n"
     ]
    },
    {
     "name": "stderr",
     "output_type": "stream",
     "text": [
      " 82%|███████████████████████████████████████████████████████████████████████████████████████████████████████████████████▏                         | 179/219 [05:19<01:10,  1.75s/it]"
     ]
    },
    {
     "name": "stdout",
     "output_type": "stream",
     "text": [
      "file written: /raid/brats2021/T1wx2Brain_ROIs_BraTS21_Validation/BraTS2021_01758/BraTS2021_01758_BrainROIT1cwx2.nii.gz.\n",
      "file written: /raid/brats2021/T1wx2Brain_ROIs_BraTS21_Validation/BraTS2021_01758/BraTS2021_01758_BrainROI.nii.gz.\n",
      "(2, 240, 240, 155)\n"
     ]
    },
    {
     "name": "stderr",
     "output_type": "stream",
     "text": [
      " 82%|███████████████████████████████████████████████████████████████████████████████████████████████████████████████████▉                         | 180/219 [05:21<01:08,  1.75s/it]"
     ]
    },
    {
     "name": "stdout",
     "output_type": "stream",
     "text": [
      "file written: /raid/brats2021/T1wx2Brain_ROIs_BraTS21_Validation/BraTS2021_01759/BraTS2021_01759_BrainROIT1cwx2.nii.gz.\n",
      "file written: /raid/brats2021/T1wx2Brain_ROIs_BraTS21_Validation/BraTS2021_01759/BraTS2021_01759_BrainROI.nii.gz.\n",
      "(2, 240, 240, 155)\n"
     ]
    },
    {
     "name": "stderr",
     "output_type": "stream",
     "text": [
      " 83%|████████████████████████████████████████████████████████████████████████████████████████████████████████████████████▌                        | 181/219 [05:22<01:06,  1.76s/it]"
     ]
    },
    {
     "name": "stdout",
     "output_type": "stream",
     "text": [
      "file written: /raid/brats2021/T1wx2Brain_ROIs_BraTS21_Validation/BraTS2021_01760/BraTS2021_01760_BrainROIT1cwx2.nii.gz.\n",
      "file written: /raid/brats2021/T1wx2Brain_ROIs_BraTS21_Validation/BraTS2021_01760/BraTS2021_01760_BrainROI.nii.gz.\n",
      "(2, 240, 240, 155)\n"
     ]
    },
    {
     "name": "stderr",
     "output_type": "stream",
     "text": [
      " 83%|█████████████████████████████████████████████████████████████████████████████████████████████████████████████████████▏                       | 182/219 [05:24<01:04,  1.76s/it]"
     ]
    },
    {
     "name": "stdout",
     "output_type": "stream",
     "text": [
      "file written: /raid/brats2021/T1wx2Brain_ROIs_BraTS21_Validation/BraTS2021_01761/BraTS2021_01761_BrainROIT1cwx2.nii.gz.\n",
      "file written: /raid/brats2021/T1wx2Brain_ROIs_BraTS21_Validation/BraTS2021_01761/BraTS2021_01761_BrainROI.nii.gz.\n",
      "(2, 240, 240, 155)\n"
     ]
    },
    {
     "name": "stderr",
     "output_type": "stream",
     "text": [
      " 84%|█████████████████████████████████████████████████████████████████████████████████████████████████████████████████████▊                       | 183/219 [05:26<01:03,  1.76s/it]"
     ]
    },
    {
     "name": "stdout",
     "output_type": "stream",
     "text": [
      "file written: /raid/brats2021/T1wx2Brain_ROIs_BraTS21_Validation/BraTS2021_01762/BraTS2021_01762_BrainROIT1cwx2.nii.gz.\n",
      "file written: /raid/brats2021/T1wx2Brain_ROIs_BraTS21_Validation/BraTS2021_01762/BraTS2021_01762_BrainROI.nii.gz.\n",
      "(2, 240, 240, 155)\n"
     ]
    },
    {
     "name": "stderr",
     "output_type": "stream",
     "text": [
      " 84%|██████████████████████████████████████████████████████████████████████████████████████████████████████████████████████▍                      | 184/219 [05:28<01:01,  1.75s/it]"
     ]
    },
    {
     "name": "stdout",
     "output_type": "stream",
     "text": [
      "file written: /raid/brats2021/T1wx2Brain_ROIs_BraTS21_Validation/BraTS2021_01763/BraTS2021_01763_BrainROIT1cwx2.nii.gz.\n",
      "file written: /raid/brats2021/T1wx2Brain_ROIs_BraTS21_Validation/BraTS2021_01763/BraTS2021_01763_BrainROI.nii.gz.\n",
      "(2, 240, 240, 155)\n"
     ]
    },
    {
     "name": "stderr",
     "output_type": "stream",
     "text": [
      " 84%|███████████████████████████████████████████████████████████████████████████████████████████████████████████████████████                      | 185/219 [05:29<00:59,  1.75s/it]"
     ]
    },
    {
     "name": "stdout",
     "output_type": "stream",
     "text": [
      "file written: /raid/brats2021/T1wx2Brain_ROIs_BraTS21_Validation/BraTS2021_01764/BraTS2021_01764_BrainROIT1cwx2.nii.gz.\n",
      "file written: /raid/brats2021/T1wx2Brain_ROIs_BraTS21_Validation/BraTS2021_01764/BraTS2021_01764_BrainROI.nii.gz.\n",
      "(2, 240, 240, 155)\n"
     ]
    },
    {
     "name": "stderr",
     "output_type": "stream",
     "text": [
      " 85%|███████████████████████████████████████████████████████████████████████████████████████████████████████████████████████▊                     | 186/219 [05:31<00:59,  1.80s/it]"
     ]
    },
    {
     "name": "stdout",
     "output_type": "stream",
     "text": [
      "file written: /raid/brats2021/T1wx2Brain_ROIs_BraTS21_Validation/BraTS2021_01765/BraTS2021_01765_BrainROIT1cwx2.nii.gz.\n",
      "file written: /raid/brats2021/T1wx2Brain_ROIs_BraTS21_Validation/BraTS2021_01765/BraTS2021_01765_BrainROI.nii.gz.\n",
      "(2, 240, 240, 155)\n"
     ]
    },
    {
     "name": "stderr",
     "output_type": "stream",
     "text": [
      " 85%|████████████████████████████████████████████████████████████████████████████████████████████████████████████████████████▍                    | 187/219 [05:33<00:58,  1.84s/it]"
     ]
    },
    {
     "name": "stdout",
     "output_type": "stream",
     "text": [
      "file written: /raid/brats2021/T1wx2Brain_ROIs_BraTS21_Validation/BraTS2021_01766/BraTS2021_01766_BrainROIT1cwx2.nii.gz.\n",
      "file written: /raid/brats2021/T1wx2Brain_ROIs_BraTS21_Validation/BraTS2021_01766/BraTS2021_01766_BrainROI.nii.gz.\n",
      "(2, 240, 240, 155)\n"
     ]
    },
    {
     "name": "stderr",
     "output_type": "stream",
     "text": [
      " 86%|█████████████████████████████████████████████████████████████████████████████████████████████████████████████████████████                    | 188/219 [05:35<00:57,  1.85s/it]"
     ]
    },
    {
     "name": "stdout",
     "output_type": "stream",
     "text": [
      "file written: /raid/brats2021/T1wx2Brain_ROIs_BraTS21_Validation/BraTS2021_01767/BraTS2021_01767_BrainROIT1cwx2.nii.gz.\n",
      "file written: /raid/brats2021/T1wx2Brain_ROIs_BraTS21_Validation/BraTS2021_01767/BraTS2021_01767_BrainROI.nii.gz.\n",
      "(2, 240, 240, 155)\n"
     ]
    },
    {
     "name": "stderr",
     "output_type": "stream",
     "text": [
      " 86%|█████████████████████████████████████████████████████████████████████████████████████████████████████████████████████████▋                   | 189/219 [05:37<00:56,  1.87s/it]"
     ]
    },
    {
     "name": "stdout",
     "output_type": "stream",
     "text": [
      "file written: /raid/brats2021/T1wx2Brain_ROIs_BraTS21_Validation/BraTS2021_01768/BraTS2021_01768_BrainROIT1cwx2.nii.gz.\n",
      "file written: /raid/brats2021/T1wx2Brain_ROIs_BraTS21_Validation/BraTS2021_01768/BraTS2021_01768_BrainROI.nii.gz.\n",
      "(2, 240, 240, 155)\n"
     ]
    },
    {
     "name": "stderr",
     "output_type": "stream",
     "text": [
      " 87%|██████████████████████████████████████████████████████████████████████████████████████████████████████████████████████████▎                  | 190/219 [05:39<00:54,  1.88s/it]"
     ]
    },
    {
     "name": "stdout",
     "output_type": "stream",
     "text": [
      "file written: /raid/brats2021/T1wx2Brain_ROIs_BraTS21_Validation/BraTS2021_01769/BraTS2021_01769_BrainROIT1cwx2.nii.gz.\n",
      "file written: /raid/brats2021/T1wx2Brain_ROIs_BraTS21_Validation/BraTS2021_01769/BraTS2021_01769_BrainROI.nii.gz.\n",
      "(2, 240, 240, 155)\n"
     ]
    },
    {
     "name": "stderr",
     "output_type": "stream",
     "text": [
      " 87%|██████████████████████████████████████████████████████████████████████████████████████████████████████████████████████████▉                  | 191/219 [05:41<00:53,  1.90s/it]"
     ]
    },
    {
     "name": "stdout",
     "output_type": "stream",
     "text": [
      "file written: /raid/brats2021/T1wx2Brain_ROIs_BraTS21_Validation/BraTS2021_01770/BraTS2021_01770_BrainROIT1cwx2.nii.gz.\n",
      "file written: /raid/brats2021/T1wx2Brain_ROIs_BraTS21_Validation/BraTS2021_01770/BraTS2021_01770_BrainROI.nii.gz.\n",
      "(2, 240, 240, 155)\n"
     ]
    },
    {
     "name": "stderr",
     "output_type": "stream",
     "text": [
      " 88%|███████████████████████████████████████████████████████████████████████████████████████████████████████████████████████████▌                 | 192/219 [05:43<00:51,  1.92s/it]"
     ]
    },
    {
     "name": "stdout",
     "output_type": "stream",
     "text": [
      "file written: /raid/brats2021/T1wx2Brain_ROIs_BraTS21_Validation/BraTS2021_01771/BraTS2021_01771_BrainROIT1cwx2.nii.gz.\n",
      "file written: /raid/brats2021/T1wx2Brain_ROIs_BraTS21_Validation/BraTS2021_01771/BraTS2021_01771_BrainROI.nii.gz.\n",
      "(2, 240, 240, 155)\n"
     ]
    },
    {
     "name": "stderr",
     "output_type": "stream",
     "text": [
      " 88%|████████████████████████████████████████████████████████████████████████████████████████████████████████████████████████████▎                | 193/219 [05:45<00:50,  1.93s/it]"
     ]
    },
    {
     "name": "stdout",
     "output_type": "stream",
     "text": [
      "file written: /raid/brats2021/T1wx2Brain_ROIs_BraTS21_Validation/BraTS2021_01772/BraTS2021_01772_BrainROIT1cwx2.nii.gz.\n",
      "file written: /raid/brats2021/T1wx2Brain_ROIs_BraTS21_Validation/BraTS2021_01772/BraTS2021_01772_BrainROI.nii.gz.\n",
      "(2, 240, 240, 155)\n"
     ]
    },
    {
     "name": "stderr",
     "output_type": "stream",
     "text": [
      " 89%|████████████████████████████████████████████████████████████████████████████████████████████████████████████████████████████▉                | 194/219 [05:47<00:47,  1.88s/it]"
     ]
    },
    {
     "name": "stdout",
     "output_type": "stream",
     "text": [
      "file written: /raid/brats2021/T1wx2Brain_ROIs_BraTS21_Validation/BraTS2021_01773/BraTS2021_01773_BrainROIT1cwx2.nii.gz.\n",
      "file written: /raid/brats2021/T1wx2Brain_ROIs_BraTS21_Validation/BraTS2021_01773/BraTS2021_01773_BrainROI.nii.gz.\n",
      "(2, 240, 240, 155)\n"
     ]
    },
    {
     "name": "stderr",
     "output_type": "stream",
     "text": [
      " 89%|█████████████████████████████████████████████████████████████████████████████████████████████████████████████████████████████▌               | 195/219 [05:48<00:44,  1.84s/it]"
     ]
    },
    {
     "name": "stdout",
     "output_type": "stream",
     "text": [
      "file written: /raid/brats2021/T1wx2Brain_ROIs_BraTS21_Validation/BraTS2021_01774/BraTS2021_01774_BrainROIT1cwx2.nii.gz.\n",
      "file written: /raid/brats2021/T1wx2Brain_ROIs_BraTS21_Validation/BraTS2021_01774/BraTS2021_01774_BrainROI.nii.gz.\n",
      "(2, 240, 240, 155)\n"
     ]
    },
    {
     "name": "stderr",
     "output_type": "stream",
     "text": [
      " 89%|██████████████████████████████████████████████████████████████████████████████████████████████████████████████████████████████▏              | 196/219 [05:50<00:41,  1.82s/it]"
     ]
    },
    {
     "name": "stdout",
     "output_type": "stream",
     "text": [
      "file written: /raid/brats2021/T1wx2Brain_ROIs_BraTS21_Validation/BraTS2021_01775/BraTS2021_01775_BrainROIT1cwx2.nii.gz.\n",
      "file written: /raid/brats2021/T1wx2Brain_ROIs_BraTS21_Validation/BraTS2021_01775/BraTS2021_01775_BrainROI.nii.gz.\n",
      "(2, 240, 240, 155)\n"
     ]
    },
    {
     "name": "stderr",
     "output_type": "stream",
     "text": [
      " 90%|██████████████████████████████████████████████████████████████████████████████████████████████████████████████████████████████▊              | 197/219 [05:52<00:39,  1.81s/it]"
     ]
    },
    {
     "name": "stdout",
     "output_type": "stream",
     "text": [
      "file written: /raid/brats2021/T1wx2Brain_ROIs_BraTS21_Validation/BraTS2021_01776/BraTS2021_01776_BrainROIT1cwx2.nii.gz.\n",
      "file written: /raid/brats2021/T1wx2Brain_ROIs_BraTS21_Validation/BraTS2021_01776/BraTS2021_01776_BrainROI.nii.gz.\n",
      "(2, 240, 240, 155)\n"
     ]
    },
    {
     "name": "stderr",
     "output_type": "stream",
     "text": [
      " 90%|███████████████████████████████████████████████████████████████████████████████████████████████████████████████████████████████▍             | 198/219 [05:54<00:38,  1.85s/it]"
     ]
    },
    {
     "name": "stdout",
     "output_type": "stream",
     "text": [
      "file written: /raid/brats2021/T1wx2Brain_ROIs_BraTS21_Validation/BraTS2021_01777/BraTS2021_01777_BrainROIT1cwx2.nii.gz.\n",
      "file written: /raid/brats2021/T1wx2Brain_ROIs_BraTS21_Validation/BraTS2021_01777/BraTS2021_01777_BrainROI.nii.gz.\n",
      "(2, 240, 240, 155)\n"
     ]
    },
    {
     "name": "stderr",
     "output_type": "stream",
     "text": [
      " 91%|████████████████████████████████████████████████████████████████████████████████████████████████████████████████████████████████             | 199/219 [05:56<00:37,  1.88s/it]"
     ]
    },
    {
     "name": "stdout",
     "output_type": "stream",
     "text": [
      "file written: /raid/brats2021/T1wx2Brain_ROIs_BraTS21_Validation/BraTS2021_01778/BraTS2021_01778_BrainROIT1cwx2.nii.gz.\n",
      "file written: /raid/brats2021/T1wx2Brain_ROIs_BraTS21_Validation/BraTS2021_01778/BraTS2021_01778_BrainROI.nii.gz.\n",
      "(2, 240, 240, 155)\n"
     ]
    },
    {
     "name": "stderr",
     "output_type": "stream",
     "text": [
      " 91%|████████████████████████████████████████████████████████████████████████████████████████████████████████████████████████████████▊            | 200/219 [05:58<00:36,  1.91s/it]"
     ]
    },
    {
     "name": "stdout",
     "output_type": "stream",
     "text": [
      "file written: /raid/brats2021/T1wx2Brain_ROIs_BraTS21_Validation/BraTS2021_01779/BraTS2021_01779_BrainROIT1cwx2.nii.gz.\n",
      "file written: /raid/brats2021/T1wx2Brain_ROIs_BraTS21_Validation/BraTS2021_01779/BraTS2021_01779_BrainROI.nii.gz.\n",
      "(2, 240, 240, 155)\n"
     ]
    },
    {
     "name": "stderr",
     "output_type": "stream",
     "text": [
      " 92%|█████████████████████████████████████████████████████████████████████████████████████████████████████████████████████████████████▍           | 201/219 [06:00<00:34,  1.92s/it]"
     ]
    },
    {
     "name": "stdout",
     "output_type": "stream",
     "text": [
      "file written: /raid/brats2021/T1wx2Brain_ROIs_BraTS21_Validation/BraTS2021_01780/BraTS2021_01780_BrainROIT1cwx2.nii.gz.\n",
      "file written: /raid/brats2021/T1wx2Brain_ROIs_BraTS21_Validation/BraTS2021_01780/BraTS2021_01780_BrainROI.nii.gz.\n",
      "(2, 240, 240, 155)\n"
     ]
    },
    {
     "name": "stderr",
     "output_type": "stream",
     "text": [
      " 92%|██████████████████████████████████████████████████████████████████████████████████████████████████████████████████████████████████           | 202/219 [06:02<00:32,  1.91s/it]"
     ]
    },
    {
     "name": "stdout",
     "output_type": "stream",
     "text": [
      "file written: /raid/brats2021/T1wx2Brain_ROIs_BraTS21_Validation/BraTS2021_01781/BraTS2021_01781_BrainROIT1cwx2.nii.gz.\n",
      "file written: /raid/brats2021/T1wx2Brain_ROIs_BraTS21_Validation/BraTS2021_01781/BraTS2021_01781_BrainROI.nii.gz.\n",
      "(2, 240, 240, 155)\n"
     ]
    },
    {
     "name": "stderr",
     "output_type": "stream",
     "text": [
      " 93%|██████████████████████████████████████████████████████████████████████████████████████████████████████████████████████████████████▋          | 203/219 [06:04<00:30,  1.92s/it]"
     ]
    },
    {
     "name": "stdout",
     "output_type": "stream",
     "text": [
      "file written: /raid/brats2021/T1wx2Brain_ROIs_BraTS21_Validation/BraTS2021_01782/BraTS2021_01782_BrainROIT1cwx2.nii.gz.\n",
      "file written: /raid/brats2021/T1wx2Brain_ROIs_BraTS21_Validation/BraTS2021_01782/BraTS2021_01782_BrainROI.nii.gz.\n",
      "(2, 240, 240, 155)\n"
     ]
    },
    {
     "name": "stderr",
     "output_type": "stream",
     "text": [
      " 93%|███████████████████████████████████████████████████████████████████████████████████████████████████████████████████████████████████▎         | 204/219 [06:06<00:28,  1.92s/it]"
     ]
    },
    {
     "name": "stdout",
     "output_type": "stream",
     "text": [
      "file written: /raid/brats2021/T1wx2Brain_ROIs_BraTS21_Validation/BraTS2021_01783/BraTS2021_01783_BrainROIT1cwx2.nii.gz.\n",
      "file written: /raid/brats2021/T1wx2Brain_ROIs_BraTS21_Validation/BraTS2021_01783/BraTS2021_01783_BrainROI.nii.gz.\n",
      "(2, 240, 240, 155)\n"
     ]
    },
    {
     "name": "stderr",
     "output_type": "stream",
     "text": [
      " 94%|███████████████████████████████████████████████████████████████████████████████████████████████████████████████████████████████████▉         | 205/219 [06:07<00:26,  1.92s/it]"
     ]
    },
    {
     "name": "stdout",
     "output_type": "stream",
     "text": [
      "file written: /raid/brats2021/T1wx2Brain_ROIs_BraTS21_Validation/BraTS2021_01784/BraTS2021_01784_BrainROIT1cwx2.nii.gz.\n",
      "file written: /raid/brats2021/T1wx2Brain_ROIs_BraTS21_Validation/BraTS2021_01784/BraTS2021_01784_BrainROI.nii.gz.\n",
      "(2, 240, 240, 155)\n"
     ]
    },
    {
     "name": "stderr",
     "output_type": "stream",
     "text": [
      " 94%|████████████████████████████████████████████████████████████████████████████████████████████████████████████████████████████████████▋        | 206/219 [06:09<00:25,  1.94s/it]"
     ]
    },
    {
     "name": "stdout",
     "output_type": "stream",
     "text": [
      "file written: /raid/brats2021/T1wx2Brain_ROIs_BraTS21_Validation/BraTS2021_01785/BraTS2021_01785_BrainROIT1cwx2.nii.gz.\n",
      "file written: /raid/brats2021/T1wx2Brain_ROIs_BraTS21_Validation/BraTS2021_01785/BraTS2021_01785_BrainROI.nii.gz.\n",
      "(2, 240, 240, 155)\n"
     ]
    },
    {
     "name": "stderr",
     "output_type": "stream",
     "text": [
      " 95%|█████████████████████████████████████████████████████████████████████████████████████████████████████████████████████████████████████▎       | 207/219 [06:11<00:23,  1.94s/it]"
     ]
    },
    {
     "name": "stdout",
     "output_type": "stream",
     "text": [
      "file written: /raid/brats2021/T1wx2Brain_ROIs_BraTS21_Validation/BraTS2021_01786/BraTS2021_01786_BrainROIT1cwx2.nii.gz.\n",
      "file written: /raid/brats2021/T1wx2Brain_ROIs_BraTS21_Validation/BraTS2021_01786/BraTS2021_01786_BrainROI.nii.gz.\n",
      "(2, 240, 240, 155)\n"
     ]
    },
    {
     "name": "stderr",
     "output_type": "stream",
     "text": [
      " 95%|█████████████████████████████████████████████████████████████████████████████████████████████████████████████████████████████████████▉       | 208/219 [06:13<00:21,  1.94s/it]"
     ]
    },
    {
     "name": "stdout",
     "output_type": "stream",
     "text": [
      "file written: /raid/brats2021/T1wx2Brain_ROIs_BraTS21_Validation/BraTS2021_01787/BraTS2021_01787_BrainROIT1cwx2.nii.gz.\n",
      "file written: /raid/brats2021/T1wx2Brain_ROIs_BraTS21_Validation/BraTS2021_01787/BraTS2021_01787_BrainROI.nii.gz.\n",
      "(2, 240, 240, 155)\n"
     ]
    },
    {
     "name": "stderr",
     "output_type": "stream",
     "text": [
      " 95%|██████████████████████████████████████████████████████████████████████████████████████████████████████████████████████████████████████▌      | 209/219 [06:15<00:19,  1.93s/it]"
     ]
    },
    {
     "name": "stdout",
     "output_type": "stream",
     "text": [
      "file written: /raid/brats2021/T1wx2Brain_ROIs_BraTS21_Validation/BraTS2021_01788/BraTS2021_01788_BrainROIT1cwx2.nii.gz.\n",
      "file written: /raid/brats2021/T1wx2Brain_ROIs_BraTS21_Validation/BraTS2021_01788/BraTS2021_01788_BrainROI.nii.gz.\n",
      "(2, 240, 240, 155)\n"
     ]
    },
    {
     "name": "stderr",
     "output_type": "stream",
     "text": [
      " 96%|███████████████████████████████████████████████████████████████████████████████████████████████████████████████████████████████████████▏     | 210/219 [06:17<00:16,  1.88s/it]"
     ]
    },
    {
     "name": "stdout",
     "output_type": "stream",
     "text": [
      "file written: /raid/brats2021/T1wx2Brain_ROIs_BraTS21_Validation/BraTS2021_01789/BraTS2021_01789_BrainROIT1cwx2.nii.gz.\n",
      "file written: /raid/brats2021/T1wx2Brain_ROIs_BraTS21_Validation/BraTS2021_01789/BraTS2021_01789_BrainROI.nii.gz.\n",
      "(2, 240, 240, 155)\n"
     ]
    },
    {
     "name": "stderr",
     "output_type": "stream",
     "text": [
      " 96%|███████████████████████████████████████████████████████████████████████████████████████████████████████████████████████████████████████▊     | 211/219 [06:19<00:14,  1.84s/it]"
     ]
    },
    {
     "name": "stdout",
     "output_type": "stream",
     "text": [
      "file written: /raid/brats2021/T1wx2Brain_ROIs_BraTS21_Validation/BraTS2021_01790/BraTS2021_01790_BrainROIT1cwx2.nii.gz.\n",
      "file written: /raid/brats2021/T1wx2Brain_ROIs_BraTS21_Validation/BraTS2021_01790/BraTS2021_01790_BrainROI.nii.gz.\n",
      "(2, 240, 240, 155)\n"
     ]
    },
    {
     "name": "stderr",
     "output_type": "stream",
     "text": [
      " 97%|████████████████████████████████████████████████████████████████████████████████████████████████████████████████████████████████████████▍    | 212/219 [06:21<00:13,  1.87s/it]"
     ]
    },
    {
     "name": "stdout",
     "output_type": "stream",
     "text": [
      "file written: /raid/brats2021/T1wx2Brain_ROIs_BraTS21_Validation/BraTS2021_01791/BraTS2021_01791_BrainROIT1cwx2.nii.gz.\n",
      "file written: /raid/brats2021/T1wx2Brain_ROIs_BraTS21_Validation/BraTS2021_01791/BraTS2021_01791_BrainROI.nii.gz.\n",
      "(2, 240, 240, 155)\n"
     ]
    },
    {
     "name": "stderr",
     "output_type": "stream",
     "text": [
      " 97%|█████████████████████████████████████████████████████████████████████████████████████████████████████████████████████████████████████████▏   | 213/219 [06:23<00:11,  1.89s/it]"
     ]
    },
    {
     "name": "stdout",
     "output_type": "stream",
     "text": [
      "file written: /raid/brats2021/T1wx2Brain_ROIs_BraTS21_Validation/BraTS2021_01792/BraTS2021_01792_BrainROIT1cwx2.nii.gz.\n",
      "file written: /raid/brats2021/T1wx2Brain_ROIs_BraTS21_Validation/BraTS2021_01792/BraTS2021_01792_BrainROI.nii.gz.\n",
      "(2, 240, 240, 155)\n"
     ]
    },
    {
     "name": "stderr",
     "output_type": "stream",
     "text": [
      " 98%|█████████████████████████████████████████████████████████████████████████████████████████████████████████████████████████████████████████▊   | 214/219 [06:24<00:09,  1.90s/it]"
     ]
    },
    {
     "name": "stdout",
     "output_type": "stream",
     "text": [
      "file written: /raid/brats2021/T1wx2Brain_ROIs_BraTS21_Validation/BraTS2021_01793/BraTS2021_01793_BrainROIT1cwx2.nii.gz.\n",
      "file written: /raid/brats2021/T1wx2Brain_ROIs_BraTS21_Validation/BraTS2021_01793/BraTS2021_01793_BrainROI.nii.gz.\n",
      "(2, 240, 240, 155)\n"
     ]
    },
    {
     "name": "stderr",
     "output_type": "stream",
     "text": [
      " 98%|██████████████████████████████████████████████████████████████████████████████████████████████████████████████████████████████████████████▍  | 215/219 [06:26<00:07,  1.91s/it]"
     ]
    },
    {
     "name": "stdout",
     "output_type": "stream",
     "text": [
      "file written: /raid/brats2021/T1wx2Brain_ROIs_BraTS21_Validation/BraTS2021_01794/BraTS2021_01794_BrainROIT1cwx2.nii.gz.\n",
      "file written: /raid/brats2021/T1wx2Brain_ROIs_BraTS21_Validation/BraTS2021_01794/BraTS2021_01794_BrainROI.nii.gz.\n",
      "(2, 240, 240, 155)\n"
     ]
    },
    {
     "name": "stderr",
     "output_type": "stream",
     "text": [
      " 99%|███████████████████████████████████████████████████████████████████████████████████████████████████████████████████████████████████████████  | 216/219 [06:28<00:05,  1.92s/it]"
     ]
    },
    {
     "name": "stdout",
     "output_type": "stream",
     "text": [
      "file written: /raid/brats2021/T1wx2Brain_ROIs_BraTS21_Validation/BraTS2021_01795/BraTS2021_01795_BrainROIT1cwx2.nii.gz.\n",
      "file written: /raid/brats2021/T1wx2Brain_ROIs_BraTS21_Validation/BraTS2021_01795/BraTS2021_01795_BrainROI.nii.gz.\n",
      "(2, 240, 240, 155)\n"
     ]
    },
    {
     "name": "stderr",
     "output_type": "stream",
     "text": [
      " 99%|███████████████████████████████████████████████████████████████████████████████████████████████████████████████████████████████████████████▋ | 217/219 [06:30<00:03,  1.94s/it]"
     ]
    },
    {
     "name": "stdout",
     "output_type": "stream",
     "text": [
      "file written: /raid/brats2021/T1wx2Brain_ROIs_BraTS21_Validation/BraTS2021_01796/BraTS2021_01796_BrainROIT1cwx2.nii.gz.\n",
      "file written: /raid/brats2021/T1wx2Brain_ROIs_BraTS21_Validation/BraTS2021_01796/BraTS2021_01796_BrainROI.nii.gz.\n",
      "(2, 240, 240, 155)\n"
     ]
    },
    {
     "name": "stderr",
     "output_type": "stream",
     "text": [
      "100%|████████████████████████████████████████████████████████████████████████████████████████████████████████████████████████████████████████████▎| 218/219 [06:32<00:01,  1.93s/it]"
     ]
    },
    {
     "name": "stdout",
     "output_type": "stream",
     "text": [
      "file written: /raid/brats2021/T1wx2Brain_ROIs_BraTS21_Validation/BraTS2021_01797/BraTS2021_01797_BrainROIT1cwx2.nii.gz.\n",
      "file written: /raid/brats2021/T1wx2Brain_ROIs_BraTS21_Validation/BraTS2021_01797/BraTS2021_01797_BrainROI.nii.gz.\n",
      "(2, 240, 240, 155)\n"
     ]
    },
    {
     "name": "stderr",
     "output_type": "stream",
     "text": [
      "100%|█████████████████████████████████████████████████████████████████████████████████████████████████████████████████████████████████████████████| 219/219 [06:34<00:00,  1.80s/it]"
     ]
    },
    {
     "name": "stdout",
     "output_type": "stream",
     "text": [
      "file written: /raid/brats2021/T1wx2Brain_ROIs_BraTS21_Validation/BraTS2021_01798/BraTS2021_01798_BrainROIT1cwx2.nii.gz.\n",
      "file written: /raid/brats2021/T1wx2Brain_ROIs_BraTS21_Validation/BraTS2021_01798/BraTS2021_01798_BrainROI.nii.gz.\n",
      "(2, 240, 240, 155)\n"
     ]
    },
    {
     "name": "stderr",
     "output_type": "stream",
     "text": [
      "\n"
     ]
    }
   ],
   "source": [
    "for i in tqdm(range(len(ds_brats21validation_4SaveMask))):\n",
    "#for i in tqdm(range(50)):\n",
    "    print(ds_brats21validation_4SaveMask[i]['brain_mask'].shape)"
   ]
  },
  {
   "cell_type": "markdown",
   "metadata": {},
   "source": [
    "## Creating masks for BraTS 2020 dataset"
   ]
  },
  {
   "cell_type": "markdown",
   "metadata": {},
   "source": [
    "### BraTS20 Validation"
   ]
  },
  {
   "cell_type": "code",
   "execution_count": 14,
   "metadata": {},
   "outputs": [
    {
     "data": {
      "text/plain": [
       "'/home/mmiv-ml/data/MICCAI_BraTS2020_ValidationData'"
      ]
     },
     "execution_count": 14,
     "metadata": {},
     "output_type": "execute_result"
    }
   ],
   "source": [
    "val_data_folder = '/home/mmiv-ml/data/MICCAI_BraTS2020_ValidationData'\n",
    "val_data_folder"
   ]
  },
  {
   "cell_type": "code",
   "execution_count": 15,
   "metadata": {},
   "outputs": [
    {
     "name": "stdout",
     "output_type": "stream",
     "text": [
      "/home/mmiv-ml/data/ROIBrain_MICCAI_BraTS2020\n"
     ]
    }
   ],
   "source": [
    "\n",
    "t1wMask4save_folder = '/home/mmiv-ml/data/ROIBrain_MICCAI_BraTS2020'\n",
    "\n",
    "print(t1wMask4save_folder)\n",
    "brain_maskSaverT1wx2 = monai.data.NiftiSaver(output_dir=t1wMask4save_folder, output_postfix='BrainROIT1cwx2', output_ext='.nii.gz', resample=False, separate_folder=True)\n",
    "brain_maskSaver = monai.data.NiftiSaver(output_dir=t1wMask4save_folder, output_postfix='BrainROIT1cwx1', output_ext='.nii.gz', resample=False, separate_folder=True)"
   ]
  },
  {
   "cell_type": "code",
   "execution_count": 16,
   "metadata": {},
   "outputs": [
    {
     "data": {
      "text/plain": [
       "[{'image': ('/home/mmiv-ml/data/MICCAI_BraTS2020_ValidationData/BraTS20_Validation_001/BraTS20_Validation_001_t1ce.nii.gz',\n",
       "   '/home/mmiv-ml/data/MICCAI_BraTS2020_ValidationData/BraTS20_Validation_001/BraTS20_Validation_001_t2.nii.gz')},\n",
       " {'image': ('/home/mmiv-ml/data/MICCAI_BraTS2020_ValidationData/BraTS20_Validation_002/BraTS20_Validation_002_t1ce.nii.gz',\n",
       "   '/home/mmiv-ml/data/MICCAI_BraTS2020_ValidationData/BraTS20_Validation_002/BraTS20_Validation_002_t2.nii.gz')}]"
      ]
     },
     "execution_count": 16,
     "metadata": {},
     "output_type": "execute_result"
    }
   ],
   "source": [
    "val_images20T1ce=sorted(glob.glob(os.path.join(val_data_folder,'*/*_t1ce.nii.gz')))\n",
    "val_images20T2=sorted(glob.glob(os.path.join(val_data_folder,'*/*_t2.nii.gz')))\n",
    "\n",
    "\n",
    "\n",
    "brats20val_infer_files = [{'image': (image_t1cw, image_t2)} \\\n",
    "                   for image_t1cw, image_t2, \\\n",
    "                   in zip(val_images20T1ce, val_images20T2)]\n",
    "#np.random.shuffle(val_infer_files)\n",
    "\n",
    "len(brats20val_infer_files)\n",
    "brats20val_infer_files[0:2]"
   ]
  },
  {
   "cell_type": "code",
   "execution_count": 17,
   "metadata": {},
   "outputs": [
    {
     "data": {
      "text/plain": [
       "125"
      ]
     },
     "execution_count": 17,
     "metadata": {},
     "output_type": "execute_result"
    }
   ],
   "source": [
    "ds_brats20validation_4SaveMask = monai.data.Dataset(data = brats20val_infer_files, transform = file_saveMask_transforms)\n",
    "len(ds_brats20validation_4SaveMask)"
   ]
  },
  {
   "cell_type": "code",
   "execution_count": 18,
   "metadata": {
    "scrolled": true
   },
   "outputs": [
    {
     "name": "stdout",
     "output_type": "stream",
     "text": [
      "file written: /home/mmiv-ml/data/ROIBrain_MICCAI_BraTS2020/BraTS20_Validation_001/BraTS20_Validation_001_BrainROIT1cwx2.nii.gz.\n",
      "file written: /home/mmiv-ml/data/ROIBrain_MICCAI_BraTS2020/BraTS20_Validation_001/BraTS20_Validation_001_BrainROIT1cwx1.nii.gz.\n"
     ]
    },
    {
     "data": {
      "text/plain": [
       "{'sizeof_hdr': array(348, dtype=int32),\n",
       " 'extents': array(0, dtype=int32),\n",
       " 'session_error': array(0, dtype=int16),\n",
       " 'dim_info': array(0, dtype=uint8),\n",
       " 'dim': array([  3, 240, 240, 155,   1,   1,   1,   1], dtype=int16),\n",
       " 'intent_p1': array(0., dtype=float32),\n",
       " 'intent_p2': array(0., dtype=float32),\n",
       " 'intent_p3': array(0., dtype=float32),\n",
       " 'intent_code': array(0, dtype=int16),\n",
       " 'datatype': array(4, dtype=int16),\n",
       " 'bitpix': array(16, dtype=int16),\n",
       " 'slice_start': array(0, dtype=int16),\n",
       " 'pixdim': array([1., 1., 1., 1., 0., 0., 0., 0.], dtype=float32),\n",
       " 'vox_offset': array(0., dtype=float32),\n",
       " 'scl_slope': array(nan, dtype=float32),\n",
       " 'scl_inter': array(nan, dtype=float32),\n",
       " 'slice_end': array(0, dtype=int16),\n",
       " 'slice_code': array(0, dtype=uint8),\n",
       " 'xyzt_units': array(2, dtype=uint8),\n",
       " 'cal_max': array(0., dtype=float32),\n",
       " 'cal_min': array(0., dtype=float32),\n",
       " 'slice_duration': array(0., dtype=float32),\n",
       " 'toffset': array(0., dtype=float32),\n",
       " 'glmax': array(0, dtype=int32),\n",
       " 'glmin': array(0, dtype=int32),\n",
       " 'qform_code': array(1, dtype=int16),\n",
       " 'sform_code': array(1, dtype=int16),\n",
       " 'quatern_b': array(0., dtype=float32),\n",
       " 'quatern_c': array(0., dtype=float32),\n",
       " 'quatern_d': array(1., dtype=float32),\n",
       " 'qoffset_x': array(0., dtype=float32),\n",
       " 'qoffset_y': array(239., dtype=float32),\n",
       " 'qoffset_z': array(0., dtype=float32),\n",
       " 'srow_x': array([-1., -0., -0.,  0.], dtype=float32),\n",
       " 'srow_y': array([ -0.,  -1.,  -0., 239.], dtype=float32),\n",
       " 'srow_z': array([0., 0., 1., 0.], dtype=float32),\n",
       " 'affine': array([[ -1.,  -0.,  -0.,   0.],\n",
       "        [ -0.,  -1.,  -0., 239.],\n",
       "        [  0.,   0.,   1.,   0.],\n",
       "        [  0.,   0.,   0.,   1.]]),\n",
       " 'original_affine': array([[ -1.,  -0.,  -0.,   0.],\n",
       "        [ -0.,  -1.,  -0., 239.],\n",
       "        [  0.,   0.,   1.,   0.],\n",
       "        [  0.,   0.,   0.,   1.]]),\n",
       " 'as_closest_canonical': False,\n",
       " 'spatial_shape': array([240, 240, 155], dtype=int16),\n",
       " 'original_channel_dim': 0,\n",
       " 'filename_or_obj': '/home/mmiv-ml/data/MICCAI_BraTS2020_ValidationData/BraTS20_Validation_001/BraTS20_Validation_001_t1ce.nii.gz'}"
      ]
     },
     "execution_count": 18,
     "metadata": {},
     "output_type": "execute_result"
    }
   ],
   "source": [
    "ds_brats20validation_4SaveMask[0]['brain_mask_meta_dict']"
   ]
  },
  {
   "cell_type": "code",
   "execution_count": 19,
   "metadata": {
    "scrolled": true
   },
   "outputs": [
    {
     "name": "stderr",
     "output_type": "stream",
     "text": [
      "  1%|█▏                                                                                                                                             | 1/125 [00:01<03:42,  1.79s/it]"
     ]
    },
    {
     "name": "stdout",
     "output_type": "stream",
     "text": [
      "file written: /home/mmiv-ml/data/ROIBrain_MICCAI_BraTS2020/BraTS20_Validation_001/BraTS20_Validation_001_BrainROIT1cwx2.nii.gz.\n",
      "file written: /home/mmiv-ml/data/ROIBrain_MICCAI_BraTS2020/BraTS20_Validation_001/BraTS20_Validation_001_BrainROIT1cwx1.nii.gz.\n",
      "(2, 240, 240, 155)\n"
     ]
    },
    {
     "name": "stderr",
     "output_type": "stream",
     "text": [
      "  2%|██▎                                                                                                                                            | 2/125 [00:03<03:39,  1.79s/it]"
     ]
    },
    {
     "name": "stdout",
     "output_type": "stream",
     "text": [
      "file written: /home/mmiv-ml/data/ROIBrain_MICCAI_BraTS2020/BraTS20_Validation_002/BraTS20_Validation_002_BrainROIT1cwx2.nii.gz.\n",
      "file written: /home/mmiv-ml/data/ROIBrain_MICCAI_BraTS2020/BraTS20_Validation_002/BraTS20_Validation_002_BrainROIT1cwx1.nii.gz.\n",
      "(2, 240, 240, 155)\n"
     ]
    },
    {
     "name": "stderr",
     "output_type": "stream",
     "text": [
      "  2%|███▍                                                                                                                                           | 3/125 [00:05<03:37,  1.78s/it]"
     ]
    },
    {
     "name": "stdout",
     "output_type": "stream",
     "text": [
      "file written: /home/mmiv-ml/data/ROIBrain_MICCAI_BraTS2020/BraTS20_Validation_003/BraTS20_Validation_003_BrainROIT1cwx2.nii.gz.\n",
      "file written: /home/mmiv-ml/data/ROIBrain_MICCAI_BraTS2020/BraTS20_Validation_003/BraTS20_Validation_003_BrainROIT1cwx1.nii.gz.\n",
      "(2, 240, 240, 155)\n"
     ]
    },
    {
     "name": "stderr",
     "output_type": "stream",
     "text": [
      "  3%|████▌                                                                                                                                          | 4/125 [00:07<03:34,  1.78s/it]"
     ]
    },
    {
     "name": "stdout",
     "output_type": "stream",
     "text": [
      "file written: /home/mmiv-ml/data/ROIBrain_MICCAI_BraTS2020/BraTS20_Validation_004/BraTS20_Validation_004_BrainROIT1cwx2.nii.gz.\n",
      "file written: /home/mmiv-ml/data/ROIBrain_MICCAI_BraTS2020/BraTS20_Validation_004/BraTS20_Validation_004_BrainROIT1cwx1.nii.gz.\n",
      "(2, 240, 240, 155)\n"
     ]
    },
    {
     "name": "stderr",
     "output_type": "stream",
     "text": [
      "  4%|█████▋                                                                                                                                         | 5/125 [00:08<03:32,  1.77s/it]"
     ]
    },
    {
     "name": "stdout",
     "output_type": "stream",
     "text": [
      "file written: /home/mmiv-ml/data/ROIBrain_MICCAI_BraTS2020/BraTS20_Validation_005/BraTS20_Validation_005_BrainROIT1cwx2.nii.gz.\n",
      "file written: /home/mmiv-ml/data/ROIBrain_MICCAI_BraTS2020/BraTS20_Validation_005/BraTS20_Validation_005_BrainROIT1cwx1.nii.gz.\n",
      "(2, 240, 240, 155)\n"
     ]
    },
    {
     "name": "stderr",
     "output_type": "stream",
     "text": [
      "  5%|██████▊                                                                                                                                        | 6/125 [00:10<03:30,  1.77s/it]"
     ]
    },
    {
     "name": "stdout",
     "output_type": "stream",
     "text": [
      "file written: /home/mmiv-ml/data/ROIBrain_MICCAI_BraTS2020/BraTS20_Validation_006/BraTS20_Validation_006_BrainROIT1cwx2.nii.gz.\n",
      "file written: /home/mmiv-ml/data/ROIBrain_MICCAI_BraTS2020/BraTS20_Validation_006/BraTS20_Validation_006_BrainROIT1cwx1.nii.gz.\n",
      "(2, 240, 240, 155)\n"
     ]
    },
    {
     "name": "stderr",
     "output_type": "stream",
     "text": [
      "  6%|████████                                                                                                                                       | 7/125 [00:12<03:30,  1.78s/it]"
     ]
    },
    {
     "name": "stdout",
     "output_type": "stream",
     "text": [
      "file written: /home/mmiv-ml/data/ROIBrain_MICCAI_BraTS2020/BraTS20_Validation_007/BraTS20_Validation_007_BrainROIT1cwx2.nii.gz.\n",
      "file written: /home/mmiv-ml/data/ROIBrain_MICCAI_BraTS2020/BraTS20_Validation_007/BraTS20_Validation_007_BrainROIT1cwx1.nii.gz.\n",
      "(2, 240, 240, 155)\n"
     ]
    },
    {
     "name": "stderr",
     "output_type": "stream",
     "text": [
      "  6%|█████████▏                                                                                                                                     | 8/125 [00:14<03:28,  1.78s/it]"
     ]
    },
    {
     "name": "stdout",
     "output_type": "stream",
     "text": [
      "file written: /home/mmiv-ml/data/ROIBrain_MICCAI_BraTS2020/BraTS20_Validation_008/BraTS20_Validation_008_BrainROIT1cwx2.nii.gz.\n",
      "file written: /home/mmiv-ml/data/ROIBrain_MICCAI_BraTS2020/BraTS20_Validation_008/BraTS20_Validation_008_BrainROIT1cwx1.nii.gz.\n",
      "(2, 240, 240, 155)\n"
     ]
    },
    {
     "name": "stderr",
     "output_type": "stream",
     "text": [
      "  7%|██████████▎                                                                                                                                    | 9/125 [00:16<03:27,  1.78s/it]"
     ]
    },
    {
     "name": "stdout",
     "output_type": "stream",
     "text": [
      "file written: /home/mmiv-ml/data/ROIBrain_MICCAI_BraTS2020/BraTS20_Validation_009/BraTS20_Validation_009_BrainROIT1cwx2.nii.gz.\n",
      "file written: /home/mmiv-ml/data/ROIBrain_MICCAI_BraTS2020/BraTS20_Validation_009/BraTS20_Validation_009_BrainROIT1cwx1.nii.gz.\n",
      "(2, 240, 240, 155)\n"
     ]
    },
    {
     "name": "stderr",
     "output_type": "stream",
     "text": [
      "  8%|███████████▎                                                                                                                                  | 10/125 [00:17<03:26,  1.79s/it]"
     ]
    },
    {
     "name": "stdout",
     "output_type": "stream",
     "text": [
      "file written: /home/mmiv-ml/data/ROIBrain_MICCAI_BraTS2020/BraTS20_Validation_010/BraTS20_Validation_010_BrainROIT1cwx2.nii.gz.\n",
      "file written: /home/mmiv-ml/data/ROIBrain_MICCAI_BraTS2020/BraTS20_Validation_010/BraTS20_Validation_010_BrainROIT1cwx1.nii.gz.\n",
      "(2, 240, 240, 155)\n"
     ]
    },
    {
     "name": "stderr",
     "output_type": "stream",
     "text": [
      "  9%|████████████▍                                                                                                                                 | 11/125 [00:19<03:25,  1.81s/it]"
     ]
    },
    {
     "name": "stdout",
     "output_type": "stream",
     "text": [
      "file written: /home/mmiv-ml/data/ROIBrain_MICCAI_BraTS2020/BraTS20_Validation_011/BraTS20_Validation_011_BrainROIT1cwx2.nii.gz.\n",
      "file written: /home/mmiv-ml/data/ROIBrain_MICCAI_BraTS2020/BraTS20_Validation_011/BraTS20_Validation_011_BrainROIT1cwx1.nii.gz.\n",
      "(2, 240, 240, 155)\n"
     ]
    },
    {
     "name": "stderr",
     "output_type": "stream",
     "text": [
      " 10%|█████████████▋                                                                                                                                | 12/125 [00:21<03:22,  1.79s/it]"
     ]
    },
    {
     "name": "stdout",
     "output_type": "stream",
     "text": [
      "file written: /home/mmiv-ml/data/ROIBrain_MICCAI_BraTS2020/BraTS20_Validation_012/BraTS20_Validation_012_BrainROIT1cwx2.nii.gz.\n",
      "file written: /home/mmiv-ml/data/ROIBrain_MICCAI_BraTS2020/BraTS20_Validation_012/BraTS20_Validation_012_BrainROIT1cwx1.nii.gz.\n",
      "(2, 240, 240, 155)\n"
     ]
    },
    {
     "name": "stderr",
     "output_type": "stream",
     "text": [
      " 10%|██████████████▊                                                                                                                               | 13/125 [00:23<03:19,  1.78s/it]"
     ]
    },
    {
     "name": "stdout",
     "output_type": "stream",
     "text": [
      "file written: /home/mmiv-ml/data/ROIBrain_MICCAI_BraTS2020/BraTS20_Validation_013/BraTS20_Validation_013_BrainROIT1cwx2.nii.gz.\n",
      "file written: /home/mmiv-ml/data/ROIBrain_MICCAI_BraTS2020/BraTS20_Validation_013/BraTS20_Validation_013_BrainROIT1cwx1.nii.gz.\n",
      "(2, 240, 240, 155)\n"
     ]
    },
    {
     "name": "stderr",
     "output_type": "stream",
     "text": [
      " 11%|███████████████▉                                                                                                                              | 14/125 [00:24<03:18,  1.79s/it]"
     ]
    },
    {
     "name": "stdout",
     "output_type": "stream",
     "text": [
      "file written: /home/mmiv-ml/data/ROIBrain_MICCAI_BraTS2020/BraTS20_Validation_014/BraTS20_Validation_014_BrainROIT1cwx2.nii.gz.\n",
      "file written: /home/mmiv-ml/data/ROIBrain_MICCAI_BraTS2020/BraTS20_Validation_014/BraTS20_Validation_014_BrainROIT1cwx1.nii.gz.\n",
      "(2, 240, 240, 155)\n"
     ]
    },
    {
     "name": "stderr",
     "output_type": "stream",
     "text": [
      " 12%|█████████████████                                                                                                                             | 15/125 [00:26<03:17,  1.79s/it]"
     ]
    },
    {
     "name": "stdout",
     "output_type": "stream",
     "text": [
      "file written: /home/mmiv-ml/data/ROIBrain_MICCAI_BraTS2020/BraTS20_Validation_015/BraTS20_Validation_015_BrainROIT1cwx2.nii.gz.\n",
      "file written: /home/mmiv-ml/data/ROIBrain_MICCAI_BraTS2020/BraTS20_Validation_015/BraTS20_Validation_015_BrainROIT1cwx1.nii.gz.\n",
      "(2, 240, 240, 155)\n"
     ]
    },
    {
     "name": "stderr",
     "output_type": "stream",
     "text": [
      " 13%|██████████████████▏                                                                                                                           | 16/125 [00:28<03:15,  1.79s/it]"
     ]
    },
    {
     "name": "stdout",
     "output_type": "stream",
     "text": [
      "file written: /home/mmiv-ml/data/ROIBrain_MICCAI_BraTS2020/BraTS20_Validation_016/BraTS20_Validation_016_BrainROIT1cwx2.nii.gz.\n",
      "file written: /home/mmiv-ml/data/ROIBrain_MICCAI_BraTS2020/BraTS20_Validation_016/BraTS20_Validation_016_BrainROIT1cwx1.nii.gz.\n",
      "(2, 240, 240, 155)\n"
     ]
    },
    {
     "name": "stderr",
     "output_type": "stream",
     "text": [
      " 14%|███████████████████▎                                                                                                                          | 17/125 [00:30<03:12,  1.78s/it]"
     ]
    },
    {
     "name": "stdout",
     "output_type": "stream",
     "text": [
      "file written: /home/mmiv-ml/data/ROIBrain_MICCAI_BraTS2020/BraTS20_Validation_017/BraTS20_Validation_017_BrainROIT1cwx2.nii.gz.\n",
      "file written: /home/mmiv-ml/data/ROIBrain_MICCAI_BraTS2020/BraTS20_Validation_017/BraTS20_Validation_017_BrainROIT1cwx1.nii.gz.\n",
      "(2, 240, 240, 155)\n"
     ]
    },
    {
     "name": "stderr",
     "output_type": "stream",
     "text": [
      " 14%|████████████████████▍                                                                                                                         | 18/125 [00:32<03:10,  1.78s/it]"
     ]
    },
    {
     "name": "stdout",
     "output_type": "stream",
     "text": [
      "file written: /home/mmiv-ml/data/ROIBrain_MICCAI_BraTS2020/BraTS20_Validation_018/BraTS20_Validation_018_BrainROIT1cwx2.nii.gz.\n",
      "file written: /home/mmiv-ml/data/ROIBrain_MICCAI_BraTS2020/BraTS20_Validation_018/BraTS20_Validation_018_BrainROIT1cwx1.nii.gz.\n",
      "(2, 240, 240, 155)\n"
     ]
    },
    {
     "name": "stderr",
     "output_type": "stream",
     "text": [
      " 15%|█████████████████████▌                                                                                                                        | 19/125 [00:33<03:09,  1.79s/it]"
     ]
    },
    {
     "name": "stdout",
     "output_type": "stream",
     "text": [
      "file written: /home/mmiv-ml/data/ROIBrain_MICCAI_BraTS2020/BraTS20_Validation_019/BraTS20_Validation_019_BrainROIT1cwx2.nii.gz.\n",
      "file written: /home/mmiv-ml/data/ROIBrain_MICCAI_BraTS2020/BraTS20_Validation_019/BraTS20_Validation_019_BrainROIT1cwx1.nii.gz.\n",
      "(2, 240, 240, 155)\n"
     ]
    },
    {
     "name": "stderr",
     "output_type": "stream",
     "text": [
      " 16%|██████████████████████▋                                                                                                                       | 20/125 [00:35<03:07,  1.78s/it]"
     ]
    },
    {
     "name": "stdout",
     "output_type": "stream",
     "text": [
      "file written: /home/mmiv-ml/data/ROIBrain_MICCAI_BraTS2020/BraTS20_Validation_020/BraTS20_Validation_020_BrainROIT1cwx2.nii.gz.\n",
      "file written: /home/mmiv-ml/data/ROIBrain_MICCAI_BraTS2020/BraTS20_Validation_020/BraTS20_Validation_020_BrainROIT1cwx1.nii.gz.\n",
      "(2, 240, 240, 155)\n"
     ]
    },
    {
     "name": "stderr",
     "output_type": "stream",
     "text": [
      " 17%|███████████████████████▊                                                                                                                      | 21/125 [00:37<03:06,  1.80s/it]"
     ]
    },
    {
     "name": "stdout",
     "output_type": "stream",
     "text": [
      "file written: /home/mmiv-ml/data/ROIBrain_MICCAI_BraTS2020/BraTS20_Validation_021/BraTS20_Validation_021_BrainROIT1cwx2.nii.gz.\n",
      "file written: /home/mmiv-ml/data/ROIBrain_MICCAI_BraTS2020/BraTS20_Validation_021/BraTS20_Validation_021_BrainROIT1cwx1.nii.gz.\n",
      "(2, 240, 240, 155)\n"
     ]
    },
    {
     "name": "stderr",
     "output_type": "stream",
     "text": [
      " 18%|████████████████████████▉                                                                                                                     | 22/125 [00:39<03:08,  1.83s/it]"
     ]
    },
    {
     "name": "stdout",
     "output_type": "stream",
     "text": [
      "file written: /home/mmiv-ml/data/ROIBrain_MICCAI_BraTS2020/BraTS20_Validation_022/BraTS20_Validation_022_BrainROIT1cwx2.nii.gz.\n",
      "file written: /home/mmiv-ml/data/ROIBrain_MICCAI_BraTS2020/BraTS20_Validation_022/BraTS20_Validation_022_BrainROIT1cwx1.nii.gz.\n",
      "(2, 240, 240, 155)\n"
     ]
    },
    {
     "name": "stderr",
     "output_type": "stream",
     "text": [
      " 18%|██████████████████████████▏                                                                                                                   | 23/125 [00:41<03:06,  1.82s/it]"
     ]
    },
    {
     "name": "stdout",
     "output_type": "stream",
     "text": [
      "file written: /home/mmiv-ml/data/ROIBrain_MICCAI_BraTS2020/BraTS20_Validation_023/BraTS20_Validation_023_BrainROIT1cwx2.nii.gz.\n",
      "file written: /home/mmiv-ml/data/ROIBrain_MICCAI_BraTS2020/BraTS20_Validation_023/BraTS20_Validation_023_BrainROIT1cwx1.nii.gz.\n",
      "(2, 240, 240, 155)\n"
     ]
    },
    {
     "name": "stderr",
     "output_type": "stream",
     "text": [
      " 19%|███████████████████████████▎                                                                                                                  | 24/125 [00:43<03:03,  1.82s/it]"
     ]
    },
    {
     "name": "stdout",
     "output_type": "stream",
     "text": [
      "file written: /home/mmiv-ml/data/ROIBrain_MICCAI_BraTS2020/BraTS20_Validation_024/BraTS20_Validation_024_BrainROIT1cwx2.nii.gz.\n",
      "file written: /home/mmiv-ml/data/ROIBrain_MICCAI_BraTS2020/BraTS20_Validation_024/BraTS20_Validation_024_BrainROIT1cwx1.nii.gz.\n",
      "(2, 240, 240, 155)\n"
     ]
    },
    {
     "name": "stderr",
     "output_type": "stream",
     "text": [
      " 20%|████████████████████████████▍                                                                                                                 | 25/125 [00:44<03:00,  1.80s/it]"
     ]
    },
    {
     "name": "stdout",
     "output_type": "stream",
     "text": [
      "file written: /home/mmiv-ml/data/ROIBrain_MICCAI_BraTS2020/BraTS20_Validation_025/BraTS20_Validation_025_BrainROIT1cwx2.nii.gz.\n",
      "file written: /home/mmiv-ml/data/ROIBrain_MICCAI_BraTS2020/BraTS20_Validation_025/BraTS20_Validation_025_BrainROIT1cwx1.nii.gz.\n",
      "(2, 240, 240, 155)\n"
     ]
    },
    {
     "name": "stderr",
     "output_type": "stream",
     "text": [
      " 21%|█████████████████████████████▌                                                                                                                | 26/125 [00:46<02:57,  1.80s/it]"
     ]
    },
    {
     "name": "stdout",
     "output_type": "stream",
     "text": [
      "file written: /home/mmiv-ml/data/ROIBrain_MICCAI_BraTS2020/BraTS20_Validation_026/BraTS20_Validation_026_BrainROIT1cwx2.nii.gz.\n",
      "file written: /home/mmiv-ml/data/ROIBrain_MICCAI_BraTS2020/BraTS20_Validation_026/BraTS20_Validation_026_BrainROIT1cwx1.nii.gz.\n",
      "(2, 240, 240, 155)\n"
     ]
    },
    {
     "name": "stderr",
     "output_type": "stream",
     "text": [
      " 22%|██████████████████████████████▋                                                                                                               | 27/125 [00:48<02:55,  1.79s/it]"
     ]
    },
    {
     "name": "stdout",
     "output_type": "stream",
     "text": [
      "file written: /home/mmiv-ml/data/ROIBrain_MICCAI_BraTS2020/BraTS20_Validation_027/BraTS20_Validation_027_BrainROIT1cwx2.nii.gz.\n",
      "file written: /home/mmiv-ml/data/ROIBrain_MICCAI_BraTS2020/BraTS20_Validation_027/BraTS20_Validation_027_BrainROIT1cwx1.nii.gz.\n",
      "(2, 240, 240, 155)\n"
     ]
    },
    {
     "name": "stderr",
     "output_type": "stream",
     "text": [
      " 22%|███████████████████████████████▊                                                                                                              | 28/125 [00:50<02:55,  1.81s/it]"
     ]
    },
    {
     "name": "stdout",
     "output_type": "stream",
     "text": [
      "file written: /home/mmiv-ml/data/ROIBrain_MICCAI_BraTS2020/BraTS20_Validation_028/BraTS20_Validation_028_BrainROIT1cwx2.nii.gz.\n",
      "file written: /home/mmiv-ml/data/ROIBrain_MICCAI_BraTS2020/BraTS20_Validation_028/BraTS20_Validation_028_BrainROIT1cwx1.nii.gz.\n",
      "(2, 240, 240, 155)\n"
     ]
    },
    {
     "name": "stderr",
     "output_type": "stream",
     "text": [
      " 23%|████████████████████████████████▉                                                                                                             | 29/125 [00:52<02:56,  1.84s/it]"
     ]
    },
    {
     "name": "stdout",
     "output_type": "stream",
     "text": [
      "file written: /home/mmiv-ml/data/ROIBrain_MICCAI_BraTS2020/BraTS20_Validation_029/BraTS20_Validation_029_BrainROIT1cwx2.nii.gz.\n",
      "file written: /home/mmiv-ml/data/ROIBrain_MICCAI_BraTS2020/BraTS20_Validation_029/BraTS20_Validation_029_BrainROIT1cwx1.nii.gz.\n",
      "(2, 240, 240, 155)\n"
     ]
    },
    {
     "name": "stderr",
     "output_type": "stream",
     "text": [
      " 24%|██████████████████████████████████                                                                                                            | 30/125 [00:54<02:57,  1.87s/it]"
     ]
    },
    {
     "name": "stdout",
     "output_type": "stream",
     "text": [
      "file written: /home/mmiv-ml/data/ROIBrain_MICCAI_BraTS2020/BraTS20_Validation_030/BraTS20_Validation_030_BrainROIT1cwx2.nii.gz.\n",
      "file written: /home/mmiv-ml/data/ROIBrain_MICCAI_BraTS2020/BraTS20_Validation_030/BraTS20_Validation_030_BrainROIT1cwx1.nii.gz.\n",
      "(2, 240, 240, 155)\n"
     ]
    },
    {
     "name": "stderr",
     "output_type": "stream",
     "text": [
      " 25%|███████████████████████████████████▏                                                                                                          | 31/125 [00:55<02:53,  1.85s/it]"
     ]
    },
    {
     "name": "stdout",
     "output_type": "stream",
     "text": [
      "file written: /home/mmiv-ml/data/ROIBrain_MICCAI_BraTS2020/BraTS20_Validation_031/BraTS20_Validation_031_BrainROIT1cwx2.nii.gz.\n",
      "file written: /home/mmiv-ml/data/ROIBrain_MICCAI_BraTS2020/BraTS20_Validation_031/BraTS20_Validation_031_BrainROIT1cwx1.nii.gz.\n",
      "(2, 240, 240, 155)\n"
     ]
    },
    {
     "name": "stderr",
     "output_type": "stream",
     "text": [
      " 26%|████████████████████████████████████▎                                                                                                         | 32/125 [00:57<02:51,  1.84s/it]"
     ]
    },
    {
     "name": "stdout",
     "output_type": "stream",
     "text": [
      "file written: /home/mmiv-ml/data/ROIBrain_MICCAI_BraTS2020/BraTS20_Validation_032/BraTS20_Validation_032_BrainROIT1cwx2.nii.gz.\n",
      "file written: /home/mmiv-ml/data/ROIBrain_MICCAI_BraTS2020/BraTS20_Validation_032/BraTS20_Validation_032_BrainROIT1cwx1.nii.gz.\n",
      "(2, 240, 240, 155)\n"
     ]
    },
    {
     "name": "stderr",
     "output_type": "stream",
     "text": [
      " 26%|█████████████████████████████████████▍                                                                                                        | 33/125 [00:59<02:48,  1.83s/it]"
     ]
    },
    {
     "name": "stdout",
     "output_type": "stream",
     "text": [
      "file written: /home/mmiv-ml/data/ROIBrain_MICCAI_BraTS2020/BraTS20_Validation_033/BraTS20_Validation_033_BrainROIT1cwx2.nii.gz.\n",
      "file written: /home/mmiv-ml/data/ROIBrain_MICCAI_BraTS2020/BraTS20_Validation_033/BraTS20_Validation_033_BrainROIT1cwx1.nii.gz.\n",
      "(2, 240, 240, 155)\n"
     ]
    },
    {
     "name": "stderr",
     "output_type": "stream",
     "text": [
      " 27%|██████████████████████████████████████▌                                                                                                       | 34/125 [01:01<02:45,  1.82s/it]"
     ]
    },
    {
     "name": "stdout",
     "output_type": "stream",
     "text": [
      "file written: /home/mmiv-ml/data/ROIBrain_MICCAI_BraTS2020/BraTS20_Validation_034/BraTS20_Validation_034_BrainROIT1cwx2.nii.gz.\n",
      "file written: /home/mmiv-ml/data/ROIBrain_MICCAI_BraTS2020/BraTS20_Validation_034/BraTS20_Validation_034_BrainROIT1cwx1.nii.gz.\n",
      "(2, 240, 240, 155)\n"
     ]
    },
    {
     "name": "stderr",
     "output_type": "stream",
     "text": [
      " 28%|███████████████████████████████████████▊                                                                                                      | 35/125 [01:03<02:41,  1.80s/it]"
     ]
    },
    {
     "name": "stdout",
     "output_type": "stream",
     "text": [
      "file written: /home/mmiv-ml/data/ROIBrain_MICCAI_BraTS2020/BraTS20_Validation_035/BraTS20_Validation_035_BrainROIT1cwx2.nii.gz.\n",
      "file written: /home/mmiv-ml/data/ROIBrain_MICCAI_BraTS2020/BraTS20_Validation_035/BraTS20_Validation_035_BrainROIT1cwx1.nii.gz.\n",
      "(2, 240, 240, 155)\n"
     ]
    },
    {
     "name": "stderr",
     "output_type": "stream",
     "text": [
      " 29%|████████████████████████████████████████▉                                                                                                     | 36/125 [01:04<02:39,  1.79s/it]"
     ]
    },
    {
     "name": "stdout",
     "output_type": "stream",
     "text": [
      "file written: /home/mmiv-ml/data/ROIBrain_MICCAI_BraTS2020/BraTS20_Validation_036/BraTS20_Validation_036_BrainROIT1cwx2.nii.gz.\n",
      "file written: /home/mmiv-ml/data/ROIBrain_MICCAI_BraTS2020/BraTS20_Validation_036/BraTS20_Validation_036_BrainROIT1cwx1.nii.gz.\n",
      "(2, 240, 240, 155)\n"
     ]
    },
    {
     "name": "stderr",
     "output_type": "stream",
     "text": [
      " 30%|██████████████████████████████████████████                                                                                                    | 37/125 [01:06<02:38,  1.80s/it]"
     ]
    },
    {
     "name": "stdout",
     "output_type": "stream",
     "text": [
      "file written: /home/mmiv-ml/data/ROIBrain_MICCAI_BraTS2020/BraTS20_Validation_037/BraTS20_Validation_037_BrainROIT1cwx2.nii.gz.\n",
      "file written: /home/mmiv-ml/data/ROIBrain_MICCAI_BraTS2020/BraTS20_Validation_037/BraTS20_Validation_037_BrainROIT1cwx1.nii.gz.\n",
      "(2, 240, 240, 155)\n"
     ]
    },
    {
     "name": "stderr",
     "output_type": "stream",
     "text": [
      " 30%|███████████████████████████████████████████▏                                                                                                  | 38/125 [01:08<02:35,  1.79s/it]"
     ]
    },
    {
     "name": "stdout",
     "output_type": "stream",
     "text": [
      "file written: /home/mmiv-ml/data/ROIBrain_MICCAI_BraTS2020/BraTS20_Validation_038/BraTS20_Validation_038_BrainROIT1cwx2.nii.gz.\n",
      "file written: /home/mmiv-ml/data/ROIBrain_MICCAI_BraTS2020/BraTS20_Validation_038/BraTS20_Validation_038_BrainROIT1cwx1.nii.gz.\n",
      "(2, 240, 240, 155)\n"
     ]
    },
    {
     "name": "stderr",
     "output_type": "stream",
     "text": [
      " 31%|████████████████████████████████████████████▎                                                                                                 | 39/125 [01:10<02:33,  1.79s/it]"
     ]
    },
    {
     "name": "stdout",
     "output_type": "stream",
     "text": [
      "file written: /home/mmiv-ml/data/ROIBrain_MICCAI_BraTS2020/BraTS20_Validation_039/BraTS20_Validation_039_BrainROIT1cwx2.nii.gz.\n",
      "file written: /home/mmiv-ml/data/ROIBrain_MICCAI_BraTS2020/BraTS20_Validation_039/BraTS20_Validation_039_BrainROIT1cwx1.nii.gz.\n",
      "(2, 240, 240, 155)\n"
     ]
    },
    {
     "name": "stderr",
     "output_type": "stream",
     "text": [
      " 32%|█████████████████████████████████████████████▍                                                                                                | 40/125 [01:11<02:32,  1.79s/it]"
     ]
    },
    {
     "name": "stdout",
     "output_type": "stream",
     "text": [
      "file written: /home/mmiv-ml/data/ROIBrain_MICCAI_BraTS2020/BraTS20_Validation_040/BraTS20_Validation_040_BrainROIT1cwx2.nii.gz.\n",
      "file written: /home/mmiv-ml/data/ROIBrain_MICCAI_BraTS2020/BraTS20_Validation_040/BraTS20_Validation_040_BrainROIT1cwx1.nii.gz.\n",
      "(2, 240, 240, 155)\n"
     ]
    },
    {
     "name": "stderr",
     "output_type": "stream",
     "text": [
      " 33%|██████████████████████████████████████████████▌                                                                                               | 41/125 [01:13<02:30,  1.79s/it]"
     ]
    },
    {
     "name": "stdout",
     "output_type": "stream",
     "text": [
      "file written: /home/mmiv-ml/data/ROIBrain_MICCAI_BraTS2020/BraTS20_Validation_041/BraTS20_Validation_041_BrainROIT1cwx2.nii.gz.\n",
      "file written: /home/mmiv-ml/data/ROIBrain_MICCAI_BraTS2020/BraTS20_Validation_041/BraTS20_Validation_041_BrainROIT1cwx1.nii.gz.\n",
      "(2, 240, 240, 155)\n"
     ]
    },
    {
     "name": "stderr",
     "output_type": "stream",
     "text": [
      " 34%|███████████████████████████████████████████████▋                                                                                              | 42/125 [01:15<02:27,  1.78s/it]"
     ]
    },
    {
     "name": "stdout",
     "output_type": "stream",
     "text": [
      "file written: /home/mmiv-ml/data/ROIBrain_MICCAI_BraTS2020/BraTS20_Validation_042/BraTS20_Validation_042_BrainROIT1cwx2.nii.gz.\n",
      "file written: /home/mmiv-ml/data/ROIBrain_MICCAI_BraTS2020/BraTS20_Validation_042/BraTS20_Validation_042_BrainROIT1cwx1.nii.gz.\n",
      "(2, 240, 240, 155)\n"
     ]
    },
    {
     "name": "stderr",
     "output_type": "stream",
     "text": [
      " 34%|████████████████████████████████████████████████▊                                                                                             | 43/125 [01:17<02:26,  1.78s/it]"
     ]
    },
    {
     "name": "stdout",
     "output_type": "stream",
     "text": [
      "file written: /home/mmiv-ml/data/ROIBrain_MICCAI_BraTS2020/BraTS20_Validation_043/BraTS20_Validation_043_BrainROIT1cwx2.nii.gz.\n",
      "file written: /home/mmiv-ml/data/ROIBrain_MICCAI_BraTS2020/BraTS20_Validation_043/BraTS20_Validation_043_BrainROIT1cwx1.nii.gz.\n",
      "(2, 240, 240, 155)\n"
     ]
    },
    {
     "name": "stderr",
     "output_type": "stream",
     "text": [
      " 35%|█████████████████████████████████████████████████▉                                                                                            | 44/125 [01:19<02:23,  1.77s/it]"
     ]
    },
    {
     "name": "stdout",
     "output_type": "stream",
     "text": [
      "file written: /home/mmiv-ml/data/ROIBrain_MICCAI_BraTS2020/BraTS20_Validation_044/BraTS20_Validation_044_BrainROIT1cwx2.nii.gz.\n",
      "file written: /home/mmiv-ml/data/ROIBrain_MICCAI_BraTS2020/BraTS20_Validation_044/BraTS20_Validation_044_BrainROIT1cwx1.nii.gz.\n",
      "(2, 240, 240, 155)\n"
     ]
    },
    {
     "name": "stderr",
     "output_type": "stream",
     "text": [
      " 36%|███████████████████████████████████████████████████                                                                                           | 45/125 [01:20<02:21,  1.77s/it]"
     ]
    },
    {
     "name": "stdout",
     "output_type": "stream",
     "text": [
      "file written: /home/mmiv-ml/data/ROIBrain_MICCAI_BraTS2020/BraTS20_Validation_045/BraTS20_Validation_045_BrainROIT1cwx2.nii.gz.\n",
      "file written: /home/mmiv-ml/data/ROIBrain_MICCAI_BraTS2020/BraTS20_Validation_045/BraTS20_Validation_045_BrainROIT1cwx1.nii.gz.\n",
      "(2, 240, 240, 155)\n"
     ]
    },
    {
     "name": "stderr",
     "output_type": "stream",
     "text": [
      " 37%|████████████████████████████████████████████████████▎                                                                                         | 46/125 [01:22<02:20,  1.77s/it]"
     ]
    },
    {
     "name": "stdout",
     "output_type": "stream",
     "text": [
      "file written: /home/mmiv-ml/data/ROIBrain_MICCAI_BraTS2020/BraTS20_Validation_046/BraTS20_Validation_046_BrainROIT1cwx2.nii.gz.\n",
      "file written: /home/mmiv-ml/data/ROIBrain_MICCAI_BraTS2020/BraTS20_Validation_046/BraTS20_Validation_046_BrainROIT1cwx1.nii.gz.\n",
      "(2, 240, 240, 155)\n"
     ]
    },
    {
     "name": "stderr",
     "output_type": "stream",
     "text": [
      " 38%|█████████████████████████████████████████████████████▍                                                                                        | 47/125 [01:24<02:18,  1.78s/it]"
     ]
    },
    {
     "name": "stdout",
     "output_type": "stream",
     "text": [
      "file written: /home/mmiv-ml/data/ROIBrain_MICCAI_BraTS2020/BraTS20_Validation_047/BraTS20_Validation_047_BrainROIT1cwx2.nii.gz.\n",
      "file written: /home/mmiv-ml/data/ROIBrain_MICCAI_BraTS2020/BraTS20_Validation_047/BraTS20_Validation_047_BrainROIT1cwx1.nii.gz.\n",
      "(2, 240, 240, 155)\n"
     ]
    },
    {
     "name": "stderr",
     "output_type": "stream",
     "text": [
      " 38%|██████████████████████████████████████████████████████▌                                                                                       | 48/125 [01:26<02:17,  1.78s/it]"
     ]
    },
    {
     "name": "stdout",
     "output_type": "stream",
     "text": [
      "file written: /home/mmiv-ml/data/ROIBrain_MICCAI_BraTS2020/BraTS20_Validation_048/BraTS20_Validation_048_BrainROIT1cwx2.nii.gz.\n",
      "file written: /home/mmiv-ml/data/ROIBrain_MICCAI_BraTS2020/BraTS20_Validation_048/BraTS20_Validation_048_BrainROIT1cwx1.nii.gz.\n",
      "(2, 240, 240, 155)\n"
     ]
    },
    {
     "name": "stderr",
     "output_type": "stream",
     "text": [
      " 39%|███████████████████████████████████████████████████████▋                                                                                      | 49/125 [01:27<02:15,  1.79s/it]"
     ]
    },
    {
     "name": "stdout",
     "output_type": "stream",
     "text": [
      "file written: /home/mmiv-ml/data/ROIBrain_MICCAI_BraTS2020/BraTS20_Validation_049/BraTS20_Validation_049_BrainROIT1cwx2.nii.gz.\n",
      "file written: /home/mmiv-ml/data/ROIBrain_MICCAI_BraTS2020/BraTS20_Validation_049/BraTS20_Validation_049_BrainROIT1cwx1.nii.gz.\n",
      "(2, 240, 240, 155)\n"
     ]
    },
    {
     "name": "stderr",
     "output_type": "stream",
     "text": [
      " 40%|████████████████████████████████████████████████████████▊                                                                                     | 50/125 [01:29<02:13,  1.78s/it]"
     ]
    },
    {
     "name": "stdout",
     "output_type": "stream",
     "text": [
      "file written: /home/mmiv-ml/data/ROIBrain_MICCAI_BraTS2020/BraTS20_Validation_050/BraTS20_Validation_050_BrainROIT1cwx2.nii.gz.\n",
      "file written: /home/mmiv-ml/data/ROIBrain_MICCAI_BraTS2020/BraTS20_Validation_050/BraTS20_Validation_050_BrainROIT1cwx1.nii.gz.\n",
      "(2, 240, 240, 155)\n"
     ]
    },
    {
     "name": "stderr",
     "output_type": "stream",
     "text": [
      " 41%|█████████████████████████████████████████████████████████▉                                                                                    | 51/125 [01:31<02:11,  1.78s/it]"
     ]
    },
    {
     "name": "stdout",
     "output_type": "stream",
     "text": [
      "file written: /home/mmiv-ml/data/ROIBrain_MICCAI_BraTS2020/BraTS20_Validation_051/BraTS20_Validation_051_BrainROIT1cwx2.nii.gz.\n",
      "file written: /home/mmiv-ml/data/ROIBrain_MICCAI_BraTS2020/BraTS20_Validation_051/BraTS20_Validation_051_BrainROIT1cwx1.nii.gz.\n",
      "(2, 240, 240, 155)\n"
     ]
    },
    {
     "name": "stderr",
     "output_type": "stream",
     "text": [
      " 42%|███████████████████████████████████████████████████████████                                                                                   | 52/125 [01:33<02:08,  1.76s/it]"
     ]
    },
    {
     "name": "stdout",
     "output_type": "stream",
     "text": [
      "file written: /home/mmiv-ml/data/ROIBrain_MICCAI_BraTS2020/BraTS20_Validation_052/BraTS20_Validation_052_BrainROIT1cwx2.nii.gz.\n",
      "file written: /home/mmiv-ml/data/ROIBrain_MICCAI_BraTS2020/BraTS20_Validation_052/BraTS20_Validation_052_BrainROIT1cwx1.nii.gz.\n",
      "(2, 240, 240, 155)\n"
     ]
    },
    {
     "name": "stderr",
     "output_type": "stream",
     "text": [
      " 42%|████████████████████████████████████████████████████████████▏                                                                                 | 53/125 [01:35<02:07,  1.77s/it]"
     ]
    },
    {
     "name": "stdout",
     "output_type": "stream",
     "text": [
      "file written: /home/mmiv-ml/data/ROIBrain_MICCAI_BraTS2020/BraTS20_Validation_053/BraTS20_Validation_053_BrainROIT1cwx2.nii.gz.\n",
      "file written: /home/mmiv-ml/data/ROIBrain_MICCAI_BraTS2020/BraTS20_Validation_053/BraTS20_Validation_053_BrainROIT1cwx1.nii.gz.\n",
      "(2, 240, 240, 155)\n"
     ]
    },
    {
     "name": "stderr",
     "output_type": "stream",
     "text": [
      " 43%|█████████████████████████████████████████████████████████████▎                                                                                | 54/125 [01:36<02:06,  1.78s/it]"
     ]
    },
    {
     "name": "stdout",
     "output_type": "stream",
     "text": [
      "file written: /home/mmiv-ml/data/ROIBrain_MICCAI_BraTS2020/BraTS20_Validation_054/BraTS20_Validation_054_BrainROIT1cwx2.nii.gz.\n",
      "file written: /home/mmiv-ml/data/ROIBrain_MICCAI_BraTS2020/BraTS20_Validation_054/BraTS20_Validation_054_BrainROIT1cwx1.nii.gz.\n",
      "(2, 240, 240, 155)\n"
     ]
    },
    {
     "name": "stderr",
     "output_type": "stream",
     "text": [
      " 44%|██████████████████████████████████████████████████████████████▍                                                                               | 55/125 [01:38<02:04,  1.78s/it]"
     ]
    },
    {
     "name": "stdout",
     "output_type": "stream",
     "text": [
      "file written: /home/mmiv-ml/data/ROIBrain_MICCAI_BraTS2020/BraTS20_Validation_055/BraTS20_Validation_055_BrainROIT1cwx2.nii.gz.\n",
      "file written: /home/mmiv-ml/data/ROIBrain_MICCAI_BraTS2020/BraTS20_Validation_055/BraTS20_Validation_055_BrainROIT1cwx1.nii.gz.\n",
      "(2, 240, 240, 155)\n"
     ]
    },
    {
     "name": "stderr",
     "output_type": "stream",
     "text": [
      " 45%|███████████████████████████████████████████████████████████████▌                                                                              | 56/125 [01:40<02:02,  1.77s/it]"
     ]
    },
    {
     "name": "stdout",
     "output_type": "stream",
     "text": [
      "file written: /home/mmiv-ml/data/ROIBrain_MICCAI_BraTS2020/BraTS20_Validation_056/BraTS20_Validation_056_BrainROIT1cwx2.nii.gz.\n",
      "file written: /home/mmiv-ml/data/ROIBrain_MICCAI_BraTS2020/BraTS20_Validation_056/BraTS20_Validation_056_BrainROIT1cwx1.nii.gz.\n",
      "(2, 240, 240, 155)\n"
     ]
    },
    {
     "name": "stderr",
     "output_type": "stream",
     "text": [
      " 46%|████████████████████████████████████████████████████████████████▊                                                                             | 57/125 [01:42<02:00,  1.77s/it]"
     ]
    },
    {
     "name": "stdout",
     "output_type": "stream",
     "text": [
      "file written: /home/mmiv-ml/data/ROIBrain_MICCAI_BraTS2020/BraTS20_Validation_057/BraTS20_Validation_057_BrainROIT1cwx2.nii.gz.\n",
      "file written: /home/mmiv-ml/data/ROIBrain_MICCAI_BraTS2020/BraTS20_Validation_057/BraTS20_Validation_057_BrainROIT1cwx1.nii.gz.\n",
      "(2, 240, 240, 155)\n"
     ]
    },
    {
     "name": "stderr",
     "output_type": "stream",
     "text": [
      " 46%|█████████████████████████████████████████████████████████████████▉                                                                            | 58/125 [01:43<01:58,  1.77s/it]"
     ]
    },
    {
     "name": "stdout",
     "output_type": "stream",
     "text": [
      "file written: /home/mmiv-ml/data/ROIBrain_MICCAI_BraTS2020/BraTS20_Validation_058/BraTS20_Validation_058_BrainROIT1cwx2.nii.gz.\n",
      "file written: /home/mmiv-ml/data/ROIBrain_MICCAI_BraTS2020/BraTS20_Validation_058/BraTS20_Validation_058_BrainROIT1cwx1.nii.gz.\n",
      "(2, 240, 240, 155)\n"
     ]
    },
    {
     "name": "stderr",
     "output_type": "stream",
     "text": [
      " 47%|███████████████████████████████████████████████████████████████████                                                                           | 59/125 [01:45<01:57,  1.77s/it]"
     ]
    },
    {
     "name": "stdout",
     "output_type": "stream",
     "text": [
      "file written: /home/mmiv-ml/data/ROIBrain_MICCAI_BraTS2020/BraTS20_Validation_059/BraTS20_Validation_059_BrainROIT1cwx2.nii.gz.\n",
      "file written: /home/mmiv-ml/data/ROIBrain_MICCAI_BraTS2020/BraTS20_Validation_059/BraTS20_Validation_059_BrainROIT1cwx1.nii.gz.\n",
      "(2, 240, 240, 155)\n"
     ]
    },
    {
     "name": "stderr",
     "output_type": "stream",
     "text": [
      " 48%|████████████████████████████████████████████████████████████████████▏                                                                         | 60/125 [01:47<01:55,  1.78s/it]"
     ]
    },
    {
     "name": "stdout",
     "output_type": "stream",
     "text": [
      "file written: /home/mmiv-ml/data/ROIBrain_MICCAI_BraTS2020/BraTS20_Validation_060/BraTS20_Validation_060_BrainROIT1cwx2.nii.gz.\n",
      "file written: /home/mmiv-ml/data/ROIBrain_MICCAI_BraTS2020/BraTS20_Validation_060/BraTS20_Validation_060_BrainROIT1cwx1.nii.gz.\n",
      "(2, 240, 240, 155)\n"
     ]
    },
    {
     "name": "stderr",
     "output_type": "stream",
     "text": [
      " 49%|█████████████████████████████████████████████████████████████████████▎                                                                        | 61/125 [01:49<01:54,  1.79s/it]"
     ]
    },
    {
     "name": "stdout",
     "output_type": "stream",
     "text": [
      "file written: /home/mmiv-ml/data/ROIBrain_MICCAI_BraTS2020/BraTS20_Validation_061/BraTS20_Validation_061_BrainROIT1cwx2.nii.gz.\n",
      "file written: /home/mmiv-ml/data/ROIBrain_MICCAI_BraTS2020/BraTS20_Validation_061/BraTS20_Validation_061_BrainROIT1cwx1.nii.gz.\n",
      "(2, 240, 240, 155)\n"
     ]
    },
    {
     "name": "stderr",
     "output_type": "stream",
     "text": [
      " 50%|██████████████████████████████████████████████████████████████████████▍                                                                       | 62/125 [01:51<01:52,  1.79s/it]"
     ]
    },
    {
     "name": "stdout",
     "output_type": "stream",
     "text": [
      "file written: /home/mmiv-ml/data/ROIBrain_MICCAI_BraTS2020/BraTS20_Validation_062/BraTS20_Validation_062_BrainROIT1cwx2.nii.gz.\n",
      "file written: /home/mmiv-ml/data/ROIBrain_MICCAI_BraTS2020/BraTS20_Validation_062/BraTS20_Validation_062_BrainROIT1cwx1.nii.gz.\n",
      "(2, 240, 240, 155)\n"
     ]
    },
    {
     "name": "stderr",
     "output_type": "stream",
     "text": [
      " 50%|███████████████████████████████████████████████████████████████████████▌                                                                      | 63/125 [01:52<01:50,  1.78s/it]"
     ]
    },
    {
     "name": "stdout",
     "output_type": "stream",
     "text": [
      "file written: /home/mmiv-ml/data/ROIBrain_MICCAI_BraTS2020/BraTS20_Validation_063/BraTS20_Validation_063_BrainROIT1cwx2.nii.gz.\n",
      "file written: /home/mmiv-ml/data/ROIBrain_MICCAI_BraTS2020/BraTS20_Validation_063/BraTS20_Validation_063_BrainROIT1cwx1.nii.gz.\n",
      "(2, 240, 240, 155)\n"
     ]
    },
    {
     "name": "stderr",
     "output_type": "stream",
     "text": [
      " 51%|████████████████████████████████████████████████████████████████████████▋                                                                     | 64/125 [01:54<01:48,  1.77s/it]"
     ]
    },
    {
     "name": "stdout",
     "output_type": "stream",
     "text": [
      "file written: /home/mmiv-ml/data/ROIBrain_MICCAI_BraTS2020/BraTS20_Validation_064/BraTS20_Validation_064_BrainROIT1cwx2.nii.gz.\n",
      "file written: /home/mmiv-ml/data/ROIBrain_MICCAI_BraTS2020/BraTS20_Validation_064/BraTS20_Validation_064_BrainROIT1cwx1.nii.gz.\n",
      "(2, 240, 240, 155)\n"
     ]
    },
    {
     "name": "stderr",
     "output_type": "stream",
     "text": [
      " 52%|█████████████████████████████████████████████████████████████████████████▊                                                                    | 65/125 [01:56<01:46,  1.77s/it]"
     ]
    },
    {
     "name": "stdout",
     "output_type": "stream",
     "text": [
      "file written: /home/mmiv-ml/data/ROIBrain_MICCAI_BraTS2020/BraTS20_Validation_065/BraTS20_Validation_065_BrainROIT1cwx2.nii.gz.\n",
      "file written: /home/mmiv-ml/data/ROIBrain_MICCAI_BraTS2020/BraTS20_Validation_065/BraTS20_Validation_065_BrainROIT1cwx1.nii.gz.\n",
      "(2, 240, 240, 155)\n"
     ]
    },
    {
     "name": "stderr",
     "output_type": "stream",
     "text": [
      " 53%|██████████████████████████████████████████████████████████████████████████▉                                                                   | 66/125 [01:58<01:45,  1.78s/it]"
     ]
    },
    {
     "name": "stdout",
     "output_type": "stream",
     "text": [
      "file written: /home/mmiv-ml/data/ROIBrain_MICCAI_BraTS2020/BraTS20_Validation_066/BraTS20_Validation_066_BrainROIT1cwx2.nii.gz.\n",
      "file written: /home/mmiv-ml/data/ROIBrain_MICCAI_BraTS2020/BraTS20_Validation_066/BraTS20_Validation_066_BrainROIT1cwx1.nii.gz.\n",
      "(2, 240, 240, 155)\n"
     ]
    },
    {
     "name": "stderr",
     "output_type": "stream",
     "text": [
      " 54%|████████████████████████████████████████████████████████████████████████████                                                                  | 67/125 [01:59<01:42,  1.77s/it]"
     ]
    },
    {
     "name": "stdout",
     "output_type": "stream",
     "text": [
      "file written: /home/mmiv-ml/data/ROIBrain_MICCAI_BraTS2020/BraTS20_Validation_067/BraTS20_Validation_067_BrainROIT1cwx2.nii.gz.\n",
      "file written: /home/mmiv-ml/data/ROIBrain_MICCAI_BraTS2020/BraTS20_Validation_067/BraTS20_Validation_067_BrainROIT1cwx1.nii.gz.\n",
      "(2, 240, 240, 155)\n"
     ]
    },
    {
     "name": "stderr",
     "output_type": "stream",
     "text": [
      " 54%|█████████████████████████████████████████████████████████████████████████████▏                                                                | 68/125 [02:01<01:40,  1.76s/it]"
     ]
    },
    {
     "name": "stdout",
     "output_type": "stream",
     "text": [
      "file written: /home/mmiv-ml/data/ROIBrain_MICCAI_BraTS2020/BraTS20_Validation_068/BraTS20_Validation_068_BrainROIT1cwx2.nii.gz.\n",
      "file written: /home/mmiv-ml/data/ROIBrain_MICCAI_BraTS2020/BraTS20_Validation_068/BraTS20_Validation_068_BrainROIT1cwx1.nii.gz.\n",
      "(2, 240, 240, 155)\n"
     ]
    },
    {
     "name": "stderr",
     "output_type": "stream",
     "text": [
      " 55%|██████████████████████████████████████████████████████████████████████████████▍                                                               | 69/125 [02:03<01:39,  1.77s/it]"
     ]
    },
    {
     "name": "stdout",
     "output_type": "stream",
     "text": [
      "file written: /home/mmiv-ml/data/ROIBrain_MICCAI_BraTS2020/BraTS20_Validation_069/BraTS20_Validation_069_BrainROIT1cwx2.nii.gz.\n",
      "file written: /home/mmiv-ml/data/ROIBrain_MICCAI_BraTS2020/BraTS20_Validation_069/BraTS20_Validation_069_BrainROIT1cwx1.nii.gz.\n",
      "(2, 240, 240, 155)\n"
     ]
    },
    {
     "name": "stderr",
     "output_type": "stream",
     "text": [
      " 56%|███████████████████████████████████████████████████████████████████████████████▌                                                              | 70/125 [02:05<01:37,  1.77s/it]"
     ]
    },
    {
     "name": "stdout",
     "output_type": "stream",
     "text": [
      "file written: /home/mmiv-ml/data/ROIBrain_MICCAI_BraTS2020/BraTS20_Validation_070/BraTS20_Validation_070_BrainROIT1cwx2.nii.gz.\n",
      "file written: /home/mmiv-ml/data/ROIBrain_MICCAI_BraTS2020/BraTS20_Validation_070/BraTS20_Validation_070_BrainROIT1cwx1.nii.gz.\n",
      "(2, 240, 240, 155)\n"
     ]
    },
    {
     "name": "stderr",
     "output_type": "stream",
     "text": [
      " 57%|████████████████████████████████████████████████████████████████████████████████▋                                                             | 71/125 [02:06<01:34,  1.76s/it]"
     ]
    },
    {
     "name": "stdout",
     "output_type": "stream",
     "text": [
      "file written: /home/mmiv-ml/data/ROIBrain_MICCAI_BraTS2020/BraTS20_Validation_071/BraTS20_Validation_071_BrainROIT1cwx2.nii.gz.\n",
      "file written: /home/mmiv-ml/data/ROIBrain_MICCAI_BraTS2020/BraTS20_Validation_071/BraTS20_Validation_071_BrainROIT1cwx1.nii.gz.\n",
      "(2, 240, 240, 155)\n"
     ]
    },
    {
     "name": "stderr",
     "output_type": "stream",
     "text": [
      " 58%|█████████████████████████████████████████████████████████████████████████████████▊                                                            | 72/125 [02:08<01:33,  1.77s/it]"
     ]
    },
    {
     "name": "stdout",
     "output_type": "stream",
     "text": [
      "file written: /home/mmiv-ml/data/ROIBrain_MICCAI_BraTS2020/BraTS20_Validation_072/BraTS20_Validation_072_BrainROIT1cwx2.nii.gz.\n",
      "file written: /home/mmiv-ml/data/ROIBrain_MICCAI_BraTS2020/BraTS20_Validation_072/BraTS20_Validation_072_BrainROIT1cwx1.nii.gz.\n",
      "(2, 240, 240, 155)\n"
     ]
    },
    {
     "name": "stderr",
     "output_type": "stream",
     "text": [
      " 58%|██████████████████████████████████████████████████████████████████████████████████▉                                                           | 73/125 [02:10<01:31,  1.77s/it]"
     ]
    },
    {
     "name": "stdout",
     "output_type": "stream",
     "text": [
      "file written: /home/mmiv-ml/data/ROIBrain_MICCAI_BraTS2020/BraTS20_Validation_073/BraTS20_Validation_073_BrainROIT1cwx2.nii.gz.\n",
      "file written: /home/mmiv-ml/data/ROIBrain_MICCAI_BraTS2020/BraTS20_Validation_073/BraTS20_Validation_073_BrainROIT1cwx1.nii.gz.\n",
      "(2, 240, 240, 155)\n"
     ]
    },
    {
     "name": "stderr",
     "output_type": "stream",
     "text": [
      " 59%|████████████████████████████████████████████████████████████████████████████████████                                                          | 74/125 [02:12<01:30,  1.77s/it]"
     ]
    },
    {
     "name": "stdout",
     "output_type": "stream",
     "text": [
      "file written: /home/mmiv-ml/data/ROIBrain_MICCAI_BraTS2020/BraTS20_Validation_074/BraTS20_Validation_074_BrainROIT1cwx2.nii.gz.\n",
      "file written: /home/mmiv-ml/data/ROIBrain_MICCAI_BraTS2020/BraTS20_Validation_074/BraTS20_Validation_074_BrainROIT1cwx1.nii.gz.\n",
      "(2, 240, 240, 155)\n"
     ]
    },
    {
     "name": "stderr",
     "output_type": "stream",
     "text": [
      " 60%|█████████████████████████████████████████████████████████████████████████████████████▏                                                        | 75/125 [02:14<01:28,  1.77s/it]"
     ]
    },
    {
     "name": "stdout",
     "output_type": "stream",
     "text": [
      "file written: /home/mmiv-ml/data/ROIBrain_MICCAI_BraTS2020/BraTS20_Validation_075/BraTS20_Validation_075_BrainROIT1cwx2.nii.gz.\n",
      "file written: /home/mmiv-ml/data/ROIBrain_MICCAI_BraTS2020/BraTS20_Validation_075/BraTS20_Validation_075_BrainROIT1cwx1.nii.gz.\n",
      "(2, 240, 240, 155)\n"
     ]
    },
    {
     "name": "stderr",
     "output_type": "stream",
     "text": [
      " 61%|██████████████████████████████████████████████████████████████████████████████████████▎                                                       | 76/125 [02:15<01:27,  1.78s/it]"
     ]
    },
    {
     "name": "stdout",
     "output_type": "stream",
     "text": [
      "file written: /home/mmiv-ml/data/ROIBrain_MICCAI_BraTS2020/BraTS20_Validation_076/BraTS20_Validation_076_BrainROIT1cwx2.nii.gz.\n",
      "file written: /home/mmiv-ml/data/ROIBrain_MICCAI_BraTS2020/BraTS20_Validation_076/BraTS20_Validation_076_BrainROIT1cwx1.nii.gz.\n",
      "(2, 240, 240, 155)\n"
     ]
    },
    {
     "name": "stderr",
     "output_type": "stream",
     "text": [
      " 62%|███████████████████████████████████████████████████████████████████████████████████████▍                                                      | 77/125 [02:17<01:25,  1.78s/it]"
     ]
    },
    {
     "name": "stdout",
     "output_type": "stream",
     "text": [
      "file written: /home/mmiv-ml/data/ROIBrain_MICCAI_BraTS2020/BraTS20_Validation_077/BraTS20_Validation_077_BrainROIT1cwx2.nii.gz.\n",
      "file written: /home/mmiv-ml/data/ROIBrain_MICCAI_BraTS2020/BraTS20_Validation_077/BraTS20_Validation_077_BrainROIT1cwx1.nii.gz.\n",
      "(2, 240, 240, 155)\n"
     ]
    },
    {
     "name": "stderr",
     "output_type": "stream",
     "text": [
      " 62%|████████████████████████████████████████████████████████████████████████████████████████▌                                                     | 78/125 [02:19<01:24,  1.79s/it]"
     ]
    },
    {
     "name": "stdout",
     "output_type": "stream",
     "text": [
      "file written: /home/mmiv-ml/data/ROIBrain_MICCAI_BraTS2020/BraTS20_Validation_078/BraTS20_Validation_078_BrainROIT1cwx2.nii.gz.\n",
      "file written: /home/mmiv-ml/data/ROIBrain_MICCAI_BraTS2020/BraTS20_Validation_078/BraTS20_Validation_078_BrainROIT1cwx1.nii.gz.\n",
      "(2, 240, 240, 155)\n"
     ]
    },
    {
     "name": "stderr",
     "output_type": "stream",
     "text": [
      " 63%|█████████████████████████████████████████████████████████████████████████████████████████▋                                                    | 79/125 [02:21<01:21,  1.77s/it]"
     ]
    },
    {
     "name": "stdout",
     "output_type": "stream",
     "text": [
      "file written: /home/mmiv-ml/data/ROIBrain_MICCAI_BraTS2020/BraTS20_Validation_079/BraTS20_Validation_079_BrainROIT1cwx2.nii.gz.\n",
      "file written: /home/mmiv-ml/data/ROIBrain_MICCAI_BraTS2020/BraTS20_Validation_079/BraTS20_Validation_079_BrainROIT1cwx1.nii.gz.\n",
      "(2, 240, 240, 155)\n"
     ]
    },
    {
     "name": "stderr",
     "output_type": "stream",
     "text": [
      " 64%|██████████████████████████████████████████████████████████████████████████████████████████▉                                                   | 80/125 [02:22<01:19,  1.76s/it]"
     ]
    },
    {
     "name": "stdout",
     "output_type": "stream",
     "text": [
      "file written: /home/mmiv-ml/data/ROIBrain_MICCAI_BraTS2020/BraTS20_Validation_080/BraTS20_Validation_080_BrainROIT1cwx2.nii.gz.\n",
      "file written: /home/mmiv-ml/data/ROIBrain_MICCAI_BraTS2020/BraTS20_Validation_080/BraTS20_Validation_080_BrainROIT1cwx1.nii.gz.\n",
      "(2, 240, 240, 155)\n"
     ]
    },
    {
     "name": "stderr",
     "output_type": "stream",
     "text": [
      " 65%|████████████████████████████████████████████████████████████████████████████████████████████                                                  | 81/125 [02:24<01:18,  1.78s/it]"
     ]
    },
    {
     "name": "stdout",
     "output_type": "stream",
     "text": [
      "file written: /home/mmiv-ml/data/ROIBrain_MICCAI_BraTS2020/BraTS20_Validation_081/BraTS20_Validation_081_BrainROIT1cwx2.nii.gz.\n",
      "file written: /home/mmiv-ml/data/ROIBrain_MICCAI_BraTS2020/BraTS20_Validation_081/BraTS20_Validation_081_BrainROIT1cwx1.nii.gz.\n",
      "(2, 240, 240, 155)\n"
     ]
    },
    {
     "name": "stderr",
     "output_type": "stream",
     "text": [
      " 66%|█████████████████████████████████████████████████████████████████████████████████████████████▏                                                | 82/125 [02:26<01:16,  1.78s/it]"
     ]
    },
    {
     "name": "stdout",
     "output_type": "stream",
     "text": [
      "file written: /home/mmiv-ml/data/ROIBrain_MICCAI_BraTS2020/BraTS20_Validation_082/BraTS20_Validation_082_BrainROIT1cwx2.nii.gz.\n",
      "file written: /home/mmiv-ml/data/ROIBrain_MICCAI_BraTS2020/BraTS20_Validation_082/BraTS20_Validation_082_BrainROIT1cwx1.nii.gz.\n",
      "(2, 240, 240, 155)\n"
     ]
    },
    {
     "name": "stderr",
     "output_type": "stream",
     "text": [
      " 66%|██████████████████████████████████████████████████████████████████████████████████████████████▎                                               | 83/125 [02:28<01:14,  1.77s/it]"
     ]
    },
    {
     "name": "stdout",
     "output_type": "stream",
     "text": [
      "file written: /home/mmiv-ml/data/ROIBrain_MICCAI_BraTS2020/BraTS20_Validation_083/BraTS20_Validation_083_BrainROIT1cwx2.nii.gz.\n",
      "file written: /home/mmiv-ml/data/ROIBrain_MICCAI_BraTS2020/BraTS20_Validation_083/BraTS20_Validation_083_BrainROIT1cwx1.nii.gz.\n",
      "(2, 240, 240, 155)\n"
     ]
    },
    {
     "name": "stderr",
     "output_type": "stream",
     "text": [
      " 67%|███████████████████████████████████████████████████████████████████████████████████████████████▍                                              | 84/125 [02:30<01:13,  1.78s/it]"
     ]
    },
    {
     "name": "stdout",
     "output_type": "stream",
     "text": [
      "file written: /home/mmiv-ml/data/ROIBrain_MICCAI_BraTS2020/BraTS20_Validation_084/BraTS20_Validation_084_BrainROIT1cwx2.nii.gz.\n",
      "file written: /home/mmiv-ml/data/ROIBrain_MICCAI_BraTS2020/BraTS20_Validation_084/BraTS20_Validation_084_BrainROIT1cwx1.nii.gz.\n",
      "(2, 240, 240, 155)\n"
     ]
    },
    {
     "name": "stderr",
     "output_type": "stream",
     "text": [
      " 68%|████████████████████████████████████████████████████████████████████████████████████████████████▌                                             | 85/125 [02:31<01:11,  1.79s/it]"
     ]
    },
    {
     "name": "stdout",
     "output_type": "stream",
     "text": [
      "file written: /home/mmiv-ml/data/ROIBrain_MICCAI_BraTS2020/BraTS20_Validation_085/BraTS20_Validation_085_BrainROIT1cwx2.nii.gz.\n",
      "file written: /home/mmiv-ml/data/ROIBrain_MICCAI_BraTS2020/BraTS20_Validation_085/BraTS20_Validation_085_BrainROIT1cwx1.nii.gz.\n",
      "(2, 240, 240, 155)\n"
     ]
    },
    {
     "name": "stderr",
     "output_type": "stream",
     "text": [
      " 69%|█████████████████████████████████████████████████████████████████████████████████████████████████▋                                            | 86/125 [02:33<01:10,  1.81s/it]"
     ]
    },
    {
     "name": "stdout",
     "output_type": "stream",
     "text": [
      "file written: /home/mmiv-ml/data/ROIBrain_MICCAI_BraTS2020/BraTS20_Validation_086/BraTS20_Validation_086_BrainROIT1cwx2.nii.gz.\n",
      "file written: /home/mmiv-ml/data/ROIBrain_MICCAI_BraTS2020/BraTS20_Validation_086/BraTS20_Validation_086_BrainROIT1cwx1.nii.gz.\n",
      "(2, 240, 240, 155)\n"
     ]
    },
    {
     "name": "stderr",
     "output_type": "stream",
     "text": [
      " 70%|██████████████████████████████████████████████████████████████████████████████████████████████████▊                                           | 87/125 [02:35<01:08,  1.80s/it]"
     ]
    },
    {
     "name": "stdout",
     "output_type": "stream",
     "text": [
      "file written: /home/mmiv-ml/data/ROIBrain_MICCAI_BraTS2020/BraTS20_Validation_087/BraTS20_Validation_087_BrainROIT1cwx2.nii.gz.\n",
      "file written: /home/mmiv-ml/data/ROIBrain_MICCAI_BraTS2020/BraTS20_Validation_087/BraTS20_Validation_087_BrainROIT1cwx1.nii.gz.\n",
      "(2, 240, 240, 155)\n"
     ]
    },
    {
     "name": "stderr",
     "output_type": "stream",
     "text": [
      " 70%|███████████████████████████████████████████████████████████████████████████████████████████████████▉                                          | 88/125 [02:37<01:06,  1.81s/it]"
     ]
    },
    {
     "name": "stdout",
     "output_type": "stream",
     "text": [
      "file written: /home/mmiv-ml/data/ROIBrain_MICCAI_BraTS2020/BraTS20_Validation_088/BraTS20_Validation_088_BrainROIT1cwx2.nii.gz.\n",
      "file written: /home/mmiv-ml/data/ROIBrain_MICCAI_BraTS2020/BraTS20_Validation_088/BraTS20_Validation_088_BrainROIT1cwx1.nii.gz.\n",
      "(2, 240, 240, 155)\n"
     ]
    },
    {
     "name": "stderr",
     "output_type": "stream",
     "text": [
      " 71%|█████████████████████████████████████████████████████████████████████████████████████████████████████                                         | 89/125 [02:39<01:04,  1.79s/it]"
     ]
    },
    {
     "name": "stdout",
     "output_type": "stream",
     "text": [
      "file written: /home/mmiv-ml/data/ROIBrain_MICCAI_BraTS2020/BraTS20_Validation_089/BraTS20_Validation_089_BrainROIT1cwx2.nii.gz.\n",
      "file written: /home/mmiv-ml/data/ROIBrain_MICCAI_BraTS2020/BraTS20_Validation_089/BraTS20_Validation_089_BrainROIT1cwx1.nii.gz.\n",
      "(2, 240, 240, 155)\n"
     ]
    },
    {
     "name": "stderr",
     "output_type": "stream",
     "text": [
      " 72%|██████████████████████████████████████████████████████████████████████████████████████████████████████▏                                       | 90/125 [02:40<01:02,  1.80s/it]"
     ]
    },
    {
     "name": "stdout",
     "output_type": "stream",
     "text": [
      "file written: /home/mmiv-ml/data/ROIBrain_MICCAI_BraTS2020/BraTS20_Validation_090/BraTS20_Validation_090_BrainROIT1cwx2.nii.gz.\n",
      "file written: /home/mmiv-ml/data/ROIBrain_MICCAI_BraTS2020/BraTS20_Validation_090/BraTS20_Validation_090_BrainROIT1cwx1.nii.gz.\n",
      "(2, 240, 240, 155)\n"
     ]
    },
    {
     "name": "stderr",
     "output_type": "stream",
     "text": [
      " 73%|███████████████████████████████████████████████████████████████████████████████████████████████████████▍                                      | 91/125 [02:42<01:00,  1.79s/it]"
     ]
    },
    {
     "name": "stdout",
     "output_type": "stream",
     "text": [
      "file written: /home/mmiv-ml/data/ROIBrain_MICCAI_BraTS2020/BraTS20_Validation_091/BraTS20_Validation_091_BrainROIT1cwx2.nii.gz.\n",
      "file written: /home/mmiv-ml/data/ROIBrain_MICCAI_BraTS2020/BraTS20_Validation_091/BraTS20_Validation_091_BrainROIT1cwx1.nii.gz.\n",
      "(2, 240, 240, 155)\n"
     ]
    },
    {
     "name": "stderr",
     "output_type": "stream",
     "text": [
      " 74%|████████████████████████████████████████████████████████████████████████████████████████████████████████▌                                     | 92/125 [02:44<00:58,  1.78s/it]"
     ]
    },
    {
     "name": "stdout",
     "output_type": "stream",
     "text": [
      "file written: /home/mmiv-ml/data/ROIBrain_MICCAI_BraTS2020/BraTS20_Validation_092/BraTS20_Validation_092_BrainROIT1cwx2.nii.gz.\n",
      "file written: /home/mmiv-ml/data/ROIBrain_MICCAI_BraTS2020/BraTS20_Validation_092/BraTS20_Validation_092_BrainROIT1cwx1.nii.gz.\n",
      "(2, 240, 240, 155)\n"
     ]
    },
    {
     "name": "stderr",
     "output_type": "stream",
     "text": [
      " 74%|█████████████████████████████████████████████████████████████████████████████████████████████████████████▋                                    | 93/125 [02:46<00:56,  1.77s/it]"
     ]
    },
    {
     "name": "stdout",
     "output_type": "stream",
     "text": [
      "file written: /home/mmiv-ml/data/ROIBrain_MICCAI_BraTS2020/BraTS20_Validation_093/BraTS20_Validation_093_BrainROIT1cwx2.nii.gz.\n",
      "file written: /home/mmiv-ml/data/ROIBrain_MICCAI_BraTS2020/BraTS20_Validation_093/BraTS20_Validation_093_BrainROIT1cwx1.nii.gz.\n",
      "(2, 240, 240, 155)\n"
     ]
    },
    {
     "name": "stderr",
     "output_type": "stream",
     "text": [
      " 75%|██████████████████████████████████████████████████████████████████████████████████████████████████████████▊                                   | 94/125 [02:47<00:55,  1.78s/it]"
     ]
    },
    {
     "name": "stdout",
     "output_type": "stream",
     "text": [
      "file written: /home/mmiv-ml/data/ROIBrain_MICCAI_BraTS2020/BraTS20_Validation_094/BraTS20_Validation_094_BrainROIT1cwx2.nii.gz.\n",
      "file written: /home/mmiv-ml/data/ROIBrain_MICCAI_BraTS2020/BraTS20_Validation_094/BraTS20_Validation_094_BrainROIT1cwx1.nii.gz.\n",
      "(2, 240, 240, 155)\n"
     ]
    },
    {
     "name": "stderr",
     "output_type": "stream",
     "text": [
      " 76%|███████████████████████████████████████████████████████████████████████████████████████████████████████████▉                                  | 95/125 [02:49<00:53,  1.77s/it]"
     ]
    },
    {
     "name": "stdout",
     "output_type": "stream",
     "text": [
      "file written: /home/mmiv-ml/data/ROIBrain_MICCAI_BraTS2020/BraTS20_Validation_095/BraTS20_Validation_095_BrainROIT1cwx2.nii.gz.\n",
      "file written: /home/mmiv-ml/data/ROIBrain_MICCAI_BraTS2020/BraTS20_Validation_095/BraTS20_Validation_095_BrainROIT1cwx1.nii.gz.\n",
      "(2, 240, 240, 155)\n"
     ]
    },
    {
     "name": "stderr",
     "output_type": "stream",
     "text": [
      " 77%|█████████████████████████████████████████████████████████████████████████████████████████████████████████████                                 | 96/125 [02:51<00:51,  1.77s/it]"
     ]
    },
    {
     "name": "stdout",
     "output_type": "stream",
     "text": [
      "file written: /home/mmiv-ml/data/ROIBrain_MICCAI_BraTS2020/BraTS20_Validation_096/BraTS20_Validation_096_BrainROIT1cwx2.nii.gz.\n",
      "file written: /home/mmiv-ml/data/ROIBrain_MICCAI_BraTS2020/BraTS20_Validation_096/BraTS20_Validation_096_BrainROIT1cwx1.nii.gz.\n",
      "(2, 240, 240, 155)\n"
     ]
    },
    {
     "name": "stderr",
     "output_type": "stream",
     "text": [
      " 78%|██████████████████████████████████████████████████████████████████████████████████████████████████████████████▏                               | 97/125 [02:53<00:49,  1.78s/it]"
     ]
    },
    {
     "name": "stdout",
     "output_type": "stream",
     "text": [
      "file written: /home/mmiv-ml/data/ROIBrain_MICCAI_BraTS2020/BraTS20_Validation_097/BraTS20_Validation_097_BrainROIT1cwx2.nii.gz.\n",
      "file written: /home/mmiv-ml/data/ROIBrain_MICCAI_BraTS2020/BraTS20_Validation_097/BraTS20_Validation_097_BrainROIT1cwx1.nii.gz.\n",
      "(2, 240, 240, 155)\n"
     ]
    },
    {
     "name": "stderr",
     "output_type": "stream",
     "text": [
      " 78%|███████████████████████████████████████████████████████████████████████████████████████████████████████████████▎                              | 98/125 [02:55<00:48,  1.79s/it]"
     ]
    },
    {
     "name": "stdout",
     "output_type": "stream",
     "text": [
      "file written: /home/mmiv-ml/data/ROIBrain_MICCAI_BraTS2020/BraTS20_Validation_098/BraTS20_Validation_098_BrainROIT1cwx2.nii.gz.\n",
      "file written: /home/mmiv-ml/data/ROIBrain_MICCAI_BraTS2020/BraTS20_Validation_098/BraTS20_Validation_098_BrainROIT1cwx1.nii.gz.\n",
      "(2, 240, 240, 155)\n"
     ]
    },
    {
     "name": "stderr",
     "output_type": "stream",
     "text": [
      " 79%|████████████████████████████████████████████████████████████████████████████████████████████████████████████████▍                             | 99/125 [02:56<00:46,  1.78s/it]"
     ]
    },
    {
     "name": "stdout",
     "output_type": "stream",
     "text": [
      "file written: /home/mmiv-ml/data/ROIBrain_MICCAI_BraTS2020/BraTS20_Validation_099/BraTS20_Validation_099_BrainROIT1cwx2.nii.gz.\n",
      "file written: /home/mmiv-ml/data/ROIBrain_MICCAI_BraTS2020/BraTS20_Validation_099/BraTS20_Validation_099_BrainROIT1cwx1.nii.gz.\n",
      "(2, 240, 240, 155)\n"
     ]
    },
    {
     "name": "stderr",
     "output_type": "stream",
     "text": [
      " 80%|████████████████████████████████████████████████████████████████████████████████████████████████████████████████▊                            | 100/125 [02:58<00:44,  1.78s/it]"
     ]
    },
    {
     "name": "stdout",
     "output_type": "stream",
     "text": [
      "file written: /home/mmiv-ml/data/ROIBrain_MICCAI_BraTS2020/BraTS20_Validation_100/BraTS20_Validation_100_BrainROIT1cwx2.nii.gz.\n",
      "file written: /home/mmiv-ml/data/ROIBrain_MICCAI_BraTS2020/BraTS20_Validation_100/BraTS20_Validation_100_BrainROIT1cwx1.nii.gz.\n",
      "(2, 240, 240, 155)\n"
     ]
    },
    {
     "name": "stderr",
     "output_type": "stream",
     "text": [
      " 81%|█████████████████████████████████████████████████████████████████████████████████████████████████████████████████▉                           | 101/125 [03:00<00:42,  1.77s/it]"
     ]
    },
    {
     "name": "stdout",
     "output_type": "stream",
     "text": [
      "file written: /home/mmiv-ml/data/ROIBrain_MICCAI_BraTS2020/BraTS20_Validation_101/BraTS20_Validation_101_BrainROIT1cwx2.nii.gz.\n",
      "file written: /home/mmiv-ml/data/ROIBrain_MICCAI_BraTS2020/BraTS20_Validation_101/BraTS20_Validation_101_BrainROIT1cwx1.nii.gz.\n",
      "(2, 240, 240, 155)\n"
     ]
    },
    {
     "name": "stderr",
     "output_type": "stream",
     "text": [
      " 82%|███████████████████████████████████████████████████████████████████████████████████████████████████████████████████                          | 102/125 [03:02<00:40,  1.76s/it]"
     ]
    },
    {
     "name": "stdout",
     "output_type": "stream",
     "text": [
      "file written: /home/mmiv-ml/data/ROIBrain_MICCAI_BraTS2020/BraTS20_Validation_102/BraTS20_Validation_102_BrainROIT1cwx2.nii.gz.\n",
      "file written: /home/mmiv-ml/data/ROIBrain_MICCAI_BraTS2020/BraTS20_Validation_102/BraTS20_Validation_102_BrainROIT1cwx1.nii.gz.\n",
      "(2, 240, 240, 155)\n"
     ]
    },
    {
     "name": "stderr",
     "output_type": "stream",
     "text": [
      " 82%|████████████████████████████████████████████████████████████████████████████████████████████████████████████████████▏                        | 103/125 [03:03<00:39,  1.78s/it]"
     ]
    },
    {
     "name": "stdout",
     "output_type": "stream",
     "text": [
      "file written: /home/mmiv-ml/data/ROIBrain_MICCAI_BraTS2020/BraTS20_Validation_103/BraTS20_Validation_103_BrainROIT1cwx2.nii.gz.\n",
      "file written: /home/mmiv-ml/data/ROIBrain_MICCAI_BraTS2020/BraTS20_Validation_103/BraTS20_Validation_103_BrainROIT1cwx1.nii.gz.\n",
      "(2, 240, 240, 155)\n"
     ]
    },
    {
     "name": "stderr",
     "output_type": "stream",
     "text": [
      " 83%|█████████████████████████████████████████████████████████████████████████████████████████████████████████████████████▎                       | 104/125 [03:05<00:37,  1.77s/it]"
     ]
    },
    {
     "name": "stdout",
     "output_type": "stream",
     "text": [
      "file written: /home/mmiv-ml/data/ROIBrain_MICCAI_BraTS2020/BraTS20_Validation_104/BraTS20_Validation_104_BrainROIT1cwx2.nii.gz.\n",
      "file written: /home/mmiv-ml/data/ROIBrain_MICCAI_BraTS2020/BraTS20_Validation_104/BraTS20_Validation_104_BrainROIT1cwx1.nii.gz.\n",
      "(2, 240, 240, 155)\n"
     ]
    },
    {
     "name": "stderr",
     "output_type": "stream",
     "text": [
      " 84%|██████████████████████████████████████████████████████████████████████████████████████████████████████████████████████▍                      | 105/125 [03:07<00:35,  1.77s/it]"
     ]
    },
    {
     "name": "stdout",
     "output_type": "stream",
     "text": [
      "file written: /home/mmiv-ml/data/ROIBrain_MICCAI_BraTS2020/BraTS20_Validation_105/BraTS20_Validation_105_BrainROIT1cwx2.nii.gz.\n",
      "file written: /home/mmiv-ml/data/ROIBrain_MICCAI_BraTS2020/BraTS20_Validation_105/BraTS20_Validation_105_BrainROIT1cwx1.nii.gz.\n",
      "(2, 240, 240, 155)\n"
     ]
    },
    {
     "name": "stderr",
     "output_type": "stream",
     "text": [
      " 85%|███████████████████████████████████████████████████████████████████████████████████████████████████████████████████████▌                     | 106/125 [03:09<00:33,  1.76s/it]"
     ]
    },
    {
     "name": "stdout",
     "output_type": "stream",
     "text": [
      "file written: /home/mmiv-ml/data/ROIBrain_MICCAI_BraTS2020/BraTS20_Validation_106/BraTS20_Validation_106_BrainROIT1cwx2.nii.gz.\n",
      "file written: /home/mmiv-ml/data/ROIBrain_MICCAI_BraTS2020/BraTS20_Validation_106/BraTS20_Validation_106_BrainROIT1cwx1.nii.gz.\n",
      "(2, 240, 240, 155)\n"
     ]
    },
    {
     "name": "stderr",
     "output_type": "stream",
     "text": [
      " 86%|████████████████████████████████████████████████████████████████████████████████████████████████████████████████████████▋                    | 107/125 [03:11<00:31,  1.77s/it]"
     ]
    },
    {
     "name": "stdout",
     "output_type": "stream",
     "text": [
      "file written: /home/mmiv-ml/data/ROIBrain_MICCAI_BraTS2020/BraTS20_Validation_107/BraTS20_Validation_107_BrainROIT1cwx2.nii.gz.\n",
      "file written: /home/mmiv-ml/data/ROIBrain_MICCAI_BraTS2020/BraTS20_Validation_107/BraTS20_Validation_107_BrainROIT1cwx1.nii.gz.\n",
      "(2, 240, 240, 155)\n"
     ]
    },
    {
     "name": "stderr",
     "output_type": "stream",
     "text": [
      " 86%|█████████████████████████████████████████████████████████████████████████████████████████████████████████████████████████▊                   | 108/125 [03:12<00:30,  1.77s/it]"
     ]
    },
    {
     "name": "stdout",
     "output_type": "stream",
     "text": [
      "file written: /home/mmiv-ml/data/ROIBrain_MICCAI_BraTS2020/BraTS20_Validation_108/BraTS20_Validation_108_BrainROIT1cwx2.nii.gz.\n",
      "file written: /home/mmiv-ml/data/ROIBrain_MICCAI_BraTS2020/BraTS20_Validation_108/BraTS20_Validation_108_BrainROIT1cwx1.nii.gz.\n",
      "(2, 240, 240, 155)\n"
     ]
    },
    {
     "name": "stderr",
     "output_type": "stream",
     "text": [
      " 87%|██████████████████████████████████████████████████████████████████████████████████████████████████████████████████████████▉                  | 109/125 [03:14<00:28,  1.76s/it]"
     ]
    },
    {
     "name": "stdout",
     "output_type": "stream",
     "text": [
      "file written: /home/mmiv-ml/data/ROIBrain_MICCAI_BraTS2020/BraTS20_Validation_109/BraTS20_Validation_109_BrainROIT1cwx2.nii.gz.\n",
      "file written: /home/mmiv-ml/data/ROIBrain_MICCAI_BraTS2020/BraTS20_Validation_109/BraTS20_Validation_109_BrainROIT1cwx1.nii.gz.\n",
      "(2, 240, 240, 155)\n"
     ]
    },
    {
     "name": "stderr",
     "output_type": "stream",
     "text": [
      " 88%|████████████████████████████████████████████████████████████████████████████████████████████████████████████████████████████                 | 110/125 [03:16<00:26,  1.77s/it]"
     ]
    },
    {
     "name": "stdout",
     "output_type": "stream",
     "text": [
      "file written: /home/mmiv-ml/data/ROIBrain_MICCAI_BraTS2020/BraTS20_Validation_110/BraTS20_Validation_110_BrainROIT1cwx2.nii.gz.\n",
      "file written: /home/mmiv-ml/data/ROIBrain_MICCAI_BraTS2020/BraTS20_Validation_110/BraTS20_Validation_110_BrainROIT1cwx1.nii.gz.\n",
      "(2, 240, 240, 155)\n"
     ]
    },
    {
     "name": "stderr",
     "output_type": "stream",
     "text": [
      " 89%|█████████████████████████████████████████████████████████████████████████████████████████████████████████████████████████████▏               | 111/125 [03:18<00:24,  1.78s/it]"
     ]
    },
    {
     "name": "stdout",
     "output_type": "stream",
     "text": [
      "file written: /home/mmiv-ml/data/ROIBrain_MICCAI_BraTS2020/BraTS20_Validation_111/BraTS20_Validation_111_BrainROIT1cwx2.nii.gz.\n",
      "file written: /home/mmiv-ml/data/ROIBrain_MICCAI_BraTS2020/BraTS20_Validation_111/BraTS20_Validation_111_BrainROIT1cwx1.nii.gz.\n",
      "(2, 240, 240, 155)\n"
     ]
    },
    {
     "name": "stderr",
     "output_type": "stream",
     "text": [
      " 90%|██████████████████████████████████████████████████████████████████████████████████████████████████████████████████████████████▎              | 112/125 [03:19<00:23,  1.77s/it]"
     ]
    },
    {
     "name": "stdout",
     "output_type": "stream",
     "text": [
      "file written: /home/mmiv-ml/data/ROIBrain_MICCAI_BraTS2020/BraTS20_Validation_112/BraTS20_Validation_112_BrainROIT1cwx2.nii.gz.\n",
      "file written: /home/mmiv-ml/data/ROIBrain_MICCAI_BraTS2020/BraTS20_Validation_112/BraTS20_Validation_112_BrainROIT1cwx1.nii.gz.\n",
      "(2, 240, 240, 155)\n"
     ]
    },
    {
     "name": "stderr",
     "output_type": "stream",
     "text": [
      " 90%|███████████████████████████████████████████████████████████████████████████████████████████████████████████████████████████████▍             | 113/125 [03:21<00:21,  1.76s/it]"
     ]
    },
    {
     "name": "stdout",
     "output_type": "stream",
     "text": [
      "file written: /home/mmiv-ml/data/ROIBrain_MICCAI_BraTS2020/BraTS20_Validation_113/BraTS20_Validation_113_BrainROIT1cwx2.nii.gz.\n",
      "file written: /home/mmiv-ml/data/ROIBrain_MICCAI_BraTS2020/BraTS20_Validation_113/BraTS20_Validation_113_BrainROIT1cwx1.nii.gz.\n",
      "(2, 240, 240, 155)\n"
     ]
    },
    {
     "name": "stderr",
     "output_type": "stream",
     "text": [
      " 91%|████████████████████████████████████████████████████████████████████████████████████████████████████████████████████████████████▌            | 114/125 [03:23<00:19,  1.76s/it]"
     ]
    },
    {
     "name": "stdout",
     "output_type": "stream",
     "text": [
      "file written: /home/mmiv-ml/data/ROIBrain_MICCAI_BraTS2020/BraTS20_Validation_114/BraTS20_Validation_114_BrainROIT1cwx2.nii.gz.\n",
      "file written: /home/mmiv-ml/data/ROIBrain_MICCAI_BraTS2020/BraTS20_Validation_114/BraTS20_Validation_114_BrainROIT1cwx1.nii.gz.\n",
      "(2, 240, 240, 155)\n"
     ]
    },
    {
     "name": "stderr",
     "output_type": "stream",
     "text": [
      " 92%|█████████████████████████████████████████████████████████████████████████████████████████████████████████████████████████████████▋           | 115/125 [03:25<00:17,  1.75s/it]"
     ]
    },
    {
     "name": "stdout",
     "output_type": "stream",
     "text": [
      "file written: /home/mmiv-ml/data/ROIBrain_MICCAI_BraTS2020/BraTS20_Validation_115/BraTS20_Validation_115_BrainROIT1cwx2.nii.gz.\n",
      "file written: /home/mmiv-ml/data/ROIBrain_MICCAI_BraTS2020/BraTS20_Validation_115/BraTS20_Validation_115_BrainROIT1cwx1.nii.gz.\n",
      "(2, 240, 240, 155)\n"
     ]
    },
    {
     "name": "stderr",
     "output_type": "stream",
     "text": [
      " 93%|██████████████████████████████████████████████████████████████████████████████████████████████████████████████████████████████████▊          | 116/125 [03:26<00:15,  1.75s/it]"
     ]
    },
    {
     "name": "stdout",
     "output_type": "stream",
     "text": [
      "file written: /home/mmiv-ml/data/ROIBrain_MICCAI_BraTS2020/BraTS20_Validation_116/BraTS20_Validation_116_BrainROIT1cwx2.nii.gz.\n",
      "file written: /home/mmiv-ml/data/ROIBrain_MICCAI_BraTS2020/BraTS20_Validation_116/BraTS20_Validation_116_BrainROIT1cwx1.nii.gz.\n",
      "(2, 240, 240, 155)\n"
     ]
    },
    {
     "name": "stderr",
     "output_type": "stream",
     "text": [
      " 94%|███████████████████████████████████████████████████████████████████████████████████████████████████████████████████████████████████▉         | 117/125 [03:28<00:14,  1.75s/it]"
     ]
    },
    {
     "name": "stdout",
     "output_type": "stream",
     "text": [
      "file written: /home/mmiv-ml/data/ROIBrain_MICCAI_BraTS2020/BraTS20_Validation_117/BraTS20_Validation_117_BrainROIT1cwx2.nii.gz.\n",
      "file written: /home/mmiv-ml/data/ROIBrain_MICCAI_BraTS2020/BraTS20_Validation_117/BraTS20_Validation_117_BrainROIT1cwx1.nii.gz.\n",
      "(2, 240, 240, 155)\n"
     ]
    },
    {
     "name": "stderr",
     "output_type": "stream",
     "text": [
      " 94%|█████████████████████████████████████████████████████████████████████████████████████████████████████████████████████████████████████        | 118/125 [03:30<00:12,  1.79s/it]"
     ]
    },
    {
     "name": "stdout",
     "output_type": "stream",
     "text": [
      "file written: /home/mmiv-ml/data/ROIBrain_MICCAI_BraTS2020/BraTS20_Validation_118/BraTS20_Validation_118_BrainROIT1cwx2.nii.gz.\n",
      "file written: /home/mmiv-ml/data/ROIBrain_MICCAI_BraTS2020/BraTS20_Validation_118/BraTS20_Validation_118_BrainROIT1cwx1.nii.gz.\n",
      "(2, 240, 240, 155)\n"
     ]
    },
    {
     "name": "stderr",
     "output_type": "stream",
     "text": [
      " 95%|██████████████████████████████████████████████████████████████████████████████████████████████████████████████████████████████████████▏      | 119/125 [03:32<00:10,  1.83s/it]"
     ]
    },
    {
     "name": "stdout",
     "output_type": "stream",
     "text": [
      "file written: /home/mmiv-ml/data/ROIBrain_MICCAI_BraTS2020/BraTS20_Validation_119/BraTS20_Validation_119_BrainROIT1cwx2.nii.gz.\n",
      "file written: /home/mmiv-ml/data/ROIBrain_MICCAI_BraTS2020/BraTS20_Validation_119/BraTS20_Validation_119_BrainROIT1cwx1.nii.gz.\n",
      "(2, 240, 240, 155)\n"
     ]
    },
    {
     "name": "stderr",
     "output_type": "stream",
     "text": [
      " 96%|███████████████████████████████████████████████████████████████████████████████████████████████████████████████████████████████████████▎     | 120/125 [03:34<00:09,  1.85s/it]"
     ]
    },
    {
     "name": "stdout",
     "output_type": "stream",
     "text": [
      "file written: /home/mmiv-ml/data/ROIBrain_MICCAI_BraTS2020/BraTS20_Validation_120/BraTS20_Validation_120_BrainROIT1cwx2.nii.gz.\n",
      "file written: /home/mmiv-ml/data/ROIBrain_MICCAI_BraTS2020/BraTS20_Validation_120/BraTS20_Validation_120_BrainROIT1cwx1.nii.gz.\n",
      "(2, 240, 240, 155)\n"
     ]
    },
    {
     "name": "stderr",
     "output_type": "stream",
     "text": [
      " 97%|████████████████████████████████████████████████████████████████████████████████████████████████████████████████████████████████████████▍    | 121/125 [03:36<00:07,  1.88s/it]"
     ]
    },
    {
     "name": "stdout",
     "output_type": "stream",
     "text": [
      "file written: /home/mmiv-ml/data/ROIBrain_MICCAI_BraTS2020/BraTS20_Validation_121/BraTS20_Validation_121_BrainROIT1cwx2.nii.gz.\n",
      "file written: /home/mmiv-ml/data/ROIBrain_MICCAI_BraTS2020/BraTS20_Validation_121/BraTS20_Validation_121_BrainROIT1cwx1.nii.gz.\n",
      "(2, 240, 240, 155)\n"
     ]
    },
    {
     "name": "stderr",
     "output_type": "stream",
     "text": [
      " 98%|█████████████████████████████████████████████████████████████████████████████████████████████████████████████████████████████████████████▌   | 122/125 [03:38<00:05,  1.88s/it]"
     ]
    },
    {
     "name": "stdout",
     "output_type": "stream",
     "text": [
      "file written: /home/mmiv-ml/data/ROIBrain_MICCAI_BraTS2020/BraTS20_Validation_122/BraTS20_Validation_122_BrainROIT1cwx2.nii.gz.\n",
      "file written: /home/mmiv-ml/data/ROIBrain_MICCAI_BraTS2020/BraTS20_Validation_122/BraTS20_Validation_122_BrainROIT1cwx1.nii.gz.\n",
      "(2, 240, 240, 155)\n"
     ]
    },
    {
     "name": "stderr",
     "output_type": "stream",
     "text": [
      " 98%|██████████████████████████████████████████████████████████████████████████████████████████████████████████████████████████████████████████▋  | 123/125 [03:40<00:03,  1.89s/it]"
     ]
    },
    {
     "name": "stdout",
     "output_type": "stream",
     "text": [
      "file written: /home/mmiv-ml/data/ROIBrain_MICCAI_BraTS2020/BraTS20_Validation_123/BraTS20_Validation_123_BrainROIT1cwx2.nii.gz.\n",
      "file written: /home/mmiv-ml/data/ROIBrain_MICCAI_BraTS2020/BraTS20_Validation_123/BraTS20_Validation_123_BrainROIT1cwx1.nii.gz.\n",
      "(2, 240, 240, 155)\n"
     ]
    },
    {
     "name": "stderr",
     "output_type": "stream",
     "text": [
      " 99%|███████████████████████████████████████████████████████████████████████████████████████████████████████████████████████████████████████████▊ | 124/125 [03:41<00:01,  1.89s/it]"
     ]
    },
    {
     "name": "stdout",
     "output_type": "stream",
     "text": [
      "file written: /home/mmiv-ml/data/ROIBrain_MICCAI_BraTS2020/BraTS20_Validation_124/BraTS20_Validation_124_BrainROIT1cwx2.nii.gz.\n",
      "file written: /home/mmiv-ml/data/ROIBrain_MICCAI_BraTS2020/BraTS20_Validation_124/BraTS20_Validation_124_BrainROIT1cwx1.nii.gz.\n",
      "(2, 240, 240, 155)\n"
     ]
    },
    {
     "name": "stderr",
     "output_type": "stream",
     "text": [
      "100%|█████████████████████████████████████████████████████████████████████████████████████████████████████████████████████████████████████████████| 125/125 [03:43<00:00,  1.79s/it]"
     ]
    },
    {
     "name": "stdout",
     "output_type": "stream",
     "text": [
      "file written: /home/mmiv-ml/data/ROIBrain_MICCAI_BraTS2020/BraTS20_Validation_125/BraTS20_Validation_125_BrainROIT1cwx2.nii.gz.\n",
      "file written: /home/mmiv-ml/data/ROIBrain_MICCAI_BraTS2020/BraTS20_Validation_125/BraTS20_Validation_125_BrainROIT1cwx1.nii.gz.\n",
      "(2, 240, 240, 155)\n"
     ]
    },
    {
     "name": "stderr",
     "output_type": "stream",
     "text": [
      "\n"
     ]
    }
   ],
   "source": [
    "for i in tqdm(range(len(ds_brats20validation_4SaveMask))):\n",
    "#for i in tqdm(range(50)):\n",
    "    print(ds_brats20validation_4SaveMask[i]['brain_mask'].shape)"
   ]
  },
  {
   "cell_type": "markdown",
   "metadata": {},
   "source": [
    "### BraTS20 training set"
   ]
  },
  {
   "cell_type": "code",
   "execution_count": 12,
   "metadata": {},
   "outputs": [
    {
     "data": {
      "text/plain": [
       "'/home/mmiv-ml/data/MICCAI_BraTS2020_TrainingData'"
      ]
     },
     "execution_count": 12,
     "metadata": {},
     "output_type": "execute_result"
    }
   ],
   "source": [
    "train_data_folder = '/home/mmiv-ml/data/MICCAI_BraTS2020_TrainingData'\n",
    "train_data_folder"
   ]
  },
  {
   "cell_type": "code",
   "execution_count": 13,
   "metadata": {},
   "outputs": [
    {
     "name": "stdout",
     "output_type": "stream",
     "text": [
      "/home/mmiv-ml/data/ROIBrain_MICCAI_BraTS2020\n"
     ]
    }
   ],
   "source": [
    "\n",
    "t1wMask4save_folder = '/home/mmiv-ml/data/ROIBrain_MICCAI_BraTS2020'\n",
    "\n",
    "print(t1wMask4save_folder)\n",
    "brain_maskSaverT1wx2 = monai.data.NiftiSaver(output_dir=t1wMask4save_folder, output_postfix='BrainROIT1cwx2', output_ext='.nii.gz', resample=False, separate_folder=True)\n",
    "brain_maskSaver = monai.data.NiftiSaver(output_dir=t1wMask4save_folder, output_postfix='BrainROIT1cwx1', output_ext='.nii.gz', resample=False, separate_folder=True)"
   ]
  },
  {
   "cell_type": "code",
   "execution_count": 14,
   "metadata": {},
   "outputs": [
    {
     "data": {
      "text/plain": [
       "[{'image': ('/home/mmiv-ml/data/MICCAI_BraTS2020_TrainingData/BraTS20_Training_001/BraTS20_Training_001_t1ce.nii.gz',\n",
       "   '/home/mmiv-ml/data/MICCAI_BraTS2020_TrainingData/BraTS20_Training_001/BraTS20_Training_001_t2.nii.gz')},\n",
       " {'image': ('/home/mmiv-ml/data/MICCAI_BraTS2020_TrainingData/BraTS20_Training_002/BraTS20_Training_002_t1ce.nii.gz',\n",
       "   '/home/mmiv-ml/data/MICCAI_BraTS2020_TrainingData/BraTS20_Training_002/BraTS20_Training_002_t2.nii.gz')}]"
      ]
     },
     "execution_count": 14,
     "metadata": {},
     "output_type": "execute_result"
    }
   ],
   "source": [
    "train_images20T1ce=sorted(glob.glob(os.path.join(train_data_folder,'*/*_t1ce.nii.gz')))\n",
    "train_images20T2=sorted(glob.glob(os.path.join(train_data_folder,'*/*_t2.nii.gz')))\n",
    "\n",
    "\n",
    "\n",
    "brats20train_infer_files = [{'image': (image_t1cw, image_t2)} \\\n",
    "                   for image_t1cw, image_t2, \\\n",
    "                   in zip(train_images20T1ce, train_images20T2)]\n",
    "#np.random.shuffle(val_infer_files)\n",
    "\n",
    "len(brats20train_infer_files)\n",
    "brats20train_infer_files[0:2]"
   ]
  },
  {
   "cell_type": "code",
   "execution_count": 15,
   "metadata": {},
   "outputs": [
    {
     "data": {
      "text/plain": [
       "369"
      ]
     },
     "execution_count": 15,
     "metadata": {},
     "output_type": "execute_result"
    }
   ],
   "source": [
    "ds_brats20training_4SaveMask = monai.data.Dataset(data = brats20train_infer_files, transform = file_saveMask_transforms)\n",
    "len(ds_brats20training_4SaveMask)"
   ]
  },
  {
   "cell_type": "code",
   "execution_count": 16,
   "metadata": {
    "scrolled": true
   },
   "outputs": [
    {
     "name": "stdout",
     "output_type": "stream",
     "text": [
      "file written: /home/mmiv-ml/data/ROIBrain_MICCAI_BraTS2020/BraTS20_Training_001/BraTS20_Training_001_BrainROIT1cwx2.nii.gz.\n",
      "file written: /home/mmiv-ml/data/ROIBrain_MICCAI_BraTS2020/BraTS20_Training_001/BraTS20_Training_001_BrainROIT1cwx1.nii.gz.\n"
     ]
    },
    {
     "data": {
      "text/plain": [
       "{'sizeof_hdr': array(348, dtype=int32),\n",
       " 'extents': array(0, dtype=int32),\n",
       " 'session_error': array(0, dtype=int16),\n",
       " 'dim_info': array(0, dtype=uint8),\n",
       " 'dim': array([  3, 240, 240, 155,   1,   1,   1,   1], dtype=int16),\n",
       " 'intent_p1': array(0., dtype=float32),\n",
       " 'intent_p2': array(0., dtype=float32),\n",
       " 'intent_p3': array(0., dtype=float32),\n",
       " 'intent_code': array(0, dtype=int16),\n",
       " 'datatype': array(4, dtype=int16),\n",
       " 'bitpix': array(16, dtype=int16),\n",
       " 'slice_start': array(0, dtype=int16),\n",
       " 'pixdim': array([1., 1., 1., 1., 0., 0., 0., 0.], dtype=float32),\n",
       " 'vox_offset': array(0., dtype=float32),\n",
       " 'scl_slope': array(nan, dtype=float32),\n",
       " 'scl_inter': array(nan, dtype=float32),\n",
       " 'slice_end': array(0, dtype=int16),\n",
       " 'slice_code': array(0, dtype=uint8),\n",
       " 'xyzt_units': array(2, dtype=uint8),\n",
       " 'cal_max': array(0., dtype=float32),\n",
       " 'cal_min': array(0., dtype=float32),\n",
       " 'slice_duration': array(0., dtype=float32),\n",
       " 'toffset': array(0., dtype=float32),\n",
       " 'glmax': array(0, dtype=int32),\n",
       " 'glmin': array(0, dtype=int32),\n",
       " 'qform_code': array(1, dtype=int16),\n",
       " 'sform_code': array(1, dtype=int16),\n",
       " 'quatern_b': array(0., dtype=float32),\n",
       " 'quatern_c': array(0., dtype=float32),\n",
       " 'quatern_d': array(1., dtype=float32),\n",
       " 'qoffset_x': array(0., dtype=float32),\n",
       " 'qoffset_y': array(239., dtype=float32),\n",
       " 'qoffset_z': array(0., dtype=float32),\n",
       " 'srow_x': array([-1., -0., -0.,  0.], dtype=float32),\n",
       " 'srow_y': array([ -0.,  -1.,  -0., 239.], dtype=float32),\n",
       " 'srow_z': array([0., 0., 1., 0.], dtype=float32),\n",
       " 'affine': array([[ -1.,  -0.,  -0.,   0.],\n",
       "        [ -0.,  -1.,  -0., 239.],\n",
       "        [  0.,   0.,   1.,   0.],\n",
       "        [  0.,   0.,   0.,   1.]]),\n",
       " 'original_affine': array([[ -1.,  -0.,  -0.,   0.],\n",
       "        [ -0.,  -1.,  -0., 239.],\n",
       "        [  0.,   0.,   1.,   0.],\n",
       "        [  0.,   0.,   0.,   1.]]),\n",
       " 'as_closest_canonical': False,\n",
       " 'spatial_shape': array([240, 240, 155], dtype=int16),\n",
       " 'original_channel_dim': 0,\n",
       " 'filename_or_obj': '/home/mmiv-ml/data/MICCAI_BraTS2020_TrainingData/BraTS20_Training_001/BraTS20_Training_001_t1ce.nii.gz'}"
      ]
     },
     "execution_count": 16,
     "metadata": {},
     "output_type": "execute_result"
    }
   ],
   "source": [
    "ds_brats20training_4SaveMask[0]['brain_mask_meta_dict']"
   ]
  },
  {
   "cell_type": "code",
   "execution_count": 17,
   "metadata": {
    "scrolled": true
   },
   "outputs": [
    {
     "name": "stderr",
     "output_type": "stream",
     "text": [
      "  0%|▎                                                                                            | 1/369 [00:01<11:16,  1.84s/it]"
     ]
    },
    {
     "name": "stdout",
     "output_type": "stream",
     "text": [
      "file written: /home/mmiv-ml/data/ROIBrain_MICCAI_BraTS2020/BraTS20_Training_001/BraTS20_Training_001_BrainROIT1cwx2.nii.gz.\n",
      "file written: /home/mmiv-ml/data/ROIBrain_MICCAI_BraTS2020/BraTS20_Training_001/BraTS20_Training_001_BrainROIT1cwx1.nii.gz.\n",
      "(2, 240, 240, 155)\n"
     ]
    },
    {
     "name": "stderr",
     "output_type": "stream",
     "text": [
      "  1%|▌                                                                                            | 2/369 [00:03<10:53,  1.78s/it]"
     ]
    },
    {
     "name": "stdout",
     "output_type": "stream",
     "text": [
      "file written: /home/mmiv-ml/data/ROIBrain_MICCAI_BraTS2020/BraTS20_Training_002/BraTS20_Training_002_BrainROIT1cwx2.nii.gz.\n",
      "file written: /home/mmiv-ml/data/ROIBrain_MICCAI_BraTS2020/BraTS20_Training_002/BraTS20_Training_002_BrainROIT1cwx1.nii.gz.\n",
      "(2, 240, 240, 155)\n"
     ]
    },
    {
     "name": "stderr",
     "output_type": "stream",
     "text": [
      "  1%|▊                                                                                            | 3/369 [00:05<10:56,  1.79s/it]"
     ]
    },
    {
     "name": "stdout",
     "output_type": "stream",
     "text": [
      "file written: /home/mmiv-ml/data/ROIBrain_MICCAI_BraTS2020/BraTS20_Training_003/BraTS20_Training_003_BrainROIT1cwx2.nii.gz.\n",
      "file written: /home/mmiv-ml/data/ROIBrain_MICCAI_BraTS2020/BraTS20_Training_003/BraTS20_Training_003_BrainROIT1cwx1.nii.gz.\n",
      "(2, 240, 240, 155)\n"
     ]
    },
    {
     "name": "stderr",
     "output_type": "stream",
     "text": [
      "  1%|█                                                                                            | 4/369 [00:07<10:48,  1.78s/it]"
     ]
    },
    {
     "name": "stdout",
     "output_type": "stream",
     "text": [
      "file written: /home/mmiv-ml/data/ROIBrain_MICCAI_BraTS2020/BraTS20_Training_004/BraTS20_Training_004_BrainROIT1cwx2.nii.gz.\n",
      "file written: /home/mmiv-ml/data/ROIBrain_MICCAI_BraTS2020/BraTS20_Training_004/BraTS20_Training_004_BrainROIT1cwx1.nii.gz.\n",
      "(2, 240, 240, 155)\n"
     ]
    },
    {
     "name": "stderr",
     "output_type": "stream",
     "text": [
      "  1%|█▎                                                                                           | 5/369 [00:08<10:42,  1.77s/it]"
     ]
    },
    {
     "name": "stdout",
     "output_type": "stream",
     "text": [
      "file written: /home/mmiv-ml/data/ROIBrain_MICCAI_BraTS2020/BraTS20_Training_005/BraTS20_Training_005_BrainROIT1cwx2.nii.gz.\n",
      "file written: /home/mmiv-ml/data/ROIBrain_MICCAI_BraTS2020/BraTS20_Training_005/BraTS20_Training_005_BrainROIT1cwx1.nii.gz.\n",
      "(2, 240, 240, 155)\n"
     ]
    },
    {
     "name": "stderr",
     "output_type": "stream",
     "text": [
      "  2%|█▌                                                                                           | 6/369 [00:10<10:49,  1.79s/it]"
     ]
    },
    {
     "name": "stdout",
     "output_type": "stream",
     "text": [
      "file written: /home/mmiv-ml/data/ROIBrain_MICCAI_BraTS2020/BraTS20_Training_006/BraTS20_Training_006_BrainROIT1cwx2.nii.gz.\n",
      "file written: /home/mmiv-ml/data/ROIBrain_MICCAI_BraTS2020/BraTS20_Training_006/BraTS20_Training_006_BrainROIT1cwx1.nii.gz.\n",
      "(2, 240, 240, 155)\n"
     ]
    },
    {
     "name": "stderr",
     "output_type": "stream",
     "text": [
      "  2%|█▊                                                                                           | 7/369 [00:12<10:42,  1.78s/it]"
     ]
    },
    {
     "name": "stdout",
     "output_type": "stream",
     "text": [
      "file written: /home/mmiv-ml/data/ROIBrain_MICCAI_BraTS2020/BraTS20_Training_007/BraTS20_Training_007_BrainROIT1cwx2.nii.gz.\n",
      "file written: /home/mmiv-ml/data/ROIBrain_MICCAI_BraTS2020/BraTS20_Training_007/BraTS20_Training_007_BrainROIT1cwx1.nii.gz.\n",
      "(2, 240, 240, 155)\n"
     ]
    },
    {
     "name": "stderr",
     "output_type": "stream",
     "text": [
      "  2%|██                                                                                           | 8/369 [00:14<10:43,  1.78s/it]"
     ]
    },
    {
     "name": "stdout",
     "output_type": "stream",
     "text": [
      "file written: /home/mmiv-ml/data/ROIBrain_MICCAI_BraTS2020/BraTS20_Training_008/BraTS20_Training_008_BrainROIT1cwx2.nii.gz.\n",
      "file written: /home/mmiv-ml/data/ROIBrain_MICCAI_BraTS2020/BraTS20_Training_008/BraTS20_Training_008_BrainROIT1cwx1.nii.gz.\n",
      "(2, 240, 240, 155)\n"
     ]
    },
    {
     "name": "stderr",
     "output_type": "stream",
     "text": [
      "  2%|██▎                                                                                          | 9/369 [00:16<10:45,  1.79s/it]"
     ]
    },
    {
     "name": "stdout",
     "output_type": "stream",
     "text": [
      "file written: /home/mmiv-ml/data/ROIBrain_MICCAI_BraTS2020/BraTS20_Training_009/BraTS20_Training_009_BrainROIT1cwx2.nii.gz.\n",
      "file written: /home/mmiv-ml/data/ROIBrain_MICCAI_BraTS2020/BraTS20_Training_009/BraTS20_Training_009_BrainROIT1cwx1.nii.gz.\n",
      "(2, 240, 240, 155)\n"
     ]
    },
    {
     "name": "stderr",
     "output_type": "stream",
     "text": [
      "  3%|██▍                                                                                         | 10/369 [00:17<10:41,  1.79s/it]"
     ]
    },
    {
     "name": "stdout",
     "output_type": "stream",
     "text": [
      "file written: /home/mmiv-ml/data/ROIBrain_MICCAI_BraTS2020/BraTS20_Training_010/BraTS20_Training_010_BrainROIT1cwx2.nii.gz.\n",
      "file written: /home/mmiv-ml/data/ROIBrain_MICCAI_BraTS2020/BraTS20_Training_010/BraTS20_Training_010_BrainROIT1cwx1.nii.gz.\n",
      "(2, 240, 240, 155)\n"
     ]
    },
    {
     "name": "stderr",
     "output_type": "stream",
     "text": [
      "  3%|██▋                                                                                         | 11/369 [00:19<10:35,  1.77s/it]"
     ]
    },
    {
     "name": "stdout",
     "output_type": "stream",
     "text": [
      "file written: /home/mmiv-ml/data/ROIBrain_MICCAI_BraTS2020/BraTS20_Training_011/BraTS20_Training_011_BrainROIT1cwx2.nii.gz.\n",
      "file written: /home/mmiv-ml/data/ROIBrain_MICCAI_BraTS2020/BraTS20_Training_011/BraTS20_Training_011_BrainROIT1cwx1.nii.gz.\n",
      "(2, 240, 240, 155)\n"
     ]
    },
    {
     "name": "stderr",
     "output_type": "stream",
     "text": [
      "  3%|██▉                                                                                         | 12/369 [00:21<10:36,  1.78s/it]"
     ]
    },
    {
     "name": "stdout",
     "output_type": "stream",
     "text": [
      "file written: /home/mmiv-ml/data/ROIBrain_MICCAI_BraTS2020/BraTS20_Training_012/BraTS20_Training_012_BrainROIT1cwx2.nii.gz.\n",
      "file written: /home/mmiv-ml/data/ROIBrain_MICCAI_BraTS2020/BraTS20_Training_012/BraTS20_Training_012_BrainROIT1cwx1.nii.gz.\n",
      "(2, 240, 240, 155)\n"
     ]
    },
    {
     "name": "stderr",
     "output_type": "stream",
     "text": [
      "  4%|███▏                                                                                        | 13/369 [00:23<10:30,  1.77s/it]"
     ]
    },
    {
     "name": "stdout",
     "output_type": "stream",
     "text": [
      "file written: /home/mmiv-ml/data/ROIBrain_MICCAI_BraTS2020/BraTS20_Training_013/BraTS20_Training_013_BrainROIT1cwx2.nii.gz.\n",
      "file written: /home/mmiv-ml/data/ROIBrain_MICCAI_BraTS2020/BraTS20_Training_013/BraTS20_Training_013_BrainROIT1cwx1.nii.gz.\n",
      "(2, 240, 240, 155)\n"
     ]
    },
    {
     "name": "stderr",
     "output_type": "stream",
     "text": [
      "  4%|███▍                                                                                        | 14/369 [00:24<10:23,  1.76s/it]"
     ]
    },
    {
     "name": "stdout",
     "output_type": "stream",
     "text": [
      "file written: /home/mmiv-ml/data/ROIBrain_MICCAI_BraTS2020/BraTS20_Training_014/BraTS20_Training_014_BrainROIT1cwx2.nii.gz.\n",
      "file written: /home/mmiv-ml/data/ROIBrain_MICCAI_BraTS2020/BraTS20_Training_014/BraTS20_Training_014_BrainROIT1cwx1.nii.gz.\n",
      "(2, 240, 240, 155)\n"
     ]
    },
    {
     "name": "stderr",
     "output_type": "stream",
     "text": [
      "  4%|███▋                                                                                        | 15/369 [00:26<10:24,  1.76s/it]"
     ]
    },
    {
     "name": "stdout",
     "output_type": "stream",
     "text": [
      "file written: /home/mmiv-ml/data/ROIBrain_MICCAI_BraTS2020/BraTS20_Training_015/BraTS20_Training_015_BrainROIT1cwx2.nii.gz.\n",
      "file written: /home/mmiv-ml/data/ROIBrain_MICCAI_BraTS2020/BraTS20_Training_015/BraTS20_Training_015_BrainROIT1cwx1.nii.gz.\n",
      "(2, 240, 240, 155)\n"
     ]
    },
    {
     "name": "stderr",
     "output_type": "stream",
     "text": [
      "  4%|███▉                                                                                        | 16/369 [00:28<10:27,  1.78s/it]"
     ]
    },
    {
     "name": "stdout",
     "output_type": "stream",
     "text": [
      "file written: /home/mmiv-ml/data/ROIBrain_MICCAI_BraTS2020/BraTS20_Training_016/BraTS20_Training_016_BrainROIT1cwx2.nii.gz.\n",
      "file written: /home/mmiv-ml/data/ROIBrain_MICCAI_BraTS2020/BraTS20_Training_016/BraTS20_Training_016_BrainROIT1cwx1.nii.gz.\n",
      "(2, 240, 240, 155)\n"
     ]
    },
    {
     "name": "stderr",
     "output_type": "stream",
     "text": [
      "  5%|████▏                                                                                       | 17/369 [00:30<10:28,  1.78s/it]"
     ]
    },
    {
     "name": "stdout",
     "output_type": "stream",
     "text": [
      "file written: /home/mmiv-ml/data/ROIBrain_MICCAI_BraTS2020/BraTS20_Training_017/BraTS20_Training_017_BrainROIT1cwx2.nii.gz.\n",
      "file written: /home/mmiv-ml/data/ROIBrain_MICCAI_BraTS2020/BraTS20_Training_017/BraTS20_Training_017_BrainROIT1cwx1.nii.gz.\n",
      "(2, 240, 240, 155)\n"
     ]
    },
    {
     "name": "stderr",
     "output_type": "stream",
     "text": [
      "  5%|████▍                                                                                       | 18/369 [00:32<10:34,  1.81s/it]"
     ]
    },
    {
     "name": "stdout",
     "output_type": "stream",
     "text": [
      "file written: /home/mmiv-ml/data/ROIBrain_MICCAI_BraTS2020/BraTS20_Training_018/BraTS20_Training_018_BrainROIT1cwx2.nii.gz.\n",
      "file written: /home/mmiv-ml/data/ROIBrain_MICCAI_BraTS2020/BraTS20_Training_018/BraTS20_Training_018_BrainROIT1cwx1.nii.gz.\n",
      "(2, 240, 240, 155)\n"
     ]
    },
    {
     "name": "stderr",
     "output_type": "stream",
     "text": [
      "  5%|████▋                                                                                       | 19/369 [00:33<10:29,  1.80s/it]"
     ]
    },
    {
     "name": "stdout",
     "output_type": "stream",
     "text": [
      "file written: /home/mmiv-ml/data/ROIBrain_MICCAI_BraTS2020/BraTS20_Training_019/BraTS20_Training_019_BrainROIT1cwx2.nii.gz.\n",
      "file written: /home/mmiv-ml/data/ROIBrain_MICCAI_BraTS2020/BraTS20_Training_019/BraTS20_Training_019_BrainROIT1cwx1.nii.gz.\n",
      "(2, 240, 240, 155)\n"
     ]
    },
    {
     "name": "stderr",
     "output_type": "stream",
     "text": [
      "  5%|████▉                                                                                       | 20/369 [00:35<10:24,  1.79s/it]"
     ]
    },
    {
     "name": "stdout",
     "output_type": "stream",
     "text": [
      "file written: /home/mmiv-ml/data/ROIBrain_MICCAI_BraTS2020/BraTS20_Training_020/BraTS20_Training_020_BrainROIT1cwx2.nii.gz.\n",
      "file written: /home/mmiv-ml/data/ROIBrain_MICCAI_BraTS2020/BraTS20_Training_020/BraTS20_Training_020_BrainROIT1cwx1.nii.gz.\n",
      "(2, 240, 240, 155)\n"
     ]
    },
    {
     "name": "stderr",
     "output_type": "stream",
     "text": [
      "  6%|█████▏                                                                                      | 21/369 [00:37<10:32,  1.82s/it]"
     ]
    },
    {
     "name": "stdout",
     "output_type": "stream",
     "text": [
      "file written: /home/mmiv-ml/data/ROIBrain_MICCAI_BraTS2020/BraTS20_Training_021/BraTS20_Training_021_BrainROIT1cwx2.nii.gz.\n",
      "file written: /home/mmiv-ml/data/ROIBrain_MICCAI_BraTS2020/BraTS20_Training_021/BraTS20_Training_021_BrainROIT1cwx1.nii.gz.\n",
      "(2, 240, 240, 155)\n"
     ]
    },
    {
     "name": "stderr",
     "output_type": "stream",
     "text": [
      "  6%|█████▍                                                                                      | 22/369 [00:39<10:22,  1.79s/it]"
     ]
    },
    {
     "name": "stdout",
     "output_type": "stream",
     "text": [
      "file written: /home/mmiv-ml/data/ROIBrain_MICCAI_BraTS2020/BraTS20_Training_022/BraTS20_Training_022_BrainROIT1cwx2.nii.gz.\n",
      "file written: /home/mmiv-ml/data/ROIBrain_MICCAI_BraTS2020/BraTS20_Training_022/BraTS20_Training_022_BrainROIT1cwx1.nii.gz.\n",
      "(2, 240, 240, 155)\n"
     ]
    },
    {
     "name": "stderr",
     "output_type": "stream",
     "text": [
      "  6%|█████▋                                                                                      | 23/369 [00:41<10:27,  1.81s/it]"
     ]
    },
    {
     "name": "stdout",
     "output_type": "stream",
     "text": [
      "file written: /home/mmiv-ml/data/ROIBrain_MICCAI_BraTS2020/BraTS20_Training_023/BraTS20_Training_023_BrainROIT1cwx2.nii.gz.\n",
      "file written: /home/mmiv-ml/data/ROIBrain_MICCAI_BraTS2020/BraTS20_Training_023/BraTS20_Training_023_BrainROIT1cwx1.nii.gz.\n",
      "(2, 240, 240, 155)\n"
     ]
    },
    {
     "name": "stderr",
     "output_type": "stream",
     "text": [
      "  7%|█████▉                                                                                      | 24/369 [00:42<10:25,  1.81s/it]"
     ]
    },
    {
     "name": "stdout",
     "output_type": "stream",
     "text": [
      "file written: /home/mmiv-ml/data/ROIBrain_MICCAI_BraTS2020/BraTS20_Training_024/BraTS20_Training_024_BrainROIT1cwx2.nii.gz.\n",
      "file written: /home/mmiv-ml/data/ROIBrain_MICCAI_BraTS2020/BraTS20_Training_024/BraTS20_Training_024_BrainROIT1cwx1.nii.gz.\n",
      "(2, 240, 240, 155)\n"
     ]
    },
    {
     "name": "stderr",
     "output_type": "stream",
     "text": [
      "  7%|██████▏                                                                                     | 25/369 [00:44<10:24,  1.82s/it]"
     ]
    },
    {
     "name": "stdout",
     "output_type": "stream",
     "text": [
      "file written: /home/mmiv-ml/data/ROIBrain_MICCAI_BraTS2020/BraTS20_Training_025/BraTS20_Training_025_BrainROIT1cwx2.nii.gz.\n",
      "file written: /home/mmiv-ml/data/ROIBrain_MICCAI_BraTS2020/BraTS20_Training_025/BraTS20_Training_025_BrainROIT1cwx1.nii.gz.\n",
      "(2, 240, 240, 155)\n"
     ]
    },
    {
     "name": "stderr",
     "output_type": "stream",
     "text": [
      "  7%|██████▍                                                                                     | 26/369 [00:46<10:21,  1.81s/it]"
     ]
    },
    {
     "name": "stdout",
     "output_type": "stream",
     "text": [
      "file written: /home/mmiv-ml/data/ROIBrain_MICCAI_BraTS2020/BraTS20_Training_026/BraTS20_Training_026_BrainROIT1cwx2.nii.gz.\n",
      "file written: /home/mmiv-ml/data/ROIBrain_MICCAI_BraTS2020/BraTS20_Training_026/BraTS20_Training_026_BrainROIT1cwx1.nii.gz.\n",
      "(2, 240, 240, 155)\n"
     ]
    },
    {
     "name": "stderr",
     "output_type": "stream",
     "text": [
      "  7%|██████▋                                                                                     | 27/369 [00:48<10:16,  1.80s/it]"
     ]
    },
    {
     "name": "stdout",
     "output_type": "stream",
     "text": [
      "file written: /home/mmiv-ml/data/ROIBrain_MICCAI_BraTS2020/BraTS20_Training_027/BraTS20_Training_027_BrainROIT1cwx2.nii.gz.\n",
      "file written: /home/mmiv-ml/data/ROIBrain_MICCAI_BraTS2020/BraTS20_Training_027/BraTS20_Training_027_BrainROIT1cwx1.nii.gz.\n",
      "(2, 240, 240, 155)\n"
     ]
    },
    {
     "name": "stderr",
     "output_type": "stream",
     "text": [
      "  8%|██████▉                                                                                     | 28/369 [00:50<10:20,  1.82s/it]"
     ]
    },
    {
     "name": "stdout",
     "output_type": "stream",
     "text": [
      "file written: /home/mmiv-ml/data/ROIBrain_MICCAI_BraTS2020/BraTS20_Training_028/BraTS20_Training_028_BrainROIT1cwx2.nii.gz.\n",
      "file written: /home/mmiv-ml/data/ROIBrain_MICCAI_BraTS2020/BraTS20_Training_028/BraTS20_Training_028_BrainROIT1cwx1.nii.gz.\n",
      "(2, 240, 240, 155)\n"
     ]
    },
    {
     "name": "stderr",
     "output_type": "stream",
     "text": [
      "  8%|███████▏                                                                                    | 29/369 [00:51<10:12,  1.80s/it]"
     ]
    },
    {
     "name": "stdout",
     "output_type": "stream",
     "text": [
      "file written: /home/mmiv-ml/data/ROIBrain_MICCAI_BraTS2020/BraTS20_Training_029/BraTS20_Training_029_BrainROIT1cwx2.nii.gz.\n",
      "file written: /home/mmiv-ml/data/ROIBrain_MICCAI_BraTS2020/BraTS20_Training_029/BraTS20_Training_029_BrainROIT1cwx1.nii.gz.\n",
      "(2, 240, 240, 155)\n"
     ]
    },
    {
     "name": "stderr",
     "output_type": "stream",
     "text": [
      "  8%|███████▍                                                                                    | 30/369 [00:53<10:08,  1.79s/it]"
     ]
    },
    {
     "name": "stdout",
     "output_type": "stream",
     "text": [
      "file written: /home/mmiv-ml/data/ROIBrain_MICCAI_BraTS2020/BraTS20_Training_030/BraTS20_Training_030_BrainROIT1cwx2.nii.gz.\n",
      "file written: /home/mmiv-ml/data/ROIBrain_MICCAI_BraTS2020/BraTS20_Training_030/BraTS20_Training_030_BrainROIT1cwx1.nii.gz.\n",
      "(2, 240, 240, 155)\n"
     ]
    },
    {
     "name": "stderr",
     "output_type": "stream",
     "text": [
      "  8%|███████▋                                                                                    | 31/369 [00:55<10:03,  1.79s/it]"
     ]
    },
    {
     "name": "stdout",
     "output_type": "stream",
     "text": [
      "file written: /home/mmiv-ml/data/ROIBrain_MICCAI_BraTS2020/BraTS20_Training_031/BraTS20_Training_031_BrainROIT1cwx2.nii.gz.\n",
      "file written: /home/mmiv-ml/data/ROIBrain_MICCAI_BraTS2020/BraTS20_Training_031/BraTS20_Training_031_BrainROIT1cwx1.nii.gz.\n",
      "(2, 240, 240, 155)\n"
     ]
    },
    {
     "name": "stderr",
     "output_type": "stream",
     "text": [
      "  9%|███████▉                                                                                    | 32/369 [00:57<10:10,  1.81s/it]"
     ]
    },
    {
     "name": "stdout",
     "output_type": "stream",
     "text": [
      "file written: /home/mmiv-ml/data/ROIBrain_MICCAI_BraTS2020/BraTS20_Training_032/BraTS20_Training_032_BrainROIT1cwx2.nii.gz.\n",
      "file written: /home/mmiv-ml/data/ROIBrain_MICCAI_BraTS2020/BraTS20_Training_032/BraTS20_Training_032_BrainROIT1cwx1.nii.gz.\n",
      "(2, 240, 240, 155)\n"
     ]
    },
    {
     "name": "stderr",
     "output_type": "stream",
     "text": [
      "  9%|████████▏                                                                                   | 33/369 [00:59<10:07,  1.81s/it]"
     ]
    },
    {
     "name": "stdout",
     "output_type": "stream",
     "text": [
      "file written: /home/mmiv-ml/data/ROIBrain_MICCAI_BraTS2020/BraTS20_Training_033/BraTS20_Training_033_BrainROIT1cwx2.nii.gz.\n",
      "file written: /home/mmiv-ml/data/ROIBrain_MICCAI_BraTS2020/BraTS20_Training_033/BraTS20_Training_033_BrainROIT1cwx1.nii.gz.\n",
      "(2, 240, 240, 155)\n"
     ]
    },
    {
     "name": "stderr",
     "output_type": "stream",
     "text": [
      "  9%|████████▍                                                                                   | 34/369 [01:01<10:06,  1.81s/it]"
     ]
    },
    {
     "name": "stdout",
     "output_type": "stream",
     "text": [
      "file written: /home/mmiv-ml/data/ROIBrain_MICCAI_BraTS2020/BraTS20_Training_034/BraTS20_Training_034_BrainROIT1cwx2.nii.gz.\n",
      "file written: /home/mmiv-ml/data/ROIBrain_MICCAI_BraTS2020/BraTS20_Training_034/BraTS20_Training_034_BrainROIT1cwx1.nii.gz.\n",
      "(2, 240, 240, 155)\n"
     ]
    },
    {
     "name": "stderr",
     "output_type": "stream",
     "text": [
      "  9%|████████▋                                                                                   | 35/369 [01:02<09:59,  1.79s/it]"
     ]
    },
    {
     "name": "stdout",
     "output_type": "stream",
     "text": [
      "file written: /home/mmiv-ml/data/ROIBrain_MICCAI_BraTS2020/BraTS20_Training_035/BraTS20_Training_035_BrainROIT1cwx2.nii.gz.\n",
      "file written: /home/mmiv-ml/data/ROIBrain_MICCAI_BraTS2020/BraTS20_Training_035/BraTS20_Training_035_BrainROIT1cwx1.nii.gz.\n",
      "(2, 240, 240, 155)\n"
     ]
    },
    {
     "name": "stderr",
     "output_type": "stream",
     "text": [
      " 10%|████████▉                                                                                   | 36/369 [01:04<09:56,  1.79s/it]"
     ]
    },
    {
     "name": "stdout",
     "output_type": "stream",
     "text": [
      "file written: /home/mmiv-ml/data/ROIBrain_MICCAI_BraTS2020/BraTS20_Training_036/BraTS20_Training_036_BrainROIT1cwx2.nii.gz.\n",
      "file written: /home/mmiv-ml/data/ROIBrain_MICCAI_BraTS2020/BraTS20_Training_036/BraTS20_Training_036_BrainROIT1cwx1.nii.gz.\n",
      "(2, 240, 240, 155)\n"
     ]
    },
    {
     "name": "stderr",
     "output_type": "stream",
     "text": [
      " 10%|█████████▏                                                                                  | 37/369 [01:06<10:01,  1.81s/it]"
     ]
    },
    {
     "name": "stdout",
     "output_type": "stream",
     "text": [
      "file written: /home/mmiv-ml/data/ROIBrain_MICCAI_BraTS2020/BraTS20_Training_037/BraTS20_Training_037_BrainROIT1cwx2.nii.gz.\n",
      "file written: /home/mmiv-ml/data/ROIBrain_MICCAI_BraTS2020/BraTS20_Training_037/BraTS20_Training_037_BrainROIT1cwx1.nii.gz.\n",
      "(2, 240, 240, 155)\n"
     ]
    },
    {
     "name": "stderr",
     "output_type": "stream",
     "text": [
      " 10%|█████████▍                                                                                  | 38/369 [01:08<10:01,  1.82s/it]"
     ]
    },
    {
     "name": "stdout",
     "output_type": "stream",
     "text": [
      "file written: /home/mmiv-ml/data/ROIBrain_MICCAI_BraTS2020/BraTS20_Training_038/BraTS20_Training_038_BrainROIT1cwx2.nii.gz.\n",
      "file written: /home/mmiv-ml/data/ROIBrain_MICCAI_BraTS2020/BraTS20_Training_038/BraTS20_Training_038_BrainROIT1cwx1.nii.gz.\n",
      "(2, 240, 240, 155)\n"
     ]
    },
    {
     "name": "stderr",
     "output_type": "stream",
     "text": [
      " 11%|█████████▋                                                                                  | 39/369 [01:10<09:57,  1.81s/it]"
     ]
    },
    {
     "name": "stdout",
     "output_type": "stream",
     "text": [
      "file written: /home/mmiv-ml/data/ROIBrain_MICCAI_BraTS2020/BraTS20_Training_039/BraTS20_Training_039_BrainROIT1cwx2.nii.gz.\n",
      "file written: /home/mmiv-ml/data/ROIBrain_MICCAI_BraTS2020/BraTS20_Training_039/BraTS20_Training_039_BrainROIT1cwx1.nii.gz.\n",
      "(2, 240, 240, 155)\n"
     ]
    },
    {
     "name": "stderr",
     "output_type": "stream",
     "text": [
      " 11%|█████████▉                                                                                  | 40/369 [01:11<09:52,  1.80s/it]"
     ]
    },
    {
     "name": "stdout",
     "output_type": "stream",
     "text": [
      "file written: /home/mmiv-ml/data/ROIBrain_MICCAI_BraTS2020/BraTS20_Training_040/BraTS20_Training_040_BrainROIT1cwx2.nii.gz.\n",
      "file written: /home/mmiv-ml/data/ROIBrain_MICCAI_BraTS2020/BraTS20_Training_040/BraTS20_Training_040_BrainROIT1cwx1.nii.gz.\n",
      "(2, 240, 240, 155)\n"
     ]
    },
    {
     "name": "stderr",
     "output_type": "stream",
     "text": [
      " 11%|██████████▏                                                                                 | 41/369 [01:13<09:51,  1.80s/it]"
     ]
    },
    {
     "name": "stdout",
     "output_type": "stream",
     "text": [
      "file written: /home/mmiv-ml/data/ROIBrain_MICCAI_BraTS2020/BraTS20_Training_041/BraTS20_Training_041_BrainROIT1cwx2.nii.gz.\n",
      "file written: /home/mmiv-ml/data/ROIBrain_MICCAI_BraTS2020/BraTS20_Training_041/BraTS20_Training_041_BrainROIT1cwx1.nii.gz.\n",
      "(2, 240, 240, 155)\n"
     ]
    },
    {
     "name": "stderr",
     "output_type": "stream",
     "text": [
      " 11%|██████████▍                                                                                 | 42/369 [01:15<09:50,  1.81s/it]"
     ]
    },
    {
     "name": "stdout",
     "output_type": "stream",
     "text": [
      "file written: /home/mmiv-ml/data/ROIBrain_MICCAI_BraTS2020/BraTS20_Training_042/BraTS20_Training_042_BrainROIT1cwx2.nii.gz.\n",
      "file written: /home/mmiv-ml/data/ROIBrain_MICCAI_BraTS2020/BraTS20_Training_042/BraTS20_Training_042_BrainROIT1cwx1.nii.gz.\n",
      "(2, 240, 240, 155)\n"
     ]
    },
    {
     "name": "stderr",
     "output_type": "stream",
     "text": [
      " 12%|██████████▋                                                                                 | 43/369 [01:17<09:45,  1.80s/it]"
     ]
    },
    {
     "name": "stdout",
     "output_type": "stream",
     "text": [
      "file written: /home/mmiv-ml/data/ROIBrain_MICCAI_BraTS2020/BraTS20_Training_043/BraTS20_Training_043_BrainROIT1cwx2.nii.gz.\n",
      "file written: /home/mmiv-ml/data/ROIBrain_MICCAI_BraTS2020/BraTS20_Training_043/BraTS20_Training_043_BrainROIT1cwx1.nii.gz.\n",
      "(2, 240, 240, 155)\n"
     ]
    },
    {
     "name": "stderr",
     "output_type": "stream",
     "text": [
      " 12%|██████████▉                                                                                 | 44/369 [01:18<09:39,  1.78s/it]"
     ]
    },
    {
     "name": "stdout",
     "output_type": "stream",
     "text": [
      "file written: /home/mmiv-ml/data/ROIBrain_MICCAI_BraTS2020/BraTS20_Training_044/BraTS20_Training_044_BrainROIT1cwx2.nii.gz.\n",
      "file written: /home/mmiv-ml/data/ROIBrain_MICCAI_BraTS2020/BraTS20_Training_044/BraTS20_Training_044_BrainROIT1cwx1.nii.gz.\n",
      "(2, 240, 240, 155)\n"
     ]
    },
    {
     "name": "stderr",
     "output_type": "stream",
     "text": [
      " 12%|███████████▏                                                                                | 45/369 [01:20<09:35,  1.78s/it]"
     ]
    },
    {
     "name": "stdout",
     "output_type": "stream",
     "text": [
      "file written: /home/mmiv-ml/data/ROIBrain_MICCAI_BraTS2020/BraTS20_Training_045/BraTS20_Training_045_BrainROIT1cwx2.nii.gz.\n",
      "file written: /home/mmiv-ml/data/ROIBrain_MICCAI_BraTS2020/BraTS20_Training_045/BraTS20_Training_045_BrainROIT1cwx1.nii.gz.\n",
      "(2, 240, 240, 155)\n"
     ]
    },
    {
     "name": "stderr",
     "output_type": "stream",
     "text": [
      " 12%|███████████▍                                                                                | 46/369 [01:22<09:38,  1.79s/it]"
     ]
    },
    {
     "name": "stdout",
     "output_type": "stream",
     "text": [
      "file written: /home/mmiv-ml/data/ROIBrain_MICCAI_BraTS2020/BraTS20_Training_046/BraTS20_Training_046_BrainROIT1cwx2.nii.gz.\n",
      "file written: /home/mmiv-ml/data/ROIBrain_MICCAI_BraTS2020/BraTS20_Training_046/BraTS20_Training_046_BrainROIT1cwx1.nii.gz.\n",
      "(2, 240, 240, 155)\n"
     ]
    },
    {
     "name": "stderr",
     "output_type": "stream",
     "text": [
      " 13%|███████████▋                                                                                | 47/369 [01:24<09:38,  1.80s/it]"
     ]
    },
    {
     "name": "stdout",
     "output_type": "stream",
     "text": [
      "file written: /home/mmiv-ml/data/ROIBrain_MICCAI_BraTS2020/BraTS20_Training_047/BraTS20_Training_047_BrainROIT1cwx2.nii.gz.\n",
      "file written: /home/mmiv-ml/data/ROIBrain_MICCAI_BraTS2020/BraTS20_Training_047/BraTS20_Training_047_BrainROIT1cwx1.nii.gz.\n",
      "(2, 240, 240, 155)\n"
     ]
    },
    {
     "name": "stderr",
     "output_type": "stream",
     "text": [
      " 13%|███████████▉                                                                                | 48/369 [01:26<09:33,  1.79s/it]"
     ]
    },
    {
     "name": "stdout",
     "output_type": "stream",
     "text": [
      "file written: /home/mmiv-ml/data/ROIBrain_MICCAI_BraTS2020/BraTS20_Training_048/BraTS20_Training_048_BrainROIT1cwx2.nii.gz.\n",
      "file written: /home/mmiv-ml/data/ROIBrain_MICCAI_BraTS2020/BraTS20_Training_048/BraTS20_Training_048_BrainROIT1cwx1.nii.gz.\n",
      "(2, 240, 240, 155)\n"
     ]
    },
    {
     "name": "stderr",
     "output_type": "stream",
     "text": [
      " 13%|████████████▏                                                                               | 49/369 [01:27<09:32,  1.79s/it]"
     ]
    },
    {
     "name": "stdout",
     "output_type": "stream",
     "text": [
      "file written: /home/mmiv-ml/data/ROIBrain_MICCAI_BraTS2020/BraTS20_Training_049/BraTS20_Training_049_BrainROIT1cwx2.nii.gz.\n",
      "file written: /home/mmiv-ml/data/ROIBrain_MICCAI_BraTS2020/BraTS20_Training_049/BraTS20_Training_049_BrainROIT1cwx1.nii.gz.\n",
      "(2, 240, 240, 155)\n"
     ]
    },
    {
     "name": "stderr",
     "output_type": "stream",
     "text": [
      " 14%|████████████▍                                                                               | 50/369 [01:29<09:31,  1.79s/it]"
     ]
    },
    {
     "name": "stdout",
     "output_type": "stream",
     "text": [
      "file written: /home/mmiv-ml/data/ROIBrain_MICCAI_BraTS2020/BraTS20_Training_050/BraTS20_Training_050_BrainROIT1cwx2.nii.gz.\n",
      "file written: /home/mmiv-ml/data/ROIBrain_MICCAI_BraTS2020/BraTS20_Training_050/BraTS20_Training_050_BrainROIT1cwx1.nii.gz.\n",
      "(2, 240, 240, 155)\n"
     ]
    },
    {
     "name": "stderr",
     "output_type": "stream",
     "text": [
      " 14%|████████████▋                                                                               | 51/369 [01:31<09:26,  1.78s/it]"
     ]
    },
    {
     "name": "stdout",
     "output_type": "stream",
     "text": [
      "file written: /home/mmiv-ml/data/ROIBrain_MICCAI_BraTS2020/BraTS20_Training_051/BraTS20_Training_051_BrainROIT1cwx2.nii.gz.\n",
      "file written: /home/mmiv-ml/data/ROIBrain_MICCAI_BraTS2020/BraTS20_Training_051/BraTS20_Training_051_BrainROIT1cwx1.nii.gz.\n",
      "(2, 240, 240, 155)\n"
     ]
    },
    {
     "name": "stderr",
     "output_type": "stream",
     "text": [
      " 14%|████████████▉                                                                               | 52/369 [01:33<09:25,  1.78s/it]"
     ]
    },
    {
     "name": "stdout",
     "output_type": "stream",
     "text": [
      "file written: /home/mmiv-ml/data/ROIBrain_MICCAI_BraTS2020/BraTS20_Training_052/BraTS20_Training_052_BrainROIT1cwx2.nii.gz.\n",
      "file written: /home/mmiv-ml/data/ROIBrain_MICCAI_BraTS2020/BraTS20_Training_052/BraTS20_Training_052_BrainROIT1cwx1.nii.gz.\n",
      "(2, 240, 240, 155)\n"
     ]
    },
    {
     "name": "stderr",
     "output_type": "stream",
     "text": [
      " 14%|█████████████▏                                                                              | 53/369 [01:34<09:18,  1.77s/it]"
     ]
    },
    {
     "name": "stdout",
     "output_type": "stream",
     "text": [
      "file written: /home/mmiv-ml/data/ROIBrain_MICCAI_BraTS2020/BraTS20_Training_053/BraTS20_Training_053_BrainROIT1cwx2.nii.gz.\n",
      "file written: /home/mmiv-ml/data/ROIBrain_MICCAI_BraTS2020/BraTS20_Training_053/BraTS20_Training_053_BrainROIT1cwx1.nii.gz.\n",
      "(2, 240, 240, 155)\n"
     ]
    },
    {
     "name": "stderr",
     "output_type": "stream",
     "text": [
      " 15%|█████████████▍                                                                              | 54/369 [01:36<09:23,  1.79s/it]"
     ]
    },
    {
     "name": "stdout",
     "output_type": "stream",
     "text": [
      "file written: /home/mmiv-ml/data/ROIBrain_MICCAI_BraTS2020/BraTS20_Training_054/BraTS20_Training_054_BrainROIT1cwx2.nii.gz.\n",
      "file written: /home/mmiv-ml/data/ROIBrain_MICCAI_BraTS2020/BraTS20_Training_054/BraTS20_Training_054_BrainROIT1cwx1.nii.gz.\n",
      "(2, 240, 240, 155)\n"
     ]
    },
    {
     "name": "stderr",
     "output_type": "stream",
     "text": [
      " 15%|█████████████▋                                                                              | 55/369 [01:38<09:19,  1.78s/it]"
     ]
    },
    {
     "name": "stdout",
     "output_type": "stream",
     "text": [
      "file written: /home/mmiv-ml/data/ROIBrain_MICCAI_BraTS2020/BraTS20_Training_055/BraTS20_Training_055_BrainROIT1cwx2.nii.gz.\n",
      "file written: /home/mmiv-ml/data/ROIBrain_MICCAI_BraTS2020/BraTS20_Training_055/BraTS20_Training_055_BrainROIT1cwx1.nii.gz.\n",
      "(2, 240, 240, 155)\n"
     ]
    },
    {
     "name": "stderr",
     "output_type": "stream",
     "text": [
      " 15%|█████████████▉                                                                              | 56/369 [01:40<09:18,  1.78s/it]"
     ]
    },
    {
     "name": "stdout",
     "output_type": "stream",
     "text": [
      "file written: /home/mmiv-ml/data/ROIBrain_MICCAI_BraTS2020/BraTS20_Training_056/BraTS20_Training_056_BrainROIT1cwx2.nii.gz.\n",
      "file written: /home/mmiv-ml/data/ROIBrain_MICCAI_BraTS2020/BraTS20_Training_056/BraTS20_Training_056_BrainROIT1cwx1.nii.gz.\n",
      "(2, 240, 240, 155)\n"
     ]
    },
    {
     "name": "stderr",
     "output_type": "stream",
     "text": [
      " 15%|██████████████▏                                                                             | 57/369 [01:42<09:18,  1.79s/it]"
     ]
    },
    {
     "name": "stdout",
     "output_type": "stream",
     "text": [
      "file written: /home/mmiv-ml/data/ROIBrain_MICCAI_BraTS2020/BraTS20_Training_057/BraTS20_Training_057_BrainROIT1cwx2.nii.gz.\n",
      "file written: /home/mmiv-ml/data/ROIBrain_MICCAI_BraTS2020/BraTS20_Training_057/BraTS20_Training_057_BrainROIT1cwx1.nii.gz.\n",
      "(2, 240, 240, 155)\n"
     ]
    },
    {
     "name": "stderr",
     "output_type": "stream",
     "text": [
      " 16%|██████████████▍                                                                             | 58/369 [01:43<09:12,  1.78s/it]"
     ]
    },
    {
     "name": "stdout",
     "output_type": "stream",
     "text": [
      "file written: /home/mmiv-ml/data/ROIBrain_MICCAI_BraTS2020/BraTS20_Training_058/BraTS20_Training_058_BrainROIT1cwx2.nii.gz.\n",
      "file written: /home/mmiv-ml/data/ROIBrain_MICCAI_BraTS2020/BraTS20_Training_058/BraTS20_Training_058_BrainROIT1cwx1.nii.gz.\n",
      "(2, 240, 240, 155)\n"
     ]
    },
    {
     "name": "stderr",
     "output_type": "stream",
     "text": [
      " 16%|██████████████▋                                                                             | 59/369 [01:45<09:08,  1.77s/it]"
     ]
    },
    {
     "name": "stdout",
     "output_type": "stream",
     "text": [
      "file written: /home/mmiv-ml/data/ROIBrain_MICCAI_BraTS2020/BraTS20_Training_059/BraTS20_Training_059_BrainROIT1cwx2.nii.gz.\n",
      "file written: /home/mmiv-ml/data/ROIBrain_MICCAI_BraTS2020/BraTS20_Training_059/BraTS20_Training_059_BrainROIT1cwx1.nii.gz.\n",
      "(2, 240, 240, 155)\n"
     ]
    },
    {
     "name": "stderr",
     "output_type": "stream",
     "text": [
      " 16%|██████████████▉                                                                             | 60/369 [01:47<09:09,  1.78s/it]"
     ]
    },
    {
     "name": "stdout",
     "output_type": "stream",
     "text": [
      "file written: /home/mmiv-ml/data/ROIBrain_MICCAI_BraTS2020/BraTS20_Training_060/BraTS20_Training_060_BrainROIT1cwx2.nii.gz.\n",
      "file written: /home/mmiv-ml/data/ROIBrain_MICCAI_BraTS2020/BraTS20_Training_060/BraTS20_Training_060_BrainROIT1cwx1.nii.gz.\n",
      "(2, 240, 240, 155)\n"
     ]
    },
    {
     "name": "stderr",
     "output_type": "stream",
     "text": [
      " 17%|███████████████▏                                                                            | 61/369 [01:49<09:11,  1.79s/it]"
     ]
    },
    {
     "name": "stdout",
     "output_type": "stream",
     "text": [
      "file written: /home/mmiv-ml/data/ROIBrain_MICCAI_BraTS2020/BraTS20_Training_061/BraTS20_Training_061_BrainROIT1cwx2.nii.gz.\n",
      "file written: /home/mmiv-ml/data/ROIBrain_MICCAI_BraTS2020/BraTS20_Training_061/BraTS20_Training_061_BrainROIT1cwx1.nii.gz.\n",
      "(2, 240, 240, 155)\n"
     ]
    },
    {
     "name": "stderr",
     "output_type": "stream",
     "text": [
      " 17%|███████████████▍                                                                            | 62/369 [01:51<09:19,  1.82s/it]"
     ]
    },
    {
     "name": "stdout",
     "output_type": "stream",
     "text": [
      "file written: /home/mmiv-ml/data/ROIBrain_MICCAI_BraTS2020/BraTS20_Training_062/BraTS20_Training_062_BrainROIT1cwx2.nii.gz.\n",
      "file written: /home/mmiv-ml/data/ROIBrain_MICCAI_BraTS2020/BraTS20_Training_062/BraTS20_Training_062_BrainROIT1cwx1.nii.gz.\n",
      "(2, 240, 240, 155)\n"
     ]
    },
    {
     "name": "stderr",
     "output_type": "stream",
     "text": [
      " 17%|███████████████▋                                                                            | 63/369 [01:52<09:12,  1.80s/it]"
     ]
    },
    {
     "name": "stdout",
     "output_type": "stream",
     "text": [
      "file written: /home/mmiv-ml/data/ROIBrain_MICCAI_BraTS2020/BraTS20_Training_063/BraTS20_Training_063_BrainROIT1cwx2.nii.gz.\n",
      "file written: /home/mmiv-ml/data/ROIBrain_MICCAI_BraTS2020/BraTS20_Training_063/BraTS20_Training_063_BrainROIT1cwx1.nii.gz.\n",
      "(2, 240, 240, 155)\n"
     ]
    },
    {
     "name": "stderr",
     "output_type": "stream",
     "text": [
      " 17%|███████████████▉                                                                            | 64/369 [01:54<09:12,  1.81s/it]"
     ]
    },
    {
     "name": "stdout",
     "output_type": "stream",
     "text": [
      "file written: /home/mmiv-ml/data/ROIBrain_MICCAI_BraTS2020/BraTS20_Training_064/BraTS20_Training_064_BrainROIT1cwx2.nii.gz.\n",
      "file written: /home/mmiv-ml/data/ROIBrain_MICCAI_BraTS2020/BraTS20_Training_064/BraTS20_Training_064_BrainROIT1cwx1.nii.gz.\n",
      "(2, 240, 240, 155)\n"
     ]
    },
    {
     "name": "stderr",
     "output_type": "stream",
     "text": [
      " 18%|████████████████▏                                                                           | 65/369 [01:56<09:05,  1.79s/it]"
     ]
    },
    {
     "name": "stdout",
     "output_type": "stream",
     "text": [
      "file written: /home/mmiv-ml/data/ROIBrain_MICCAI_BraTS2020/BraTS20_Training_065/BraTS20_Training_065_BrainROIT1cwx2.nii.gz.\n",
      "file written: /home/mmiv-ml/data/ROIBrain_MICCAI_BraTS2020/BraTS20_Training_065/BraTS20_Training_065_BrainROIT1cwx1.nii.gz.\n",
      "(2, 240, 240, 155)\n"
     ]
    },
    {
     "name": "stderr",
     "output_type": "stream",
     "text": [
      " 18%|████████████████▍                                                                           | 66/369 [01:58<09:01,  1.79s/it]"
     ]
    },
    {
     "name": "stdout",
     "output_type": "stream",
     "text": [
      "file written: /home/mmiv-ml/data/ROIBrain_MICCAI_BraTS2020/BraTS20_Training_066/BraTS20_Training_066_BrainROIT1cwx2.nii.gz.\n",
      "file written: /home/mmiv-ml/data/ROIBrain_MICCAI_BraTS2020/BraTS20_Training_066/BraTS20_Training_066_BrainROIT1cwx1.nii.gz.\n",
      "(2, 240, 240, 155)\n"
     ]
    },
    {
     "name": "stderr",
     "output_type": "stream",
     "text": [
      " 18%|████████████████▋                                                                           | 67/369 [02:00<09:01,  1.79s/it]"
     ]
    },
    {
     "name": "stdout",
     "output_type": "stream",
     "text": [
      "file written: /home/mmiv-ml/data/ROIBrain_MICCAI_BraTS2020/BraTS20_Training_067/BraTS20_Training_067_BrainROIT1cwx2.nii.gz.\n",
      "file written: /home/mmiv-ml/data/ROIBrain_MICCAI_BraTS2020/BraTS20_Training_067/BraTS20_Training_067_BrainROIT1cwx1.nii.gz.\n",
      "(2, 240, 240, 155)\n"
     ]
    },
    {
     "name": "stderr",
     "output_type": "stream",
     "text": [
      " 18%|████████████████▉                                                                           | 68/369 [02:01<08:59,  1.79s/it]"
     ]
    },
    {
     "name": "stdout",
     "output_type": "stream",
     "text": [
      "file written: /home/mmiv-ml/data/ROIBrain_MICCAI_BraTS2020/BraTS20_Training_068/BraTS20_Training_068_BrainROIT1cwx2.nii.gz.\n",
      "file written: /home/mmiv-ml/data/ROIBrain_MICCAI_BraTS2020/BraTS20_Training_068/BraTS20_Training_068_BrainROIT1cwx1.nii.gz.\n",
      "(2, 240, 240, 155)\n"
     ]
    },
    {
     "name": "stderr",
     "output_type": "stream",
     "text": [
      " 19%|█████████████████▏                                                                          | 69/369 [02:03<09:00,  1.80s/it]"
     ]
    },
    {
     "name": "stdout",
     "output_type": "stream",
     "text": [
      "file written: /home/mmiv-ml/data/ROIBrain_MICCAI_BraTS2020/BraTS20_Training_069/BraTS20_Training_069_BrainROIT1cwx2.nii.gz.\n",
      "file written: /home/mmiv-ml/data/ROIBrain_MICCAI_BraTS2020/BraTS20_Training_069/BraTS20_Training_069_BrainROIT1cwx1.nii.gz.\n",
      "(2, 240, 240, 155)\n"
     ]
    },
    {
     "name": "stderr",
     "output_type": "stream",
     "text": [
      " 19%|█████████████████▍                                                                          | 70/369 [02:05<08:57,  1.80s/it]"
     ]
    },
    {
     "name": "stdout",
     "output_type": "stream",
     "text": [
      "file written: /home/mmiv-ml/data/ROIBrain_MICCAI_BraTS2020/BraTS20_Training_070/BraTS20_Training_070_BrainROIT1cwx2.nii.gz.\n",
      "file written: /home/mmiv-ml/data/ROIBrain_MICCAI_BraTS2020/BraTS20_Training_070/BraTS20_Training_070_BrainROIT1cwx1.nii.gz.\n",
      "(2, 240, 240, 155)\n"
     ]
    },
    {
     "name": "stderr",
     "output_type": "stream",
     "text": [
      " 19%|█████████████████▋                                                                          | 71/369 [02:07<08:56,  1.80s/it]"
     ]
    },
    {
     "name": "stdout",
     "output_type": "stream",
     "text": [
      "file written: /home/mmiv-ml/data/ROIBrain_MICCAI_BraTS2020/BraTS20_Training_071/BraTS20_Training_071_BrainROIT1cwx2.nii.gz.\n",
      "file written: /home/mmiv-ml/data/ROIBrain_MICCAI_BraTS2020/BraTS20_Training_071/BraTS20_Training_071_BrainROIT1cwx1.nii.gz.\n",
      "(2, 240, 240, 155)\n"
     ]
    },
    {
     "name": "stderr",
     "output_type": "stream",
     "text": [
      " 20%|█████████████████▉                                                                          | 72/369 [02:09<08:50,  1.79s/it]"
     ]
    },
    {
     "name": "stdout",
     "output_type": "stream",
     "text": [
      "file written: /home/mmiv-ml/data/ROIBrain_MICCAI_BraTS2020/BraTS20_Training_072/BraTS20_Training_072_BrainROIT1cwx2.nii.gz.\n",
      "file written: /home/mmiv-ml/data/ROIBrain_MICCAI_BraTS2020/BraTS20_Training_072/BraTS20_Training_072_BrainROIT1cwx1.nii.gz.\n",
      "(2, 240, 240, 155)\n"
     ]
    },
    {
     "name": "stderr",
     "output_type": "stream",
     "text": [
      " 20%|██████████████████▏                                                                         | 73/369 [02:10<08:51,  1.80s/it]"
     ]
    },
    {
     "name": "stdout",
     "output_type": "stream",
     "text": [
      "file written: /home/mmiv-ml/data/ROIBrain_MICCAI_BraTS2020/BraTS20_Training_073/BraTS20_Training_073_BrainROIT1cwx2.nii.gz.\n",
      "file written: /home/mmiv-ml/data/ROIBrain_MICCAI_BraTS2020/BraTS20_Training_073/BraTS20_Training_073_BrainROIT1cwx1.nii.gz.\n",
      "(2, 240, 240, 155)\n"
     ]
    },
    {
     "name": "stderr",
     "output_type": "stream",
     "text": [
      " 20%|██████████████████▍                                                                         | 74/369 [02:12<08:50,  1.80s/it]"
     ]
    },
    {
     "name": "stdout",
     "output_type": "stream",
     "text": [
      "file written: /home/mmiv-ml/data/ROIBrain_MICCAI_BraTS2020/BraTS20_Training_074/BraTS20_Training_074_BrainROIT1cwx2.nii.gz.\n",
      "file written: /home/mmiv-ml/data/ROIBrain_MICCAI_BraTS2020/BraTS20_Training_074/BraTS20_Training_074_BrainROIT1cwx1.nii.gz.\n",
      "(2, 240, 240, 155)\n"
     ]
    },
    {
     "name": "stderr",
     "output_type": "stream",
     "text": [
      " 20%|██████████████████▋                                                                         | 75/369 [02:14<08:48,  1.80s/it]"
     ]
    },
    {
     "name": "stdout",
     "output_type": "stream",
     "text": [
      "file written: /home/mmiv-ml/data/ROIBrain_MICCAI_BraTS2020/BraTS20_Training_075/BraTS20_Training_075_BrainROIT1cwx2.nii.gz.\n",
      "file written: /home/mmiv-ml/data/ROIBrain_MICCAI_BraTS2020/BraTS20_Training_075/BraTS20_Training_075_BrainROIT1cwx1.nii.gz.\n",
      "(2, 240, 240, 155)\n"
     ]
    },
    {
     "name": "stderr",
     "output_type": "stream",
     "text": [
      " 21%|██████████████████▉                                                                         | 76/369 [02:16<08:49,  1.81s/it]"
     ]
    },
    {
     "name": "stdout",
     "output_type": "stream",
     "text": [
      "file written: /home/mmiv-ml/data/ROIBrain_MICCAI_BraTS2020/BraTS20_Training_076/BraTS20_Training_076_BrainROIT1cwx2.nii.gz.\n",
      "file written: /home/mmiv-ml/data/ROIBrain_MICCAI_BraTS2020/BraTS20_Training_076/BraTS20_Training_076_BrainROIT1cwx1.nii.gz.\n",
      "(2, 240, 240, 155)\n"
     ]
    },
    {
     "name": "stderr",
     "output_type": "stream",
     "text": [
      " 21%|███████████████████▏                                                                        | 77/369 [02:18<08:43,  1.79s/it]"
     ]
    },
    {
     "name": "stdout",
     "output_type": "stream",
     "text": [
      "file written: /home/mmiv-ml/data/ROIBrain_MICCAI_BraTS2020/BraTS20_Training_077/BraTS20_Training_077_BrainROIT1cwx2.nii.gz.\n",
      "file written: /home/mmiv-ml/data/ROIBrain_MICCAI_BraTS2020/BraTS20_Training_077/BraTS20_Training_077_BrainROIT1cwx1.nii.gz.\n",
      "(2, 240, 240, 155)\n"
     ]
    },
    {
     "name": "stderr",
     "output_type": "stream",
     "text": [
      " 21%|███████████████████▍                                                                        | 78/369 [02:19<08:39,  1.79s/it]"
     ]
    },
    {
     "name": "stdout",
     "output_type": "stream",
     "text": [
      "file written: /home/mmiv-ml/data/ROIBrain_MICCAI_BraTS2020/BraTS20_Training_078/BraTS20_Training_078_BrainROIT1cwx2.nii.gz.\n",
      "file written: /home/mmiv-ml/data/ROIBrain_MICCAI_BraTS2020/BraTS20_Training_078/BraTS20_Training_078_BrainROIT1cwx1.nii.gz.\n",
      "(2, 240, 240, 155)\n"
     ]
    },
    {
     "name": "stderr",
     "output_type": "stream",
     "text": [
      " 21%|███████████████████▋                                                                        | 79/369 [02:21<08:42,  1.80s/it]"
     ]
    },
    {
     "name": "stdout",
     "output_type": "stream",
     "text": [
      "file written: /home/mmiv-ml/data/ROIBrain_MICCAI_BraTS2020/BraTS20_Training_079/BraTS20_Training_079_BrainROIT1cwx2.nii.gz.\n",
      "file written: /home/mmiv-ml/data/ROIBrain_MICCAI_BraTS2020/BraTS20_Training_079/BraTS20_Training_079_BrainROIT1cwx1.nii.gz.\n",
      "(2, 240, 240, 155)\n"
     ]
    },
    {
     "name": "stderr",
     "output_type": "stream",
     "text": [
      " 22%|███████████████████▉                                                                        | 80/369 [02:23<08:42,  1.81s/it]"
     ]
    },
    {
     "name": "stdout",
     "output_type": "stream",
     "text": [
      "file written: /home/mmiv-ml/data/ROIBrain_MICCAI_BraTS2020/BraTS20_Training_080/BraTS20_Training_080_BrainROIT1cwx2.nii.gz.\n",
      "file written: /home/mmiv-ml/data/ROIBrain_MICCAI_BraTS2020/BraTS20_Training_080/BraTS20_Training_080_BrainROIT1cwx1.nii.gz.\n",
      "(2, 240, 240, 155)\n"
     ]
    },
    {
     "name": "stderr",
     "output_type": "stream",
     "text": [
      " 22%|████████████████████▏                                                                       | 81/369 [02:25<08:35,  1.79s/it]"
     ]
    },
    {
     "name": "stdout",
     "output_type": "stream",
     "text": [
      "file written: /home/mmiv-ml/data/ROIBrain_MICCAI_BraTS2020/BraTS20_Training_081/BraTS20_Training_081_BrainROIT1cwx2.nii.gz.\n",
      "file written: /home/mmiv-ml/data/ROIBrain_MICCAI_BraTS2020/BraTS20_Training_081/BraTS20_Training_081_BrainROIT1cwx1.nii.gz.\n",
      "(2, 240, 240, 155)\n"
     ]
    },
    {
     "name": "stderr",
     "output_type": "stream",
     "text": [
      " 22%|████████████████████▍                                                                       | 82/369 [02:27<08:33,  1.79s/it]"
     ]
    },
    {
     "name": "stdout",
     "output_type": "stream",
     "text": [
      "file written: /home/mmiv-ml/data/ROIBrain_MICCAI_BraTS2020/BraTS20_Training_082/BraTS20_Training_082_BrainROIT1cwx2.nii.gz.\n",
      "file written: /home/mmiv-ml/data/ROIBrain_MICCAI_BraTS2020/BraTS20_Training_082/BraTS20_Training_082_BrainROIT1cwx1.nii.gz.\n",
      "(2, 240, 240, 155)\n"
     ]
    },
    {
     "name": "stderr",
     "output_type": "stream",
     "text": [
      " 22%|████████████████████▋                                                                       | 83/369 [02:28<08:27,  1.78s/it]"
     ]
    },
    {
     "name": "stdout",
     "output_type": "stream",
     "text": [
      "file written: /home/mmiv-ml/data/ROIBrain_MICCAI_BraTS2020/BraTS20_Training_083/BraTS20_Training_083_BrainROIT1cwx2.nii.gz.\n",
      "file written: /home/mmiv-ml/data/ROIBrain_MICCAI_BraTS2020/BraTS20_Training_083/BraTS20_Training_083_BrainROIT1cwx1.nii.gz.\n",
      "(2, 240, 240, 155)\n"
     ]
    },
    {
     "name": "stderr",
     "output_type": "stream",
     "text": [
      " 23%|████████████████████▉                                                                       | 84/369 [02:30<08:30,  1.79s/it]"
     ]
    },
    {
     "name": "stdout",
     "output_type": "stream",
     "text": [
      "file written: /home/mmiv-ml/data/ROIBrain_MICCAI_BraTS2020/BraTS20_Training_084/BraTS20_Training_084_BrainROIT1cwx2.nii.gz.\n",
      "file written: /home/mmiv-ml/data/ROIBrain_MICCAI_BraTS2020/BraTS20_Training_084/BraTS20_Training_084_BrainROIT1cwx1.nii.gz.\n",
      "(2, 240, 240, 155)\n"
     ]
    },
    {
     "name": "stderr",
     "output_type": "stream",
     "text": [
      " 23%|█████████████████████▏                                                                      | 85/369 [02:32<08:33,  1.81s/it]"
     ]
    },
    {
     "name": "stdout",
     "output_type": "stream",
     "text": [
      "file written: /home/mmiv-ml/data/ROIBrain_MICCAI_BraTS2020/BraTS20_Training_085/BraTS20_Training_085_BrainROIT1cwx2.nii.gz.\n",
      "file written: /home/mmiv-ml/data/ROIBrain_MICCAI_BraTS2020/BraTS20_Training_085/BraTS20_Training_085_BrainROIT1cwx1.nii.gz.\n",
      "(2, 240, 240, 155)\n"
     ]
    },
    {
     "name": "stderr",
     "output_type": "stream",
     "text": [
      " 23%|█████████████████████▍                                                                      | 86/369 [02:34<08:31,  1.81s/it]"
     ]
    },
    {
     "name": "stdout",
     "output_type": "stream",
     "text": [
      "file written: /home/mmiv-ml/data/ROIBrain_MICCAI_BraTS2020/BraTS20_Training_086/BraTS20_Training_086_BrainROIT1cwx2.nii.gz.\n",
      "file written: /home/mmiv-ml/data/ROIBrain_MICCAI_BraTS2020/BraTS20_Training_086/BraTS20_Training_086_BrainROIT1cwx1.nii.gz.\n",
      "(2, 240, 240, 155)\n"
     ]
    },
    {
     "name": "stderr",
     "output_type": "stream",
     "text": [
      " 24%|█████████████████████▋                                                                      | 87/369 [02:36<08:25,  1.79s/it]"
     ]
    },
    {
     "name": "stdout",
     "output_type": "stream",
     "text": [
      "file written: /home/mmiv-ml/data/ROIBrain_MICCAI_BraTS2020/BraTS20_Training_087/BraTS20_Training_087_BrainROIT1cwx2.nii.gz.\n",
      "file written: /home/mmiv-ml/data/ROIBrain_MICCAI_BraTS2020/BraTS20_Training_087/BraTS20_Training_087_BrainROIT1cwx1.nii.gz.\n",
      "(2, 240, 240, 155)\n"
     ]
    },
    {
     "name": "stderr",
     "output_type": "stream",
     "text": [
      " 24%|█████████████████████▉                                                                      | 88/369 [02:37<08:24,  1.80s/it]"
     ]
    },
    {
     "name": "stdout",
     "output_type": "stream",
     "text": [
      "file written: /home/mmiv-ml/data/ROIBrain_MICCAI_BraTS2020/BraTS20_Training_088/BraTS20_Training_088_BrainROIT1cwx2.nii.gz.\n",
      "file written: /home/mmiv-ml/data/ROIBrain_MICCAI_BraTS2020/BraTS20_Training_088/BraTS20_Training_088_BrainROIT1cwx1.nii.gz.\n",
      "(2, 240, 240, 155)\n"
     ]
    },
    {
     "name": "stderr",
     "output_type": "stream",
     "text": [
      " 24%|██████████████████████▏                                                                     | 89/369 [02:39<08:20,  1.79s/it]"
     ]
    },
    {
     "name": "stdout",
     "output_type": "stream",
     "text": [
      "file written: /home/mmiv-ml/data/ROIBrain_MICCAI_BraTS2020/BraTS20_Training_089/BraTS20_Training_089_BrainROIT1cwx2.nii.gz.\n",
      "file written: /home/mmiv-ml/data/ROIBrain_MICCAI_BraTS2020/BraTS20_Training_089/BraTS20_Training_089_BrainROIT1cwx1.nii.gz.\n",
      "(2, 240, 240, 155)\n"
     ]
    },
    {
     "name": "stderr",
     "output_type": "stream",
     "text": [
      " 24%|██████████████████████▍                                                                     | 90/369 [02:41<08:21,  1.80s/it]"
     ]
    },
    {
     "name": "stdout",
     "output_type": "stream",
     "text": [
      "file written: /home/mmiv-ml/data/ROIBrain_MICCAI_BraTS2020/BraTS20_Training_090/BraTS20_Training_090_BrainROIT1cwx2.nii.gz.\n",
      "file written: /home/mmiv-ml/data/ROIBrain_MICCAI_BraTS2020/BraTS20_Training_090/BraTS20_Training_090_BrainROIT1cwx1.nii.gz.\n",
      "(2, 240, 240, 155)\n"
     ]
    },
    {
     "name": "stderr",
     "output_type": "stream",
     "text": [
      " 25%|██████████████████████▋                                                                     | 91/369 [02:43<08:17,  1.79s/it]"
     ]
    },
    {
     "name": "stdout",
     "output_type": "stream",
     "text": [
      "file written: /home/mmiv-ml/data/ROIBrain_MICCAI_BraTS2020/BraTS20_Training_091/BraTS20_Training_091_BrainROIT1cwx2.nii.gz.\n",
      "file written: /home/mmiv-ml/data/ROIBrain_MICCAI_BraTS2020/BraTS20_Training_091/BraTS20_Training_091_BrainROIT1cwx1.nii.gz.\n",
      "(2, 240, 240, 155)\n"
     ]
    },
    {
     "name": "stderr",
     "output_type": "stream",
     "text": [
      " 25%|██████████████████████▉                                                                     | 92/369 [02:45<08:20,  1.81s/it]"
     ]
    },
    {
     "name": "stdout",
     "output_type": "stream",
     "text": [
      "file written: /home/mmiv-ml/data/ROIBrain_MICCAI_BraTS2020/BraTS20_Training_092/BraTS20_Training_092_BrainROIT1cwx2.nii.gz.\n",
      "file written: /home/mmiv-ml/data/ROIBrain_MICCAI_BraTS2020/BraTS20_Training_092/BraTS20_Training_092_BrainROIT1cwx1.nii.gz.\n",
      "(2, 240, 240, 155)\n"
     ]
    },
    {
     "name": "stderr",
     "output_type": "stream",
     "text": [
      " 25%|███████████████████████▏                                                                    | 93/369 [02:46<08:19,  1.81s/it]"
     ]
    },
    {
     "name": "stdout",
     "output_type": "stream",
     "text": [
      "file written: /home/mmiv-ml/data/ROIBrain_MICCAI_BraTS2020/BraTS20_Training_093/BraTS20_Training_093_BrainROIT1cwx2.nii.gz.\n",
      "file written: /home/mmiv-ml/data/ROIBrain_MICCAI_BraTS2020/BraTS20_Training_093/BraTS20_Training_093_BrainROIT1cwx1.nii.gz.\n",
      "(2, 240, 240, 155)\n"
     ]
    },
    {
     "name": "stderr",
     "output_type": "stream",
     "text": [
      " 25%|███████████████████████▍                                                                    | 94/369 [02:48<08:18,  1.81s/it]"
     ]
    },
    {
     "name": "stdout",
     "output_type": "stream",
     "text": [
      "file written: /home/mmiv-ml/data/ROIBrain_MICCAI_BraTS2020/BraTS20_Training_094/BraTS20_Training_094_BrainROIT1cwx2.nii.gz.\n",
      "file written: /home/mmiv-ml/data/ROIBrain_MICCAI_BraTS2020/BraTS20_Training_094/BraTS20_Training_094_BrainROIT1cwx1.nii.gz.\n",
      "(2, 240, 240, 155)\n"
     ]
    },
    {
     "name": "stderr",
     "output_type": "stream",
     "text": [
      " 26%|███████████████████████▋                                                                    | 95/369 [02:50<08:14,  1.80s/it]"
     ]
    },
    {
     "name": "stdout",
     "output_type": "stream",
     "text": [
      "file written: /home/mmiv-ml/data/ROIBrain_MICCAI_BraTS2020/BraTS20_Training_095/BraTS20_Training_095_BrainROIT1cwx2.nii.gz.\n",
      "file written: /home/mmiv-ml/data/ROIBrain_MICCAI_BraTS2020/BraTS20_Training_095/BraTS20_Training_095_BrainROIT1cwx1.nii.gz.\n",
      "(2, 240, 240, 155)\n"
     ]
    },
    {
     "name": "stderr",
     "output_type": "stream",
     "text": [
      " 26%|███████████████████████▉                                                                    | 96/369 [02:52<08:08,  1.79s/it]"
     ]
    },
    {
     "name": "stdout",
     "output_type": "stream",
     "text": [
      "file written: /home/mmiv-ml/data/ROIBrain_MICCAI_BraTS2020/BraTS20_Training_096/BraTS20_Training_096_BrainROIT1cwx2.nii.gz.\n",
      "file written: /home/mmiv-ml/data/ROIBrain_MICCAI_BraTS2020/BraTS20_Training_096/BraTS20_Training_096_BrainROIT1cwx1.nii.gz.\n",
      "(2, 240, 240, 155)\n"
     ]
    },
    {
     "name": "stderr",
     "output_type": "stream",
     "text": [
      " 26%|████████████████████████▏                                                                   | 97/369 [02:53<08:04,  1.78s/it]"
     ]
    },
    {
     "name": "stdout",
     "output_type": "stream",
     "text": [
      "file written: /home/mmiv-ml/data/ROIBrain_MICCAI_BraTS2020/BraTS20_Training_097/BraTS20_Training_097_BrainROIT1cwx2.nii.gz.\n",
      "file written: /home/mmiv-ml/data/ROIBrain_MICCAI_BraTS2020/BraTS20_Training_097/BraTS20_Training_097_BrainROIT1cwx1.nii.gz.\n",
      "(2, 240, 240, 155)\n"
     ]
    },
    {
     "name": "stderr",
     "output_type": "stream",
     "text": [
      " 27%|████████████████████████▍                                                                   | 98/369 [02:55<08:05,  1.79s/it]"
     ]
    },
    {
     "name": "stdout",
     "output_type": "stream",
     "text": [
      "file written: /home/mmiv-ml/data/ROIBrain_MICCAI_BraTS2020/BraTS20_Training_098/BraTS20_Training_098_BrainROIT1cwx2.nii.gz.\n",
      "file written: /home/mmiv-ml/data/ROIBrain_MICCAI_BraTS2020/BraTS20_Training_098/BraTS20_Training_098_BrainROIT1cwx1.nii.gz.\n",
      "(2, 240, 240, 155)\n"
     ]
    },
    {
     "name": "stderr",
     "output_type": "stream",
     "text": [
      " 27%|████████████████████████▋                                                                   | 99/369 [02:57<07:59,  1.78s/it]"
     ]
    },
    {
     "name": "stdout",
     "output_type": "stream",
     "text": [
      "file written: /home/mmiv-ml/data/ROIBrain_MICCAI_BraTS2020/BraTS20_Training_099/BraTS20_Training_099_BrainROIT1cwx2.nii.gz.\n",
      "file written: /home/mmiv-ml/data/ROIBrain_MICCAI_BraTS2020/BraTS20_Training_099/BraTS20_Training_099_BrainROIT1cwx1.nii.gz.\n",
      "(2, 240, 240, 155)\n"
     ]
    },
    {
     "name": "stderr",
     "output_type": "stream",
     "text": [
      " 27%|████████████████████████▋                                                                  | 100/369 [02:59<08:04,  1.80s/it]"
     ]
    },
    {
     "name": "stdout",
     "output_type": "stream",
     "text": [
      "file written: /home/mmiv-ml/data/ROIBrain_MICCAI_BraTS2020/BraTS20_Training_100/BraTS20_Training_100_BrainROIT1cwx2.nii.gz.\n",
      "file written: /home/mmiv-ml/data/ROIBrain_MICCAI_BraTS2020/BraTS20_Training_100/BraTS20_Training_100_BrainROIT1cwx1.nii.gz.\n",
      "(2, 240, 240, 155)\n"
     ]
    },
    {
     "name": "stderr",
     "output_type": "stream",
     "text": [
      " 27%|████████████████████████▉                                                                  | 101/369 [03:01<08:01,  1.80s/it]"
     ]
    },
    {
     "name": "stdout",
     "output_type": "stream",
     "text": [
      "file written: /home/mmiv-ml/data/ROIBrain_MICCAI_BraTS2020/BraTS20_Training_101/BraTS20_Training_101_BrainROIT1cwx2.nii.gz.\n",
      "file written: /home/mmiv-ml/data/ROIBrain_MICCAI_BraTS2020/BraTS20_Training_101/BraTS20_Training_101_BrainROIT1cwx1.nii.gz.\n",
      "(2, 240, 240, 155)\n"
     ]
    },
    {
     "name": "stderr",
     "output_type": "stream",
     "text": [
      " 28%|█████████████████████████▏                                                                 | 102/369 [03:02<07:56,  1.78s/it]"
     ]
    },
    {
     "name": "stdout",
     "output_type": "stream",
     "text": [
      "file written: /home/mmiv-ml/data/ROIBrain_MICCAI_BraTS2020/BraTS20_Training_102/BraTS20_Training_102_BrainROIT1cwx2.nii.gz.\n",
      "file written: /home/mmiv-ml/data/ROIBrain_MICCAI_BraTS2020/BraTS20_Training_102/BraTS20_Training_102_BrainROIT1cwx1.nii.gz.\n",
      "(2, 240, 240, 155)\n"
     ]
    },
    {
     "name": "stderr",
     "output_type": "stream",
     "text": [
      " 28%|█████████████████████████▍                                                                 | 103/369 [03:04<07:55,  1.79s/it]"
     ]
    },
    {
     "name": "stdout",
     "output_type": "stream",
     "text": [
      "file written: /home/mmiv-ml/data/ROIBrain_MICCAI_BraTS2020/BraTS20_Training_103/BraTS20_Training_103_BrainROIT1cwx2.nii.gz.\n",
      "file written: /home/mmiv-ml/data/ROIBrain_MICCAI_BraTS2020/BraTS20_Training_103/BraTS20_Training_103_BrainROIT1cwx1.nii.gz.\n",
      "(2, 240, 240, 155)\n"
     ]
    },
    {
     "name": "stderr",
     "output_type": "stream",
     "text": [
      " 28%|█████████████████████████▋                                                                 | 104/369 [03:06<07:50,  1.77s/it]"
     ]
    },
    {
     "name": "stdout",
     "output_type": "stream",
     "text": [
      "file written: /home/mmiv-ml/data/ROIBrain_MICCAI_BraTS2020/BraTS20_Training_104/BraTS20_Training_104_BrainROIT1cwx2.nii.gz.\n",
      "file written: /home/mmiv-ml/data/ROIBrain_MICCAI_BraTS2020/BraTS20_Training_104/BraTS20_Training_104_BrainROIT1cwx1.nii.gz.\n",
      "(2, 240, 240, 155)\n"
     ]
    },
    {
     "name": "stderr",
     "output_type": "stream",
     "text": [
      " 28%|█████████████████████████▉                                                                 | 105/369 [03:08<07:52,  1.79s/it]"
     ]
    },
    {
     "name": "stdout",
     "output_type": "stream",
     "text": [
      "file written: /home/mmiv-ml/data/ROIBrain_MICCAI_BraTS2020/BraTS20_Training_105/BraTS20_Training_105_BrainROIT1cwx2.nii.gz.\n",
      "file written: /home/mmiv-ml/data/ROIBrain_MICCAI_BraTS2020/BraTS20_Training_105/BraTS20_Training_105_BrainROIT1cwx1.nii.gz.\n",
      "(2, 240, 240, 155)\n"
     ]
    },
    {
     "name": "stderr",
     "output_type": "stream",
     "text": [
      " 29%|██████████████████████████▏                                                                | 106/369 [03:10<07:54,  1.80s/it]"
     ]
    },
    {
     "name": "stdout",
     "output_type": "stream",
     "text": [
      "file written: /home/mmiv-ml/data/ROIBrain_MICCAI_BraTS2020/BraTS20_Training_106/BraTS20_Training_106_BrainROIT1cwx2.nii.gz.\n",
      "file written: /home/mmiv-ml/data/ROIBrain_MICCAI_BraTS2020/BraTS20_Training_106/BraTS20_Training_106_BrainROIT1cwx1.nii.gz.\n",
      "(2, 240, 240, 155)\n"
     ]
    },
    {
     "name": "stderr",
     "output_type": "stream",
     "text": [
      " 29%|██████████████████████████▍                                                                | 107/369 [03:12<07:58,  1.83s/it]"
     ]
    },
    {
     "name": "stdout",
     "output_type": "stream",
     "text": [
      "file written: /home/mmiv-ml/data/ROIBrain_MICCAI_BraTS2020/BraTS20_Training_107/BraTS20_Training_107_BrainROIT1cwx2.nii.gz.\n",
      "file written: /home/mmiv-ml/data/ROIBrain_MICCAI_BraTS2020/BraTS20_Training_107/BraTS20_Training_107_BrainROIT1cwx1.nii.gz.\n",
      "(2, 240, 240, 155)\n"
     ]
    },
    {
     "name": "stderr",
     "output_type": "stream",
     "text": [
      " 29%|██████████████████████████▋                                                                | 108/369 [03:13<07:50,  1.80s/it]"
     ]
    },
    {
     "name": "stdout",
     "output_type": "stream",
     "text": [
      "file written: /home/mmiv-ml/data/ROIBrain_MICCAI_BraTS2020/BraTS20_Training_108/BraTS20_Training_108_BrainROIT1cwx2.nii.gz.\n",
      "file written: /home/mmiv-ml/data/ROIBrain_MICCAI_BraTS2020/BraTS20_Training_108/BraTS20_Training_108_BrainROIT1cwx1.nii.gz.\n",
      "(2, 240, 240, 155)\n"
     ]
    },
    {
     "name": "stderr",
     "output_type": "stream",
     "text": [
      " 30%|██████████████████████████▉                                                                | 109/369 [03:15<07:51,  1.81s/it]"
     ]
    },
    {
     "name": "stdout",
     "output_type": "stream",
     "text": [
      "file written: /home/mmiv-ml/data/ROIBrain_MICCAI_BraTS2020/BraTS20_Training_109/BraTS20_Training_109_BrainROIT1cwx2.nii.gz.\n",
      "file written: /home/mmiv-ml/data/ROIBrain_MICCAI_BraTS2020/BraTS20_Training_109/BraTS20_Training_109_BrainROIT1cwx1.nii.gz.\n",
      "(2, 240, 240, 155)\n"
     ]
    },
    {
     "name": "stderr",
     "output_type": "stream",
     "text": [
      " 30%|███████████████████████████▏                                                               | 110/369 [03:17<07:45,  1.80s/it]"
     ]
    },
    {
     "name": "stdout",
     "output_type": "stream",
     "text": [
      "file written: /home/mmiv-ml/data/ROIBrain_MICCAI_BraTS2020/BraTS20_Training_110/BraTS20_Training_110_BrainROIT1cwx2.nii.gz.\n",
      "file written: /home/mmiv-ml/data/ROIBrain_MICCAI_BraTS2020/BraTS20_Training_110/BraTS20_Training_110_BrainROIT1cwx1.nii.gz.\n",
      "(2, 240, 240, 155)\n"
     ]
    },
    {
     "name": "stderr",
     "output_type": "stream",
     "text": [
      " 30%|███████████████████████████▎                                                               | 111/369 [03:19<07:42,  1.79s/it]"
     ]
    },
    {
     "name": "stdout",
     "output_type": "stream",
     "text": [
      "file written: /home/mmiv-ml/data/ROIBrain_MICCAI_BraTS2020/BraTS20_Training_111/BraTS20_Training_111_BrainROIT1cwx2.nii.gz.\n",
      "file written: /home/mmiv-ml/data/ROIBrain_MICCAI_BraTS2020/BraTS20_Training_111/BraTS20_Training_111_BrainROIT1cwx1.nii.gz.\n",
      "(2, 240, 240, 155)\n"
     ]
    },
    {
     "name": "stderr",
     "output_type": "stream",
     "text": [
      " 30%|███████████████████████████▌                                                               | 112/369 [03:20<07:39,  1.79s/it]"
     ]
    },
    {
     "name": "stdout",
     "output_type": "stream",
     "text": [
      "file written: /home/mmiv-ml/data/ROIBrain_MICCAI_BraTS2020/BraTS20_Training_112/BraTS20_Training_112_BrainROIT1cwx2.nii.gz.\n",
      "file written: /home/mmiv-ml/data/ROIBrain_MICCAI_BraTS2020/BraTS20_Training_112/BraTS20_Training_112_BrainROIT1cwx1.nii.gz.\n",
      "(2, 240, 240, 155)\n"
     ]
    },
    {
     "name": "stderr",
     "output_type": "stream",
     "text": [
      " 31%|███████████████████████████▊                                                               | 113/369 [03:22<07:35,  1.78s/it]"
     ]
    },
    {
     "name": "stdout",
     "output_type": "stream",
     "text": [
      "file written: /home/mmiv-ml/data/ROIBrain_MICCAI_BraTS2020/BraTS20_Training_113/BraTS20_Training_113_BrainROIT1cwx2.nii.gz.\n",
      "file written: /home/mmiv-ml/data/ROIBrain_MICCAI_BraTS2020/BraTS20_Training_113/BraTS20_Training_113_BrainROIT1cwx1.nii.gz.\n",
      "(2, 240, 240, 155)\n"
     ]
    },
    {
     "name": "stderr",
     "output_type": "stream",
     "text": [
      " 31%|████████████████████████████                                                               | 114/369 [03:24<07:32,  1.78s/it]"
     ]
    },
    {
     "name": "stdout",
     "output_type": "stream",
     "text": [
      "file written: /home/mmiv-ml/data/ROIBrain_MICCAI_BraTS2020/BraTS20_Training_114/BraTS20_Training_114_BrainROIT1cwx2.nii.gz.\n",
      "file written: /home/mmiv-ml/data/ROIBrain_MICCAI_BraTS2020/BraTS20_Training_114/BraTS20_Training_114_BrainROIT1cwx1.nii.gz.\n",
      "(2, 240, 240, 155)\n"
     ]
    },
    {
     "name": "stderr",
     "output_type": "stream",
     "text": [
      " 31%|████████████████████████████▎                                                              | 115/369 [03:26<07:38,  1.81s/it]"
     ]
    },
    {
     "name": "stdout",
     "output_type": "stream",
     "text": [
      "file written: /home/mmiv-ml/data/ROIBrain_MICCAI_BraTS2020/BraTS20_Training_115/BraTS20_Training_115_BrainROIT1cwx2.nii.gz.\n",
      "file written: /home/mmiv-ml/data/ROIBrain_MICCAI_BraTS2020/BraTS20_Training_115/BraTS20_Training_115_BrainROIT1cwx1.nii.gz.\n",
      "(2, 240, 240, 155)\n"
     ]
    },
    {
     "name": "stderr",
     "output_type": "stream",
     "text": [
      " 31%|████████████████████████████▌                                                              | 116/369 [03:28<07:34,  1.79s/it]"
     ]
    },
    {
     "name": "stdout",
     "output_type": "stream",
     "text": [
      "file written: /home/mmiv-ml/data/ROIBrain_MICCAI_BraTS2020/BraTS20_Training_116/BraTS20_Training_116_BrainROIT1cwx2.nii.gz.\n",
      "file written: /home/mmiv-ml/data/ROIBrain_MICCAI_BraTS2020/BraTS20_Training_116/BraTS20_Training_116_BrainROIT1cwx1.nii.gz.\n",
      "(2, 240, 240, 155)\n"
     ]
    },
    {
     "name": "stderr",
     "output_type": "stream",
     "text": [
      " 32%|████████████████████████████▊                                                              | 117/369 [03:29<07:37,  1.82s/it]"
     ]
    },
    {
     "name": "stdout",
     "output_type": "stream",
     "text": [
      "file written: /home/mmiv-ml/data/ROIBrain_MICCAI_BraTS2020/BraTS20_Training_117/BraTS20_Training_117_BrainROIT1cwx2.nii.gz.\n",
      "file written: /home/mmiv-ml/data/ROIBrain_MICCAI_BraTS2020/BraTS20_Training_117/BraTS20_Training_117_BrainROIT1cwx1.nii.gz.\n",
      "(2, 240, 240, 155)\n"
     ]
    },
    {
     "name": "stderr",
     "output_type": "stream",
     "text": [
      " 32%|█████████████████████████████                                                              | 118/369 [03:31<07:35,  1.81s/it]"
     ]
    },
    {
     "name": "stdout",
     "output_type": "stream",
     "text": [
      "file written: /home/mmiv-ml/data/ROIBrain_MICCAI_BraTS2020/BraTS20_Training_118/BraTS20_Training_118_BrainROIT1cwx2.nii.gz.\n",
      "file written: /home/mmiv-ml/data/ROIBrain_MICCAI_BraTS2020/BraTS20_Training_118/BraTS20_Training_118_BrainROIT1cwx1.nii.gz.\n",
      "(2, 240, 240, 155)\n"
     ]
    },
    {
     "name": "stderr",
     "output_type": "stream",
     "text": [
      " 32%|█████████████████████████████▎                                                             | 119/369 [03:33<07:28,  1.80s/it]"
     ]
    },
    {
     "name": "stdout",
     "output_type": "stream",
     "text": [
      "file written: /home/mmiv-ml/data/ROIBrain_MICCAI_BraTS2020/BraTS20_Training_119/BraTS20_Training_119_BrainROIT1cwx2.nii.gz.\n",
      "file written: /home/mmiv-ml/data/ROIBrain_MICCAI_BraTS2020/BraTS20_Training_119/BraTS20_Training_119_BrainROIT1cwx1.nii.gz.\n",
      "(2, 240, 240, 155)\n"
     ]
    },
    {
     "name": "stderr",
     "output_type": "stream",
     "text": [
      " 33%|█████████████████████████████▌                                                             | 120/369 [03:35<07:23,  1.78s/it]"
     ]
    },
    {
     "name": "stdout",
     "output_type": "stream",
     "text": [
      "file written: /home/mmiv-ml/data/ROIBrain_MICCAI_BraTS2020/BraTS20_Training_120/BraTS20_Training_120_BrainROIT1cwx2.nii.gz.\n",
      "file written: /home/mmiv-ml/data/ROIBrain_MICCAI_BraTS2020/BraTS20_Training_120/BraTS20_Training_120_BrainROIT1cwx1.nii.gz.\n",
      "(2, 240, 240, 155)\n"
     ]
    },
    {
     "name": "stderr",
     "output_type": "stream",
     "text": [
      " 33%|█████████████████████████████▊                                                             | 121/369 [03:37<07:25,  1.79s/it]"
     ]
    },
    {
     "name": "stdout",
     "output_type": "stream",
     "text": [
      "file written: /home/mmiv-ml/data/ROIBrain_MICCAI_BraTS2020/BraTS20_Training_121/BraTS20_Training_121_BrainROIT1cwx2.nii.gz.\n",
      "file written: /home/mmiv-ml/data/ROIBrain_MICCAI_BraTS2020/BraTS20_Training_121/BraTS20_Training_121_BrainROIT1cwx1.nii.gz.\n",
      "(2, 240, 240, 155)\n"
     ]
    },
    {
     "name": "stderr",
     "output_type": "stream",
     "text": [
      " 33%|██████████████████████████████                                                             | 122/369 [03:38<07:23,  1.80s/it]"
     ]
    },
    {
     "name": "stdout",
     "output_type": "stream",
     "text": [
      "file written: /home/mmiv-ml/data/ROIBrain_MICCAI_BraTS2020/BraTS20_Training_122/BraTS20_Training_122_BrainROIT1cwx2.nii.gz.\n",
      "file written: /home/mmiv-ml/data/ROIBrain_MICCAI_BraTS2020/BraTS20_Training_122/BraTS20_Training_122_BrainROIT1cwx1.nii.gz.\n",
      "(2, 240, 240, 155)\n"
     ]
    },
    {
     "name": "stderr",
     "output_type": "stream",
     "text": [
      " 33%|██████████████████████████████▎                                                            | 123/369 [03:40<07:20,  1.79s/it]"
     ]
    },
    {
     "name": "stdout",
     "output_type": "stream",
     "text": [
      "file written: /home/mmiv-ml/data/ROIBrain_MICCAI_BraTS2020/BraTS20_Training_123/BraTS20_Training_123_BrainROIT1cwx2.nii.gz.\n",
      "file written: /home/mmiv-ml/data/ROIBrain_MICCAI_BraTS2020/BraTS20_Training_123/BraTS20_Training_123_BrainROIT1cwx1.nii.gz.\n",
      "(2, 240, 240, 155)\n"
     ]
    },
    {
     "name": "stderr",
     "output_type": "stream",
     "text": [
      " 34%|██████████████████████████████▌                                                            | 124/369 [03:42<07:16,  1.78s/it]"
     ]
    },
    {
     "name": "stdout",
     "output_type": "stream",
     "text": [
      "file written: /home/mmiv-ml/data/ROIBrain_MICCAI_BraTS2020/BraTS20_Training_124/BraTS20_Training_124_BrainROIT1cwx2.nii.gz.\n",
      "file written: /home/mmiv-ml/data/ROIBrain_MICCAI_BraTS2020/BraTS20_Training_124/BraTS20_Training_124_BrainROIT1cwx1.nii.gz.\n",
      "(2, 240, 240, 155)\n"
     ]
    },
    {
     "name": "stderr",
     "output_type": "stream",
     "text": [
      " 34%|██████████████████████████████▊                                                            | 125/369 [03:44<07:14,  1.78s/it]"
     ]
    },
    {
     "name": "stdout",
     "output_type": "stream",
     "text": [
      "file written: /home/mmiv-ml/data/ROIBrain_MICCAI_BraTS2020/BraTS20_Training_125/BraTS20_Training_125_BrainROIT1cwx2.nii.gz.\n",
      "file written: /home/mmiv-ml/data/ROIBrain_MICCAI_BraTS2020/BraTS20_Training_125/BraTS20_Training_125_BrainROIT1cwx1.nii.gz.\n",
      "(2, 240, 240, 155)\n"
     ]
    },
    {
     "name": "stderr",
     "output_type": "stream",
     "text": [
      " 34%|███████████████████████████████                                                            | 126/369 [03:46<07:14,  1.79s/it]"
     ]
    },
    {
     "name": "stdout",
     "output_type": "stream",
     "text": [
      "file written: /home/mmiv-ml/data/ROIBrain_MICCAI_BraTS2020/BraTS20_Training_126/BraTS20_Training_126_BrainROIT1cwx2.nii.gz.\n",
      "file written: /home/mmiv-ml/data/ROIBrain_MICCAI_BraTS2020/BraTS20_Training_126/BraTS20_Training_126_BrainROIT1cwx1.nii.gz.\n",
      "(2, 240, 240, 155)\n"
     ]
    },
    {
     "name": "stderr",
     "output_type": "stream",
     "text": [
      " 34%|███████████████████████████████▎                                                           | 127/369 [03:47<07:09,  1.78s/it]"
     ]
    },
    {
     "name": "stdout",
     "output_type": "stream",
     "text": [
      "file written: /home/mmiv-ml/data/ROIBrain_MICCAI_BraTS2020/BraTS20_Training_127/BraTS20_Training_127_BrainROIT1cwx2.nii.gz.\n",
      "file written: /home/mmiv-ml/data/ROIBrain_MICCAI_BraTS2020/BraTS20_Training_127/BraTS20_Training_127_BrainROIT1cwx1.nii.gz.\n",
      "(2, 240, 240, 155)\n"
     ]
    },
    {
     "name": "stderr",
     "output_type": "stream",
     "text": [
      " 35%|███████████████████████████████▌                                                           | 128/369 [03:49<07:07,  1.77s/it]"
     ]
    },
    {
     "name": "stdout",
     "output_type": "stream",
     "text": [
      "file written: /home/mmiv-ml/data/ROIBrain_MICCAI_BraTS2020/BraTS20_Training_128/BraTS20_Training_128_BrainROIT1cwx2.nii.gz.\n",
      "file written: /home/mmiv-ml/data/ROIBrain_MICCAI_BraTS2020/BraTS20_Training_128/BraTS20_Training_128_BrainROIT1cwx1.nii.gz.\n",
      "(2, 240, 240, 155)\n"
     ]
    },
    {
     "name": "stderr",
     "output_type": "stream",
     "text": [
      " 35%|███████████████████████████████▊                                                           | 129/369 [03:51<07:03,  1.77s/it]"
     ]
    },
    {
     "name": "stdout",
     "output_type": "stream",
     "text": [
      "file written: /home/mmiv-ml/data/ROIBrain_MICCAI_BraTS2020/BraTS20_Training_129/BraTS20_Training_129_BrainROIT1cwx2.nii.gz.\n",
      "file written: /home/mmiv-ml/data/ROIBrain_MICCAI_BraTS2020/BraTS20_Training_129/BraTS20_Training_129_BrainROIT1cwx1.nii.gz.\n",
      "(2, 240, 240, 155)\n"
     ]
    },
    {
     "name": "stderr",
     "output_type": "stream",
     "text": [
      " 35%|████████████████████████████████                                                           | 130/369 [03:53<07:00,  1.76s/it]"
     ]
    },
    {
     "name": "stdout",
     "output_type": "stream",
     "text": [
      "file written: /home/mmiv-ml/data/ROIBrain_MICCAI_BraTS2020/BraTS20_Training_130/BraTS20_Training_130_BrainROIT1cwx2.nii.gz.\n",
      "file written: /home/mmiv-ml/data/ROIBrain_MICCAI_BraTS2020/BraTS20_Training_130/BraTS20_Training_130_BrainROIT1cwx1.nii.gz.\n",
      "(2, 240, 240, 155)\n"
     ]
    },
    {
     "name": "stderr",
     "output_type": "stream",
     "text": [
      " 36%|████████████████████████████████▎                                                          | 131/369 [03:54<07:02,  1.77s/it]"
     ]
    },
    {
     "name": "stdout",
     "output_type": "stream",
     "text": [
      "file written: /home/mmiv-ml/data/ROIBrain_MICCAI_BraTS2020/BraTS20_Training_131/BraTS20_Training_131_BrainROIT1cwx2.nii.gz.\n",
      "file written: /home/mmiv-ml/data/ROIBrain_MICCAI_BraTS2020/BraTS20_Training_131/BraTS20_Training_131_BrainROIT1cwx1.nii.gz.\n",
      "(2, 240, 240, 155)\n"
     ]
    },
    {
     "name": "stderr",
     "output_type": "stream",
     "text": [
      " 36%|████████████████████████████████▌                                                          | 132/369 [03:56<06:57,  1.76s/it]"
     ]
    },
    {
     "name": "stdout",
     "output_type": "stream",
     "text": [
      "file written: /home/mmiv-ml/data/ROIBrain_MICCAI_BraTS2020/BraTS20_Training_132/BraTS20_Training_132_BrainROIT1cwx2.nii.gz.\n",
      "file written: /home/mmiv-ml/data/ROIBrain_MICCAI_BraTS2020/BraTS20_Training_132/BraTS20_Training_132_BrainROIT1cwx1.nii.gz.\n",
      "(2, 240, 240, 155)\n"
     ]
    },
    {
     "name": "stderr",
     "output_type": "stream",
     "text": [
      " 36%|████████████████████████████████▊                                                          | 133/369 [03:58<07:00,  1.78s/it]"
     ]
    },
    {
     "name": "stdout",
     "output_type": "stream",
     "text": [
      "file written: /home/mmiv-ml/data/ROIBrain_MICCAI_BraTS2020/BraTS20_Training_133/BraTS20_Training_133_BrainROIT1cwx2.nii.gz.\n",
      "file written: /home/mmiv-ml/data/ROIBrain_MICCAI_BraTS2020/BraTS20_Training_133/BraTS20_Training_133_BrainROIT1cwx1.nii.gz.\n",
      "(2, 240, 240, 155)\n"
     ]
    },
    {
     "name": "stderr",
     "output_type": "stream",
     "text": [
      " 36%|█████████████████████████████████                                                          | 134/369 [04:00<07:01,  1.79s/it]"
     ]
    },
    {
     "name": "stdout",
     "output_type": "stream",
     "text": [
      "file written: /home/mmiv-ml/data/ROIBrain_MICCAI_BraTS2020/BraTS20_Training_134/BraTS20_Training_134_BrainROIT1cwx2.nii.gz.\n",
      "file written: /home/mmiv-ml/data/ROIBrain_MICCAI_BraTS2020/BraTS20_Training_134/BraTS20_Training_134_BrainROIT1cwx1.nii.gz.\n",
      "(2, 240, 240, 155)\n"
     ]
    },
    {
     "name": "stderr",
     "output_type": "stream",
     "text": [
      " 37%|█████████████████████████████████▎                                                         | 135/369 [04:01<06:55,  1.78s/it]"
     ]
    },
    {
     "name": "stdout",
     "output_type": "stream",
     "text": [
      "file written: /home/mmiv-ml/data/ROIBrain_MICCAI_BraTS2020/BraTS20_Training_135/BraTS20_Training_135_BrainROIT1cwx2.nii.gz.\n",
      "file written: /home/mmiv-ml/data/ROIBrain_MICCAI_BraTS2020/BraTS20_Training_135/BraTS20_Training_135_BrainROIT1cwx1.nii.gz.\n",
      "(2, 240, 240, 155)\n"
     ]
    },
    {
     "name": "stderr",
     "output_type": "stream",
     "text": [
      " 37%|█████████████████████████████████▌                                                         | 136/369 [04:03<06:53,  1.77s/it]"
     ]
    },
    {
     "name": "stdout",
     "output_type": "stream",
     "text": [
      "file written: /home/mmiv-ml/data/ROIBrain_MICCAI_BraTS2020/BraTS20_Training_136/BraTS20_Training_136_BrainROIT1cwx2.nii.gz.\n",
      "file written: /home/mmiv-ml/data/ROIBrain_MICCAI_BraTS2020/BraTS20_Training_136/BraTS20_Training_136_BrainROIT1cwx1.nii.gz.\n",
      "(2, 240, 240, 155)\n"
     ]
    },
    {
     "name": "stderr",
     "output_type": "stream",
     "text": [
      " 37%|█████████████████████████████████▊                                                         | 137/369 [04:05<06:54,  1.78s/it]"
     ]
    },
    {
     "name": "stdout",
     "output_type": "stream",
     "text": [
      "file written: /home/mmiv-ml/data/ROIBrain_MICCAI_BraTS2020/BraTS20_Training_137/BraTS20_Training_137_BrainROIT1cwx2.nii.gz.\n",
      "file written: /home/mmiv-ml/data/ROIBrain_MICCAI_BraTS2020/BraTS20_Training_137/BraTS20_Training_137_BrainROIT1cwx1.nii.gz.\n",
      "(2, 240, 240, 155)\n"
     ]
    },
    {
     "name": "stderr",
     "output_type": "stream",
     "text": [
      " 37%|██████████████████████████████████                                                         | 138/369 [04:07<06:56,  1.80s/it]"
     ]
    },
    {
     "name": "stdout",
     "output_type": "stream",
     "text": [
      "file written: /home/mmiv-ml/data/ROIBrain_MICCAI_BraTS2020/BraTS20_Training_138/BraTS20_Training_138_BrainROIT1cwx2.nii.gz.\n",
      "file written: /home/mmiv-ml/data/ROIBrain_MICCAI_BraTS2020/BraTS20_Training_138/BraTS20_Training_138_BrainROIT1cwx1.nii.gz.\n",
      "(2, 240, 240, 155)\n"
     ]
    },
    {
     "name": "stderr",
     "output_type": "stream",
     "text": [
      " 38%|██████████████████████████████████▎                                                        | 139/369 [04:09<06:57,  1.82s/it]"
     ]
    },
    {
     "name": "stdout",
     "output_type": "stream",
     "text": [
      "file written: /home/mmiv-ml/data/ROIBrain_MICCAI_BraTS2020/BraTS20_Training_139/BraTS20_Training_139_BrainROIT1cwx2.nii.gz.\n",
      "file written: /home/mmiv-ml/data/ROIBrain_MICCAI_BraTS2020/BraTS20_Training_139/BraTS20_Training_139_BrainROIT1cwx1.nii.gz.\n",
      "(2, 240, 240, 155)\n"
     ]
    },
    {
     "name": "stderr",
     "output_type": "stream",
     "text": [
      " 38%|██████████████████████████████████▌                                                        | 140/369 [04:10<06:51,  1.80s/it]"
     ]
    },
    {
     "name": "stdout",
     "output_type": "stream",
     "text": [
      "file written: /home/mmiv-ml/data/ROIBrain_MICCAI_BraTS2020/BraTS20_Training_140/BraTS20_Training_140_BrainROIT1cwx2.nii.gz.\n",
      "file written: /home/mmiv-ml/data/ROIBrain_MICCAI_BraTS2020/BraTS20_Training_140/BraTS20_Training_140_BrainROIT1cwx1.nii.gz.\n",
      "(2, 240, 240, 155)\n"
     ]
    },
    {
     "name": "stderr",
     "output_type": "stream",
     "text": [
      " 38%|██████████████████████████████████▊                                                        | 141/369 [04:12<06:50,  1.80s/it]"
     ]
    },
    {
     "name": "stdout",
     "output_type": "stream",
     "text": [
      "file written: /home/mmiv-ml/data/ROIBrain_MICCAI_BraTS2020/BraTS20_Training_141/BraTS20_Training_141_BrainROIT1cwx2.nii.gz.\n",
      "file written: /home/mmiv-ml/data/ROIBrain_MICCAI_BraTS2020/BraTS20_Training_141/BraTS20_Training_141_BrainROIT1cwx1.nii.gz.\n",
      "(2, 240, 240, 155)\n"
     ]
    },
    {
     "name": "stderr",
     "output_type": "stream",
     "text": [
      " 38%|███████████████████████████████████                                                        | 142/369 [04:14<06:45,  1.79s/it]"
     ]
    },
    {
     "name": "stdout",
     "output_type": "stream",
     "text": [
      "file written: /home/mmiv-ml/data/ROIBrain_MICCAI_BraTS2020/BraTS20_Training_142/BraTS20_Training_142_BrainROIT1cwx2.nii.gz.\n",
      "file written: /home/mmiv-ml/data/ROIBrain_MICCAI_BraTS2020/BraTS20_Training_142/BraTS20_Training_142_BrainROIT1cwx1.nii.gz.\n",
      "(2, 240, 240, 155)\n"
     ]
    },
    {
     "name": "stderr",
     "output_type": "stream",
     "text": [
      " 39%|███████████████████████████████████▎                                                       | 143/369 [04:16<06:43,  1.79s/it]"
     ]
    },
    {
     "name": "stdout",
     "output_type": "stream",
     "text": [
      "file written: /home/mmiv-ml/data/ROIBrain_MICCAI_BraTS2020/BraTS20_Training_143/BraTS20_Training_143_BrainROIT1cwx2.nii.gz.\n",
      "file written: /home/mmiv-ml/data/ROIBrain_MICCAI_BraTS2020/BraTS20_Training_143/BraTS20_Training_143_BrainROIT1cwx1.nii.gz.\n",
      "(2, 240, 240, 155)\n"
     ]
    },
    {
     "name": "stderr",
     "output_type": "stream",
     "text": [
      " 39%|███████████████████████████████████▌                                                       | 144/369 [04:18<06:39,  1.77s/it]"
     ]
    },
    {
     "name": "stdout",
     "output_type": "stream",
     "text": [
      "file written: /home/mmiv-ml/data/ROIBrain_MICCAI_BraTS2020/BraTS20_Training_144/BraTS20_Training_144_BrainROIT1cwx2.nii.gz.\n",
      "file written: /home/mmiv-ml/data/ROIBrain_MICCAI_BraTS2020/BraTS20_Training_144/BraTS20_Training_144_BrainROIT1cwx1.nii.gz.\n",
      "(2, 240, 240, 155)\n"
     ]
    },
    {
     "name": "stderr",
     "output_type": "stream",
     "text": [
      " 39%|███████████████████████████████████▊                                                       | 145/369 [04:19<06:35,  1.77s/it]"
     ]
    },
    {
     "name": "stdout",
     "output_type": "stream",
     "text": [
      "file written: /home/mmiv-ml/data/ROIBrain_MICCAI_BraTS2020/BraTS20_Training_145/BraTS20_Training_145_BrainROIT1cwx2.nii.gz.\n",
      "file written: /home/mmiv-ml/data/ROIBrain_MICCAI_BraTS2020/BraTS20_Training_145/BraTS20_Training_145_BrainROIT1cwx1.nii.gz.\n",
      "(2, 240, 240, 155)\n"
     ]
    },
    {
     "name": "stderr",
     "output_type": "stream",
     "text": [
      " 40%|████████████████████████████████████                                                       | 146/369 [04:21<06:33,  1.76s/it]"
     ]
    },
    {
     "name": "stdout",
     "output_type": "stream",
     "text": [
      "file written: /home/mmiv-ml/data/ROIBrain_MICCAI_BraTS2020/BraTS20_Training_146/BraTS20_Training_146_BrainROIT1cwx2.nii.gz.\n",
      "file written: /home/mmiv-ml/data/ROIBrain_MICCAI_BraTS2020/BraTS20_Training_146/BraTS20_Training_146_BrainROIT1cwx1.nii.gz.\n",
      "(2, 240, 240, 155)\n"
     ]
    },
    {
     "name": "stderr",
     "output_type": "stream",
     "text": [
      " 40%|████████████████████████████████████▎                                                      | 147/369 [04:23<06:31,  1.77s/it]"
     ]
    },
    {
     "name": "stdout",
     "output_type": "stream",
     "text": [
      "file written: /home/mmiv-ml/data/ROIBrain_MICCAI_BraTS2020/BraTS20_Training_147/BraTS20_Training_147_BrainROIT1cwx2.nii.gz.\n",
      "file written: /home/mmiv-ml/data/ROIBrain_MICCAI_BraTS2020/BraTS20_Training_147/BraTS20_Training_147_BrainROIT1cwx1.nii.gz.\n",
      "(2, 240, 240, 155)\n"
     ]
    },
    {
     "name": "stderr",
     "output_type": "stream",
     "text": [
      " 40%|████████████████████████████████████▍                                                      | 148/369 [04:25<06:36,  1.79s/it]"
     ]
    },
    {
     "name": "stdout",
     "output_type": "stream",
     "text": [
      "file written: /home/mmiv-ml/data/ROIBrain_MICCAI_BraTS2020/BraTS20_Training_148/BraTS20_Training_148_BrainROIT1cwx2.nii.gz.\n",
      "file written: /home/mmiv-ml/data/ROIBrain_MICCAI_BraTS2020/BraTS20_Training_148/BraTS20_Training_148_BrainROIT1cwx1.nii.gz.\n",
      "(2, 240, 240, 155)\n"
     ]
    },
    {
     "name": "stderr",
     "output_type": "stream",
     "text": [
      " 40%|████████████████████████████████████▋                                                      | 149/369 [04:27<06:34,  1.79s/it]"
     ]
    },
    {
     "name": "stdout",
     "output_type": "stream",
     "text": [
      "file written: /home/mmiv-ml/data/ROIBrain_MICCAI_BraTS2020/BraTS20_Training_149/BraTS20_Training_149_BrainROIT1cwx2.nii.gz.\n",
      "file written: /home/mmiv-ml/data/ROIBrain_MICCAI_BraTS2020/BraTS20_Training_149/BraTS20_Training_149_BrainROIT1cwx1.nii.gz.\n",
      "(2, 240, 240, 155)\n"
     ]
    },
    {
     "name": "stderr",
     "output_type": "stream",
     "text": [
      " 41%|████████████████████████████████████▉                                                      | 150/369 [04:28<06:32,  1.79s/it]"
     ]
    },
    {
     "name": "stdout",
     "output_type": "stream",
     "text": [
      "file written: /home/mmiv-ml/data/ROIBrain_MICCAI_BraTS2020/BraTS20_Training_150/BraTS20_Training_150_BrainROIT1cwx2.nii.gz.\n",
      "file written: /home/mmiv-ml/data/ROIBrain_MICCAI_BraTS2020/BraTS20_Training_150/BraTS20_Training_150_BrainROIT1cwx1.nii.gz.\n",
      "(2, 240, 240, 155)\n"
     ]
    },
    {
     "name": "stderr",
     "output_type": "stream",
     "text": [
      " 41%|█████████████████████████████████████▏                                                     | 151/369 [04:30<06:32,  1.80s/it]"
     ]
    },
    {
     "name": "stdout",
     "output_type": "stream",
     "text": [
      "file written: /home/mmiv-ml/data/ROIBrain_MICCAI_BraTS2020/BraTS20_Training_151/BraTS20_Training_151_BrainROIT1cwx2.nii.gz.\n",
      "file written: /home/mmiv-ml/data/ROIBrain_MICCAI_BraTS2020/BraTS20_Training_151/BraTS20_Training_151_BrainROIT1cwx1.nii.gz.\n",
      "(2, 240, 240, 155)\n"
     ]
    },
    {
     "name": "stderr",
     "output_type": "stream",
     "text": [
      " 41%|█████████████████████████████████████▍                                                     | 152/369 [04:32<06:27,  1.78s/it]"
     ]
    },
    {
     "name": "stdout",
     "output_type": "stream",
     "text": [
      "file written: /home/mmiv-ml/data/ROIBrain_MICCAI_BraTS2020/BraTS20_Training_152/BraTS20_Training_152_BrainROIT1cwx2.nii.gz.\n",
      "file written: /home/mmiv-ml/data/ROIBrain_MICCAI_BraTS2020/BraTS20_Training_152/BraTS20_Training_152_BrainROIT1cwx1.nii.gz.\n",
      "(2, 240, 240, 155)\n"
     ]
    },
    {
     "name": "stderr",
     "output_type": "stream",
     "text": [
      " 41%|█████████████████████████████████████▋                                                     | 153/369 [04:34<06:25,  1.78s/it]"
     ]
    },
    {
     "name": "stdout",
     "output_type": "stream",
     "text": [
      "file written: /home/mmiv-ml/data/ROIBrain_MICCAI_BraTS2020/BraTS20_Training_153/BraTS20_Training_153_BrainROIT1cwx2.nii.gz.\n",
      "file written: /home/mmiv-ml/data/ROIBrain_MICCAI_BraTS2020/BraTS20_Training_153/BraTS20_Training_153_BrainROIT1cwx1.nii.gz.\n",
      "(2, 240, 240, 155)\n"
     ]
    },
    {
     "name": "stderr",
     "output_type": "stream",
     "text": [
      " 42%|█████████████████████████████████████▉                                                     | 154/369 [04:35<06:24,  1.79s/it]"
     ]
    },
    {
     "name": "stdout",
     "output_type": "stream",
     "text": [
      "file written: /home/mmiv-ml/data/ROIBrain_MICCAI_BraTS2020/BraTS20_Training_154/BraTS20_Training_154_BrainROIT1cwx2.nii.gz.\n",
      "file written: /home/mmiv-ml/data/ROIBrain_MICCAI_BraTS2020/BraTS20_Training_154/BraTS20_Training_154_BrainROIT1cwx1.nii.gz.\n",
      "(2, 240, 240, 155)\n"
     ]
    },
    {
     "name": "stderr",
     "output_type": "stream",
     "text": [
      " 42%|██████████████████████████████████████▏                                                    | 155/369 [04:37<06:21,  1.78s/it]"
     ]
    },
    {
     "name": "stdout",
     "output_type": "stream",
     "text": [
      "file written: /home/mmiv-ml/data/ROIBrain_MICCAI_BraTS2020/BraTS20_Training_155/BraTS20_Training_155_BrainROIT1cwx2.nii.gz.\n",
      "file written: /home/mmiv-ml/data/ROIBrain_MICCAI_BraTS2020/BraTS20_Training_155/BraTS20_Training_155_BrainROIT1cwx1.nii.gz.\n",
      "(2, 240, 240, 155)\n"
     ]
    },
    {
     "name": "stderr",
     "output_type": "stream",
     "text": [
      " 42%|██████████████████████████████████████▍                                                    | 156/369 [04:39<06:21,  1.79s/it]"
     ]
    },
    {
     "name": "stdout",
     "output_type": "stream",
     "text": [
      "file written: /home/mmiv-ml/data/ROIBrain_MICCAI_BraTS2020/BraTS20_Training_156/BraTS20_Training_156_BrainROIT1cwx2.nii.gz.\n",
      "file written: /home/mmiv-ml/data/ROIBrain_MICCAI_BraTS2020/BraTS20_Training_156/BraTS20_Training_156_BrainROIT1cwx1.nii.gz.\n",
      "(2, 240, 240, 155)\n"
     ]
    },
    {
     "name": "stderr",
     "output_type": "stream",
     "text": [
      " 43%|██████████████████████████████████████▋                                                    | 157/369 [04:41<06:22,  1.81s/it]"
     ]
    },
    {
     "name": "stdout",
     "output_type": "stream",
     "text": [
      "file written: /home/mmiv-ml/data/ROIBrain_MICCAI_BraTS2020/BraTS20_Training_157/BraTS20_Training_157_BrainROIT1cwx2.nii.gz.\n",
      "file written: /home/mmiv-ml/data/ROIBrain_MICCAI_BraTS2020/BraTS20_Training_157/BraTS20_Training_157_BrainROIT1cwx1.nii.gz.\n",
      "(2, 240, 240, 155)\n"
     ]
    },
    {
     "name": "stderr",
     "output_type": "stream",
     "text": [
      " 43%|██████████████████████████████████████▉                                                    | 158/369 [04:43<06:21,  1.81s/it]"
     ]
    },
    {
     "name": "stdout",
     "output_type": "stream",
     "text": [
      "file written: /home/mmiv-ml/data/ROIBrain_MICCAI_BraTS2020/BraTS20_Training_158/BraTS20_Training_158_BrainROIT1cwx2.nii.gz.\n",
      "file written: /home/mmiv-ml/data/ROIBrain_MICCAI_BraTS2020/BraTS20_Training_158/BraTS20_Training_158_BrainROIT1cwx1.nii.gz.\n",
      "(2, 240, 240, 155)\n"
     ]
    },
    {
     "name": "stderr",
     "output_type": "stream",
     "text": [
      " 43%|███████████████████████████████████████▏                                                   | 159/369 [04:45<06:20,  1.81s/it]"
     ]
    },
    {
     "name": "stdout",
     "output_type": "stream",
     "text": [
      "file written: /home/mmiv-ml/data/ROIBrain_MICCAI_BraTS2020/BraTS20_Training_159/BraTS20_Training_159_BrainROIT1cwx2.nii.gz.\n",
      "file written: /home/mmiv-ml/data/ROIBrain_MICCAI_BraTS2020/BraTS20_Training_159/BraTS20_Training_159_BrainROIT1cwx1.nii.gz.\n",
      "(2, 240, 240, 155)\n"
     ]
    },
    {
     "name": "stderr",
     "output_type": "stream",
     "text": [
      " 43%|███████████████████████████████████████▍                                                   | 160/369 [04:46<06:15,  1.80s/it]"
     ]
    },
    {
     "name": "stdout",
     "output_type": "stream",
     "text": [
      "file written: /home/mmiv-ml/data/ROIBrain_MICCAI_BraTS2020/BraTS20_Training_160/BraTS20_Training_160_BrainROIT1cwx2.nii.gz.\n",
      "file written: /home/mmiv-ml/data/ROIBrain_MICCAI_BraTS2020/BraTS20_Training_160/BraTS20_Training_160_BrainROIT1cwx1.nii.gz.\n",
      "(2, 240, 240, 155)\n"
     ]
    },
    {
     "name": "stderr",
     "output_type": "stream",
     "text": [
      " 44%|███████████████████████████████████████▋                                                   | 161/369 [04:48<06:10,  1.78s/it]"
     ]
    },
    {
     "name": "stdout",
     "output_type": "stream",
     "text": [
      "file written: /home/mmiv-ml/data/ROIBrain_MICCAI_BraTS2020/BraTS20_Training_161/BraTS20_Training_161_BrainROIT1cwx2.nii.gz.\n",
      "file written: /home/mmiv-ml/data/ROIBrain_MICCAI_BraTS2020/BraTS20_Training_161/BraTS20_Training_161_BrainROIT1cwx1.nii.gz.\n",
      "(2, 240, 240, 155)\n"
     ]
    },
    {
     "name": "stderr",
     "output_type": "stream",
     "text": [
      " 44%|███████████████████████████████████████▉                                                   | 162/369 [04:50<06:11,  1.79s/it]"
     ]
    },
    {
     "name": "stdout",
     "output_type": "stream",
     "text": [
      "file written: /home/mmiv-ml/data/ROIBrain_MICCAI_BraTS2020/BraTS20_Training_162/BraTS20_Training_162_BrainROIT1cwx2.nii.gz.\n",
      "file written: /home/mmiv-ml/data/ROIBrain_MICCAI_BraTS2020/BraTS20_Training_162/BraTS20_Training_162_BrainROIT1cwx1.nii.gz.\n",
      "(2, 240, 240, 155)\n"
     ]
    },
    {
     "name": "stderr",
     "output_type": "stream",
     "text": [
      " 44%|████████████████████████████████████████▏                                                  | 163/369 [04:52<06:10,  1.80s/it]"
     ]
    },
    {
     "name": "stdout",
     "output_type": "stream",
     "text": [
      "file written: /home/mmiv-ml/data/ROIBrain_MICCAI_BraTS2020/BraTS20_Training_163/BraTS20_Training_163_BrainROIT1cwx2.nii.gz.\n",
      "file written: /home/mmiv-ml/data/ROIBrain_MICCAI_BraTS2020/BraTS20_Training_163/BraTS20_Training_163_BrainROIT1cwx1.nii.gz.\n",
      "(2, 240, 240, 155)\n"
     ]
    },
    {
     "name": "stderr",
     "output_type": "stream",
     "text": [
      " 44%|████████████████████████████████████████▍                                                  | 164/369 [04:54<06:13,  1.82s/it]"
     ]
    },
    {
     "name": "stdout",
     "output_type": "stream",
     "text": [
      "file written: /home/mmiv-ml/data/ROIBrain_MICCAI_BraTS2020/BraTS20_Training_164/BraTS20_Training_164_BrainROIT1cwx2.nii.gz.\n",
      "file written: /home/mmiv-ml/data/ROIBrain_MICCAI_BraTS2020/BraTS20_Training_164/BraTS20_Training_164_BrainROIT1cwx1.nii.gz.\n",
      "(2, 240, 240, 155)\n"
     ]
    },
    {
     "name": "stderr",
     "output_type": "stream",
     "text": [
      " 45%|████████████████████████████████████████▋                                                  | 165/369 [04:55<06:08,  1.80s/it]"
     ]
    },
    {
     "name": "stdout",
     "output_type": "stream",
     "text": [
      "file written: /home/mmiv-ml/data/ROIBrain_MICCAI_BraTS2020/BraTS20_Training_165/BraTS20_Training_165_BrainROIT1cwx2.nii.gz.\n",
      "file written: /home/mmiv-ml/data/ROIBrain_MICCAI_BraTS2020/BraTS20_Training_165/BraTS20_Training_165_BrainROIT1cwx1.nii.gz.\n",
      "(2, 240, 240, 155)\n"
     ]
    },
    {
     "name": "stderr",
     "output_type": "stream",
     "text": [
      " 45%|████████████████████████████████████████▉                                                  | 166/369 [04:57<06:06,  1.81s/it]"
     ]
    },
    {
     "name": "stdout",
     "output_type": "stream",
     "text": [
      "file written: /home/mmiv-ml/data/ROIBrain_MICCAI_BraTS2020/BraTS20_Training_166/BraTS20_Training_166_BrainROIT1cwx2.nii.gz.\n",
      "file written: /home/mmiv-ml/data/ROIBrain_MICCAI_BraTS2020/BraTS20_Training_166/BraTS20_Training_166_BrainROIT1cwx1.nii.gz.\n",
      "(2, 240, 240, 155)\n"
     ]
    },
    {
     "name": "stderr",
     "output_type": "stream",
     "text": [
      " 45%|█████████████████████████████████████████▏                                                 | 167/369 [04:59<06:06,  1.81s/it]"
     ]
    },
    {
     "name": "stdout",
     "output_type": "stream",
     "text": [
      "file written: /home/mmiv-ml/data/ROIBrain_MICCAI_BraTS2020/BraTS20_Training_167/BraTS20_Training_167_BrainROIT1cwx2.nii.gz.\n",
      "file written: /home/mmiv-ml/data/ROIBrain_MICCAI_BraTS2020/BraTS20_Training_167/BraTS20_Training_167_BrainROIT1cwx1.nii.gz.\n",
      "(2, 240, 240, 155)\n"
     ]
    },
    {
     "name": "stderr",
     "output_type": "stream",
     "text": [
      " 46%|█████████████████████████████████████████▍                                                 | 168/369 [05:01<06:04,  1.81s/it]"
     ]
    },
    {
     "name": "stdout",
     "output_type": "stream",
     "text": [
      "file written: /home/mmiv-ml/data/ROIBrain_MICCAI_BraTS2020/BraTS20_Training_168/BraTS20_Training_168_BrainROIT1cwx2.nii.gz.\n",
      "file written: /home/mmiv-ml/data/ROIBrain_MICCAI_BraTS2020/BraTS20_Training_168/BraTS20_Training_168_BrainROIT1cwx1.nii.gz.\n",
      "(2, 240, 240, 155)\n"
     ]
    },
    {
     "name": "stderr",
     "output_type": "stream",
     "text": [
      " 46%|█████████████████████████████████████████▋                                                 | 169/369 [05:03<06:01,  1.81s/it]"
     ]
    },
    {
     "name": "stdout",
     "output_type": "stream",
     "text": [
      "file written: /home/mmiv-ml/data/ROIBrain_MICCAI_BraTS2020/BraTS20_Training_169/BraTS20_Training_169_BrainROIT1cwx2.nii.gz.\n",
      "file written: /home/mmiv-ml/data/ROIBrain_MICCAI_BraTS2020/BraTS20_Training_169/BraTS20_Training_169_BrainROIT1cwx1.nii.gz.\n",
      "(2, 240, 240, 155)\n"
     ]
    },
    {
     "name": "stderr",
     "output_type": "stream",
     "text": [
      " 46%|█████████████████████████████████████████▉                                                 | 170/369 [05:04<05:58,  1.80s/it]"
     ]
    },
    {
     "name": "stdout",
     "output_type": "stream",
     "text": [
      "file written: /home/mmiv-ml/data/ROIBrain_MICCAI_BraTS2020/BraTS20_Training_170/BraTS20_Training_170_BrainROIT1cwx2.nii.gz.\n",
      "file written: /home/mmiv-ml/data/ROIBrain_MICCAI_BraTS2020/BraTS20_Training_170/BraTS20_Training_170_BrainROIT1cwx1.nii.gz.\n",
      "(2, 240, 240, 155)\n"
     ]
    },
    {
     "name": "stderr",
     "output_type": "stream",
     "text": [
      " 46%|██████████████████████████████████████████▏                                                | 171/369 [05:06<05:54,  1.79s/it]"
     ]
    },
    {
     "name": "stdout",
     "output_type": "stream",
     "text": [
      "file written: /home/mmiv-ml/data/ROIBrain_MICCAI_BraTS2020/BraTS20_Training_171/BraTS20_Training_171_BrainROIT1cwx2.nii.gz.\n",
      "file written: /home/mmiv-ml/data/ROIBrain_MICCAI_BraTS2020/BraTS20_Training_171/BraTS20_Training_171_BrainROIT1cwx1.nii.gz.\n",
      "(2, 240, 240, 155)\n"
     ]
    },
    {
     "name": "stderr",
     "output_type": "stream",
     "text": [
      " 47%|██████████████████████████████████████████▍                                                | 172/369 [05:08<05:50,  1.78s/it]"
     ]
    },
    {
     "name": "stdout",
     "output_type": "stream",
     "text": [
      "file written: /home/mmiv-ml/data/ROIBrain_MICCAI_BraTS2020/BraTS20_Training_172/BraTS20_Training_172_BrainROIT1cwx2.nii.gz.\n",
      "file written: /home/mmiv-ml/data/ROIBrain_MICCAI_BraTS2020/BraTS20_Training_172/BraTS20_Training_172_BrainROIT1cwx1.nii.gz.\n",
      "(2, 240, 240, 155)\n"
     ]
    },
    {
     "name": "stderr",
     "output_type": "stream",
     "text": [
      " 47%|██████████████████████████████████████████▋                                                | 173/369 [05:10<05:52,  1.80s/it]"
     ]
    },
    {
     "name": "stdout",
     "output_type": "stream",
     "text": [
      "file written: /home/mmiv-ml/data/ROIBrain_MICCAI_BraTS2020/BraTS20_Training_173/BraTS20_Training_173_BrainROIT1cwx2.nii.gz.\n",
      "file written: /home/mmiv-ml/data/ROIBrain_MICCAI_BraTS2020/BraTS20_Training_173/BraTS20_Training_173_BrainROIT1cwx1.nii.gz.\n",
      "(2, 240, 240, 155)\n"
     ]
    },
    {
     "name": "stderr",
     "output_type": "stream",
     "text": [
      " 47%|██████████████████████████████████████████▉                                                | 174/369 [05:11<05:49,  1.79s/it]"
     ]
    },
    {
     "name": "stdout",
     "output_type": "stream",
     "text": [
      "file written: /home/mmiv-ml/data/ROIBrain_MICCAI_BraTS2020/BraTS20_Training_174/BraTS20_Training_174_BrainROIT1cwx2.nii.gz.\n",
      "file written: /home/mmiv-ml/data/ROIBrain_MICCAI_BraTS2020/BraTS20_Training_174/BraTS20_Training_174_BrainROIT1cwx1.nii.gz.\n",
      "(2, 240, 240, 155)\n"
     ]
    },
    {
     "name": "stderr",
     "output_type": "stream",
     "text": [
      " 47%|███████████████████████████████████████████▏                                               | 175/369 [05:13<05:46,  1.79s/it]"
     ]
    },
    {
     "name": "stdout",
     "output_type": "stream",
     "text": [
      "file written: /home/mmiv-ml/data/ROIBrain_MICCAI_BraTS2020/BraTS20_Training_175/BraTS20_Training_175_BrainROIT1cwx2.nii.gz.\n",
      "file written: /home/mmiv-ml/data/ROIBrain_MICCAI_BraTS2020/BraTS20_Training_175/BraTS20_Training_175_BrainROIT1cwx1.nii.gz.\n",
      "(2, 240, 240, 155)\n"
     ]
    },
    {
     "name": "stderr",
     "output_type": "stream",
     "text": [
      " 48%|███████████████████████████████████████████▍                                               | 176/369 [05:15<05:43,  1.78s/it]"
     ]
    },
    {
     "name": "stdout",
     "output_type": "stream",
     "text": [
      "file written: /home/mmiv-ml/data/ROIBrain_MICCAI_BraTS2020/BraTS20_Training_176/BraTS20_Training_176_BrainROIT1cwx2.nii.gz.\n",
      "file written: /home/mmiv-ml/data/ROIBrain_MICCAI_BraTS2020/BraTS20_Training_176/BraTS20_Training_176_BrainROIT1cwx1.nii.gz.\n",
      "(2, 240, 240, 155)\n"
     ]
    },
    {
     "name": "stderr",
     "output_type": "stream",
     "text": [
      " 48%|███████████████████████████████████████████▋                                               | 177/369 [05:17<05:42,  1.79s/it]"
     ]
    },
    {
     "name": "stdout",
     "output_type": "stream",
     "text": [
      "file written: /home/mmiv-ml/data/ROIBrain_MICCAI_BraTS2020/BraTS20_Training_177/BraTS20_Training_177_BrainROIT1cwx2.nii.gz.\n",
      "file written: /home/mmiv-ml/data/ROIBrain_MICCAI_BraTS2020/BraTS20_Training_177/BraTS20_Training_177_BrainROIT1cwx1.nii.gz.\n",
      "(2, 240, 240, 155)\n"
     ]
    },
    {
     "name": "stderr",
     "output_type": "stream",
     "text": [
      " 48%|███████████████████████████████████████████▉                                               | 178/369 [05:19<05:42,  1.79s/it]"
     ]
    },
    {
     "name": "stdout",
     "output_type": "stream",
     "text": [
      "file written: /home/mmiv-ml/data/ROIBrain_MICCAI_BraTS2020/BraTS20_Training_178/BraTS20_Training_178_BrainROIT1cwx2.nii.gz.\n",
      "file written: /home/mmiv-ml/data/ROIBrain_MICCAI_BraTS2020/BraTS20_Training_178/BraTS20_Training_178_BrainROIT1cwx1.nii.gz.\n",
      "(2, 240, 240, 155)\n"
     ]
    },
    {
     "name": "stderr",
     "output_type": "stream",
     "text": [
      " 49%|████████████████████████████████████████████▏                                              | 179/369 [05:20<05:38,  1.78s/it]"
     ]
    },
    {
     "name": "stdout",
     "output_type": "stream",
     "text": [
      "file written: /home/mmiv-ml/data/ROIBrain_MICCAI_BraTS2020/BraTS20_Training_179/BraTS20_Training_179_BrainROIT1cwx2.nii.gz.\n",
      "file written: /home/mmiv-ml/data/ROIBrain_MICCAI_BraTS2020/BraTS20_Training_179/BraTS20_Training_179_BrainROIT1cwx1.nii.gz.\n",
      "(2, 240, 240, 155)\n"
     ]
    },
    {
     "name": "stderr",
     "output_type": "stream",
     "text": [
      " 49%|████████████████████████████████████████████▍                                              | 180/369 [05:22<05:35,  1.78s/it]"
     ]
    },
    {
     "name": "stdout",
     "output_type": "stream",
     "text": [
      "file written: /home/mmiv-ml/data/ROIBrain_MICCAI_BraTS2020/BraTS20_Training_180/BraTS20_Training_180_BrainROIT1cwx2.nii.gz.\n",
      "file written: /home/mmiv-ml/data/ROIBrain_MICCAI_BraTS2020/BraTS20_Training_180/BraTS20_Training_180_BrainROIT1cwx1.nii.gz.\n",
      "(2, 240, 240, 155)\n"
     ]
    },
    {
     "name": "stderr",
     "output_type": "stream",
     "text": [
      " 49%|████████████████████████████████████████████▋                                              | 181/369 [05:24<05:33,  1.77s/it]"
     ]
    },
    {
     "name": "stdout",
     "output_type": "stream",
     "text": [
      "file written: /home/mmiv-ml/data/ROIBrain_MICCAI_BraTS2020/BraTS20_Training_181/BraTS20_Training_181_BrainROIT1cwx2.nii.gz.\n",
      "file written: /home/mmiv-ml/data/ROIBrain_MICCAI_BraTS2020/BraTS20_Training_181/BraTS20_Training_181_BrainROIT1cwx1.nii.gz.\n",
      "(2, 240, 240, 155)\n"
     ]
    },
    {
     "name": "stderr",
     "output_type": "stream",
     "text": [
      " 49%|████████████████████████████████████████████▉                                              | 182/369 [05:26<05:30,  1.76s/it]"
     ]
    },
    {
     "name": "stdout",
     "output_type": "stream",
     "text": [
      "file written: /home/mmiv-ml/data/ROIBrain_MICCAI_BraTS2020/BraTS20_Training_182/BraTS20_Training_182_BrainROIT1cwx2.nii.gz.\n",
      "file written: /home/mmiv-ml/data/ROIBrain_MICCAI_BraTS2020/BraTS20_Training_182/BraTS20_Training_182_BrainROIT1cwx1.nii.gz.\n",
      "(2, 240, 240, 155)\n"
     ]
    },
    {
     "name": "stderr",
     "output_type": "stream",
     "text": [
      " 50%|█████████████████████████████████████████████▏                                             | 183/369 [05:27<05:30,  1.78s/it]"
     ]
    },
    {
     "name": "stdout",
     "output_type": "stream",
     "text": [
      "file written: /home/mmiv-ml/data/ROIBrain_MICCAI_BraTS2020/BraTS20_Training_183/BraTS20_Training_183_BrainROIT1cwx2.nii.gz.\n",
      "file written: /home/mmiv-ml/data/ROIBrain_MICCAI_BraTS2020/BraTS20_Training_183/BraTS20_Training_183_BrainROIT1cwx1.nii.gz.\n",
      "(2, 240, 240, 155)\n"
     ]
    },
    {
     "name": "stderr",
     "output_type": "stream",
     "text": [
      " 50%|█████████████████████████████████████████████▍                                             | 184/369 [05:29<05:27,  1.77s/it]"
     ]
    },
    {
     "name": "stdout",
     "output_type": "stream",
     "text": [
      "file written: /home/mmiv-ml/data/ROIBrain_MICCAI_BraTS2020/BraTS20_Training_184/BraTS20_Training_184_BrainROIT1cwx2.nii.gz.\n",
      "file written: /home/mmiv-ml/data/ROIBrain_MICCAI_BraTS2020/BraTS20_Training_184/BraTS20_Training_184_BrainROIT1cwx1.nii.gz.\n",
      "(2, 240, 240, 155)\n"
     ]
    },
    {
     "name": "stderr",
     "output_type": "stream",
     "text": [
      " 50%|█████████████████████████████████████████████▌                                             | 185/369 [05:31<05:24,  1.76s/it]"
     ]
    },
    {
     "name": "stdout",
     "output_type": "stream",
     "text": [
      "file written: /home/mmiv-ml/data/ROIBrain_MICCAI_BraTS2020/BraTS20_Training_185/BraTS20_Training_185_BrainROIT1cwx2.nii.gz.\n",
      "file written: /home/mmiv-ml/data/ROIBrain_MICCAI_BraTS2020/BraTS20_Training_185/BraTS20_Training_185_BrainROIT1cwx1.nii.gz.\n",
      "(2, 240, 240, 155)\n"
     ]
    },
    {
     "name": "stderr",
     "output_type": "stream",
     "text": [
      " 50%|█████████████████████████████████████████████▊                                             | 186/369 [05:33<05:22,  1.76s/it]"
     ]
    },
    {
     "name": "stdout",
     "output_type": "stream",
     "text": [
      "file written: /home/mmiv-ml/data/ROIBrain_MICCAI_BraTS2020/BraTS20_Training_186/BraTS20_Training_186_BrainROIT1cwx2.nii.gz.\n",
      "file written: /home/mmiv-ml/data/ROIBrain_MICCAI_BraTS2020/BraTS20_Training_186/BraTS20_Training_186_BrainROIT1cwx1.nii.gz.\n",
      "(2, 240, 240, 155)\n"
     ]
    },
    {
     "name": "stderr",
     "output_type": "stream",
     "text": [
      " 51%|██████████████████████████████████████████████                                             | 187/369 [05:34<05:20,  1.76s/it]"
     ]
    },
    {
     "name": "stdout",
     "output_type": "stream",
     "text": [
      "file written: /home/mmiv-ml/data/ROIBrain_MICCAI_BraTS2020/BraTS20_Training_187/BraTS20_Training_187_BrainROIT1cwx2.nii.gz.\n",
      "file written: /home/mmiv-ml/data/ROIBrain_MICCAI_BraTS2020/BraTS20_Training_187/BraTS20_Training_187_BrainROIT1cwx1.nii.gz.\n",
      "(2, 240, 240, 155)\n"
     ]
    },
    {
     "name": "stderr",
     "output_type": "stream",
     "text": [
      " 51%|██████████████████████████████████████████████▎                                            | 188/369 [05:36<05:18,  1.76s/it]"
     ]
    },
    {
     "name": "stdout",
     "output_type": "stream",
     "text": [
      "file written: /home/mmiv-ml/data/ROIBrain_MICCAI_BraTS2020/BraTS20_Training_188/BraTS20_Training_188_BrainROIT1cwx2.nii.gz.\n",
      "file written: /home/mmiv-ml/data/ROIBrain_MICCAI_BraTS2020/BraTS20_Training_188/BraTS20_Training_188_BrainROIT1cwx1.nii.gz.\n",
      "(2, 240, 240, 155)\n"
     ]
    },
    {
     "name": "stderr",
     "output_type": "stream",
     "text": [
      " 51%|██████████████████████████████████████████████▌                                            | 189/369 [05:38<05:18,  1.77s/it]"
     ]
    },
    {
     "name": "stdout",
     "output_type": "stream",
     "text": [
      "file written: /home/mmiv-ml/data/ROIBrain_MICCAI_BraTS2020/BraTS20_Training_189/BraTS20_Training_189_BrainROIT1cwx2.nii.gz.\n",
      "file written: /home/mmiv-ml/data/ROIBrain_MICCAI_BraTS2020/BraTS20_Training_189/BraTS20_Training_189_BrainROIT1cwx1.nii.gz.\n",
      "(2, 240, 240, 155)\n"
     ]
    },
    {
     "name": "stderr",
     "output_type": "stream",
     "text": [
      " 51%|██████████████████████████████████████████████▊                                            | 190/369 [05:40<05:16,  1.77s/it]"
     ]
    },
    {
     "name": "stdout",
     "output_type": "stream",
     "text": [
      "file written: /home/mmiv-ml/data/ROIBrain_MICCAI_BraTS2020/BraTS20_Training_190/BraTS20_Training_190_BrainROIT1cwx2.nii.gz.\n",
      "file written: /home/mmiv-ml/data/ROIBrain_MICCAI_BraTS2020/BraTS20_Training_190/BraTS20_Training_190_BrainROIT1cwx1.nii.gz.\n",
      "(2, 240, 240, 155)\n"
     ]
    },
    {
     "name": "stderr",
     "output_type": "stream",
     "text": [
      " 52%|███████████████████████████████████████████████                                            | 191/369 [05:42<05:16,  1.78s/it]"
     ]
    },
    {
     "name": "stdout",
     "output_type": "stream",
     "text": [
      "file written: /home/mmiv-ml/data/ROIBrain_MICCAI_BraTS2020/BraTS20_Training_191/BraTS20_Training_191_BrainROIT1cwx2.nii.gz.\n",
      "file written: /home/mmiv-ml/data/ROIBrain_MICCAI_BraTS2020/BraTS20_Training_191/BraTS20_Training_191_BrainROIT1cwx1.nii.gz.\n",
      "(2, 240, 240, 155)\n"
     ]
    },
    {
     "name": "stderr",
     "output_type": "stream",
     "text": [
      " 52%|███████████████████████████████████████████████▎                                           | 192/369 [05:43<05:18,  1.80s/it]"
     ]
    },
    {
     "name": "stdout",
     "output_type": "stream",
     "text": [
      "file written: /home/mmiv-ml/data/ROIBrain_MICCAI_BraTS2020/BraTS20_Training_192/BraTS20_Training_192_BrainROIT1cwx2.nii.gz.\n",
      "file written: /home/mmiv-ml/data/ROIBrain_MICCAI_BraTS2020/BraTS20_Training_192/BraTS20_Training_192_BrainROIT1cwx1.nii.gz.\n",
      "(2, 240, 240, 155)\n"
     ]
    },
    {
     "name": "stderr",
     "output_type": "stream",
     "text": [
      " 52%|███████████████████████████████████████████████▌                                           | 193/369 [05:45<05:16,  1.80s/it]"
     ]
    },
    {
     "name": "stdout",
     "output_type": "stream",
     "text": [
      "file written: /home/mmiv-ml/data/ROIBrain_MICCAI_BraTS2020/BraTS20_Training_193/BraTS20_Training_193_BrainROIT1cwx2.nii.gz.\n",
      "file written: /home/mmiv-ml/data/ROIBrain_MICCAI_BraTS2020/BraTS20_Training_193/BraTS20_Training_193_BrainROIT1cwx1.nii.gz.\n",
      "(2, 240, 240, 155)\n"
     ]
    },
    {
     "name": "stderr",
     "output_type": "stream",
     "text": [
      " 53%|███████████████████████████████████████████████▊                                           | 194/369 [05:47<05:13,  1.79s/it]"
     ]
    },
    {
     "name": "stdout",
     "output_type": "stream",
     "text": [
      "file written: /home/mmiv-ml/data/ROIBrain_MICCAI_BraTS2020/BraTS20_Training_194/BraTS20_Training_194_BrainROIT1cwx2.nii.gz.\n",
      "file written: /home/mmiv-ml/data/ROIBrain_MICCAI_BraTS2020/BraTS20_Training_194/BraTS20_Training_194_BrainROIT1cwx1.nii.gz.\n",
      "(2, 240, 240, 155)\n"
     ]
    },
    {
     "name": "stderr",
     "output_type": "stream",
     "text": [
      " 53%|████████████████████████████████████████████████                                           | 195/369 [05:49<05:09,  1.78s/it]"
     ]
    },
    {
     "name": "stdout",
     "output_type": "stream",
     "text": [
      "file written: /home/mmiv-ml/data/ROIBrain_MICCAI_BraTS2020/BraTS20_Training_195/BraTS20_Training_195_BrainROIT1cwx2.nii.gz.\n",
      "file written: /home/mmiv-ml/data/ROIBrain_MICCAI_BraTS2020/BraTS20_Training_195/BraTS20_Training_195_BrainROIT1cwx1.nii.gz.\n",
      "(2, 240, 240, 155)\n"
     ]
    },
    {
     "name": "stderr",
     "output_type": "stream",
     "text": [
      " 53%|████████████████████████████████████████████████▎                                          | 196/369 [05:51<05:10,  1.80s/it]"
     ]
    },
    {
     "name": "stdout",
     "output_type": "stream",
     "text": [
      "file written: /home/mmiv-ml/data/ROIBrain_MICCAI_BraTS2020/BraTS20_Training_196/BraTS20_Training_196_BrainROIT1cwx2.nii.gz.\n",
      "file written: /home/mmiv-ml/data/ROIBrain_MICCAI_BraTS2020/BraTS20_Training_196/BraTS20_Training_196_BrainROIT1cwx1.nii.gz.\n",
      "(2, 240, 240, 155)\n"
     ]
    },
    {
     "name": "stderr",
     "output_type": "stream",
     "text": [
      " 53%|████████████████████████████████████████████████▌                                          | 197/369 [05:52<05:10,  1.80s/it]"
     ]
    },
    {
     "name": "stdout",
     "output_type": "stream",
     "text": [
      "file written: /home/mmiv-ml/data/ROIBrain_MICCAI_BraTS2020/BraTS20_Training_197/BraTS20_Training_197_BrainROIT1cwx2.nii.gz.\n",
      "file written: /home/mmiv-ml/data/ROIBrain_MICCAI_BraTS2020/BraTS20_Training_197/BraTS20_Training_197_BrainROIT1cwx1.nii.gz.\n",
      "(2, 240, 240, 155)\n"
     ]
    },
    {
     "name": "stderr",
     "output_type": "stream",
     "text": [
      " 54%|████████████████████████████████████████████████▊                                          | 198/369 [05:54<05:06,  1.79s/it]"
     ]
    },
    {
     "name": "stdout",
     "output_type": "stream",
     "text": [
      "file written: /home/mmiv-ml/data/ROIBrain_MICCAI_BraTS2020/BraTS20_Training_198/BraTS20_Training_198_BrainROIT1cwx2.nii.gz.\n",
      "file written: /home/mmiv-ml/data/ROIBrain_MICCAI_BraTS2020/BraTS20_Training_198/BraTS20_Training_198_BrainROIT1cwx1.nii.gz.\n",
      "(2, 240, 240, 155)\n"
     ]
    },
    {
     "name": "stderr",
     "output_type": "stream",
     "text": [
      " 54%|█████████████████████████████████████████████████                                          | 199/369 [05:56<05:04,  1.79s/it]"
     ]
    },
    {
     "name": "stdout",
     "output_type": "stream",
     "text": [
      "file written: /home/mmiv-ml/data/ROIBrain_MICCAI_BraTS2020/BraTS20_Training_199/BraTS20_Training_199_BrainROIT1cwx2.nii.gz.\n",
      "file written: /home/mmiv-ml/data/ROIBrain_MICCAI_BraTS2020/BraTS20_Training_199/BraTS20_Training_199_BrainROIT1cwx1.nii.gz.\n",
      "(2, 240, 240, 155)\n"
     ]
    },
    {
     "name": "stderr",
     "output_type": "stream",
     "text": [
      " 54%|█████████████████████████████████████████████████▎                                         | 200/369 [05:58<05:00,  1.78s/it]"
     ]
    },
    {
     "name": "stdout",
     "output_type": "stream",
     "text": [
      "file written: /home/mmiv-ml/data/ROIBrain_MICCAI_BraTS2020/BraTS20_Training_200/BraTS20_Training_200_BrainROIT1cwx2.nii.gz.\n",
      "file written: /home/mmiv-ml/data/ROIBrain_MICCAI_BraTS2020/BraTS20_Training_200/BraTS20_Training_200_BrainROIT1cwx1.nii.gz.\n",
      "(2, 240, 240, 155)\n"
     ]
    },
    {
     "name": "stderr",
     "output_type": "stream",
     "text": [
      " 54%|█████████████████████████████████████████████████▌                                         | 201/369 [06:00<04:59,  1.78s/it]"
     ]
    },
    {
     "name": "stdout",
     "output_type": "stream",
     "text": [
      "file written: /home/mmiv-ml/data/ROIBrain_MICCAI_BraTS2020/BraTS20_Training_201/BraTS20_Training_201_BrainROIT1cwx2.nii.gz.\n",
      "file written: /home/mmiv-ml/data/ROIBrain_MICCAI_BraTS2020/BraTS20_Training_201/BraTS20_Training_201_BrainROIT1cwx1.nii.gz.\n",
      "(2, 240, 240, 155)\n"
     ]
    },
    {
     "name": "stderr",
     "output_type": "stream",
     "text": [
      " 55%|█████████████████████████████████████████████████▊                                         | 202/369 [06:01<04:58,  1.79s/it]"
     ]
    },
    {
     "name": "stdout",
     "output_type": "stream",
     "text": [
      "file written: /home/mmiv-ml/data/ROIBrain_MICCAI_BraTS2020/BraTS20_Training_202/BraTS20_Training_202_BrainROIT1cwx2.nii.gz.\n",
      "file written: /home/mmiv-ml/data/ROIBrain_MICCAI_BraTS2020/BraTS20_Training_202/BraTS20_Training_202_BrainROIT1cwx1.nii.gz.\n",
      "(2, 240, 240, 155)\n"
     ]
    },
    {
     "name": "stderr",
     "output_type": "stream",
     "text": [
      " 55%|██████████████████████████████████████████████████                                         | 203/369 [06:03<04:57,  1.79s/it]"
     ]
    },
    {
     "name": "stdout",
     "output_type": "stream",
     "text": [
      "file written: /home/mmiv-ml/data/ROIBrain_MICCAI_BraTS2020/BraTS20_Training_203/BraTS20_Training_203_BrainROIT1cwx2.nii.gz.\n",
      "file written: /home/mmiv-ml/data/ROIBrain_MICCAI_BraTS2020/BraTS20_Training_203/BraTS20_Training_203_BrainROIT1cwx1.nii.gz.\n",
      "(2, 240, 240, 155)\n"
     ]
    },
    {
     "name": "stderr",
     "output_type": "stream",
     "text": [
      " 55%|██████████████████████████████████████████████████▎                                        | 204/369 [06:05<04:56,  1.80s/it]"
     ]
    },
    {
     "name": "stdout",
     "output_type": "stream",
     "text": [
      "file written: /home/mmiv-ml/data/ROIBrain_MICCAI_BraTS2020/BraTS20_Training_204/BraTS20_Training_204_BrainROIT1cwx2.nii.gz.\n",
      "file written: /home/mmiv-ml/data/ROIBrain_MICCAI_BraTS2020/BraTS20_Training_204/BraTS20_Training_204_BrainROIT1cwx1.nii.gz.\n",
      "(2, 240, 240, 155)\n"
     ]
    },
    {
     "name": "stderr",
     "output_type": "stream",
     "text": [
      " 56%|██████████████████████████████████████████████████▌                                        | 205/369 [06:07<04:53,  1.79s/it]"
     ]
    },
    {
     "name": "stdout",
     "output_type": "stream",
     "text": [
      "file written: /home/mmiv-ml/data/ROIBrain_MICCAI_BraTS2020/BraTS20_Training_205/BraTS20_Training_205_BrainROIT1cwx2.nii.gz.\n",
      "file written: /home/mmiv-ml/data/ROIBrain_MICCAI_BraTS2020/BraTS20_Training_205/BraTS20_Training_205_BrainROIT1cwx1.nii.gz.\n",
      "(2, 240, 240, 155)\n"
     ]
    },
    {
     "name": "stderr",
     "output_type": "stream",
     "text": [
      " 56%|██████████████████████████████████████████████████▊                                        | 206/369 [06:08<04:52,  1.79s/it]"
     ]
    },
    {
     "name": "stdout",
     "output_type": "stream",
     "text": [
      "file written: /home/mmiv-ml/data/ROIBrain_MICCAI_BraTS2020/BraTS20_Training_206/BraTS20_Training_206_BrainROIT1cwx2.nii.gz.\n",
      "file written: /home/mmiv-ml/data/ROIBrain_MICCAI_BraTS2020/BraTS20_Training_206/BraTS20_Training_206_BrainROIT1cwx1.nii.gz.\n",
      "(2, 240, 240, 155)\n"
     ]
    },
    {
     "name": "stderr",
     "output_type": "stream",
     "text": [
      " 56%|███████████████████████████████████████████████████                                        | 207/369 [06:10<04:47,  1.78s/it]"
     ]
    },
    {
     "name": "stdout",
     "output_type": "stream",
     "text": [
      "file written: /home/mmiv-ml/data/ROIBrain_MICCAI_BraTS2020/BraTS20_Training_207/BraTS20_Training_207_BrainROIT1cwx2.nii.gz.\n",
      "file written: /home/mmiv-ml/data/ROIBrain_MICCAI_BraTS2020/BraTS20_Training_207/BraTS20_Training_207_BrainROIT1cwx1.nii.gz.\n",
      "(2, 240, 240, 155)\n"
     ]
    },
    {
     "name": "stderr",
     "output_type": "stream",
     "text": [
      " 56%|███████████████████████████████████████████████████▎                                       | 208/369 [06:12<04:44,  1.77s/it]"
     ]
    },
    {
     "name": "stdout",
     "output_type": "stream",
     "text": [
      "file written: /home/mmiv-ml/data/ROIBrain_MICCAI_BraTS2020/BraTS20_Training_208/BraTS20_Training_208_BrainROIT1cwx2.nii.gz.\n",
      "file written: /home/mmiv-ml/data/ROIBrain_MICCAI_BraTS2020/BraTS20_Training_208/BraTS20_Training_208_BrainROIT1cwx1.nii.gz.\n",
      "(2, 240, 240, 155)\n"
     ]
    },
    {
     "name": "stderr",
     "output_type": "stream",
     "text": [
      " 57%|███████████████████████████████████████████████████▌                                       | 209/369 [06:14<04:42,  1.76s/it]"
     ]
    },
    {
     "name": "stdout",
     "output_type": "stream",
     "text": [
      "file written: /home/mmiv-ml/data/ROIBrain_MICCAI_BraTS2020/BraTS20_Training_209/BraTS20_Training_209_BrainROIT1cwx2.nii.gz.\n",
      "file written: /home/mmiv-ml/data/ROIBrain_MICCAI_BraTS2020/BraTS20_Training_209/BraTS20_Training_209_BrainROIT1cwx1.nii.gz.\n",
      "(2, 240, 240, 155)\n"
     ]
    },
    {
     "name": "stderr",
     "output_type": "stream",
     "text": [
      " 57%|███████████████████████████████████████████████████▊                                       | 210/369 [06:15<04:40,  1.76s/it]"
     ]
    },
    {
     "name": "stdout",
     "output_type": "stream",
     "text": [
      "file written: /home/mmiv-ml/data/ROIBrain_MICCAI_BraTS2020/BraTS20_Training_210/BraTS20_Training_210_BrainROIT1cwx2.nii.gz.\n",
      "file written: /home/mmiv-ml/data/ROIBrain_MICCAI_BraTS2020/BraTS20_Training_210/BraTS20_Training_210_BrainROIT1cwx1.nii.gz.\n",
      "(2, 240, 240, 155)\n"
     ]
    },
    {
     "name": "stderr",
     "output_type": "stream",
     "text": [
      " 57%|████████████████████████████████████████████████████                                       | 211/369 [06:17<04:39,  1.77s/it]"
     ]
    },
    {
     "name": "stdout",
     "output_type": "stream",
     "text": [
      "file written: /home/mmiv-ml/data/ROIBrain_MICCAI_BraTS2020/BraTS20_Training_211/BraTS20_Training_211_BrainROIT1cwx2.nii.gz.\n",
      "file written: /home/mmiv-ml/data/ROIBrain_MICCAI_BraTS2020/BraTS20_Training_211/BraTS20_Training_211_BrainROIT1cwx1.nii.gz.\n",
      "(2, 240, 240, 155)\n"
     ]
    },
    {
     "name": "stderr",
     "output_type": "stream",
     "text": [
      " 57%|████████████████████████████████████████████████████▎                                      | 212/369 [06:19<04:37,  1.77s/it]"
     ]
    },
    {
     "name": "stdout",
     "output_type": "stream",
     "text": [
      "file written: /home/mmiv-ml/data/ROIBrain_MICCAI_BraTS2020/BraTS20_Training_212/BraTS20_Training_212_BrainROIT1cwx2.nii.gz.\n",
      "file written: /home/mmiv-ml/data/ROIBrain_MICCAI_BraTS2020/BraTS20_Training_212/BraTS20_Training_212_BrainROIT1cwx1.nii.gz.\n",
      "(2, 240, 240, 155)\n"
     ]
    },
    {
     "name": "stderr",
     "output_type": "stream",
     "text": [
      " 58%|████████████████████████████████████████████████████▌                                      | 213/369 [06:21<04:35,  1.77s/it]"
     ]
    },
    {
     "name": "stdout",
     "output_type": "stream",
     "text": [
      "file written: /home/mmiv-ml/data/ROIBrain_MICCAI_BraTS2020/BraTS20_Training_213/BraTS20_Training_213_BrainROIT1cwx2.nii.gz.\n",
      "file written: /home/mmiv-ml/data/ROIBrain_MICCAI_BraTS2020/BraTS20_Training_213/BraTS20_Training_213_BrainROIT1cwx1.nii.gz.\n",
      "(2, 240, 240, 155)\n"
     ]
    },
    {
     "name": "stderr",
     "output_type": "stream",
     "text": [
      " 58%|████████████████████████████████████████████████████▊                                      | 214/369 [06:23<04:34,  1.77s/it]"
     ]
    },
    {
     "name": "stdout",
     "output_type": "stream",
     "text": [
      "file written: /home/mmiv-ml/data/ROIBrain_MICCAI_BraTS2020/BraTS20_Training_214/BraTS20_Training_214_BrainROIT1cwx2.nii.gz.\n",
      "file written: /home/mmiv-ml/data/ROIBrain_MICCAI_BraTS2020/BraTS20_Training_214/BraTS20_Training_214_BrainROIT1cwx1.nii.gz.\n",
      "(2, 240, 240, 155)\n"
     ]
    },
    {
     "name": "stderr",
     "output_type": "stream",
     "text": [
      " 58%|█████████████████████████████████████████████████████                                      | 215/369 [06:24<04:35,  1.79s/it]"
     ]
    },
    {
     "name": "stdout",
     "output_type": "stream",
     "text": [
      "file written: /home/mmiv-ml/data/ROIBrain_MICCAI_BraTS2020/BraTS20_Training_215/BraTS20_Training_215_BrainROIT1cwx2.nii.gz.\n",
      "file written: /home/mmiv-ml/data/ROIBrain_MICCAI_BraTS2020/BraTS20_Training_215/BraTS20_Training_215_BrainROIT1cwx1.nii.gz.\n",
      "(2, 240, 240, 155)\n"
     ]
    },
    {
     "name": "stderr",
     "output_type": "stream",
     "text": [
      " 59%|█████████████████████████████████████████████████████▎                                     | 216/369 [06:26<04:35,  1.80s/it]"
     ]
    },
    {
     "name": "stdout",
     "output_type": "stream",
     "text": [
      "file written: /home/mmiv-ml/data/ROIBrain_MICCAI_BraTS2020/BraTS20_Training_216/BraTS20_Training_216_BrainROIT1cwx2.nii.gz.\n",
      "file written: /home/mmiv-ml/data/ROIBrain_MICCAI_BraTS2020/BraTS20_Training_216/BraTS20_Training_216_BrainROIT1cwx1.nii.gz.\n",
      "(2, 240, 240, 155)\n"
     ]
    },
    {
     "name": "stderr",
     "output_type": "stream",
     "text": [
      " 59%|█████████████████████████████████████████████████████▌                                     | 217/369 [06:28<04:32,  1.79s/it]"
     ]
    },
    {
     "name": "stdout",
     "output_type": "stream",
     "text": [
      "file written: /home/mmiv-ml/data/ROIBrain_MICCAI_BraTS2020/BraTS20_Training_217/BraTS20_Training_217_BrainROIT1cwx2.nii.gz.\n",
      "file written: /home/mmiv-ml/data/ROIBrain_MICCAI_BraTS2020/BraTS20_Training_217/BraTS20_Training_217_BrainROIT1cwx1.nii.gz.\n",
      "(2, 240, 240, 155)\n"
     ]
    },
    {
     "name": "stderr",
     "output_type": "stream",
     "text": [
      " 59%|█████████████████████████████████████████████████████▊                                     | 218/369 [06:30<04:31,  1.80s/it]"
     ]
    },
    {
     "name": "stdout",
     "output_type": "stream",
     "text": [
      "file written: /home/mmiv-ml/data/ROIBrain_MICCAI_BraTS2020/BraTS20_Training_218/BraTS20_Training_218_BrainROIT1cwx2.nii.gz.\n",
      "file written: /home/mmiv-ml/data/ROIBrain_MICCAI_BraTS2020/BraTS20_Training_218/BraTS20_Training_218_BrainROIT1cwx1.nii.gz.\n",
      "(2, 240, 240, 155)\n"
     ]
    },
    {
     "name": "stderr",
     "output_type": "stream",
     "text": [
      " 59%|██████████████████████████████████████████████████████                                     | 219/369 [06:32<04:32,  1.82s/it]"
     ]
    },
    {
     "name": "stdout",
     "output_type": "stream",
     "text": [
      "file written: /home/mmiv-ml/data/ROIBrain_MICCAI_BraTS2020/BraTS20_Training_219/BraTS20_Training_219_BrainROIT1cwx2.nii.gz.\n",
      "file written: /home/mmiv-ml/data/ROIBrain_MICCAI_BraTS2020/BraTS20_Training_219/BraTS20_Training_219_BrainROIT1cwx1.nii.gz.\n",
      "(2, 240, 240, 155)\n"
     ]
    },
    {
     "name": "stderr",
     "output_type": "stream",
     "text": [
      " 60%|██████████████████████████████████████████████████████▎                                    | 220/369 [06:33<04:27,  1.80s/it]"
     ]
    },
    {
     "name": "stdout",
     "output_type": "stream",
     "text": [
      "file written: /home/mmiv-ml/data/ROIBrain_MICCAI_BraTS2020/BraTS20_Training_220/BraTS20_Training_220_BrainROIT1cwx2.nii.gz.\n",
      "file written: /home/mmiv-ml/data/ROIBrain_MICCAI_BraTS2020/BraTS20_Training_220/BraTS20_Training_220_BrainROIT1cwx1.nii.gz.\n",
      "(2, 240, 240, 155)\n"
     ]
    },
    {
     "name": "stderr",
     "output_type": "stream",
     "text": [
      " 60%|██████████████████████████████████████████████████████▌                                    | 221/369 [06:35<04:24,  1.79s/it]"
     ]
    },
    {
     "name": "stdout",
     "output_type": "stream",
     "text": [
      "file written: /home/mmiv-ml/data/ROIBrain_MICCAI_BraTS2020/BraTS20_Training_221/BraTS20_Training_221_BrainROIT1cwx2.nii.gz.\n",
      "file written: /home/mmiv-ml/data/ROIBrain_MICCAI_BraTS2020/BraTS20_Training_221/BraTS20_Training_221_BrainROIT1cwx1.nii.gz.\n",
      "(2, 240, 240, 155)\n"
     ]
    },
    {
     "name": "stderr",
     "output_type": "stream",
     "text": [
      " 60%|██████████████████████████████████████████████████████▋                                    | 222/369 [06:37<04:21,  1.78s/it]"
     ]
    },
    {
     "name": "stdout",
     "output_type": "stream",
     "text": [
      "file written: /home/mmiv-ml/data/ROIBrain_MICCAI_BraTS2020/BraTS20_Training_222/BraTS20_Training_222_BrainROIT1cwx2.nii.gz.\n",
      "file written: /home/mmiv-ml/data/ROIBrain_MICCAI_BraTS2020/BraTS20_Training_222/BraTS20_Training_222_BrainROIT1cwx1.nii.gz.\n",
      "(2, 240, 240, 155)\n"
     ]
    },
    {
     "name": "stderr",
     "output_type": "stream",
     "text": [
      " 60%|██████████████████████████████████████████████████████▉                                    | 223/369 [06:39<04:19,  1.78s/it]"
     ]
    },
    {
     "name": "stdout",
     "output_type": "stream",
     "text": [
      "file written: /home/mmiv-ml/data/ROIBrain_MICCAI_BraTS2020/BraTS20_Training_223/BraTS20_Training_223_BrainROIT1cwx2.nii.gz.\n",
      "file written: /home/mmiv-ml/data/ROIBrain_MICCAI_BraTS2020/BraTS20_Training_223/BraTS20_Training_223_BrainROIT1cwx1.nii.gz.\n",
      "(2, 240, 240, 155)\n"
     ]
    },
    {
     "name": "stderr",
     "output_type": "stream",
     "text": [
      " 61%|███████████████████████████████████████████████████████▏                                   | 224/369 [06:40<04:16,  1.77s/it]"
     ]
    },
    {
     "name": "stdout",
     "output_type": "stream",
     "text": [
      "file written: /home/mmiv-ml/data/ROIBrain_MICCAI_BraTS2020/BraTS20_Training_224/BraTS20_Training_224_BrainROIT1cwx2.nii.gz.\n",
      "file written: /home/mmiv-ml/data/ROIBrain_MICCAI_BraTS2020/BraTS20_Training_224/BraTS20_Training_224_BrainROIT1cwx1.nii.gz.\n",
      "(2, 240, 240, 155)\n"
     ]
    },
    {
     "name": "stderr",
     "output_type": "stream",
     "text": [
      " 61%|███████████████████████████████████████████████████████▍                                   | 225/369 [06:42<04:17,  1.78s/it]"
     ]
    },
    {
     "name": "stdout",
     "output_type": "stream",
     "text": [
      "file written: /home/mmiv-ml/data/ROIBrain_MICCAI_BraTS2020/BraTS20_Training_225/BraTS20_Training_225_BrainROIT1cwx2.nii.gz.\n",
      "file written: /home/mmiv-ml/data/ROIBrain_MICCAI_BraTS2020/BraTS20_Training_225/BraTS20_Training_225_BrainROIT1cwx1.nii.gz.\n",
      "(2, 240, 240, 155)\n"
     ]
    },
    {
     "name": "stderr",
     "output_type": "stream",
     "text": [
      " 61%|███████████████████████████████████████████████████████▋                                   | 226/369 [06:44<04:16,  1.79s/it]"
     ]
    },
    {
     "name": "stdout",
     "output_type": "stream",
     "text": [
      "file written: /home/mmiv-ml/data/ROIBrain_MICCAI_BraTS2020/BraTS20_Training_226/BraTS20_Training_226_BrainROIT1cwx2.nii.gz.\n",
      "file written: /home/mmiv-ml/data/ROIBrain_MICCAI_BraTS2020/BraTS20_Training_226/BraTS20_Training_226_BrainROIT1cwx1.nii.gz.\n",
      "(2, 240, 240, 155)\n"
     ]
    },
    {
     "name": "stderr",
     "output_type": "stream",
     "text": [
      " 62%|███████████████████████████████████████████████████████▉                                   | 227/369 [06:46<04:13,  1.78s/it]"
     ]
    },
    {
     "name": "stdout",
     "output_type": "stream",
     "text": [
      "file written: /home/mmiv-ml/data/ROIBrain_MICCAI_BraTS2020/BraTS20_Training_227/BraTS20_Training_227_BrainROIT1cwx2.nii.gz.\n",
      "file written: /home/mmiv-ml/data/ROIBrain_MICCAI_BraTS2020/BraTS20_Training_227/BraTS20_Training_227_BrainROIT1cwx1.nii.gz.\n",
      "(2, 240, 240, 155)\n"
     ]
    },
    {
     "name": "stderr",
     "output_type": "stream",
     "text": [
      " 62%|████████████████████████████████████████████████████████▏                                  | 228/369 [06:48<04:11,  1.79s/it]"
     ]
    },
    {
     "name": "stdout",
     "output_type": "stream",
     "text": [
      "file written: /home/mmiv-ml/data/ROIBrain_MICCAI_BraTS2020/BraTS20_Training_228/BraTS20_Training_228_BrainROIT1cwx2.nii.gz.\n",
      "file written: /home/mmiv-ml/data/ROIBrain_MICCAI_BraTS2020/BraTS20_Training_228/BraTS20_Training_228_BrainROIT1cwx1.nii.gz.\n",
      "(2, 240, 240, 155)\n"
     ]
    },
    {
     "name": "stderr",
     "output_type": "stream",
     "text": [
      " 62%|████████████████████████████████████████████████████████▍                                  | 229/369 [06:49<04:11,  1.79s/it]"
     ]
    },
    {
     "name": "stdout",
     "output_type": "stream",
     "text": [
      "file written: /home/mmiv-ml/data/ROIBrain_MICCAI_BraTS2020/BraTS20_Training_229/BraTS20_Training_229_BrainROIT1cwx2.nii.gz.\n",
      "file written: /home/mmiv-ml/data/ROIBrain_MICCAI_BraTS2020/BraTS20_Training_229/BraTS20_Training_229_BrainROIT1cwx1.nii.gz.\n",
      "(2, 240, 240, 155)\n"
     ]
    },
    {
     "name": "stderr",
     "output_type": "stream",
     "text": [
      " 62%|████████████████████████████████████████████████████████▋                                  | 230/369 [06:51<04:10,  1.80s/it]"
     ]
    },
    {
     "name": "stdout",
     "output_type": "stream",
     "text": [
      "file written: /home/mmiv-ml/data/ROIBrain_MICCAI_BraTS2020/BraTS20_Training_230/BraTS20_Training_230_BrainROIT1cwx2.nii.gz.\n",
      "file written: /home/mmiv-ml/data/ROIBrain_MICCAI_BraTS2020/BraTS20_Training_230/BraTS20_Training_230_BrainROIT1cwx1.nii.gz.\n",
      "(2, 240, 240, 155)\n"
     ]
    },
    {
     "name": "stderr",
     "output_type": "stream",
     "text": [
      " 63%|████████████████████████████████████████████████████████▉                                  | 231/369 [06:53<04:07,  1.79s/it]"
     ]
    },
    {
     "name": "stdout",
     "output_type": "stream",
     "text": [
      "file written: /home/mmiv-ml/data/ROIBrain_MICCAI_BraTS2020/BraTS20_Training_231/BraTS20_Training_231_BrainROIT1cwx2.nii.gz.\n",
      "file written: /home/mmiv-ml/data/ROIBrain_MICCAI_BraTS2020/BraTS20_Training_231/BraTS20_Training_231_BrainROIT1cwx1.nii.gz.\n",
      "(2, 240, 240, 155)\n"
     ]
    },
    {
     "name": "stderr",
     "output_type": "stream",
     "text": [
      " 63%|█████████████████████████████████████████████████████████▏                                 | 232/369 [06:55<04:03,  1.78s/it]"
     ]
    },
    {
     "name": "stdout",
     "output_type": "stream",
     "text": [
      "file written: /home/mmiv-ml/data/ROIBrain_MICCAI_BraTS2020/BraTS20_Training_232/BraTS20_Training_232_BrainROIT1cwx2.nii.gz.\n",
      "file written: /home/mmiv-ml/data/ROIBrain_MICCAI_BraTS2020/BraTS20_Training_232/BraTS20_Training_232_BrainROIT1cwx1.nii.gz.\n",
      "(2, 240, 240, 155)\n"
     ]
    },
    {
     "name": "stderr",
     "output_type": "stream",
     "text": [
      " 63%|█████████████████████████████████████████████████████████▍                                 | 233/369 [06:57<04:02,  1.78s/it]"
     ]
    },
    {
     "name": "stdout",
     "output_type": "stream",
     "text": [
      "file written: /home/mmiv-ml/data/ROIBrain_MICCAI_BraTS2020/BraTS20_Training_233/BraTS20_Training_233_BrainROIT1cwx2.nii.gz.\n",
      "file written: /home/mmiv-ml/data/ROIBrain_MICCAI_BraTS2020/BraTS20_Training_233/BraTS20_Training_233_BrainROIT1cwx1.nii.gz.\n",
      "(2, 240, 240, 155)\n"
     ]
    },
    {
     "name": "stderr",
     "output_type": "stream",
     "text": [
      " 63%|█████████████████████████████████████████████████████████▋                                 | 234/369 [06:58<04:01,  1.79s/it]"
     ]
    },
    {
     "name": "stdout",
     "output_type": "stream",
     "text": [
      "file written: /home/mmiv-ml/data/ROIBrain_MICCAI_BraTS2020/BraTS20_Training_234/BraTS20_Training_234_BrainROIT1cwx2.nii.gz.\n",
      "file written: /home/mmiv-ml/data/ROIBrain_MICCAI_BraTS2020/BraTS20_Training_234/BraTS20_Training_234_BrainROIT1cwx1.nii.gz.\n",
      "(2, 240, 240, 155)\n"
     ]
    },
    {
     "name": "stderr",
     "output_type": "stream",
     "text": [
      " 64%|█████████████████████████████████████████████████████████▉                                 | 235/369 [07:00<03:57,  1.77s/it]"
     ]
    },
    {
     "name": "stdout",
     "output_type": "stream",
     "text": [
      "file written: /home/mmiv-ml/data/ROIBrain_MICCAI_BraTS2020/BraTS20_Training_235/BraTS20_Training_235_BrainROIT1cwx2.nii.gz.\n",
      "file written: /home/mmiv-ml/data/ROIBrain_MICCAI_BraTS2020/BraTS20_Training_235/BraTS20_Training_235_BrainROIT1cwx1.nii.gz.\n",
      "(2, 240, 240, 155)\n"
     ]
    },
    {
     "name": "stderr",
     "output_type": "stream",
     "text": [
      " 64%|██████████████████████████████████████████████████████████▏                                | 236/369 [07:02<03:56,  1.78s/it]"
     ]
    },
    {
     "name": "stdout",
     "output_type": "stream",
     "text": [
      "file written: /home/mmiv-ml/data/ROIBrain_MICCAI_BraTS2020/BraTS20_Training_236/BraTS20_Training_236_BrainROIT1cwx2.nii.gz.\n",
      "file written: /home/mmiv-ml/data/ROIBrain_MICCAI_BraTS2020/BraTS20_Training_236/BraTS20_Training_236_BrainROIT1cwx1.nii.gz.\n",
      "(2, 240, 240, 155)\n"
     ]
    },
    {
     "name": "stderr",
     "output_type": "stream",
     "text": [
      " 64%|██████████████████████████████████████████████████████████▍                                | 237/369 [07:04<03:55,  1.79s/it]"
     ]
    },
    {
     "name": "stdout",
     "output_type": "stream",
     "text": [
      "file written: /home/mmiv-ml/data/ROIBrain_MICCAI_BraTS2020/BraTS20_Training_237/BraTS20_Training_237_BrainROIT1cwx2.nii.gz.\n",
      "file written: /home/mmiv-ml/data/ROIBrain_MICCAI_BraTS2020/BraTS20_Training_237/BraTS20_Training_237_BrainROIT1cwx1.nii.gz.\n",
      "(2, 240, 240, 155)\n"
     ]
    },
    {
     "name": "stderr",
     "output_type": "stream",
     "text": [
      " 64%|██████████████████████████████████████████████████████████▋                                | 238/369 [07:06<03:55,  1.80s/it]"
     ]
    },
    {
     "name": "stdout",
     "output_type": "stream",
     "text": [
      "file written: /home/mmiv-ml/data/ROIBrain_MICCAI_BraTS2020/BraTS20_Training_238/BraTS20_Training_238_BrainROIT1cwx2.nii.gz.\n",
      "file written: /home/mmiv-ml/data/ROIBrain_MICCAI_BraTS2020/BraTS20_Training_238/BraTS20_Training_238_BrainROIT1cwx1.nii.gz.\n",
      "(2, 240, 240, 155)\n"
     ]
    },
    {
     "name": "stderr",
     "output_type": "stream",
     "text": [
      " 65%|██████████████████████████████████████████████████████████▉                                | 239/369 [07:07<03:52,  1.79s/it]"
     ]
    },
    {
     "name": "stdout",
     "output_type": "stream",
     "text": [
      "file written: /home/mmiv-ml/data/ROIBrain_MICCAI_BraTS2020/BraTS20_Training_239/BraTS20_Training_239_BrainROIT1cwx2.nii.gz.\n",
      "file written: /home/mmiv-ml/data/ROIBrain_MICCAI_BraTS2020/BraTS20_Training_239/BraTS20_Training_239_BrainROIT1cwx1.nii.gz.\n",
      "(2, 240, 240, 155)\n"
     ]
    },
    {
     "name": "stderr",
     "output_type": "stream",
     "text": [
      " 65%|███████████████████████████████████████████████████████████▏                               | 240/369 [07:09<03:53,  1.81s/it]"
     ]
    },
    {
     "name": "stdout",
     "output_type": "stream",
     "text": [
      "file written: /home/mmiv-ml/data/ROIBrain_MICCAI_BraTS2020/BraTS20_Training_240/BraTS20_Training_240_BrainROIT1cwx2.nii.gz.\n",
      "file written: /home/mmiv-ml/data/ROIBrain_MICCAI_BraTS2020/BraTS20_Training_240/BraTS20_Training_240_BrainROIT1cwx1.nii.gz.\n",
      "(2, 240, 240, 155)\n"
     ]
    },
    {
     "name": "stderr",
     "output_type": "stream",
     "text": [
      " 65%|███████████████████████████████████████████████████████████▍                               | 241/369 [07:11<03:49,  1.79s/it]"
     ]
    },
    {
     "name": "stdout",
     "output_type": "stream",
     "text": [
      "file written: /home/mmiv-ml/data/ROIBrain_MICCAI_BraTS2020/BraTS20_Training_241/BraTS20_Training_241_BrainROIT1cwx2.nii.gz.\n",
      "file written: /home/mmiv-ml/data/ROIBrain_MICCAI_BraTS2020/BraTS20_Training_241/BraTS20_Training_241_BrainROIT1cwx1.nii.gz.\n",
      "(2, 240, 240, 155)\n"
     ]
    },
    {
     "name": "stderr",
     "output_type": "stream",
     "text": [
      " 66%|███████████████████████████████████████████████████████████▋                               | 242/369 [07:13<03:48,  1.80s/it]"
     ]
    },
    {
     "name": "stdout",
     "output_type": "stream",
     "text": [
      "file written: /home/mmiv-ml/data/ROIBrain_MICCAI_BraTS2020/BraTS20_Training_242/BraTS20_Training_242_BrainROIT1cwx2.nii.gz.\n",
      "file written: /home/mmiv-ml/data/ROIBrain_MICCAI_BraTS2020/BraTS20_Training_242/BraTS20_Training_242_BrainROIT1cwx1.nii.gz.\n",
      "(2, 240, 240, 155)\n"
     ]
    },
    {
     "name": "stderr",
     "output_type": "stream",
     "text": [
      " 66%|███████████████████████████████████████████████████████████▉                               | 243/369 [07:15<03:47,  1.81s/it]"
     ]
    },
    {
     "name": "stdout",
     "output_type": "stream",
     "text": [
      "file written: /home/mmiv-ml/data/ROIBrain_MICCAI_BraTS2020/BraTS20_Training_243/BraTS20_Training_243_BrainROIT1cwx2.nii.gz.\n",
      "file written: /home/mmiv-ml/data/ROIBrain_MICCAI_BraTS2020/BraTS20_Training_243/BraTS20_Training_243_BrainROIT1cwx1.nii.gz.\n",
      "(2, 240, 240, 155)\n"
     ]
    },
    {
     "name": "stderr",
     "output_type": "stream",
     "text": [
      " 66%|████████████████████████████████████████████████████████████▏                              | 244/369 [07:16<03:43,  1.79s/it]"
     ]
    },
    {
     "name": "stdout",
     "output_type": "stream",
     "text": [
      "file written: /home/mmiv-ml/data/ROIBrain_MICCAI_BraTS2020/BraTS20_Training_244/BraTS20_Training_244_BrainROIT1cwx2.nii.gz.\n",
      "file written: /home/mmiv-ml/data/ROIBrain_MICCAI_BraTS2020/BraTS20_Training_244/BraTS20_Training_244_BrainROIT1cwx1.nii.gz.\n",
      "(2, 240, 240, 155)\n"
     ]
    },
    {
     "name": "stderr",
     "output_type": "stream",
     "text": [
      " 66%|████████████████████████████████████████████████████████████▍                              | 245/369 [07:18<03:40,  1.78s/it]"
     ]
    },
    {
     "name": "stdout",
     "output_type": "stream",
     "text": [
      "file written: /home/mmiv-ml/data/ROIBrain_MICCAI_BraTS2020/BraTS20_Training_245/BraTS20_Training_245_BrainROIT1cwx2.nii.gz.\n",
      "file written: /home/mmiv-ml/data/ROIBrain_MICCAI_BraTS2020/BraTS20_Training_245/BraTS20_Training_245_BrainROIT1cwx1.nii.gz.\n",
      "(2, 240, 240, 155)\n"
     ]
    },
    {
     "name": "stderr",
     "output_type": "stream",
     "text": [
      " 67%|████████████████████████████████████████████████████████████▋                              | 246/369 [07:20<03:38,  1.77s/it]"
     ]
    },
    {
     "name": "stdout",
     "output_type": "stream",
     "text": [
      "file written: /home/mmiv-ml/data/ROIBrain_MICCAI_BraTS2020/BraTS20_Training_246/BraTS20_Training_246_BrainROIT1cwx2.nii.gz.\n",
      "file written: /home/mmiv-ml/data/ROIBrain_MICCAI_BraTS2020/BraTS20_Training_246/BraTS20_Training_246_BrainROIT1cwx1.nii.gz.\n",
      "(2, 240, 240, 155)\n"
     ]
    },
    {
     "name": "stderr",
     "output_type": "stream",
     "text": [
      " 67%|████████████████████████████████████████████████████████████▉                              | 247/369 [07:22<03:35,  1.77s/it]"
     ]
    },
    {
     "name": "stdout",
     "output_type": "stream",
     "text": [
      "file written: /home/mmiv-ml/data/ROIBrain_MICCAI_BraTS2020/BraTS20_Training_247/BraTS20_Training_247_BrainROIT1cwx2.nii.gz.\n",
      "file written: /home/mmiv-ml/data/ROIBrain_MICCAI_BraTS2020/BraTS20_Training_247/BraTS20_Training_247_BrainROIT1cwx1.nii.gz.\n",
      "(2, 240, 240, 155)\n"
     ]
    },
    {
     "name": "stderr",
     "output_type": "stream",
     "text": [
      " 67%|█████████████████████████████████████████████████████████████▏                             | 248/369 [07:23<03:34,  1.78s/it]"
     ]
    },
    {
     "name": "stdout",
     "output_type": "stream",
     "text": [
      "file written: /home/mmiv-ml/data/ROIBrain_MICCAI_BraTS2020/BraTS20_Training_248/BraTS20_Training_248_BrainROIT1cwx2.nii.gz.\n",
      "file written: /home/mmiv-ml/data/ROIBrain_MICCAI_BraTS2020/BraTS20_Training_248/BraTS20_Training_248_BrainROIT1cwx1.nii.gz.\n",
      "(2, 240, 240, 155)\n"
     ]
    },
    {
     "name": "stderr",
     "output_type": "stream",
     "text": [
      " 67%|█████████████████████████████████████████████████████████████▍                             | 249/369 [07:25<03:31,  1.77s/it]"
     ]
    },
    {
     "name": "stdout",
     "output_type": "stream",
     "text": [
      "file written: /home/mmiv-ml/data/ROIBrain_MICCAI_BraTS2020/BraTS20_Training_249/BraTS20_Training_249_BrainROIT1cwx2.nii.gz.\n",
      "file written: /home/mmiv-ml/data/ROIBrain_MICCAI_BraTS2020/BraTS20_Training_249/BraTS20_Training_249_BrainROIT1cwx1.nii.gz.\n",
      "(2, 240, 240, 155)\n"
     ]
    },
    {
     "name": "stderr",
     "output_type": "stream",
     "text": [
      " 68%|█████████████████████████████████████████████████████████████▋                             | 250/369 [07:27<03:31,  1.78s/it]"
     ]
    },
    {
     "name": "stdout",
     "output_type": "stream",
     "text": [
      "file written: /home/mmiv-ml/data/ROIBrain_MICCAI_BraTS2020/BraTS20_Training_250/BraTS20_Training_250_BrainROIT1cwx2.nii.gz.\n",
      "file written: /home/mmiv-ml/data/ROIBrain_MICCAI_BraTS2020/BraTS20_Training_250/BraTS20_Training_250_BrainROIT1cwx1.nii.gz.\n",
      "(2, 240, 240, 155)\n"
     ]
    },
    {
     "name": "stderr",
     "output_type": "stream",
     "text": [
      " 68%|█████████████████████████████████████████████████████████████▉                             | 251/369 [07:29<03:28,  1.77s/it]"
     ]
    },
    {
     "name": "stdout",
     "output_type": "stream",
     "text": [
      "file written: /home/mmiv-ml/data/ROIBrain_MICCAI_BraTS2020/BraTS20_Training_251/BraTS20_Training_251_BrainROIT1cwx2.nii.gz.\n",
      "file written: /home/mmiv-ml/data/ROIBrain_MICCAI_BraTS2020/BraTS20_Training_251/BraTS20_Training_251_BrainROIT1cwx1.nii.gz.\n",
      "(2, 240, 240, 155)\n"
     ]
    },
    {
     "name": "stderr",
     "output_type": "stream",
     "text": [
      " 68%|██████████████████████████████████████████████████████████████▏                            | 252/369 [07:31<03:28,  1.78s/it]"
     ]
    },
    {
     "name": "stdout",
     "output_type": "stream",
     "text": [
      "file written: /home/mmiv-ml/data/ROIBrain_MICCAI_BraTS2020/BraTS20_Training_252/BraTS20_Training_252_BrainROIT1cwx2.nii.gz.\n",
      "file written: /home/mmiv-ml/data/ROIBrain_MICCAI_BraTS2020/BraTS20_Training_252/BraTS20_Training_252_BrainROIT1cwx1.nii.gz.\n",
      "(2, 240, 240, 155)\n"
     ]
    },
    {
     "name": "stderr",
     "output_type": "stream",
     "text": [
      " 69%|██████████████████████████████████████████████████████████████▍                            | 253/369 [07:32<03:27,  1.79s/it]"
     ]
    },
    {
     "name": "stdout",
     "output_type": "stream",
     "text": [
      "file written: /home/mmiv-ml/data/ROIBrain_MICCAI_BraTS2020/BraTS20_Training_253/BraTS20_Training_253_BrainROIT1cwx2.nii.gz.\n",
      "file written: /home/mmiv-ml/data/ROIBrain_MICCAI_BraTS2020/BraTS20_Training_253/BraTS20_Training_253_BrainROIT1cwx1.nii.gz.\n",
      "(2, 240, 240, 155)\n"
     ]
    },
    {
     "name": "stderr",
     "output_type": "stream",
     "text": [
      " 69%|██████████████████████████████████████████████████████████████▋                            | 254/369 [07:34<03:25,  1.78s/it]"
     ]
    },
    {
     "name": "stdout",
     "output_type": "stream",
     "text": [
      "file written: /home/mmiv-ml/data/ROIBrain_MICCAI_BraTS2020/BraTS20_Training_254/BraTS20_Training_254_BrainROIT1cwx2.nii.gz.\n",
      "file written: /home/mmiv-ml/data/ROIBrain_MICCAI_BraTS2020/BraTS20_Training_254/BraTS20_Training_254_BrainROIT1cwx1.nii.gz.\n",
      "(2, 240, 240, 155)\n"
     ]
    },
    {
     "name": "stderr",
     "output_type": "stream",
     "text": [
      " 69%|██████████████████████████████████████████████████████████████▉                            | 255/369 [07:36<03:23,  1.78s/it]"
     ]
    },
    {
     "name": "stdout",
     "output_type": "stream",
     "text": [
      "file written: /home/mmiv-ml/data/ROIBrain_MICCAI_BraTS2020/BraTS20_Training_255/BraTS20_Training_255_BrainROIT1cwx2.nii.gz.\n",
      "file written: /home/mmiv-ml/data/ROIBrain_MICCAI_BraTS2020/BraTS20_Training_255/BraTS20_Training_255_BrainROIT1cwx1.nii.gz.\n",
      "(2, 240, 240, 155)\n"
     ]
    },
    {
     "name": "stderr",
     "output_type": "stream",
     "text": [
      " 69%|███████████████████████████████████████████████████████████████▏                           | 256/369 [07:38<03:22,  1.79s/it]"
     ]
    },
    {
     "name": "stdout",
     "output_type": "stream",
     "text": [
      "file written: /home/mmiv-ml/data/ROIBrain_MICCAI_BraTS2020/BraTS20_Training_256/BraTS20_Training_256_BrainROIT1cwx2.nii.gz.\n",
      "file written: /home/mmiv-ml/data/ROIBrain_MICCAI_BraTS2020/BraTS20_Training_256/BraTS20_Training_256_BrainROIT1cwx1.nii.gz.\n",
      "(2, 240, 240, 155)\n"
     ]
    },
    {
     "name": "stderr",
     "output_type": "stream",
     "text": [
      " 70%|███████████████████████████████████████████████████████████████▍                           | 257/369 [07:39<03:18,  1.77s/it]"
     ]
    },
    {
     "name": "stdout",
     "output_type": "stream",
     "text": [
      "file written: /home/mmiv-ml/data/ROIBrain_MICCAI_BraTS2020/BraTS20_Training_257/BraTS20_Training_257_BrainROIT1cwx2.nii.gz.\n",
      "file written: /home/mmiv-ml/data/ROIBrain_MICCAI_BraTS2020/BraTS20_Training_257/BraTS20_Training_257_BrainROIT1cwx1.nii.gz.\n",
      "(2, 240, 240, 155)\n"
     ]
    },
    {
     "name": "stderr",
     "output_type": "stream",
     "text": [
      " 70%|███████████████████████████████████████████████████████████████▋                           | 258/369 [07:41<03:17,  1.78s/it]"
     ]
    },
    {
     "name": "stdout",
     "output_type": "stream",
     "text": [
      "file written: /home/mmiv-ml/data/ROIBrain_MICCAI_BraTS2020/BraTS20_Training_258/BraTS20_Training_258_BrainROIT1cwx2.nii.gz.\n",
      "file written: /home/mmiv-ml/data/ROIBrain_MICCAI_BraTS2020/BraTS20_Training_258/BraTS20_Training_258_BrainROIT1cwx1.nii.gz.\n",
      "(2, 240, 240, 155)\n"
     ]
    },
    {
     "name": "stderr",
     "output_type": "stream",
     "text": [
      " 70%|███████████████████████████████████████████████████████████████▊                           | 259/369 [07:43<03:17,  1.79s/it]"
     ]
    },
    {
     "name": "stdout",
     "output_type": "stream",
     "text": [
      "file written: /home/mmiv-ml/data/ROIBrain_MICCAI_BraTS2020/BraTS20_Training_259/BraTS20_Training_259_BrainROIT1cwx2.nii.gz.\n",
      "file written: /home/mmiv-ml/data/ROIBrain_MICCAI_BraTS2020/BraTS20_Training_259/BraTS20_Training_259_BrainROIT1cwx1.nii.gz.\n",
      "(2, 240, 240, 155)\n"
     ]
    },
    {
     "name": "stderr",
     "output_type": "stream",
     "text": [
      " 70%|████████████████████████████████████████████████████████████████                           | 260/369 [07:45<03:16,  1.80s/it]"
     ]
    },
    {
     "name": "stdout",
     "output_type": "stream",
     "text": [
      "file written: /home/mmiv-ml/data/ROIBrain_MICCAI_BraTS2020/BraTS20_Training_260/BraTS20_Training_260_BrainROIT1cwx2.nii.gz.\n",
      "file written: /home/mmiv-ml/data/ROIBrain_MICCAI_BraTS2020/BraTS20_Training_260/BraTS20_Training_260_BrainROIT1cwx1.nii.gz.\n",
      "(2, 240, 240, 155)\n"
     ]
    },
    {
     "name": "stderr",
     "output_type": "stream",
     "text": [
      " 71%|████████████████████████████████████████████████████████████████▎                          | 261/369 [07:47<03:13,  1.79s/it]"
     ]
    },
    {
     "name": "stdout",
     "output_type": "stream",
     "text": [
      "file written: /home/mmiv-ml/data/ROIBrain_MICCAI_BraTS2020/BraTS20_Training_261/BraTS20_Training_261_BrainROIT1cwx2.nii.gz.\n",
      "file written: /home/mmiv-ml/data/ROIBrain_MICCAI_BraTS2020/BraTS20_Training_261/BraTS20_Training_261_BrainROIT1cwx1.nii.gz.\n",
      "(2, 240, 240, 155)\n"
     ]
    },
    {
     "name": "stderr",
     "output_type": "stream",
     "text": [
      " 71%|████████████████████████████████████████████████████████████████▌                          | 262/369 [07:48<03:12,  1.80s/it]"
     ]
    },
    {
     "name": "stdout",
     "output_type": "stream",
     "text": [
      "file written: /home/mmiv-ml/data/ROIBrain_MICCAI_BraTS2020/BraTS20_Training_262/BraTS20_Training_262_BrainROIT1cwx2.nii.gz.\n",
      "file written: /home/mmiv-ml/data/ROIBrain_MICCAI_BraTS2020/BraTS20_Training_262/BraTS20_Training_262_BrainROIT1cwx1.nii.gz.\n",
      "(2, 240, 240, 155)\n"
     ]
    },
    {
     "name": "stderr",
     "output_type": "stream",
     "text": [
      " 71%|████████████████████████████████████████████████████████████████▊                          | 263/369 [07:50<03:11,  1.81s/it]"
     ]
    },
    {
     "name": "stdout",
     "output_type": "stream",
     "text": [
      "file written: /home/mmiv-ml/data/ROIBrain_MICCAI_BraTS2020/BraTS20_Training_263/BraTS20_Training_263_BrainROIT1cwx2.nii.gz.\n",
      "file written: /home/mmiv-ml/data/ROIBrain_MICCAI_BraTS2020/BraTS20_Training_263/BraTS20_Training_263_BrainROIT1cwx1.nii.gz.\n",
      "(2, 240, 240, 155)\n"
     ]
    },
    {
     "name": "stderr",
     "output_type": "stream",
     "text": [
      " 72%|█████████████████████████████████████████████████████████████████                          | 264/369 [07:52<03:10,  1.82s/it]"
     ]
    },
    {
     "name": "stdout",
     "output_type": "stream",
     "text": [
      "file written: /home/mmiv-ml/data/ROIBrain_MICCAI_BraTS2020/BraTS20_Training_264/BraTS20_Training_264_BrainROIT1cwx2.nii.gz.\n",
      "file written: /home/mmiv-ml/data/ROIBrain_MICCAI_BraTS2020/BraTS20_Training_264/BraTS20_Training_264_BrainROIT1cwx1.nii.gz.\n",
      "(2, 240, 240, 155)\n"
     ]
    },
    {
     "name": "stderr",
     "output_type": "stream",
     "text": [
      " 72%|█████████████████████████████████████████████████████████████████▎                         | 265/369 [07:54<03:06,  1.80s/it]"
     ]
    },
    {
     "name": "stdout",
     "output_type": "stream",
     "text": [
      "file written: /home/mmiv-ml/data/ROIBrain_MICCAI_BraTS2020/BraTS20_Training_265/BraTS20_Training_265_BrainROIT1cwx2.nii.gz.\n",
      "file written: /home/mmiv-ml/data/ROIBrain_MICCAI_BraTS2020/BraTS20_Training_265/BraTS20_Training_265_BrainROIT1cwx1.nii.gz.\n",
      "(2, 240, 240, 155)\n"
     ]
    },
    {
     "name": "stderr",
     "output_type": "stream",
     "text": [
      " 72%|█████████████████████████████████████████████████████████████████▌                         | 266/369 [07:56<03:06,  1.81s/it]"
     ]
    },
    {
     "name": "stdout",
     "output_type": "stream",
     "text": [
      "file written: /home/mmiv-ml/data/ROIBrain_MICCAI_BraTS2020/BraTS20_Training_266/BraTS20_Training_266_BrainROIT1cwx2.nii.gz.\n",
      "file written: /home/mmiv-ml/data/ROIBrain_MICCAI_BraTS2020/BraTS20_Training_266/BraTS20_Training_266_BrainROIT1cwx1.nii.gz.\n",
      "(2, 240, 240, 155)\n"
     ]
    },
    {
     "name": "stderr",
     "output_type": "stream",
     "text": [
      " 72%|█████████████████████████████████████████████████████████████████▊                         | 267/369 [07:58<03:07,  1.83s/it]"
     ]
    },
    {
     "name": "stdout",
     "output_type": "stream",
     "text": [
      "file written: /home/mmiv-ml/data/ROIBrain_MICCAI_BraTS2020/BraTS20_Training_267/BraTS20_Training_267_BrainROIT1cwx2.nii.gz.\n",
      "file written: /home/mmiv-ml/data/ROIBrain_MICCAI_BraTS2020/BraTS20_Training_267/BraTS20_Training_267_BrainROIT1cwx1.nii.gz.\n",
      "(2, 240, 240, 155)\n"
     ]
    },
    {
     "name": "stderr",
     "output_type": "stream",
     "text": [
      " 73%|██████████████████████████████████████████████████████████████████                         | 268/369 [07:59<03:04,  1.83s/it]"
     ]
    },
    {
     "name": "stdout",
     "output_type": "stream",
     "text": [
      "file written: /home/mmiv-ml/data/ROIBrain_MICCAI_BraTS2020/BraTS20_Training_268/BraTS20_Training_268_BrainROIT1cwx2.nii.gz.\n",
      "file written: /home/mmiv-ml/data/ROIBrain_MICCAI_BraTS2020/BraTS20_Training_268/BraTS20_Training_268_BrainROIT1cwx1.nii.gz.\n",
      "(2, 240, 240, 155)\n"
     ]
    },
    {
     "name": "stderr",
     "output_type": "stream",
     "text": [
      " 73%|██████████████████████████████████████████████████████████████████▎                        | 269/369 [08:01<03:00,  1.80s/it]"
     ]
    },
    {
     "name": "stdout",
     "output_type": "stream",
     "text": [
      "file written: /home/mmiv-ml/data/ROIBrain_MICCAI_BraTS2020/BraTS20_Training_269/BraTS20_Training_269_BrainROIT1cwx2.nii.gz.\n",
      "file written: /home/mmiv-ml/data/ROIBrain_MICCAI_BraTS2020/BraTS20_Training_269/BraTS20_Training_269_BrainROIT1cwx1.nii.gz.\n",
      "(2, 240, 240, 155)\n"
     ]
    },
    {
     "name": "stderr",
     "output_type": "stream",
     "text": [
      " 73%|██████████████████████████████████████████████████████████████████▌                        | 270/369 [08:03<02:58,  1.80s/it]"
     ]
    },
    {
     "name": "stdout",
     "output_type": "stream",
     "text": [
      "file written: /home/mmiv-ml/data/ROIBrain_MICCAI_BraTS2020/BraTS20_Training_270/BraTS20_Training_270_BrainROIT1cwx2.nii.gz.\n",
      "file written: /home/mmiv-ml/data/ROIBrain_MICCAI_BraTS2020/BraTS20_Training_270/BraTS20_Training_270_BrainROIT1cwx1.nii.gz.\n",
      "(2, 240, 240, 155)\n"
     ]
    },
    {
     "name": "stderr",
     "output_type": "stream",
     "text": [
      " 73%|██████████████████████████████████████████████████████████████████▊                        | 271/369 [08:05<02:55,  1.79s/it]"
     ]
    },
    {
     "name": "stdout",
     "output_type": "stream",
     "text": [
      "file written: /home/mmiv-ml/data/ROIBrain_MICCAI_BraTS2020/BraTS20_Training_271/BraTS20_Training_271_BrainROIT1cwx2.nii.gz.\n",
      "file written: /home/mmiv-ml/data/ROIBrain_MICCAI_BraTS2020/BraTS20_Training_271/BraTS20_Training_271_BrainROIT1cwx1.nii.gz.\n",
      "(2, 240, 240, 155)\n"
     ]
    },
    {
     "name": "stderr",
     "output_type": "stream",
     "text": [
      " 74%|███████████████████████████████████████████████████████████████████                        | 272/369 [08:06<02:53,  1.78s/it]"
     ]
    },
    {
     "name": "stdout",
     "output_type": "stream",
     "text": [
      "file written: /home/mmiv-ml/data/ROIBrain_MICCAI_BraTS2020/BraTS20_Training_272/BraTS20_Training_272_BrainROIT1cwx2.nii.gz.\n",
      "file written: /home/mmiv-ml/data/ROIBrain_MICCAI_BraTS2020/BraTS20_Training_272/BraTS20_Training_272_BrainROIT1cwx1.nii.gz.\n",
      "(2, 240, 240, 155)\n"
     ]
    },
    {
     "name": "stderr",
     "output_type": "stream",
     "text": [
      " 74%|███████████████████████████████████████████████████████████████████▎                       | 273/369 [08:08<02:53,  1.80s/it]"
     ]
    },
    {
     "name": "stdout",
     "output_type": "stream",
     "text": [
      "file written: /home/mmiv-ml/data/ROIBrain_MICCAI_BraTS2020/BraTS20_Training_273/BraTS20_Training_273_BrainROIT1cwx2.nii.gz.\n",
      "file written: /home/mmiv-ml/data/ROIBrain_MICCAI_BraTS2020/BraTS20_Training_273/BraTS20_Training_273_BrainROIT1cwx1.nii.gz.\n",
      "(2, 240, 240, 155)\n"
     ]
    },
    {
     "name": "stderr",
     "output_type": "stream",
     "text": [
      " 74%|███████████████████████████████████████████████████████████████████▌                       | 274/369 [08:10<02:51,  1.81s/it]"
     ]
    },
    {
     "name": "stdout",
     "output_type": "stream",
     "text": [
      "file written: /home/mmiv-ml/data/ROIBrain_MICCAI_BraTS2020/BraTS20_Training_274/BraTS20_Training_274_BrainROIT1cwx2.nii.gz.\n",
      "file written: /home/mmiv-ml/data/ROIBrain_MICCAI_BraTS2020/BraTS20_Training_274/BraTS20_Training_274_BrainROIT1cwx1.nii.gz.\n",
      "(2, 240, 240, 155)\n"
     ]
    },
    {
     "name": "stderr",
     "output_type": "stream",
     "text": [
      " 75%|███████████████████████████████████████████████████████████████████▊                       | 275/369 [08:12<02:50,  1.82s/it]"
     ]
    },
    {
     "name": "stdout",
     "output_type": "stream",
     "text": [
      "file written: /home/mmiv-ml/data/ROIBrain_MICCAI_BraTS2020/BraTS20_Training_275/BraTS20_Training_275_BrainROIT1cwx2.nii.gz.\n",
      "file written: /home/mmiv-ml/data/ROIBrain_MICCAI_BraTS2020/BraTS20_Training_275/BraTS20_Training_275_BrainROIT1cwx1.nii.gz.\n",
      "(2, 240, 240, 155)\n"
     ]
    },
    {
     "name": "stderr",
     "output_type": "stream",
     "text": [
      " 75%|████████████████████████████████████████████████████████████████████                       | 276/369 [08:14<02:49,  1.82s/it]"
     ]
    },
    {
     "name": "stdout",
     "output_type": "stream",
     "text": [
      "file written: /home/mmiv-ml/data/ROIBrain_MICCAI_BraTS2020/BraTS20_Training_276/BraTS20_Training_276_BrainROIT1cwx2.nii.gz.\n",
      "file written: /home/mmiv-ml/data/ROIBrain_MICCAI_BraTS2020/BraTS20_Training_276/BraTS20_Training_276_BrainROIT1cwx1.nii.gz.\n",
      "(2, 240, 240, 155)\n"
     ]
    },
    {
     "name": "stderr",
     "output_type": "stream",
     "text": [
      " 75%|████████████████████████████████████████████████████████████████████▎                      | 277/369 [08:16<02:46,  1.81s/it]"
     ]
    },
    {
     "name": "stdout",
     "output_type": "stream",
     "text": [
      "file written: /home/mmiv-ml/data/ROIBrain_MICCAI_BraTS2020/BraTS20_Training_277/BraTS20_Training_277_BrainROIT1cwx2.nii.gz.\n",
      "file written: /home/mmiv-ml/data/ROIBrain_MICCAI_BraTS2020/BraTS20_Training_277/BraTS20_Training_277_BrainROIT1cwx1.nii.gz.\n",
      "(2, 240, 240, 155)\n"
     ]
    },
    {
     "name": "stderr",
     "output_type": "stream",
     "text": [
      " 75%|████████████████████████████████████████████████████████████████████▌                      | 278/369 [08:17<02:44,  1.81s/it]"
     ]
    },
    {
     "name": "stdout",
     "output_type": "stream",
     "text": [
      "file written: /home/mmiv-ml/data/ROIBrain_MICCAI_BraTS2020/BraTS20_Training_278/BraTS20_Training_278_BrainROIT1cwx2.nii.gz.\n",
      "file written: /home/mmiv-ml/data/ROIBrain_MICCAI_BraTS2020/BraTS20_Training_278/BraTS20_Training_278_BrainROIT1cwx1.nii.gz.\n",
      "(2, 240, 240, 155)\n"
     ]
    },
    {
     "name": "stderr",
     "output_type": "stream",
     "text": [
      " 76%|████████████████████████████████████████████████████████████████████▊                      | 279/369 [08:19<02:42,  1.81s/it]"
     ]
    },
    {
     "name": "stdout",
     "output_type": "stream",
     "text": [
      "file written: /home/mmiv-ml/data/ROIBrain_MICCAI_BraTS2020/BraTS20_Training_279/BraTS20_Training_279_BrainROIT1cwx2.nii.gz.\n",
      "file written: /home/mmiv-ml/data/ROIBrain_MICCAI_BraTS2020/BraTS20_Training_279/BraTS20_Training_279_BrainROIT1cwx1.nii.gz.\n",
      "(2, 240, 240, 155)\n"
     ]
    },
    {
     "name": "stderr",
     "output_type": "stream",
     "text": [
      " 76%|█████████████████████████████████████████████████████████████████████                      | 280/369 [08:21<02:41,  1.81s/it]"
     ]
    },
    {
     "name": "stdout",
     "output_type": "stream",
     "text": [
      "file written: /home/mmiv-ml/data/ROIBrain_MICCAI_BraTS2020/BraTS20_Training_280/BraTS20_Training_280_BrainROIT1cwx2.nii.gz.\n",
      "file written: /home/mmiv-ml/data/ROIBrain_MICCAI_BraTS2020/BraTS20_Training_280/BraTS20_Training_280_BrainROIT1cwx1.nii.gz.\n",
      "(2, 240, 240, 155)\n"
     ]
    },
    {
     "name": "stderr",
     "output_type": "stream",
     "text": [
      " 76%|█████████████████████████████████████████████████████████████████████▎                     | 281/369 [08:23<02:38,  1.81s/it]"
     ]
    },
    {
     "name": "stdout",
     "output_type": "stream",
     "text": [
      "file written: /home/mmiv-ml/data/ROIBrain_MICCAI_BraTS2020/BraTS20_Training_281/BraTS20_Training_281_BrainROIT1cwx2.nii.gz.\n",
      "file written: /home/mmiv-ml/data/ROIBrain_MICCAI_BraTS2020/BraTS20_Training_281/BraTS20_Training_281_BrainROIT1cwx1.nii.gz.\n",
      "(2, 240, 240, 155)\n"
     ]
    },
    {
     "name": "stderr",
     "output_type": "stream",
     "text": [
      " 76%|█████████████████████████████████████████████████████████████████████▌                     | 282/369 [08:25<02:36,  1.79s/it]"
     ]
    },
    {
     "name": "stdout",
     "output_type": "stream",
     "text": [
      "file written: /home/mmiv-ml/data/ROIBrain_MICCAI_BraTS2020/BraTS20_Training_282/BraTS20_Training_282_BrainROIT1cwx2.nii.gz.\n",
      "file written: /home/mmiv-ml/data/ROIBrain_MICCAI_BraTS2020/BraTS20_Training_282/BraTS20_Training_282_BrainROIT1cwx1.nii.gz.\n",
      "(2, 240, 240, 155)\n"
     ]
    },
    {
     "name": "stderr",
     "output_type": "stream",
     "text": [
      " 77%|█████████████████████████████████████████████████████████████████████▊                     | 283/369 [08:26<02:33,  1.78s/it]"
     ]
    },
    {
     "name": "stdout",
     "output_type": "stream",
     "text": [
      "file written: /home/mmiv-ml/data/ROIBrain_MICCAI_BraTS2020/BraTS20_Training_283/BraTS20_Training_283_BrainROIT1cwx2.nii.gz.\n",
      "file written: /home/mmiv-ml/data/ROIBrain_MICCAI_BraTS2020/BraTS20_Training_283/BraTS20_Training_283_BrainROIT1cwx1.nii.gz.\n",
      "(2, 240, 240, 155)\n"
     ]
    },
    {
     "name": "stderr",
     "output_type": "stream",
     "text": [
      " 77%|██████████████████████████████████████████████████████████████████████                     | 284/369 [08:28<02:32,  1.79s/it]"
     ]
    },
    {
     "name": "stdout",
     "output_type": "stream",
     "text": [
      "file written: /home/mmiv-ml/data/ROIBrain_MICCAI_BraTS2020/BraTS20_Training_284/BraTS20_Training_284_BrainROIT1cwx2.nii.gz.\n",
      "file written: /home/mmiv-ml/data/ROIBrain_MICCAI_BraTS2020/BraTS20_Training_284/BraTS20_Training_284_BrainROIT1cwx1.nii.gz.\n",
      "(2, 240, 240, 155)\n"
     ]
    },
    {
     "name": "stderr",
     "output_type": "stream",
     "text": [
      " 77%|██████████████████████████████████████████████████████████████████████▎                    | 285/369 [08:30<02:32,  1.82s/it]"
     ]
    },
    {
     "name": "stdout",
     "output_type": "stream",
     "text": [
      "file written: /home/mmiv-ml/data/ROIBrain_MICCAI_BraTS2020/BraTS20_Training_285/BraTS20_Training_285_BrainROIT1cwx2.nii.gz.\n",
      "file written: /home/mmiv-ml/data/ROIBrain_MICCAI_BraTS2020/BraTS20_Training_285/BraTS20_Training_285_BrainROIT1cwx1.nii.gz.\n",
      "(2, 240, 240, 155)\n"
     ]
    },
    {
     "name": "stderr",
     "output_type": "stream",
     "text": [
      " 78%|██████████████████████████████████████████████████████████████████████▌                    | 286/369 [08:32<02:30,  1.82s/it]"
     ]
    },
    {
     "name": "stdout",
     "output_type": "stream",
     "text": [
      "file written: /home/mmiv-ml/data/ROIBrain_MICCAI_BraTS2020/BraTS20_Training_286/BraTS20_Training_286_BrainROIT1cwx2.nii.gz.\n",
      "file written: /home/mmiv-ml/data/ROIBrain_MICCAI_BraTS2020/BraTS20_Training_286/BraTS20_Training_286_BrainROIT1cwx1.nii.gz.\n",
      "(2, 240, 240, 155)\n"
     ]
    },
    {
     "name": "stderr",
     "output_type": "stream",
     "text": [
      " 78%|██████████████████████████████████████████████████████████████████████▊                    | 287/369 [08:34<02:28,  1.81s/it]"
     ]
    },
    {
     "name": "stdout",
     "output_type": "stream",
     "text": [
      "file written: /home/mmiv-ml/data/ROIBrain_MICCAI_BraTS2020/BraTS20_Training_287/BraTS20_Training_287_BrainROIT1cwx2.nii.gz.\n",
      "file written: /home/mmiv-ml/data/ROIBrain_MICCAI_BraTS2020/BraTS20_Training_287/BraTS20_Training_287_BrainROIT1cwx1.nii.gz.\n",
      "(2, 240, 240, 155)\n"
     ]
    },
    {
     "name": "stderr",
     "output_type": "stream",
     "text": [
      " 78%|███████████████████████████████████████████████████████████████████████                    | 288/369 [08:35<02:26,  1.80s/it]"
     ]
    },
    {
     "name": "stdout",
     "output_type": "stream",
     "text": [
      "file written: /home/mmiv-ml/data/ROIBrain_MICCAI_BraTS2020/BraTS20_Training_288/BraTS20_Training_288_BrainROIT1cwx2.nii.gz.\n",
      "file written: /home/mmiv-ml/data/ROIBrain_MICCAI_BraTS2020/BraTS20_Training_288/BraTS20_Training_288_BrainROIT1cwx1.nii.gz.\n",
      "(2, 240, 240, 155)\n"
     ]
    },
    {
     "name": "stderr",
     "output_type": "stream",
     "text": [
      " 78%|███████████████████████████████████████████████████████████████████████▎                   | 289/369 [08:37<02:24,  1.81s/it]"
     ]
    },
    {
     "name": "stdout",
     "output_type": "stream",
     "text": [
      "file written: /home/mmiv-ml/data/ROIBrain_MICCAI_BraTS2020/BraTS20_Training_289/BraTS20_Training_289_BrainROIT1cwx2.nii.gz.\n",
      "file written: /home/mmiv-ml/data/ROIBrain_MICCAI_BraTS2020/BraTS20_Training_289/BraTS20_Training_289_BrainROIT1cwx1.nii.gz.\n",
      "(2, 240, 240, 155)\n"
     ]
    },
    {
     "name": "stderr",
     "output_type": "stream",
     "text": [
      " 79%|███████████████████████████████████████████████████████████████████████▌                   | 290/369 [08:39<02:21,  1.80s/it]"
     ]
    },
    {
     "name": "stdout",
     "output_type": "stream",
     "text": [
      "file written: /home/mmiv-ml/data/ROIBrain_MICCAI_BraTS2020/BraTS20_Training_290/BraTS20_Training_290_BrainROIT1cwx2.nii.gz.\n",
      "file written: /home/mmiv-ml/data/ROIBrain_MICCAI_BraTS2020/BraTS20_Training_290/BraTS20_Training_290_BrainROIT1cwx1.nii.gz.\n",
      "(2, 240, 240, 155)\n"
     ]
    },
    {
     "name": "stderr",
     "output_type": "stream",
     "text": [
      " 79%|███████████████████████████████████████████████████████████████████████▊                   | 291/369 [08:41<02:20,  1.80s/it]"
     ]
    },
    {
     "name": "stdout",
     "output_type": "stream",
     "text": [
      "file written: /home/mmiv-ml/data/ROIBrain_MICCAI_BraTS2020/BraTS20_Training_291/BraTS20_Training_291_BrainROIT1cwx2.nii.gz.\n",
      "file written: /home/mmiv-ml/data/ROIBrain_MICCAI_BraTS2020/BraTS20_Training_291/BraTS20_Training_291_BrainROIT1cwx1.nii.gz.\n",
      "(2, 240, 240, 155)\n"
     ]
    },
    {
     "name": "stderr",
     "output_type": "stream",
     "text": [
      " 79%|████████████████████████████████████████████████████████████████████████                   | 292/369 [08:43<02:17,  1.79s/it]"
     ]
    },
    {
     "name": "stdout",
     "output_type": "stream",
     "text": [
      "file written: /home/mmiv-ml/data/ROIBrain_MICCAI_BraTS2020/BraTS20_Training_292/BraTS20_Training_292_BrainROIT1cwx2.nii.gz.\n",
      "file written: /home/mmiv-ml/data/ROIBrain_MICCAI_BraTS2020/BraTS20_Training_292/BraTS20_Training_292_BrainROIT1cwx1.nii.gz.\n",
      "(2, 240, 240, 155)\n"
     ]
    },
    {
     "name": "stderr",
     "output_type": "stream",
     "text": [
      " 79%|████████████████████████████████████████████████████████████████████████▎                  | 293/369 [08:44<02:16,  1.80s/it]"
     ]
    },
    {
     "name": "stdout",
     "output_type": "stream",
     "text": [
      "file written: /home/mmiv-ml/data/ROIBrain_MICCAI_BraTS2020/BraTS20_Training_293/BraTS20_Training_293_BrainROIT1cwx2.nii.gz.\n",
      "file written: /home/mmiv-ml/data/ROIBrain_MICCAI_BraTS2020/BraTS20_Training_293/BraTS20_Training_293_BrainROIT1cwx1.nii.gz.\n",
      "(2, 240, 240, 155)\n"
     ]
    },
    {
     "name": "stderr",
     "output_type": "stream",
     "text": [
      " 80%|████████████████████████████████████████████████████████████████████████▌                  | 294/369 [08:46<02:15,  1.80s/it]"
     ]
    },
    {
     "name": "stdout",
     "output_type": "stream",
     "text": [
      "file written: /home/mmiv-ml/data/ROIBrain_MICCAI_BraTS2020/BraTS20_Training_294/BraTS20_Training_294_BrainROIT1cwx2.nii.gz.\n",
      "file written: /home/mmiv-ml/data/ROIBrain_MICCAI_BraTS2020/BraTS20_Training_294/BraTS20_Training_294_BrainROIT1cwx1.nii.gz.\n",
      "(2, 240, 240, 155)\n"
     ]
    },
    {
     "name": "stderr",
     "output_type": "stream",
     "text": [
      " 80%|████████████████████████████████████████████████████████████████████████▊                  | 295/369 [08:48<02:14,  1.81s/it]"
     ]
    },
    {
     "name": "stdout",
     "output_type": "stream",
     "text": [
      "file written: /home/mmiv-ml/data/ROIBrain_MICCAI_BraTS2020/BraTS20_Training_295/BraTS20_Training_295_BrainROIT1cwx2.nii.gz.\n",
      "file written: /home/mmiv-ml/data/ROIBrain_MICCAI_BraTS2020/BraTS20_Training_295/BraTS20_Training_295_BrainROIT1cwx1.nii.gz.\n",
      "(2, 240, 240, 155)\n"
     ]
    },
    {
     "name": "stderr",
     "output_type": "stream",
     "text": [
      " 80%|████████████████████████████████████████████████████████████████████████▉                  | 296/369 [08:50<02:11,  1.80s/it]"
     ]
    },
    {
     "name": "stdout",
     "output_type": "stream",
     "text": [
      "file written: /home/mmiv-ml/data/ROIBrain_MICCAI_BraTS2020/BraTS20_Training_296/BraTS20_Training_296_BrainROIT1cwx2.nii.gz.\n",
      "file written: /home/mmiv-ml/data/ROIBrain_MICCAI_BraTS2020/BraTS20_Training_296/BraTS20_Training_296_BrainROIT1cwx1.nii.gz.\n",
      "(2, 240, 240, 155)\n"
     ]
    },
    {
     "name": "stderr",
     "output_type": "stream",
     "text": [
      " 80%|█████████████████████████████████████████████████████████████████████████▏                 | 297/369 [08:52<02:08,  1.78s/it]"
     ]
    },
    {
     "name": "stdout",
     "output_type": "stream",
     "text": [
      "file written: /home/mmiv-ml/data/ROIBrain_MICCAI_BraTS2020/BraTS20_Training_297/BraTS20_Training_297_BrainROIT1cwx2.nii.gz.\n",
      "file written: /home/mmiv-ml/data/ROIBrain_MICCAI_BraTS2020/BraTS20_Training_297/BraTS20_Training_297_BrainROIT1cwx1.nii.gz.\n",
      "(2, 240, 240, 155)\n"
     ]
    },
    {
     "name": "stderr",
     "output_type": "stream",
     "text": [
      " 81%|█████████████████████████████████████████████████████████████████████████▍                 | 298/369 [08:53<02:06,  1.79s/it]"
     ]
    },
    {
     "name": "stdout",
     "output_type": "stream",
     "text": [
      "file written: /home/mmiv-ml/data/ROIBrain_MICCAI_BraTS2020/BraTS20_Training_298/BraTS20_Training_298_BrainROIT1cwx2.nii.gz.\n",
      "file written: /home/mmiv-ml/data/ROIBrain_MICCAI_BraTS2020/BraTS20_Training_298/BraTS20_Training_298_BrainROIT1cwx1.nii.gz.\n",
      "(2, 240, 240, 155)\n"
     ]
    },
    {
     "name": "stderr",
     "output_type": "stream",
     "text": [
      " 81%|█████████████████████████████████████████████████████████████████████████▋                 | 299/369 [08:55<02:05,  1.79s/it]"
     ]
    },
    {
     "name": "stdout",
     "output_type": "stream",
     "text": [
      "file written: /home/mmiv-ml/data/ROIBrain_MICCAI_BraTS2020/BraTS20_Training_299/BraTS20_Training_299_BrainROIT1cwx2.nii.gz.\n",
      "file written: /home/mmiv-ml/data/ROIBrain_MICCAI_BraTS2020/BraTS20_Training_299/BraTS20_Training_299_BrainROIT1cwx1.nii.gz.\n",
      "(2, 240, 240, 155)\n"
     ]
    },
    {
     "name": "stderr",
     "output_type": "stream",
     "text": [
      " 81%|█████████████████████████████████████████████████████████████████████████▉                 | 300/369 [08:57<02:03,  1.78s/it]"
     ]
    },
    {
     "name": "stdout",
     "output_type": "stream",
     "text": [
      "file written: /home/mmiv-ml/data/ROIBrain_MICCAI_BraTS2020/BraTS20_Training_300/BraTS20_Training_300_BrainROIT1cwx2.nii.gz.\n",
      "file written: /home/mmiv-ml/data/ROIBrain_MICCAI_BraTS2020/BraTS20_Training_300/BraTS20_Training_300_BrainROIT1cwx1.nii.gz.\n",
      "(2, 240, 240, 155)\n"
     ]
    },
    {
     "name": "stderr",
     "output_type": "stream",
     "text": [
      " 82%|██████████████████████████████████████████████████████████████████████████▏                | 301/369 [08:59<02:00,  1.78s/it]"
     ]
    },
    {
     "name": "stdout",
     "output_type": "stream",
     "text": [
      "file written: /home/mmiv-ml/data/ROIBrain_MICCAI_BraTS2020/BraTS20_Training_301/BraTS20_Training_301_BrainROIT1cwx2.nii.gz.\n",
      "file written: /home/mmiv-ml/data/ROIBrain_MICCAI_BraTS2020/BraTS20_Training_301/BraTS20_Training_301_BrainROIT1cwx1.nii.gz.\n",
      "(2, 240, 240, 155)\n"
     ]
    },
    {
     "name": "stderr",
     "output_type": "stream",
     "text": [
      " 82%|██████████████████████████████████████████████████████████████████████████▍                | 302/369 [09:00<01:58,  1.77s/it]"
     ]
    },
    {
     "name": "stdout",
     "output_type": "stream",
     "text": [
      "file written: /home/mmiv-ml/data/ROIBrain_MICCAI_BraTS2020/BraTS20_Training_302/BraTS20_Training_302_BrainROIT1cwx2.nii.gz.\n",
      "file written: /home/mmiv-ml/data/ROIBrain_MICCAI_BraTS2020/BraTS20_Training_302/BraTS20_Training_302_BrainROIT1cwx1.nii.gz.\n",
      "(2, 240, 240, 155)\n"
     ]
    },
    {
     "name": "stderr",
     "output_type": "stream",
     "text": [
      " 82%|██████████████████████████████████████████████████████████████████████████▋                | 303/369 [09:02<01:57,  1.79s/it]"
     ]
    },
    {
     "name": "stdout",
     "output_type": "stream",
     "text": [
      "file written: /home/mmiv-ml/data/ROIBrain_MICCAI_BraTS2020/BraTS20_Training_303/BraTS20_Training_303_BrainROIT1cwx2.nii.gz.\n",
      "file written: /home/mmiv-ml/data/ROIBrain_MICCAI_BraTS2020/BraTS20_Training_303/BraTS20_Training_303_BrainROIT1cwx1.nii.gz.\n",
      "(2, 240, 240, 155)\n"
     ]
    },
    {
     "name": "stderr",
     "output_type": "stream",
     "text": [
      " 82%|██████████████████████████████████████████████████████████████████████████▉                | 304/369 [09:04<01:55,  1.78s/it]"
     ]
    },
    {
     "name": "stdout",
     "output_type": "stream",
     "text": [
      "file written: /home/mmiv-ml/data/ROIBrain_MICCAI_BraTS2020/BraTS20_Training_304/BraTS20_Training_304_BrainROIT1cwx2.nii.gz.\n",
      "file written: /home/mmiv-ml/data/ROIBrain_MICCAI_BraTS2020/BraTS20_Training_304/BraTS20_Training_304_BrainROIT1cwx1.nii.gz.\n",
      "(2, 240, 240, 155)\n"
     ]
    },
    {
     "name": "stderr",
     "output_type": "stream",
     "text": [
      " 83%|███████████████████████████████████████████████████████████████████████████▏               | 305/369 [09:06<01:53,  1.78s/it]"
     ]
    },
    {
     "name": "stdout",
     "output_type": "stream",
     "text": [
      "file written: /home/mmiv-ml/data/ROIBrain_MICCAI_BraTS2020/BraTS20_Training_305/BraTS20_Training_305_BrainROIT1cwx2.nii.gz.\n",
      "file written: /home/mmiv-ml/data/ROIBrain_MICCAI_BraTS2020/BraTS20_Training_305/BraTS20_Training_305_BrainROIT1cwx1.nii.gz.\n",
      "(2, 240, 240, 155)\n"
     ]
    },
    {
     "name": "stderr",
     "output_type": "stream",
     "text": [
      " 83%|███████████████████████████████████████████████████████████████████████████▍               | 306/369 [09:08<01:52,  1.79s/it]"
     ]
    },
    {
     "name": "stdout",
     "output_type": "stream",
     "text": [
      "file written: /home/mmiv-ml/data/ROIBrain_MICCAI_BraTS2020/BraTS20_Training_306/BraTS20_Training_306_BrainROIT1cwx2.nii.gz.\n",
      "file written: /home/mmiv-ml/data/ROIBrain_MICCAI_BraTS2020/BraTS20_Training_306/BraTS20_Training_306_BrainROIT1cwx1.nii.gz.\n",
      "(2, 240, 240, 155)\n"
     ]
    },
    {
     "name": "stderr",
     "output_type": "stream",
     "text": [
      " 83%|███████████████████████████████████████████████████████████████████████████▋               | 307/369 [09:09<01:50,  1.78s/it]"
     ]
    },
    {
     "name": "stdout",
     "output_type": "stream",
     "text": [
      "file written: /home/mmiv-ml/data/ROIBrain_MICCAI_BraTS2020/BraTS20_Training_307/BraTS20_Training_307_BrainROIT1cwx2.nii.gz.\n",
      "file written: /home/mmiv-ml/data/ROIBrain_MICCAI_BraTS2020/BraTS20_Training_307/BraTS20_Training_307_BrainROIT1cwx1.nii.gz.\n",
      "(2, 240, 240, 155)\n"
     ]
    },
    {
     "name": "stderr",
     "output_type": "stream",
     "text": [
      " 83%|███████████████████████████████████████████████████████████████████████████▉               | 308/369 [09:11<01:50,  1.80s/it]"
     ]
    },
    {
     "name": "stdout",
     "output_type": "stream",
     "text": [
      "file written: /home/mmiv-ml/data/ROIBrain_MICCAI_BraTS2020/BraTS20_Training_308/BraTS20_Training_308_BrainROIT1cwx2.nii.gz.\n",
      "file written: /home/mmiv-ml/data/ROIBrain_MICCAI_BraTS2020/BraTS20_Training_308/BraTS20_Training_308_BrainROIT1cwx1.nii.gz.\n",
      "(2, 240, 240, 155)\n"
     ]
    },
    {
     "name": "stderr",
     "output_type": "stream",
     "text": [
      " 84%|████████████████████████████████████████████████████████████████████████████▏              | 309/369 [09:13<01:47,  1.79s/it]"
     ]
    },
    {
     "name": "stdout",
     "output_type": "stream",
     "text": [
      "file written: /home/mmiv-ml/data/ROIBrain_MICCAI_BraTS2020/BraTS20_Training_309/BraTS20_Training_309_BrainROIT1cwx2.nii.gz.\n",
      "file written: /home/mmiv-ml/data/ROIBrain_MICCAI_BraTS2020/BraTS20_Training_309/BraTS20_Training_309_BrainROIT1cwx1.nii.gz.\n",
      "(2, 240, 240, 155)\n"
     ]
    },
    {
     "name": "stderr",
     "output_type": "stream",
     "text": [
      " 84%|████████████████████████████████████████████████████████████████████████████▍              | 310/369 [09:15<01:44,  1.77s/it]"
     ]
    },
    {
     "name": "stdout",
     "output_type": "stream",
     "text": [
      "file written: /home/mmiv-ml/data/ROIBrain_MICCAI_BraTS2020/BraTS20_Training_310/BraTS20_Training_310_BrainROIT1cwx2.nii.gz.\n",
      "file written: /home/mmiv-ml/data/ROIBrain_MICCAI_BraTS2020/BraTS20_Training_310/BraTS20_Training_310_BrainROIT1cwx1.nii.gz.\n",
      "(2, 240, 240, 155)\n"
     ]
    },
    {
     "name": "stderr",
     "output_type": "stream",
     "text": [
      " 84%|████████████████████████████████████████████████████████████████████████████▋              | 311/369 [09:17<01:44,  1.80s/it]"
     ]
    },
    {
     "name": "stdout",
     "output_type": "stream",
     "text": [
      "file written: /home/mmiv-ml/data/ROIBrain_MICCAI_BraTS2020/BraTS20_Training_311/BraTS20_Training_311_BrainROIT1cwx2.nii.gz.\n",
      "file written: /home/mmiv-ml/data/ROIBrain_MICCAI_BraTS2020/BraTS20_Training_311/BraTS20_Training_311_BrainROIT1cwx1.nii.gz.\n",
      "(2, 240, 240, 155)\n"
     ]
    },
    {
     "name": "stderr",
     "output_type": "stream",
     "text": [
      " 85%|████████████████████████████████████████████████████████████████████████████▉              | 312/369 [09:18<01:41,  1.78s/it]"
     ]
    },
    {
     "name": "stdout",
     "output_type": "stream",
     "text": [
      "file written: /home/mmiv-ml/data/ROIBrain_MICCAI_BraTS2020/BraTS20_Training_312/BraTS20_Training_312_BrainROIT1cwx2.nii.gz.\n",
      "file written: /home/mmiv-ml/data/ROIBrain_MICCAI_BraTS2020/BraTS20_Training_312/BraTS20_Training_312_BrainROIT1cwx1.nii.gz.\n",
      "(2, 240, 240, 155)\n"
     ]
    },
    {
     "name": "stderr",
     "output_type": "stream",
     "text": [
      " 85%|█████████████████████████████████████████████████████████████████████████████▏             | 313/369 [09:20<01:39,  1.77s/it]"
     ]
    },
    {
     "name": "stdout",
     "output_type": "stream",
     "text": [
      "file written: /home/mmiv-ml/data/ROIBrain_MICCAI_BraTS2020/BraTS20_Training_313/BraTS20_Training_313_BrainROIT1cwx2.nii.gz.\n",
      "file written: /home/mmiv-ml/data/ROIBrain_MICCAI_BraTS2020/BraTS20_Training_313/BraTS20_Training_313_BrainROIT1cwx1.nii.gz.\n",
      "(2, 240, 240, 155)\n"
     ]
    },
    {
     "name": "stderr",
     "output_type": "stream",
     "text": [
      " 85%|█████████████████████████████████████████████████████████████████████████████▍             | 314/369 [09:22<01:37,  1.77s/it]"
     ]
    },
    {
     "name": "stdout",
     "output_type": "stream",
     "text": [
      "file written: /home/mmiv-ml/data/ROIBrain_MICCAI_BraTS2020/BraTS20_Training_314/BraTS20_Training_314_BrainROIT1cwx2.nii.gz.\n",
      "file written: /home/mmiv-ml/data/ROIBrain_MICCAI_BraTS2020/BraTS20_Training_314/BraTS20_Training_314_BrainROIT1cwx1.nii.gz.\n",
      "(2, 240, 240, 155)\n"
     ]
    },
    {
     "name": "stderr",
     "output_type": "stream",
     "text": [
      " 85%|█████████████████████████████████████████████████████████████████████████████▋             | 315/369 [09:24<01:35,  1.76s/it]"
     ]
    },
    {
     "name": "stdout",
     "output_type": "stream",
     "text": [
      "file written: /home/mmiv-ml/data/ROIBrain_MICCAI_BraTS2020/BraTS20_Training_315/BraTS20_Training_315_BrainROIT1cwx2.nii.gz.\n",
      "file written: /home/mmiv-ml/data/ROIBrain_MICCAI_BraTS2020/BraTS20_Training_315/BraTS20_Training_315_BrainROIT1cwx1.nii.gz.\n",
      "(2, 240, 240, 155)\n"
     ]
    },
    {
     "name": "stderr",
     "output_type": "stream",
     "text": [
      " 86%|█████████████████████████████████████████████████████████████████████████████▉             | 316/369 [09:25<01:34,  1.77s/it]"
     ]
    },
    {
     "name": "stdout",
     "output_type": "stream",
     "text": [
      "file written: /home/mmiv-ml/data/ROIBrain_MICCAI_BraTS2020/BraTS20_Training_316/BraTS20_Training_316_BrainROIT1cwx2.nii.gz.\n",
      "file written: /home/mmiv-ml/data/ROIBrain_MICCAI_BraTS2020/BraTS20_Training_316/BraTS20_Training_316_BrainROIT1cwx1.nii.gz.\n",
      "(2, 240, 240, 155)\n"
     ]
    },
    {
     "name": "stderr",
     "output_type": "stream",
     "text": [
      " 86%|██████████████████████████████████████████████████████████████████████████████▏            | 317/369 [09:27<01:32,  1.78s/it]"
     ]
    },
    {
     "name": "stdout",
     "output_type": "stream",
     "text": [
      "file written: /home/mmiv-ml/data/ROIBrain_MICCAI_BraTS2020/BraTS20_Training_317/BraTS20_Training_317_BrainROIT1cwx2.nii.gz.\n",
      "file written: /home/mmiv-ml/data/ROIBrain_MICCAI_BraTS2020/BraTS20_Training_317/BraTS20_Training_317_BrainROIT1cwx1.nii.gz.\n",
      "(2, 240, 240, 155)\n"
     ]
    },
    {
     "name": "stderr",
     "output_type": "stream",
     "text": [
      " 86%|██████████████████████████████████████████████████████████████████████████████▍            | 318/369 [09:29<01:31,  1.79s/it]"
     ]
    },
    {
     "name": "stdout",
     "output_type": "stream",
     "text": [
      "file written: /home/mmiv-ml/data/ROIBrain_MICCAI_BraTS2020/BraTS20_Training_318/BraTS20_Training_318_BrainROIT1cwx2.nii.gz.\n",
      "file written: /home/mmiv-ml/data/ROIBrain_MICCAI_BraTS2020/BraTS20_Training_318/BraTS20_Training_318_BrainROIT1cwx1.nii.gz.\n",
      "(2, 240, 240, 155)\n"
     ]
    },
    {
     "name": "stderr",
     "output_type": "stream",
     "text": [
      " 86%|██████████████████████████████████████████████████████████████████████████████▋            | 319/369 [09:31<01:30,  1.80s/it]"
     ]
    },
    {
     "name": "stdout",
     "output_type": "stream",
     "text": [
      "file written: /home/mmiv-ml/data/ROIBrain_MICCAI_BraTS2020/BraTS20_Training_319/BraTS20_Training_319_BrainROIT1cwx2.nii.gz.\n",
      "file written: /home/mmiv-ml/data/ROIBrain_MICCAI_BraTS2020/BraTS20_Training_319/BraTS20_Training_319_BrainROIT1cwx1.nii.gz.\n",
      "(2, 240, 240, 155)\n"
     ]
    },
    {
     "name": "stderr",
     "output_type": "stream",
     "text": [
      " 87%|██████████████████████████████████████████████████████████████████████████████▉            | 320/369 [09:33<01:28,  1.81s/it]"
     ]
    },
    {
     "name": "stdout",
     "output_type": "stream",
     "text": [
      "file written: /home/mmiv-ml/data/ROIBrain_MICCAI_BraTS2020/BraTS20_Training_320/BraTS20_Training_320_BrainROIT1cwx2.nii.gz.\n",
      "file written: /home/mmiv-ml/data/ROIBrain_MICCAI_BraTS2020/BraTS20_Training_320/BraTS20_Training_320_BrainROIT1cwx1.nii.gz.\n",
      "(2, 240, 240, 155)\n"
     ]
    },
    {
     "name": "stderr",
     "output_type": "stream",
     "text": [
      " 87%|███████████████████████████████████████████████████████████████████████████████▏           | 321/369 [09:34<01:26,  1.81s/it]"
     ]
    },
    {
     "name": "stdout",
     "output_type": "stream",
     "text": [
      "file written: /home/mmiv-ml/data/ROIBrain_MICCAI_BraTS2020/BraTS20_Training_321/BraTS20_Training_321_BrainROIT1cwx2.nii.gz.\n",
      "file written: /home/mmiv-ml/data/ROIBrain_MICCAI_BraTS2020/BraTS20_Training_321/BraTS20_Training_321_BrainROIT1cwx1.nii.gz.\n",
      "(2, 240, 240, 155)\n"
     ]
    },
    {
     "name": "stderr",
     "output_type": "stream",
     "text": [
      " 87%|███████████████████████████████████████████████████████████████████████████████▍           | 322/369 [09:36<01:24,  1.80s/it]"
     ]
    },
    {
     "name": "stdout",
     "output_type": "stream",
     "text": [
      "file written: /home/mmiv-ml/data/ROIBrain_MICCAI_BraTS2020/BraTS20_Training_322/BraTS20_Training_322_BrainROIT1cwx2.nii.gz.\n",
      "file written: /home/mmiv-ml/data/ROIBrain_MICCAI_BraTS2020/BraTS20_Training_322/BraTS20_Training_322_BrainROIT1cwx1.nii.gz.\n",
      "(2, 240, 240, 155)\n"
     ]
    },
    {
     "name": "stderr",
     "output_type": "stream",
     "text": [
      " 88%|███████████████████████████████████████████████████████████████████████████████▋           | 323/369 [09:38<01:22,  1.79s/it]"
     ]
    },
    {
     "name": "stdout",
     "output_type": "stream",
     "text": [
      "file written: /home/mmiv-ml/data/ROIBrain_MICCAI_BraTS2020/BraTS20_Training_323/BraTS20_Training_323_BrainROIT1cwx2.nii.gz.\n",
      "file written: /home/mmiv-ml/data/ROIBrain_MICCAI_BraTS2020/BraTS20_Training_323/BraTS20_Training_323_BrainROIT1cwx1.nii.gz.\n",
      "(2, 240, 240, 155)\n"
     ]
    },
    {
     "name": "stderr",
     "output_type": "stream",
     "text": [
      " 88%|███████████████████████████████████████████████████████████████████████████████▉           | 324/369 [09:40<01:21,  1.81s/it]"
     ]
    },
    {
     "name": "stdout",
     "output_type": "stream",
     "text": [
      "file written: /home/mmiv-ml/data/ROIBrain_MICCAI_BraTS2020/BraTS20_Training_324/BraTS20_Training_324_BrainROIT1cwx2.nii.gz.\n",
      "file written: /home/mmiv-ml/data/ROIBrain_MICCAI_BraTS2020/BraTS20_Training_324/BraTS20_Training_324_BrainROIT1cwx1.nii.gz.\n",
      "(2, 240, 240, 155)\n"
     ]
    },
    {
     "name": "stderr",
     "output_type": "stream",
     "text": [
      " 88%|████████████████████████████████████████████████████████████████████████████████▏          | 325/369 [09:42<01:18,  1.79s/it]"
     ]
    },
    {
     "name": "stdout",
     "output_type": "stream",
     "text": [
      "file written: /home/mmiv-ml/data/ROIBrain_MICCAI_BraTS2020/BraTS20_Training_325/BraTS20_Training_325_BrainROIT1cwx2.nii.gz.\n",
      "file written: /home/mmiv-ml/data/ROIBrain_MICCAI_BraTS2020/BraTS20_Training_325/BraTS20_Training_325_BrainROIT1cwx1.nii.gz.\n",
      "(2, 240, 240, 155)\n"
     ]
    },
    {
     "name": "stderr",
     "output_type": "stream",
     "text": [
      " 88%|████████████████████████████████████████████████████████████████████████████████▍          | 326/369 [09:43<01:17,  1.80s/it]"
     ]
    },
    {
     "name": "stdout",
     "output_type": "stream",
     "text": [
      "file written: /home/mmiv-ml/data/ROIBrain_MICCAI_BraTS2020/BraTS20_Training_326/BraTS20_Training_326_BrainROIT1cwx2.nii.gz.\n",
      "file written: /home/mmiv-ml/data/ROIBrain_MICCAI_BraTS2020/BraTS20_Training_326/BraTS20_Training_326_BrainROIT1cwx1.nii.gz.\n",
      "(2, 240, 240, 155)\n"
     ]
    },
    {
     "name": "stderr",
     "output_type": "stream",
     "text": [
      " 89%|████████████████████████████████████████████████████████████████████████████████▋          | 327/369 [09:45<01:15,  1.79s/it]"
     ]
    },
    {
     "name": "stdout",
     "output_type": "stream",
     "text": [
      "file written: /home/mmiv-ml/data/ROIBrain_MICCAI_BraTS2020/BraTS20_Training_327/BraTS20_Training_327_BrainROIT1cwx2.nii.gz.\n",
      "file written: /home/mmiv-ml/data/ROIBrain_MICCAI_BraTS2020/BraTS20_Training_327/BraTS20_Training_327_BrainROIT1cwx1.nii.gz.\n",
      "(2, 240, 240, 155)\n"
     ]
    },
    {
     "name": "stderr",
     "output_type": "stream",
     "text": [
      " 89%|████████████████████████████████████████████████████████████████████████████████▉          | 328/369 [09:47<01:13,  1.80s/it]"
     ]
    },
    {
     "name": "stdout",
     "output_type": "stream",
     "text": [
      "file written: /home/mmiv-ml/data/ROIBrain_MICCAI_BraTS2020/BraTS20_Training_328/BraTS20_Training_328_BrainROIT1cwx2.nii.gz.\n",
      "file written: /home/mmiv-ml/data/ROIBrain_MICCAI_BraTS2020/BraTS20_Training_328/BraTS20_Training_328_BrainROIT1cwx1.nii.gz.\n",
      "(2, 240, 240, 155)\n"
     ]
    },
    {
     "name": "stderr",
     "output_type": "stream",
     "text": [
      " 89%|█████████████████████████████████████████████████████████████████████████████████▏         | 329/369 [09:49<01:11,  1.79s/it]"
     ]
    },
    {
     "name": "stdout",
     "output_type": "stream",
     "text": [
      "file written: /home/mmiv-ml/data/ROIBrain_MICCAI_BraTS2020/BraTS20_Training_329/BraTS20_Training_329_BrainROIT1cwx2.nii.gz.\n",
      "file written: /home/mmiv-ml/data/ROIBrain_MICCAI_BraTS2020/BraTS20_Training_329/BraTS20_Training_329_BrainROIT1cwx1.nii.gz.\n",
      "(2, 240, 240, 155)\n"
     ]
    },
    {
     "name": "stderr",
     "output_type": "stream",
     "text": [
      " 89%|█████████████████████████████████████████████████████████████████████████████████▍         | 330/369 [09:51<01:09,  1.78s/it]"
     ]
    },
    {
     "name": "stdout",
     "output_type": "stream",
     "text": [
      "file written: /home/mmiv-ml/data/ROIBrain_MICCAI_BraTS2020/BraTS20_Training_330/BraTS20_Training_330_BrainROIT1cwx2.nii.gz.\n",
      "file written: /home/mmiv-ml/data/ROIBrain_MICCAI_BraTS2020/BraTS20_Training_330/BraTS20_Training_330_BrainROIT1cwx1.nii.gz.\n",
      "(2, 240, 240, 155)\n"
     ]
    },
    {
     "name": "stderr",
     "output_type": "stream",
     "text": [
      " 90%|█████████████████████████████████████████████████████████████████████████████████▋         | 331/369 [09:52<01:07,  1.77s/it]"
     ]
    },
    {
     "name": "stdout",
     "output_type": "stream",
     "text": [
      "file written: /home/mmiv-ml/data/ROIBrain_MICCAI_BraTS2020/BraTS20_Training_331/BraTS20_Training_331_BrainROIT1cwx2.nii.gz.\n",
      "file written: /home/mmiv-ml/data/ROIBrain_MICCAI_BraTS2020/BraTS20_Training_331/BraTS20_Training_331_BrainROIT1cwx1.nii.gz.\n",
      "(2, 240, 240, 155)\n"
     ]
    },
    {
     "name": "stderr",
     "output_type": "stream",
     "text": [
      " 90%|█████████████████████████████████████████████████████████████████████████████████▉         | 332/369 [09:54<01:05,  1.78s/it]"
     ]
    },
    {
     "name": "stdout",
     "output_type": "stream",
     "text": [
      "file written: /home/mmiv-ml/data/ROIBrain_MICCAI_BraTS2020/BraTS20_Training_332/BraTS20_Training_332_BrainROIT1cwx2.nii.gz.\n",
      "file written: /home/mmiv-ml/data/ROIBrain_MICCAI_BraTS2020/BraTS20_Training_332/BraTS20_Training_332_BrainROIT1cwx1.nii.gz.\n",
      "(2, 240, 240, 155)\n"
     ]
    },
    {
     "name": "stderr",
     "output_type": "stream",
     "text": [
      " 90%|██████████████████████████████████████████████████████████████████████████████████         | 333/369 [09:56<01:04,  1.78s/it]"
     ]
    },
    {
     "name": "stdout",
     "output_type": "stream",
     "text": [
      "file written: /home/mmiv-ml/data/ROIBrain_MICCAI_BraTS2020/BraTS20_Training_333/BraTS20_Training_333_BrainROIT1cwx2.nii.gz.\n",
      "file written: /home/mmiv-ml/data/ROIBrain_MICCAI_BraTS2020/BraTS20_Training_333/BraTS20_Training_333_BrainROIT1cwx1.nii.gz.\n",
      "(2, 240, 240, 155)\n"
     ]
    },
    {
     "name": "stderr",
     "output_type": "stream",
     "text": [
      " 91%|██████████████████████████████████████████████████████████████████████████████████▎        | 334/369 [09:58<01:02,  1.78s/it]"
     ]
    },
    {
     "name": "stdout",
     "output_type": "stream",
     "text": [
      "file written: /home/mmiv-ml/data/ROIBrain_MICCAI_BraTS2020/BraTS20_Training_334/BraTS20_Training_334_BrainROIT1cwx2.nii.gz.\n",
      "file written: /home/mmiv-ml/data/ROIBrain_MICCAI_BraTS2020/BraTS20_Training_334/BraTS20_Training_334_BrainROIT1cwx1.nii.gz.\n",
      "(2, 240, 240, 155)\n"
     ]
    },
    {
     "name": "stderr",
     "output_type": "stream",
     "text": [
      " 91%|██████████████████████████████████████████████████████████████████████████████████▌        | 335/369 [09:59<01:00,  1.79s/it]"
     ]
    },
    {
     "name": "stdout",
     "output_type": "stream",
     "text": [
      "file written: /home/mmiv-ml/data/ROIBrain_MICCAI_BraTS2020/BraTS20_Training_335/BraTS20_Training_335_BrainROIT1cwx2.nii.gz.\n",
      "file written: /home/mmiv-ml/data/ROIBrain_MICCAI_BraTS2020/BraTS20_Training_335/BraTS20_Training_335_BrainROIT1cwx1.nii.gz.\n",
      "(2, 240, 240, 155)\n"
     ]
    },
    {
     "name": "stderr",
     "output_type": "stream",
     "text": [
      " 91%|██████████████████████████████████████████████████████████████████████████████████▊        | 336/369 [10:01<01:00,  1.82s/it]"
     ]
    },
    {
     "name": "stdout",
     "output_type": "stream",
     "text": [
      "file written: /home/mmiv-ml/data/ROIBrain_MICCAI_BraTS2020/BraTS20_Training_336/BraTS20_Training_336_BrainROIT1cwx2.nii.gz.\n",
      "file written: /home/mmiv-ml/data/ROIBrain_MICCAI_BraTS2020/BraTS20_Training_336/BraTS20_Training_336_BrainROIT1cwx1.nii.gz.\n",
      "(2, 240, 240, 155)\n"
     ]
    },
    {
     "name": "stderr",
     "output_type": "stream",
     "text": [
      " 91%|███████████████████████████████████████████████████████████████████████████████████        | 337/369 [10:03<00:58,  1.84s/it]"
     ]
    },
    {
     "name": "stdout",
     "output_type": "stream",
     "text": [
      "file written: /home/mmiv-ml/data/ROIBrain_MICCAI_BraTS2020/BraTS20_Training_337/BraTS20_Training_337_BrainROIT1cwx2.nii.gz.\n",
      "file written: /home/mmiv-ml/data/ROIBrain_MICCAI_BraTS2020/BraTS20_Training_337/BraTS20_Training_337_BrainROIT1cwx1.nii.gz.\n",
      "(2, 240, 240, 155)\n"
     ]
    },
    {
     "name": "stderr",
     "output_type": "stream",
     "text": [
      " 92%|███████████████████████████████████████████████████████████████████████████████████▎       | 338/369 [10:05<00:57,  1.87s/it]"
     ]
    },
    {
     "name": "stdout",
     "output_type": "stream",
     "text": [
      "file written: /home/mmiv-ml/data/ROIBrain_MICCAI_BraTS2020/BraTS20_Training_338/BraTS20_Training_338_BrainROIT1cwx2.nii.gz.\n",
      "file written: /home/mmiv-ml/data/ROIBrain_MICCAI_BraTS2020/BraTS20_Training_338/BraTS20_Training_338_BrainROIT1cwx1.nii.gz.\n",
      "(2, 240, 240, 155)\n"
     ]
    },
    {
     "name": "stderr",
     "output_type": "stream",
     "text": [
      " 92%|███████████████████████████████████████████████████████████████████████████████████▌       | 339/369 [10:07<00:56,  1.89s/it]"
     ]
    },
    {
     "name": "stdout",
     "output_type": "stream",
     "text": [
      "file written: /home/mmiv-ml/data/ROIBrain_MICCAI_BraTS2020/BraTS20_Training_339/BraTS20_Training_339_BrainROIT1cwx2.nii.gz.\n",
      "file written: /home/mmiv-ml/data/ROIBrain_MICCAI_BraTS2020/BraTS20_Training_339/BraTS20_Training_339_BrainROIT1cwx1.nii.gz.\n",
      "(2, 240, 240, 155)\n"
     ]
    },
    {
     "name": "stderr",
     "output_type": "stream",
     "text": [
      " 92%|███████████████████████████████████████████████████████████████████████████████████▊       | 340/369 [10:09<00:54,  1.89s/it]"
     ]
    },
    {
     "name": "stdout",
     "output_type": "stream",
     "text": [
      "file written: /home/mmiv-ml/data/ROIBrain_MICCAI_BraTS2020/BraTS20_Training_340/BraTS20_Training_340_BrainROIT1cwx2.nii.gz.\n",
      "file written: /home/mmiv-ml/data/ROIBrain_MICCAI_BraTS2020/BraTS20_Training_340/BraTS20_Training_340_BrainROIT1cwx1.nii.gz.\n",
      "(2, 240, 240, 155)\n"
     ]
    },
    {
     "name": "stderr",
     "output_type": "stream",
     "text": [
      " 92%|████████████████████████████████████████████████████████████████████████████████████       | 341/369 [10:11<00:52,  1.89s/it]"
     ]
    },
    {
     "name": "stdout",
     "output_type": "stream",
     "text": [
      "file written: /home/mmiv-ml/data/ROIBrain_MICCAI_BraTS2020/BraTS20_Training_341/BraTS20_Training_341_BrainROIT1cwx2.nii.gz.\n",
      "file written: /home/mmiv-ml/data/ROIBrain_MICCAI_BraTS2020/BraTS20_Training_341/BraTS20_Training_341_BrainROIT1cwx1.nii.gz.\n",
      "(2, 240, 240, 155)\n"
     ]
    },
    {
     "name": "stderr",
     "output_type": "stream",
     "text": [
      " 93%|████████████████████████████████████████████████████████████████████████████████████▎      | 342/369 [10:13<00:52,  1.93s/it]"
     ]
    },
    {
     "name": "stdout",
     "output_type": "stream",
     "text": [
      "file written: /home/mmiv-ml/data/ROIBrain_MICCAI_BraTS2020/BraTS20_Training_342/BraTS20_Training_342_BrainROIT1cwx2.nii.gz.\n",
      "file written: /home/mmiv-ml/data/ROIBrain_MICCAI_BraTS2020/BraTS20_Training_342/BraTS20_Training_342_BrainROIT1cwx1.nii.gz.\n",
      "(2, 240, 240, 155)\n"
     ]
    },
    {
     "name": "stderr",
     "output_type": "stream",
     "text": [
      " 93%|████████████████████████████████████████████████████████████████████████████████████▌      | 343/369 [10:15<00:50,  1.94s/it]"
     ]
    },
    {
     "name": "stdout",
     "output_type": "stream",
     "text": [
      "file written: /home/mmiv-ml/data/ROIBrain_MICCAI_BraTS2020/BraTS20_Training_343/BraTS20_Training_343_BrainROIT1cwx2.nii.gz.\n",
      "file written: /home/mmiv-ml/data/ROIBrain_MICCAI_BraTS2020/BraTS20_Training_343/BraTS20_Training_343_BrainROIT1cwx1.nii.gz.\n",
      "(2, 240, 240, 155)\n"
     ]
    },
    {
     "name": "stderr",
     "output_type": "stream",
     "text": [
      " 93%|████████████████████████████████████████████████████████████████████████████████████▊      | 344/369 [10:17<00:48,  1.95s/it]"
     ]
    },
    {
     "name": "stdout",
     "output_type": "stream",
     "text": [
      "file written: /home/mmiv-ml/data/ROIBrain_MICCAI_BraTS2020/BraTS20_Training_344/BraTS20_Training_344_BrainROIT1cwx2.nii.gz.\n",
      "file written: /home/mmiv-ml/data/ROIBrain_MICCAI_BraTS2020/BraTS20_Training_344/BraTS20_Training_344_BrainROIT1cwx1.nii.gz.\n",
      "(2, 240, 240, 155)\n"
     ]
    },
    {
     "name": "stderr",
     "output_type": "stream",
     "text": [
      " 93%|█████████████████████████████████████████████████████████████████████████████████████      | 345/369 [10:19<00:46,  1.95s/it]"
     ]
    },
    {
     "name": "stdout",
     "output_type": "stream",
     "text": [
      "file written: /home/mmiv-ml/data/ROIBrain_MICCAI_BraTS2020/BraTS20_Training_345/BraTS20_Training_345_BrainROIT1cwx2.nii.gz.\n",
      "file written: /home/mmiv-ml/data/ROIBrain_MICCAI_BraTS2020/BraTS20_Training_345/BraTS20_Training_345_BrainROIT1cwx1.nii.gz.\n",
      "(2, 240, 240, 155)\n"
     ]
    },
    {
     "name": "stderr",
     "output_type": "stream",
     "text": [
      " 94%|█████████████████████████████████████████████████████████████████████████████████████▎     | 346/369 [10:21<00:45,  1.97s/it]"
     ]
    },
    {
     "name": "stdout",
     "output_type": "stream",
     "text": [
      "file written: /home/mmiv-ml/data/ROIBrain_MICCAI_BraTS2020/BraTS20_Training_346/BraTS20_Training_346_BrainROIT1cwx2.nii.gz.\n",
      "file written: /home/mmiv-ml/data/ROIBrain_MICCAI_BraTS2020/BraTS20_Training_346/BraTS20_Training_346_BrainROIT1cwx1.nii.gz.\n",
      "(2, 240, 240, 155)\n"
     ]
    },
    {
     "name": "stderr",
     "output_type": "stream",
     "text": [
      " 94%|█████████████████████████████████████████████████████████████████████████████████████▌     | 347/369 [10:23<00:43,  1.98s/it]"
     ]
    },
    {
     "name": "stdout",
     "output_type": "stream",
     "text": [
      "file written: /home/mmiv-ml/data/ROIBrain_MICCAI_BraTS2020/BraTS20_Training_347/BraTS20_Training_347_BrainROIT1cwx2.nii.gz.\n",
      "file written: /home/mmiv-ml/data/ROIBrain_MICCAI_BraTS2020/BraTS20_Training_347/BraTS20_Training_347_BrainROIT1cwx1.nii.gz.\n",
      "(2, 240, 240, 155)\n"
     ]
    },
    {
     "name": "stderr",
     "output_type": "stream",
     "text": [
      " 94%|█████████████████████████████████████████████████████████████████████████████████████▊     | 348/369 [10:25<00:41,  1.97s/it]"
     ]
    },
    {
     "name": "stdout",
     "output_type": "stream",
     "text": [
      "file written: /home/mmiv-ml/data/ROIBrain_MICCAI_BraTS2020/BraTS20_Training_348/BraTS20_Training_348_BrainROIT1cwx2.nii.gz.\n",
      "file written: /home/mmiv-ml/data/ROIBrain_MICCAI_BraTS2020/BraTS20_Training_348/BraTS20_Training_348_BrainROIT1cwx1.nii.gz.\n",
      "(2, 240, 240, 155)\n"
     ]
    },
    {
     "name": "stderr",
     "output_type": "stream",
     "text": [
      " 95%|██████████████████████████████████████████████████████████████████████████████████████     | 349/369 [10:27<00:38,  1.95s/it]"
     ]
    },
    {
     "name": "stdout",
     "output_type": "stream",
     "text": [
      "file written: /home/mmiv-ml/data/ROIBrain_MICCAI_BraTS2020/BraTS20_Training_349/BraTS20_Training_349_BrainROIT1cwx2.nii.gz.\n",
      "file written: /home/mmiv-ml/data/ROIBrain_MICCAI_BraTS2020/BraTS20_Training_349/BraTS20_Training_349_BrainROIT1cwx1.nii.gz.\n",
      "(2, 240, 240, 155)\n"
     ]
    },
    {
     "name": "stderr",
     "output_type": "stream",
     "text": [
      " 95%|██████████████████████████████████████████████████████████████████████████████████████▎    | 350/369 [10:29<00:36,  1.93s/it]"
     ]
    },
    {
     "name": "stdout",
     "output_type": "stream",
     "text": [
      "file written: /home/mmiv-ml/data/ROIBrain_MICCAI_BraTS2020/BraTS20_Training_350/BraTS20_Training_350_BrainROIT1cwx2.nii.gz.\n",
      "file written: /home/mmiv-ml/data/ROIBrain_MICCAI_BraTS2020/BraTS20_Training_350/BraTS20_Training_350_BrainROIT1cwx1.nii.gz.\n",
      "(2, 240, 240, 155)\n"
     ]
    },
    {
     "name": "stderr",
     "output_type": "stream",
     "text": [
      " 95%|██████████████████████████████████████████████████████████████████████████████████████▌    | 351/369 [10:30<00:34,  1.93s/it]"
     ]
    },
    {
     "name": "stdout",
     "output_type": "stream",
     "text": [
      "file written: /home/mmiv-ml/data/ROIBrain_MICCAI_BraTS2020/BraTS20_Training_351/BraTS20_Training_351_BrainROIT1cwx2.nii.gz.\n",
      "file written: /home/mmiv-ml/data/ROIBrain_MICCAI_BraTS2020/BraTS20_Training_351/BraTS20_Training_351_BrainROIT1cwx1.nii.gz.\n",
      "(2, 240, 240, 155)\n"
     ]
    },
    {
     "name": "stderr",
     "output_type": "stream",
     "text": [
      " 95%|██████████████████████████████████████████████████████████████████████████████████████▊    | 352/369 [10:32<00:32,  1.92s/it]"
     ]
    },
    {
     "name": "stdout",
     "output_type": "stream",
     "text": [
      "file written: /home/mmiv-ml/data/ROIBrain_MICCAI_BraTS2020/BraTS20_Training_352/BraTS20_Training_352_BrainROIT1cwx2.nii.gz.\n",
      "file written: /home/mmiv-ml/data/ROIBrain_MICCAI_BraTS2020/BraTS20_Training_352/BraTS20_Training_352_BrainROIT1cwx1.nii.gz.\n",
      "(2, 240, 240, 155)\n"
     ]
    },
    {
     "name": "stderr",
     "output_type": "stream",
     "text": [
      " 96%|███████████████████████████████████████████████████████████████████████████████████████    | 353/369 [10:34<00:30,  1.91s/it]"
     ]
    },
    {
     "name": "stdout",
     "output_type": "stream",
     "text": [
      "file written: /home/mmiv-ml/data/ROIBrain_MICCAI_BraTS2020/BraTS20_Training_353/BraTS20_Training_353_BrainROIT1cwx2.nii.gz.\n",
      "file written: /home/mmiv-ml/data/ROIBrain_MICCAI_BraTS2020/BraTS20_Training_353/BraTS20_Training_353_BrainROIT1cwx1.nii.gz.\n",
      "(2, 240, 240, 155)\n"
     ]
    },
    {
     "name": "stderr",
     "output_type": "stream",
     "text": [
      " 96%|███████████████████████████████████████████████████████████████████████████████████████▎   | 354/369 [10:36<00:28,  1.92s/it]"
     ]
    },
    {
     "name": "stdout",
     "output_type": "stream",
     "text": [
      "file written: /home/mmiv-ml/data/ROIBrain_MICCAI_BraTS2020/BraTS20_Training_354/BraTS20_Training_354_BrainROIT1cwx2.nii.gz.\n",
      "file written: /home/mmiv-ml/data/ROIBrain_MICCAI_BraTS2020/BraTS20_Training_354/BraTS20_Training_354_BrainROIT1cwx1.nii.gz.\n",
      "(2, 240, 240, 155)\n"
     ]
    },
    {
     "name": "stderr",
     "output_type": "stream",
     "text": [
      " 96%|███████████████████████████████████████████████████████████████████████████████████████▌   | 355/369 [10:38<00:26,  1.93s/it]"
     ]
    },
    {
     "name": "stdout",
     "output_type": "stream",
     "text": [
      "file written: /home/mmiv-ml/data/ROIBrain_MICCAI_BraTS2020/BraTS20_Training_355/BraTS20_Training_355_BrainROIT1cwx2.nii.gz.\n",
      "file written: /home/mmiv-ml/data/ROIBrain_MICCAI_BraTS2020/BraTS20_Training_355/BraTS20_Training_355_BrainROIT1cwx1.nii.gz.\n",
      "(2, 240, 240, 155)\n"
     ]
    },
    {
     "name": "stderr",
     "output_type": "stream",
     "text": [
      " 96%|███████████████████████████████████████████████████████████████████████████████████████▊   | 356/369 [10:40<00:25,  1.96s/it]"
     ]
    },
    {
     "name": "stdout",
     "output_type": "stream",
     "text": [
      "file written: /home/mmiv-ml/data/ROIBrain_MICCAI_BraTS2020/BraTS20_Training_356/BraTS20_Training_356_BrainROIT1cwx2.nii.gz.\n",
      "file written: /home/mmiv-ml/data/ROIBrain_MICCAI_BraTS2020/BraTS20_Training_356/BraTS20_Training_356_BrainROIT1cwx1.nii.gz.\n",
      "(2, 240, 240, 155)\n"
     ]
    },
    {
     "name": "stderr",
     "output_type": "stream",
     "text": [
      " 97%|████████████████████████████████████████████████████████████████████████████████████████   | 357/369 [10:42<00:23,  1.95s/it]"
     ]
    },
    {
     "name": "stdout",
     "output_type": "stream",
     "text": [
      "file written: /home/mmiv-ml/data/ROIBrain_MICCAI_BraTS2020/BraTS20_Training_357/BraTS20_Training_357_BrainROIT1cwx2.nii.gz.\n",
      "file written: /home/mmiv-ml/data/ROIBrain_MICCAI_BraTS2020/BraTS20_Training_357/BraTS20_Training_357_BrainROIT1cwx1.nii.gz.\n",
      "(2, 240, 240, 155)\n"
     ]
    },
    {
     "name": "stderr",
     "output_type": "stream",
     "text": [
      " 97%|████████████████████████████████████████████████████████████████████████████████████████▎  | 358/369 [10:44<00:21,  1.98s/it]"
     ]
    },
    {
     "name": "stdout",
     "output_type": "stream",
     "text": [
      "file written: /home/mmiv-ml/data/ROIBrain_MICCAI_BraTS2020/BraTS20_Training_358/BraTS20_Training_358_BrainROIT1cwx2.nii.gz.\n",
      "file written: /home/mmiv-ml/data/ROIBrain_MICCAI_BraTS2020/BraTS20_Training_358/BraTS20_Training_358_BrainROIT1cwx1.nii.gz.\n",
      "(2, 240, 240, 155)\n"
     ]
    },
    {
     "name": "stderr",
     "output_type": "stream",
     "text": [
      " 97%|████████████████████████████████████████████████████████████████████████████████████████▌  | 359/369 [10:46<00:19,  1.95s/it]"
     ]
    },
    {
     "name": "stdout",
     "output_type": "stream",
     "text": [
      "file written: /home/mmiv-ml/data/ROIBrain_MICCAI_BraTS2020/BraTS20_Training_359/BraTS20_Training_359_BrainROIT1cwx2.nii.gz.\n",
      "file written: /home/mmiv-ml/data/ROIBrain_MICCAI_BraTS2020/BraTS20_Training_359/BraTS20_Training_359_BrainROIT1cwx1.nii.gz.\n",
      "(2, 240, 240, 155)\n"
     ]
    },
    {
     "name": "stderr",
     "output_type": "stream",
     "text": [
      " 98%|████████████████████████████████████████████████████████████████████████████████████████▊  | 360/369 [10:48<00:17,  1.98s/it]"
     ]
    },
    {
     "name": "stdout",
     "output_type": "stream",
     "text": [
      "file written: /home/mmiv-ml/data/ROIBrain_MICCAI_BraTS2020/BraTS20_Training_360/BraTS20_Training_360_BrainROIT1cwx2.nii.gz.\n",
      "file written: /home/mmiv-ml/data/ROIBrain_MICCAI_BraTS2020/BraTS20_Training_360/BraTS20_Training_360_BrainROIT1cwx1.nii.gz.\n",
      "(2, 240, 240, 155)\n"
     ]
    },
    {
     "name": "stderr",
     "output_type": "stream",
     "text": [
      " 98%|█████████████████████████████████████████████████████████████████████████████████████████  | 361/369 [10:50<00:15,  1.96s/it]"
     ]
    },
    {
     "name": "stdout",
     "output_type": "stream",
     "text": [
      "file written: /home/mmiv-ml/data/ROIBrain_MICCAI_BraTS2020/BraTS20_Training_361/BraTS20_Training_361_BrainROIT1cwx2.nii.gz.\n",
      "file written: /home/mmiv-ml/data/ROIBrain_MICCAI_BraTS2020/BraTS20_Training_361/BraTS20_Training_361_BrainROIT1cwx1.nii.gz.\n",
      "(2, 240, 240, 155)\n"
     ]
    },
    {
     "name": "stderr",
     "output_type": "stream",
     "text": [
      " 98%|█████████████████████████████████████████████████████████████████████████████████████████▎ | 362/369 [10:52<00:13,  1.96s/it]"
     ]
    },
    {
     "name": "stdout",
     "output_type": "stream",
     "text": [
      "file written: /home/mmiv-ml/data/ROIBrain_MICCAI_BraTS2020/BraTS20_Training_362/BraTS20_Training_362_BrainROIT1cwx2.nii.gz.\n",
      "file written: /home/mmiv-ml/data/ROIBrain_MICCAI_BraTS2020/BraTS20_Training_362/BraTS20_Training_362_BrainROIT1cwx1.nii.gz.\n",
      "(2, 240, 240, 155)\n"
     ]
    },
    {
     "name": "stderr",
     "output_type": "stream",
     "text": [
      " 98%|█████████████████████████████████████████████████████████████████████████████████████████▌ | 363/369 [10:54<00:11,  1.97s/it]"
     ]
    },
    {
     "name": "stdout",
     "output_type": "stream",
     "text": [
      "file written: /home/mmiv-ml/data/ROIBrain_MICCAI_BraTS2020/BraTS20_Training_363/BraTS20_Training_363_BrainROIT1cwx2.nii.gz.\n",
      "file written: /home/mmiv-ml/data/ROIBrain_MICCAI_BraTS2020/BraTS20_Training_363/BraTS20_Training_363_BrainROIT1cwx1.nii.gz.\n",
      "(2, 240, 240, 155)\n"
     ]
    },
    {
     "name": "stderr",
     "output_type": "stream",
     "text": [
      " 99%|█████████████████████████████████████████████████████████████████████████████████████████▊ | 364/369 [10:56<00:09,  1.94s/it]"
     ]
    },
    {
     "name": "stdout",
     "output_type": "stream",
     "text": [
      "file written: /home/mmiv-ml/data/ROIBrain_MICCAI_BraTS2020/BraTS20_Training_364/BraTS20_Training_364_BrainROIT1cwx2.nii.gz.\n",
      "file written: /home/mmiv-ml/data/ROIBrain_MICCAI_BraTS2020/BraTS20_Training_364/BraTS20_Training_364_BrainROIT1cwx1.nii.gz.\n",
      "(2, 240, 240, 155)\n"
     ]
    },
    {
     "name": "stderr",
     "output_type": "stream",
     "text": [
      " 99%|██████████████████████████████████████████████████████████████████████████████████████████ | 365/369 [10:58<00:07,  1.94s/it]"
     ]
    },
    {
     "name": "stdout",
     "output_type": "stream",
     "text": [
      "file written: /home/mmiv-ml/data/ROIBrain_MICCAI_BraTS2020/BraTS20_Training_365/BraTS20_Training_365_BrainROIT1cwx2.nii.gz.\n",
      "file written: /home/mmiv-ml/data/ROIBrain_MICCAI_BraTS2020/BraTS20_Training_365/BraTS20_Training_365_BrainROIT1cwx1.nii.gz.\n",
      "(2, 240, 240, 155)\n"
     ]
    },
    {
     "name": "stderr",
     "output_type": "stream",
     "text": [
      " 99%|██████████████████████████████████████████████████████████████████████████████████████████▎| 366/369 [11:00<00:05,  1.93s/it]"
     ]
    },
    {
     "name": "stdout",
     "output_type": "stream",
     "text": [
      "file written: /home/mmiv-ml/data/ROIBrain_MICCAI_BraTS2020/BraTS20_Training_366/BraTS20_Training_366_BrainROIT1cwx2.nii.gz.\n",
      "file written: /home/mmiv-ml/data/ROIBrain_MICCAI_BraTS2020/BraTS20_Training_366/BraTS20_Training_366_BrainROIT1cwx1.nii.gz.\n",
      "(2, 240, 240, 155)\n"
     ]
    },
    {
     "name": "stderr",
     "output_type": "stream",
     "text": [
      " 99%|██████████████████████████████████████████████████████████████████████████████████████████▌| 367/369 [11:02<00:03,  1.95s/it]"
     ]
    },
    {
     "name": "stdout",
     "output_type": "stream",
     "text": [
      "file written: /home/mmiv-ml/data/ROIBrain_MICCAI_BraTS2020/BraTS20_Training_367/BraTS20_Training_367_BrainROIT1cwx2.nii.gz.\n",
      "file written: /home/mmiv-ml/data/ROIBrain_MICCAI_BraTS2020/BraTS20_Training_367/BraTS20_Training_367_BrainROIT1cwx1.nii.gz.\n",
      "(2, 240, 240, 155)\n"
     ]
    },
    {
     "name": "stderr",
     "output_type": "stream",
     "text": [
      "100%|██████████████████████████████████████████████████████████████████████████████████████████▊| 368/369 [11:04<00:01,  1.94s/it]"
     ]
    },
    {
     "name": "stdout",
     "output_type": "stream",
     "text": [
      "file written: /home/mmiv-ml/data/ROIBrain_MICCAI_BraTS2020/BraTS20_Training_368/BraTS20_Training_368_BrainROIT1cwx2.nii.gz.\n",
      "file written: /home/mmiv-ml/data/ROIBrain_MICCAI_BraTS2020/BraTS20_Training_368/BraTS20_Training_368_BrainROIT1cwx1.nii.gz.\n",
      "(2, 240, 240, 155)\n"
     ]
    },
    {
     "name": "stderr",
     "output_type": "stream",
     "text": [
      "100%|███████████████████████████████████████████████████████████████████████████████████████████| 369/369 [11:06<00:00,  1.80s/it]"
     ]
    },
    {
     "name": "stdout",
     "output_type": "stream",
     "text": [
      "file written: /home/mmiv-ml/data/ROIBrain_MICCAI_BraTS2020/BraTS20_Training_369/BraTS20_Training_369_BrainROIT1cwx2.nii.gz.\n",
      "file written: /home/mmiv-ml/data/ROIBrain_MICCAI_BraTS2020/BraTS20_Training_369/BraTS20_Training_369_BrainROIT1cwx1.nii.gz.\n",
      "(2, 240, 240, 155)\n"
     ]
    },
    {
     "name": "stderr",
     "output_type": "stream",
     "text": [
      "\n"
     ]
    }
   ],
   "source": [
    "for i in tqdm(range(len(ds_brats20training_4SaveMask))):\n",
    "#for i in tqdm(range(50)):\n",
    "    print(ds_brats20training_4SaveMask[i]['brain_mask'].shape)"
   ]
  },
  {
   "cell_type": "markdown",
   "metadata": {},
   "source": [
    "## Creating masks from registered hd-bet masks\n",
    "#### LGG_1p19q dataset"
   ]
  },
  {
   "cell_type": "code",
   "execution_count": null,
   "metadata": {},
   "outputs": [],
   "source": [
    "t1wMask4save_folder = os.path.join('/raid/brats2021/LGG_1p19q_rawNifti/T1wx2Brain_ROIs_LGG_1p19q')\n",
    "brain_maskSaverT1wx2 = monai.data.NiftiSaver(output_dir=t1wMask4save_folder, output_postfix='BrainROIT1cwx2', output_ext='.nii.gz', resample=False, separate_folder=True)\n",
    "brain_maskSaver = monai.data.NiftiSaver(output_dir=t1wMask4save_folder, output_postfix='BrainROI', output_ext='.nii.gz', resample=False, separate_folder=True)"
   ]
  },
  {
   "cell_type": "code",
   "execution_count": null,
   "metadata": {
    "scrolled": true
   },
   "outputs": [],
   "source": [
    "t1cwHDMask4_folder = os.path.join('/raid/brats2021/LGG_1p19q_rawNifti/LGG_1p19q_BraTSLikeProcess_mnibet')\n",
    "t1cwHDMaskList  = sorted(glob.glob(os.path.join(t1cwHDMask4_folder, 'LGG-*/LGG-*_t1Gd_mask.nii.gz')))\n",
    "t1cwHDMaskList.extend(glob.glob(os.path.join(t1cwHDMask4_folder, 'LGG-604/LGG-604_t1GdBrainROI.nii.gz*')))\n",
    "t1cwHDMaskList"
   ]
  },
  {
   "cell_type": "code",
   "execution_count": null,
   "metadata": {},
   "outputs": [],
   "source": [
    "LGG_1p19qtrain_files = [{'image': image_hdt1cw} for image_hdt1cw in zip(t1cwHDMaskList)]\n",
    "print(len(LGG_1p19qtrain_files))"
   ]
  },
  {
   "cell_type": "code",
   "execution_count": null,
   "metadata": {},
   "outputs": [],
   "source": [
    "class CreateBrainHDMaskT1wx1d(MapTransform):\n",
    "    \n",
    "    \n",
    "    def __init__(\n",
    "        self,\n",
    "        keys: KeysCollection,\n",
    "        image_key = 'image',\n",
    "    ) -> None:\n",
    "        \n",
    "        super().__init__(keys)\n",
    "        self.image_key = image_key\n",
    "        self.keys = ensure_tuple(keys)\n",
    "    \n",
    "    \n",
    "    def __call__(self, data):\n",
    "        d = dict(data)\n",
    "        #ball_struct = morphology.ball(3)\n",
    "        neighb_struct = np.ones((3,3,3))\n",
    "        \n",
    "        \n",
    "        akey_meta_dict = f\"{self.keys[0]}_meta_dict\"\n",
    "        d[self.keys[0]]=np.where(d[self.image_key] == 1, 1, 0).astype(np.uint8)\n",
    "        \n",
    "        #t1wBrainmask = ndimage.binary_closing(d[self.keys[0]][0], structure = neighb_struct).astype(np.uint8)\n",
    "        t1wBrainmask = ndimage.binary_fill_holes(d[self.keys[0]][0], structure = neighb_struct).astype(np.uint8)\n",
    "        #t1wBrainmask = t1wBrainmask[np.newaxis,:, :, :]\n",
    "        t1wBrainmask = np.tile(t1wBrainmask, (2,1,1,1))\n",
    "       \n",
    "        \n",
    "        d[self.keys[0]] = t1wBrainmask\n",
    "        d[f\"{self.keys[0]}_meta_dict\"] = d[f\"{self.image_key}_meta_dict\"].copy()\n",
    "             \n",
    "        \n",
    "        return d"
   ]
  },
  {
   "cell_type": "code",
   "execution_count": null,
   "metadata": {},
   "outputs": [],
   "source": [
    "class saveHDMask2file(MapTransform):\n",
    "    \n",
    "    \n",
    "    def __call__(self, data):\n",
    "        \n",
    "        d = dict(data)\n",
    "        \n",
    "        for key in self.keys:\n",
    "\n",
    "            \n",
    "            input_file_path = d[f'{key}_meta_dict']['filename_or_obj']\n",
    "            \n",
    "            asub_id = os.path.basename(os.path.dirname(input_file_path))\n",
    "            \n",
    "            if not os.path.exists(t1wMask4save_folder):\n",
    "                os.makedirs(t1wMask4save_folder)\n",
    "                \n",
    "\n",
    "            brain_mask_meta_dct = copy.deepcopy(d[f'{key}_meta_dict'])\n",
    "            brain_mask_meta_dct['filename_or_obj'] = os.path.join(t1wMask4save_folder, f\"{asub_id}.nii.gz\")\n",
    "\n",
    "            \n",
    "            #breakpoint()\n",
    "            brain_maskSaverT1wx2.save(data = d[key], meta_data = brain_mask_meta_dct)\n",
    "            brain_maskSaver.save(data = d[key][0:1,:,:,:], meta_data = brain_mask_meta_dct)\n",
    "            \n",
    "            #pdb.set_trace()\n",
    "\n",
    "            \n",
    "            return d"
   ]
  },
  {
   "cell_type": "code",
   "execution_count": null,
   "metadata": {},
   "outputs": [],
   "source": [
    "keys = [\"image\"]\n",
    "file_saveMask_transforms = Compose([\n",
    "    LoadImaged(keys=keys, reader = \"NibabelReader\", allow_missing_keys=True),\n",
    "    EnsureChannelFirstd(keys=keys),\n",
    "    #CreateBrainMaskd(keys = \"brain_mask\", image_key = 'image'),\n",
    "    CreateBrainHDMaskT1wx1d(keys = \"brain_mask\", image_key = 'image'),\n",
    "    saveHDMask2file(keys = [\"brain_mask\"]),  \n",
    "])\n",
    "ds_LGG_1p19train_4SaveMask = monai.data.Dataset(data = LGG_1p19qtrain_files, transform = file_saveMask_transforms) \n",
    "\n",
    "\n",
    "# for i in range(3):\n",
    "#     print(val_ds_4SaveMask[i]['brain_mask'].shape)\n",
    "    \n",
    "\n",
    "\n",
    "def get_saveMasks(data_ds_ins):\n",
    "    print(f\"BraTS ID: {os.path.basename(os.path.dirname(data_ds_ins['brain_mask_meta_dict']['filename_or_obj']))}\")\n",
    "    return {'BraTSID': os.path.basename(os.path.dirname(data_ds_ins['brain_mask_meta_dict']['filename_or_obj']))}"
   ]
  },
  {
   "cell_type": "code",
   "execution_count": null,
   "metadata": {},
   "outputs": [],
   "source": [
    "ds_LGG_1p19train_4SaveMask[0]['brain_mask_meta_dict']"
   ]
  },
  {
   "cell_type": "code",
   "execution_count": null,
   "metadata": {
    "scrolled": true
   },
   "outputs": [],
   "source": [
    "for i in tqdm(range(len(ds_LGG_1p19train_4SaveMask))):\n",
    "#for i in tqdm(range(50)):\n",
    "    print(ds_LGG_1p19train_4SaveMask[i]['brain_mask'].shape)"
   ]
  },
  {
   "cell_type": "code",
   "execution_count": null,
   "metadata": {},
   "outputs": [],
   "source": []
  },
  {
   "cell_type": "markdown",
   "metadata": {},
   "source": [
    "## Checking shape"
   ]
  },
  {
   "cell_type": "code",
   "execution_count": null,
   "metadata": {},
   "outputs": [],
   "source": [
    "t1wMask4save_folder = os.path.join(data_rpath, 'T1wx4Brain_ROIs_TCGA_LGG_GBM')\n",
    "TCGAProcSubjectsDF.insert(5, 'brain_maskPath', TCGAProcSubjectsDF['SubjectID'].apply(lambda x: os.path.join(t1wMask4save_folder, x, f\"{x}_BrainROIT1wx4.nii.gz\")))\n",
    "\n",
    "segSave_folder = os.path.join(data_rpath, '3Ensemble_TCGA_LGG_GBM_Infer')\n",
    "TCGAProcSubjectsDF.insert(6, 'segPath', TCGAProcSubjectsDF['SubjectID'].apply(lambda x: os.path.join(segSave_folder, x, f\"{x}.nii.gz\")))\n",
    "#TCGAProcSubjectsDF.insert(6, 'segPath', TCGAProcSubjectsDF['t1cwPath'].apply(lambda x: glob.glob(f\"{os.path.dirname(x)}/*_GlistrBoost_ManuallyCorrected.nii.gz\")[0] if len(glob.glob(f\"{os.path.dirname(x)}/*_GlistrBoost_ManuallyCorrected.nii.gz\"))==1 else np.nan))\n"
   ]
  },
  {
   "cell_type": "code",
   "execution_count": null,
   "metadata": {},
   "outputs": [],
   "source": [
    "TCGAProcSubjectsDF = TCGAProcSubjectsDF.dropna(axis = 0)\n",
    "TCGAProcSubjectsDF.reset_index(drop = True)"
   ]
  },
  {
   "cell_type": "code",
   "execution_count": null,
   "metadata": {},
   "outputs": [],
   "source": []
  },
  {
   "cell_type": "code",
   "execution_count": null,
   "metadata": {},
   "outputs": [],
   "source": [
    "train_files = [{'image': image_nameT1ce, 'label': label_name, 'brain_mask':brain_mask} \n",
    "               for image_nameT1ce, label_name, brain_mask\n",
    "               in zip(TCGAProcSubjectsDF['t1cwPath'],TCGAProcSubjectsDF['segPath'], TCGAProcSubjectsDF['brain_maskPath'])]  \n",
    "train_files[0:10] "
   ]
  },
  {
   "cell_type": "code",
   "execution_count": null,
   "metadata": {},
   "outputs": [],
   "source": []
  },
  {
   "cell_type": "code",
   "execution_count": null,
   "metadata": {
    "scrolled": true
   },
   "outputs": [],
   "source": [
    "def threshold_at_one(x):\n",
    "    # threshold at 1\n",
    "    return x == 1\n",
    "\n",
    "def threshold_ge_one(x):\n",
    "    # threshold at 1\n",
    "    return x >= 1\n",
    "\n",
    "orig_patch_size = (240, 240, 155)\n",
    "#SpatialPadd(keys=keys, spatial_size=patch_size),\n",
    "keys = [\"image\", \"label\", \"brain_mask\"]\n",
    "\n",
    "#pspac = (1.2, 1.2, 1.2)\n",
    "# shape_check_transforms = Compose([\n",
    "#     LoadImaged(keys=keys, reader = \"NibabelReader\"),\n",
    "#     EnsureChannelFirstd(keys=keys),\n",
    "#     CropForegroundd(keys=keys, source_key=\"brain_mask\" ,select_fn=threshold_at_one),\n",
    "#     #DivisiblePadd(keys = keys, k=2),\n",
    "#     Spacingd(keys = keys, pixdim=pspac, mode = ('bilinear','nearest', 'nearest')),\n",
    "#     #Resized(keys = keys, spatial_size = (128, 128, 128), mode = ('nearest','nearest', 'nearest')),\n",
    "# ])\n",
    "\n",
    "# shape_check_transforms2org = Compose([\n",
    "#     LoadImaged(keys=keys, reader = \"NibabelReader\"),\n",
    "#     EnsureChannelFirstd(keys=keys),\n",
    "#     CropForegroundd(keys=keys, source_key=\"brain_mask\" ,select_fn=threshold_at_one),\n",
    "#     #DivisiblePadd(keys = keys, k=2),\n",
    "#     Spacingd(keys = keys, pixdim=pspac, mode = ('bilinear','nearest', 'nearest')),\n",
    "#     Spacingd(keys = keys, pixdim=(1, 1, 1), mode = ('bilinear','nearest', 'nearest')),\n",
    "#     #Resized(keys = keys, spatial_size = (128, 128, 128), mode = ('nearest','nearest', 'nearest')),\n",
    "# ])\n",
    "\n",
    "iso_shape_check_transforms = Compose([\n",
    "    LoadImaged(keys=keys, reader = \"NibabelReader\"),\n",
    "    EnsureChannelFirstd(keys=keys),\n",
    "    CropForegroundd(keys=keys, source_key=\"brain_mask\", select_fn=threshold_at_one),\n",
    "    CropForegroundd(keys=keys, source_key=\"label\", select_fn=threshold_ge_one),\n",
    "    #DivisiblePadd(keys = keys, k=2),\n",
    "])\n",
    "\n",
    "shape_check_ds = monai.data.Dataset(data = train_files, transform = iso_shape_check_transforms)\n",
    "\n",
    "tumor_box_list = list()\n",
    "for i in range(len(shape_check_ds)):\n",
    "\n",
    "    aDSIns = shape_check_ds[i]\n",
    "    print('Iso_CropFG:', aDSIns['image'].shape, 'label Iso_CropFG:', aDSIns['label'].shape)\n",
    "    \n",
    "    tumor_box_list.append(aDSIns['image'].shape)\n",
    "    print(np.sum(aDSIns['label']==1), ' ### ', os.path.basename(aDSIns['label_meta_dict']['filename_or_obj']))\n",
    "\n",
    "\n",
    "    print('#'*40)"
   ]
  },
  {
   "cell_type": "code",
   "execution_count": null,
   "metadata": {},
   "outputs": [],
   "source": [
    "stkArray = np.stack(tumor_box_list, axis = 0)\n"
   ]
  },
  {
   "cell_type": "code",
   "execution_count": null,
   "metadata": {},
   "outputs": [],
   "source": [
    "print(np.median(stkArray, axis = 0))\n",
    "print(np.max(stkArray, axis = 0))\n",
    "print(np.min(stkArray, axis = 0))\n",
    "print(np.percentile(stkArray, 99, axis = 0))\n",
    "stkArray[0]"
   ]
  },
  {
   "cell_type": "markdown",
   "metadata": {},
   "source": [
    "## Ground truth report"
   ]
  },
  {
   "cell_type": "markdown",
   "metadata": {},
   "source": [
    "[ 1. 61. 84. 69.]\n",
    "\n",
    "[  1 115 143 104]\n",
    "\n",
    "[ 1 17 20 20]\n",
    "\n",
    "[  1.  109.6 132.5 100. ]\n",
    "\n",
    "array([ 1, 64, 82, 68])"
   ]
  },
  {
   "cell_type": "code",
   "execution_count": null,
   "metadata": {},
   "outputs": [],
   "source": []
  }
 ],
 "metadata": {
  "kernelspec": {
   "display_name": "Python 3 (ipykernel)",
   "language": "python",
   "name": "python3"
  },
  "language_info": {
   "codemirror_mode": {
    "name": "ipython",
    "version": 3
   },
   "file_extension": ".py",
   "mimetype": "text/x-python",
   "name": "python",
   "nbconvert_exporter": "python",
   "pygments_lexer": "ipython3",
   "version": "3.9.12"
  },
  "widgets": {
   "application/vnd.jupyter.widget-state+json": {
    "state": {},
    "version_major": 2,
    "version_minor": 0
   }
  }
 },
 "nbformat": 4,
 "nbformat_minor": 4
}
