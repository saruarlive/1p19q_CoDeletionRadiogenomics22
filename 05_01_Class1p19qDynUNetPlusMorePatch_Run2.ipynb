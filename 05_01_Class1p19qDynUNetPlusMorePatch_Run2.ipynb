{
 "cells": [
  {
   "cell_type": "markdown",
   "id": "d383ca2a",
   "metadata": {},
   "source": [
    "# MRI based brain tumor 1p19q classification with MONAI (3D multiparametric MRI)"
   ]
  },
  {
   "cell_type": "markdown",
   "id": "f52a65fb",
   "metadata": {},
   "source": [
    "This tutorial shows how to construct a training workflow of binary classification task.  \n",
    "And it contains below features:\n",
    "1. Transforms for Monai dictionary format data.\n",
    "2. Define a new transform according MONAI transform API.\n",
    "3. Load Nifti image with metadata, load a list of images and stack them.\n",
    "5. 3D Voxel DynUNet model, Dice loss, cross entropy loss function for IDH classification task.\n",
    "6. Deterministic training for reproducibility.\n",
    "\n",
    "The Brain tumor dataset can be downloaded from \n",
    "https://ipp.cbica.upenn.edu/ and  http://medicaldecathlon.com/.  \n",
    "\n",
    "Target: IDH classification based on whole brain, tumour core, whole tumor, and enhancing tumor from MRI \n",
    "Modality: Multimodal multisite MRI data (FLAIR, T1w, T1gd,T2w)  \n",
    "training: 368 3D MRI \\\n",
    "validation:  \\\n",
    "testing: Not revealed\n",
    "\n",
    "Source: BRATS 2020/2021 datasets.  \n",
    "Challenge: RSNA-MICCAI Brain Tumor Radiogenomic Classification\n",
    "\n",
    "Below figure shows image patches with the tumor sub-regions that are annotated in the different modalities (top left) and the final labels for the whole dataset (right). (Figure taken from the [BraTS IEEE TMI paper](https://ieeexplore.ieee.org/document/6975210/))  \n",
    "![image](https://ieeexplore.ieee.org/mediastore_new/IEEE/content/media/42/7283692/6975210/6975210-fig-3-source-large.gif)\n",
    "\n",
    "The image patches show from left to right:\n",
    "1. the whole tumor (yellow) visible in T2-FLAIR (Fig.A).\n",
    "2. the tumor core (red) visible in T2 (Fig.B).\n",
    "3. the enhancing tumor structures (light blue) visible in T1Gd, surrounding the cystic/necrotic components of the core (green) (Fig. C).\n",
    "4. The segmentations are used to generate the final labels of the tumor sub-regions (Fig.D): edema (yellow), non-enhancing solid core (red), necrotic/cystic core (green), enhancing core (blue)."
   ]
  },
  {
   "cell_type": "code",
   "execution_count": 1,
   "id": "8da00e2a",
   "metadata": {},
   "outputs": [
    {
     "name": "stdout",
     "output_type": "stream",
     "text": [
      "MONAI version: 0.9.0\n",
      "Numpy version: 1.22.3\n",
      "Pytorch version: 1.10.1\n",
      "MONAI flags: HAS_EXT = False, USE_COMPILED = False\n",
      "MONAI rev id: af0e0e9f757558d144b655c63afcea3a4e0a06f5\n",
      "MONAI __file__: /home/mmiv-ml/anaconda3/envs/sa_tumorseg22/lib/python3.9/site-packages/monai/__init__.py\n",
      "\n",
      "Optional dependencies:\n",
      "Pytorch Ignite version: 0.4.9\n",
      "Nibabel version: 4.0.1\n",
      "scikit-image version: 0.19.3\n",
      "Pillow version: 9.0.1\n",
      "Tensorboard version: NOT INSTALLED or UNKNOWN VERSION.\n",
      "gdown version: NOT INSTALLED or UNKNOWN VERSION.\n",
      "TorchVision version: 0.11.2\n",
      "tqdm version: 4.64.0\n",
      "lmdb version: NOT INSTALLED or UNKNOWN VERSION.\n",
      "psutil version: 5.9.1\n",
      "pandas version: 1.4.2\n",
      "einops version: NOT INSTALLED or UNKNOWN VERSION.\n",
      "transformers version: NOT INSTALLED or UNKNOWN VERSION.\n",
      "mlflow version: NOT INSTALLED or UNKNOWN VERSION.\n",
      "pynrrd version: NOT INSTALLED or UNKNOWN VERSION.\n",
      "\n",
      "For details about installing the optional dependencies, please visit:\n",
      "    https://docs.monai.io/en/latest/installation.html#installing-the-recommended-dependencies\n",
      "\n"
     ]
    }
   ],
   "source": [
    "# Copyright 2020 MONAI Consortium\n",
    "# Licensed under the Apache License, Version 2.0 (the \"License\");\n",
    "# you may not use this file except in compliance with the License.\n",
    "# You may obtain a copy of the License at\n",
    "#     http://www.apache.org/licenses/LICENSE-2.0\n",
    "# Unless required by applicable law or agreed to in writing, software\n",
    "# distributed under the License is distributed on an \"AS IS\" BASIS,\n",
    "# WITHOUT WARRANTIES OR CONDITIONS OF ANY KIND, either express or implied.\n",
    "# See the License for the specific language governing permissions and\n",
    "# limitations under the License.\n",
    "\n",
    "import os\n",
    "import shutil\n",
    "import tempfile\n",
    "import sys\n",
    "import gc\n",
    "import logging\n",
    "import copy\n",
    "import pdb\n",
    "\n",
    "import matplotlib.pyplot as plt\n",
    "from mpl_toolkits.axes_grid1 import ImageGrid\n",
    "import seaborn as sns\n",
    "import numpy as np\n",
    "import pandas as pd\n",
    "import scipy\n",
    "from scipy import ndimage\n",
    "from sklearn.model_selection import KFold\n",
    "import torch\n",
    "import torch.nn as nn\n",
    "import torch.nn.functional as F\n",
    "from monai.networks.nets import DynUNet, EfficientNetBN, DenseNet121, SegResNet, SegResNetVAE\n",
    "from monai.data import CacheDataset, Dataset, DataLoader, ThreadDataLoader, list_data_collate\n",
    "from torch.utils.data import WeightedRandomSampler\n",
    "\n",
    "import monai\n",
    "from monai.transforms import (\n",
    "    Activations,\n",
    "    AsDiscrete,\n",
    "    CastToTyped,\n",
    "    Compose, \n",
    "    CropForegroundd,\n",
    "    ResizeWithPadOrCrop,\n",
    "    ResizeWithPadOrCropd,\n",
    "    Spacingd,\n",
    "    RandRotate90d,\n",
    "    Resized,\n",
    "    EnsureChannelFirstd, \n",
    "    Orientationd,\n",
    "    LoadImaged,\n",
    "    CopyItemsd,\n",
    "    NormalizeIntensity,\n",
    "    HistogramNormalize,\n",
    "    NormalizeIntensityd,\n",
    "    RandCropByPosNegLabeld,\n",
    "    RandCropByLabelClassesd,\n",
    "    RandAffined,\n",
    "    RandFlipd,\n",
    "    Flipd,\n",
    "    RandGaussianNoised,\n",
    "    RandGaussianSmoothd,\n",
    "    RandGibbsNoised,\n",
    "    RandStdShiftIntensityd,\n",
    "    RandScaleIntensityd,\n",
    "    RandZoomd, \n",
    "    SpatialCrop, \n",
    "    SpatialPadd, \n",
    "    MapTransform,\n",
    "    CastToType,\n",
    "    ToTensord,\n",
    "    AddChanneld,\n",
    "    MapTransform,\n",
    "    Orientationd,\n",
    "    ScaleIntensityd,\n",
    "    ScaleIntensity,\n",
    "    ScaleIntensityRangePercentilesd,\n",
    "    KeepLargestConnectedComponentd,\n",
    "    KeepLargestConnectedComponent,\n",
    "    ScaleIntensityRange,\n",
    "    RandShiftIntensityd,\n",
    "    RandAdjustContrastd,\n",
    "    AdjustContrastd,\n",
    "    Rotated,\n",
    "    ToNumpyd,\n",
    "    ToDeviced,\n",
    "    EnsureType,\n",
    "    EnsureTyped,\n",
    "    DataStatsd,\n",
    ")\n",
    "\n",
    "from monai.config import KeysCollection\n",
    "from monai.transforms.compose import MapTransform, Randomizable\n",
    "from collections.abc import Iterable\n",
    "from typing import Any, Dict, Hashable, Mapping, Optional, Sequence, Tuple, Union\n",
    "from monai.utils import set_determinism\n",
    "from monai.utils import (\n",
    "    ensure_tuple,\n",
    "    ensure_tuple_rep,\n",
    "    ensure_tuple_size,\n",
    ")\n",
    "\n",
    "from monai.optimizers import LearningRateFinder\n",
    "\n",
    "from monai.transforms.compose import MapTransform\n",
    "from monai.transforms.utils import generate_spatial_bounding_box\n",
    "from skimage.transform import resize\n",
    "from monai.losses import DiceCELoss, DiceLoss\n",
    "from monai.utils import set_determinism\n",
    "from monai.inferers import sliding_window_inference\n",
    "\n",
    "\n",
    "from monai.metrics import DiceMetric, ROCAUCMetric, HausdorffDistanceMetric\n",
    "from monai.data import decollate_batch\n",
    "import glob\n",
    "import monai\n",
    "from monai.metrics import compute_meandice\n",
    "import random\n",
    "import pickle\n",
    "from collections import OrderedDict\n",
    "from typing import Sequence, Optional\n",
    "import ipywidgets as widgets\n",
    "from itertools import compress\n",
    "import SimpleITK as sitk\n",
    "import torchio as tio\n",
    "\n",
    "import sklearn\n",
    "from sklearn.metrics import mean_squared_error, roc_auc_score, accuracy_score, recall_score, \\\n",
    "accuracy_score, precision_score, f1_score, make_scorer, balanced_accuracy_score \n",
    "\n",
    "from monai.utils import ensure_tuple_rep\n",
    "from monai.networks.layers.factories import Conv, Dropout, Norm, Pool\n",
    "import matplotlib.pyplot as plt\n",
    "from ranger21 import Ranger21\n",
    "\n",
    "### monai and ignite based imports\n",
    "import logging\n",
    "import sys\n",
    "from ignite.engine import Engine, Events\n",
    "from ignite.contrib.handlers import FastaiLRFinder, ProgressBar\n",
    "from ignite.engine import (\n",
    "    Events,\n",
    "    _prepare_batch,\n",
    "    create_supervised_evaluator,\n",
    "    create_supervised_trainer,\n",
    ")\n",
    "from ignite.handlers import EarlyStopping, ModelCheckpoint\n",
    "\n",
    "\n",
    "from tqdm import tqdm\n",
    "from itkwidgets import view\n",
    "import random\n",
    "monai.config.print_config()\n",
    "#from sliding_window_inference_classes import sliding_window_inference_classes"
   ]
  },
  {
   "cell_type": "raw",
   "id": "9590f5b5",
   "metadata": {},
   "source": [
    "# Pipelines implemented here\n",
    "#[image](ProposedArchImgPath =250x250)\\\n",
    "<img src=\"assets/ProposedIDHClass.png\" align=\"left\" width=\"1024\" height=\"1800\">"
   ]
  },
  {
   "cell_type": "code",
   "execution_count": null,
   "id": "35432dce",
   "metadata": {},
   "outputs": [],
   "source": []
  },
  {
   "cell_type": "code",
   "execution_count": 2,
   "id": "10b8be66",
   "metadata": {},
   "outputs": [],
   "source": [
    "MAX_THREADS =2\n",
    "sitk.ProcessObject.SetGlobalDefaultNumberOfThreads(MAX_THREADS)"
   ]
  },
  {
   "cell_type": "code",
   "execution_count": 3,
   "id": "f5876a21",
   "metadata": {},
   "outputs": [
    {
     "name": "stdout",
     "output_type": "stream",
     "text": [
      "Mon Jul  4 00:37:37 2022       \n",
      "+-----------------------------------------------------------------------------+\n",
      "| NVIDIA-SMI 450.172.01   Driver Version: 450.172.01   CUDA Version: 11.0     |\n",
      "|-------------------------------+----------------------+----------------------+\n",
      "| GPU  Name        Persistence-M| Bus-Id        Disp.A | Volatile Uncorr. ECC |\n",
      "| Fan  Temp  Perf  Pwr:Usage/Cap|         Memory-Usage | GPU-Util  Compute M. |\n",
      "|                               |                      |               MIG M. |\n",
      "|===============================+======================+======================|\n",
      "|   0  Tesla V100-DGXS...  On   | 00000000:07:00.0 Off |                    0 |\n",
      "| N/A   38C    P0    41W / 300W |    108MiB / 32505MiB |      0%      Default |\n",
      "|                               |                      |                  N/A |\n",
      "+-------------------------------+----------------------+----------------------+\n",
      "|   1  Tesla V100-DGXS...  On   | 00000000:08:00.0 Off |                    0 |\n",
      "| N/A   40C    P0    53W / 300W |   7832MiB / 32508MiB |      0%      Default |\n",
      "|                               |                      |                  N/A |\n",
      "+-------------------------------+----------------------+----------------------+\n",
      "|   2  Tesla V100-DGXS...  On   | 00000000:0E:00.0 Off |                    0 |\n",
      "| N/A   39C    P0    37W / 300W |     13MiB / 32508MiB |      0%      Default |\n",
      "|                               |                      |                  N/A |\n",
      "+-------------------------------+----------------------+----------------------+\n",
      "|   3  Tesla V100-DGXS...  On   | 00000000:0F:00.0 Off |                    0 |\n",
      "| N/A   41C    P0    50W / 300W |  12909MiB / 32508MiB |      0%      Default |\n",
      "|                               |                      |                  N/A |\n",
      "+-------------------------------+----------------------+----------------------+\n",
      "                                                                               \n",
      "+-----------------------------------------------------------------------------+\n",
      "| Processes:                                                                  |\n",
      "|  GPU   GI   CI        PID   Type   Process name                  GPU Memory |\n",
      "|        ID   ID                                                   Usage      |\n",
      "|=============================================================================|\n",
      "|    0   N/A  N/A      2917      G   /usr/lib/xorg/Xorg                 86MiB |\n",
      "|    0   N/A  N/A      3284      G   /usr/bin/gnome-shell               16MiB |\n",
      "|    1   N/A  N/A      2917      G   /usr/lib/xorg/Xorg                  4MiB |\n",
      "|    2   N/A  N/A      2917      G   /usr/lib/xorg/Xorg                  4MiB |\n",
      "|    3   N/A  N/A      2917      G   /usr/lib/xorg/Xorg                  4MiB |\n",
      "|    3   N/A  N/A   3650176      C   .../sa_tumorseg22/bin/python     4567MiB |\n",
      "|    3   N/A  N/A   3708809      C   .../sa_tumorseg22/bin/python     8327MiB |\n",
      "+-----------------------------------------------------------------------------+\n"
     ]
    }
   ],
   "source": [
    "seeds = 40961024\n",
    "set_determinism(seed=seeds)\n",
    "##np.random.seed(seeds) np random seed does not work here\n",
    "!nvidia-smi"
   ]
  },
  {
   "cell_type": "code",
   "execution_count": 4,
   "id": "263bab47",
   "metadata": {},
   "outputs": [],
   "source": [
    "#patch_size = (128, 128, 128)\n",
    "spacing = (1.0, 1.0, 1.0)\n",
    "os.environ[\"CUDA_VISIBLE_DEVICES\"] =\"2\"\n",
    "device = torch.device('cuda:0')\n",
    "deviceName = 'cuda:0'"
   ]
  },
  {
   "cell_type": "code",
   "execution_count": 5,
   "id": "6c9b9247",
   "metadata": {},
   "outputs": [],
   "source": [
    "pd.set_option('display.max_colwidth', None)\n",
    "data_rpath = '/home/mmiv-ml/data'"
   ]
  },
  {
   "cell_type": "code",
   "execution_count": 6,
   "id": "57b306ed",
   "metadata": {},
   "outputs": [
    {
     "data": {
      "text/html": [
       "<div>\n",
       "<style scoped>\n",
       "    .dataframe tbody tr th:only-of-type {\n",
       "        vertical-align: middle;\n",
       "    }\n",
       "\n",
       "    .dataframe tbody tr th {\n",
       "        vertical-align: top;\n",
       "    }\n",
       "\n",
       "    .dataframe thead th {\n",
       "        text-align: right;\n",
       "    }\n",
       "</style>\n",
       "<table border=\"1\" class=\"dataframe\">\n",
       "  <thead>\n",
       "    <tr style=\"text-align: right;\">\n",
       "      <th></th>\n",
       "      <th>BraTS2021</th>\n",
       "      <th>t1wPath</th>\n",
       "      <th>t1cwPath</th>\n",
       "      <th>t2wPath</th>\n",
       "      <th>flairPath</th>\n",
       "      <th>segPath</th>\n",
       "      <th>brain_maskPath</th>\n",
       "      <th>brain_mask_ch2Path</th>\n",
       "      <th>brain_mask_ch1Path</th>\n",
       "      <th>BraTS2020</th>\n",
       "      <th>...</th>\n",
       "      <th>Histology</th>\n",
       "      <th>Grade</th>\n",
       "      <th>Data Collection</th>\n",
       "      <th>IDH</th>\n",
       "      <th>1p19q_co_deletion_bin</th>\n",
       "      <th>IDH</th>\n",
       "      <th>1p19q_co_deletion</th>\n",
       "      <th>CV_group</th>\n",
       "      <th>is_merged_2</th>\n",
       "      <th>is_merged_0</th>\n",
       "    </tr>\n",
       "  </thead>\n",
       "  <tbody>\n",
       "    <tr>\n",
       "      <th>0</th>\n",
       "      <td>BraTS2021_00140</td>\n",
       "      <td>/raid/brats2021/RSNA_ASNR_MICCAI_BraTS2021_TrainingData/BraTS2021_00140/BraTS2021_00140_t1.nii.gz</td>\n",
       "      <td>/raid/brats2021/RSNA_ASNR_MICCAI_BraTS2021_TrainingData/BraTS2021_00140/BraTS2021_00140_t1ce.nii.gz</td>\n",
       "      <td>/raid/brats2021/RSNA_ASNR_MICCAI_BraTS2021_TrainingData/BraTS2021_00140/BraTS2021_00140_t2.nii.gz</td>\n",
       "      <td>/raid/brats2021/RSNA_ASNR_MICCAI_BraTS2021_TrainingData/BraTS2021_00140/BraTS2021_00140_flair.nii.gz</td>\n",
       "      <td>/raid/brats2021/RSNA_ASNR_MICCAI_BraTS2021_TrainingData/BraTS2021_00140/BraTS2021_00140_seg.nii.gz</td>\n",
       "      <td>/raid/brats2021/T1wx4Brain_ROIs/BraTS2021_00140/ROI_BraTS2021_00140.nii.gz</td>\n",
       "      <td>/raid/brats2021/T1wx2Brain_ROIs_BraTS21_Training/BraTS2021_00140/BraTS2021_00140_BrainROIT1cwx2.nii.gz</td>\n",
       "      <td>/raid/brats2021/T1wx2Brain_ROIs_BraTS21_Training/BraTS2021_00140/BraTS2021_00140_BrainROI.nii.gz</td>\n",
       "      <td>BraTS20_Training_233</td>\n",
       "      <td>...</td>\n",
       "      <td>glioblastoma</td>\n",
       "      <td>G4</td>\n",
       "      <td>HGG</td>\n",
       "      <td>WT</td>\n",
       "      <td>0.0</td>\n",
       "      <td>NaN</td>\n",
       "      <td>non-codel</td>\n",
       "      <td>3.0</td>\n",
       "      <td>both</td>\n",
       "      <td>NaN</td>\n",
       "    </tr>\n",
       "    <tr>\n",
       "      <th>1</th>\n",
       "      <td>BraTS2021_01283</td>\n",
       "      <td>/raid/brats2021/RSNA_ASNR_MICCAI_BraTS2021_TrainingData/BraTS2021_01283/BraTS2021_01283_t1.nii.gz</td>\n",
       "      <td>/raid/brats2021/RSNA_ASNR_MICCAI_BraTS2021_TrainingData/BraTS2021_01283/BraTS2021_01283_t1ce.nii.gz</td>\n",
       "      <td>/raid/brats2021/RSNA_ASNR_MICCAI_BraTS2021_TrainingData/BraTS2021_01283/BraTS2021_01283_t2.nii.gz</td>\n",
       "      <td>/raid/brats2021/RSNA_ASNR_MICCAI_BraTS2021_TrainingData/BraTS2021_01283/BraTS2021_01283_flair.nii.gz</td>\n",
       "      <td>/raid/brats2021/RSNA_ASNR_MICCAI_BraTS2021_TrainingData/BraTS2021_01283/BraTS2021_01283_seg.nii.gz</td>\n",
       "      <td>/raid/brats2021/T1wx4Brain_ROIs/BraTS2021_01283/ROI_BraTS2021_01283.nii.gz</td>\n",
       "      <td>/raid/brats2021/T1wx2Brain_ROIs_BraTS21_Training/BraTS2021_01283/BraTS2021_01283_BrainROIT1cwx2.nii.gz</td>\n",
       "      <td>/raid/brats2021/T1wx2Brain_ROIs_BraTS21_Training/BraTS2021_01283/BraTS2021_01283_BrainROI.nii.gz</td>\n",
       "      <td>BraTS20_Training_165</td>\n",
       "      <td>...</td>\n",
       "      <td>glioblastoma</td>\n",
       "      <td>G4</td>\n",
       "      <td>HGG</td>\n",
       "      <td>WT</td>\n",
       "      <td>0.0</td>\n",
       "      <td>NaN</td>\n",
       "      <td>non-codel</td>\n",
       "      <td>2.0</td>\n",
       "      <td>both</td>\n",
       "      <td>NaN</td>\n",
       "    </tr>\n",
       "    <tr>\n",
       "      <th>2</th>\n",
       "      <td>BraTS2021_01528</td>\n",
       "      <td>/raid/brats2021/RSNA_ASNR_MICCAI_BraTS2021_TrainingData/BraTS2021_01528/BraTS2021_01528_t1.nii.gz</td>\n",
       "      <td>/raid/brats2021/RSNA_ASNR_MICCAI_BraTS2021_TrainingData/BraTS2021_01528/BraTS2021_01528_t1ce.nii.gz</td>\n",
       "      <td>/raid/brats2021/RSNA_ASNR_MICCAI_BraTS2021_TrainingData/BraTS2021_01528/BraTS2021_01528_t2.nii.gz</td>\n",
       "      <td>/raid/brats2021/RSNA_ASNR_MICCAI_BraTS2021_TrainingData/BraTS2021_01528/BraTS2021_01528_flair.nii.gz</td>\n",
       "      <td>/raid/brats2021/RSNA_ASNR_MICCAI_BraTS2021_TrainingData/BraTS2021_01528/BraTS2021_01528_seg.nii.gz</td>\n",
       "      <td>/raid/brats2021/T1wx4Brain_ROIs/BraTS2021_01528/ROI_BraTS2021_01528.nii.gz</td>\n",
       "      <td>/raid/brats2021/T1wx2Brain_ROIs_BraTS21_Training/BraTS2021_01528/BraTS2021_01528_BrainROIT1cwx2.nii.gz</td>\n",
       "      <td>/raid/brats2021/T1wx2Brain_ROIs_BraTS21_Training/BraTS2021_01528/BraTS2021_01528_BrainROI.nii.gz</td>\n",
       "      <td>BraTS20_Training_323</td>\n",
       "      <td>...</td>\n",
       "      <td>oligoastrocytoma</td>\n",
       "      <td>G2</td>\n",
       "      <td>LGG</td>\n",
       "      <td>Mutant</td>\n",
       "      <td>0.0</td>\n",
       "      <td>IDH1</td>\n",
       "      <td>non-codel</td>\n",
       "      <td>3.0</td>\n",
       "      <td>both</td>\n",
       "      <td>NaN</td>\n",
       "    </tr>\n",
       "    <tr>\n",
       "      <th>3</th>\n",
       "      <td>BraTS2021_01503</td>\n",
       "      <td>/raid/brats2021/RSNA_ASNR_MICCAI_BraTS2021_TrainingData/BraTS2021_01503/BraTS2021_01503_t1.nii.gz</td>\n",
       "      <td>/raid/brats2021/RSNA_ASNR_MICCAI_BraTS2021_TrainingData/BraTS2021_01503/BraTS2021_01503_t1ce.nii.gz</td>\n",
       "      <td>/raid/brats2021/RSNA_ASNR_MICCAI_BraTS2021_TrainingData/BraTS2021_01503/BraTS2021_01503_t2.nii.gz</td>\n",
       "      <td>/raid/brats2021/RSNA_ASNR_MICCAI_BraTS2021_TrainingData/BraTS2021_01503/BraTS2021_01503_flair.nii.gz</td>\n",
       "      <td>/raid/brats2021/RSNA_ASNR_MICCAI_BraTS2021_TrainingData/BraTS2021_01503/BraTS2021_01503_seg.nii.gz</td>\n",
       "      <td>/raid/brats2021/T1wx4Brain_ROIs/BraTS2021_01503/ROI_BraTS2021_01503.nii.gz</td>\n",
       "      <td>/raid/brats2021/T1wx2Brain_ROIs_BraTS21_Training/BraTS2021_01503/BraTS2021_01503_BrainROIT1cwx2.nii.gz</td>\n",
       "      <td>/raid/brats2021/T1wx2Brain_ROIs_BraTS21_Training/BraTS2021_01503/BraTS2021_01503_BrainROI.nii.gz</td>\n",
       "      <td>BraTS20_Training_298</td>\n",
       "      <td>...</td>\n",
       "      <td>oligodendroglioma</td>\n",
       "      <td>G3</td>\n",
       "      <td>LGG</td>\n",
       "      <td>Mutant</td>\n",
       "      <td>1.0</td>\n",
       "      <td>IDH1</td>\n",
       "      <td>codel</td>\n",
       "      <td>3.0</td>\n",
       "      <td>both</td>\n",
       "      <td>NaN</td>\n",
       "    </tr>\n",
       "    <tr>\n",
       "      <th>4</th>\n",
       "      <td>BraTS2021_01453</td>\n",
       "      <td>/raid/brats2021/RSNA_ASNR_MICCAI_BraTS2021_TrainingData/BraTS2021_01453/BraTS2021_01453_t1.nii.gz</td>\n",
       "      <td>/raid/brats2021/RSNA_ASNR_MICCAI_BraTS2021_TrainingData/BraTS2021_01453/BraTS2021_01453_t1ce.nii.gz</td>\n",
       "      <td>/raid/brats2021/RSNA_ASNR_MICCAI_BraTS2021_TrainingData/BraTS2021_01453/BraTS2021_01453_t2.nii.gz</td>\n",
       "      <td>/raid/brats2021/RSNA_ASNR_MICCAI_BraTS2021_TrainingData/BraTS2021_01453/BraTS2021_01453_flair.nii.gz</td>\n",
       "      <td>/raid/brats2021/RSNA_ASNR_MICCAI_BraTS2021_TrainingData/BraTS2021_01453/BraTS2021_01453_seg.nii.gz</td>\n",
       "      <td>/raid/brats2021/T1wx4Brain_ROIs/BraTS2021_01453/ROI_BraTS2021_01453.nii.gz</td>\n",
       "      <td>/raid/brats2021/T1wx2Brain_ROIs_BraTS21_Training/BraTS2021_01453/BraTS2021_01453_BrainROIT1cwx2.nii.gz</td>\n",
       "      <td>/raid/brats2021/T1wx2Brain_ROIs_BraTS21_Training/BraTS2021_01453/BraTS2021_01453_BrainROI.nii.gz</td>\n",
       "      <td>BraTS20_Training_206</td>\n",
       "      <td>...</td>\n",
       "      <td>glioblastoma</td>\n",
       "      <td>G4</td>\n",
       "      <td>HGG</td>\n",
       "      <td>WT</td>\n",
       "      <td>0.0</td>\n",
       "      <td>NaN</td>\n",
       "      <td>non-codel</td>\n",
       "      <td>1.0</td>\n",
       "      <td>both</td>\n",
       "      <td>NaN</td>\n",
       "    </tr>\n",
       "    <tr>\n",
       "      <th>...</th>\n",
       "      <td>...</td>\n",
       "      <td>...</td>\n",
       "      <td>...</td>\n",
       "      <td>...</td>\n",
       "      <td>...</td>\n",
       "      <td>...</td>\n",
       "      <td>...</td>\n",
       "      <td>...</td>\n",
       "      <td>...</td>\n",
       "      <td>...</td>\n",
       "      <td>...</td>\n",
       "      <td>...</td>\n",
       "      <td>...</td>\n",
       "      <td>...</td>\n",
       "      <td>...</td>\n",
       "      <td>...</td>\n",
       "      <td>...</td>\n",
       "      <td>...</td>\n",
       "      <td>...</td>\n",
       "      <td>...</td>\n",
       "      <td>...</td>\n",
       "    </tr>\n",
       "    <tr>\n",
       "      <th>363</th>\n",
       "      <td>NaN</td>\n",
       "      <td>NaN</td>\n",
       "      <td>/raid/brats2021/LGG_1p19q_rawNifti/LGG_1p19q_BraTSLikeProcess_mnibet/LGG-651/LGG-651_t1Gd.nii.gz</td>\n",
       "      <td>/raid/brats2021/LGG_1p19q_rawNifti/LGG_1p19q_BraTSLikeProcess_mnibet/LGG-651/LGG-651_t2.nii.gz</td>\n",
       "      <td>NaN</td>\n",
       "      <td>/raid/brats2021/LGG_1p19q_rawNifti/4Ensemble_LGG_1p19q_Infer/LGG-651/LGG-651_pred.nii.gz</td>\n",
       "      <td>NaN</td>\n",
       "      <td>/raid/brats2021/LGG_1p19q_rawNifti/T1wx2Brain_ROIs_LGG_1p19q/LGG-651/LGG-651_BrainROIT1cwx2.nii.gz</td>\n",
       "      <td>/raid/brats2021/LGG_1p19q_rawNifti/T1wx2Brain_ROIs_LGG_1p19q/LGG-651/LGG-651_BrainROI.nii.gz</td>\n",
       "      <td>NaN</td>\n",
       "      <td>...</td>\n",
       "      <td>Oligodendroglioma</td>\n",
       "      <td>G2</td>\n",
       "      <td>LGG</td>\n",
       "      <td>NaN</td>\n",
       "      <td>1.0</td>\n",
       "      <td>NaN</td>\n",
       "      <td>codel</td>\n",
       "      <td>3.0</td>\n",
       "      <td>NaN</td>\n",
       "      <td>both</td>\n",
       "    </tr>\n",
       "    <tr>\n",
       "      <th>364</th>\n",
       "      <td>NaN</td>\n",
       "      <td>NaN</td>\n",
       "      <td>/raid/brats2021/LGG_1p19q_rawNifti/LGG_1p19q_BraTSLikeProcess_mnibet/LGG-658/LGG-658_t1Gd.nii.gz</td>\n",
       "      <td>/raid/brats2021/LGG_1p19q_rawNifti/LGG_1p19q_BraTSLikeProcess_mnibet/LGG-658/LGG-658_t2.nii.gz</td>\n",
       "      <td>NaN</td>\n",
       "      <td>/raid/brats2021/LGG_1p19q_rawNifti/4Ensemble_LGG_1p19q_Infer/LGG-658/LGG-658_pred.nii.gz</td>\n",
       "      <td>NaN</td>\n",
       "      <td>/raid/brats2021/LGG_1p19q_rawNifti/T1wx2Brain_ROIs_LGG_1p19q/LGG-658/LGG-658_BrainROIT1cwx2.nii.gz</td>\n",
       "      <td>/raid/brats2021/LGG_1p19q_rawNifti/T1wx2Brain_ROIs_LGG_1p19q/LGG-658/LGG-658_BrainROI.nii.gz</td>\n",
       "      <td>NaN</td>\n",
       "      <td>...</td>\n",
       "      <td>Oligodendroglioma</td>\n",
       "      <td>G3</td>\n",
       "      <td>LGG</td>\n",
       "      <td>NaN</td>\n",
       "      <td>1.0</td>\n",
       "      <td>NaN</td>\n",
       "      <td>codel</td>\n",
       "      <td>3.0</td>\n",
       "      <td>NaN</td>\n",
       "      <td>both</td>\n",
       "    </tr>\n",
       "    <tr>\n",
       "      <th>365</th>\n",
       "      <td>NaN</td>\n",
       "      <td>NaN</td>\n",
       "      <td>/raid/brats2021/LGG_1p19q_rawNifti/LGG_1p19q_BraTSLikeProcess_mnibet/LGG-659/LGG-659_t1Gd.nii.gz</td>\n",
       "      <td>/raid/brats2021/LGG_1p19q_rawNifti/LGG_1p19q_BraTSLikeProcess_mnibet/LGG-659/LGG-659_t2.nii.gz</td>\n",
       "      <td>NaN</td>\n",
       "      <td>/raid/brats2021/LGG_1p19q_rawNifti/4Ensemble_LGG_1p19q_Infer/LGG-659/LGG-659_pred.nii.gz</td>\n",
       "      <td>NaN</td>\n",
       "      <td>/raid/brats2021/LGG_1p19q_rawNifti/T1wx2Brain_ROIs_LGG_1p19q/LGG-659/LGG-659_BrainROIT1cwx2.nii.gz</td>\n",
       "      <td>/raid/brats2021/LGG_1p19q_rawNifti/T1wx2Brain_ROIs_LGG_1p19q/LGG-659/LGG-659_BrainROI.nii.gz</td>\n",
       "      <td>NaN</td>\n",
       "      <td>...</td>\n",
       "      <td>Oligoastrocytoma</td>\n",
       "      <td>G2</td>\n",
       "      <td>LGG</td>\n",
       "      <td>NaN</td>\n",
       "      <td>1.0</td>\n",
       "      <td>NaN</td>\n",
       "      <td>codel</td>\n",
       "      <td>2.0</td>\n",
       "      <td>NaN</td>\n",
       "      <td>both</td>\n",
       "    </tr>\n",
       "    <tr>\n",
       "      <th>366</th>\n",
       "      <td>NaN</td>\n",
       "      <td>NaN</td>\n",
       "      <td>/raid/brats2021/LGG_1p19q_rawNifti/LGG_1p19q_BraTSLikeProcess_mnibet/LGG-660/LGG-660_t1Gd.nii.gz</td>\n",
       "      <td>/raid/brats2021/LGG_1p19q_rawNifti/LGG_1p19q_BraTSLikeProcess_mnibet/LGG-660/LGG-660_t2.nii.gz</td>\n",
       "      <td>NaN</td>\n",
       "      <td>/raid/brats2021/LGG_1p19q_rawNifti/4Ensemble_LGG_1p19q_Infer/LGG-660/LGG-660_pred.nii.gz</td>\n",
       "      <td>NaN</td>\n",
       "      <td>/raid/brats2021/LGG_1p19q_rawNifti/T1wx2Brain_ROIs_LGG_1p19q/LGG-660/LGG-660_BrainROIT1cwx2.nii.gz</td>\n",
       "      <td>/raid/brats2021/LGG_1p19q_rawNifti/T1wx2Brain_ROIs_LGG_1p19q/LGG-660/LGG-660_BrainROI.nii.gz</td>\n",
       "      <td>NaN</td>\n",
       "      <td>...</td>\n",
       "      <td>Oligoastrocytoma</td>\n",
       "      <td>G2</td>\n",
       "      <td>LGG</td>\n",
       "      <td>NaN</td>\n",
       "      <td>1.0</td>\n",
       "      <td>NaN</td>\n",
       "      <td>codel</td>\n",
       "      <td>1.0</td>\n",
       "      <td>NaN</td>\n",
       "      <td>both</td>\n",
       "    </tr>\n",
       "    <tr>\n",
       "      <th>367</th>\n",
       "      <td>NaN</td>\n",
       "      <td>NaN</td>\n",
       "      <td>/raid/brats2021/LGG_1p19q_rawNifti/LGG_1p19q_BraTSLikeProcess_mnibet/LGG-766/LGG-766_t1Gd.nii.gz</td>\n",
       "      <td>/raid/brats2021/LGG_1p19q_rawNifti/LGG_1p19q_BraTSLikeProcess_mnibet/LGG-766/LGG-766_t2.nii.gz</td>\n",
       "      <td>NaN</td>\n",
       "      <td>/raid/brats2021/LGG_1p19q_rawNifti/4Ensemble_LGG_1p19q_Infer/LGG-766/LGG-766_pred.nii.gz</td>\n",
       "      <td>NaN</td>\n",
       "      <td>/raid/brats2021/LGG_1p19q_rawNifti/T1wx2Brain_ROIs_LGG_1p19q/LGG-766/LGG-766_BrainROIT1cwx2.nii.gz</td>\n",
       "      <td>/raid/brats2021/LGG_1p19q_rawNifti/T1wx2Brain_ROIs_LGG_1p19q/LGG-766/LGG-766_BrainROI.nii.gz</td>\n",
       "      <td>NaN</td>\n",
       "      <td>...</td>\n",
       "      <td>Oligoastrocytoma</td>\n",
       "      <td>G2</td>\n",
       "      <td>LGG</td>\n",
       "      <td>NaN</td>\n",
       "      <td>0.0</td>\n",
       "      <td>NaN</td>\n",
       "      <td>non-codel</td>\n",
       "      <td>1.0</td>\n",
       "      <td>NaN</td>\n",
       "      <td>both</td>\n",
       "    </tr>\n",
       "  </tbody>\n",
       "</table>\n",
       "<p>368 rows × 29 columns</p>\n",
       "</div>"
      ],
      "text/plain": [
       "           BraTS2021  \\\n",
       "0    BraTS2021_00140   \n",
       "1    BraTS2021_01283   \n",
       "2    BraTS2021_01528   \n",
       "3    BraTS2021_01503   \n",
       "4    BraTS2021_01453   \n",
       "..               ...   \n",
       "363              NaN   \n",
       "364              NaN   \n",
       "365              NaN   \n",
       "366              NaN   \n",
       "367              NaN   \n",
       "\n",
       "                                                                                               t1wPath  \\\n",
       "0    /raid/brats2021/RSNA_ASNR_MICCAI_BraTS2021_TrainingData/BraTS2021_00140/BraTS2021_00140_t1.nii.gz   \n",
       "1    /raid/brats2021/RSNA_ASNR_MICCAI_BraTS2021_TrainingData/BraTS2021_01283/BraTS2021_01283_t1.nii.gz   \n",
       "2    /raid/brats2021/RSNA_ASNR_MICCAI_BraTS2021_TrainingData/BraTS2021_01528/BraTS2021_01528_t1.nii.gz   \n",
       "3    /raid/brats2021/RSNA_ASNR_MICCAI_BraTS2021_TrainingData/BraTS2021_01503/BraTS2021_01503_t1.nii.gz   \n",
       "4    /raid/brats2021/RSNA_ASNR_MICCAI_BraTS2021_TrainingData/BraTS2021_01453/BraTS2021_01453_t1.nii.gz   \n",
       "..                                                                                                 ...   \n",
       "363                                                                                                NaN   \n",
       "364                                                                                                NaN   \n",
       "365                                                                                                NaN   \n",
       "366                                                                                                NaN   \n",
       "367                                                                                                NaN   \n",
       "\n",
       "                                                                                                t1cwPath  \\\n",
       "0    /raid/brats2021/RSNA_ASNR_MICCAI_BraTS2021_TrainingData/BraTS2021_00140/BraTS2021_00140_t1ce.nii.gz   \n",
       "1    /raid/brats2021/RSNA_ASNR_MICCAI_BraTS2021_TrainingData/BraTS2021_01283/BraTS2021_01283_t1ce.nii.gz   \n",
       "2    /raid/brats2021/RSNA_ASNR_MICCAI_BraTS2021_TrainingData/BraTS2021_01528/BraTS2021_01528_t1ce.nii.gz   \n",
       "3    /raid/brats2021/RSNA_ASNR_MICCAI_BraTS2021_TrainingData/BraTS2021_01503/BraTS2021_01503_t1ce.nii.gz   \n",
       "4    /raid/brats2021/RSNA_ASNR_MICCAI_BraTS2021_TrainingData/BraTS2021_01453/BraTS2021_01453_t1ce.nii.gz   \n",
       "..                                                                                                   ...   \n",
       "363     /raid/brats2021/LGG_1p19q_rawNifti/LGG_1p19q_BraTSLikeProcess_mnibet/LGG-651/LGG-651_t1Gd.nii.gz   \n",
       "364     /raid/brats2021/LGG_1p19q_rawNifti/LGG_1p19q_BraTSLikeProcess_mnibet/LGG-658/LGG-658_t1Gd.nii.gz   \n",
       "365     /raid/brats2021/LGG_1p19q_rawNifti/LGG_1p19q_BraTSLikeProcess_mnibet/LGG-659/LGG-659_t1Gd.nii.gz   \n",
       "366     /raid/brats2021/LGG_1p19q_rawNifti/LGG_1p19q_BraTSLikeProcess_mnibet/LGG-660/LGG-660_t1Gd.nii.gz   \n",
       "367     /raid/brats2021/LGG_1p19q_rawNifti/LGG_1p19q_BraTSLikeProcess_mnibet/LGG-766/LGG-766_t1Gd.nii.gz   \n",
       "\n",
       "                                                                                               t2wPath  \\\n",
       "0    /raid/brats2021/RSNA_ASNR_MICCAI_BraTS2021_TrainingData/BraTS2021_00140/BraTS2021_00140_t2.nii.gz   \n",
       "1    /raid/brats2021/RSNA_ASNR_MICCAI_BraTS2021_TrainingData/BraTS2021_01283/BraTS2021_01283_t2.nii.gz   \n",
       "2    /raid/brats2021/RSNA_ASNR_MICCAI_BraTS2021_TrainingData/BraTS2021_01528/BraTS2021_01528_t2.nii.gz   \n",
       "3    /raid/brats2021/RSNA_ASNR_MICCAI_BraTS2021_TrainingData/BraTS2021_01503/BraTS2021_01503_t2.nii.gz   \n",
       "4    /raid/brats2021/RSNA_ASNR_MICCAI_BraTS2021_TrainingData/BraTS2021_01453/BraTS2021_01453_t2.nii.gz   \n",
       "..                                                                                                 ...   \n",
       "363     /raid/brats2021/LGG_1p19q_rawNifti/LGG_1p19q_BraTSLikeProcess_mnibet/LGG-651/LGG-651_t2.nii.gz   \n",
       "364     /raid/brats2021/LGG_1p19q_rawNifti/LGG_1p19q_BraTSLikeProcess_mnibet/LGG-658/LGG-658_t2.nii.gz   \n",
       "365     /raid/brats2021/LGG_1p19q_rawNifti/LGG_1p19q_BraTSLikeProcess_mnibet/LGG-659/LGG-659_t2.nii.gz   \n",
       "366     /raid/brats2021/LGG_1p19q_rawNifti/LGG_1p19q_BraTSLikeProcess_mnibet/LGG-660/LGG-660_t2.nii.gz   \n",
       "367     /raid/brats2021/LGG_1p19q_rawNifti/LGG_1p19q_BraTSLikeProcess_mnibet/LGG-766/LGG-766_t2.nii.gz   \n",
       "\n",
       "                                                                                                flairPath  \\\n",
       "0    /raid/brats2021/RSNA_ASNR_MICCAI_BraTS2021_TrainingData/BraTS2021_00140/BraTS2021_00140_flair.nii.gz   \n",
       "1    /raid/brats2021/RSNA_ASNR_MICCAI_BraTS2021_TrainingData/BraTS2021_01283/BraTS2021_01283_flair.nii.gz   \n",
       "2    /raid/brats2021/RSNA_ASNR_MICCAI_BraTS2021_TrainingData/BraTS2021_01528/BraTS2021_01528_flair.nii.gz   \n",
       "3    /raid/brats2021/RSNA_ASNR_MICCAI_BraTS2021_TrainingData/BraTS2021_01503/BraTS2021_01503_flair.nii.gz   \n",
       "4    /raid/brats2021/RSNA_ASNR_MICCAI_BraTS2021_TrainingData/BraTS2021_01453/BraTS2021_01453_flair.nii.gz   \n",
       "..                                                                                                    ...   \n",
       "363                                                                                                   NaN   \n",
       "364                                                                                                   NaN   \n",
       "365                                                                                                   NaN   \n",
       "366                                                                                                   NaN   \n",
       "367                                                                                                   NaN   \n",
       "\n",
       "                                                                                                segPath  \\\n",
       "0    /raid/brats2021/RSNA_ASNR_MICCAI_BraTS2021_TrainingData/BraTS2021_00140/BraTS2021_00140_seg.nii.gz   \n",
       "1    /raid/brats2021/RSNA_ASNR_MICCAI_BraTS2021_TrainingData/BraTS2021_01283/BraTS2021_01283_seg.nii.gz   \n",
       "2    /raid/brats2021/RSNA_ASNR_MICCAI_BraTS2021_TrainingData/BraTS2021_01528/BraTS2021_01528_seg.nii.gz   \n",
       "3    /raid/brats2021/RSNA_ASNR_MICCAI_BraTS2021_TrainingData/BraTS2021_01503/BraTS2021_01503_seg.nii.gz   \n",
       "4    /raid/brats2021/RSNA_ASNR_MICCAI_BraTS2021_TrainingData/BraTS2021_01453/BraTS2021_01453_seg.nii.gz   \n",
       "..                                                                                                  ...   \n",
       "363            /raid/brats2021/LGG_1p19q_rawNifti/4Ensemble_LGG_1p19q_Infer/LGG-651/LGG-651_pred.nii.gz   \n",
       "364            /raid/brats2021/LGG_1p19q_rawNifti/4Ensemble_LGG_1p19q_Infer/LGG-658/LGG-658_pred.nii.gz   \n",
       "365            /raid/brats2021/LGG_1p19q_rawNifti/4Ensemble_LGG_1p19q_Infer/LGG-659/LGG-659_pred.nii.gz   \n",
       "366            /raid/brats2021/LGG_1p19q_rawNifti/4Ensemble_LGG_1p19q_Infer/LGG-660/LGG-660_pred.nii.gz   \n",
       "367            /raid/brats2021/LGG_1p19q_rawNifti/4Ensemble_LGG_1p19q_Infer/LGG-766/LGG-766_pred.nii.gz   \n",
       "\n",
       "                                                                 brain_maskPath  \\\n",
       "0    /raid/brats2021/T1wx4Brain_ROIs/BraTS2021_00140/ROI_BraTS2021_00140.nii.gz   \n",
       "1    /raid/brats2021/T1wx4Brain_ROIs/BraTS2021_01283/ROI_BraTS2021_01283.nii.gz   \n",
       "2    /raid/brats2021/T1wx4Brain_ROIs/BraTS2021_01528/ROI_BraTS2021_01528.nii.gz   \n",
       "3    /raid/brats2021/T1wx4Brain_ROIs/BraTS2021_01503/ROI_BraTS2021_01503.nii.gz   \n",
       "4    /raid/brats2021/T1wx4Brain_ROIs/BraTS2021_01453/ROI_BraTS2021_01453.nii.gz   \n",
       "..                                                                          ...   \n",
       "363                                                                         NaN   \n",
       "364                                                                         NaN   \n",
       "365                                                                         NaN   \n",
       "366                                                                         NaN   \n",
       "367                                                                         NaN   \n",
       "\n",
       "                                                                                         brain_mask_ch2Path  \\\n",
       "0    /raid/brats2021/T1wx2Brain_ROIs_BraTS21_Training/BraTS2021_00140/BraTS2021_00140_BrainROIT1cwx2.nii.gz   \n",
       "1    /raid/brats2021/T1wx2Brain_ROIs_BraTS21_Training/BraTS2021_01283/BraTS2021_01283_BrainROIT1cwx2.nii.gz   \n",
       "2    /raid/brats2021/T1wx2Brain_ROIs_BraTS21_Training/BraTS2021_01528/BraTS2021_01528_BrainROIT1cwx2.nii.gz   \n",
       "3    /raid/brats2021/T1wx2Brain_ROIs_BraTS21_Training/BraTS2021_01503/BraTS2021_01503_BrainROIT1cwx2.nii.gz   \n",
       "4    /raid/brats2021/T1wx2Brain_ROIs_BraTS21_Training/BraTS2021_01453/BraTS2021_01453_BrainROIT1cwx2.nii.gz   \n",
       "..                                                                                                      ...   \n",
       "363      /raid/brats2021/LGG_1p19q_rawNifti/T1wx2Brain_ROIs_LGG_1p19q/LGG-651/LGG-651_BrainROIT1cwx2.nii.gz   \n",
       "364      /raid/brats2021/LGG_1p19q_rawNifti/T1wx2Brain_ROIs_LGG_1p19q/LGG-658/LGG-658_BrainROIT1cwx2.nii.gz   \n",
       "365      /raid/brats2021/LGG_1p19q_rawNifti/T1wx2Brain_ROIs_LGG_1p19q/LGG-659/LGG-659_BrainROIT1cwx2.nii.gz   \n",
       "366      /raid/brats2021/LGG_1p19q_rawNifti/T1wx2Brain_ROIs_LGG_1p19q/LGG-660/LGG-660_BrainROIT1cwx2.nii.gz   \n",
       "367      /raid/brats2021/LGG_1p19q_rawNifti/T1wx2Brain_ROIs_LGG_1p19q/LGG-766/LGG-766_BrainROIT1cwx2.nii.gz   \n",
       "\n",
       "                                                                                   brain_mask_ch1Path  \\\n",
       "0    /raid/brats2021/T1wx2Brain_ROIs_BraTS21_Training/BraTS2021_00140/BraTS2021_00140_BrainROI.nii.gz   \n",
       "1    /raid/brats2021/T1wx2Brain_ROIs_BraTS21_Training/BraTS2021_01283/BraTS2021_01283_BrainROI.nii.gz   \n",
       "2    /raid/brats2021/T1wx2Brain_ROIs_BraTS21_Training/BraTS2021_01528/BraTS2021_01528_BrainROI.nii.gz   \n",
       "3    /raid/brats2021/T1wx2Brain_ROIs_BraTS21_Training/BraTS2021_01503/BraTS2021_01503_BrainROI.nii.gz   \n",
       "4    /raid/brats2021/T1wx2Brain_ROIs_BraTS21_Training/BraTS2021_01453/BraTS2021_01453_BrainROI.nii.gz   \n",
       "..                                                                                                ...   \n",
       "363      /raid/brats2021/LGG_1p19q_rawNifti/T1wx2Brain_ROIs_LGG_1p19q/LGG-651/LGG-651_BrainROI.nii.gz   \n",
       "364      /raid/brats2021/LGG_1p19q_rawNifti/T1wx2Brain_ROIs_LGG_1p19q/LGG-658/LGG-658_BrainROI.nii.gz   \n",
       "365      /raid/brats2021/LGG_1p19q_rawNifti/T1wx2Brain_ROIs_LGG_1p19q/LGG-659/LGG-659_BrainROI.nii.gz   \n",
       "366      /raid/brats2021/LGG_1p19q_rawNifti/T1wx2Brain_ROIs_LGG_1p19q/LGG-660/LGG-660_BrainROI.nii.gz   \n",
       "367      /raid/brats2021/LGG_1p19q_rawNifti/T1wx2Brain_ROIs_LGG_1p19q/LGG-766/LGG-766_BrainROI.nii.gz   \n",
       "\n",
       "                BraTS2020  ...          Histology Grade Data Collection  \\\n",
       "0    BraTS20_Training_233  ...       glioblastoma    G4             HGG   \n",
       "1    BraTS20_Training_165  ...       glioblastoma    G4             HGG   \n",
       "2    BraTS20_Training_323  ...   oligoastrocytoma    G2             LGG   \n",
       "3    BraTS20_Training_298  ...  oligodendroglioma    G3             LGG   \n",
       "4    BraTS20_Training_206  ...       glioblastoma    G4             HGG   \n",
       "..                    ...  ...                ...   ...             ...   \n",
       "363                   NaN  ...  Oligodendroglioma    G2             LGG   \n",
       "364                   NaN  ...  Oligodendroglioma    G3             LGG   \n",
       "365                   NaN  ...   Oligoastrocytoma    G2             LGG   \n",
       "366                   NaN  ...   Oligoastrocytoma    G2             LGG   \n",
       "367                   NaN  ...   Oligoastrocytoma    G2             LGG   \n",
       "\n",
       "        IDH  1p19q_co_deletion_bin   IDH 1p19q_co_deletion  CV_group  \\\n",
       "0        WT                    0.0   NaN         non-codel       3.0   \n",
       "1        WT                    0.0   NaN         non-codel       2.0   \n",
       "2    Mutant                    0.0  IDH1         non-codel       3.0   \n",
       "3    Mutant                    1.0  IDH1             codel       3.0   \n",
       "4        WT                    0.0   NaN         non-codel       1.0   \n",
       "..      ...                    ...   ...               ...       ...   \n",
       "363     NaN                    1.0   NaN             codel       3.0   \n",
       "364     NaN                    1.0   NaN             codel       3.0   \n",
       "365     NaN                    1.0   NaN             codel       2.0   \n",
       "366     NaN                    1.0   NaN             codel       1.0   \n",
       "367     NaN                    0.0   NaN         non-codel       1.0   \n",
       "\n",
       "    is_merged_2 is_merged_0  \n",
       "0          both         NaN  \n",
       "1          both         NaN  \n",
       "2          both         NaN  \n",
       "3          both         NaN  \n",
       "4          both         NaN  \n",
       "..          ...         ...  \n",
       "363         NaN        both  \n",
       "364         NaN        both  \n",
       "365         NaN        both  \n",
       "366         NaN        both  \n",
       "367         NaN        both  \n",
       "\n",
       "[368 rows x 29 columns]"
      ]
     },
     "execution_count": 6,
     "metadata": {},
     "output_type": "execute_result"
    }
   ],
   "source": [
    "BraTS20Subjectsp1q19WithMetaDF  = pd.read_csv('assets/BraTS_TCGA_LGG_GBM_LGG_1p19qDFMetaFew.csv')\n",
    "BraTS20Subjectsp1q19WithMetaDF"
   ]
  },
  {
   "cell_type": "code",
   "execution_count": 7,
   "id": "bce345bf",
   "metadata": {},
   "outputs": [
    {
     "data": {
      "text/html": [
       "<div>\n",
       "<style scoped>\n",
       "    .dataframe tbody tr th:only-of-type {\n",
       "        vertical-align: middle;\n",
       "    }\n",
       "\n",
       "    .dataframe tbody tr th {\n",
       "        vertical-align: top;\n",
       "    }\n",
       "\n",
       "    .dataframe thead th {\n",
       "        text-align: right;\n",
       "    }\n",
       "</style>\n",
       "<table border=\"1\" class=\"dataframe\">\n",
       "  <thead>\n",
       "    <tr style=\"text-align: right;\">\n",
       "      <th></th>\n",
       "      <th>BraTS2021</th>\n",
       "      <th>t1wPath</th>\n",
       "      <th>t1cwPath</th>\n",
       "      <th>t2wPath</th>\n",
       "      <th>flairPath</th>\n",
       "      <th>segPath</th>\n",
       "      <th>brain_maskPath</th>\n",
       "      <th>brain_mask_ch2Path</th>\n",
       "      <th>brain_mask_ch1Path</th>\n",
       "      <th>BraTS2020</th>\n",
       "      <th>...</th>\n",
       "      <th>Histology</th>\n",
       "      <th>Grade</th>\n",
       "      <th>Data Collection</th>\n",
       "      <th>IDH</th>\n",
       "      <th>1p19q_co_deletion_bin</th>\n",
       "      <th>IDH</th>\n",
       "      <th>1p19q_co_deletion</th>\n",
       "      <th>CV_group</th>\n",
       "      <th>is_merged_2</th>\n",
       "      <th>is_merged_0</th>\n",
       "    </tr>\n",
       "  </thead>\n",
       "  <tbody>\n",
       "    <tr>\n",
       "      <th>0</th>\n",
       "      <td>BraTS2021_00140</td>\n",
       "      <td>/raid/brats2021/RSNA_ASNR_MICCAI_BraTS2021_TrainingData/BraTS2021_00140/BraTS2021_00140_t1.nii.gz</td>\n",
       "      <td>/raid/brats2021/RSNA_ASNR_MICCAI_BraTS2021_TrainingData/BraTS2021_00140/BraTS2021_00140_t1ce.nii.gz</td>\n",
       "      <td>/raid/brats2021/RSNA_ASNR_MICCAI_BraTS2021_TrainingData/BraTS2021_00140/BraTS2021_00140_t2.nii.gz</td>\n",
       "      <td>/raid/brats2021/RSNA_ASNR_MICCAI_BraTS2021_TrainingData/BraTS2021_00140/BraTS2021_00140_flair.nii.gz</td>\n",
       "      <td>/raid/brats2021/RSNA_ASNR_MICCAI_BraTS2021_TrainingData/BraTS2021_00140/BraTS2021_00140_seg.nii.gz</td>\n",
       "      <td>/raid/brats2021/T1wx4Brain_ROIs/BraTS2021_00140/ROI_BraTS2021_00140.nii.gz</td>\n",
       "      <td>/raid/brats2021/T1wx2Brain_ROIs_BraTS21_Training/BraTS2021_00140/BraTS2021_00140_BrainROIT1cwx2.nii.gz</td>\n",
       "      <td>/raid/brats2021/T1wx2Brain_ROIs_BraTS21_Training/BraTS2021_00140/BraTS2021_00140_BrainROI.nii.gz</td>\n",
       "      <td>BraTS20_Training_233</td>\n",
       "      <td>...</td>\n",
       "      <td>glioblastoma</td>\n",
       "      <td>G4</td>\n",
       "      <td>HGG</td>\n",
       "      <td>WT</td>\n",
       "      <td>0.0</td>\n",
       "      <td>NaN</td>\n",
       "      <td>non-codel</td>\n",
       "      <td>3.0</td>\n",
       "      <td>both</td>\n",
       "      <td>NaN</td>\n",
       "    </tr>\n",
       "    <tr>\n",
       "      <th>1</th>\n",
       "      <td>BraTS2021_01283</td>\n",
       "      <td>/raid/brats2021/RSNA_ASNR_MICCAI_BraTS2021_TrainingData/BraTS2021_01283/BraTS2021_01283_t1.nii.gz</td>\n",
       "      <td>/raid/brats2021/RSNA_ASNR_MICCAI_BraTS2021_TrainingData/BraTS2021_01283/BraTS2021_01283_t1ce.nii.gz</td>\n",
       "      <td>/raid/brats2021/RSNA_ASNR_MICCAI_BraTS2021_TrainingData/BraTS2021_01283/BraTS2021_01283_t2.nii.gz</td>\n",
       "      <td>/raid/brats2021/RSNA_ASNR_MICCAI_BraTS2021_TrainingData/BraTS2021_01283/BraTS2021_01283_flair.nii.gz</td>\n",
       "      <td>/raid/brats2021/RSNA_ASNR_MICCAI_BraTS2021_TrainingData/BraTS2021_01283/BraTS2021_01283_seg.nii.gz</td>\n",
       "      <td>/raid/brats2021/T1wx4Brain_ROIs/BraTS2021_01283/ROI_BraTS2021_01283.nii.gz</td>\n",
       "      <td>/raid/brats2021/T1wx2Brain_ROIs_BraTS21_Training/BraTS2021_01283/BraTS2021_01283_BrainROIT1cwx2.nii.gz</td>\n",
       "      <td>/raid/brats2021/T1wx2Brain_ROIs_BraTS21_Training/BraTS2021_01283/BraTS2021_01283_BrainROI.nii.gz</td>\n",
       "      <td>BraTS20_Training_165</td>\n",
       "      <td>...</td>\n",
       "      <td>glioblastoma</td>\n",
       "      <td>G4</td>\n",
       "      <td>HGG</td>\n",
       "      <td>WT</td>\n",
       "      <td>0.0</td>\n",
       "      <td>NaN</td>\n",
       "      <td>non-codel</td>\n",
       "      <td>2.0</td>\n",
       "      <td>both</td>\n",
       "      <td>NaN</td>\n",
       "    </tr>\n",
       "    <tr>\n",
       "      <th>2</th>\n",
       "      <td>BraTS2021_01528</td>\n",
       "      <td>/raid/brats2021/RSNA_ASNR_MICCAI_BraTS2021_TrainingData/BraTS2021_01528/BraTS2021_01528_t1.nii.gz</td>\n",
       "      <td>/raid/brats2021/RSNA_ASNR_MICCAI_BraTS2021_TrainingData/BraTS2021_01528/BraTS2021_01528_t1ce.nii.gz</td>\n",
       "      <td>/raid/brats2021/RSNA_ASNR_MICCAI_BraTS2021_TrainingData/BraTS2021_01528/BraTS2021_01528_t2.nii.gz</td>\n",
       "      <td>/raid/brats2021/RSNA_ASNR_MICCAI_BraTS2021_TrainingData/BraTS2021_01528/BraTS2021_01528_flair.nii.gz</td>\n",
       "      <td>/raid/brats2021/RSNA_ASNR_MICCAI_BraTS2021_TrainingData/BraTS2021_01528/BraTS2021_01528_seg.nii.gz</td>\n",
       "      <td>/raid/brats2021/T1wx4Brain_ROIs/BraTS2021_01528/ROI_BraTS2021_01528.nii.gz</td>\n",
       "      <td>/raid/brats2021/T1wx2Brain_ROIs_BraTS21_Training/BraTS2021_01528/BraTS2021_01528_BrainROIT1cwx2.nii.gz</td>\n",
       "      <td>/raid/brats2021/T1wx2Brain_ROIs_BraTS21_Training/BraTS2021_01528/BraTS2021_01528_BrainROI.nii.gz</td>\n",
       "      <td>BraTS20_Training_323</td>\n",
       "      <td>...</td>\n",
       "      <td>oligoastrocytoma</td>\n",
       "      <td>G2</td>\n",
       "      <td>LGG</td>\n",
       "      <td>Mutant</td>\n",
       "      <td>0.0</td>\n",
       "      <td>IDH1</td>\n",
       "      <td>non-codel</td>\n",
       "      <td>3.0</td>\n",
       "      <td>both</td>\n",
       "      <td>NaN</td>\n",
       "    </tr>\n",
       "    <tr>\n",
       "      <th>3</th>\n",
       "      <td>BraTS2021_01503</td>\n",
       "      <td>/raid/brats2021/RSNA_ASNR_MICCAI_BraTS2021_TrainingData/BraTS2021_01503/BraTS2021_01503_t1.nii.gz</td>\n",
       "      <td>/raid/brats2021/RSNA_ASNR_MICCAI_BraTS2021_TrainingData/BraTS2021_01503/BraTS2021_01503_t1ce.nii.gz</td>\n",
       "      <td>/raid/brats2021/RSNA_ASNR_MICCAI_BraTS2021_TrainingData/BraTS2021_01503/BraTS2021_01503_t2.nii.gz</td>\n",
       "      <td>/raid/brats2021/RSNA_ASNR_MICCAI_BraTS2021_TrainingData/BraTS2021_01503/BraTS2021_01503_flair.nii.gz</td>\n",
       "      <td>/raid/brats2021/RSNA_ASNR_MICCAI_BraTS2021_TrainingData/BraTS2021_01503/BraTS2021_01503_seg.nii.gz</td>\n",
       "      <td>/raid/brats2021/T1wx4Brain_ROIs/BraTS2021_01503/ROI_BraTS2021_01503.nii.gz</td>\n",
       "      <td>/raid/brats2021/T1wx2Brain_ROIs_BraTS21_Training/BraTS2021_01503/BraTS2021_01503_BrainROIT1cwx2.nii.gz</td>\n",
       "      <td>/raid/brats2021/T1wx2Brain_ROIs_BraTS21_Training/BraTS2021_01503/BraTS2021_01503_BrainROI.nii.gz</td>\n",
       "      <td>BraTS20_Training_298</td>\n",
       "      <td>...</td>\n",
       "      <td>oligodendroglioma</td>\n",
       "      <td>G3</td>\n",
       "      <td>LGG</td>\n",
       "      <td>Mutant</td>\n",
       "      <td>1.0</td>\n",
       "      <td>IDH1</td>\n",
       "      <td>codel</td>\n",
       "      <td>3.0</td>\n",
       "      <td>both</td>\n",
       "      <td>NaN</td>\n",
       "    </tr>\n",
       "    <tr>\n",
       "      <th>4</th>\n",
       "      <td>BraTS2021_01453</td>\n",
       "      <td>/raid/brats2021/RSNA_ASNR_MICCAI_BraTS2021_TrainingData/BraTS2021_01453/BraTS2021_01453_t1.nii.gz</td>\n",
       "      <td>/raid/brats2021/RSNA_ASNR_MICCAI_BraTS2021_TrainingData/BraTS2021_01453/BraTS2021_01453_t1ce.nii.gz</td>\n",
       "      <td>/raid/brats2021/RSNA_ASNR_MICCAI_BraTS2021_TrainingData/BraTS2021_01453/BraTS2021_01453_t2.nii.gz</td>\n",
       "      <td>/raid/brats2021/RSNA_ASNR_MICCAI_BraTS2021_TrainingData/BraTS2021_01453/BraTS2021_01453_flair.nii.gz</td>\n",
       "      <td>/raid/brats2021/RSNA_ASNR_MICCAI_BraTS2021_TrainingData/BraTS2021_01453/BraTS2021_01453_seg.nii.gz</td>\n",
       "      <td>/raid/brats2021/T1wx4Brain_ROIs/BraTS2021_01453/ROI_BraTS2021_01453.nii.gz</td>\n",
       "      <td>/raid/brats2021/T1wx2Brain_ROIs_BraTS21_Training/BraTS2021_01453/BraTS2021_01453_BrainROIT1cwx2.nii.gz</td>\n",
       "      <td>/raid/brats2021/T1wx2Brain_ROIs_BraTS21_Training/BraTS2021_01453/BraTS2021_01453_BrainROI.nii.gz</td>\n",
       "      <td>BraTS20_Training_206</td>\n",
       "      <td>...</td>\n",
       "      <td>glioblastoma</td>\n",
       "      <td>G4</td>\n",
       "      <td>HGG</td>\n",
       "      <td>WT</td>\n",
       "      <td>0.0</td>\n",
       "      <td>NaN</td>\n",
       "      <td>non-codel</td>\n",
       "      <td>1.0</td>\n",
       "      <td>both</td>\n",
       "      <td>NaN</td>\n",
       "    </tr>\n",
       "    <tr>\n",
       "      <th>...</th>\n",
       "      <td>...</td>\n",
       "      <td>...</td>\n",
       "      <td>...</td>\n",
       "      <td>...</td>\n",
       "      <td>...</td>\n",
       "      <td>...</td>\n",
       "      <td>...</td>\n",
       "      <td>...</td>\n",
       "      <td>...</td>\n",
       "      <td>...</td>\n",
       "      <td>...</td>\n",
       "      <td>...</td>\n",
       "      <td>...</td>\n",
       "      <td>...</td>\n",
       "      <td>...</td>\n",
       "      <td>...</td>\n",
       "      <td>...</td>\n",
       "      <td>...</td>\n",
       "      <td>...</td>\n",
       "      <td>...</td>\n",
       "      <td>...</td>\n",
       "    </tr>\n",
       "    <tr>\n",
       "      <th>363</th>\n",
       "      <td>NaN</td>\n",
       "      <td>NaN</td>\n",
       "      <td>/raid/brats2021/LGG_1p19q_rawNifti/LGG_1p19q_BraTSLikeProcess_mnibet/LGG-651/LGG-651_t1Gd.nii.gz</td>\n",
       "      <td>/raid/brats2021/LGG_1p19q_rawNifti/LGG_1p19q_BraTSLikeProcess_mnibet/LGG-651/LGG-651_t2.nii.gz</td>\n",
       "      <td>NaN</td>\n",
       "      <td>/raid/brats2021/LGG_1p19q_rawNifti/4Ensemble_LGG_1p19q_Infer/LGG-651/LGG-651_pred.nii.gz</td>\n",
       "      <td>NaN</td>\n",
       "      <td>/raid/brats2021/LGG_1p19q_rawNifti/T1wx2Brain_ROIs_LGG_1p19q/LGG-651/LGG-651_BrainROIT1cwx2.nii.gz</td>\n",
       "      <td>/raid/brats2021/LGG_1p19q_rawNifti/T1wx2Brain_ROIs_LGG_1p19q/LGG-651/LGG-651_BrainROI.nii.gz</td>\n",
       "      <td>NaN</td>\n",
       "      <td>...</td>\n",
       "      <td>Oligodendroglioma</td>\n",
       "      <td>G2</td>\n",
       "      <td>LGG</td>\n",
       "      <td>NaN</td>\n",
       "      <td>1.0</td>\n",
       "      <td>NaN</td>\n",
       "      <td>codel</td>\n",
       "      <td>3.0</td>\n",
       "      <td>NaN</td>\n",
       "      <td>both</td>\n",
       "    </tr>\n",
       "    <tr>\n",
       "      <th>364</th>\n",
       "      <td>NaN</td>\n",
       "      <td>NaN</td>\n",
       "      <td>/raid/brats2021/LGG_1p19q_rawNifti/LGG_1p19q_BraTSLikeProcess_mnibet/LGG-658/LGG-658_t1Gd.nii.gz</td>\n",
       "      <td>/raid/brats2021/LGG_1p19q_rawNifti/LGG_1p19q_BraTSLikeProcess_mnibet/LGG-658/LGG-658_t2.nii.gz</td>\n",
       "      <td>NaN</td>\n",
       "      <td>/raid/brats2021/LGG_1p19q_rawNifti/4Ensemble_LGG_1p19q_Infer/LGG-658/LGG-658_pred.nii.gz</td>\n",
       "      <td>NaN</td>\n",
       "      <td>/raid/brats2021/LGG_1p19q_rawNifti/T1wx2Brain_ROIs_LGG_1p19q/LGG-658/LGG-658_BrainROIT1cwx2.nii.gz</td>\n",
       "      <td>/raid/brats2021/LGG_1p19q_rawNifti/T1wx2Brain_ROIs_LGG_1p19q/LGG-658/LGG-658_BrainROI.nii.gz</td>\n",
       "      <td>NaN</td>\n",
       "      <td>...</td>\n",
       "      <td>Oligodendroglioma</td>\n",
       "      <td>G3</td>\n",
       "      <td>LGG</td>\n",
       "      <td>NaN</td>\n",
       "      <td>1.0</td>\n",
       "      <td>NaN</td>\n",
       "      <td>codel</td>\n",
       "      <td>3.0</td>\n",
       "      <td>NaN</td>\n",
       "      <td>both</td>\n",
       "    </tr>\n",
       "    <tr>\n",
       "      <th>365</th>\n",
       "      <td>NaN</td>\n",
       "      <td>NaN</td>\n",
       "      <td>/raid/brats2021/LGG_1p19q_rawNifti/LGG_1p19q_BraTSLikeProcess_mnibet/LGG-659/LGG-659_t1Gd.nii.gz</td>\n",
       "      <td>/raid/brats2021/LGG_1p19q_rawNifti/LGG_1p19q_BraTSLikeProcess_mnibet/LGG-659/LGG-659_t2.nii.gz</td>\n",
       "      <td>NaN</td>\n",
       "      <td>/raid/brats2021/LGG_1p19q_rawNifti/4Ensemble_LGG_1p19q_Infer/LGG-659/LGG-659_pred.nii.gz</td>\n",
       "      <td>NaN</td>\n",
       "      <td>/raid/brats2021/LGG_1p19q_rawNifti/T1wx2Brain_ROIs_LGG_1p19q/LGG-659/LGG-659_BrainROIT1cwx2.nii.gz</td>\n",
       "      <td>/raid/brats2021/LGG_1p19q_rawNifti/T1wx2Brain_ROIs_LGG_1p19q/LGG-659/LGG-659_BrainROI.nii.gz</td>\n",
       "      <td>NaN</td>\n",
       "      <td>...</td>\n",
       "      <td>Oligoastrocytoma</td>\n",
       "      <td>G2</td>\n",
       "      <td>LGG</td>\n",
       "      <td>NaN</td>\n",
       "      <td>1.0</td>\n",
       "      <td>NaN</td>\n",
       "      <td>codel</td>\n",
       "      <td>2.0</td>\n",
       "      <td>NaN</td>\n",
       "      <td>both</td>\n",
       "    </tr>\n",
       "    <tr>\n",
       "      <th>366</th>\n",
       "      <td>NaN</td>\n",
       "      <td>NaN</td>\n",
       "      <td>/raid/brats2021/LGG_1p19q_rawNifti/LGG_1p19q_BraTSLikeProcess_mnibet/LGG-660/LGG-660_t1Gd.nii.gz</td>\n",
       "      <td>/raid/brats2021/LGG_1p19q_rawNifti/LGG_1p19q_BraTSLikeProcess_mnibet/LGG-660/LGG-660_t2.nii.gz</td>\n",
       "      <td>NaN</td>\n",
       "      <td>/raid/brats2021/LGG_1p19q_rawNifti/4Ensemble_LGG_1p19q_Infer/LGG-660/LGG-660_pred.nii.gz</td>\n",
       "      <td>NaN</td>\n",
       "      <td>/raid/brats2021/LGG_1p19q_rawNifti/T1wx2Brain_ROIs_LGG_1p19q/LGG-660/LGG-660_BrainROIT1cwx2.nii.gz</td>\n",
       "      <td>/raid/brats2021/LGG_1p19q_rawNifti/T1wx2Brain_ROIs_LGG_1p19q/LGG-660/LGG-660_BrainROI.nii.gz</td>\n",
       "      <td>NaN</td>\n",
       "      <td>...</td>\n",
       "      <td>Oligoastrocytoma</td>\n",
       "      <td>G2</td>\n",
       "      <td>LGG</td>\n",
       "      <td>NaN</td>\n",
       "      <td>1.0</td>\n",
       "      <td>NaN</td>\n",
       "      <td>codel</td>\n",
       "      <td>1.0</td>\n",
       "      <td>NaN</td>\n",
       "      <td>both</td>\n",
       "    </tr>\n",
       "    <tr>\n",
       "      <th>367</th>\n",
       "      <td>NaN</td>\n",
       "      <td>NaN</td>\n",
       "      <td>/raid/brats2021/LGG_1p19q_rawNifti/LGG_1p19q_BraTSLikeProcess_mnibet/LGG-766/LGG-766_t1Gd.nii.gz</td>\n",
       "      <td>/raid/brats2021/LGG_1p19q_rawNifti/LGG_1p19q_BraTSLikeProcess_mnibet/LGG-766/LGG-766_t2.nii.gz</td>\n",
       "      <td>NaN</td>\n",
       "      <td>/raid/brats2021/LGG_1p19q_rawNifti/4Ensemble_LGG_1p19q_Infer/LGG-766/LGG-766_pred.nii.gz</td>\n",
       "      <td>NaN</td>\n",
       "      <td>/raid/brats2021/LGG_1p19q_rawNifti/T1wx2Brain_ROIs_LGG_1p19q/LGG-766/LGG-766_BrainROIT1cwx2.nii.gz</td>\n",
       "      <td>/raid/brats2021/LGG_1p19q_rawNifti/T1wx2Brain_ROIs_LGG_1p19q/LGG-766/LGG-766_BrainROI.nii.gz</td>\n",
       "      <td>NaN</td>\n",
       "      <td>...</td>\n",
       "      <td>Oligoastrocytoma</td>\n",
       "      <td>G2</td>\n",
       "      <td>LGG</td>\n",
       "      <td>NaN</td>\n",
       "      <td>0.0</td>\n",
       "      <td>NaN</td>\n",
       "      <td>non-codel</td>\n",
       "      <td>1.0</td>\n",
       "      <td>NaN</td>\n",
       "      <td>both</td>\n",
       "    </tr>\n",
       "  </tbody>\n",
       "</table>\n",
       "<p>368 rows × 29 columns</p>\n",
       "</div>"
      ],
      "text/plain": [
       "           BraTS2021  \\\n",
       "0    BraTS2021_00140   \n",
       "1    BraTS2021_01283   \n",
       "2    BraTS2021_01528   \n",
       "3    BraTS2021_01503   \n",
       "4    BraTS2021_01453   \n",
       "..               ...   \n",
       "363              NaN   \n",
       "364              NaN   \n",
       "365              NaN   \n",
       "366              NaN   \n",
       "367              NaN   \n",
       "\n",
       "                                                                                               t1wPath  \\\n",
       "0    /raid/brats2021/RSNA_ASNR_MICCAI_BraTS2021_TrainingData/BraTS2021_00140/BraTS2021_00140_t1.nii.gz   \n",
       "1    /raid/brats2021/RSNA_ASNR_MICCAI_BraTS2021_TrainingData/BraTS2021_01283/BraTS2021_01283_t1.nii.gz   \n",
       "2    /raid/brats2021/RSNA_ASNR_MICCAI_BraTS2021_TrainingData/BraTS2021_01528/BraTS2021_01528_t1.nii.gz   \n",
       "3    /raid/brats2021/RSNA_ASNR_MICCAI_BraTS2021_TrainingData/BraTS2021_01503/BraTS2021_01503_t1.nii.gz   \n",
       "4    /raid/brats2021/RSNA_ASNR_MICCAI_BraTS2021_TrainingData/BraTS2021_01453/BraTS2021_01453_t1.nii.gz   \n",
       "..                                                                                                 ...   \n",
       "363                                                                                                NaN   \n",
       "364                                                                                                NaN   \n",
       "365                                                                                                NaN   \n",
       "366                                                                                                NaN   \n",
       "367                                                                                                NaN   \n",
       "\n",
       "                                                                                                t1cwPath  \\\n",
       "0    /raid/brats2021/RSNA_ASNR_MICCAI_BraTS2021_TrainingData/BraTS2021_00140/BraTS2021_00140_t1ce.nii.gz   \n",
       "1    /raid/brats2021/RSNA_ASNR_MICCAI_BraTS2021_TrainingData/BraTS2021_01283/BraTS2021_01283_t1ce.nii.gz   \n",
       "2    /raid/brats2021/RSNA_ASNR_MICCAI_BraTS2021_TrainingData/BraTS2021_01528/BraTS2021_01528_t1ce.nii.gz   \n",
       "3    /raid/brats2021/RSNA_ASNR_MICCAI_BraTS2021_TrainingData/BraTS2021_01503/BraTS2021_01503_t1ce.nii.gz   \n",
       "4    /raid/brats2021/RSNA_ASNR_MICCAI_BraTS2021_TrainingData/BraTS2021_01453/BraTS2021_01453_t1ce.nii.gz   \n",
       "..                                                                                                   ...   \n",
       "363     /raid/brats2021/LGG_1p19q_rawNifti/LGG_1p19q_BraTSLikeProcess_mnibet/LGG-651/LGG-651_t1Gd.nii.gz   \n",
       "364     /raid/brats2021/LGG_1p19q_rawNifti/LGG_1p19q_BraTSLikeProcess_mnibet/LGG-658/LGG-658_t1Gd.nii.gz   \n",
       "365     /raid/brats2021/LGG_1p19q_rawNifti/LGG_1p19q_BraTSLikeProcess_mnibet/LGG-659/LGG-659_t1Gd.nii.gz   \n",
       "366     /raid/brats2021/LGG_1p19q_rawNifti/LGG_1p19q_BraTSLikeProcess_mnibet/LGG-660/LGG-660_t1Gd.nii.gz   \n",
       "367     /raid/brats2021/LGG_1p19q_rawNifti/LGG_1p19q_BraTSLikeProcess_mnibet/LGG-766/LGG-766_t1Gd.nii.gz   \n",
       "\n",
       "                                                                                               t2wPath  \\\n",
       "0    /raid/brats2021/RSNA_ASNR_MICCAI_BraTS2021_TrainingData/BraTS2021_00140/BraTS2021_00140_t2.nii.gz   \n",
       "1    /raid/brats2021/RSNA_ASNR_MICCAI_BraTS2021_TrainingData/BraTS2021_01283/BraTS2021_01283_t2.nii.gz   \n",
       "2    /raid/brats2021/RSNA_ASNR_MICCAI_BraTS2021_TrainingData/BraTS2021_01528/BraTS2021_01528_t2.nii.gz   \n",
       "3    /raid/brats2021/RSNA_ASNR_MICCAI_BraTS2021_TrainingData/BraTS2021_01503/BraTS2021_01503_t2.nii.gz   \n",
       "4    /raid/brats2021/RSNA_ASNR_MICCAI_BraTS2021_TrainingData/BraTS2021_01453/BraTS2021_01453_t2.nii.gz   \n",
       "..                                                                                                 ...   \n",
       "363     /raid/brats2021/LGG_1p19q_rawNifti/LGG_1p19q_BraTSLikeProcess_mnibet/LGG-651/LGG-651_t2.nii.gz   \n",
       "364     /raid/brats2021/LGG_1p19q_rawNifti/LGG_1p19q_BraTSLikeProcess_mnibet/LGG-658/LGG-658_t2.nii.gz   \n",
       "365     /raid/brats2021/LGG_1p19q_rawNifti/LGG_1p19q_BraTSLikeProcess_mnibet/LGG-659/LGG-659_t2.nii.gz   \n",
       "366     /raid/brats2021/LGG_1p19q_rawNifti/LGG_1p19q_BraTSLikeProcess_mnibet/LGG-660/LGG-660_t2.nii.gz   \n",
       "367     /raid/brats2021/LGG_1p19q_rawNifti/LGG_1p19q_BraTSLikeProcess_mnibet/LGG-766/LGG-766_t2.nii.gz   \n",
       "\n",
       "                                                                                                flairPath  \\\n",
       "0    /raid/brats2021/RSNA_ASNR_MICCAI_BraTS2021_TrainingData/BraTS2021_00140/BraTS2021_00140_flair.nii.gz   \n",
       "1    /raid/brats2021/RSNA_ASNR_MICCAI_BraTS2021_TrainingData/BraTS2021_01283/BraTS2021_01283_flair.nii.gz   \n",
       "2    /raid/brats2021/RSNA_ASNR_MICCAI_BraTS2021_TrainingData/BraTS2021_01528/BraTS2021_01528_flair.nii.gz   \n",
       "3    /raid/brats2021/RSNA_ASNR_MICCAI_BraTS2021_TrainingData/BraTS2021_01503/BraTS2021_01503_flair.nii.gz   \n",
       "4    /raid/brats2021/RSNA_ASNR_MICCAI_BraTS2021_TrainingData/BraTS2021_01453/BraTS2021_01453_flair.nii.gz   \n",
       "..                                                                                                    ...   \n",
       "363                                                                                                   NaN   \n",
       "364                                                                                                   NaN   \n",
       "365                                                                                                   NaN   \n",
       "366                                                                                                   NaN   \n",
       "367                                                                                                   NaN   \n",
       "\n",
       "                                                                                                segPath  \\\n",
       "0    /raid/brats2021/RSNA_ASNR_MICCAI_BraTS2021_TrainingData/BraTS2021_00140/BraTS2021_00140_seg.nii.gz   \n",
       "1    /raid/brats2021/RSNA_ASNR_MICCAI_BraTS2021_TrainingData/BraTS2021_01283/BraTS2021_01283_seg.nii.gz   \n",
       "2    /raid/brats2021/RSNA_ASNR_MICCAI_BraTS2021_TrainingData/BraTS2021_01528/BraTS2021_01528_seg.nii.gz   \n",
       "3    /raid/brats2021/RSNA_ASNR_MICCAI_BraTS2021_TrainingData/BraTS2021_01503/BraTS2021_01503_seg.nii.gz   \n",
       "4    /raid/brats2021/RSNA_ASNR_MICCAI_BraTS2021_TrainingData/BraTS2021_01453/BraTS2021_01453_seg.nii.gz   \n",
       "..                                                                                                  ...   \n",
       "363            /raid/brats2021/LGG_1p19q_rawNifti/4Ensemble_LGG_1p19q_Infer/LGG-651/LGG-651_pred.nii.gz   \n",
       "364            /raid/brats2021/LGG_1p19q_rawNifti/4Ensemble_LGG_1p19q_Infer/LGG-658/LGG-658_pred.nii.gz   \n",
       "365            /raid/brats2021/LGG_1p19q_rawNifti/4Ensemble_LGG_1p19q_Infer/LGG-659/LGG-659_pred.nii.gz   \n",
       "366            /raid/brats2021/LGG_1p19q_rawNifti/4Ensemble_LGG_1p19q_Infer/LGG-660/LGG-660_pred.nii.gz   \n",
       "367            /raid/brats2021/LGG_1p19q_rawNifti/4Ensemble_LGG_1p19q_Infer/LGG-766/LGG-766_pred.nii.gz   \n",
       "\n",
       "                                                                 brain_maskPath  \\\n",
       "0    /raid/brats2021/T1wx4Brain_ROIs/BraTS2021_00140/ROI_BraTS2021_00140.nii.gz   \n",
       "1    /raid/brats2021/T1wx4Brain_ROIs/BraTS2021_01283/ROI_BraTS2021_01283.nii.gz   \n",
       "2    /raid/brats2021/T1wx4Brain_ROIs/BraTS2021_01528/ROI_BraTS2021_01528.nii.gz   \n",
       "3    /raid/brats2021/T1wx4Brain_ROIs/BraTS2021_01503/ROI_BraTS2021_01503.nii.gz   \n",
       "4    /raid/brats2021/T1wx4Brain_ROIs/BraTS2021_01453/ROI_BraTS2021_01453.nii.gz   \n",
       "..                                                                          ...   \n",
       "363                                                                         NaN   \n",
       "364                                                                         NaN   \n",
       "365                                                                         NaN   \n",
       "366                                                                         NaN   \n",
       "367                                                                         NaN   \n",
       "\n",
       "                                                                                         brain_mask_ch2Path  \\\n",
       "0    /raid/brats2021/T1wx2Brain_ROIs_BraTS21_Training/BraTS2021_00140/BraTS2021_00140_BrainROIT1cwx2.nii.gz   \n",
       "1    /raid/brats2021/T1wx2Brain_ROIs_BraTS21_Training/BraTS2021_01283/BraTS2021_01283_BrainROIT1cwx2.nii.gz   \n",
       "2    /raid/brats2021/T1wx2Brain_ROIs_BraTS21_Training/BraTS2021_01528/BraTS2021_01528_BrainROIT1cwx2.nii.gz   \n",
       "3    /raid/brats2021/T1wx2Brain_ROIs_BraTS21_Training/BraTS2021_01503/BraTS2021_01503_BrainROIT1cwx2.nii.gz   \n",
       "4    /raid/brats2021/T1wx2Brain_ROIs_BraTS21_Training/BraTS2021_01453/BraTS2021_01453_BrainROIT1cwx2.nii.gz   \n",
       "..                                                                                                      ...   \n",
       "363      /raid/brats2021/LGG_1p19q_rawNifti/T1wx2Brain_ROIs_LGG_1p19q/LGG-651/LGG-651_BrainROIT1cwx2.nii.gz   \n",
       "364      /raid/brats2021/LGG_1p19q_rawNifti/T1wx2Brain_ROIs_LGG_1p19q/LGG-658/LGG-658_BrainROIT1cwx2.nii.gz   \n",
       "365      /raid/brats2021/LGG_1p19q_rawNifti/T1wx2Brain_ROIs_LGG_1p19q/LGG-659/LGG-659_BrainROIT1cwx2.nii.gz   \n",
       "366      /raid/brats2021/LGG_1p19q_rawNifti/T1wx2Brain_ROIs_LGG_1p19q/LGG-660/LGG-660_BrainROIT1cwx2.nii.gz   \n",
       "367      /raid/brats2021/LGG_1p19q_rawNifti/T1wx2Brain_ROIs_LGG_1p19q/LGG-766/LGG-766_BrainROIT1cwx2.nii.gz   \n",
       "\n",
       "                                                                                   brain_mask_ch1Path  \\\n",
       "0    /raid/brats2021/T1wx2Brain_ROIs_BraTS21_Training/BraTS2021_00140/BraTS2021_00140_BrainROI.nii.gz   \n",
       "1    /raid/brats2021/T1wx2Brain_ROIs_BraTS21_Training/BraTS2021_01283/BraTS2021_01283_BrainROI.nii.gz   \n",
       "2    /raid/brats2021/T1wx2Brain_ROIs_BraTS21_Training/BraTS2021_01528/BraTS2021_01528_BrainROI.nii.gz   \n",
       "3    /raid/brats2021/T1wx2Brain_ROIs_BraTS21_Training/BraTS2021_01503/BraTS2021_01503_BrainROI.nii.gz   \n",
       "4    /raid/brats2021/T1wx2Brain_ROIs_BraTS21_Training/BraTS2021_01453/BraTS2021_01453_BrainROI.nii.gz   \n",
       "..                                                                                                ...   \n",
       "363      /raid/brats2021/LGG_1p19q_rawNifti/T1wx2Brain_ROIs_LGG_1p19q/LGG-651/LGG-651_BrainROI.nii.gz   \n",
       "364      /raid/brats2021/LGG_1p19q_rawNifti/T1wx2Brain_ROIs_LGG_1p19q/LGG-658/LGG-658_BrainROI.nii.gz   \n",
       "365      /raid/brats2021/LGG_1p19q_rawNifti/T1wx2Brain_ROIs_LGG_1p19q/LGG-659/LGG-659_BrainROI.nii.gz   \n",
       "366      /raid/brats2021/LGG_1p19q_rawNifti/T1wx2Brain_ROIs_LGG_1p19q/LGG-660/LGG-660_BrainROI.nii.gz   \n",
       "367      /raid/brats2021/LGG_1p19q_rawNifti/T1wx2Brain_ROIs_LGG_1p19q/LGG-766/LGG-766_BrainROI.nii.gz   \n",
       "\n",
       "                BraTS2020  ...          Histology Grade Data Collection  \\\n",
       "0    BraTS20_Training_233  ...       glioblastoma    G4             HGG   \n",
       "1    BraTS20_Training_165  ...       glioblastoma    G4             HGG   \n",
       "2    BraTS20_Training_323  ...   oligoastrocytoma    G2             LGG   \n",
       "3    BraTS20_Training_298  ...  oligodendroglioma    G3             LGG   \n",
       "4    BraTS20_Training_206  ...       glioblastoma    G4             HGG   \n",
       "..                    ...  ...                ...   ...             ...   \n",
       "363                   NaN  ...  Oligodendroglioma    G2             LGG   \n",
       "364                   NaN  ...  Oligodendroglioma    G3             LGG   \n",
       "365                   NaN  ...   Oligoastrocytoma    G2             LGG   \n",
       "366                   NaN  ...   Oligoastrocytoma    G2             LGG   \n",
       "367                   NaN  ...   Oligoastrocytoma    G2             LGG   \n",
       "\n",
       "        IDH  1p19q_co_deletion_bin   IDH 1p19q_co_deletion  CV_group  \\\n",
       "0        WT                    0.0   NaN         non-codel       3.0   \n",
       "1        WT                    0.0   NaN         non-codel       2.0   \n",
       "2    Mutant                    0.0  IDH1         non-codel       3.0   \n",
       "3    Mutant                    1.0  IDH1             codel       3.0   \n",
       "4        WT                    0.0   NaN         non-codel       1.0   \n",
       "..      ...                    ...   ...               ...       ...   \n",
       "363     NaN                    1.0   NaN             codel       3.0   \n",
       "364     NaN                    1.0   NaN             codel       3.0   \n",
       "365     NaN                    1.0   NaN             codel       2.0   \n",
       "366     NaN                    1.0   NaN             codel       1.0   \n",
       "367     NaN                    0.0   NaN         non-codel       1.0   \n",
       "\n",
       "    is_merged_2 is_merged_0  \n",
       "0          both         NaN  \n",
       "1          both         NaN  \n",
       "2          both         NaN  \n",
       "3          both         NaN  \n",
       "4          both         NaN  \n",
       "..          ...         ...  \n",
       "363         NaN        both  \n",
       "364         NaN        both  \n",
       "365         NaN        both  \n",
       "366         NaN        both  \n",
       "367         NaN        both  \n",
       "\n",
       "[368 rows x 29 columns]"
      ]
     },
     "execution_count": 7,
     "metadata": {},
     "output_type": "execute_result"
    }
   ],
   "source": [
    "BraTS20Subjectsp1q19WithMetaDF = BraTS20Subjectsp1q19WithMetaDF.apply(pd.to_numeric, errors = 'ignore')\n",
    "BraTS20Subjectsp1q19WithMetaDF"
   ]
  },
  {
   "cell_type": "code",
   "execution_count": 8,
   "id": "278c5849",
   "metadata": {},
   "outputs": [
    {
     "data": {
      "text/plain": [
       "(array([0., 1.]), array([238, 130]))"
      ]
     },
     "execution_count": 8,
     "metadata": {},
     "output_type": "execute_result"
    }
   ],
   "source": [
    "np.unique(BraTS20Subjectsp1q19WithMetaDF['1p19q_co_deletion_bin'].values, return_counts = True)\n",
    "#BraTS20SubjectsIDHWithMetaDF['1p19q_co_deletion_bin'].values"
   ]
  },
  {
   "cell_type": "code",
   "execution_count": 9,
   "id": "b7fbd9d6",
   "metadata": {},
   "outputs": [
    {
     "data": {
      "text/plain": [
       "BraTS2021                          object\n",
       "t1wPath                            object\n",
       "t1cwPath                           object\n",
       "t2wPath                            object\n",
       "flairPath                          object\n",
       "segPath                            object\n",
       "brain_maskPath                     object\n",
       "brain_mask_ch2Path                 object\n",
       "brain_mask_ch1Path                 object\n",
       "BraTS2020                          object\n",
       "BraTS2019                          object\n",
       "BraTS2018                          object\n",
       "BraTS2017                          object\n",
       "CohortName                         object\n",
       "SiteNo_Originating_Institution    float64\n",
       "TCGA_ID                            object\n",
       "is_merged_1                        object\n",
       "Age                               float64\n",
       "Gender                             object\n",
       "Histology                          object\n",
       "Grade                              object\n",
       "Data Collection                    object\n",
       "   IDH                             object\n",
       "1p19q_co_deletion_bin             float64\n",
       "IDH                                object\n",
       "1p19q_co_deletion                  object\n",
       "CV_group                          float64\n",
       "is_merged_2                        object\n",
       "is_merged_0                        object\n",
       "dtype: object"
      ]
     },
     "execution_count": 9,
     "metadata": {},
     "output_type": "execute_result"
    }
   ],
   "source": [
    "BraTS20Subjectsp1q19WithMetaDF.dtypes"
   ]
  },
  {
   "cell_type": "markdown",
   "id": "c0515c0d",
   "metadata": {},
   "source": [
    "## Cearing a list of dictionaries in order to feed into Monai's Dataset\n",
    "Keys:\n",
    "- ***image:*** T1, T1c, T2, and flair image\n",
    "- ***label:*** Segmented mask GT\n",
    "- ***brain_mask:*** Whole brain area (brain area=1 and Non brain area=0)\n",
    "- ***IDH_value:*** IDH class corresponding to the subject/images\n"
   ]
  },
  {
   "cell_type": "markdown",
   "id": "7e82036a",
   "metadata": {},
   "source": [
    "### Creating/extracting 3 splits for cross validaion (3 cross validaion)"
   ]
  },
  {
   "cell_type": "code",
   "execution_count": 10,
   "id": "d5433e10",
   "metadata": {},
   "outputs": [],
   "source": [
    "def get_train_val_test_df(BraTS20SubjectsIDHWithMetaDF):\n",
    "    \n",
    "    \n",
    "    BraTS20SubjectsIDHTrainDCT = {}\n",
    "    BraTS20SubjectsIDHValDCT = {}\n",
    "    BraTS20SubjectsIDHTestDCT = {}\n",
    "    \n",
    "    aDCT = {'fold0':[1, 2, 3], 'fold1':[2, 3, 1], 'fold3': [3, 1, 2]}\n",
    "    \n",
    "    for indx, (akey, aval) in enumerate(aDCT.items()):\n",
    "        \n",
    "    \n",
    "        BraTS20SubjectsIDHWithMetaDFTrain = BraTS20SubjectsIDHWithMetaDF.loc[BraTS20SubjectsIDHWithMetaDF['CV_group']==aval[0]]\n",
    "        BraTS20SubjectsIDHWithMetaDFVal = BraTS20SubjectsIDHWithMetaDF.loc[BraTS20SubjectsIDHWithMetaDF['CV_group']==aval[1]]\n",
    "        BraTS20SubjectsIDHWithMetaDFTest = BraTS20SubjectsIDHWithMetaDF.loc[BraTS20SubjectsIDHWithMetaDF['CV_group']==aval[2]]\n",
    "\n",
    "        train_files = [{'image': (image_nameT1ce, image_nameT2), 'label': label_name, 'brain_mask':brain_mask, 'IDH_label':np.array(IDH_label_name).astype(np.float32)} \n",
    "                       for image_nameT1ce, image_nameT2, label_name, brain_mask, IDH_label_name \n",
    "                       in zip(BraTS20SubjectsIDHWithMetaDFTrain['t1cwPath'], BraTS20SubjectsIDHWithMetaDFTrain['t2wPath'], BraTS20SubjectsIDHWithMetaDFTrain['segPath'], \\\n",
    "                              BraTS20SubjectsIDHWithMetaDFTrain['brain_mask_ch2Path'], BraTS20SubjectsIDHWithMetaDFTrain['1p19q_co_deletion_bin'].values)]\n",
    "        \n",
    "        val_files =[{'image': (image_nameT1ce, image_nameT2), 'label': label_name, 'brain_mask':brain_mask, 'IDH_label':np.array(IDH_label_name).astype(np.float32)} \n",
    "                    for image_nameT1ce, image_nameT2, label_name, brain_mask, IDH_label_name \n",
    "                    in zip(BraTS20SubjectsIDHWithMetaDFVal['t1cwPath'], BraTS20SubjectsIDHWithMetaDFVal['t2wPath'],BraTS20SubjectsIDHWithMetaDFVal['segPath'],\\\n",
    "                           BraTS20SubjectsIDHWithMetaDFVal['brain_mask_ch2Path'], BraTS20SubjectsIDHWithMetaDFVal['1p19q_co_deletion_bin'].values)]\n",
    "        \n",
    "        test_files = [{'image': (image_nameT1ce, image_nameT2), 'label': label_name, 'brain_mask':brain_mask, 'IDH_label':np.array(IDH_label_name).astype(np.float32)} \n",
    "                      for image_nameT1ce, image_nameT2, label_name, brain_mask, IDH_label_name \n",
    "                      in zip(BraTS20SubjectsIDHWithMetaDFTest['t1cwPath'], BraTS20SubjectsIDHWithMetaDFTest['t2wPath'], BraTS20SubjectsIDHWithMetaDFTest['segPath'], \\\n",
    "                             BraTS20SubjectsIDHWithMetaDFTest['brain_mask_ch2Path'], BraTS20SubjectsIDHWithMetaDFTest['1p19q_co_deletion_bin'].values)]\n",
    "        \n",
    "        \n",
    "        BraTS20SubjectsIDHTrainDCT[f'fold{indx}'] = copy.deepcopy(train_files)\n",
    "        BraTS20SubjectsIDHValDCT[f'fold{indx}'] = copy.deepcopy(val_files)\n",
    "        BraTS20SubjectsIDHTestDCT[f'fold{indx}'] = copy.deepcopy(test_files)\n",
    "        \n",
    "        \n",
    "        \n",
    "    return BraTS20SubjectsIDHTrainDCT, BraTS20SubjectsIDHValDCT, BraTS20SubjectsIDHTestDCT\n",
    "        \n",
    "        \n",
    "        \n",
    "BraTS20SubjectsIDHTrainDCT, BraTS20SubjectsIDHValDCT, BraTS20SubjectsIDHTestDCT =  get_train_val_test_df(BraTS20Subjectsp1q19WithMetaDF)    \n",
    "        \n",
    "        \n",
    "\n",
    "# train_files_image = [(image_nameT1, image_nameT1ce, image_nameT2, image_nameFl) \n",
    "#                      for image_nameT1,image_nameT1ce, image_nameT2, image_nameFl \n",
    "#                      in zip(dfTrainLbl['t1wPath'], dfTrainLbl['t1cwPath'], dfTrainLbl['T2wPath'], dfTrainLbl['FlairPath'])]\n",
    "# train_files_label = dfTrainLbl['segPath'].tolist()\n",
    "# train_files_brain_mask = dfTrainLbl['brain_maskPath'].tolist()\n",
    "# train_files_IDH_label = dfTrainLbl['IDH_value'].values.ravel().tolist()\n"
   ]
  },
  {
   "cell_type": "code",
   "execution_count": null,
   "id": "f16a5128",
   "metadata": {},
   "outputs": [],
   "source": []
  },
  {
   "cell_type": "code",
   "execution_count": 11,
   "id": "5ab99367",
   "metadata": {},
   "outputs": [],
   "source": [
    "# n_splits = 3\n",
    "# #train_index = np.linspace(0, train_features.shape[0]-1, num = train_features.shape[0], dtype = np.uint16, endpoint=True)\n",
    "# #partition_data = monai.data.utils.partition_dataset_classes(train_index, train_labels.values.ravel().tolist(), shuffle=True, num_partitions=n_splits) \n",
    "# #partition_data = monai.data.utils.partition_dataset_classes(train_files, dfTrainLbl['IDH_value'].values.ravel().tolist(), shuffle=True, num_partitions=n_splits)\n",
    "# partition_data = monai.data.partition_dataset_classes(train_files, BraTS20SubjectsIDHWithMetaDF['IDH_value'].values.ravel().tolist(), shuffle=True, num_partitions=n_splits)\n",
    "# print(len(partition_data), len(partition_data[0]), len(partition_data[1]), len(partition_data[2]))\n",
    "\n",
    "\n",
    "# # val_folds = {}\n",
    "# # train_folds = {}\n",
    "# # flds = np.linspace(0, n_splits, num=n_splits, dtype = np.int8)\n",
    "# # for cfold in range(n_splits):\n",
    "# #     not_cfold = np.delete(flds, cfold)\n",
    "# #     val_folds[cfold] = partition_data[cfold]\n",
    "# # #     train_folds[cfold] = \n",
    "# # # sub_flds = flds[..., ~0]   \n",
    "# # # sub_flds\n",
    "\n",
    "# val_folds = {}\n",
    "# train_folds = {}\n",
    "# flds = np.linspace(0, n_splits, num=n_splits, dtype = np.uint8)\n",
    "# for cfold in range(n_splits):\n",
    "#     #val_folds[f\"fold{cfold}\"] = train_features.values[partition_data[cfold],:]\n",
    "#     #train_folds[f\"fold{cfold}\"] = np.delete(train_features.values, partition_data[cfold], axis=0)\n",
    "#     #not_cfold = np.delete(flds, cfold)\n",
    "    \n",
    "#     val_folds[f\"fold{cfold}\"] = copy.deepcopy(partition_data[cfold])\n",
    "#     val_folds[f\"fold{cfold}_IDH_label\"] = copy.deepcopy([adct['IDH_label'].item() for adct in partition_data[cfold]])\n",
    "#     train_folds_masks = [1]*n_splits\n",
    "#     train_folds_masks[cfold] = 0\n",
    "#     partition_data_non_cfold = list()\n",
    "#     for aDctLstitem in compress(partition_data, train_folds_masks):\n",
    "#         partition_data_non_cfold.extend(aDctLstitem)\n",
    "        \n",
    "        \n",
    "#     train_folds[f\"fold{cfold}\"] = copy.deepcopy(partition_data_non_cfold)\n",
    "#     train_folds[f\"fold{cfold}_IDH_label\"] = copy.deepcopy([adct['IDH_label'].item() for adct in partition_data_non_cfold])\n",
    "\n",
    "# for i in range(n_splits):\n",
    "#     print('val: ', len(val_folds[f'fold{i}']), 'train: ', len(train_folds[f'fold{i}']), '\\n')"
   ]
  },
  {
   "cell_type": "code",
   "execution_count": 12,
   "id": "d1110ffa",
   "metadata": {},
   "outputs": [],
   "source": [
    "# len(train_folds[\"fold0\"]), len(train_files)\n",
    "\n",
    "# for i_cv in range(n_splits):\n",
    "#     print('Training classes\\n')\n",
    "#     print(np.unique([train_folds[f'fold{i_cv}'][i]['IDH_label'].item() for i in range(len(train_folds[f'fold{i_cv}']))], return_counts = True))\n",
    "#     print('\\nValidation classes\\n')\n",
    "#     print(np.unique([val_folds[f'fold{i_cv}'][i]['IDH_label'].item() for i in range(len(val_folds[f'fold{i_cv}']))], return_counts = True))\n",
    "#     print('#'*4, '\\n\\n')"
   ]
  },
  {
   "cell_type": "code",
   "execution_count": 13,
   "id": "3da01d63",
   "metadata": {},
   "outputs": [
    {
     "name": "stdout",
     "output_type": "stream",
     "text": [
      "Training classes\n",
      "\n",
      "(array([0., 1.]), array([79, 43]))\n",
      "\n",
      "Validation classes\n",
      "\n",
      "(array([0., 1.]), array([80, 42]))\n",
      "\n",
      "Testing classes\n",
      "\n",
      "(array([0., 1.]), array([79, 43]))\n",
      "######################################## \n",
      "\n",
      "\n",
      "Training classes\n",
      "\n",
      "(array([0., 1.]), array([80, 44]))\n",
      "\n",
      "Validation classes\n",
      "\n",
      "(array([0., 1.]), array([79, 43]))\n",
      "\n",
      "Testing classes\n",
      "\n",
      "(array([0., 1.]), array([79, 43]))\n",
      "######################################## \n",
      "\n",
      "\n",
      "Training classes\n",
      "\n",
      "(array([0., 1.]), array([79, 43]))\n",
      "\n",
      "Validation classes\n",
      "\n",
      "(array([0., 1.]), array([79, 43]))\n",
      "\n",
      "Testing classes\n",
      "\n",
      "(array([0., 1.]), array([80, 42]))\n",
      "######################################## \n",
      "\n",
      "\n"
     ]
    }
   ],
   "source": [
    "n_splits = 3\n",
    "dfFolds = BraTS20SubjectsIDHTrainDCT\n",
    "for i_cv in range(n_splits):\n",
    "    print('Training classes\\n')\n",
    "    print(np.unique([BraTS20SubjectsIDHTrainDCT[f'fold{i_cv}'][i]['IDH_label'].item() for i in range(len(BraTS20SubjectsIDHTrainDCT[f'fold{i_cv}']))], return_counts = True))\n",
    "    print('\\nValidation classes\\n')\n",
    "    print(np.unique([BraTS20SubjectsIDHValDCT[f'fold{i_cv}'][i]['IDH_label'].item() for i in range(len(BraTS20SubjectsIDHValDCT[f'fold{i_cv}']))], return_counts = True))\n",
    "    #print('#'*4, '\\n')\n",
    "    print('\\nTesting classes\\n')\n",
    "    print(np.unique([BraTS20SubjectsIDHTestDCT[f'fold{i_cv}'][i]['IDH_label'].item() for i in range(len(BraTS20SubjectsIDHTestDCT[f'fold{i_cv}']))], return_counts = True))\n",
    "    print('#'*40, '\\n\\n')"
   ]
  },
  {
   "cell_type": "code",
   "execution_count": null,
   "id": "c814dd1e",
   "metadata": {},
   "outputs": [],
   "source": []
  },
  {
   "cell_type": "code",
   "execution_count": null,
   "id": "23ef4e1e",
   "metadata": {},
   "outputs": [],
   "source": []
  },
  {
   "cell_type": "code",
   "execution_count": 14,
   "id": "d1690748",
   "metadata": {},
   "outputs": [],
   "source": [
    "#train_folds['fold0'][2]"
   ]
  },
  {
   "cell_type": "markdown",
   "id": "73ff6442",
   "metadata": {},
   "source": [
    "***HistogramStandardization***\n",
    "\n",
    "Implementing histogram standardization from [torchIO](https://github.com/fepegar/torchio) library\n",
    "\n",
    "Bases: [torchio.transforms.preprocessing.intensity.normalization_transform.NormalizationTransform](https://torchio.readthedocs.io/transforms/preprocessing.html#torchio.transforms.preprocessing.intensity.NormalizationTransform)\n",
    "\n",
    "Perform histogram standardization of intensity values.\n",
    "\n",
    "Implementation of [New variants of a method of MRI scale standardization](https://ieeexplore.ieee.org/document/836373).\n",
    "\n",
    "We can visit in [torchio.transforms.HistogramStandardization.train()]((https://torchio.readthedocs.io/transforms/preprocessing.html#torchio.transforms.HistogramStandardization.train)) for more details.\n",
    "\n",
    "PARAMETERS\n",
    "landmarks – Dictionary (or path to a PyTorch file with .pt or .pth extension in which a dictionary has been saved) whose keys are image names in the subject and values are NumPy arrays or paths to NumPy arrays defining the landmarks after training with [torchio.transforms.HistogramStandardization.train()](https://torchio.readthedocs.io/transforms/preprocessing.html#torchio.transforms.HistogramStandardization.train).\n",
    "\n",
    "Here, ***save_dir*** is a path where the trained histogram files for four channels (T1w, T1cw, T2w, and Flair), and trained model's weights will be saved"
   ]
  },
  {
   "cell_type": "code",
   "execution_count": 15,
   "id": "432794a7",
   "metadata": {},
   "outputs": [],
   "source": [
    "# file_prefix = 'ConvEffNet_Brats21_1SplitV0'\n",
    "# savedirname = 'ConvEffNet_Brats21'\n",
    "# save_dir = os.path.join('/raid/brats2021/pthBraTS2021Radiogenomics', savedirname)\n",
    "# if not os.path.exists(save_dir):\n",
    "#     os.makedirs(save_dir)\n",
    "\n",
    "# train_images20T1 = dfTrainLbl['t1wPath'].values\n",
    "# train_images20T1ce = dfTrainLbl['t1cwPath'].values\n",
    "# train_images20T2 = dfTrainLbl['T2wPath'].values\n",
    "# train_images20Flair = dfTrainLbl['FlairPath'].values\n",
    "\n",
    "# hiseq_t1npyfile = os.path.join(save_dir, f\"histeq_t1w_{file_prefix}.npy\")\n",
    "# t1w_landmarks = (hiseq_t1npyfile if os.path.isfile(hiseq_t1npyfile) else \\\n",
    "#                  tio.HistogramStandardization.train(train_images20T1, output_path = hiseq_t1npyfile))\n",
    "# # #torch.save(t1w_landmarks, hiseq_t1npyfile)\n",
    "\n",
    "# hiseq_t1cnpyfile =  os.path.join(save_dir, f\"histeq_t1cw_{file_prefix}.npy\")\n",
    "# t1cw_landmarks = (hiseq_t1cnpyfile if os.path.isfile(hiseq_t1cnpyfile) else \\\n",
    "#                   tio.HistogramStandardization.train(train_images20T1ce, output_path = hiseq_t1cnpyfile))\n",
    "# #torch.save(t1cw_landmarks, hiseq_t1cnpyfile)\n",
    "\n",
    "\n",
    "# hiseq_t2npyfile = os.path.join(save_dir, f\"histeq_t2w_{file_prefix}.npy\")\n",
    "# t2w_landmarks = (hiseq_t2npyfile if os.path.isfile(hiseq_t2npyfile) else \\\n",
    "#                  tio.HistogramStandardization.train(train_images20T2, output_path = hiseq_t2npyfile))\n",
    "# #torch.save(t2w_landmarks, hiseq_t2npyfile)\n",
    "\n",
    "# hiseq_flairnpyfile = os.path.join(save_dir, f\"histeq_flair_{file_prefix}.npy\")\n",
    "# flair_landmarks = (hiseq_flairnpyfile if os.path.isfile(hiseq_flairnpyfile) else \\\n",
    "#                    tio.HistogramStandardization.train(train_images20Flair, output_path = hiseq_flairnpyfile))\n",
    "# #torch.save(flair_landmarks, hiseq_flairnpyfile)\n",
    "\n",
    "\n",
    "    \n",
    "file_prefix = 'DyUNetPlus_BratsTCGA_1p19q_3CV_2Chnls1PatchSWIRngr21_2nclass_MorePatchBNormEp500_Run2'\n",
    "savedirname = 'DynUNetVariants_TCGA'\n",
    "save_dir = os.path.join('/raid/brats2021/pthTCGA_1p19q_CoDeletion', savedirname)\n",
    "if not os.path.exists(save_dir):\n",
    "    os.makedirs(save_dir)"
   ]
  },
  {
   "cell_type": "code",
   "execution_count": null,
   "id": "63bf2d36",
   "metadata": {},
   "outputs": [],
   "source": []
  },
  {
   "cell_type": "markdown",
   "id": "0d31656b",
   "metadata": {},
   "source": [
    "## Classes for Monai/Pytorch compose class"
   ]
  },
  {
   "cell_type": "markdown",
   "id": "7085de2a",
   "metadata": {},
   "source": [
    "A class to rearrange label mask array as \n",
    "- [0, :, :, :] = the multi class mask (class labels: 0 (background), 1, 2, and 4)\n",
    "- [1, :, :, :] = the whole tumor mask (class labels: 0 (background), and 1)\\\n",
    "Not using here"
   ]
  },
  {
   "cell_type": "code",
   "execution_count": 16,
   "id": "ddb0a8fe",
   "metadata": {},
   "outputs": [],
   "source": [
    "class ConvertToMultiChannelPlusWT(MapTransform):\n",
    "    \n",
    "    \"\"\"\n",
    "     GD-enhancing tumor (ET — label 4), \n",
    "     the peritumoral edema (ED — label 2), and \n",
    "     the necrotic and non-enhancing tumor core (NCR/NET — label 1)\n",
    "\n",
    "    \"\"\"\n",
    "    \n",
    "    def __call__(self, data):\n",
    "        d = dict(data)\n",
    "        for key in self.keys:\n",
    "            result = []\n",
    "            \n",
    "            d[key]=np.squeeze(d[key], axis = 0) # Converting 1, H, W, D to H, W, D\n",
    "            result.append(d[key])\n",
    "\n",
    "            # merge labels 1, 2 and 4 to construct WT\n",
    "            result.append(\n",
    "                np.logical_or(\n",
    "                    np.logical_or(d[key] == 2, d[key] == 4), d[key] == 1\n",
    "                )\n",
    "            )\n",
    "            ## merge label 1 and label 4 to construct TC\n",
    "            #result.append(np.logical_or(d[key] == 1, d[key] == 4))\n",
    "            ## label 4 is ET\n",
    "            #result.append(d[key] == 4)\n",
    "            d[key] = np.stack(result, axis=0).astype(np.uint8)\n",
    "        return d"
   ]
  },
  {
   "cell_type": "markdown",
   "id": "1141df89",
   "metadata": {},
   "source": [
    "#### Define a new transform to convert brain tumor labels\n",
    "Here we convert the multi-classes labels into multi-labels segmentation task in One-Hot format.\\\n",
    "Not using here"
   ]
  },
  {
   "cell_type": "code",
   "execution_count": 17,
   "id": "f9eb818f",
   "metadata": {},
   "outputs": [],
   "source": [
    "class ConvertToMultiChannelBasedOnBratsClassesd(MapTransform):\n",
    "    \n",
    "    \"\"\"\n",
    "     GD-enhancing tumor (ET — label 4), \n",
    "     the peritumoral edema (ED — label 2), and \n",
    "     the necrotic and non-enhancing tumor core (NCR/NET — label 1)\n",
    "\n",
    "    \"\"\"\n",
    "    \n",
    "    def __call__(self, data):\n",
    "        d = dict(data)\n",
    "        for key in self.keys:\n",
    "            result = []\n",
    "            \n",
    "            d[key]=np.squeeze(d[key], axis = 0) # Converting 1, H, W, D to H, W, D\n",
    "\n",
    "            # merge labels 1, 2 and 4 to construct WT\n",
    "            result.append(\n",
    "                np.logical_or(\n",
    "                    np.logical_or(d[key] == 2, d[key] == 4), d[key] == 1\n",
    "                )\n",
    "            )\n",
    "            # merge label 1 and label 4 to construct TC\n",
    "            result.append(np.logical_or(d[key] == 1, d[key] == 4))\n",
    "            # label 4 is ET\n",
    "            result.append(d[key] == 4)\n",
    "            d[key] = np.stack(result, axis=0).astype(np.float32)\n",
    "        return d"
   ]
  },
  {
   "cell_type": "markdown",
   "id": "150608af",
   "metadata": {},
   "source": [
    "#### A class to add new key having the tumor mask (GT) to the existing data dictionary\n",
    "The new key, ***label_mask*** will have the same dimension (size: 4,x,x,x) with image array (size: 4,x,x,x)\\\n",
    "Using in ***compose*** class"
   ]
  },
  {
   "cell_type": "code",
   "execution_count": 18,
   "id": "abbdbd0e",
   "metadata": {},
   "outputs": [],
   "source": [
    "class ConvertToIDHLabel2WTd(MapTransform):\n",
    "    \n",
    "    \"\"\"\n",
    "     GD-enhancing tumor (ET — label 4), \n",
    "     the peritumoral edema (ED — label 2), and \n",
    "     the necrotic and non-enhancing tumor core (NCR/NET — label 1)\n",
    "\n",
    "    \"\"\"\n",
    "    \n",
    "    def __init__(self, keys: KeysCollection, IDH_label_key:str = 'IDH_label') -> None:\n",
    "\n",
    "        super().__init__(keys)\n",
    "        self.IDH_label_key = IDH_label_key\n",
    "       \n",
    "    def __call__(self, data):\n",
    "        d = dict(data)\n",
    "        for key in self.keys:\n",
    "            # merge labels 1, 2 and 4 to construct WT\n",
    "            #WT = np.logical_or(np.logical_or(d[key] == 2, d[key] == 4), d[key] == 1).astype(np.uint8)\n",
    "            result = []\n",
    "            WT = np.squeeze(d[key], axis = 0)\n",
    "            if d[self.IDH_label_key].item() == 1:\n",
    "                WT=np.multiply(WT, 2)\n",
    "                #WT = 2*WT\n",
    "            \n",
    "            result.append(WT==1)\n",
    "            result.append(WT==2)\n",
    "            \n",
    "            d[key] = np.stack(result, axis = 0).astype(np.float32)\n",
    "        \n",
    "        monai.data.utils.remove_keys(d, self.IDH_label_key)\n",
    "            \n",
    "    \n",
    "        return d"
   ]
  },
  {
   "cell_type": "code",
   "execution_count": 19,
   "id": "cba17165",
   "metadata": {},
   "outputs": [],
   "source": [
    "class Convert2WTd(MapTransform):\n",
    "    \n",
    "    \"\"\"\n",
    "     GD-enhancing tumor (ET — label 4), \n",
    "     the peritumoral edema (ED — label 2), and \n",
    "     the necrotic and non-enhancing tumor core (NCR/NET — label 1)\n",
    "\n",
    "    \"\"\"\n",
    "    \n",
    "    def __call__(self, data):\n",
    "        d = dict(data)\n",
    "        for key in self.keys:\n",
    "            result = []\n",
    "            output_classes = 2\n",
    "            \n",
    "            # merge labels 1, 2 and 4 to construct WT\n",
    "            WT = np.logical_or(np.logical_or(d[key] == 2, d[key] == 4), d[key] == 1).astype(np.float32)\n",
    "            d[f'{key}'] = WT\n",
    "         \n",
    "            WT = np.expand_dims(ndimage.binary_dilation(np.squeeze(WT, axis=0), iterations=2), axis = 0).astype(np.float32)\n",
    "            #WT = np.stack(tuple([ndimage.binary_dilation((np.squeeze(WT, axis = 0)==_k).astype(WT.dtype), iterations=5).astype(WT.dtype) for _k in range(output_classes)]), axis = 0)\n",
    "            d[f'{key}_mask'] = WT\n",
    "            d[f'{key}_mask_meta_dict'] = copy.deepcopy(d[f\"{key}_meta_dict\"])\n",
    "            \n",
    "        \n",
    "        return d"
   ]
  },
  {
   "cell_type": "code",
   "execution_count": 20,
   "id": "ada94522",
   "metadata": {},
   "outputs": [],
   "source": [
    "class SpatialCropWTCOMd(MapTransform):\n",
    "    \n",
    "    \"\"\"\n",
    "     GD-enhancing tumor (ET — label 4), \n",
    "     the peritumoral edema (ED — label 2), and \n",
    "     the necrotic and non-enhancing tumor core (NCR/NET — label 1)\n",
    "\n",
    "    \"\"\"\n",
    "    def __init__(self, keys: KeysCollection, roi_size, COM_label_key:str = 'label_mask') -> None:\n",
    "\n",
    "        super().__init__(keys)\n",
    "        self.COM_label_key = COM_label_key\n",
    "        self.roi_size = roi_size\n",
    "    \n",
    "    def __call__(self, data):\n",
    "        d = dict(data)\n",
    "        for key in self.keys:\n",
    "            result = []\n",
    "            Coms = np.array([ndimage.measurements.center_of_mass(lbl) for lbl in list(d[self.COM_label_key])])\n",
    "            Coms[np.isnan(Coms)] = 70\n",
    "            Coms=Coms[0].astype(np.uint16).tolist()\n",
    "        \n",
    "            sc_com= SpatialCrop(roi_center= Coms, roi_size=self.roi_size)\n",
    "            d[key] = sc_com(d[key])\n",
    "                \n",
    "        return d"
   ]
  },
  {
   "cell_type": "code",
   "execution_count": 21,
   "id": "247cc560",
   "metadata": {},
   "outputs": [],
   "source": [
    "class ConcatLabelBrainmaskd(MapTransform):\n",
    "    \"\"\"\n",
    "          we do not need labels as it is a generative problem\n",
    "    \"\"\"\n",
    "    \n",
    "    def __init__(self, keys: KeysCollection, image_key = 'image', label_key = 'label', \n",
    "                 brain_mask_key = 'brain_mask') -> None:\n",
    "        \n",
    "        super().__init__(keys)\n",
    "        self.brain_mask_key = brain_mask_key\n",
    "        self.image_key = image_key\n",
    "        self.label_key = label_key\n",
    "    \n",
    "    \n",
    "    def __call__(self, data):\n",
    "     \n",
    "        d = dict(data)\n",
    "        #d[self.image_key] = np.concatenate((d[self.image_key], d[self.label_key], d[self.brain_mask_key][0:1]), axis = 0)\n",
    "        d[self.image_key] = np.concatenate((d[self.image_key], d[self.label_key][0:1]), axis = 0)\n",
    "        \n",
    "        return d"
   ]
  },
  {
   "cell_type": "markdown",
   "id": "edb58402",
   "metadata": {},
   "source": [
    "### Implementing channelwise histogram normalization\n",
    "(Not using here)"
   ]
  },
  {
   "cell_type": "code",
   "execution_count": 22,
   "id": "2add408a",
   "metadata": {},
   "outputs": [],
   "source": [
    "class HistogramNormalizeChannelWised(MapTransform):\n",
    "    \"\"\"\n",
    "          we do not need labels as it is a generative problem\n",
    "    \"\"\"\n",
    "    \n",
    "    def __init__(self, keys: KeysCollection, brain_mask_key = 'brain_mask', min=0, max=255) -> None:\n",
    "        \n",
    "        super().__init__(keys)\n",
    "        self.brain_mask_key = brain_mask_key\n",
    "        self.histnorms = HistogramNormalize(num_bins=256, min=min, max=max)\n",
    "    \n",
    "    \n",
    "    def __call__(self, data):\n",
    "     \n",
    "        d = dict(data)\n",
    "        for key in self.keys:\n",
    "            nchnl = d[key].shape[0]\n",
    "            for ch in range(nchnl):\n",
    "                d[key][ch] = self.histnorms(d[key][ch], d[self.brain_mask_key][ch])\n",
    "        \n",
    "        return d"
   ]
  },
  {
   "cell_type": "markdown",
   "id": "9f0e7fcc",
   "metadata": {},
   "source": [
    "### Defining traning and validation transforms\n",
    "\n",
    "- Training transform includes:\n",
    "    - LoadImaged\n",
    "    - EnsureChannelFirstd\n",
    "    - HistogramNormalizeChannelWised: Histogram normalization channel wise (custom class defined aboove)\n",
    "    - NormalizeIntensityd\n",
    "    - RandRotate90d\n",
    "    - RandZoomd\n",
    "    - ConvertToIDHLabel2WTd (custom class defined above)\n",
    "    - CropForegroundd: Cropping foreground based on the whole tumor mask (WT GT)\n",
    "    - RandCropByPosNegLabeld: Randomly cropping 8 patches based on 3: 1 (WT : non tumor tissus) ratio\n",
    "    - RandGaussianNoised\n",
    "    - RandStdShiftIntensityd\n",
    "    - RandFlipd\n",
    "    \n",
    "- validation transform includes:\n",
    "    - LoadImaged\n",
    "    - EnsureChannelFirstd\n",
    "    - HistogramNormalizeChannelWised: Histogram normalization channel wise (custom class defined aboove)\n",
    "    - NormalizeIntensityd\n",
    "    - ConvertToIDHLabel2WTd (custom class defined above)\n",
    "    \n",
    "Most of transfroms are implemented using [Monai](https://docs.monai.io/en/latest/transforms.html#dictionary-transforms) library\n",
    "\n"
   ]
  },
  {
   "cell_type": "code",
   "execution_count": null,
   "id": "5475575b",
   "metadata": {},
   "outputs": [],
   "source": []
  },
  {
   "cell_type": "code",
   "execution_count": 23,
   "id": "28c7a591",
   "metadata": {},
   "outputs": [],
   "source": [
    "def threshold_foreground(x):\n",
    "    # threshold at not equal to 0\n",
    "    return x == 1\n",
    "\n",
    "\n",
    "#Resized(keys=keys[0:-1], spatial_size=patch_size, mode = ('area','nearest','nearest')),\n",
    "\n",
    "# ConvertToMultiChannelBasedOnBratsClassesd(keys = ['label']),\n",
    "# ConcatLabelBrainmaskd(keys = None, image_key = 'image', label_key = 'label', brain_mask_key = 'brain_mask'),\n",
    "# CropForegroundd(keys=keys[0:-1], source_key=\"brain_mask\", select_fn = threshold_foreground, start_coord_key='fg_start_coord', end_coord_key='fg_end_coord'),\n",
    "# SpatialPadd(keys=keys[0:-1], spatial_size=patch_size),\n",
    "\n",
    "# RandGaussianSmoothd(\n",
    "#     keys=[\"image\"],\n",
    "#     sigma_x=(0.5, 1.15),\n",
    "#     sigma_y=(0.5, 1.15),\n",
    "#     sigma_z=(0.5, 1.15),\n",
    "#     prob=0.3,\n",
    "# ),\n",
    "\n",
    "# RandScaleIntensityd(keys=[\"image\"], factors=0.3, prob=0.3),\n",
    "# RandGibbsNoised(keys=[\"image\"], prob=0.3, alpha=(0.1, 0.5), as_tensor_output=False),\n",
    "\n",
    "          \n",
    "# DataStatsd(keys=keys[0:-1], prefix=\"Data\", data_type=True, data_shape=True, value_range=True, data_value=False),\n",
    "#DataStatsd(keys=keysExt[0:-1], prefix=\"Data\", data_type=True, data_shape=True, value_range=True, data_value=False),\n",
    "\n",
    "\n",
    "def get_task_transforms(patch_size, task='train', pos_sample_num=1, neg_sample_num=1, num_samples=1):\n",
    "    \n",
    "    #spatial_size=(30, 30, 30)\n",
    "    orig_img_size = (240, 240, 155)\n",
    "\n",
    "    if task=='train':\n",
    "        keys = [\"image\", 'label', 'brain_mask', 'IDH_label']\n",
    "        keysExt = [\"image\", 'label', 'brain_mask', 'label_mask', 'IDH_label']\n",
    "        \n",
    "        all_transform = [\n",
    "            \n",
    "            LoadImaged(keys=keys[0:-1], reader = \"NibabelReader\"),\n",
    "            EnsureChannelFirstd(keys=keys[0:-1]),\n",
    "            #adapter_tioChannelWise2monai(tiofn = tio.HistogramStandardization, mode = 'train',landmarks = landmarks_dict),\n",
    "            #HistogramNormalizeChannelWised(keys = ['image'], brain_mask_key = 'brain_mask', min = 1, max = 65535),\n",
    "            \n",
    "            RandAffined(\n",
    "                keys = keys[0:-1],\n",
    "                prob=0.2,\n",
    "                spatial_size= orig_img_size, #(240, 240, 155),\n",
    "                rotate_range=np.pi/9,\n",
    "                scale_range=(0.1, 0.1),\n",
    "                mode=(\"bilinear\", \"nearest\", \"nearest\"),\n",
    "                as_tensor_output=False,\n",
    "                padding_mode = (\"zeros\", \"zeros\", \"zeros\"),\n",
    "            ),\n",
    "            \n",
    "            RandRotate90d(keys=keys[0:-1], prob=0.3, spatial_axes=[0, 2]),\n",
    "\n",
    "            RandZoomd(\n",
    "                keys=keys[0:-1],\n",
    "                min_zoom=0.9,\n",
    "                max_zoom=1.1,\n",
    "                mode=(\"trilinear\", \"nearest\", \"nearest\"),\n",
    "                align_corners=(True, None, None),\n",
    "                prob=0.3,\n",
    "            ),\n",
    "            \n",
    "            #ConvertToIDHLabel2WTd(keys = [\"label\"]),\n",
    "            CopyItemsd(keys=[\"label\"], names=[\"label_mask\"], times=1),\n",
    "            Convert2WTd(keys = [\"label\"]),\n",
    "            ConvertToIDHLabel2WTd(keys = [\"label\"], IDH_label_key = 'IDH_label'),\n",
    "            CropForegroundd(keys=keysExt[0:-1], source_key=\"brain_mask\", select_fn = threshold_foreground, start_coord_key='fg_start_coord', end_coord_key='fg_end_coord'),\n",
    "            #Spacingd(keys = keysExt[0:-1], pixdim=(1.25, 1.25, 1.25), mode = ('bilinear','nearest', 'nearest', 'nearest')),\n",
    "            NormalizeIntensityd(keys=[\"image\"], nonzero=True, channel_wise=True),\n",
    "            \n",
    "            #ResizeWithPadOrCropd(keys = keysExt[0:-1], spatial_size = (128, 160, 128)),\n",
    "            RandGaussianNoised(keys=[\"image\"], std=0.01, prob=0.3),\n",
    "            RandStdShiftIntensityd(keys = [\"image\"], factors=0.3, nonzero=True, channel_wise=True, prob=0.3), \n",
    "            RandFlipd(keys=keysExt[0:-1], prob=0.5, spatial_axis=0),\n",
    "            RandFlipd(keys=keysExt[0:-1], prob=0.5, spatial_axis=1),\n",
    "            RandFlipd(keys=keysExt[0:-1], prob=0.5, spatial_axis=2),\n",
    "            \n",
    "            CropForegroundd(keys=keysExt[0:-1], source_key=\"label_mask\", select_fn = threshold_foreground, start_coord_key='fg_start_coord', end_coord_key='fg_end_coord', margin=2),\n",
    "            #ResizeWithPadOrCropd(keys = keysExt[0:-1], spatial_size = patch_size),\n",
    "            SpatialPadd(keys = keysExt[0:-1], spatial_size = patch_size),\n",
    "#             RandCropByLabelClassesd(\n",
    "#                 keys=keysExt[0:-1],            \n",
    "#                 label_key = \"label_mask\",\n",
    "#                 spatial_size = patch_size,    \n",
    "#                 ratios= [1, 3],\n",
    "#                 #ratios=[1,] * 2,\n",
    "#                 num_classes=2,              \n",
    "#                 num_samples=4,\n",
    "#                 image_key=\"brain_mask\",\n",
    "#                 image_threshold=0.0,\n",
    "#                 #allow_smaller = True,\n",
    "#             ),\n",
    "            \n",
    "            RandCropByPosNegLabeld(\n",
    "                keys=keysExt[0:-1],\n",
    "                label_key=\"label_mask\",\n",
    "                spatial_size=patch_size,\n",
    "                pos=pos_sample_num,\n",
    "                neg=neg_sample_num,\n",
    "                num_samples=num_samples,\n",
    "                #image_key=None,\n",
    "                image_key=\"brain_mask\",\n",
    "                image_threshold=0.,\n",
    "            ),\n",
    "            \n",
    "            #SpatialCropWTCOMd(keys=keysExt[0:-1], roi_size=patch_size, COM_label_key = \"label_mask\"),\n",
    "            SpatialPadd(keys = keysExt[0:-1], spatial_size = patch_size),\n",
    "        \n",
    "            #CastToTyped(keys=keysExt, dtype=(np.float32, np.uint8, np.uint8, np.uint8, np.float32)),\n",
    "            CastToTyped(keys=keysExt[0:-1], dtype=(np.float32, np.float32, np.float32, np.float32)), #np.float32\n",
    "            #ToTensord(keys=keysExt, dtype = (torch.float32, torch.float32, torch.float32, torch.float32, torch.float32)),\n",
    "            #EnsureTyped(keys=keysExt[0:-1], data_type = \"tensor\", wrap_sequence=True),\n",
    "#             #ToDeviced(keys = keys, device = deviceName),\n",
    "        ]\n",
    "        \n",
    "        \n",
    "        \n",
    "    elif task=='validation':\n",
    "    \n",
    "        keys = [\"image\", 'label', 'brain_mask', 'IDH_label']\n",
    "        keysExt = [\"image\", 'label', 'brain_mask', 'label_mask', 'IDH_label']\n",
    "        all_transform = [\n",
    "            \n",
    "            LoadImaged(keys=keys[0:-1], reader = \"NibabelReader\"),\n",
    "            EnsureChannelFirstd(keys=keys[0:-1]),\n",
    "            #adapter_tioChannelWise2monai(tiofn = tio.HistogramStandardization, mode = 'train',landmarks = landmarks_dict),\n",
    "            #HistogramNormalizeChannelWised(keys = ['image'], brain_mask_key = 'brain_mask', min = 1, max = 65535),\n",
    "          \n",
    "            CopyItemsd(keys=[\"label\"], names=[\"label_mask\"], times=1),\n",
    "            Convert2WTd(keys = [\"label\"]),\n",
    "            ConvertToIDHLabel2WTd(keys = [\"label\"], IDH_label_key = 'IDH_label'),\n",
    "            CropForegroundd(keys=keysExt[0:-1], source_key=\"brain_mask\", select_fn = threshold_foreground, start_coord_key='fg_start_coord', end_coord_key='fg_end_coord'),\n",
    "            #Spacingd(keys = keysExt[0:-1], pixdim=(1.25, 1.25, 1.25), mode = ('bilinear','nearest', 'nearest', 'nearest')),\n",
    "            NormalizeIntensityd(keys=[\"image\"], nonzero=True, channel_wise=True),\n",
    "            #ResizeWithPadOrCropd(keys = keysExt[0:-1], spatial_size = (128, 160, 128)),\n",
    "            CropForegroundd(keys=keysExt[0:-1], source_key=\"label_mask\", select_fn = threshold_foreground, start_coord_key='fg_start_coord', end_coord_key='fg_end_coord', margin=2),\n",
    "            #SpatialCropWTCOMd(keys=keysExt[0:-1], roi_size=patch_size, COM_label_key = \"label_mask\"),\n",
    "            SpatialPadd(keys = keysExt[0:-1], spatial_size = patch_size),\n",
    "#             RandCropByPosNegLabeld(\n",
    "#                 keys=keysExt[0:-1],\n",
    "#                 label_key=\"label_mask\",\n",
    "#                 spatial_size=patch_size,\n",
    "#                 pos=pos_sample_num,\n",
    "#                 neg=neg_sample_num,\n",
    "#                 num_samples=num_samples,\n",
    "#                 image_key=\"brain_mask\",\n",
    "#                 image_threshold=0,\n",
    "#             ),\n",
    "\n",
    "            #CastToTyped(keys=keysExt, dtype=(np.float32, np.uint8, np.uint8, np.uint8, np.float32)),\n",
    "            CastToTyped(keys=keysExt[0:-1], dtype=(np.float32, np.float32, np.float32, np.float32)), # np.float32\n",
    "            #ToTensord(keys=keysExt, dtype = (torch.float32, torch.float32, torch.float32, torch.float32, torch.float32)),\n",
    "            #ToTensord(keys=keysExt),\n",
    "            #EnsureTyped(keys=keysExt[0:-1], data_type = \"tensor\", wrap_sequence=True),\n",
    "            #ToDeviced(keys = keys, device = deviceName),\n",
    "        ]\n",
    "        \n",
    "    else:\n",
    "        print('print task either train or validation here')\n",
    "\n",
    "\n",
    "    return Compose(all_transform)\n",
    "\n",
    "# def create_cachedir(cache_dir):\n",
    "#     if not os.path.exists(cache_dir):\n",
    "#         os.makedirs(cache_dir)\n",
    "#     return 1"
   ]
  },
  {
   "cell_type": "markdown",
   "id": "90ff4462",
   "metadata": {},
   "source": [
    "### Section for visual inspection and debugging"
   ]
  },
  {
   "cell_type": "code",
   "execution_count": 24,
   "id": "fc673f40",
   "metadata": {},
   "outputs": [
    {
     "data": {
      "text/plain": [
       "(20, 10)"
      ]
     },
     "execution_count": 24,
     "metadata": {},
     "output_type": "execute_result"
    }
   ],
   "source": [
    "#patch_size=(128, 160, 128)\n",
    "#patch_size=(64, 80, 64)\n",
    "patch_size=(32, 32, 32)\n",
    "train_transforms = get_task_transforms(patch_size, task='train', pos_sample_num=3, neg_sample_num=1, num_samples=16)\n",
    "val_transforms = get_task_transforms(patch_size, task='validation', pos_sample_num=1, neg_sample_num=1, num_samples=1)\n",
    "len(train_transforms), len(val_transforms)"
   ]
  },
  {
   "cell_type": "code",
   "execution_count": null,
   "id": "a0f49775",
   "metadata": {},
   "outputs": [],
   "source": []
  },
  {
   "cell_type": "code",
   "execution_count": null,
   "id": "beb59c2f",
   "metadata": {},
   "outputs": [],
   "source": []
  },
  {
   "cell_type": "code",
   "execution_count": 25,
   "id": "9ff40fed",
   "metadata": {},
   "outputs": [
    {
     "data": {
      "text/plain": [
       "122"
      ]
     },
     "execution_count": 25,
     "metadata": {},
     "output_type": "execute_result"
    }
   ],
   "source": [
    "all_train_dataset = monai.data.Dataset(data=BraTS20SubjectsIDHTrainDCT[\"fold0\"], transform=train_transforms)\n",
    "len(all_train_dataset)"
   ]
  },
  {
   "cell_type": "raw",
   "id": "02585be5",
   "metadata": {},
   "source": [
    "#all_train_dataset = Dataset(data=BraTS20SubjectsIDHTrainDCT[\"fold0\"], transform=val_transforms)\n",
    "all_train_dataset = monai.data.Dataset(data=BraTS20SubjectsIDHTrainDCT[\"fold0\"][40:], transform=train_transforms)\n",
    "print(all_train_dataset[0][0]['image'].shape)\n",
    "for cnt, kj in enumerate(all_train_dataset):\n",
    "    #asub = kj\n",
    "    num_samples=4\n",
    "    pindx = random.choice(np.arange(num_samples, dtype = np.uint8))\n",
    "    kj = kj[pindx]\n",
    "    print('Counts: ', cnt, ' image shape: ', kj['image'].shape)\n",
    "    print('p1q19_label:', kj['IDH_label'])\n",
    "    print(kj['label'].shape, np.unique(kj['label'], return_counts = True))\n",
    "    print(kj['label_mask'].shape, np.unique(kj['label_mask'], return_counts = True))\n",
    "    print(kj['brain_mask'].shape, np.unique(kj['brain_mask'], return_counts = True))\n",
    "    #unque = kj['label_mask'].unique(return_counts = True)[1]\n",
    "    #print('\\n Background ratio:', unque[0]/unque.sum(), ' Tumor(=1): ',  unque[1]/unque.sum())\n",
    "    print('#'*100)\n",
    "#print(asub['image'].shape)\n",
    "# print(asub['image'][0].min(),asub['image'][0].max(), asub['image'][0].mean())"
   ]
  },
  {
   "cell_type": "raw",
   "id": "47222237",
   "metadata": {},
   "source": [
    "all_train_dataset[0]"
   ]
  },
  {
   "cell_type": "code",
   "execution_count": 26,
   "id": "107b0bf1",
   "metadata": {
    "scrolled": true
   },
   "outputs": [],
   "source": [
    "#investifiles = copy.deepcopy(BraTS20SubjectsIDHTrainDCT[\"fold0\"])\n",
    "\n",
    "# for i in range(len(investifiles)):\n",
    "#     investifiles[i]['IDH_label'] = investifiles[i]['IDH_label'].astype(np.float32) \n",
    "# all_train_dataset = monai.data.Dataset(data=investifiles, transform=train_transforms)\n",
    "#all_train_dataset[10][3]['IDH_label']"
   ]
  },
  {
   "cell_type": "code",
   "execution_count": 27,
   "id": "0b423f77",
   "metadata": {},
   "outputs": [],
   "source": [
    "# for cfold in tqdm(range(len(BraTS20SubjectsIDHTrainDCT))):\n",
    "#     all_train_dataset = monai.data.Dataset(data=copy.deepcopy(BraTS20SubjectsIDHTrainDCT[f\"fold{cfold}\"]), transform=train_transforms)\n",
    "#     dls = monai.data.DataLoader(all_train_dataset, batch_size=8, shuffle=False, collate_fn=list_data_collate)\n",
    "#     # abatch = next(iter(dls))\n",
    "#     # print(abatch['image'].shape)\n",
    "#     # print(abatch['label'].shape)\n",
    "#     for epoch in range(5):\n",
    "#         for abatch in dls:\n",
    "#             print(abatch['image'].shape)\n",
    "#             print(abatch['label'].shape)\n",
    "#             print(abatch['IDH_label'].shape)\n",
    "#             print(abatch['IDH_label'], '\\n', '###'*10, '\\n')"
   ]
  },
  {
   "cell_type": "code",
   "execution_count": null,
   "id": "260a93fe",
   "metadata": {},
   "outputs": [],
   "source": []
  },
  {
   "cell_type": "code",
   "execution_count": 28,
   "id": "b6a99df9",
   "metadata": {},
   "outputs": [],
   "source": [
    "#few_train_dataset = Dataset(data=train_files[0:10], transform=train_transforms)\n",
    "# asub = few_train_dataset[5] \n",
    "# view(image = asub['image'][3].cpu(), label_image = asub['label_mask'][0].cpu())\n"
   ]
  },
  {
   "cell_type": "code",
   "execution_count": null,
   "id": "fda60d07",
   "metadata": {},
   "outputs": [],
   "source": []
  },
  {
   "cell_type": "markdown",
   "id": "31c969ac",
   "metadata": {},
   "source": [
    "### Few investigation"
   ]
  },
  {
   "cell_type": "code",
   "execution_count": 29,
   "id": "8f9b40ea",
   "metadata": {},
   "outputs": [],
   "source": [
    "# afold_train_dataset = monai.data.Dataset(data=train_folds['fold0'], transform=train_transforms)\n",
    "# #train_folds['fold0_IDH_label']\n",
    "# uval, ucnt = np.unique(train_folds['fold0_IDH_label'], return_counts=True)\n",
    "# weight = 1./(ucnt/ucnt.min())\n",
    "# #weight = np.array([0.55, 0.45])\n",
    "# sample_weights = np.array([weight[int(t)] for t in train_folds['fold0_IDH_label']])\n",
    "# sample_weights = torch.from_numpy(sample_weights)\n",
    "# weight, ucnt"
   ]
  },
  {
   "cell_type": "code",
   "execution_count": null,
   "id": "0cf2e296",
   "metadata": {},
   "outputs": [],
   "source": []
  },
  {
   "cell_type": "code",
   "execution_count": null,
   "id": "937542b8",
   "metadata": {},
   "outputs": [],
   "source": []
  },
  {
   "cell_type": "code",
   "execution_count": null,
   "id": "dd2fb8f8",
   "metadata": {},
   "outputs": [],
   "source": []
  },
  {
   "cell_type": "code",
   "execution_count": null,
   "id": "bf6515ab",
   "metadata": {},
   "outputs": [],
   "source": []
  },
  {
   "cell_type": "code",
   "execution_count": 30,
   "id": "c2bb4b28",
   "metadata": {},
   "outputs": [],
   "source": [
    "#afold_train_dataset[200]['IDH_label'], afold_train_dataset[200]['label'].unique(return_counts = True)"
   ]
  },
  {
   "cell_type": "raw",
   "id": "50858c3f",
   "metadata": {},
   "source": [
    "#sampler = WeightedRandomSampler(sample_weights, num_samples= len(samples_weight))\n",
    "sampler = WeightedRandomSampler(sample_weights, num_samples= len(sample_weights), replacement=True)\n",
    "\n",
    "afold_train_loader = monai.data.DataLoader(afold_train_dataset, batch_size=32, sampler=sampler)\n",
    "#afold_train_loader = torch.utils.data.DataLoader(afold_train_dataset, batch_size=32, sampler=sampler)"
   ]
  },
  {
   "cell_type": "raw",
   "id": "6fb4237b",
   "metadata": {},
   "source": [
    "for ibatch in afold_train_loader:\n",
    "    ibatch_IDH = ibatch['IDH_label']\n",
    "    print(torch.eq(ibatch_IDH, 0).sum(), torch.eq(ibatch_IDH, 1).sum())\n",
    "    print('#'*50)"
   ]
  },
  {
   "cell_type": "raw",
   "id": "522ebd53",
   "metadata": {},
   "source": [
    "numDataPoints = 1000\n",
    "data_dim = 5\n",
    "bs = 100\n",
    "\n",
    "# Create dummy data with class imbalance 9 to 1\n",
    "data = torch.FloatTensor(numDataPoints, data_dim)\n",
    "target = np.hstack((np.zeros(int(numDataPoints * 0.9), dtype=np.int32),\n",
    "                    np.ones(int(numDataPoints * 0.1), dtype=np.int32)))\n",
    "\n",
    "print('target train 0/1: {}/{}'.format(len(np.where(target == 0)[0]), len(np.where(target == 1)[0])))\n",
    "\n",
    "class_sample_count = np.array(\n",
    "    [len(np.where(target == t)[0]) for t in np.unique(target)])\n",
    "weight = 1. / class_sample_count\n",
    "samples_weight = np.array([weight[t] for t in target])\n",
    "samples_weight"
   ]
  },
  {
   "cell_type": "markdown",
   "id": "97b8f9dd",
   "metadata": {},
   "source": [
    "## Custom editing of SegResNetVAE"
   ]
  },
  {
   "cell_type": "code",
   "execution_count": 31,
   "id": "8fb8db90",
   "metadata": {},
   "outputs": [
    {
     "name": "stdout",
     "output_type": "stream",
     "text": [
      "[[3, 3, 3], [3, 3, 3], [3, 3, 3], [3, 3, 3], [3, 3, 3]] \n",
      " [[1, 1, 1], [2, 2, 2], [2, 2, 2], [2, 2, 2], [2, 2, 2]]\n",
      "strides length 5\n",
      "Filters: [32, 64, 128, 256, 320]\n"
     ]
    }
   ],
   "source": [
    "def get_kernels_strides(sizes, spacings):\n",
    "    #sizes, spacings = patch_size[task_id], spacing[task_id]\n",
    "    strides, kernels = [], []\n",
    "\n",
    "    while True:\n",
    "        spacing_ratio = [sp / min(spacings) for sp in spacings]\n",
    "        stride = [\n",
    "            2 if ratio <= 2 and size >= 8 else 1\n",
    "            for (ratio, size) in zip(spacing_ratio, sizes)\n",
    "        ]\n",
    "        kernel = [3 if ratio <= 2 else 1 for ratio in spacing_ratio]\n",
    "        if all(s == 1 for s in stride):\n",
    "            break\n",
    "        sizes = [i / j for i, j in zip(sizes, stride)]\n",
    "        spacings = [i * j for i, j in zip(spacings, stride)]\n",
    "        kernels.append(kernel)\n",
    "        strides.append(stride)\n",
    "    strides.insert(0, len(spacings) * [1])\n",
    "    kernels.append(len(spacings) * [3])\n",
    "    return kernels, strides\n",
    "#task_id = \"01\"\n",
    "kernels, strides = get_kernels_strides(patch_size, spacing)\n",
    "kernels.append([3, 3, 3])\n",
    "strides.append([2, 2, 2])\n",
    "\n",
    "print(kernels,'\\n', strides)\n",
    "\n",
    "print('strides length', len(strides))\n",
    "#filters = [64, 96, 128, 192, 256, 384, 512, 768, 1024][: len(strides)]\n",
    "#filters = [16, 32, 64, 128, 160, 160][: len(strides)]\n",
    "#filters = [64, 128, 256, 384, 512, 768, 1024][: len(strides)]\n",
    "\n",
    "filters = [32, 64, 128, 256, 320, 384, 512][: len(strides)]\n",
    "print(\"Filters:\", filters)"
   ]
  },
  {
   "cell_type": "code",
   "execution_count": 32,
   "id": "06bc3843",
   "metadata": {},
   "outputs": [],
   "source": [
    "# kernels, strides = get_kernels_strides((128, 128, 128), spacing)\n",
    "# #kernels, strides\n",
    "# kernels = [[3, 3, 3], [3, 3, 3], [3, 3, 3], [3, 3, 3], [3, 3, 3], [3, 6, 3]]\n",
    "# strides = [[1, 1, 1], [2, 2, 2], [2, 2, 2], [2, 2, 2], [2, 2, 2], [2, 2, 2]]"
   ]
  },
  {
   "cell_type": "raw",
   "id": "96c8484a",
   "metadata": {},
   "source": [
    "num_classes = 2\n",
    "\n",
    "model = DynUNet(\n",
    "    spatial_dims=3,\n",
    "    in_channels=2,\n",
    "    out_channels=num_classes,\n",
    "    kernel_size=kernels,\n",
    "    strides=strides,\n",
    "    upsample_kernel_size=strides[1:],\n",
    "    norm_name=\"batch\",\n",
    "    filters = filters,\n",
    "    #dropout=0.2,\n",
    "    deep_supervision=True,\n",
    "    res_block=True,\n",
    "    deep_supr_num=2,\n",
    ").to(device)"
   ]
  },
  {
   "cell_type": "raw",
   "id": "da458eb4",
   "metadata": {},
   "source": [
    "print(model)"
   ]
  },
  {
   "cell_type": "raw",
   "id": "5348379b",
   "metadata": {},
   "source": [
    "inps = torch.randn(3, 1, 32, 32, 32).to(device)\n",
    "x = model(inps)\n",
    "# # model\n",
    "x.shape"
   ]
  },
  {
   "cell_type": "raw",
   "id": "4fd64dac",
   "metadata": {},
   "source": []
  },
  {
   "cell_type": "raw",
   "id": "3ea851b4",
   "metadata": {},
   "source": [
    "from torchsummary import summary\n",
    "summary(model, (4, 32, 32, 32))\n",
    "# # inps = torch.randn(3, 4, 48, 64, 48)\n",
    "# # litConv = nn.Conv3d(4, 64, kernel_size=(7, 7, 7), stride=(2, 2, 2), padding=(3, 3, 3), bias=False)\n",
    "# # litConv(inps).shape"
   ]
  },
  {
   "cell_type": "markdown",
   "id": "11e12402",
   "metadata": {},
   "source": [
    "### Defining loss functions\n",
    "- ***CrossEntropyLogitLoss*** Cross entropy logit loss from [PyTorch](https://pytorch.org/docs/stable/generated/torch.nn.BCEWithLogitsLoss.html)\n",
    "- ***DiceCELoss*** Dice + Cross entropy loss from Monai\n",
    "https://docs.monai.io/en/latest/losses.html\n"
   ]
  },
  {
   "cell_type": "code",
   "execution_count": 33,
   "id": "955b6778",
   "metadata": {},
   "outputs": [],
   "source": [
    "class CrossEntropyInstWLogitLoss(nn.Module):\n",
    "    def __init__(self, is_smooth=False, label_smoothing = 0.1):\n",
    "        super().__init__()\n",
    "        self.is_smooth = is_smooth\n",
    "        self.label_smoothing = label_smoothing\n",
    "        \n",
    "       \n",
    "    def forward(self, y_pred, y_true):\n",
    "\n",
    "        if self.is_smooth == True:\n",
    "            y_true = y_true.float() * (1 - self.label_smoothing) + 0.5 * self.label_smoothing\n",
    "\n",
    "        y_true=y_true.type_as(y_pred)   ### y_pred, and y_true should be same size and same data type\n",
    "        \n",
    "        \n",
    "        #deviceidx = y_pred.get_device()\n",
    "        #device = torch.device('cpu') if deviceidx == -1 else torch.device(f'cuda:{deviceidx}')\n",
    "        #loss = F.binary_cross_entropy_with_logits(y_pred.to(device), y_true.to(device), pos_weight = weight.to(device))  ##pos_weight = weight \n",
    "        loss = F.binary_cross_entropy_with_logits(y_pred, y_true) \n",
    "        return loss\n",
    "\n",
    "\n",
    "# class DeepDiceCELogitInstLoss(nn.Module):\n",
    "#     def __init__(self):\n",
    "#         super().__init__()\n",
    "#         #self.volweight = torch.softmax(torch.tensor([0.12, 0.33, 0.55]), dim = 0)\n",
    "#         self.dice = DiceLoss(include_background=False, to_onehot_y=True, softmax=True, squared_pred=True, batch = False)  # reduction = \"none\", batch = True\n",
    "#         #self.smcross_entropy = CrossEntropyInstLoss()  ### was none torch.Tensor([0.66, 0.33, 1]), torch.tensor(self.volweight)\n",
    "\n",
    "#     def forward(self, y_pred, y_true):\n",
    "        \n",
    "#         y_true = y_true.unsqueeze(dim=0).expand(y_pred.shape[1],-1,-1,-1,-1, -1)\n",
    "#         #return sum([0.5 ** i * ((self.dice(p, l)) + self.smcross_entropy(p, l)) \\\n",
    "#         #            for i, (p, l) in enumerate(zip(torch.unbind(y_pred, dim=1), torch.unbind(y_true, dim=0)))])\n",
    "#         return sum([0.5 ** i * self.dice(p, l) for i, (p, l) in enumerate(zip(torch.unbind(y_pred, dim=1), torch.unbind(y_true, dim=0)))])\n",
    "\n",
    "\n",
    "\n",
    "\n",
    "class DeepDiceCELogitInstLoss(nn.Module):\n",
    "    def __init__(self):\n",
    "        super().__init__()\n",
    "        #self.volweight = torch.softmax(torch.tensor([0.12, 0.33, 0.55]), dim = 0)\n",
    "        self.dice = DiceLoss(to_onehot_y=False, sigmoid=True, squared_pred=True, batch = True, smooth_nr=0, smooth_dr=1e-5)  # reduction = \"none\", False\n",
    "        self.logitcross_entropy = CrossEntropyInstWLogitLoss()  ### was none torch.Tensor([0.66, 0.33, 1]), torch.tensor(self.volweight)\n",
    "\n",
    "    def forward(self, y_pred, y_true):\n",
    "        \n",
    "        y_true = y_true.unsqueeze(dim=0).expand(y_pred.shape[1],-1,-1,-1,-1, -1)\n",
    "        return sum([0.5 ** i * ((self.dice(p, l)) + self.logitcross_entropy(p, l)) \\\n",
    "                    for i, (p, l) in enumerate(zip(torch.unbind(y_pred, dim=1), torch.unbind(y_true, dim=0)))])\n",
    "    \n",
    "loss_function = DeepDiceCELogitInstLoss()"
   ]
  },
  {
   "cell_type": "code",
   "execution_count": 34,
   "id": "20156a13",
   "metadata": {},
   "outputs": [
    {
     "data": {
      "text/plain": [
       "tensor(2.6450)"
      ]
     },
     "execution_count": 34,
     "metadata": {},
     "output_type": "execute_result"
    }
   ],
   "source": [
    "xxp = torch.randint(0,4,size=(6,3, 128, 128, 128))\n",
    "#pred = [torch.randn(6,3,8,8,6), torch.randn(6,3,8,8,6), torch.randn(6,3,8,8,6)]\n",
    "pred = torch.stack([torch.randn(6, 3, 128, 128, 128), torch.randn(6, 3, 128, 128, 128), torch.randn(6, 3, 128, 128, 128), torch.randn(6, 3, 128, 128, 128)], dim=1)\n",
    "loss_function(pred, xxp.float())\n",
    "#loss_function(pred, xxp.float())"
   ]
  },
  {
   "cell_type": "markdown",
   "id": "0cafab78",
   "metadata": {},
   "source": [
    "#### A function to create ***cache_dir*** to save transformed outputs"
   ]
  },
  {
   "cell_type": "code",
   "execution_count": 35,
   "id": "53011a90",
   "metadata": {},
   "outputs": [],
   "source": [
    "def removeAndcreate_cachedir(cache_dir):\n",
    "    if not os.path.exists(cache_dir):\n",
    "        os.makedirs(cache_dir)\n",
    "    else:\n",
    "        #print(\"Pass\")\n",
    "        shutil.rmtree(cache_dir)\n",
    "        os.makedirs(cache_dir)\n",
    "    return 1"
   ]
  },
  {
   "cell_type": "markdown",
   "id": "bf1b3334",
   "metadata": {},
   "source": [
    "### Pytorch training loop\n",
    "\n",
    "Following functionalities are added\n",
    "\n",
    "- Implemeting learning rate finder\n",
    "- Defining Ranger21 optimizer (learning rate scheduler attached to it)\n",
    "- Implementing mixed precision (AMP)\n",
    "- Saving the model weights based on the performance on validation data\n",
    "- Executing 5 fold cross validation (CV) training/validation pipeline, saving a few best model's weights at each fold\n",
    "- Defining train_dataset/train_loader, and val_dataset/val_loader at each fold\n",
    "- Defining a CNN based classification model (DenseNet, EfficientNet, etc.) at each fold to make sure that all accumulated gradients get vanished\n",
    "\n",
    "The key variables which are used here\n",
    "- ***val_cache_dir:*** The path where the transformed ouputs of validaion files will be cached/saved\n",
    "- ***train_cache_dir:*** The path where the transformed ouputs of training files will be cached/saved\n",
    "- ***max_epochs:*** Total number of epochs\n",
    "- ***save_dir:*** The path to save the checkpoints/weights of the model\n",
    "- ***file_prefix:*** The text file where loss/accuracy is recoded like\n",
    "\n",
    "```\n",
    "current fold: 0 current epoch: 1, acc_metric: 0.4579 accuracy: 0.5085, f1score: 0.5085 epoch 1 average training loss: 0.7250 average validation loss: 0.7128 \n",
    "current fold: 0 current epoch: 2, acc_metric: 0.4876 accuracy: 0.5424, f1score: 0.5424 epoch 2 average training loss: 0.6961 average validation loss: 0.6940 \n",
    "current fold: 0 current epoch: 3, acc_metric: 0.4870 accuracy: 0.4915, f1score: 0.4915 epoch 3 average training loss: 0.6862 average validation loss: 0.6965 \n",
    "current fold: 0 current epoch: 4, acc_metric: 0.4882 accuracy: 0.5593, f1score: 0.5593 epoch 4 average training loss: 0.6715 average validation loss: 0.6885 \n",
    "current fold: 0 current epoch: 5, acc_metric: 0.5927 accuracy: 0.5593, f1score: 0.5593 epoch 5 average training loss: 0.6555 average validation loss: 0.6826 \n",
    "```\n",
    "\n",
    "- ***val_interval*** Epoch interval to investivate the model's performance on validation data. If the current performance is better than in previous epochs, the model's weights will be saved\n",
    "- ***key_metric_n_saved*** The number of model checkpoints we want to save. It it is set as 5, top 5 checkpoints/weights will be saved in 5 different ***.pth*** files  \n"
   ]
  },
  {
   "cell_type": "code",
   "execution_count": 36,
   "id": "7b49c1ae",
   "metadata": {},
   "outputs": [],
   "source": [
    "\n",
    "#***Executed pipeline***\\\n",
    "#<img src=\"assets/ProposedIDHClass.png\" align=\"left\" width=\"1024\" height=\"1800\">\n",
    "\n"
   ]
  },
  {
   "cell_type": "code",
   "execution_count": 37,
   "id": "d51137ac",
   "metadata": {},
   "outputs": [],
   "source": [
    "def train(train_files, train_files_IDH_label, val_files, val_files_IDH_label, batch_size = 2, epochs = 10, find_lr=False, cfold = 0):\n",
    "    \n",
    "\n",
    "    #     model = DenseNet201(spatial_dims=2, in_channels=3,\n",
    "    #                        out_channels=num_classes, pretrained=True).to(device)\n",
    "\n",
    "    # create spatial 3D\n",
    "    #model = MultiDenseNet(spatial_dims=3, in_channelsList=(4, 1, 1, 1, 1), out_channels=2, block_config = (6, 12, 24, 16)).to(device)\n",
    "    #model = monai.networks.nets.DenseNet121(spatial_dims=3, in_channels=4, out_channels=1).to(device)\n",
    "    #model = monai.networks.nets.DenseNet264(spatial_dims=3, in_channels=4, out_channels=1, init_features=64, growth_rate=32, block_config=(6, 12, 64, 48)).to(device)\n",
    "    #patch_size=(64, 80, 64)\n",
    "    num_classes = 2\n",
    "    \n",
    "    model = DynUNet(\n",
    "        spatial_dims=3,\n",
    "        in_channels=2,\n",
    "        out_channels=num_classes,\n",
    "        kernel_size=kernels,\n",
    "        strides=strides,\n",
    "        upsample_kernel_size=strides[1:],\n",
    "        norm_name=\"batch\",\n",
    "        filters = filters,\n",
    "        #dropout=0.2,\n",
    "        deep_supervision=True,\n",
    "        res_block=True,\n",
    "        deep_supr_num=2,\n",
    "    ).to(device)\n",
    "    \n",
    "    \n",
    "    \n",
    "    \n",
    "    auc_metric = ROCAUCMetric()\n",
    "    \n",
    "\n",
    "    #train_files, train_files_IDH_label, val_files, val_files_IDH_label = train_files[:48], train_files_IDH_label[:48], val_files[:16], val_files_IDH_label[:16]\n",
    "\n",
    "    \"\"\"\n",
    "    Block for using Monai's caching mechanishm for faster training\n",
    "    \"\"\"\n",
    "    \n",
    "    file_prefixfold = file_prefix  ##or file_prefix f\"{file_prefix}_fold{cfold}\" if saving cv file\n",
    "    data_rpath = '/home/mmiv-ml/data'\n",
    "    train_cache_dir = os.path.join(data_rpath,f'cachingDataset/{file_prefixfold}/train')    \n",
    "    val_cache_dir = os.path.join(data_rpath,f'cachingDataset/{file_prefixfold}/val')\n",
    "    \n",
    "    is_done_train = removeAndcreate_cachedir(train_cache_dir)\n",
    "    is_done_val = removeAndcreate_cachedir(val_cache_dir)\n",
    "    \n",
    "\n",
    "    n_train_cache_n_trans = len(train_transforms) #15\n",
    "    n_val_cache_n_trans = len(val_transforms)\n",
    "    \n",
    "     # create a training data loader\n",
    "\n",
    "    train_dataset = monai.data.CacheNTransDataset(data=train_files, transform=train_transforms,\\\n",
    "                                               cache_n_trans = n_train_cache_n_trans, cache_dir = train_cache_dir)\n",
    "    \n",
    "    \n",
    "    \n",
    "    #train_dataset = monai.data.Dataset(data=train_files, transform=train_transforms)\n",
    "    \n",
    "#     #train_folds['fold0_IDH_label']\n",
    "#     uval, ucnt = np.unique(train_files_IDH_label, return_counts=True)\n",
    "#     weight = 1./(ucnt/ucnt.min())\n",
    "#     #weight = 1./ucnt\n",
    "#     #weight = np.array([0.55, 0.45])\n",
    "#     sample_weights = np.array([weight[int(t)] for t in train_files_IDH_label])\n",
    "#     sample_weights = torch.from_numpy(sample_weights)\n",
    "#     sampler = WeightedRandomSampler(sample_weights, num_samples= len(sample_weights), replacement=True)\n",
    "\n",
    "\n",
    "    #train_dataset = Dataset(data=train_files, transform=train_transforms)\n",
    "    #train_loader = DataLoader(train_dataset, batch_size=8, shuffle=True, num_workers=2, pin_memory=True)\n",
    "    #train_dataset = CacheDataset(data=train_files, transform=train_transforms, cache_rate = 1.0, num_workers=8)\n",
    "    #train_loader = ThreadDataLoader(train_dataset, num_workers=0, batch_size=batch_size, shuffle=True)\n",
    "    \n",
    "    #shiffle = False, sampler = sampler, shuffle=True doesnot work with patch, num_workers=2\n",
    "    train_loader = monai.data.DataLoader(train_dataset, batch_size=batch_size, shuffle=False, collate_fn=list_data_collate) \n",
    "    \n",
    "\n",
    "    \n",
    "    # create a validation data loader\n",
    "    \n",
    "    #val_dataset = monai.data.Dataset(data=val_files, transform=val_transforms)\n",
    "    #val_loader = DataLoader(val_dataset, batch_size=1, shuffle=False, num_workers=2, pin_memory=True)\n",
    "    #val_dataset = CacheDataset(data=val_files, transform=val_transforms, cache_rate = 1.0, num_workers=5)\n",
    "    \n",
    "    val_dataset = monai.data.CacheNTransDataset(data=val_files, transform=val_transforms,\\\n",
    "                                           cache_n_trans = n_val_cache_n_trans, cache_dir = val_cache_dir)\n",
    "    #val_loader = ThreadDataLoader(val_dataset, num_workers=0, batch_size=1)\n",
    "    val_loader = monai.data.DataLoader(val_dataset, batch_size=1, shuffle=False) #num_workers=2, pin_memory=True\n",
    "    \n",
    "    \n",
    "    \n",
    "#     for ibatch in train_loader:\n",
    "#         ibatch_IDH = ibatch['IDH_label']\n",
    "#         print(torch.eq(ibatch_IDH, 0).sum(), torch.eq(ibatch_IDH, 1).sum())\n",
    "#         print('#'*50)\n",
    "    \n",
    "    \n",
    "    \"\"\"\n",
    "    just initialising some basic steps\n",
    "    \"\"\"\n",
    "    \n",
    "    max_epochs = epochs\n",
    "    find_lr=False\n",
    "    \n",
    "    ### Calling the loss function ***CrossEntropyPlusMSELoss**,and optimizer   \n",
    "    #loss_function = nn.CrossEntropyLoss()\n",
    "    #loss_function=nn.BCEWithLogitsLoss()\n",
    "    \n",
    "    #optimizer = torch.optim.Adam(model.parameters(), lr=1e-03, weight_decay=1e-07)\n",
    "    optimizer = torch.optim.AdamW(model.parameters(), lr = 1e-05, weight_decay = 1e-4)\n",
    "    #optimizer = torch.optim.SGD(model.parameters(), lr=1e-03, momentum= 0.99, nesterov=True)\n",
    "    #optimizer = torch.optim.Adam(model.parameters(), 1e-03, weight_decay=1e-04)\n",
    "    scaler = torch.cuda.amp.GradScaler()\n",
    "    \n",
    "    \n",
    "    max_lr_init = 1e-04\n",
    "    \"\"\"\n",
    "     ###################### Block for LR finder from pytorch ignite ########################\n",
    "\n",
    "    \"\"\"\n",
    "\n",
    "    if find_lr:\n",
    "\n",
    "        def prepare_batch(batch, device=None, non_blocking=False):\n",
    "            return _prepare_batch((batch['image'], batch['label'].long()), device, non_blocking)\n",
    "\n",
    "        #trainer = create_supervised_trainer(model, optimizer, loss_function, device, non_blocking=False, prepare_batch=prepare_batch)\n",
    "        def train_step(engine, batch):\n",
    "            model.train()\n",
    "            optimizer.zero_grad()\n",
    "            x, y = batch['image'].to(device), batch['label'].to(device)  #non_blocking=True\n",
    "            with torch.cuda.amp.autocast():\n",
    "                y_pred = model(x)\n",
    "                loss4lr = loss_function(y_pred, y)\n",
    "                \n",
    "            scaler.scale(loss4lr).backward()\n",
    "            scaler.step(optimizer)\n",
    "            scaler.update()\n",
    "            return loss4lr.item()\n",
    "\n",
    "        trainer = Engine(train_step)\n",
    "\n",
    "        ProgressBar(persist=True).attach(trainer, output_transform=lambda x: {\"batch loss\": x})\n",
    "        lr_finder = FastaiLRFinder()\n",
    "        to_save={'model': model, 'optimizer': optimizer}\n",
    "        num_iter = 100  #2*len(train_loader)\n",
    "        run_epochs = int(np.ceil(num_iter/len(train_loader)))\n",
    "        with lr_finder.attach(trainer, to_save, end_lr=1., num_iter=num_iter, diverge_th=1.5) as trainer_with_lr_finder:    ####diverge_th=1.5\n",
    "\n",
    "            trainer_with_lr_finder.run(train_loader, max_epochs=run_epochs)  #max_epochs=run_epochs or 5\n",
    "\n",
    "        ax = lr_finder.plot()\n",
    "        plt.show()\n",
    "        \n",
    "        max_lr = lr_finder.lr_suggestion() if lr_finder.lr_suggestion()<1e-04 else max_lr_init\n",
    "        #max_lr = lr_finder.lr_suggestion() ##max_lr/10 i guess not needed, ignite does itself\n",
    "        print(f'Suggested learning rate by LR finder for this fold: {lr_finder.lr_suggestion()}')\n",
    "        \n",
    "    else:\n",
    "        max_lr = max_lr_init\n",
    "        \n",
    "    #max_lr_slice = 1e01*max_lr if max_lr<5e-03 else 1e-02\n",
    "    #max_lr_slice = 1e-01*max_lr if max_lr<1e-05 else max_lr\n",
    "        \n",
    "    \n",
    "    \"\"\"\n",
    "    ### defining learning rate scheduler\n",
    "    \n",
    "    \"\"\"\n",
    "    #steps_per_epoch=len(train_loader)\n",
    "    #optimizer.param_groups[0]['lr'] = max_lr #*1e-01\n",
    "    #scheduler = torch.optim.lr_scheduler.OneCycleLR(optimizer, max_lr=max_lr_slice, steps_per_epoch=len(train_loader), epochs=max_epochs)\n",
    "    #scheduler = torch.optim.lr_scheduler.LambdaLR(optimizer, lr_lambda=lambda epoch: (1 - epoch / max_epochs) ** 0.9)\n",
    "    \n",
    "    #max_lr = 1e-3   \n",
    "    optimizer = Ranger21(model.parameters(), lr = max_lr, num_epochs = epochs, num_batches_per_epoch = len(train_loader))\n",
    "    \n",
    "\n",
    "\n",
    "    \"\"\"\n",
    "     ###################### Block for native pytorch training loop and  ########################\n",
    "    \"\"\"\n",
    "\n",
    "    key_metric_n_saved = 2   ### Usually I keep it 5\n",
    "    save_last = False \n",
    "    dispformat_specs = '.4f'\n",
    "\n",
    "        \n",
    "#     file_prefix = 'ConvEffNet_Brats21_5CV'\n",
    "#     savedirname = 'ConvEffNet_Brats21'\n",
    "#     save_dir = os.path.join('/raid/brats2021/pthBraTS2021Radiogenomics', savedirname)\n",
    "#     if not os.path.exists(save_dir):\n",
    "#         os.makedirs(save_dir)\n",
    "\n",
    "    logsfile_path = f\"{save_dir}/Logs_{file_prefix}.txt\"\n",
    "\n",
    "\n",
    "    epoch_num = max_epochs #  max_epochs\n",
    "    val_interval = 1\n",
    "    valstep = 0\n",
    "    best_metric = -1\n",
    "    best_metric_epoch = -1\n",
    "    epoch_loss_values = list()\n",
    "    metric_values = list()\n",
    "\n",
    "\n",
    "    numsiters = len(train_files) // train_loader.batch_size\n",
    "\n",
    "    #first_batch = monai.utils.misc.first(train_loader)\n",
    "        \n",
    "    \n",
    "    #post_pred = AsDiscrete(argmax=True, to_onehot=num_classes)  ### num_classes=num_classes\n",
    "    #post_label = AsDiscrete(to_onehot=num_classes) ###num_classes=num_classes\n",
    "    #dice_metric = monai.metrics.DiceMetric(include_background=False, reduction='mean', get_not_nans=False)\n",
    "    \n",
    "    \n",
    "    dice_metric = monai.metrics.DiceMetric(include_background=True, reduction='mean', get_not_nans=False)\n",
    "    dice_metric_batch = monai.metrics.DiceMetric(include_background=True, reduction='mean_batch', get_not_nans=False)\n",
    "    \n",
    "    HD_metric = HausdorffDistanceMetric(include_background=True, percentile = 95., reduction='mean', get_not_nans=False)\n",
    "    HD_metric_batch = HausdorffDistanceMetric(include_background=True, percentile = 95., reduction='mean_batch', get_not_nans=False)\n",
    "    \n",
    "    post_pred = Compose([Activations(sigmoid=True), AsDiscrete(threshold=0.5)])  \n",
    "    \n",
    "    def one_hot_permute(x):\n",
    "        return F.one_hot(x.squeeze(dim=0).long(), num_classes=num_classes).permute(3, 0, 1, 2)\n",
    "    \n",
    "    def get_binarize_tensor(x, dim=1):\n",
    "        x_chlist = torch.unbind(x, dim = dim)\n",
    "        bin_x = torch.zeros_like(x_chlist[0])\n",
    "        for x_i in x_chlist:\n",
    "            bin_x = torch.logical_or(x_i, bin_x)\n",
    "        return bin_x.unsqueeze(dim=dim).to(torch.float32)\n",
    "    \n",
    "    def get_segclass(x, dim = 1):\n",
    "        xdvc = x.device\n",
    "        x_chlist = torch.unbind(x, dim = dim)\n",
    "        xclassNoList = []\n",
    "        xvalueList = []\n",
    "        for x_i in x_chlist:\n",
    "            \n",
    "            xv, xc = torch.unique(x_i, return_counts  = True)\n",
    "\n",
    "            if xc.shape[0]==1:\n",
    "                xclassNoList.append(xc[0].item())\n",
    "                xvalueList.append(xv[0].item())\n",
    "            elif xc.shape[0]==2:\n",
    "                    if torch.any(torch.eq(xv, 1)):\n",
    "                        xclassNoList.append(xc[1].item())\n",
    "                        xvalueList.append(xv[1].item())\n",
    "                    else:\n",
    "                        print('The function only supports binarized tensor (binarized unique values, 0(n=...) and 1(n=...) only)\\n')\n",
    "            else:\n",
    "                print('The function only supports binarized tensor (binarized unique values, 0(n=...) and 1(n=...) only)\\n')\n",
    "        \n",
    "        if torch.any(torch.eq(torch.tensor(xvalueList), 1)):  \n",
    "            xclass = torch.argmax(torch.tensor(xclassNoList).to(xdvc))\n",
    "        else:\n",
    "            '''If all uniques class values are 0, we are assigning nan values as a class'''\n",
    "            xclass = torch.tensor(float('NaN')).to(xdvc)\n",
    "            \n",
    "        return xclass \n",
    "            \n",
    "#             xv, xc = torch.unique(x_i, return_counts  = True)\n",
    "            \n",
    "#             if torch.any(torch.eq(xv, 1)):\n",
    "#                 xclassNoList.append(xc[1].item())\n",
    "#             else:\n",
    "#                 xclassNoList.append(0)        \n",
    "#         xclass = torch.argmax(torch.tensor(xclassNoList).to(xdvc))          \n",
    "       \n",
    "                \n",
    "    \n",
    "    for epoch in range(epoch_num):\n",
    "        print(\"-\" * 10)\n",
    "        print(f\"epoch {epoch + 1}/{epoch_num}\")\n",
    "        model.train()\n",
    "        epoch_loss = 0.\n",
    "        stepiter = 0\n",
    "        for batch_data in train_loader:\n",
    "            \n",
    "            stepiter += 1\n",
    "            inputs, labels, IDH_labels= (\n",
    "                batch_data['image'].to(device),\n",
    "                batch_data['label'].to(device),\n",
    "                batch_data['IDH_label'].to(device),\n",
    "            )\n",
    "            \n",
    "          \n",
    "            optimizer.zero_grad()\n",
    "            \n",
    "            with torch.cuda.amp.autocast():\n",
    "\n",
    "                # compute output\n",
    "                outputs  = model(inputs)\n",
    "                loss = loss_function(outputs, labels) \n",
    "\n",
    "            \n",
    "            scaler.scale(loss).backward()\n",
    "            scaler.step(optimizer)\n",
    "            scaler.update()\n",
    "\n",
    "            epoch_loss += loss.item()\n",
    "\n",
    "            print(f\"{stepiter}/{numsiters}, train_loss: {loss.item():.4f}\")\n",
    "\n",
    "            #scheduler.step() \n",
    "            \n",
    "        epoch_loss /= stepiter\n",
    "        epoch_loss_values.append(epoch_loss)\n",
    "        print(f\"epoch {epoch + 1} average loss: {epoch_loss:.4f}\")\n",
    "        \n",
    "        \n",
    "        if (epoch + 1) % val_interval == 0:\n",
    "            model.eval()\n",
    "            with torch.no_grad():\n",
    "\n",
    "                y_pred = torch.tensor([], dtype=torch.float32, device=device)\n",
    "                y = torch.tensor([], dtype=torch.long, device=device)\n",
    "                val_losses = torch.tensor([], dtype=torch.float32, device=device)\n",
    "\n",
    "\n",
    "                for val_data in val_loader:\n",
    "\n",
    "                    val_inputs, val_labels, val_IDH_labels = (\n",
    "                        val_data['image'].to(device),\n",
    "                        val_data['label'].to(device),\n",
    "                        val_data['IDH_label'].to(device),\n",
    "                    )\n",
    "                \n",
    "                    roi_size = patch_size #(32, 32, 32)\n",
    "                    sw_batch_size = 8\n",
    "                    val_overlap = 0.5\n",
    "                    mode=\"gaussian\"\n",
    "                            \n",
    "                    \n",
    "                    with torch.cuda.amp.autocast():\n",
    "                        \n",
    "                        val_outputs = sliding_window_inference(val_inputs, roi_size, sw_batch_size, model, mode = mode, overlap = val_overlap, sw_device = device, device = device) \n",
    "                        #val_outputs = model(val_inputs)\n",
    "                        val_ce_loss = loss_function(val_outputs.unsqueeze(dim=1), val_labels)\n",
    "\n",
    "                    val_losses = torch.cat([val_losses, val_ce_loss.view(1)], dim = 0)\n",
    "                    val_outputs = torch.stack([post_pred(i) for i in torch.unbind(val_outputs, dim = 0)], dim = 0)\n",
    "                    \n",
    "                    \n",
    "                    #val_labels2hot = torch.stack([one_hot_permute(i) for i in torch.unbind(val_labels, dim = 0)], dim = 0)\n",
    "\n",
    "                    \n",
    "                    val_labels_bin = get_binarize_tensor(val_labels, dim=1)\n",
    "                    val_outputs_bin = get_binarize_tensor(val_outputs, dim=1)\n",
    "                    \n",
    "                    dice_metric(y_pred=val_outputs_bin, y=val_labels_bin)\n",
    "                                        \n",
    "                    klcc = KeepLargestConnectedComponent(applied_labels = [0, 1], is_onehot = True)  ##is_onehot=True or None by default\n",
    "                    #val_labels = klcc(val_labels.squeeze(dim=0)).unsqueeze(dim=0)\n",
    "                    val_labels = torch.stack([klcc(i) for i in torch.unbind(val_labels, dim = 0)], dim = 0)\n",
    "                    \n",
    "                    val_label4mSeg_C = get_segclass(val_outputs)\n",
    "                    #val_surv_labels = val_surv_labels.squeeze(dim=1)  ###Squeezing from B, 1 to B if needed\n",
    "                    y_pred = torch.cat([y_pred, val_label4mSeg_C.view(1)], dim=0)\n",
    "                    y = torch.cat([y, val_IDH_labels], dim=0)\n",
    "\n",
    "                mdice_value = dice_metric.aggregate()\n",
    "                dice_metric.reset()\n",
    "                \n",
    "                y_pred, y = y_pred.cpu(), y.cpu()\n",
    "                \n",
    "                if torch.all(torch.isnan(y_pred))==True:\n",
    "                    \n",
    "                    auc_result, accscore, f1score = np.nan, np.nan, np.nan\n",
    "                    #print('acc_metric#', np.nan, ', auc#', np.nan, ', f1#', np.nan, '\\n')\n",
    "                \n",
    "                else:\n",
    "\n",
    "                    num_nanvalues = torch.isnan(y_pred).sum().item()\n",
    "                    not_nanmask = torch.logical_not(torch.isnan(y_pred))\n",
    "                    y = y[not_nanmask]\n",
    "                    y_pred = y_pred[not_nanmask]\n",
    "                    \n",
    "                    \n",
    "                    acc_value = torch.eq(y_pred, y)\n",
    "                    acc_metric = acc_value.sum().item() / len(acc_value)\n",
    "\n",
    "                    '''auc metric'''\n",
    "                    auc_metric(y_pred, y)\n",
    "                    auc_result = auc_metric.aggregate()\n",
    "                    auc_metric.reset()\n",
    "                    \n",
    "                    '''balanced accuracy and f1 score'''\n",
    "                    accscore = balanced_accuracy_score(y, y_pred)\n",
    "                    f1score = f1_score(y, y_pred, average='micro')\n",
    "                    #print('acc_metric#', acc_metric, ', auc#', auc_result, ', f1#', f1score, '\\n')\n",
    "\n",
    "                del y, y_pred\n",
    "            \n",
    "            \n",
    "                epoch_val_losses=torch.mean(val_losses).detach().cpu().item()\n",
    "                #metric = auc_result\n",
    "                mdice_value = mdice_value.item()\n",
    "                #metric = mdice_value\n",
    "                metric = (mdice_value+auc_result)/2\n",
    "                metric= -1.0 if np.isnan(metric) else metric\n",
    "                metric_values.append(metric) ######List of over number of epochs\n",
    "                printstring = \"Best AUC\"\n",
    "                \n",
    "\n",
    "                with open(logsfile_path, 'a') as file:\n",
    "                    file.write(\n",
    "                        f\"current fold: {cfold} current epoch: {epoch + 1} dice_score: {mdice_value:^{dispformat_specs}} acc_metric: {auc_result:^{dispformat_specs}}\" \n",
    "                        f\" accuracy: {accscore:^{dispformat_specs}}, f1score: {f1score:^{dispformat_specs}}\"\n",
    "                        f\" epoch {epoch + 1} average training loss: {epoch_loss:^{dispformat_specs}} average validation loss: {epoch_val_losses:^{dispformat_specs}} \\n\"\n",
    "\n",
    "                    )\n",
    "\n",
    "                if valstep < key_metric_n_saved:\n",
    "                    torch.save(model.state_dict(), os.path.join(save_dir, f\"{file_prefix}_Fold{cfold}_{metric:^{dispformat_specs}}_epoch{epoch + 1}.pth\"))\n",
    "                    print(\n",
    "                        f\"current fold: {cfold} current epoch: {epoch + 1} dice_score: {mdice_value:^{dispformat_specs}} acc_metric: {auc_result:^{dispformat_specs}}\" \n",
    "                        f\" accuracy: {accscore:^{dispformat_specs}}, f1score: {f1score:^{dispformat_specs}}\"\n",
    "                        f\" epoch {epoch + 1} average training loss: {epoch_loss:^{dispformat_specs}} average validation loss: {epoch_val_losses:^{dispformat_specs}}\"\n",
    "                        \n",
    "                    )\n",
    "\n",
    "                else:\n",
    "\n",
    "                    #sortmetric_values = sorted(metric_values[:-1], reverse=True)  ###Higher loss needs to be deleted, so sorting is reversed\n",
    "                    sortmetric_values = sorted(metric_values[:-1], reverse=False)  \n",
    "\n",
    "                    if metric>=sortmetric_values[-key_metric_n_saved]:\n",
    "                        savegood_metric = metric\n",
    "                        good_metric_epoch = epoch + 1\n",
    "\n",
    "                        #if os.path.exists(f\"{save_dir}/{file_prefix}_{sortmetric_values[-key_metric_n_saved]:.4f}.pth\"):\n",
    "                        #    os.remove(f\"{save_dir}/{file_prefix}_{sortmetric_values[-key_metric_n_saved]:.4f}.pth\")\n",
    "                        #else:\n",
    "                        #    print(\"The file does not exist\")\n",
    "\n",
    "                        glblist = glob.glob(f\"{save_dir}/{file_prefix}_Fold{cfold}_{sortmetric_values[-key_metric_n_saved]:^{dispformat_specs}}_*\")\n",
    "\n",
    "                        if not glblist:\n",
    "                            print(\"The file does not exist\")\n",
    "                        else:\n",
    "                            os.remove(glblist[0])\n",
    "\n",
    "\n",
    "                        torch.save(model.state_dict(), os.path.join(save_dir, f\"{file_prefix}_Fold{cfold}_{metric:^{dispformat_specs}}_epoch{epoch + 1}.pth\"))\n",
    "                        print(\"saved new best metric model\")\n",
    "                        print(\n",
    "                            f\"current fold: {cfold} current epoch: {epoch + 1} validation loss: {epoch_val_losses:^{dispformat_specs}}\"\n",
    "                            f\" dice_score: {mdice_value:^{dispformat_specs}} acc_metric: {auc_result:^{dispformat_specs}}\"\n",
    "                            f\" accuracy: {accscore:^{dispformat_specs}}, f1score: {f1score:^{dispformat_specs}}\"\n",
    "                            f\"\\n saved {printstring}: {savegood_metric:^{dispformat_specs}} at epoch: {good_metric_epoch}\"\n",
    "                        )\n",
    "\n",
    "                    else:\n",
    "\n",
    "                        f\"current fold: {cfold} current epoch: {epoch + 1} validation loss: {epoch_val_losses:^{dispformat_specs}}\"\n",
    "                        f\" dice_score: {mdice_value:^{dispformat_specs}} acc_metric: {auc_result:^{dispformat_specs}}\"\n",
    "                        f\" accuracy: {accscore:^{dispformat_specs}}, f1score: {f1score:^{dispformat_specs}}\"\n",
    "\n",
    "                        #pass\n",
    "\n",
    "                valstep += 1\n",
    "        ####Saving last epoch\n",
    "        if epoch==epoch_num-1:\n",
    "            if save_last:\n",
    "                torch.save(model.state_dict(), os.path.join(save_dir, f\"{file_prefix}_Fold{cfold}_{metric:^{dispformat_specs}}_last_epoch{epoch + 1}.pth\"))\n",
    "            #break\n",
    "            \n",
    "    # Free up GPU memory after training\n",
    "    model = None\n",
    "    train_loader, val_loader = None, None\n",
    "    gc.collect()\n",
    "    torch.cuda.empty_cache()"
   ]
  },
  {
   "cell_type": "markdown",
   "id": "eb7b93c4",
   "metadata": {},
   "source": [
    "### Loop to execute n_splits=3 fold cross validation\n",
    "if the model is trained and the checkpoints are saved already, just setting the start_training flag as false, to run remaining part of the programs of this notebook"
   ]
  },
  {
   "cell_type": "code",
   "execution_count": 38,
   "id": "b17c77ed",
   "metadata": {},
   "outputs": [],
   "source": [
    "start_training = True\n"
   ]
  },
  {
   "cell_type": "code",
   "execution_count": 40,
   "id": "8e816f06",
   "metadata": {
    "scrolled": true
   },
   "outputs": [],
   "source": [
    "n_splits = 3\n",
    "if start_training:\n",
    "    #### Running 10 folds\n",
    "    for i in range(0, n_splits):\n",
    "        \n",
    "        #train_files_fld, train_files_fld_IDH_label, val_files_fld, val_files_fld_IDH_label  = copy.deepcopy(train_folds[f'fold{i}']), copy.deepcopy(train_folds[f'fold{i}_IDH_label']),\\\n",
    "        #copy.deepcopy(val_folds[f'fold{i}']), copy.deepcopy(val_folds[f'fold{i}_IDH_label'])\n",
    "        \n",
    "        \n",
    "              \n",
    "        train_files_fld, val_files_fld  = copy.deepcopy(BraTS20SubjectsIDHTrainDCT[f'fold{i}']), copy.deepcopy(BraTS20SubjectsIDHValDCT[f'fold{i}'])\n",
    "        train_files_fld_IDH_label, val_files_fld_IDH_label = None, None\n",
    "        batch_size=8\n",
    "        ### Need to change batch size if minimux training batch size == 1\n",
    "        print('fold', i, \"Bacth Investigation, minimum batch size\", len(train_files_fld)%batch_size)        \n",
    "        #train(train_files_fld, train_files_fld_IDH_label, val_files_fld, val_files_fld_IDH_label, batch_size=batch_size, epochs = 200, cfold = i)\n",
    "        #train(train_files_fld, train_files_fld_IDH_label, val_files_fld, val_files_fld_IDH_label, batch_size=batch_size, epochs = 500, cfold = i)\n",
    "        train(train_files_fld, train_files_fld_IDH_label, val_files_fld, val_files_fld_IDH_label, batch_size=batch_size, epochs = 500, cfold = i)\n",
    "        \n",
    "        \n",
    "    \n",
    "    start_training = False\n",
    "else:\n",
    "    \n",
    "    pass"
   ]
  },
  {
   "cell_type": "code",
   "execution_count": null,
   "id": "ad06cd28",
   "metadata": {},
   "outputs": [],
   "source": []
  },
  {
   "cell_type": "markdown",
   "id": "eda6810c",
   "metadata": {},
   "source": [
    "### Performing inference on dataset"
   ]
  },
  {
   "cell_type": "code",
   "execution_count": 38,
   "id": "6865c119",
   "metadata": {},
   "outputs": [],
   "source": [
    "def inferSubjectsWithTA(data_loader,listmodels, prediction_folder=\"./\", topk=1, num_channels = 4,\\\n",
    "                orientation=\"LPS\", withoptimizer = False, softmaxEnsemble=False, save_inference = False):\n",
    "    \"\"\"\n",
    "    run inference, the output folder will be \"./output\"\n",
    "    \"\"\"        \n",
    "    #device = torch.device(\"cuda:0\" if torch.cuda.is_available() else \"cpu\")\n",
    "\n",
    "    listmodels = listmodels[0:topk]\n",
    "    for x in listmodels:\n",
    "        print(f\"available model file: {x}.\")\n",
    "        \n",
    "    channel_nums =  monai.utils.misc.first(data_loader)['image'].shape[1] ##next(iter(val_loader[\"image\"])).shape[1]\n",
    "    channelNums = f\"{channel_nums} channels\"\n",
    "    keys = ('image',)\n",
    "    patch_size = (32, 32, 32)\n",
    "    \n",
    "    post_trans_sigbin = Compose([Activations(sigmoid=True), AsDiscrete(threshold=0.5)])\n",
    "    post_trans_bin = Compose([AsDiscrete(threshold=0.5)])\n",
    "    post_trans_sig = Compose([Activations(sigmoid=True)])\n",
    "    \n",
    "    auc_metric = ROCAUCMetric()\n",
    "    dice_metric = monai.metrics.DiceMetric(include_background=True, reduction='mean', get_not_nans=False)\n",
    "    dice_metric_batch = monai.metrics.DiceMetric(include_background=True, reduction='mean_batch', get_not_nans=False)\n",
    "    \n",
    "    HD_metric = HausdorffDistanceMetric(include_background=True, percentile = 95., reduction='mean', get_not_nans=False)\n",
    "    HD_metric_batch = HausdorffDistanceMetric(include_background=True, percentile = 95., reduction='mean_batch', get_not_nans=False)\n",
    "    \n",
    "    post_pred = Compose([Activations(sigmoid=True), AsDiscrete(threshold=0.5)])  \n",
    "    \n",
    "    def one_hot_permute(x):\n",
    "        return F.one_hot(x.squeeze(dim=0).long(), num_classes=num_classes).permute(3, 0, 1, 2)\n",
    "    \n",
    "    def get_binarize_tensor(x, dim=1):\n",
    "        x_chlist = torch.unbind(x, dim = dim)\n",
    "        bin_x = torch.zeros_like(x_chlist[0])\n",
    "        for x_i in x_chlist:\n",
    "            bin_x = torch.logical_or(x_i, bin_x)\n",
    "        return bin_x.unsqueeze(dim=dim).to(torch.float32)\n",
    "        \n",
    "    \n",
    "    def get_segclass(x, dim = 1):\n",
    "        xdvc = x.device\n",
    "        x_chlist = torch.unbind(x, dim = dim)\n",
    "        xclassNoList = []\n",
    "        xvalueList = []\n",
    "        for x_i in x_chlist:\n",
    "            \n",
    "            xv, xc = torch.unique(x_i, return_counts  = True)\n",
    "\n",
    "            if xc.shape[0]==1:\n",
    "                xclassNoList.append(xc[0].item())\n",
    "                xvalueList.append(xv[0].item())\n",
    "            elif xc.shape[0]==2:\n",
    "                    if torch.any(torch.eq(xv, 1)):\n",
    "                        xclassNoList.append(xc[1].item())\n",
    "                        xvalueList.append(xv[1].item())\n",
    "                    else:\n",
    "                        print('The function only supports binarized tensor (binarized unique values, 0(n=...) and 1(n=...) only)\\n')\n",
    "            else:\n",
    "                print('The function only supports binarized tensor (binarized unique values, 0(n=...) and 1(n=...) only)\\n')\n",
    "        \n",
    "        if torch.any(torch.eq(torch.tensor(xvalueList), 1)):  \n",
    "            xclass = torch.argmax(torch.tensor(xclassNoList).to(xdvc))\n",
    "        else:\n",
    "            '''If all uniques class values are 0, we are assigning nan values as a class'''\n",
    "            xclass = torch.tensor(float('NaN')).to(xdvc)\n",
    "            \n",
    "        return xclass \n",
    "    \n",
    "    \n",
    "    \n",
    "    keys = (\"image\",)\n",
    "        \n",
    "    with torch.no_grad():\n",
    "        \n",
    "        y_pred = torch.tensor([], dtype=torch.float32, device=device)\n",
    "        y = torch.tensor([], dtype=torch.long, device=device)\n",
    "        Infer_idLst = list()\n",
    "    \n",
    "        for infindx, infer_data in enumerate(tqdm(data_loader)):\n",
    "\n",
    "            \n",
    "            val_inputs, val_labels, val_IDH_labels = (\n",
    "                infer_data['image'].to(device),\n",
    "                infer_data['label'].to(device),\n",
    "                infer_data['IDH_label'].to(device),\n",
    "            )\n",
    "                \n",
    "\n",
    "            n_class = 2\n",
    "            val_outputsAll = torch.zeros(val_inputs.shape[0], n_class, val_inputs.shape[2], val_inputs.shape[3], val_inputs.shape[4]).to(device)\n",
    "            n_model = 0.\n",
    "            \n",
    "            #for mdlindx in (number+1 for number in range(topk)):\n",
    "            for mdlindx in range(topk):\n",
    "    \n",
    "                print(f'Model {mdlindx}, {listmodels[mdlindx]} is running now')\n",
    "                model = None          \n",
    "                model = DynUNet(\n",
    "                    spatial_dims=3,\n",
    "                    in_channels=4,\n",
    "                    out_channels=n_class,\n",
    "                    kernel_size=kernels,\n",
    "                    strides=strides,\n",
    "                    upsample_kernel_size=strides[1:],\n",
    "                    norm_name=\"batch\",\n",
    "                    filters = filters,\n",
    "                    deep_supervision=True,\n",
    "                    res_block=True,\n",
    "                    deep_supr_num=2,\n",
    "                ).to(device)\n",
    "                \n",
    "                \n",
    "                \n",
    "                \n",
    "                if withoptimizer ==True:\n",
    "                    \n",
    "                    state_dictsAll = torch.load(listmodels[mdlindx], map_location=device)\n",
    "                    model.load_state_dict(state_dictsAll[\"model_state_dict\"])\n",
    "                    model.eval()\n",
    "                \n",
    "                else:    \n",
    "                    model.load_state_dict(torch.load(listmodels[mdlindx], map_location=device))\n",
    "                    model.eval()\n",
    "                \n",
    "                \n",
    "                n = 1.0\n",
    "                roi_size = patch_size #(32, 32, 32)\n",
    "                sw_batch_size = 8\n",
    "                val_overlap = 0.5\n",
    "                mode=\"gaussian\"\n",
    "                \n",
    "                with torch.cuda.amp.autocast():\n",
    "\n",
    "                    preds = sliding_window_inference(val_inputs, roi_size, sw_batch_size, model, mode = mode, overlap = val_overlap, sw_device = device, device = device)\n",
    "                    \n",
    "                flip_val_inputs = torch.flip(val_inputs, dims=(2, 3, 4))\n",
    "                \n",
    "                with torch.cuda.amp.autocast():\n",
    "                    \n",
    "                    mfpred = sliding_window_inference(flip_val_inputs, roi_size, sw_batch_size, model, mode = mode, overlap = val_overlap, sw_device = device, device = device)\n",
    "                 \n",
    "                flip_pred = torch.flip(mfpred, dims=(2, 3, 4))\n",
    "                preds  = preds + flip_pred\n",
    "                n = n + 1.0\n",
    "                    \n",
    "                \n",
    "                for _ in range(4):\n",
    "                    # test time augmentations\n",
    "                    _img = RandGaussianNoised(keys[0], prob=1.0, std=0.01)(infer_data)[keys[0]]\n",
    "\n",
    "\n",
    "                    with torch.cuda.amp.autocast():\n",
    "\n",
    "                        #val_outputs = sliding_window_inference(val_inputs, roi_size, sw_batch_size, model, sw_device = device, device = device)\n",
    "                        _img_pred = sliding_window_inference(_img.to(device), roi_size, sw_batch_size, model, mode = mode, overlap = val_overlap, sw_device = device, device = device)\n",
    "                        preds = preds + _img_pred\n",
    "                        n = n + 1.0\n",
    "\n",
    "                    \n",
    "                    _img_flip = torch.flip(_img, dims=(2, 3, 4)) \n",
    "                    with torch.cuda.amp.autocast():\n",
    "                        _mf_flip_pred = sliding_window_inference(_img_flip.to(device), roi_size, sw_batch_size, model, mode = mode, overlap = val_overlap, sw_device = device, device = device)\n",
    "                    \n",
    "                    _img_flip_pred = torch.flip(_mf_flip_pred, dims=(2, 3, 4))\n",
    "                    preds = preds + _img_flip_pred\n",
    "                    n = n + 1.0\n",
    "                 \n",
    "                \n",
    "                preds = preds / n\n",
    "                \n",
    "                if softmaxEnsemble:\n",
    "                    preds = torch.stack([post_trans_sig(i) for i in torch.unbind(preds, dim = 0)], dim = 0)\n",
    "                val_outputsAll = val_outputsAll + preds\n",
    "                n_model = n_model+1.0\n",
    "                \n",
    "                # Free up GPU memory after training\n",
    "                model = None\n",
    "                del model\n",
    "                #train_loader, val_loader = None, None        \n",
    "                gc.collect()\n",
    "                torch.cuda.empty_cache()\n",
    "                           \n",
    "            val_outputsAll = val_outputsAll / n_model\n",
    "            \n",
    "            val_outputs = post_trans_bin(val_outputsAll) if softmaxEnsemble else post_trans_sigbin(val_outputsAll)\n",
    "            '''Sigmoid or logit'''\n",
    "            val_outputsSig = val_outputsAll if softmaxEnsemble else post_trans_sig(val_outputsAll)\n",
    "            #val_outputsSig = val_outputsAll\n",
    "            \n",
    "            \n",
    "\n",
    "            #val_labels2hot = torch.stack([one_hot_permute(i) for i in torch.unbind(val_labels, dim = 0)], dim = 0)\n",
    "\n",
    "\n",
    "            val_labels_bin = get_binarize_tensor(val_labels, dim=1)\n",
    "            val_outputs_bin = get_binarize_tensor(val_outputs, dim=1)\n",
    "\n",
    "            dice_metric(y_pred=val_outputs_bin, y=val_labels_bin)\n",
    "            HD_metric(y_pred=val_outputs_bin, y=val_labels_bin)\n",
    "\n",
    "            klcc = KeepLargestConnectedComponent(applied_labels = [0, 1], is_onehot = True)  ##is_onehot=True or None by default\n",
    "            #val_labels = klcc(val_labels.squeeze(dim=0)).unsqueeze(dim=0)\n",
    "            val_labels = torch.stack([klcc(i) for i in torch.unbind(val_labels, dim = 0)], dim = 0)\n",
    "\n",
    "            val_label4mSeg_C = get_segclass(val_outputs)\n",
    "            #val_surv_labels = val_surv_labels.squeeze(dim=1)  ###Squeezing from B, 1 to B if needed\n",
    "            y_pred = torch.cat([y_pred, val_label4mSeg_C.view(1)], dim=0)\n",
    "            y = torch.cat([y, val_IDH_labels], dim=0)\n",
    "                \n",
    "            \n",
    "            if save_inference:  \n",
    "            \n",
    "                val_outputs4save = val_outputs.squeeze(dim = 0)\n",
    "                '''Sigmoid or logit'''\n",
    "                val_outputsSig4Save = val_outputsSig.squeeze(dim = 0)\n",
    "\n",
    "\n",
    "                ##### For padding going back to original position\n",
    "\n",
    "                val_outputsPadded = np.zeros(shape = (val_outputs4save.shape[0], 240, 240, 155))\n",
    "                '''Sigmoid or logit'''\n",
    "                val_outputsSigPadded = np.zeros(shape = (val_outputsSig4Save.shape[0], 240, 240, 155))\n",
    "\n",
    "\n",
    "                infr_start_cord = infer_data[\"fg_start_coord\"][0]\n",
    "                infr_end_cord = infer_data[\"fg_end_coord\"][0]\n",
    "                start_coord = infr_start_cord[0].item(), infr_start_cord[1].item(), infr_start_cord[2].item() \n",
    "                end_coord = infr_end_cord[0].item(), infr_end_cord[1].item(), infr_end_cord[2].item()\n",
    "\n",
    "                if orientation ==\"LPS\":\n",
    "\n",
    "                    val_outputs_now_affine = infer_data['image_meta_dict']['affine'][0]\n",
    "                    val_outputsLPSData = val_outputs4save.cpu().numpy()\n",
    "                    '''Sigmoid or logit'''\n",
    "                    val_outputsSigLPSData = val_outputsSig4Save.cpu().numpy()\n",
    "\n",
    "\n",
    "                else:\n",
    "                    print(\"Stopp the execution\")\n",
    "\n",
    "\n",
    "                xs, xe = 0,val_outputsLPSData.shape[1]\n",
    "                ys, ye = 0,val_outputsLPSData.shape[2]\n",
    "                zs, ze = 0,val_outputsLPSData.shape[3]\n",
    "\n",
    "                if((end_coord[0]-start_coord[0])<roi_size[0]):\n",
    "                    padlen = roi_size[0]-(end_coord[0]-start_coord[0])\n",
    "                    xs = padlen//2\n",
    "                    xe = roi_size[0] -(padlen - xs)\n",
    "                if((end_coord[1]-start_coord[1])<roi_size[1]):\n",
    "                    padlen = roi_size[1]-(end_coord[1]-start_coord[1])\n",
    "                    ys = padlen//2\n",
    "                    ye = roi_size[1] -(padlen - ys)\n",
    "                if((end_coord[2]-start_coord[2])<roi_size[2]):\n",
    "                    padlen = roi_size[2]-(end_coord[2]-start_coord[2])\n",
    "                    zs = padlen//2\n",
    "                    ze = roi_size[2] - (padlen - zs)\n",
    "\n",
    "                val_outputsPadded[:, start_coord[0]:end_coord[0], start_coord[1]:end_coord[1], start_coord[2]:end_coord[2]] = \\\n",
    "                val_outputsLPSData[:, xs:xe, ys:ye, zs:ze]\n",
    "\n",
    "                '''Sigmoid or logit'''\n",
    "                val_outputsSigPadded[:, start_coord[0]:end_coord[0], start_coord[1]:end_coord[1], start_coord[2]:end_coord[2]] = \\\n",
    "                val_outputsSigLPSData[:, xs:xe, ys:ye, zs:ze]\n",
    "\n",
    "\n",
    "                ''' If both classes (IDH and nonIDH) overlaps, assigning to the region to non-IDH'''\n",
    "\n",
    "                WT_noidh = torch.from_numpy(val_outputsPadded[0:1,:, :, :]).long()\n",
    "                WT_idh = torch.from_numpy(val_outputsPadded[1:2,:, :, :]).long()\n",
    "\n",
    "                WT=torch.logical_or(WT_noidh, WT_idh).long()\n",
    "\n",
    "                WT_noidhMask = torch.eq(WT_noidh,1)\n",
    "                WTidhOnly = WT.masked_fill(WT_noidhMask, 0)\n",
    "                WTidhOnly2=torch.where(WTidhOnly==1, 2, Edema)\n",
    "\n",
    "                mergedWT=WTidhOnly2 + WT_noidh\n",
    "\n",
    "\n",
    "                print('#'*20)\n",
    "                bi = 0\n",
    "                input_file_path = infer_data['image_meta_dict']['filename_or_obj'][bi]\n",
    "                subID=os.path.basename(os.path.dirname(input_file_path))\n",
    "                print('Subject ID: ', subID)\n",
    "\n",
    "\n",
    "\n",
    "                val_outputsPadded_3class=WTidhOnly2 + WT_noidh #(0=background, 1=no IDH, 2= IDH)\n",
    "                val_outputsPadded_3class = torch.where(val_outputsPadded_3class==3, 1, val_outputsPadded_3class).numpy().astype(np.uint8)\n",
    "\n",
    "                val_outputsPadded_3class = np.moveaxis(val_outputsPadded_3class, 0, -1).astype(np.float32)\n",
    "                val_outputsSigPadded = np.moveaxis(val_outputsSigPadded, 0, -1).astype(np.float32)\n",
    "\n",
    "                #input_file_path = infer_data['image_meta_dict']['filename_or_obj'][bi]\n",
    "                #subID=os.path.basename(os.path.dirname(input_file_path))\n",
    "\n",
    "                if channel_nums==4:\n",
    "                    new_file_name_sig = subID + \"_sigmoid.nii.gz\"\n",
    "                    new_file_name = subID + \".nii.gz\"\n",
    "                elif channel_nums==2:\n",
    "                    new_file_name_sig = subID + \"_sigmoid.nii.gz\"\n",
    "                    new_file_name = subID + \".nii.gz\"\n",
    "                else:\n",
    "                    print(\"The program is not saving\")\n",
    "\n",
    "\n",
    "                if not os.path.exists(prediction_folder):\n",
    "                    os.makedirs(prediction_folder)\n",
    "\n",
    "                prediction_folder_sub = os.path.join(prediction_folder, subID)\n",
    "                if not os.path.exists(prediction_folder_sub):\n",
    "                    os.makedirs(prediction_folder_sub)\n",
    "\n",
    "\n",
    "                exact_file_path = os.path.join(prediction_folder_sub, new_file_name)\n",
    "                exact_file_sig_path = os.path.join(prediction_folder_sub, new_file_name_sig)\n",
    "\n",
    "                affine = infer_data['image_meta_dict']['affine'][bi]\n",
    "                target_affine = infer_data['image_meta_dict']['original_affine'][bi]\n",
    "                #affine=val_outputs_now_affine\n",
    "                #target_affine=val_outputs_now_affine\n",
    "\n",
    "                resample=False\n",
    "                mode = 'nearest'\n",
    "                monai.data.write_nifti(data=val_outputsPadded_3class, file_name=exact_file_path, affine=affine, target_affine=target_affine, resample=resample)\n",
    "                monai.data.write_nifti(data=val_outputsSigPadded, file_name=exact_file_sig_path, affine=affine, target_affine=target_affine, resample=resample)\n",
    "\n",
    "                \n",
    "    \n",
    "                ## Free up GPU memory after training\n",
    "                #model = None\n",
    "                #del model\n",
    "                ##train_loader, val_loader = None, None        \n",
    "                #gc.collect()\n",
    "                #torch.cuda.empty_cache()\n",
    "                \n",
    "            \n",
    "            \n",
    "         \n",
    "            WTdices.append(dice_metric.aggregate().item())\n",
    "            dice_metric.reset()\n",
    "            \n",
    "            WTHD95s.append(HD_metric.aggregate().item())\n",
    "            HD_metric.reset()\n",
    "\n",
    "            input_file_path = infer_data['image_meta_dict']['filename_or_obj'][bi]\n",
    "            subID=os.path.basename(os.path.dirname(input_file_path))\n",
    "            print('Subject ID: ', subID)\n",
    "            Infer_idLst.append(subID)\n",
    "\n",
    "        y_pred, y = y_pred.cpu(), y.cpu()\n",
    "        \n",
    "        \n",
    "        \n",
    "        aDF = pd.DataFrame.from_dict({\"SubjectID\": Infer_idLst,  \"Model\": [\"DynUnet\"]* len(WTdices), \"Channels\":[channelNums]*len(WTdices), \"Tumor regions\": [\"WT\"]*len(WTdices), \"Dice score\": WTdices, \"HD95\": WTHD95s,\\\n",
    "                                     'ylabel':y.tolist(), 'ypred': y_pred.tolist()})\n",
    "        del y, y_pred\n",
    "        \n",
    "                    \n",
    "#     dfET = pd.DataFrame({\"BraTS21ID\":Infer_idLst, \"Model\": [\"DynUnet\"]* len(ETdices), \"Channels\":[channelNums]*len(ETdices), \"Tumor regions\": [\"ET\"]*len(ETdices), \"Dice score\": ETdices, \"HD95\": ETHD95s})\n",
    "#     dfTC = pd.DataFrame({\"BraTS21ID\":Infer_idLst, \"Model\": [\"DynUnet\"]* len(TCdices), \"Channels\":[channelNums]*len(TCdices), \"Tumor regions\": [\"TC\"]*len(TCdices), \"Dice score\": TCdices, \"HD95\": TCHD95s})\n",
    "#     dfWT = pd.DataFrame({\"BraTS21ID\":Infer_idLst,\"Model\": [\"DynUnet\"]* len(WTdices), \"Channels\":[channelNums]*len(WTdices), \"Tumor regions\": [\"WT\"]*len(WTdices), \"Dice score\": WTdices, \"HD95\": WTHD95s})\n",
    "#     dfWT_TC_ET = pd.DataFrame({\"BraTS21ID\":Infer_idLst,\"Model\": [\"DynUnet\"]* len(WTdices), \"Channels\":[channelNums]*len(WTdices), \"Tumor regions\": [\"WT_TC_ET_Regions\"]*len(WTdices), \"Dice score\": Alldices, \"HD95\": AllHD95s})\n",
    "    \n",
    "#     dfRegions = pd.concat([dfTC, dfWT, dfET, dfWT_TC_ET])\n",
    "#     return dfRegions\n",
    "\n",
    "\n",
    "    return aDF\n",
    "\n",
    "    \n",
    "            "
   ]
  },
  {
   "cell_type": "code",
   "execution_count": null,
   "id": "1daada7b",
   "metadata": {},
   "outputs": [],
   "source": []
  },
  {
   "cell_type": "code",
   "execution_count": 39,
   "id": "2802c014",
   "metadata": {},
   "outputs": [],
   "source": [
    "def inferWithTA(data_loader,listmodels, prediction_folder=\"./\", topk=1, num_channels = 4,\\\n",
    "                orientation=\"LPS\", withoptimizer = False, softmaxEnsemble=False, save_inference = False, tta = False):\n",
    "    \"\"\"\n",
    "    run inference, the output folder will be \"./output\"\n",
    "    \"\"\"        \n",
    "    #device = torch.device(\"cuda:0\" if torch.cuda.is_available() else \"cpu\")\n",
    "\n",
    "    listmodels = listmodels[0:topk]\n",
    "    for x in listmodels:\n",
    "        print(f\"available model file: {x}.\")\n",
    "        \n",
    "    channel_nums =  monai.utils.misc.first(data_loader)['image'].shape[1] ##next(iter(val_loader[\"image\"])).shape[1]\n",
    "    channelNums = f\"{channel_nums} channels\"\n",
    "    keys = ('image',)\n",
    "    patch_size = (32, 32, 32)\n",
    "    \n",
    "    post_trans_sigbin = Compose([EnsureType(), Activations(sigmoid=True), AsDiscrete(threshold=0.5)])\n",
    "    post_trans_bin = Compose([EnsureType(), AsDiscrete(threshold=0.5)])\n",
    "    post_trans_sig = Compose([EnsureType(), Activations(sigmoid=True)])\n",
    "    \n",
    "    auc_metric = ROCAUCMetric()\n",
    "    dice_metric = monai.metrics.DiceMetric(include_background=True, reduction='mean', get_not_nans=False)\n",
    "    dice_metric_batch = monai.metrics.DiceMetric(include_background=True, reduction='mean_batch', get_not_nans=False)\n",
    "    \n",
    "    \n",
    "    HD_metric = HausdorffDistanceMetric(include_background=True, percentile = 95., reduction='mean', get_not_nans=False)\n",
    "    HD_metric_batch = HausdorffDistanceMetric(include_background=True, percentile = 95., reduction='mean_batch', get_not_nans=False)\n",
    "    \n",
    "    \n",
    "    \n",
    "    post_pred = Compose([Activations(sigmoid=True), AsDiscrete(threshold=0.5)])  \n",
    "    \n",
    "    def one_hot_permute(x):\n",
    "        return F.one_hot(x.squeeze(dim=0).long(), num_classes=num_classes).permute(3, 0, 1, 2)\n",
    "    \n",
    "    def get_binarize_tensor(x, dim=1):\n",
    "        x_chlist = torch.unbind(x, dim = dim)\n",
    "        bin_x = torch.zeros_like(x_chlist[0])\n",
    "        for x_i in x_chlist:\n",
    "            bin_x = torch.logical_or(x_i, bin_x)\n",
    "        return bin_x.unsqueeze(dim=dim).to(torch.float32)\n",
    "        \n",
    "    \n",
    "    def get_segclass(x, dim = 1):\n",
    "        xdvc = x.device\n",
    "        x_chlist = torch.unbind(x, dim = dim)\n",
    "        xclassNoList = []\n",
    "        xvalueList = []\n",
    "        for x_i in x_chlist:\n",
    "            \n",
    "            xv, xc = torch.unique(x_i, return_counts  = True)\n",
    "\n",
    "            if xc.shape[0]==1:\n",
    "                xclassNoList.append(xc[0].item())\n",
    "                xvalueList.append(xv[0].item())\n",
    "            elif xc.shape[0]==2:\n",
    "                    if torch.any(torch.eq(xv, 1)):\n",
    "                        xclassNoList.append(xc[1].item())\n",
    "                        xvalueList.append(xv[1].item())\n",
    "                    else:\n",
    "                        print('The function only supports binarized tensor (binarized unique values, 0(n=...) and 1(n=...) only)\\n')\n",
    "            else:\n",
    "                print('The function only supports binarized tensor (binarized unique values, 0(n=...) and 1(n=...) only)\\n')\n",
    "        \n",
    "        if torch.any(torch.eq(torch.tensor(xvalueList), 1)):  \n",
    "            xclass = torch.argmax(torch.tensor(xclassNoList).to(xdvc))\n",
    "        else:\n",
    "            '''If all uniques class values are 0, we are assigning nan values as a class'''\n",
    "            xclass = torch.tensor(float('NaN')).to(xdvc)\n",
    "            \n",
    "        return xclass \n",
    "    \n",
    "    \n",
    "    \n",
    "    keys = (\"image\",)\n",
    "        \n",
    "    with torch.no_grad():\n",
    "        \n",
    "        y_pred = torch.tensor([], dtype=torch.float32, device=device)\n",
    "        y = torch.tensor([], dtype=torch.long, device=device)\n",
    "    \n",
    "        for infindx, infer_data in enumerate(tqdm(data_loader)):\n",
    "\n",
    "            \n",
    "            val_inputs, val_labels, val_IDH_labels = (\n",
    "                infer_data['image'].to(device),\n",
    "                infer_data['label'].to(device),\n",
    "                infer_data['IDH_label'].to(device),\n",
    "            )\n",
    "                \n",
    "\n",
    "            n_class = 2\n",
    "            val_outputsAll = torch.zeros(val_inputs.shape[0], n_class, val_inputs.shape[2], val_inputs.shape[3], val_inputs.shape[4]).to(device)\n",
    "            n_model = 0.\n",
    "            \n",
    "            #for mdlindx in (number+1 for number in range(topk)):\n",
    "            for mdlindx in range(topk):\n",
    "    \n",
    "                print(f'Model {mdlindx}, {listmodels[mdlindx]} is running now')\n",
    "                model = None          \n",
    "                model = DynUNet(\n",
    "                    spatial_dims=3,\n",
    "                    in_channels=4,\n",
    "                    out_channels=n_class,\n",
    "                    kernel_size=kernels,\n",
    "                    strides=strides,\n",
    "                    upsample_kernel_size=strides[1:],\n",
    "                    norm_name=\"batch\",\n",
    "                    filters = filters,\n",
    "                    deep_supervision=True,\n",
    "                    res_block=True,\n",
    "                    deep_supr_num=2,\n",
    "                ).to(device)\n",
    "                \n",
    "                \n",
    "                \n",
    "                \n",
    "                if withoptimizer ==True:\n",
    "                    \n",
    "                    state_dictsAll = torch.load(listmodels[mdlindx], map_location=device)\n",
    "                    model.load_state_dict(state_dictsAll[\"model_state_dict\"])\n",
    "                    model.eval()\n",
    "                \n",
    "                else:    \n",
    "                    model.load_state_dict(torch.load(listmodels[mdlindx], map_location=device))\n",
    "                    model.eval()\n",
    "                \n",
    "                \n",
    "                n = 1.0\n",
    "                roi_size = patch_size #(32, 32, 32)\n",
    "                sw_batch_size = 8\n",
    "                val_overlap = 0.5\n",
    "                mode=\"gaussian\"\n",
    "                \n",
    "                with torch.cuda.amp.autocast():\n",
    "\n",
    "                    preds = sliding_window_inference(val_inputs, roi_size, sw_batch_size, model, mode = mode, overlap = val_overlap, sw_device = device, device = device)\n",
    "                    \n",
    "                flip_val_inputs = torch.flip(val_inputs, dims=(2, 3, 4))\n",
    "                \n",
    "                with torch.cuda.amp.autocast():\n",
    "                    \n",
    "                    mfpred = sliding_window_inference(flip_val_inputs, roi_size, sw_batch_size, model, mode = mode, overlap = val_overlap, sw_device = device, device = device)\n",
    "                 \n",
    "                flip_pred = torch.flip(mfpred, dims=(2, 3, 4))\n",
    "                preds  = preds + flip_pred\n",
    "                n = n + 1.0\n",
    "                \n",
    "                if tta:\n",
    "                    \n",
    "                    for _ in range(4):\n",
    "                        # test time augmentations\n",
    "                        _img = RandGaussianNoised(keys[0], prob=1.0, std=0.01)(infer_data)[keys[0]]\n",
    "\n",
    "\n",
    "                        with torch.cuda.amp.autocast():\n",
    "\n",
    "                            #val_outputs = sliding_window_inference(val_inputs, roi_size, sw_batch_size, model, sw_device = device, device = device)\n",
    "                            _img_pred = sliding_window_inference(_img.to(device), roi_size, sw_batch_size, model, mode = mode, overlap = val_overlap, sw_device = device, device = device)\n",
    "                            preds = preds + _img_pred\n",
    "                            n = n + 1.0\n",
    "\n",
    "\n",
    "                        _img_flip = torch.flip(_img, dims=(2, 3, 4)) \n",
    "                        with torch.cuda.amp.autocast():\n",
    "                            _mf_flip_pred = sliding_window_inference(_img_flip.to(device), roi_size, sw_batch_size, model, mode = mode, overlap = val_overlap, sw_device = device, device = device)\n",
    "\n",
    "                        _img_flip_pred = torch.flip(_mf_flip_pred, dims=(2, 3, 4))\n",
    "                        preds = preds + _img_flip_pred\n",
    "                        n = n + 1.0\n",
    "                 \n",
    "                \n",
    "                preds = preds / n\n",
    "                \n",
    "                if softmaxEnsemble:\n",
    "                    preds = torch.stack([post_trans_sig(i) for i in torch.unbind(preds, dim = 0)], dim = 0)\n",
    "                val_outputsAll = val_outputsAll + preds\n",
    "                n_model = n_model+1.0\n",
    "                \n",
    "                # Free up GPU memory after training\n",
    "                model = None\n",
    "                del model\n",
    "                #train_loader, val_loader = None, None        \n",
    "                gc.collect()\n",
    "                torch.cuda.empty_cache()\n",
    "                           \n",
    "            val_outputsAll = val_outputsAll / n_model\n",
    "            \n",
    "            val_outputs = post_trans_bin(val_outputsAll) if softmaxEnsemble else post_trans_sigbin(val_outputsAll)\n",
    "            '''Sigmoid or logit'''\n",
    "            val_outputsSig = val_outputsAll if softmaxEnsemble else post_trans_sig(val_outputsAll)\n",
    "            #val_outputsSig = val_outputsAll\n",
    "            \n",
    "            \n",
    "\n",
    "            #val_labels2hot = torch.stack([one_hot_permute(i) for i in torch.unbind(val_labels, dim = 0)], dim = 0)\n",
    "\n",
    "\n",
    "            val_labels_bin = get_binarize_tensor(val_labels, dim=1)\n",
    "            val_outputs_bin = get_binarize_tensor(val_outputs, dim=1)\n",
    "\n",
    "            dice_metric(y_pred=val_outputs_bin, y=val_labels_bin)\n",
    "\n",
    "            klcc = KeepLargestConnectedComponent(applied_labels = [0, 1], is_onehot = True)  ##is_onehot=True or None by default\n",
    "            #val_labels = klcc(val_labels.squeeze(dim=0)).unsqueeze(dim=0)\n",
    "            val_labels = torch.stack([klcc(i) for i in torch.unbind(val_labels, dim = 0)], dim = 0)\n",
    "\n",
    "            val_label4mSeg_C = get_segclass(val_outputs)\n",
    "            #val_surv_labels = val_surv_labels.squeeze(dim=1)  ###Squeezing from B, 1 to B if needed\n",
    "            y_pred = torch.cat([y_pred, val_label4mSeg_C.view(1)], dim=0)\n",
    "            y = torch.cat([y, val_IDH_labels], dim=0)\n",
    "                \n",
    "                        \n",
    "            \n",
    "        mdice_value = dice_metric.aggregate().item()\n",
    "        dice_metric.reset()\n",
    "\n",
    "        y_pred, y = y_pred.cpu(), y.cpu()\n",
    "        \n",
    "        num_nanvalues = torch.isnan(y_pred).sum().item()\n",
    "        not_nanmask = torch.logical_not(torch.isnan(y_pred))\n",
    "        y = y[not_nanmask]\n",
    "        y_pred = y_pred[not_nanmask]\n",
    "        \n",
    "        \n",
    "        acc_value = torch.eq(y_pred, y)\n",
    "        acc_metric = acc_value.sum().item() / len(acc_value)\n",
    "\n",
    "        #y_onehot = [post_label(i) for i in torch.unbind(y, dim=0)]\n",
    "        #y_pred_act = [post_pred(i) for i in torch.unbind(y_pred, dim=0)]\n",
    "\n",
    "        auc_metric(y_pred, y)\n",
    "        auc_result = auc_metric.aggregate()\n",
    "        auc_metric.reset()\n",
    "\n",
    "        accscore = balanced_accuracy_score(y, y_pred)\n",
    "        f1score = f1_score(y, y_pred, average='micro')\n",
    "        del y, y_pred\n",
    "        \n",
    "        aDCT = {\"dice_score\": mdice_value,  'acc_metric':auc_result,  \"accuracy\": accscore,  'f1score':f1score, 'NanSubjectNos':num_nanvalues}\n",
    "        \n",
    "                    \n",
    "#     dfET = pd.DataFrame({\"BraTS21ID\":Infer_idLst, \"Model\": [\"DynUnet\"]* len(ETdices), \"Channels\":[channelNums]*len(ETdices), \"Tumor regions\": [\"ET\"]*len(ETdices), \"Dice score\": ETdices, \"HD95\": ETHD95s})\n",
    "#     dfTC = pd.DataFrame({\"BraTS21ID\":Infer_idLst, \"Model\": [\"DynUnet\"]* len(TCdices), \"Channels\":[channelNums]*len(TCdices), \"Tumor regions\": [\"TC\"]*len(TCdices), \"Dice score\": TCdices, \"HD95\": TCHD95s})\n",
    "#     dfWT = pd.DataFrame({\"BraTS21ID\":Infer_idLst,\"Model\": [\"DynUnet\"]* len(WTdices), \"Channels\":[channelNums]*len(WTdices), \"Tumor regions\": [\"WT\"]*len(WTdices), \"Dice score\": WTdices, \"HD95\": WTHD95s})\n",
    "#     dfWT_TC_ET = pd.DataFrame({\"BraTS21ID\":Infer_idLst,\"Model\": [\"DynUnet\"]* len(WTdices), \"Channels\":[channelNums]*len(WTdices), \"Tumor regions\": [\"WT_TC_ET_Regions\"]*len(WTdices), \"Dice score\": Alldices, \"HD95\": AllHD95s})\n",
    "    \n",
    "#     dfRegions = pd.concat([dfTC, dfWT, dfET, dfWT_TC_ET])\n",
    "#     return dfRegions\n",
    "\n",
    "\n",
    "    return aDCT\n",
    "\n",
    "    \n",
    "            "
   ]
  },
  {
   "cell_type": "code",
   "execution_count": 40,
   "id": "b93476b2",
   "metadata": {},
   "outputs": [
    {
     "data": {
      "text/plain": [
       "{'fold0': ['/raid/brats2021/pthBraTS2020_IDHGenomics/DynUNetVariants_Brats20/DynUNet_BratsTCGA_3CV_4Chnls1PatchSWIRngr21_2nclass_MorePatchBNormEp500_Fold0_0.8423_epoch197.pth',\n",
       "  '/raid/brats2021/pthBraTS2020_IDHGenomics/DynUNetVariants_Brats20/DynUNet_BratsTCGA_3CV_4Chnls1PatchSWIRngr21_2nclass_MorePatchBNormEp500_Fold0_0.8422_epoch115.pth'],\n",
       " 'fold1': ['/raid/brats2021/pthBraTS2020_IDHGenomics/DynUNetVariants_Brats20/DynUNet_BratsTCGA_3CV_4Chnls1PatchSWIRngr21_2nclass_MorePatchBNormEp500_Fold1_0.8695_epoch319.pth',\n",
       "  '/raid/brats2021/pthBraTS2020_IDHGenomics/DynUNetVariants_Brats20/DynUNet_BratsTCGA_3CV_4Chnls1PatchSWIRngr21_2nclass_MorePatchBNormEp500_Fold1_0.8692_epoch384.pth'],\n",
       " 'fold2': ['/raid/brats2021/pthBraTS2020_IDHGenomics/DynUNetVariants_Brats20/DynUNet_BratsTCGA_3CV_4Chnls1PatchSWIRngr21_2nclass_MorePatchBNormEp500_Fold2_0.8901_epoch122.pth',\n",
       "  ['/raid/brats2021/pthBraTS2020_IDHGenomics/DynUNetVariants_Brats20/DynUNet_BratsTCGA_3CV_4Chnls1PatchSWIRngr21_2nclass_MorePatchBNormEp500_Fold2_0.8862_epoch132.pth']]}"
      ]
     },
     "execution_count": 40,
     "metadata": {},
     "output_type": "execute_result"
    }
   ],
   "source": [
    "# listmodels = glob.glob(f'{save_dir}/DynUNet_BratsTCGA_3CV_4Chnls1PatchSWIRngr21_2nclass_1PatchEp500V2_Fold0_0.8371_epoch207.pt*') \n",
    "# listmodels.extend(glob.glob(f'{save_dir}/DynUNet_BratsTCGA_3CV_4Chnls1PatchSWIRngr21_2nclass_1PatchEp500V2_Fold1_0.8944_epoch75.pt*')) \n",
    "# listmodels.extend(glob.glob(f'{save_dir}/DynUNet_BratsTCGA_3CV_4Chnls1PatchSWIRngr21_2nclass_1PatchEp500V2_Fold2_0.8719_epoch482.pt*'))\n",
    "# print(listmodels)\n",
    "\n",
    "prediction_folder = f'{save_dir}/DynUNet_BratsTCGA_3CV_4Chnls1PatchSWIRngr21_2nclass_1PatchEp500V2' \n",
    "modelDCTList = {'fold0': [glob.glob(f'{save_dir}/DynUNet_BratsTCGA_3CV_4Chnls1PatchSWIRngr21_2nclass_MorePatchBNormEp500_Fold0_0.8423_epoch197.pt*')[0],\n",
    "                          glob.glob(f'{save_dir}/DynUNet_BratsTCGA_3CV_4Chnls1PatchSWIRngr21_2nclass_MorePatchBNormEp500_Fold0_0.8422_epoch115.pth*')[0]],\\\n",
    "               'fold1':[glob.glob(f'{save_dir}/DynUNet_BratsTCGA_3CV_4Chnls1PatchSWIRngr21_2nclass_MorePatchBNormEp500_Fold1_0.8695_epoch319.pt*')[0],\n",
    "                        glob.glob(f'{save_dir}/DynUNet_BratsTCGA_3CV_4Chnls1PatchSWIRngr21_2nclass_MorePatchBNormEp500_Fold1_0.8692_epoch384.pt*')[0]],\\\n",
    "               'fold2':[glob.glob(f'{save_dir}/DynUNet_BratsTCGA_3CV_4Chnls1PatchSWIRngr21_2nclass_MorePatchBNormEp500_Fold2_0.8901_epoch122.pt*')[0],\n",
    "                        glob.glob(f'{save_dir}/DynUNet_BratsTCGA_3CV_4Chnls1PatchSWIRngr21_2nclass_MorePatchBNormEp500_Fold2_0.8862_epoch132.pt*')]}\n",
    "modelDCTList"
   ]
  },
  {
   "cell_type": "code",
   "execution_count": 42,
   "id": "5ffb86a3",
   "metadata": {},
   "outputs": [],
   "source": [
    "start_inference = True"
   ]
  },
  {
   "cell_type": "code",
   "execution_count": null,
   "id": "f7b7a78d",
   "metadata": {
    "scrolled": true
   },
   "outputs": [
    {
     "name": "stdout",
     "output_type": "stream",
     "text": [
      "available model file: /raid/brats2021/pthBraTS2020_IDHGenomics/DynUNetVariants_Brats20/DynUNet_BratsTCGA_3CV_4Chnls1PatchSWIRngr21_2nclass_MorePatchBNormEp500_Fold0_0.8423_epoch197.pth.\n",
      "available model file: /raid/brats2021/pthBraTS2020_IDHGenomics/DynUNetVariants_Brats20/DynUNet_BratsTCGA_3CV_4Chnls1PatchSWIRngr21_2nclass_MorePatchBNormEp500_Fold0_0.8422_epoch115.pth.\n"
     ]
    },
    {
     "name": "stderr",
     "output_type": "stream",
     "text": [
      "Modifying image pixdim from [1. 1. 1. 1.] to [  1.           1.           1.         239.00209204]\n",
      "  0%|                                                                                           | 0/71 [00:00<?, ?it/s]"
     ]
    },
    {
     "name": "stdout",
     "output_type": "stream",
     "text": [
      "Model 0, /raid/brats2021/pthBraTS2020_IDHGenomics/DynUNetVariants_Brats20/DynUNet_BratsTCGA_3CV_4Chnls1PatchSWIRngr21_2nclass_MorePatchBNormEp500_Fold0_0.8423_epoch197.pth is running now\n",
      "Model 1, /raid/brats2021/pthBraTS2020_IDHGenomics/DynUNetVariants_Brats20/DynUNet_BratsTCGA_3CV_4Chnls1PatchSWIRngr21_2nclass_MorePatchBNormEp500_Fold0_0.8422_epoch115.pth is running now\n"
     ]
    },
    {
     "name": "stderr",
     "output_type": "stream",
     "text": [
      "  1%|█▏                                                                                 | 1/71 [00:08<10:27,  8.96s/it]"
     ]
    },
    {
     "name": "stdout",
     "output_type": "stream",
     "text": [
      "Model 0, /raid/brats2021/pthBraTS2020_IDHGenomics/DynUNetVariants_Brats20/DynUNet_BratsTCGA_3CV_4Chnls1PatchSWIRngr21_2nclass_MorePatchBNormEp500_Fold0_0.8423_epoch197.pth is running now\n",
      "Model 1, /raid/brats2021/pthBraTS2020_IDHGenomics/DynUNetVariants_Brats20/DynUNet_BratsTCGA_3CV_4Chnls1PatchSWIRngr21_2nclass_MorePatchBNormEp500_Fold0_0.8422_epoch115.pth is running now\n"
     ]
    },
    {
     "name": "stderr",
     "output_type": "stream",
     "text": [
      "  3%|██▎                                                                                | 2/71 [00:13<07:32,  6.55s/it]"
     ]
    },
    {
     "name": "stdout",
     "output_type": "stream",
     "text": [
      "Model 0, /raid/brats2021/pthBraTS2020_IDHGenomics/DynUNetVariants_Brats20/DynUNet_BratsTCGA_3CV_4Chnls1PatchSWIRngr21_2nclass_MorePatchBNormEp500_Fold0_0.8423_epoch197.pth is running now\n",
      "Model 1, /raid/brats2021/pthBraTS2020_IDHGenomics/DynUNetVariants_Brats20/DynUNet_BratsTCGA_3CV_4Chnls1PatchSWIRngr21_2nclass_MorePatchBNormEp500_Fold0_0.8422_epoch115.pth is running now\n"
     ]
    },
    {
     "name": "stderr",
     "output_type": "stream",
     "text": [
      "  4%|███▌                                                                               | 3/71 [00:19<06:49,  6.02s/it]"
     ]
    },
    {
     "name": "stdout",
     "output_type": "stream",
     "text": [
      "Model 0, /raid/brats2021/pthBraTS2020_IDHGenomics/DynUNetVariants_Brats20/DynUNet_BratsTCGA_3CV_4Chnls1PatchSWIRngr21_2nclass_MorePatchBNormEp500_Fold0_0.8423_epoch197.pth is running now\n",
      "Model 1, /raid/brats2021/pthBraTS2020_IDHGenomics/DynUNetVariants_Brats20/DynUNet_BratsTCGA_3CV_4Chnls1PatchSWIRngr21_2nclass_MorePatchBNormEp500_Fold0_0.8422_epoch115.pth is running now\n"
     ]
    },
    {
     "name": "stderr",
     "output_type": "stream",
     "text": [
      "  6%|████▋                                                                              | 4/71 [00:24<06:17,  5.64s/it]"
     ]
    },
    {
     "name": "stdout",
     "output_type": "stream",
     "text": [
      "Model 0, /raid/brats2021/pthBraTS2020_IDHGenomics/DynUNetVariants_Brats20/DynUNet_BratsTCGA_3CV_4Chnls1PatchSWIRngr21_2nclass_MorePatchBNormEp500_Fold0_0.8423_epoch197.pth is running now\n",
      "Model 1, /raid/brats2021/pthBraTS2020_IDHGenomics/DynUNetVariants_Brats20/DynUNet_BratsTCGA_3CV_4Chnls1PatchSWIRngr21_2nclass_MorePatchBNormEp500_Fold0_0.8422_epoch115.pth is running now\n"
     ]
    },
    {
     "name": "stderr",
     "output_type": "stream",
     "text": [
      "  7%|█████▊                                                                             | 5/71 [00:32<07:06,  6.47s/it]"
     ]
    },
    {
     "name": "stdout",
     "output_type": "stream",
     "text": [
      "Model 0, /raid/brats2021/pthBraTS2020_IDHGenomics/DynUNetVariants_Brats20/DynUNet_BratsTCGA_3CV_4Chnls1PatchSWIRngr21_2nclass_MorePatchBNormEp500_Fold0_0.8423_epoch197.pth is running now\n",
      "Model 1, /raid/brats2021/pthBraTS2020_IDHGenomics/DynUNetVariants_Brats20/DynUNet_BratsTCGA_3CV_4Chnls1PatchSWIRngr21_2nclass_MorePatchBNormEp500_Fold0_0.8422_epoch115.pth is running now\n"
     ]
    },
    {
     "name": "stderr",
     "output_type": "stream",
     "text": [
      "  8%|███████                                                                            | 6/71 [00:42<08:15,  7.63s/it]"
     ]
    },
    {
     "name": "stdout",
     "output_type": "stream",
     "text": [
      "Model 0, /raid/brats2021/pthBraTS2020_IDHGenomics/DynUNetVariants_Brats20/DynUNet_BratsTCGA_3CV_4Chnls1PatchSWIRngr21_2nclass_MorePatchBNormEp500_Fold0_0.8423_epoch197.pth is running now\n",
      "Model 1, /raid/brats2021/pthBraTS2020_IDHGenomics/DynUNetVariants_Brats20/DynUNet_BratsTCGA_3CV_4Chnls1PatchSWIRngr21_2nclass_MorePatchBNormEp500_Fold0_0.8422_epoch115.pth is running now\n"
     ]
    },
    {
     "name": "stderr",
     "output_type": "stream",
     "text": [
      " 10%|████████▏                                                                          | 7/71 [00:47<07:21,  6.90s/it]"
     ]
    },
    {
     "name": "stdout",
     "output_type": "stream",
     "text": [
      "Model 0, /raid/brats2021/pthBraTS2020_IDHGenomics/DynUNetVariants_Brats20/DynUNet_BratsTCGA_3CV_4Chnls1PatchSWIRngr21_2nclass_MorePatchBNormEp500_Fold0_0.8423_epoch197.pth is running now\n",
      "Model 1, /raid/brats2021/pthBraTS2020_IDHGenomics/DynUNetVariants_Brats20/DynUNet_BratsTCGA_3CV_4Chnls1PatchSWIRngr21_2nclass_MorePatchBNormEp500_Fold0_0.8422_epoch115.pth is running now\n"
     ]
    },
    {
     "name": "stderr",
     "output_type": "stream",
     "text": [
      " 11%|█████████▎                                                                         | 8/71 [00:52<06:43,  6.41s/it]"
     ]
    },
    {
     "name": "stdout",
     "output_type": "stream",
     "text": [
      "Model 0, /raid/brats2021/pthBraTS2020_IDHGenomics/DynUNetVariants_Brats20/DynUNet_BratsTCGA_3CV_4Chnls1PatchSWIRngr21_2nclass_MorePatchBNormEp500_Fold0_0.8423_epoch197.pth is running now\n",
      "Model 1, /raid/brats2021/pthBraTS2020_IDHGenomics/DynUNetVariants_Brats20/DynUNet_BratsTCGA_3CV_4Chnls1PatchSWIRngr21_2nclass_MorePatchBNormEp500_Fold0_0.8422_epoch115.pth is running now\n"
     ]
    },
    {
     "name": "stderr",
     "output_type": "stream",
     "text": [
      " 13%|██████████▌                                                                        | 9/71 [00:57<06:12,  6.00s/it]"
     ]
    },
    {
     "name": "stdout",
     "output_type": "stream",
     "text": [
      "Model 0, /raid/brats2021/pthBraTS2020_IDHGenomics/DynUNetVariants_Brats20/DynUNet_BratsTCGA_3CV_4Chnls1PatchSWIRngr21_2nclass_MorePatchBNormEp500_Fold0_0.8423_epoch197.pth is running now\n",
      "Model 1, /raid/brats2021/pthBraTS2020_IDHGenomics/DynUNetVariants_Brats20/DynUNet_BratsTCGA_3CV_4Chnls1PatchSWIRngr21_2nclass_MorePatchBNormEp500_Fold0_0.8422_epoch115.pth is running now\n"
     ]
    },
    {
     "name": "stderr",
     "output_type": "stream",
     "text": [
      " 14%|███████████▌                                                                      | 10/71 [01:07<07:10,  7.06s/it]"
     ]
    },
    {
     "name": "stdout",
     "output_type": "stream",
     "text": [
      "Model 0, /raid/brats2021/pthBraTS2020_IDHGenomics/DynUNetVariants_Brats20/DynUNet_BratsTCGA_3CV_4Chnls1PatchSWIRngr21_2nclass_MorePatchBNormEp500_Fold0_0.8423_epoch197.pth is running now\n",
      "Model 1, /raid/brats2021/pthBraTS2020_IDHGenomics/DynUNetVariants_Brats20/DynUNet_BratsTCGA_3CV_4Chnls1PatchSWIRngr21_2nclass_MorePatchBNormEp500_Fold0_0.8422_epoch115.pth is running now\n"
     ]
    },
    {
     "name": "stderr",
     "output_type": "stream",
     "text": [
      " 15%|████████████▋                                                                     | 11/71 [01:14<06:58,  6.97s/it]"
     ]
    },
    {
     "name": "stdout",
     "output_type": "stream",
     "text": [
      "Model 0, /raid/brats2021/pthBraTS2020_IDHGenomics/DynUNetVariants_Brats20/DynUNet_BratsTCGA_3CV_4Chnls1PatchSWIRngr21_2nclass_MorePatchBNormEp500_Fold0_0.8423_epoch197.pth is running now\n",
      "Model 1, /raid/brats2021/pthBraTS2020_IDHGenomics/DynUNetVariants_Brats20/DynUNet_BratsTCGA_3CV_4Chnls1PatchSWIRngr21_2nclass_MorePatchBNormEp500_Fold0_0.8422_epoch115.pth is running now\n"
     ]
    },
    {
     "name": "stderr",
     "output_type": "stream",
     "text": [
      " 17%|█████████████▊                                                                    | 12/71 [01:20<06:46,  6.89s/it]"
     ]
    },
    {
     "name": "stdout",
     "output_type": "stream",
     "text": [
      "Model 0, /raid/brats2021/pthBraTS2020_IDHGenomics/DynUNetVariants_Brats20/DynUNet_BratsTCGA_3CV_4Chnls1PatchSWIRngr21_2nclass_MorePatchBNormEp500_Fold0_0.8423_epoch197.pth is running now\n",
      "Model 1, /raid/brats2021/pthBraTS2020_IDHGenomics/DynUNetVariants_Brats20/DynUNet_BratsTCGA_3CV_4Chnls1PatchSWIRngr21_2nclass_MorePatchBNormEp500_Fold0_0.8422_epoch115.pth is running now\n"
     ]
    },
    {
     "name": "stderr",
     "output_type": "stream",
     "text": [
      " 18%|███████████████                                                                   | 13/71 [01:25<05:58,  6.17s/it]"
     ]
    },
    {
     "name": "stdout",
     "output_type": "stream",
     "text": [
      "Model 0, /raid/brats2021/pthBraTS2020_IDHGenomics/DynUNetVariants_Brats20/DynUNet_BratsTCGA_3CV_4Chnls1PatchSWIRngr21_2nclass_MorePatchBNormEp500_Fold0_0.8423_epoch197.pth is running now\n",
      "Model 1, /raid/brats2021/pthBraTS2020_IDHGenomics/DynUNetVariants_Brats20/DynUNet_BratsTCGA_3CV_4Chnls1PatchSWIRngr21_2nclass_MorePatchBNormEp500_Fold0_0.8422_epoch115.pth is running now\n"
     ]
    },
    {
     "name": "stderr",
     "output_type": "stream",
     "text": [
      " 20%|████████████████▏                                                                 | 14/71 [01:34<06:42,  7.06s/it]"
     ]
    },
    {
     "name": "stdout",
     "output_type": "stream",
     "text": [
      "Model 0, /raid/brats2021/pthBraTS2020_IDHGenomics/DynUNetVariants_Brats20/DynUNet_BratsTCGA_3CV_4Chnls1PatchSWIRngr21_2nclass_MorePatchBNormEp500_Fold0_0.8423_epoch197.pth is running now\n",
      "Model 1, /raid/brats2021/pthBraTS2020_IDHGenomics/DynUNetVariants_Brats20/DynUNet_BratsTCGA_3CV_4Chnls1PatchSWIRngr21_2nclass_MorePatchBNormEp500_Fold0_0.8422_epoch115.pth is running now\n"
     ]
    },
    {
     "name": "stderr",
     "output_type": "stream",
     "text": [
      " 21%|█████████████████▎                                                                | 15/71 [01:39<05:57,  6.38s/it]"
     ]
    },
    {
     "name": "stdout",
     "output_type": "stream",
     "text": [
      "Model 0, /raid/brats2021/pthBraTS2020_IDHGenomics/DynUNetVariants_Brats20/DynUNet_BratsTCGA_3CV_4Chnls1PatchSWIRngr21_2nclass_MorePatchBNormEp500_Fold0_0.8423_epoch197.pth is running now\n",
      "Model 1, /raid/brats2021/pthBraTS2020_IDHGenomics/DynUNetVariants_Brats20/DynUNet_BratsTCGA_3CV_4Chnls1PatchSWIRngr21_2nclass_MorePatchBNormEp500_Fold0_0.8422_epoch115.pth is running now\n"
     ]
    },
    {
     "name": "stderr",
     "output_type": "stream",
     "text": [
      " 23%|██████████████████▍                                                               | 16/71 [01:44<05:26,  5.94s/it]"
     ]
    },
    {
     "name": "stdout",
     "output_type": "stream",
     "text": [
      "Model 0, /raid/brats2021/pthBraTS2020_IDHGenomics/DynUNetVariants_Brats20/DynUNet_BratsTCGA_3CV_4Chnls1PatchSWIRngr21_2nclass_MorePatchBNormEp500_Fold0_0.8423_epoch197.pth is running now\n",
      "Model 1, /raid/brats2021/pthBraTS2020_IDHGenomics/DynUNetVariants_Brats20/DynUNet_BratsTCGA_3CV_4Chnls1PatchSWIRngr21_2nclass_MorePatchBNormEp500_Fold0_0.8422_epoch115.pth is running now\n"
     ]
    },
    {
     "name": "stderr",
     "output_type": "stream",
     "text": [
      " 24%|███████████████████▋                                                              | 17/71 [01:51<05:48,  6.46s/it]"
     ]
    },
    {
     "name": "stdout",
     "output_type": "stream",
     "text": [
      "Model 0, /raid/brats2021/pthBraTS2020_IDHGenomics/DynUNetVariants_Brats20/DynUNet_BratsTCGA_3CV_4Chnls1PatchSWIRngr21_2nclass_MorePatchBNormEp500_Fold0_0.8423_epoch197.pth is running now\n",
      "Model 1, /raid/brats2021/pthBraTS2020_IDHGenomics/DynUNetVariants_Brats20/DynUNet_BratsTCGA_3CV_4Chnls1PatchSWIRngr21_2nclass_MorePatchBNormEp500_Fold0_0.8422_epoch115.pth is running now\n"
     ]
    },
    {
     "name": "stderr",
     "output_type": "stream",
     "text": [
      " 25%|████████████████████▊                                                             | 18/71 [02:02<06:46,  7.66s/it]"
     ]
    },
    {
     "name": "stdout",
     "output_type": "stream",
     "text": [
      "Model 0, /raid/brats2021/pthBraTS2020_IDHGenomics/DynUNetVariants_Brats20/DynUNet_BratsTCGA_3CV_4Chnls1PatchSWIRngr21_2nclass_MorePatchBNormEp500_Fold0_0.8423_epoch197.pth is running now\n",
      "Model 1, /raid/brats2021/pthBraTS2020_IDHGenomics/DynUNetVariants_Brats20/DynUNet_BratsTCGA_3CV_4Chnls1PatchSWIRngr21_2nclass_MorePatchBNormEp500_Fold0_0.8422_epoch115.pth is running now\n"
     ]
    },
    {
     "name": "stderr",
     "output_type": "stream",
     "text": [
      " 27%|█████████████████████▉                                                            | 19/71 [02:07<05:54,  6.81s/it]"
     ]
    },
    {
     "name": "stdout",
     "output_type": "stream",
     "text": [
      "Model 0, /raid/brats2021/pthBraTS2020_IDHGenomics/DynUNetVariants_Brats20/DynUNet_BratsTCGA_3CV_4Chnls1PatchSWIRngr21_2nclass_MorePatchBNormEp500_Fold0_0.8423_epoch197.pth is running now\n",
      "Model 1, /raid/brats2021/pthBraTS2020_IDHGenomics/DynUNetVariants_Brats20/DynUNet_BratsTCGA_3CV_4Chnls1PatchSWIRngr21_2nclass_MorePatchBNormEp500_Fold0_0.8422_epoch115.pth is running now\n"
     ]
    },
    {
     "name": "stderr",
     "output_type": "stream",
     "text": [
      " 28%|███████████████████████                                                           | 20/71 [02:20<07:34,  8.91s/it]"
     ]
    },
    {
     "name": "stdout",
     "output_type": "stream",
     "text": [
      "Model 0, /raid/brats2021/pthBraTS2020_IDHGenomics/DynUNetVariants_Brats20/DynUNet_BratsTCGA_3CV_4Chnls1PatchSWIRngr21_2nclass_MorePatchBNormEp500_Fold0_0.8423_epoch197.pth is running now\n",
      "Model 1, /raid/brats2021/pthBraTS2020_IDHGenomics/DynUNetVariants_Brats20/DynUNet_BratsTCGA_3CV_4Chnls1PatchSWIRngr21_2nclass_MorePatchBNormEp500_Fold0_0.8422_epoch115.pth is running now\n"
     ]
    },
    {
     "name": "stderr",
     "output_type": "stream",
     "text": [
      " 30%|████████████████████████▎                                                         | 21/71 [02:30<07:40,  9.20s/it]"
     ]
    },
    {
     "name": "stdout",
     "output_type": "stream",
     "text": [
      "Model 0, /raid/brats2021/pthBraTS2020_IDHGenomics/DynUNetVariants_Brats20/DynUNet_BratsTCGA_3CV_4Chnls1PatchSWIRngr21_2nclass_MorePatchBNormEp500_Fold0_0.8423_epoch197.pth is running now\n",
      "Model 1, /raid/brats2021/pthBraTS2020_IDHGenomics/DynUNetVariants_Brats20/DynUNet_BratsTCGA_3CV_4Chnls1PatchSWIRngr21_2nclass_MorePatchBNormEp500_Fold0_0.8422_epoch115.pth is running now\n"
     ]
    },
    {
     "name": "stderr",
     "output_type": "stream",
     "text": [
      " 31%|█████████████████████████▍                                                        | 22/71 [02:36<06:37,  8.12s/it]"
     ]
    },
    {
     "name": "stdout",
     "output_type": "stream",
     "text": [
      "Model 0, /raid/brats2021/pthBraTS2020_IDHGenomics/DynUNetVariants_Brats20/DynUNet_BratsTCGA_3CV_4Chnls1PatchSWIRngr21_2nclass_MorePatchBNormEp500_Fold0_0.8423_epoch197.pth is running now\n",
      "Model 1, /raid/brats2021/pthBraTS2020_IDHGenomics/DynUNetVariants_Brats20/DynUNet_BratsTCGA_3CV_4Chnls1PatchSWIRngr21_2nclass_MorePatchBNormEp500_Fold0_0.8422_epoch115.pth is running now\n"
     ]
    },
    {
     "name": "stderr",
     "output_type": "stream",
     "text": [
      " 32%|██████████████████████████▌                                                       | 23/71 [02:46<06:57,  8.71s/it]"
     ]
    },
    {
     "name": "stdout",
     "output_type": "stream",
     "text": [
      "Model 0, /raid/brats2021/pthBraTS2020_IDHGenomics/DynUNetVariants_Brats20/DynUNet_BratsTCGA_3CV_4Chnls1PatchSWIRngr21_2nclass_MorePatchBNormEp500_Fold0_0.8423_epoch197.pth is running now\n",
      "Model 1, /raid/brats2021/pthBraTS2020_IDHGenomics/DynUNetVariants_Brats20/DynUNet_BratsTCGA_3CV_4Chnls1PatchSWIRngr21_2nclass_MorePatchBNormEp500_Fold0_0.8422_epoch115.pth is running now\n"
     ]
    },
    {
     "name": "stderr",
     "output_type": "stream",
     "text": [
      " 34%|███████████████████████████▋                                                      | 24/71 [02:49<05:30,  7.03s/it]"
     ]
    },
    {
     "name": "stdout",
     "output_type": "stream",
     "text": [
      "Model 0, /raid/brats2021/pthBraTS2020_IDHGenomics/DynUNetVariants_Brats20/DynUNet_BratsTCGA_3CV_4Chnls1PatchSWIRngr21_2nclass_MorePatchBNormEp500_Fold0_0.8423_epoch197.pth is running now\n",
      "Model 1, /raid/brats2021/pthBraTS2020_IDHGenomics/DynUNetVariants_Brats20/DynUNet_BratsTCGA_3CV_4Chnls1PatchSWIRngr21_2nclass_MorePatchBNormEp500_Fold0_0.8422_epoch115.pth is running now\n"
     ]
    },
    {
     "name": "stderr",
     "output_type": "stream",
     "text": [
      " 35%|████████████████████████████▊                                                     | 25/71 [02:56<05:15,  6.87s/it]"
     ]
    },
    {
     "name": "stdout",
     "output_type": "stream",
     "text": [
      "Model 0, /raid/brats2021/pthBraTS2020_IDHGenomics/DynUNetVariants_Brats20/DynUNet_BratsTCGA_3CV_4Chnls1PatchSWIRngr21_2nclass_MorePatchBNormEp500_Fold0_0.8423_epoch197.pth is running now\n",
      "Model 1, /raid/brats2021/pthBraTS2020_IDHGenomics/DynUNetVariants_Brats20/DynUNet_BratsTCGA_3CV_4Chnls1PatchSWIRngr21_2nclass_MorePatchBNormEp500_Fold0_0.8422_epoch115.pth is running now\n"
     ]
    },
    {
     "name": "stderr",
     "output_type": "stream",
     "text": [
      " 37%|██████████████████████████████                                                    | 26/71 [03:01<04:47,  6.38s/it]"
     ]
    },
    {
     "name": "stdout",
     "output_type": "stream",
     "text": [
      "Model 0, /raid/brats2021/pthBraTS2020_IDHGenomics/DynUNetVariants_Brats20/DynUNet_BratsTCGA_3CV_4Chnls1PatchSWIRngr21_2nclass_MorePatchBNormEp500_Fold0_0.8423_epoch197.pth is running now\n",
      "Model 1, /raid/brats2021/pthBraTS2020_IDHGenomics/DynUNetVariants_Brats20/DynUNet_BratsTCGA_3CV_4Chnls1PatchSWIRngr21_2nclass_MorePatchBNormEp500_Fold0_0.8422_epoch115.pth is running now\n"
     ]
    },
    {
     "name": "stderr",
     "output_type": "stream",
     "text": [
      " 38%|███████████████████████████████▏                                                  | 27/71 [03:07<04:42,  6.43s/it]"
     ]
    },
    {
     "name": "stdout",
     "output_type": "stream",
     "text": [
      "Model 0, /raid/brats2021/pthBraTS2020_IDHGenomics/DynUNetVariants_Brats20/DynUNet_BratsTCGA_3CV_4Chnls1PatchSWIRngr21_2nclass_MorePatchBNormEp500_Fold0_0.8423_epoch197.pth is running now\n",
      "Model 1, /raid/brats2021/pthBraTS2020_IDHGenomics/DynUNetVariants_Brats20/DynUNet_BratsTCGA_3CV_4Chnls1PatchSWIRngr21_2nclass_MorePatchBNormEp500_Fold0_0.8422_epoch115.pth is running now\n"
     ]
    },
    {
     "name": "stderr",
     "output_type": "stream",
     "text": [
      " 39%|████████████████████████████████▎                                                 | 28/71 [03:14<04:33,  6.37s/it]"
     ]
    },
    {
     "name": "stdout",
     "output_type": "stream",
     "text": [
      "Model 0, /raid/brats2021/pthBraTS2020_IDHGenomics/DynUNetVariants_Brats20/DynUNet_BratsTCGA_3CV_4Chnls1PatchSWIRngr21_2nclass_MorePatchBNormEp500_Fold0_0.8423_epoch197.pth is running now\n",
      "Model 1, /raid/brats2021/pthBraTS2020_IDHGenomics/DynUNetVariants_Brats20/DynUNet_BratsTCGA_3CV_4Chnls1PatchSWIRngr21_2nclass_MorePatchBNormEp500_Fold0_0.8422_epoch115.pth is running now\n"
     ]
    },
    {
     "name": "stderr",
     "output_type": "stream",
     "text": [
      " 41%|█████████████████████████████████▍                                                | 29/71 [03:20<04:31,  6.47s/it]"
     ]
    },
    {
     "name": "stdout",
     "output_type": "stream",
     "text": [
      "Model 0, /raid/brats2021/pthBraTS2020_IDHGenomics/DynUNetVariants_Brats20/DynUNet_BratsTCGA_3CV_4Chnls1PatchSWIRngr21_2nclass_MorePatchBNormEp500_Fold0_0.8423_epoch197.pth is running now\n",
      "Model 1, /raid/brats2021/pthBraTS2020_IDHGenomics/DynUNetVariants_Brats20/DynUNet_BratsTCGA_3CV_4Chnls1PatchSWIRngr21_2nclass_MorePatchBNormEp500_Fold0_0.8422_epoch115.pth is running now\n"
     ]
    },
    {
     "name": "stderr",
     "output_type": "stream",
     "text": [
      " 42%|██████████████████████████████████▋                                               | 30/71 [03:26<04:11,  6.13s/it]"
     ]
    },
    {
     "name": "stdout",
     "output_type": "stream",
     "text": [
      "Model 0, /raid/brats2021/pthBraTS2020_IDHGenomics/DynUNetVariants_Brats20/DynUNet_BratsTCGA_3CV_4Chnls1PatchSWIRngr21_2nclass_MorePatchBNormEp500_Fold0_0.8423_epoch197.pth is running now\n",
      "Model 1, /raid/brats2021/pthBraTS2020_IDHGenomics/DynUNetVariants_Brats20/DynUNet_BratsTCGA_3CV_4Chnls1PatchSWIRngr21_2nclass_MorePatchBNormEp500_Fold0_0.8422_epoch115.pth is running now\n"
     ]
    },
    {
     "name": "stderr",
     "output_type": "stream",
     "text": [
      " 44%|███████████████████████████████████▊                                              | 31/71 [03:33<04:22,  6.56s/it]"
     ]
    },
    {
     "name": "stdout",
     "output_type": "stream",
     "text": [
      "Model 0, /raid/brats2021/pthBraTS2020_IDHGenomics/DynUNetVariants_Brats20/DynUNet_BratsTCGA_3CV_4Chnls1PatchSWIRngr21_2nclass_MorePatchBNormEp500_Fold0_0.8423_epoch197.pth is running now\n",
      "Model 1, /raid/brats2021/pthBraTS2020_IDHGenomics/DynUNetVariants_Brats20/DynUNet_BratsTCGA_3CV_4Chnls1PatchSWIRngr21_2nclass_MorePatchBNormEp500_Fold0_0.8422_epoch115.pth is running now\n"
     ]
    },
    {
     "name": "stderr",
     "output_type": "stream",
     "text": [
      " 45%|████████████████████████████████████▉                                             | 32/71 [03:43<04:47,  7.37s/it]"
     ]
    },
    {
     "name": "stdout",
     "output_type": "stream",
     "text": [
      "Model 0, /raid/brats2021/pthBraTS2020_IDHGenomics/DynUNetVariants_Brats20/DynUNet_BratsTCGA_3CV_4Chnls1PatchSWIRngr21_2nclass_MorePatchBNormEp500_Fold0_0.8423_epoch197.pth is running now\n",
      "Model 1, /raid/brats2021/pthBraTS2020_IDHGenomics/DynUNetVariants_Brats20/DynUNet_BratsTCGA_3CV_4Chnls1PatchSWIRngr21_2nclass_MorePatchBNormEp500_Fold0_0.8422_epoch115.pth is running now\n"
     ]
    },
    {
     "name": "stderr",
     "output_type": "stream",
     "text": [
      " 46%|██████████████████████████████████████                                            | 33/71 [03:48<04:17,  6.77s/it]"
     ]
    },
    {
     "name": "stdout",
     "output_type": "stream",
     "text": [
      "Model 0, /raid/brats2021/pthBraTS2020_IDHGenomics/DynUNetVariants_Brats20/DynUNet_BratsTCGA_3CV_4Chnls1PatchSWIRngr21_2nclass_MorePatchBNormEp500_Fold0_0.8423_epoch197.pth is running now\n",
      "Model 1, /raid/brats2021/pthBraTS2020_IDHGenomics/DynUNetVariants_Brats20/DynUNet_BratsTCGA_3CV_4Chnls1PatchSWIRngr21_2nclass_MorePatchBNormEp500_Fold0_0.8422_epoch115.pth is running now\n"
     ]
    },
    {
     "name": "stderr",
     "output_type": "stream",
     "text": [
      " 48%|███████████████████████████████████████▎                                          | 34/71 [03:55<04:15,  6.90s/it]"
     ]
    },
    {
     "name": "stdout",
     "output_type": "stream",
     "text": [
      "Model 0, /raid/brats2021/pthBraTS2020_IDHGenomics/DynUNetVariants_Brats20/DynUNet_BratsTCGA_3CV_4Chnls1PatchSWIRngr21_2nclass_MorePatchBNormEp500_Fold0_0.8423_epoch197.pth is running now\n",
      "Model 1, /raid/brats2021/pthBraTS2020_IDHGenomics/DynUNetVariants_Brats20/DynUNet_BratsTCGA_3CV_4Chnls1PatchSWIRngr21_2nclass_MorePatchBNormEp500_Fold0_0.8422_epoch115.pth is running now\n"
     ]
    },
    {
     "name": "stderr",
     "output_type": "stream",
     "text": [
      " 49%|████████████████████████████████████████▍                                         | 35/71 [04:03<04:23,  7.33s/it]"
     ]
    },
    {
     "name": "stdout",
     "output_type": "stream",
     "text": [
      "Model 0, /raid/brats2021/pthBraTS2020_IDHGenomics/DynUNetVariants_Brats20/DynUNet_BratsTCGA_3CV_4Chnls1PatchSWIRngr21_2nclass_MorePatchBNormEp500_Fold0_0.8423_epoch197.pth is running now\n",
      "Model 1, /raid/brats2021/pthBraTS2020_IDHGenomics/DynUNetVariants_Brats20/DynUNet_BratsTCGA_3CV_4Chnls1PatchSWIRngr21_2nclass_MorePatchBNormEp500_Fold0_0.8422_epoch115.pth is running now\n"
     ]
    },
    {
     "name": "stderr",
     "output_type": "stream",
     "text": [
      " 51%|█████████████████████████████████████████▌                                        | 36/71 [04:11<04:24,  7.55s/it]"
     ]
    },
    {
     "name": "stdout",
     "output_type": "stream",
     "text": [
      "Model 0, /raid/brats2021/pthBraTS2020_IDHGenomics/DynUNetVariants_Brats20/DynUNet_BratsTCGA_3CV_4Chnls1PatchSWIRngr21_2nclass_MorePatchBNormEp500_Fold0_0.8423_epoch197.pth is running now\n",
      "Model 1, /raid/brats2021/pthBraTS2020_IDHGenomics/DynUNetVariants_Brats20/DynUNet_BratsTCGA_3CV_4Chnls1PatchSWIRngr21_2nclass_MorePatchBNormEp500_Fold0_0.8422_epoch115.pth is running now\n"
     ]
    },
    {
     "name": "stderr",
     "output_type": "stream",
     "text": [
      " 52%|██████████████████████████████████████████▋                                       | 37/71 [04:18<04:02,  7.12s/it]"
     ]
    },
    {
     "name": "stdout",
     "output_type": "stream",
     "text": [
      "Model 0, /raid/brats2021/pthBraTS2020_IDHGenomics/DynUNetVariants_Brats20/DynUNet_BratsTCGA_3CV_4Chnls1PatchSWIRngr21_2nclass_MorePatchBNormEp500_Fold0_0.8423_epoch197.pth is running now\n",
      "Model 1, /raid/brats2021/pthBraTS2020_IDHGenomics/DynUNetVariants_Brats20/DynUNet_BratsTCGA_3CV_4Chnls1PatchSWIRngr21_2nclass_MorePatchBNormEp500_Fold0_0.8422_epoch115.pth is running now\n"
     ]
    },
    {
     "name": "stderr",
     "output_type": "stream",
     "text": [
      " 54%|███████████████████████████████████████████▉                                      | 38/71 [04:23<03:39,  6.65s/it]"
     ]
    },
    {
     "name": "stdout",
     "output_type": "stream",
     "text": [
      "Model 0, /raid/brats2021/pthBraTS2020_IDHGenomics/DynUNetVariants_Brats20/DynUNet_BratsTCGA_3CV_4Chnls1PatchSWIRngr21_2nclass_MorePatchBNormEp500_Fold0_0.8423_epoch197.pth is running now\n",
      "Model 1, /raid/brats2021/pthBraTS2020_IDHGenomics/DynUNetVariants_Brats20/DynUNet_BratsTCGA_3CV_4Chnls1PatchSWIRngr21_2nclass_MorePatchBNormEp500_Fold0_0.8422_epoch115.pth is running now\n"
     ]
    },
    {
     "name": "stderr",
     "output_type": "stream",
     "text": [
      " 55%|█████████████████████████████████████████████                                     | 39/71 [04:26<03:01,  5.66s/it]"
     ]
    },
    {
     "name": "stdout",
     "output_type": "stream",
     "text": [
      "Model 0, /raid/brats2021/pthBraTS2020_IDHGenomics/DynUNetVariants_Brats20/DynUNet_BratsTCGA_3CV_4Chnls1PatchSWIRngr21_2nclass_MorePatchBNormEp500_Fold0_0.8423_epoch197.pth is running now\n",
      "Model 1, /raid/brats2021/pthBraTS2020_IDHGenomics/DynUNetVariants_Brats20/DynUNet_BratsTCGA_3CV_4Chnls1PatchSWIRngr21_2nclass_MorePatchBNormEp500_Fold0_0.8422_epoch115.pth is running now\n"
     ]
    },
    {
     "name": "stderr",
     "output_type": "stream",
     "text": [
      " 56%|██████████████████████████████████████████████▏                                   | 40/71 [04:33<03:05,  6.00s/it]"
     ]
    },
    {
     "name": "stdout",
     "output_type": "stream",
     "text": [
      "Model 0, /raid/brats2021/pthBraTS2020_IDHGenomics/DynUNetVariants_Brats20/DynUNet_BratsTCGA_3CV_4Chnls1PatchSWIRngr21_2nclass_MorePatchBNormEp500_Fold0_0.8423_epoch197.pth is running now\n",
      "Model 1, /raid/brats2021/pthBraTS2020_IDHGenomics/DynUNetVariants_Brats20/DynUNet_BratsTCGA_3CV_4Chnls1PatchSWIRngr21_2nclass_MorePatchBNormEp500_Fold0_0.8422_epoch115.pth is running now\n"
     ]
    },
    {
     "name": "stderr",
     "output_type": "stream",
     "text": [
      " 58%|███████████████████████████████████████████████▎                                  | 41/71 [04:41<03:19,  6.64s/it]"
     ]
    },
    {
     "name": "stdout",
     "output_type": "stream",
     "text": [
      "Model 0, /raid/brats2021/pthBraTS2020_IDHGenomics/DynUNetVariants_Brats20/DynUNet_BratsTCGA_3CV_4Chnls1PatchSWIRngr21_2nclass_MorePatchBNormEp500_Fold0_0.8423_epoch197.pth is running now\n",
      "Model 1, /raid/brats2021/pthBraTS2020_IDHGenomics/DynUNetVariants_Brats20/DynUNet_BratsTCGA_3CV_4Chnls1PatchSWIRngr21_2nclass_MorePatchBNormEp500_Fold0_0.8422_epoch115.pth is running now\n"
     ]
    },
    {
     "name": "stderr",
     "output_type": "stream",
     "text": [
      " 59%|████████████████████████████████████████████████▌                                 | 42/71 [04:53<03:56,  8.16s/it]"
     ]
    },
    {
     "name": "stdout",
     "output_type": "stream",
     "text": [
      "Model 0, /raid/brats2021/pthBraTS2020_IDHGenomics/DynUNetVariants_Brats20/DynUNet_BratsTCGA_3CV_4Chnls1PatchSWIRngr21_2nclass_MorePatchBNormEp500_Fold0_0.8423_epoch197.pth is running now\n",
      "Model 1, /raid/brats2021/pthBraTS2020_IDHGenomics/DynUNetVariants_Brats20/DynUNet_BratsTCGA_3CV_4Chnls1PatchSWIRngr21_2nclass_MorePatchBNormEp500_Fold0_0.8422_epoch115.pth is running now\n"
     ]
    },
    {
     "name": "stderr",
     "output_type": "stream",
     "text": [
      " 61%|█████████████████████████████████████████████████▋                                | 43/71 [05:01<03:44,  8.00s/it]"
     ]
    },
    {
     "name": "stdout",
     "output_type": "stream",
     "text": [
      "Model 0, /raid/brats2021/pthBraTS2020_IDHGenomics/DynUNetVariants_Brats20/DynUNet_BratsTCGA_3CV_4Chnls1PatchSWIRngr21_2nclass_MorePatchBNormEp500_Fold0_0.8423_epoch197.pth is running now\n",
      "Model 1, /raid/brats2021/pthBraTS2020_IDHGenomics/DynUNetVariants_Brats20/DynUNet_BratsTCGA_3CV_4Chnls1PatchSWIRngr21_2nclass_MorePatchBNormEp500_Fold0_0.8422_epoch115.pth is running now\n"
     ]
    },
    {
     "name": "stderr",
     "output_type": "stream",
     "text": [
      " 62%|██████████████████████████████████████████████████▊                               | 44/71 [05:04<03:00,  6.68s/it]"
     ]
    },
    {
     "name": "stdout",
     "output_type": "stream",
     "text": [
      "Model 0, /raid/brats2021/pthBraTS2020_IDHGenomics/DynUNetVariants_Brats20/DynUNet_BratsTCGA_3CV_4Chnls1PatchSWIRngr21_2nclass_MorePatchBNormEp500_Fold0_0.8423_epoch197.pth is running now\n",
      "Model 1, /raid/brats2021/pthBraTS2020_IDHGenomics/DynUNetVariants_Brats20/DynUNet_BratsTCGA_3CV_4Chnls1PatchSWIRngr21_2nclass_MorePatchBNormEp500_Fold0_0.8422_epoch115.pth is running now\n"
     ]
    },
    {
     "name": "stderr",
     "output_type": "stream",
     "text": [
      " 63%|███████████████████████████████████████████████████▉                              | 45/71 [05:13<03:06,  7.18s/it]"
     ]
    },
    {
     "name": "stdout",
     "output_type": "stream",
     "text": [
      "Model 0, /raid/brats2021/pthBraTS2020_IDHGenomics/DynUNetVariants_Brats20/DynUNet_BratsTCGA_3CV_4Chnls1PatchSWIRngr21_2nclass_MorePatchBNormEp500_Fold0_0.8423_epoch197.pth is running now\n",
      "Model 1, /raid/brats2021/pthBraTS2020_IDHGenomics/DynUNetVariants_Brats20/DynUNet_BratsTCGA_3CV_4Chnls1PatchSWIRngr21_2nclass_MorePatchBNormEp500_Fold0_0.8422_epoch115.pth is running now\n"
     ]
    },
    {
     "name": "stderr",
     "output_type": "stream",
     "text": [
      " 65%|█████████████████████████████████████████████████████▏                            | 46/71 [05:17<02:39,  6.37s/it]"
     ]
    },
    {
     "name": "stdout",
     "output_type": "stream",
     "text": [
      "Model 0, /raid/brats2021/pthBraTS2020_IDHGenomics/DynUNetVariants_Brats20/DynUNet_BratsTCGA_3CV_4Chnls1PatchSWIRngr21_2nclass_MorePatchBNormEp500_Fold0_0.8423_epoch197.pth is running now\n",
      "Model 1, /raid/brats2021/pthBraTS2020_IDHGenomics/DynUNetVariants_Brats20/DynUNet_BratsTCGA_3CV_4Chnls1PatchSWIRngr21_2nclass_MorePatchBNormEp500_Fold0_0.8422_epoch115.pth is running now\n"
     ]
    },
    {
     "name": "stderr",
     "output_type": "stream",
     "text": [
      " 66%|██████████████████████████████████████████████████████▎                           | 47/71 [05:23<02:27,  6.15s/it]"
     ]
    },
    {
     "name": "stdout",
     "output_type": "stream",
     "text": [
      "Model 0, /raid/brats2021/pthBraTS2020_IDHGenomics/DynUNetVariants_Brats20/DynUNet_BratsTCGA_3CV_4Chnls1PatchSWIRngr21_2nclass_MorePatchBNormEp500_Fold0_0.8423_epoch197.pth is running now\n",
      "Model 1, /raid/brats2021/pthBraTS2020_IDHGenomics/DynUNetVariants_Brats20/DynUNet_BratsTCGA_3CV_4Chnls1PatchSWIRngr21_2nclass_MorePatchBNormEp500_Fold0_0.8422_epoch115.pth is running now\n"
     ]
    },
    {
     "name": "stderr",
     "output_type": "stream",
     "text": [
      " 68%|███████████████████████████████████████████████████████▍                          | 48/71 [05:29<02:20,  6.12s/it]"
     ]
    },
    {
     "name": "stdout",
     "output_type": "stream",
     "text": [
      "Model 0, /raid/brats2021/pthBraTS2020_IDHGenomics/DynUNetVariants_Brats20/DynUNet_BratsTCGA_3CV_4Chnls1PatchSWIRngr21_2nclass_MorePatchBNormEp500_Fold0_0.8423_epoch197.pth is running now\n",
      "Model 1, /raid/brats2021/pthBraTS2020_IDHGenomics/DynUNetVariants_Brats20/DynUNet_BratsTCGA_3CV_4Chnls1PatchSWIRngr21_2nclass_MorePatchBNormEp500_Fold0_0.8422_epoch115.pth is running now\n"
     ]
    },
    {
     "name": "stderr",
     "output_type": "stream",
     "text": [
      " 69%|████████████████████████████████████████████████████████▌                         | 49/71 [05:37<02:29,  6.78s/it]"
     ]
    },
    {
     "name": "stdout",
     "output_type": "stream",
     "text": [
      "Model 0, /raid/brats2021/pthBraTS2020_IDHGenomics/DynUNetVariants_Brats20/DynUNet_BratsTCGA_3CV_4Chnls1PatchSWIRngr21_2nclass_MorePatchBNormEp500_Fold0_0.8423_epoch197.pth is running now\n",
      "Model 1, /raid/brats2021/pthBraTS2020_IDHGenomics/DynUNetVariants_Brats20/DynUNet_BratsTCGA_3CV_4Chnls1PatchSWIRngr21_2nclass_MorePatchBNormEp500_Fold0_0.8422_epoch115.pth is running now\n"
     ]
    },
    {
     "name": "stderr",
     "output_type": "stream",
     "text": [
      " 70%|█████████████████████████████████████████████████████████▋                        | 50/71 [05:46<02:34,  7.36s/it]"
     ]
    },
    {
     "name": "stdout",
     "output_type": "stream",
     "text": [
      "Model 0, /raid/brats2021/pthBraTS2020_IDHGenomics/DynUNetVariants_Brats20/DynUNet_BratsTCGA_3CV_4Chnls1PatchSWIRngr21_2nclass_MorePatchBNormEp500_Fold0_0.8423_epoch197.pth is running now\n",
      "Model 1, /raid/brats2021/pthBraTS2020_IDHGenomics/DynUNetVariants_Brats20/DynUNet_BratsTCGA_3CV_4Chnls1PatchSWIRngr21_2nclass_MorePatchBNormEp500_Fold0_0.8422_epoch115.pth is running now\n"
     ]
    },
    {
     "name": "stderr",
     "output_type": "stream",
     "text": [
      " 72%|██████████████████████████████████████████████████████████▉                       | 51/71 [05:50<02:06,  6.31s/it]"
     ]
    },
    {
     "name": "stdout",
     "output_type": "stream",
     "text": [
      "Model 0, /raid/brats2021/pthBraTS2020_IDHGenomics/DynUNetVariants_Brats20/DynUNet_BratsTCGA_3CV_4Chnls1PatchSWIRngr21_2nclass_MorePatchBNormEp500_Fold0_0.8423_epoch197.pth is running now\n",
      "Model 1, /raid/brats2021/pthBraTS2020_IDHGenomics/DynUNetVariants_Brats20/DynUNet_BratsTCGA_3CV_4Chnls1PatchSWIRngr21_2nclass_MorePatchBNormEp500_Fold0_0.8422_epoch115.pth is running now\n"
     ]
    },
    {
     "name": "stderr",
     "output_type": "stream",
     "text": [
      " 73%|████████████████████████████████████████████████████████████                      | 52/71 [05:56<01:59,  6.31s/it]"
     ]
    },
    {
     "name": "stdout",
     "output_type": "stream",
     "text": [
      "Model 0, /raid/brats2021/pthBraTS2020_IDHGenomics/DynUNetVariants_Brats20/DynUNet_BratsTCGA_3CV_4Chnls1PatchSWIRngr21_2nclass_MorePatchBNormEp500_Fold0_0.8423_epoch197.pth is running now\n",
      "Model 1, /raid/brats2021/pthBraTS2020_IDHGenomics/DynUNetVariants_Brats20/DynUNet_BratsTCGA_3CV_4Chnls1PatchSWIRngr21_2nclass_MorePatchBNormEp500_Fold0_0.8422_epoch115.pth is running now\n"
     ]
    },
    {
     "name": "stderr",
     "output_type": "stream",
     "text": [
      " 75%|█████████████████████████████████████████████████████████████▏                    | 53/71 [06:03<01:59,  6.64s/it]"
     ]
    },
    {
     "name": "stdout",
     "output_type": "stream",
     "text": [
      "Model 0, /raid/brats2021/pthBraTS2020_IDHGenomics/DynUNetVariants_Brats20/DynUNet_BratsTCGA_3CV_4Chnls1PatchSWIRngr21_2nclass_MorePatchBNormEp500_Fold0_0.8423_epoch197.pth is running now\n",
      "Model 1, /raid/brats2021/pthBraTS2020_IDHGenomics/DynUNetVariants_Brats20/DynUNet_BratsTCGA_3CV_4Chnls1PatchSWIRngr21_2nclass_MorePatchBNormEp500_Fold0_0.8422_epoch115.pth is running now\n"
     ]
    },
    {
     "name": "stderr",
     "output_type": "stream",
     "text": [
      " 76%|██████████████████████████████████████████████████████████████▎                   | 54/71 [06:09<01:45,  6.20s/it]"
     ]
    },
    {
     "name": "stdout",
     "output_type": "stream",
     "text": [
      "Model 0, /raid/brats2021/pthBraTS2020_IDHGenomics/DynUNetVariants_Brats20/DynUNet_BratsTCGA_3CV_4Chnls1PatchSWIRngr21_2nclass_MorePatchBNormEp500_Fold0_0.8423_epoch197.pth is running now\n",
      "Model 1, /raid/brats2021/pthBraTS2020_IDHGenomics/DynUNetVariants_Brats20/DynUNet_BratsTCGA_3CV_4Chnls1PatchSWIRngr21_2nclass_MorePatchBNormEp500_Fold0_0.8422_epoch115.pth is running now\n"
     ]
    },
    {
     "name": "stderr",
     "output_type": "stream",
     "text": [
      " 77%|███████████████████████████████████████████████████████████████▌                  | 55/71 [06:15<01:40,  6.31s/it]"
     ]
    },
    {
     "name": "stdout",
     "output_type": "stream",
     "text": [
      "Model 0, /raid/brats2021/pthBraTS2020_IDHGenomics/DynUNetVariants_Brats20/DynUNet_BratsTCGA_3CV_4Chnls1PatchSWIRngr21_2nclass_MorePatchBNormEp500_Fold0_0.8423_epoch197.pth is running now\n",
      "Model 1, /raid/brats2021/pthBraTS2020_IDHGenomics/DynUNetVariants_Brats20/DynUNet_BratsTCGA_3CV_4Chnls1PatchSWIRngr21_2nclass_MorePatchBNormEp500_Fold0_0.8422_epoch115.pth is running now\n"
     ]
    },
    {
     "name": "stderr",
     "output_type": "stream",
     "text": [
      " 79%|████████████████████████████████████████████████████████████████▋                 | 56/71 [06:22<01:36,  6.46s/it]"
     ]
    },
    {
     "name": "stdout",
     "output_type": "stream",
     "text": [
      "Model 0, /raid/brats2021/pthBraTS2020_IDHGenomics/DynUNetVariants_Brats20/DynUNet_BratsTCGA_3CV_4Chnls1PatchSWIRngr21_2nclass_MorePatchBNormEp500_Fold0_0.8423_epoch197.pth is running now\n",
      "Model 1, /raid/brats2021/pthBraTS2020_IDHGenomics/DynUNetVariants_Brats20/DynUNet_BratsTCGA_3CV_4Chnls1PatchSWIRngr21_2nclass_MorePatchBNormEp500_Fold0_0.8422_epoch115.pth is running now\n"
     ]
    },
    {
     "name": "stderr",
     "output_type": "stream",
     "text": [
      " 80%|█████████████████████████████████████████████████████████████████▊                | 57/71 [06:28<01:26,  6.21s/it]"
     ]
    },
    {
     "name": "stdout",
     "output_type": "stream",
     "text": [
      "Model 0, /raid/brats2021/pthBraTS2020_IDHGenomics/DynUNetVariants_Brats20/DynUNet_BratsTCGA_3CV_4Chnls1PatchSWIRngr21_2nclass_MorePatchBNormEp500_Fold0_0.8423_epoch197.pth is running now\n",
      "Model 1, /raid/brats2021/pthBraTS2020_IDHGenomics/DynUNetVariants_Brats20/DynUNet_BratsTCGA_3CV_4Chnls1PatchSWIRngr21_2nclass_MorePatchBNormEp500_Fold0_0.8422_epoch115.pth is running now\n"
     ]
    },
    {
     "name": "stderr",
     "output_type": "stream",
     "text": [
      " 82%|██████████████████████████████████████████████████████████████████▉               | 58/71 [06:35<01:25,  6.61s/it]"
     ]
    },
    {
     "name": "stdout",
     "output_type": "stream",
     "text": [
      "Model 0, /raid/brats2021/pthBraTS2020_IDHGenomics/DynUNetVariants_Brats20/DynUNet_BratsTCGA_3CV_4Chnls1PatchSWIRngr21_2nclass_MorePatchBNormEp500_Fold0_0.8423_epoch197.pth is running now\n",
      "Model 1, /raid/brats2021/pthBraTS2020_IDHGenomics/DynUNetVariants_Brats20/DynUNet_BratsTCGA_3CV_4Chnls1PatchSWIRngr21_2nclass_MorePatchBNormEp500_Fold0_0.8422_epoch115.pth is running now\n"
     ]
    },
    {
     "name": "stderr",
     "output_type": "stream",
     "text": [
      " 83%|████████████████████████████████████████████████████████████████████▏             | 59/71 [06:41<01:17,  6.46s/it]"
     ]
    },
    {
     "name": "stdout",
     "output_type": "stream",
     "text": [
      "Model 0, /raid/brats2021/pthBraTS2020_IDHGenomics/DynUNetVariants_Brats20/DynUNet_BratsTCGA_3CV_4Chnls1PatchSWIRngr21_2nclass_MorePatchBNormEp500_Fold0_0.8423_epoch197.pth is running now\n",
      "Model 1, /raid/brats2021/pthBraTS2020_IDHGenomics/DynUNetVariants_Brats20/DynUNet_BratsTCGA_3CV_4Chnls1PatchSWIRngr21_2nclass_MorePatchBNormEp500_Fold0_0.8422_epoch115.pth is running now\n"
     ]
    },
    {
     "name": "stderr",
     "output_type": "stream",
     "text": [
      " 85%|█████████████████████████████████████████████████████████████████████▎            | 60/71 [06:45<01:01,  5.62s/it]"
     ]
    },
    {
     "name": "stdout",
     "output_type": "stream",
     "text": [
      "Model 0, /raid/brats2021/pthBraTS2020_IDHGenomics/DynUNetVariants_Brats20/DynUNet_BratsTCGA_3CV_4Chnls1PatchSWIRngr21_2nclass_MorePatchBNormEp500_Fold0_0.8423_epoch197.pth is running now\n",
      "Model 1, /raid/brats2021/pthBraTS2020_IDHGenomics/DynUNetVariants_Brats20/DynUNet_BratsTCGA_3CV_4Chnls1PatchSWIRngr21_2nclass_MorePatchBNormEp500_Fold0_0.8422_epoch115.pth is running now\n"
     ]
    },
    {
     "name": "stderr",
     "output_type": "stream",
     "text": [
      " 86%|██████████████████████████████████████████████████████████████████████▍           | 61/71 [06:49<00:49,  5.00s/it]"
     ]
    },
    {
     "name": "stdout",
     "output_type": "stream",
     "text": [
      "Model 0, /raid/brats2021/pthBraTS2020_IDHGenomics/DynUNetVariants_Brats20/DynUNet_BratsTCGA_3CV_4Chnls1PatchSWIRngr21_2nclass_MorePatchBNormEp500_Fold0_0.8423_epoch197.pth is running now\n",
      "Model 1, /raid/brats2021/pthBraTS2020_IDHGenomics/DynUNetVariants_Brats20/DynUNet_BratsTCGA_3CV_4Chnls1PatchSWIRngr21_2nclass_MorePatchBNormEp500_Fold0_0.8422_epoch115.pth is running now\n"
     ]
    },
    {
     "name": "stderr",
     "output_type": "stream",
     "text": [
      " 87%|███████████████████████████████████████████████████████████████████████▌          | 62/71 [06:53<00:42,  4.74s/it]"
     ]
    },
    {
     "name": "stdout",
     "output_type": "stream",
     "text": [
      "Model 0, /raid/brats2021/pthBraTS2020_IDHGenomics/DynUNetVariants_Brats20/DynUNet_BratsTCGA_3CV_4Chnls1PatchSWIRngr21_2nclass_MorePatchBNormEp500_Fold0_0.8423_epoch197.pth is running now\n",
      "Model 1, /raid/brats2021/pthBraTS2020_IDHGenomics/DynUNetVariants_Brats20/DynUNet_BratsTCGA_3CV_4Chnls1PatchSWIRngr21_2nclass_MorePatchBNormEp500_Fold0_0.8422_epoch115.pth is running now\n"
     ]
    },
    {
     "name": "stderr",
     "output_type": "stream",
     "text": [
      " 89%|████████████████████████████████████████████████████████████████████████▊         | 63/71 [06:59<00:42,  5.26s/it]"
     ]
    },
    {
     "name": "stdout",
     "output_type": "stream",
     "text": [
      "Model 0, /raid/brats2021/pthBraTS2020_IDHGenomics/DynUNetVariants_Brats20/DynUNet_BratsTCGA_3CV_4Chnls1PatchSWIRngr21_2nclass_MorePatchBNormEp500_Fold0_0.8423_epoch197.pth is running now\n",
      "Model 1, /raid/brats2021/pthBraTS2020_IDHGenomics/DynUNetVariants_Brats20/DynUNet_BratsTCGA_3CV_4Chnls1PatchSWIRngr21_2nclass_MorePatchBNormEp500_Fold0_0.8422_epoch115.pth is running now\n"
     ]
    },
    {
     "name": "stderr",
     "output_type": "stream",
     "text": [
      " 90%|█████████████████████████████████████████████████████████████████████████▉        | 64/71 [07:12<00:52,  7.45s/it]"
     ]
    },
    {
     "name": "stdout",
     "output_type": "stream",
     "text": [
      "Model 0, /raid/brats2021/pthBraTS2020_IDHGenomics/DynUNetVariants_Brats20/DynUNet_BratsTCGA_3CV_4Chnls1PatchSWIRngr21_2nclass_MorePatchBNormEp500_Fold0_0.8423_epoch197.pth is running now\n",
      "Model 1, /raid/brats2021/pthBraTS2020_IDHGenomics/DynUNetVariants_Brats20/DynUNet_BratsTCGA_3CV_4Chnls1PatchSWIRngr21_2nclass_MorePatchBNormEp500_Fold0_0.8422_epoch115.pth is running now\n"
     ]
    },
    {
     "name": "stderr",
     "output_type": "stream",
     "text": [
      " 92%|███████████████████████████████████████████████████████████████████████████       | 65/71 [07:17<00:41,  6.87s/it]"
     ]
    },
    {
     "name": "stdout",
     "output_type": "stream",
     "text": [
      "Model 0, /raid/brats2021/pthBraTS2020_IDHGenomics/DynUNetVariants_Brats20/DynUNet_BratsTCGA_3CV_4Chnls1PatchSWIRngr21_2nclass_MorePatchBNormEp500_Fold0_0.8423_epoch197.pth is running now\n",
      "Model 1, /raid/brats2021/pthBraTS2020_IDHGenomics/DynUNetVariants_Brats20/DynUNet_BratsTCGA_3CV_4Chnls1PatchSWIRngr21_2nclass_MorePatchBNormEp500_Fold0_0.8422_epoch115.pth is running now\n"
     ]
    },
    {
     "name": "stderr",
     "output_type": "stream",
     "text": [
      " 93%|████████████████████████████████████████████████████████████████████████████▏     | 66/71 [07:22<00:31,  6.33s/it]"
     ]
    },
    {
     "name": "stdout",
     "output_type": "stream",
     "text": [
      "Model 0, /raid/brats2021/pthBraTS2020_IDHGenomics/DynUNetVariants_Brats20/DynUNet_BratsTCGA_3CV_4Chnls1PatchSWIRngr21_2nclass_MorePatchBNormEp500_Fold0_0.8423_epoch197.pth is running now\n",
      "Model 1, /raid/brats2021/pthBraTS2020_IDHGenomics/DynUNetVariants_Brats20/DynUNet_BratsTCGA_3CV_4Chnls1PatchSWIRngr21_2nclass_MorePatchBNormEp500_Fold0_0.8422_epoch115.pth is running now\n"
     ]
    },
    {
     "name": "stderr",
     "output_type": "stream",
     "text": [
      " 94%|█████████████████████████████████████████████████████████████████████████████▍    | 67/71 [07:25<00:21,  5.29s/it]"
     ]
    },
    {
     "name": "stdout",
     "output_type": "stream",
     "text": [
      "Model 0, /raid/brats2021/pthBraTS2020_IDHGenomics/DynUNetVariants_Brats20/DynUNet_BratsTCGA_3CV_4Chnls1PatchSWIRngr21_2nclass_MorePatchBNormEp500_Fold0_0.8423_epoch197.pth is running now\n",
      "Model 1, /raid/brats2021/pthBraTS2020_IDHGenomics/DynUNetVariants_Brats20/DynUNet_BratsTCGA_3CV_4Chnls1PatchSWIRngr21_2nclass_MorePatchBNormEp500_Fold0_0.8422_epoch115.pth is running now\n"
     ]
    },
    {
     "name": "stderr",
     "output_type": "stream",
     "text": [
      " 96%|██████████████████████████████████████████████████████████████████████████████▌   | 68/71 [07:31<00:16,  5.36s/it]"
     ]
    },
    {
     "name": "stdout",
     "output_type": "stream",
     "text": [
      "Model 0, /raid/brats2021/pthBraTS2020_IDHGenomics/DynUNetVariants_Brats20/DynUNet_BratsTCGA_3CV_4Chnls1PatchSWIRngr21_2nclass_MorePatchBNormEp500_Fold0_0.8423_epoch197.pth is running now\n",
      "Model 1, /raid/brats2021/pthBraTS2020_IDHGenomics/DynUNetVariants_Brats20/DynUNet_BratsTCGA_3CV_4Chnls1PatchSWIRngr21_2nclass_MorePatchBNormEp500_Fold0_0.8422_epoch115.pth is running now\n"
     ]
    },
    {
     "name": "stderr",
     "output_type": "stream",
     "text": [
      " 97%|███████████████████████████████████████████████████████████████████████████████▋  | 69/71 [07:39<00:12,  6.17s/it]"
     ]
    },
    {
     "name": "stdout",
     "output_type": "stream",
     "text": [
      "Model 0, /raid/brats2021/pthBraTS2020_IDHGenomics/DynUNetVariants_Brats20/DynUNet_BratsTCGA_3CV_4Chnls1PatchSWIRngr21_2nclass_MorePatchBNormEp500_Fold0_0.8423_epoch197.pth is running now\n",
      "Model 1, /raid/brats2021/pthBraTS2020_IDHGenomics/DynUNetVariants_Brats20/DynUNet_BratsTCGA_3CV_4Chnls1PatchSWIRngr21_2nclass_MorePatchBNormEp500_Fold0_0.8422_epoch115.pth is running now\n"
     ]
    },
    {
     "name": "stderr",
     "output_type": "stream",
     "text": [
      " 99%|████████████████████████████████████████████████████████████████████████████████▊ | 70/71 [07:43<00:05,  5.64s/it]"
     ]
    },
    {
     "name": "stdout",
     "output_type": "stream",
     "text": [
      "Model 0, /raid/brats2021/pthBraTS2020_IDHGenomics/DynUNetVariants_Brats20/DynUNet_BratsTCGA_3CV_4Chnls1PatchSWIRngr21_2nclass_MorePatchBNormEp500_Fold0_0.8423_epoch197.pth is running now\n",
      "Model 1, /raid/brats2021/pthBraTS2020_IDHGenomics/DynUNetVariants_Brats20/DynUNet_BratsTCGA_3CV_4Chnls1PatchSWIRngr21_2nclass_MorePatchBNormEp500_Fold0_0.8422_epoch115.pth is running now\n"
     ]
    },
    {
     "name": "stderr",
     "output_type": "stream",
     "text": [
      "100%|██████████████████████████████████████████████████████████████████████████████████| 71/71 [07:50<00:00,  6.63s/it]\n"
     ]
    },
    {
     "name": "stdout",
     "output_type": "stream",
     "text": [
      "available model file: /raid/brats2021/pthBraTS2020_IDHGenomics/DynUNetVariants_Brats20/DynUNet_BratsTCGA_3CV_4Chnls1PatchSWIRngr21_2nclass_MorePatchBNormEp500_Fold1_0.8695_epoch319.pth.\n",
      "available model file: /raid/brats2021/pthBraTS2020_IDHGenomics/DynUNetVariants_Brats20/DynUNet_BratsTCGA_3CV_4Chnls1PatchSWIRngr21_2nclass_MorePatchBNormEp500_Fold1_0.8692_epoch384.pth.\n"
     ]
    },
    {
     "name": "stderr",
     "output_type": "stream",
     "text": [
      "Modifying image pixdim from [1. 1. 1. 1.] to [  1.           1.           1.         239.00209204]\n",
      "  0%|                                                                                           | 0/72 [00:00<?, ?it/s]"
     ]
    },
    {
     "name": "stdout",
     "output_type": "stream",
     "text": [
      "Model 0, /raid/brats2021/pthBraTS2020_IDHGenomics/DynUNetVariants_Brats20/DynUNet_BratsTCGA_3CV_4Chnls1PatchSWIRngr21_2nclass_MorePatchBNormEp500_Fold1_0.8695_epoch319.pth is running now\n",
      "Model 1, /raid/brats2021/pthBraTS2020_IDHGenomics/DynUNetVariants_Brats20/DynUNet_BratsTCGA_3CV_4Chnls1PatchSWIRngr21_2nclass_MorePatchBNormEp500_Fold1_0.8692_epoch384.pth is running now\n"
     ]
    },
    {
     "name": "stderr",
     "output_type": "stream",
     "text": [
      "  1%|█▏                                                                                 | 1/72 [00:04<05:40,  4.80s/it]"
     ]
    },
    {
     "name": "stdout",
     "output_type": "stream",
     "text": [
      "Model 0, /raid/brats2021/pthBraTS2020_IDHGenomics/DynUNetVariants_Brats20/DynUNet_BratsTCGA_3CV_4Chnls1PatchSWIRngr21_2nclass_MorePatchBNormEp500_Fold1_0.8695_epoch319.pth is running now\n",
      "Model 1, /raid/brats2021/pthBraTS2020_IDHGenomics/DynUNetVariants_Brats20/DynUNet_BratsTCGA_3CV_4Chnls1PatchSWIRngr21_2nclass_MorePatchBNormEp500_Fold1_0.8692_epoch384.pth is running now\n"
     ]
    },
    {
     "name": "stderr",
     "output_type": "stream",
     "text": [
      "  3%|██▎                                                                                | 2/72 [00:15<09:29,  8.13s/it]"
     ]
    },
    {
     "name": "stdout",
     "output_type": "stream",
     "text": [
      "Model 0, /raid/brats2021/pthBraTS2020_IDHGenomics/DynUNetVariants_Brats20/DynUNet_BratsTCGA_3CV_4Chnls1PatchSWIRngr21_2nclass_MorePatchBNormEp500_Fold1_0.8695_epoch319.pth is running now\n",
      "Model 1, /raid/brats2021/pthBraTS2020_IDHGenomics/DynUNetVariants_Brats20/DynUNet_BratsTCGA_3CV_4Chnls1PatchSWIRngr21_2nclass_MorePatchBNormEp500_Fold1_0.8692_epoch384.pth is running now\n"
     ]
    },
    {
     "name": "stderr",
     "output_type": "stream",
     "text": [
      "  4%|███▍                                                                               | 3/72 [00:22<08:59,  7.82s/it]"
     ]
    },
    {
     "name": "stdout",
     "output_type": "stream",
     "text": [
      "Model 0, /raid/brats2021/pthBraTS2020_IDHGenomics/DynUNetVariants_Brats20/DynUNet_BratsTCGA_3CV_4Chnls1PatchSWIRngr21_2nclass_MorePatchBNormEp500_Fold1_0.8695_epoch319.pth is running now\n",
      "Model 1, /raid/brats2021/pthBraTS2020_IDHGenomics/DynUNetVariants_Brats20/DynUNet_BratsTCGA_3CV_4Chnls1PatchSWIRngr21_2nclass_MorePatchBNormEp500_Fold1_0.8692_epoch384.pth is running now\n"
     ]
    },
    {
     "name": "stderr",
     "output_type": "stream",
     "text": [
      "  6%|████▌                                                                              | 4/72 [00:32<09:31,  8.40s/it]"
     ]
    },
    {
     "name": "stdout",
     "output_type": "stream",
     "text": [
      "Model 0, /raid/brats2021/pthBraTS2020_IDHGenomics/DynUNetVariants_Brats20/DynUNet_BratsTCGA_3CV_4Chnls1PatchSWIRngr21_2nclass_MorePatchBNormEp500_Fold1_0.8695_epoch319.pth is running now\n",
      "Model 1, /raid/brats2021/pthBraTS2020_IDHGenomics/DynUNetVariants_Brats20/DynUNet_BratsTCGA_3CV_4Chnls1PatchSWIRngr21_2nclass_MorePatchBNormEp500_Fold1_0.8692_epoch384.pth is running now\n"
     ]
    },
    {
     "name": "stderr",
     "output_type": "stream",
     "text": [
      "  7%|█████▊                                                                             | 5/72 [00:35<07:18,  6.55s/it]"
     ]
    },
    {
     "name": "stdout",
     "output_type": "stream",
     "text": [
      "Model 0, /raid/brats2021/pthBraTS2020_IDHGenomics/DynUNetVariants_Brats20/DynUNet_BratsTCGA_3CV_4Chnls1PatchSWIRngr21_2nclass_MorePatchBNormEp500_Fold1_0.8695_epoch319.pth is running now\n",
      "Model 1, /raid/brats2021/pthBraTS2020_IDHGenomics/DynUNetVariants_Brats20/DynUNet_BratsTCGA_3CV_4Chnls1PatchSWIRngr21_2nclass_MorePatchBNormEp500_Fold1_0.8692_epoch384.pth is running now\n"
     ]
    },
    {
     "name": "stderr",
     "output_type": "stream",
     "text": [
      "  8%|██████▉                                                                            | 6/72 [00:39<06:18,  5.74s/it]"
     ]
    },
    {
     "name": "stdout",
     "output_type": "stream",
     "text": [
      "Model 0, /raid/brats2021/pthBraTS2020_IDHGenomics/DynUNetVariants_Brats20/DynUNet_BratsTCGA_3CV_4Chnls1PatchSWIRngr21_2nclass_MorePatchBNormEp500_Fold1_0.8695_epoch319.pth is running now\n",
      "Model 1, /raid/brats2021/pthBraTS2020_IDHGenomics/DynUNetVariants_Brats20/DynUNet_BratsTCGA_3CV_4Chnls1PatchSWIRngr21_2nclass_MorePatchBNormEp500_Fold1_0.8692_epoch384.pth is running now\n"
     ]
    },
    {
     "name": "stderr",
     "output_type": "stream",
     "text": [
      " 10%|████████                                                                           | 7/72 [00:44<05:58,  5.51s/it]"
     ]
    },
    {
     "name": "stdout",
     "output_type": "stream",
     "text": [
      "Model 0, /raid/brats2021/pthBraTS2020_IDHGenomics/DynUNetVariants_Brats20/DynUNet_BratsTCGA_3CV_4Chnls1PatchSWIRngr21_2nclass_MorePatchBNormEp500_Fold1_0.8695_epoch319.pth is running now\n",
      "Model 1, /raid/brats2021/pthBraTS2020_IDHGenomics/DynUNetVariants_Brats20/DynUNet_BratsTCGA_3CV_4Chnls1PatchSWIRngr21_2nclass_MorePatchBNormEp500_Fold1_0.8692_epoch384.pth is running now\n"
     ]
    },
    {
     "name": "stderr",
     "output_type": "stream",
     "text": [
      " 11%|█████████▏                                                                         | 8/72 [00:48<05:23,  5.06s/it]"
     ]
    },
    {
     "name": "stdout",
     "output_type": "stream",
     "text": [
      "Model 0, /raid/brats2021/pthBraTS2020_IDHGenomics/DynUNetVariants_Brats20/DynUNet_BratsTCGA_3CV_4Chnls1PatchSWIRngr21_2nclass_MorePatchBNormEp500_Fold1_0.8695_epoch319.pth is running now\n",
      "Model 1, /raid/brats2021/pthBraTS2020_IDHGenomics/DynUNetVariants_Brats20/DynUNet_BratsTCGA_3CV_4Chnls1PatchSWIRngr21_2nclass_MorePatchBNormEp500_Fold1_0.8692_epoch384.pth is running now\n"
     ]
    },
    {
     "name": "stderr",
     "output_type": "stream",
     "text": [
      " 12%|██████████▍                                                                        | 9/72 [00:55<05:57,  5.68s/it]"
     ]
    },
    {
     "name": "stdout",
     "output_type": "stream",
     "text": [
      "Model 0, /raid/brats2021/pthBraTS2020_IDHGenomics/DynUNetVariants_Brats20/DynUNet_BratsTCGA_3CV_4Chnls1PatchSWIRngr21_2nclass_MorePatchBNormEp500_Fold1_0.8695_epoch319.pth is running now\n",
      "Model 1, /raid/brats2021/pthBraTS2020_IDHGenomics/DynUNetVariants_Brats20/DynUNet_BratsTCGA_3CV_4Chnls1PatchSWIRngr21_2nclass_MorePatchBNormEp500_Fold1_0.8692_epoch384.pth is running now\n"
     ]
    },
    {
     "name": "stderr",
     "output_type": "stream",
     "text": [
      " 14%|███████████▍                                                                      | 10/72 [01:08<08:10,  7.91s/it]"
     ]
    },
    {
     "name": "stdout",
     "output_type": "stream",
     "text": [
      "Model 0, /raid/brats2021/pthBraTS2020_IDHGenomics/DynUNetVariants_Brats20/DynUNet_BratsTCGA_3CV_4Chnls1PatchSWIRngr21_2nclass_MorePatchBNormEp500_Fold1_0.8695_epoch319.pth is running now\n",
      "Model 1, /raid/brats2021/pthBraTS2020_IDHGenomics/DynUNetVariants_Brats20/DynUNet_BratsTCGA_3CV_4Chnls1PatchSWIRngr21_2nclass_MorePatchBNormEp500_Fold1_0.8692_epoch384.pth is running now\n"
     ]
    },
    {
     "name": "stderr",
     "output_type": "stream",
     "text": [
      " 15%|████████████▌                                                                     | 11/72 [01:13<07:06,  6.99s/it]"
     ]
    },
    {
     "name": "stdout",
     "output_type": "stream",
     "text": [
      "Model 0, /raid/brats2021/pthBraTS2020_IDHGenomics/DynUNetVariants_Brats20/DynUNet_BratsTCGA_3CV_4Chnls1PatchSWIRngr21_2nclass_MorePatchBNormEp500_Fold1_0.8695_epoch319.pth is running now\n",
      "Model 1, /raid/brats2021/pthBraTS2020_IDHGenomics/DynUNetVariants_Brats20/DynUNet_BratsTCGA_3CV_4Chnls1PatchSWIRngr21_2nclass_MorePatchBNormEp500_Fold1_0.8692_epoch384.pth is running now\n"
     ]
    },
    {
     "name": "stderr",
     "output_type": "stream",
     "text": [
      " 17%|█████████████▋                                                                    | 12/72 [01:21<07:14,  7.25s/it]"
     ]
    },
    {
     "name": "stdout",
     "output_type": "stream",
     "text": [
      "Model 0, /raid/brats2021/pthBraTS2020_IDHGenomics/DynUNetVariants_Brats20/DynUNet_BratsTCGA_3CV_4Chnls1PatchSWIRngr21_2nclass_MorePatchBNormEp500_Fold1_0.8695_epoch319.pth is running now\n",
      "Model 1, /raid/brats2021/pthBraTS2020_IDHGenomics/DynUNetVariants_Brats20/DynUNet_BratsTCGA_3CV_4Chnls1PatchSWIRngr21_2nclass_MorePatchBNormEp500_Fold1_0.8692_epoch384.pth is running now\n"
     ]
    },
    {
     "name": "stderr",
     "output_type": "stream",
     "text": [
      " 18%|██████████████▊                                                                   | 13/72 [01:27<06:50,  6.96s/it]"
     ]
    },
    {
     "name": "stdout",
     "output_type": "stream",
     "text": [
      "Model 0, /raid/brats2021/pthBraTS2020_IDHGenomics/DynUNetVariants_Brats20/DynUNet_BratsTCGA_3CV_4Chnls1PatchSWIRngr21_2nclass_MorePatchBNormEp500_Fold1_0.8695_epoch319.pth is running now\n",
      "Model 1, /raid/brats2021/pthBraTS2020_IDHGenomics/DynUNetVariants_Brats20/DynUNet_BratsTCGA_3CV_4Chnls1PatchSWIRngr21_2nclass_MorePatchBNormEp500_Fold1_0.8692_epoch384.pth is running now\n"
     ]
    },
    {
     "name": "stderr",
     "output_type": "stream",
     "text": [
      " 19%|███████████████▉                                                                  | 14/72 [01:33<06:19,  6.55s/it]"
     ]
    },
    {
     "name": "stdout",
     "output_type": "stream",
     "text": [
      "Model 0, /raid/brats2021/pthBraTS2020_IDHGenomics/DynUNetVariants_Brats20/DynUNet_BratsTCGA_3CV_4Chnls1PatchSWIRngr21_2nclass_MorePatchBNormEp500_Fold1_0.8695_epoch319.pth is running now\n",
      "Model 1, /raid/brats2021/pthBraTS2020_IDHGenomics/DynUNetVariants_Brats20/DynUNet_BratsTCGA_3CV_4Chnls1PatchSWIRngr21_2nclass_MorePatchBNormEp500_Fold1_0.8692_epoch384.pth is running now\n"
     ]
    },
    {
     "name": "stderr",
     "output_type": "stream",
     "text": [
      " 21%|█████████████████                                                                 | 15/72 [01:38<05:56,  6.26s/it]"
     ]
    },
    {
     "name": "stdout",
     "output_type": "stream",
     "text": [
      "Model 0, /raid/brats2021/pthBraTS2020_IDHGenomics/DynUNetVariants_Brats20/DynUNet_BratsTCGA_3CV_4Chnls1PatchSWIRngr21_2nclass_MorePatchBNormEp500_Fold1_0.8695_epoch319.pth is running now\n",
      "Model 1, /raid/brats2021/pthBraTS2020_IDHGenomics/DynUNetVariants_Brats20/DynUNet_BratsTCGA_3CV_4Chnls1PatchSWIRngr21_2nclass_MorePatchBNormEp500_Fold1_0.8692_epoch384.pth is running now\n"
     ]
    },
    {
     "name": "stderr",
     "output_type": "stream",
     "text": [
      " 22%|██████████████████▏                                                               | 16/72 [01:47<06:25,  6.88s/it]"
     ]
    },
    {
     "name": "stdout",
     "output_type": "stream",
     "text": [
      "Model 0, /raid/brats2021/pthBraTS2020_IDHGenomics/DynUNetVariants_Brats20/DynUNet_BratsTCGA_3CV_4Chnls1PatchSWIRngr21_2nclass_MorePatchBNormEp500_Fold1_0.8695_epoch319.pth is running now\n",
      "Model 1, /raid/brats2021/pthBraTS2020_IDHGenomics/DynUNetVariants_Brats20/DynUNet_BratsTCGA_3CV_4Chnls1PatchSWIRngr21_2nclass_MorePatchBNormEp500_Fold1_0.8692_epoch384.pth is running now\n"
     ]
    },
    {
     "name": "stderr",
     "output_type": "stream",
     "text": [
      " 24%|███████████████████▎                                                              | 17/72 [01:51<05:32,  6.05s/it]"
     ]
    },
    {
     "name": "stdout",
     "output_type": "stream",
     "text": [
      "Model 0, /raid/brats2021/pthBraTS2020_IDHGenomics/DynUNetVariants_Brats20/DynUNet_BratsTCGA_3CV_4Chnls1PatchSWIRngr21_2nclass_MorePatchBNormEp500_Fold1_0.8695_epoch319.pth is running now\n",
      "Model 1, /raid/brats2021/pthBraTS2020_IDHGenomics/DynUNetVariants_Brats20/DynUNet_BratsTCGA_3CV_4Chnls1PatchSWIRngr21_2nclass_MorePatchBNormEp500_Fold1_0.8692_epoch384.pth is running now\n"
     ]
    },
    {
     "name": "stderr",
     "output_type": "stream",
     "text": [
      " 25%|████████████████████▌                                                             | 18/72 [01:57<05:35,  6.22s/it]"
     ]
    },
    {
     "name": "stdout",
     "output_type": "stream",
     "text": [
      "Model 0, /raid/brats2021/pthBraTS2020_IDHGenomics/DynUNetVariants_Brats20/DynUNet_BratsTCGA_3CV_4Chnls1PatchSWIRngr21_2nclass_MorePatchBNormEp500_Fold1_0.8695_epoch319.pth is running now\n",
      "Model 1, /raid/brats2021/pthBraTS2020_IDHGenomics/DynUNetVariants_Brats20/DynUNet_BratsTCGA_3CV_4Chnls1PatchSWIRngr21_2nclass_MorePatchBNormEp500_Fold1_0.8692_epoch384.pth is running now\n"
     ]
    },
    {
     "name": "stderr",
     "output_type": "stream",
     "text": [
      " 26%|█████████████████████▋                                                            | 19/72 [02:07<06:23,  7.25s/it]"
     ]
    },
    {
     "name": "stdout",
     "output_type": "stream",
     "text": [
      "Model 0, /raid/brats2021/pthBraTS2020_IDHGenomics/DynUNetVariants_Brats20/DynUNet_BratsTCGA_3CV_4Chnls1PatchSWIRngr21_2nclass_MorePatchBNormEp500_Fold1_0.8695_epoch319.pth is running now\n",
      "Model 1, /raid/brats2021/pthBraTS2020_IDHGenomics/DynUNetVariants_Brats20/DynUNet_BratsTCGA_3CV_4Chnls1PatchSWIRngr21_2nclass_MorePatchBNormEp500_Fold1_0.8692_epoch384.pth is running now\n"
     ]
    },
    {
     "name": "stderr",
     "output_type": "stream",
     "text": [
      " 28%|██████████████████████▊                                                           | 20/72 [02:13<05:55,  6.83s/it]"
     ]
    },
    {
     "name": "stdout",
     "output_type": "stream",
     "text": [
      "Model 0, /raid/brats2021/pthBraTS2020_IDHGenomics/DynUNetVariants_Brats20/DynUNet_BratsTCGA_3CV_4Chnls1PatchSWIRngr21_2nclass_MorePatchBNormEp500_Fold1_0.8695_epoch319.pth is running now\n",
      "Model 1, /raid/brats2021/pthBraTS2020_IDHGenomics/DynUNetVariants_Brats20/DynUNet_BratsTCGA_3CV_4Chnls1PatchSWIRngr21_2nclass_MorePatchBNormEp500_Fold1_0.8692_epoch384.pth is running now\n"
     ]
    },
    {
     "name": "stderr",
     "output_type": "stream",
     "text": [
      " 29%|███████████████████████▉                                                          | 21/72 [02:18<05:21,  6.30s/it]"
     ]
    },
    {
     "name": "stdout",
     "output_type": "stream",
     "text": [
      "Model 0, /raid/brats2021/pthBraTS2020_IDHGenomics/DynUNetVariants_Brats20/DynUNet_BratsTCGA_3CV_4Chnls1PatchSWIRngr21_2nclass_MorePatchBNormEp500_Fold1_0.8695_epoch319.pth is running now\n",
      "Model 1, /raid/brats2021/pthBraTS2020_IDHGenomics/DynUNetVariants_Brats20/DynUNet_BratsTCGA_3CV_4Chnls1PatchSWIRngr21_2nclass_MorePatchBNormEp500_Fold1_0.8692_epoch384.pth is running now\n"
     ]
    },
    {
     "name": "stderr",
     "output_type": "stream",
     "text": [
      " 31%|█████████████████████████                                                         | 22/72 [02:26<05:39,  6.79s/it]"
     ]
    },
    {
     "name": "stdout",
     "output_type": "stream",
     "text": [
      "Model 0, /raid/brats2021/pthBraTS2020_IDHGenomics/DynUNetVariants_Brats20/DynUNet_BratsTCGA_3CV_4Chnls1PatchSWIRngr21_2nclass_MorePatchBNormEp500_Fold1_0.8695_epoch319.pth is running now\n",
      "Model 1, /raid/brats2021/pthBraTS2020_IDHGenomics/DynUNetVariants_Brats20/DynUNet_BratsTCGA_3CV_4Chnls1PatchSWIRngr21_2nclass_MorePatchBNormEp500_Fold1_0.8692_epoch384.pth is running now\n"
     ]
    },
    {
     "name": "stderr",
     "output_type": "stream",
     "text": [
      " 32%|██████████████████████████▏                                                       | 23/72 [02:30<04:47,  5.87s/it]"
     ]
    },
    {
     "name": "stdout",
     "output_type": "stream",
     "text": [
      "Model 0, /raid/brats2021/pthBraTS2020_IDHGenomics/DynUNetVariants_Brats20/DynUNet_BratsTCGA_3CV_4Chnls1PatchSWIRngr21_2nclass_MorePatchBNormEp500_Fold1_0.8695_epoch319.pth is running now\n",
      "Model 1, /raid/brats2021/pthBraTS2020_IDHGenomics/DynUNetVariants_Brats20/DynUNet_BratsTCGA_3CV_4Chnls1PatchSWIRngr21_2nclass_MorePatchBNormEp500_Fold1_0.8692_epoch384.pth is running now\n"
     ]
    },
    {
     "name": "stderr",
     "output_type": "stream",
     "text": [
      " 33%|███████████████████████████▎                                                      | 24/72 [02:34<04:20,  5.42s/it]"
     ]
    },
    {
     "name": "stdout",
     "output_type": "stream",
     "text": [
      "Model 0, /raid/brats2021/pthBraTS2020_IDHGenomics/DynUNetVariants_Brats20/DynUNet_BratsTCGA_3CV_4Chnls1PatchSWIRngr21_2nclass_MorePatchBNormEp500_Fold1_0.8695_epoch319.pth is running now\n",
      "Model 1, /raid/brats2021/pthBraTS2020_IDHGenomics/DynUNetVariants_Brats20/DynUNet_BratsTCGA_3CV_4Chnls1PatchSWIRngr21_2nclass_MorePatchBNormEp500_Fold1_0.8692_epoch384.pth is running now\n"
     ]
    },
    {
     "name": "stderr",
     "output_type": "stream",
     "text": [
      " 35%|████████████████████████████▍                                                     | 25/72 [02:40<04:19,  5.52s/it]"
     ]
    },
    {
     "name": "stdout",
     "output_type": "stream",
     "text": [
      "Model 0, /raid/brats2021/pthBraTS2020_IDHGenomics/DynUNetVariants_Brats20/DynUNet_BratsTCGA_3CV_4Chnls1PatchSWIRngr21_2nclass_MorePatchBNormEp500_Fold1_0.8695_epoch319.pth is running now\n",
      "Model 1, /raid/brats2021/pthBraTS2020_IDHGenomics/DynUNetVariants_Brats20/DynUNet_BratsTCGA_3CV_4Chnls1PatchSWIRngr21_2nclass_MorePatchBNormEp500_Fold1_0.8692_epoch384.pth is running now\n"
     ]
    },
    {
     "name": "stderr",
     "output_type": "stream",
     "text": [
      " 36%|█████████████████████████████▌                                                    | 26/72 [02:47<04:44,  6.19s/it]"
     ]
    },
    {
     "name": "stdout",
     "output_type": "stream",
     "text": [
      "Model 0, /raid/brats2021/pthBraTS2020_IDHGenomics/DynUNetVariants_Brats20/DynUNet_BratsTCGA_3CV_4Chnls1PatchSWIRngr21_2nclass_MorePatchBNormEp500_Fold1_0.8695_epoch319.pth is running now\n",
      "Model 1, /raid/brats2021/pthBraTS2020_IDHGenomics/DynUNetVariants_Brats20/DynUNet_BratsTCGA_3CV_4Chnls1PatchSWIRngr21_2nclass_MorePatchBNormEp500_Fold1_0.8692_epoch384.pth is running now\n"
     ]
    },
    {
     "name": "stderr",
     "output_type": "stream",
     "text": [
      " 38%|██████████████████████████████▊                                                   | 27/72 [02:56<05:13,  6.98s/it]"
     ]
    },
    {
     "name": "stdout",
     "output_type": "stream",
     "text": [
      "Model 0, /raid/brats2021/pthBraTS2020_IDHGenomics/DynUNetVariants_Brats20/DynUNet_BratsTCGA_3CV_4Chnls1PatchSWIRngr21_2nclass_MorePatchBNormEp500_Fold1_0.8695_epoch319.pth is running now\n",
      "Model 1, /raid/brats2021/pthBraTS2020_IDHGenomics/DynUNetVariants_Brats20/DynUNet_BratsTCGA_3CV_4Chnls1PatchSWIRngr21_2nclass_MorePatchBNormEp500_Fold1_0.8692_epoch384.pth is running now\n"
     ]
    },
    {
     "name": "stderr",
     "output_type": "stream",
     "text": [
      " 39%|███████████████████████████████▉                                                  | 28/72 [03:00<04:27,  6.08s/it]"
     ]
    },
    {
     "name": "stdout",
     "output_type": "stream",
     "text": [
      "Model 0, /raid/brats2021/pthBraTS2020_IDHGenomics/DynUNetVariants_Brats20/DynUNet_BratsTCGA_3CV_4Chnls1PatchSWIRngr21_2nclass_MorePatchBNormEp500_Fold1_0.8695_epoch319.pth is running now\n",
      "Model 1, /raid/brats2021/pthBraTS2020_IDHGenomics/DynUNetVariants_Brats20/DynUNet_BratsTCGA_3CV_4Chnls1PatchSWIRngr21_2nclass_MorePatchBNormEp500_Fold1_0.8692_epoch384.pth is running now\n"
     ]
    },
    {
     "name": "stderr",
     "output_type": "stream",
     "text": [
      " 40%|█████████████████████████████████                                                 | 29/72 [03:10<05:11,  7.24s/it]"
     ]
    },
    {
     "name": "stdout",
     "output_type": "stream",
     "text": [
      "Model 0, /raid/brats2021/pthBraTS2020_IDHGenomics/DynUNetVariants_Brats20/DynUNet_BratsTCGA_3CV_4Chnls1PatchSWIRngr21_2nclass_MorePatchBNormEp500_Fold1_0.8695_epoch319.pth is running now\n",
      "Model 1, /raid/brats2021/pthBraTS2020_IDHGenomics/DynUNetVariants_Brats20/DynUNet_BratsTCGA_3CV_4Chnls1PatchSWIRngr21_2nclass_MorePatchBNormEp500_Fold1_0.8692_epoch384.pth is running now\n"
     ]
    },
    {
     "name": "stderr",
     "output_type": "stream",
     "text": [
      " 42%|██████████████████████████████████▏                                               | 30/72 [03:16<04:41,  6.70s/it]"
     ]
    },
    {
     "name": "stdout",
     "output_type": "stream",
     "text": [
      "Model 0, /raid/brats2021/pthBraTS2020_IDHGenomics/DynUNetVariants_Brats20/DynUNet_BratsTCGA_3CV_4Chnls1PatchSWIRngr21_2nclass_MorePatchBNormEp500_Fold1_0.8695_epoch319.pth is running now\n",
      "Model 1, /raid/brats2021/pthBraTS2020_IDHGenomics/DynUNetVariants_Brats20/DynUNet_BratsTCGA_3CV_4Chnls1PatchSWIRngr21_2nclass_MorePatchBNormEp500_Fold1_0.8692_epoch384.pth is running now\n"
     ]
    },
    {
     "name": "stderr",
     "output_type": "stream",
     "text": [
      " 43%|███████████████████████████████████▎                                              | 31/72 [03:21<04:16,  6.27s/it]"
     ]
    },
    {
     "name": "stdout",
     "output_type": "stream",
     "text": [
      "Model 0, /raid/brats2021/pthBraTS2020_IDHGenomics/DynUNetVariants_Brats20/DynUNet_BratsTCGA_3CV_4Chnls1PatchSWIRngr21_2nclass_MorePatchBNormEp500_Fold1_0.8695_epoch319.pth is running now\n",
      "Model 1, /raid/brats2021/pthBraTS2020_IDHGenomics/DynUNetVariants_Brats20/DynUNet_BratsTCGA_3CV_4Chnls1PatchSWIRngr21_2nclass_MorePatchBNormEp500_Fold1_0.8692_epoch384.pth is running now\n"
     ]
    },
    {
     "name": "stderr",
     "output_type": "stream",
     "text": [
      " 44%|████████████████████████████████████▍                                             | 32/72 [03:27<04:11,  6.28s/it]"
     ]
    },
    {
     "name": "stdout",
     "output_type": "stream",
     "text": [
      "Model 0, /raid/brats2021/pthBraTS2020_IDHGenomics/DynUNetVariants_Brats20/DynUNet_BratsTCGA_3CV_4Chnls1PatchSWIRngr21_2nclass_MorePatchBNormEp500_Fold1_0.8695_epoch319.pth is running now\n",
      "Model 1, /raid/brats2021/pthBraTS2020_IDHGenomics/DynUNetVariants_Brats20/DynUNet_BratsTCGA_3CV_4Chnls1PatchSWIRngr21_2nclass_MorePatchBNormEp500_Fold1_0.8692_epoch384.pth is running now\n"
     ]
    },
    {
     "name": "stderr",
     "output_type": "stream",
     "text": [
      " 46%|█████████████████████████████████████▌                                            | 33/72 [03:36<04:36,  7.08s/it]"
     ]
    },
    {
     "name": "stdout",
     "output_type": "stream",
     "text": [
      "Model 0, /raid/brats2021/pthBraTS2020_IDHGenomics/DynUNetVariants_Brats20/DynUNet_BratsTCGA_3CV_4Chnls1PatchSWIRngr21_2nclass_MorePatchBNormEp500_Fold1_0.8695_epoch319.pth is running now\n",
      "Model 1, /raid/brats2021/pthBraTS2020_IDHGenomics/DynUNetVariants_Brats20/DynUNet_BratsTCGA_3CV_4Chnls1PatchSWIRngr21_2nclass_MorePatchBNormEp500_Fold1_0.8692_epoch384.pth is running now\n"
     ]
    },
    {
     "name": "stderr",
     "output_type": "stream",
     "text": [
      " 47%|██████████████████████████████████████▋                                           | 34/72 [03:41<03:59,  6.30s/it]"
     ]
    },
    {
     "name": "stdout",
     "output_type": "stream",
     "text": [
      "Model 0, /raid/brats2021/pthBraTS2020_IDHGenomics/DynUNetVariants_Brats20/DynUNet_BratsTCGA_3CV_4Chnls1PatchSWIRngr21_2nclass_MorePatchBNormEp500_Fold1_0.8695_epoch319.pth is running now\n",
      "Model 1, /raid/brats2021/pthBraTS2020_IDHGenomics/DynUNetVariants_Brats20/DynUNet_BratsTCGA_3CV_4Chnls1PatchSWIRngr21_2nclass_MorePatchBNormEp500_Fold1_0.8692_epoch384.pth is running now\n"
     ]
    },
    {
     "name": "stderr",
     "output_type": "stream",
     "text": [
      " 49%|███████████████████████████████████████▊                                          | 35/72 [03:49<04:14,  6.87s/it]"
     ]
    },
    {
     "name": "stdout",
     "output_type": "stream",
     "text": [
      "Model 0, /raid/brats2021/pthBraTS2020_IDHGenomics/DynUNetVariants_Brats20/DynUNet_BratsTCGA_3CV_4Chnls1PatchSWIRngr21_2nclass_MorePatchBNormEp500_Fold1_0.8695_epoch319.pth is running now\n",
      "Model 1, /raid/brats2021/pthBraTS2020_IDHGenomics/DynUNetVariants_Brats20/DynUNet_BratsTCGA_3CV_4Chnls1PatchSWIRngr21_2nclass_MorePatchBNormEp500_Fold1_0.8692_epoch384.pth is running now\n"
     ]
    },
    {
     "name": "stderr",
     "output_type": "stream",
     "text": [
      " 50%|█████████████████████████████████████████                                         | 36/72 [03:57<04:18,  7.18s/it]"
     ]
    },
    {
     "name": "stdout",
     "output_type": "stream",
     "text": [
      "Model 0, /raid/brats2021/pthBraTS2020_IDHGenomics/DynUNetVariants_Brats20/DynUNet_BratsTCGA_3CV_4Chnls1PatchSWIRngr21_2nclass_MorePatchBNormEp500_Fold1_0.8695_epoch319.pth is running now\n",
      "Model 1, /raid/brats2021/pthBraTS2020_IDHGenomics/DynUNetVariants_Brats20/DynUNet_BratsTCGA_3CV_4Chnls1PatchSWIRngr21_2nclass_MorePatchBNormEp500_Fold1_0.8692_epoch384.pth is running now\n"
     ]
    },
    {
     "name": "stderr",
     "output_type": "stream",
     "text": [
      " 51%|██████████████████████████████████████████▏                                       | 37/72 [04:02<03:53,  6.67s/it]"
     ]
    },
    {
     "name": "stdout",
     "output_type": "stream",
     "text": [
      "Model 0, /raid/brats2021/pthBraTS2020_IDHGenomics/DynUNetVariants_Brats20/DynUNet_BratsTCGA_3CV_4Chnls1PatchSWIRngr21_2nclass_MorePatchBNormEp500_Fold1_0.8695_epoch319.pth is running now\n",
      "Model 1, /raid/brats2021/pthBraTS2020_IDHGenomics/DynUNetVariants_Brats20/DynUNet_BratsTCGA_3CV_4Chnls1PatchSWIRngr21_2nclass_MorePatchBNormEp500_Fold1_0.8692_epoch384.pth is running now\n"
     ]
    },
    {
     "name": "stderr",
     "output_type": "stream",
     "text": [
      " 53%|███████████████████████████████████████████▎                                      | 38/72 [04:12<04:17,  7.59s/it]"
     ]
    },
    {
     "name": "stdout",
     "output_type": "stream",
     "text": [
      "Model 0, /raid/brats2021/pthBraTS2020_IDHGenomics/DynUNetVariants_Brats20/DynUNet_BratsTCGA_3CV_4Chnls1PatchSWIRngr21_2nclass_MorePatchBNormEp500_Fold1_0.8695_epoch319.pth is running now\n",
      "Model 1, /raid/brats2021/pthBraTS2020_IDHGenomics/DynUNetVariants_Brats20/DynUNet_BratsTCGA_3CV_4Chnls1PatchSWIRngr21_2nclass_MorePatchBNormEp500_Fold1_0.8692_epoch384.pth is running now\n"
     ]
    },
    {
     "name": "stderr",
     "output_type": "stream",
     "text": [
      " 54%|████████████████████████████████████████████▍                                     | 39/72 [04:15<03:25,  6.22s/it]"
     ]
    },
    {
     "name": "stdout",
     "output_type": "stream",
     "text": [
      "Model 0, /raid/brats2021/pthBraTS2020_IDHGenomics/DynUNetVariants_Brats20/DynUNet_BratsTCGA_3CV_4Chnls1PatchSWIRngr21_2nclass_MorePatchBNormEp500_Fold1_0.8695_epoch319.pth is running now\n",
      "Model 1, /raid/brats2021/pthBraTS2020_IDHGenomics/DynUNetVariants_Brats20/DynUNet_BratsTCGA_3CV_4Chnls1PatchSWIRngr21_2nclass_MorePatchBNormEp500_Fold1_0.8692_epoch384.pth is running now\n"
     ]
    },
    {
     "name": "stderr",
     "output_type": "stream",
     "text": [
      " 56%|█████████████████████████████████████████████▌                                    | 40/72 [04:22<03:25,  6.41s/it]"
     ]
    },
    {
     "name": "stdout",
     "output_type": "stream",
     "text": [
      "Model 0, /raid/brats2021/pthBraTS2020_IDHGenomics/DynUNetVariants_Brats20/DynUNet_BratsTCGA_3CV_4Chnls1PatchSWIRngr21_2nclass_MorePatchBNormEp500_Fold1_0.8695_epoch319.pth is running now\n",
      "Model 1, /raid/brats2021/pthBraTS2020_IDHGenomics/DynUNetVariants_Brats20/DynUNet_BratsTCGA_3CV_4Chnls1PatchSWIRngr21_2nclass_MorePatchBNormEp500_Fold1_0.8692_epoch384.pth is running now\n"
     ]
    },
    {
     "name": "stderr",
     "output_type": "stream",
     "text": [
      " 57%|██████████████████████████████████████████████▋                                   | 41/72 [04:29<03:30,  6.78s/it]"
     ]
    },
    {
     "name": "stdout",
     "output_type": "stream",
     "text": [
      "Model 0, /raid/brats2021/pthBraTS2020_IDHGenomics/DynUNetVariants_Brats20/DynUNet_BratsTCGA_3CV_4Chnls1PatchSWIRngr21_2nclass_MorePatchBNormEp500_Fold1_0.8695_epoch319.pth is running now\n",
      "Model 1, /raid/brats2021/pthBraTS2020_IDHGenomics/DynUNetVariants_Brats20/DynUNet_BratsTCGA_3CV_4Chnls1PatchSWIRngr21_2nclass_MorePatchBNormEp500_Fold1_0.8692_epoch384.pth is running now\n"
     ]
    },
    {
     "name": "stderr",
     "output_type": "stream",
     "text": [
      " 58%|███████████████████████████████████████████████▊                                  | 42/72 [04:34<03:05,  6.19s/it]"
     ]
    },
    {
     "name": "stdout",
     "output_type": "stream",
     "text": [
      "Model 0, /raid/brats2021/pthBraTS2020_IDHGenomics/DynUNetVariants_Brats20/DynUNet_BratsTCGA_3CV_4Chnls1PatchSWIRngr21_2nclass_MorePatchBNormEp500_Fold1_0.8695_epoch319.pth is running now\n",
      "Model 1, /raid/brats2021/pthBraTS2020_IDHGenomics/DynUNetVariants_Brats20/DynUNet_BratsTCGA_3CV_4Chnls1PatchSWIRngr21_2nclass_MorePatchBNormEp500_Fold1_0.8692_epoch384.pth is running now\n"
     ]
    }
   ],
   "source": [
    "n_splits = 3\n",
    "aDCTResultList = list()\n",
    "if start_inference:\n",
    "    #### Running 10 folds\n",
    "    for i in range(0, n_splits):\n",
    "        \n",
    "\n",
    "        \n",
    "        infer_files_fld = copy.deepcopy(BraTS20SubjectsIDHTestDCT[f'fold{i}'])\n",
    "        \n",
    "        infer_dataset_fld = monai.data.Dataset(data=infer_files_fld, transform=val_transforms)\n",
    "       \n",
    "        infer_loader_fld = monai.data.DataLoader(infer_dataset_fld, batch_size=1, shuffle=False) #num_workers=2, pin_memory=True\n",
    "        \n",
    "        aDCTResult = inferWithTA(data_loader = infer_loader_fld, listmodels=modelDCTList[f'fold{i}'], prediction_folder=prediction_folder, topk=len(modelDCTList[f'fold{i}']), num_channels=4,\\\n",
    "                    orientation=\"LPS\", withoptimizer = False, softmaxEnsemble= True, tta = True)\n",
    "        aDCTResult['TestSplitName'] = f\"split{i}\"\n",
    "        aDCTResultList.append(aDCTResult.copy())\n",
    "        \n",
    "    \n",
    "    start_inference = False"
   ]
  },
  {
   "cell_type": "code",
   "execution_count": null,
   "id": "15800f0e",
   "metadata": {},
   "outputs": [],
   "source": [
    "print('Result on the testset (3 testsest from 3 splits)')\n",
    "DFResult = pd.DataFrame.from_dict(aDCTResultList)\n",
    "display(DFResult)\n",
    "DFResult.describe()"
   ]
  },
  {
   "cell_type": "markdown",
   "id": "b2a3b988",
   "metadata": {},
   "source": [
    "### Extracting validation set"
   ]
  },
  {
   "cell_type": "code",
   "execution_count": 62,
   "id": "14ff21eb",
   "metadata": {},
   "outputs": [
    {
     "name": "stdout",
     "output_type": "stream",
     "text": [
      "Result on the validation set (3 validationsets from 3 splits)\n"
     ]
    },
    {
     "data": {
      "text/html": [
       "<div>\n",
       "<style scoped>\n",
       "    .dataframe tbody tr th:only-of-type {\n",
       "        vertical-align: middle;\n",
       "    }\n",
       "\n",
       "    .dataframe tbody tr th {\n",
       "        vertical-align: top;\n",
       "    }\n",
       "\n",
       "    .dataframe thead th {\n",
       "        text-align: right;\n",
       "    }\n",
       "</style>\n",
       "<table border=\"1\" class=\"dataframe\">\n",
       "  <thead>\n",
       "    <tr style=\"text-align: right;\">\n",
       "      <th></th>\n",
       "      <th>ValSplitName</th>\n",
       "      <th>dice_score</th>\n",
       "      <th>acc_metric</th>\n",
       "      <th>accuracy</th>\n",
       "      <th>f1score</th>\n",
       "      <th>NanSubjectNos</th>\n",
       "    </tr>\n",
       "  </thead>\n",
       "  <tbody>\n",
       "    <tr>\n",
       "      <th>0</th>\n",
       "      <td>vsplit0</td>\n",
       "      <td>0.8495</td>\n",
       "      <td>0.8371</td>\n",
       "      <td>0.8451</td>\n",
       "      <td>0.8451</td>\n",
       "      <td>0</td>\n",
       "    </tr>\n",
       "    <tr>\n",
       "      <th>1</th>\n",
       "      <td>vsplit1</td>\n",
       "      <td>0.8634</td>\n",
       "      <td>0.8944</td>\n",
       "      <td>0.9014</td>\n",
       "      <td>0.9014</td>\n",
       "      <td>0</td>\n",
       "    </tr>\n",
       "    <tr>\n",
       "      <th>2</th>\n",
       "      <td>vsplit2</td>\n",
       "      <td>0.8833</td>\n",
       "      <td>0.8719</td>\n",
       "      <td>0.8750</td>\n",
       "      <td>0.8750</td>\n",
       "      <td>0</td>\n",
       "    </tr>\n",
       "  </tbody>\n",
       "</table>\n",
       "</div>"
      ],
      "text/plain": [
       "  ValSplitName  dice_score  acc_metric  accuracy  f1score  NanSubjectNos\n",
       "0      vsplit0      0.8495      0.8371    0.8451   0.8451              0\n",
       "1      vsplit1      0.8634      0.8944    0.9014   0.9014              0\n",
       "2      vsplit2      0.8833      0.8719    0.8750   0.8750              0"
      ]
     },
     "metadata": {},
     "output_type": "display_data"
    },
    {
     "data": {
      "text/html": [
       "<div>\n",
       "<style scoped>\n",
       "    .dataframe tbody tr th:only-of-type {\n",
       "        vertical-align: middle;\n",
       "    }\n",
       "\n",
       "    .dataframe tbody tr th {\n",
       "        vertical-align: top;\n",
       "    }\n",
       "\n",
       "    .dataframe thead th {\n",
       "        text-align: right;\n",
       "    }\n",
       "</style>\n",
       "<table border=\"1\" class=\"dataframe\">\n",
       "  <thead>\n",
       "    <tr style=\"text-align: right;\">\n",
       "      <th></th>\n",
       "      <th>dice_score</th>\n",
       "      <th>acc_metric</th>\n",
       "      <th>accuracy</th>\n",
       "      <th>f1score</th>\n",
       "      <th>NanSubjectNos</th>\n",
       "    </tr>\n",
       "  </thead>\n",
       "  <tbody>\n",
       "    <tr>\n",
       "      <th>count</th>\n",
       "      <td>3.000000</td>\n",
       "      <td>3.000000</td>\n",
       "      <td>3.000000</td>\n",
       "      <td>3.000000</td>\n",
       "      <td>3.0</td>\n",
       "    </tr>\n",
       "    <tr>\n",
       "      <th>mean</th>\n",
       "      <td>0.865400</td>\n",
       "      <td>0.867800</td>\n",
       "      <td>0.873833</td>\n",
       "      <td>0.873833</td>\n",
       "      <td>0.0</td>\n",
       "    </tr>\n",
       "    <tr>\n",
       "      <th>std</th>\n",
       "      <td>0.016989</td>\n",
       "      <td>0.028869</td>\n",
       "      <td>0.028168</td>\n",
       "      <td>0.028168</td>\n",
       "      <td>0.0</td>\n",
       "    </tr>\n",
       "    <tr>\n",
       "      <th>min</th>\n",
       "      <td>0.849500</td>\n",
       "      <td>0.837100</td>\n",
       "      <td>0.845100</td>\n",
       "      <td>0.845100</td>\n",
       "      <td>0.0</td>\n",
       "    </tr>\n",
       "    <tr>\n",
       "      <th>25%</th>\n",
       "      <td>0.856450</td>\n",
       "      <td>0.854500</td>\n",
       "      <td>0.860050</td>\n",
       "      <td>0.860050</td>\n",
       "      <td>0.0</td>\n",
       "    </tr>\n",
       "    <tr>\n",
       "      <th>50%</th>\n",
       "      <td>0.863400</td>\n",
       "      <td>0.871900</td>\n",
       "      <td>0.875000</td>\n",
       "      <td>0.875000</td>\n",
       "      <td>0.0</td>\n",
       "    </tr>\n",
       "    <tr>\n",
       "      <th>75%</th>\n",
       "      <td>0.873350</td>\n",
       "      <td>0.883150</td>\n",
       "      <td>0.888200</td>\n",
       "      <td>0.888200</td>\n",
       "      <td>0.0</td>\n",
       "    </tr>\n",
       "    <tr>\n",
       "      <th>max</th>\n",
       "      <td>0.883300</td>\n",
       "      <td>0.894400</td>\n",
       "      <td>0.901400</td>\n",
       "      <td>0.901400</td>\n",
       "      <td>0.0</td>\n",
       "    </tr>\n",
       "  </tbody>\n",
       "</table>\n",
       "</div>"
      ],
      "text/plain": [
       "       dice_score  acc_metric  accuracy   f1score  NanSubjectNos\n",
       "count    3.000000    3.000000  3.000000  3.000000            3.0\n",
       "mean     0.865400    0.867800  0.873833  0.873833            0.0\n",
       "std      0.016989    0.028869  0.028168  0.028168            0.0\n",
       "min      0.849500    0.837100  0.845100  0.845100            0.0\n",
       "25%      0.856450    0.854500  0.860050  0.860050            0.0\n",
       "50%      0.863400    0.871900  0.875000  0.875000            0.0\n",
       "75%      0.873350    0.883150  0.888200  0.888200            0.0\n",
       "max      0.883300    0.894400  0.901400  0.901400            0.0"
      ]
     },
     "execution_count": 62,
     "metadata": {},
     "output_type": "execute_result"
    }
   ],
   "source": [
    "# current fold: 0 current epoch: 207 dice_score: 0.8495 acc_metric: 0.8371 accuracy: 0.8451, f1score: 0.8451 epoch 207 average training loss: 0.3055 average validation loss: 0.8860 \n",
    "# current fold: 1 current epoch: 75 dice_score: 0.8634 acc_metric: 0.8944 accuracy: 0.9014, f1score: 0.9014 epoch 75 average training loss: 0.8292 average validation loss: 0.8694\n",
    "# current fold: 2 current epoch: 482 dice_score: 0.8833 acc_metric: 0.8719 accuracy: 0.8750, f1score: 0.8750 epoch 482 average training loss: 0.1534 average validation loss: 0.8354\n",
    "\n",
    "print('Result on the validation set (3 validationsets from 3 splits)')\n",
    "valDF = pd.DataFrame.from_dict({'ValSplitName':['vsplit0', 'vsplit1', 'vsplit2'],  \"dice_score\": [0.8495, 0.8634, 0.8833],  'acc_metric':[0.8371, 0.8944, 0.8719], \\\n",
    "                                \"accuracy\": [0.8451, 0.9014, 0.8750],  'f1score':[0.8451, 0.9014, 0.8750], 'NanSubjectNos':[0, 0, 0]})\n",
    "display(valDF)\n",
    "valDF.describe()"
   ]
  },
  {
   "cell_type": "code",
   "execution_count": 46,
   "id": "81e5836c",
   "metadata": {},
   "outputs": [],
   "source": [
    "# from sklearn.datasets import make_multilabel_classification\n",
    "# from sklearn.multioutput import MultiOutputClassifier\n",
    "# from sklearn.linear_model import LogisticRegression\n",
    "# X, y = make_multilabel_classification(random_state=0, n_classes=2)\n",
    "# inner_clf = LogisticRegression(solver=\"liblinear\", random_state=0)\n",
    "# clf = MultiOutputClassifier(inner_clf).fit(X, y)\n",
    "# y_score = np.transpose([y_pred[:, 1] for y_pred in clf.predict_proba(X)])\n",
    "# roc_auc_score(y, y_score, average=None)"
   ]
  },
  {
   "cell_type": "code",
   "execution_count": null,
   "id": "57b8e3eb",
   "metadata": {},
   "outputs": [],
   "source": [
    "# roc_auc_score(y, y_score)"
   ]
  },
  {
   "cell_type": "code",
   "execution_count": null,
   "id": "f7cd6974",
   "metadata": {},
   "outputs": [],
   "source": [
    "def one_hot_permute(x):\n",
    "    return F.one_hot(x.squeeze(dim=0).long(), num_classes=3).permute(2, 0, 1)"
   ]
  },
  {
   "cell_type": "raw",
   "id": "cbc630df",
   "metadata": {},
   "source": [
    "atensor = torch.tensor([[[0, 2, 0, 0],[0, 0, 0, 2],[0, 2, 0, 0]]])\n"
   ]
  },
  {
   "cell_type": "raw",
   "id": "a93d94b5",
   "metadata": {},
   "source": [
    "one_hot_permute(atensor)"
   ]
  },
  {
   "cell_type": "raw",
   "id": "3b973d80",
   "metadata": {},
   "source": [
    "atensor = torch.tensor([[[0, 1, 0, 0],[0, 0, 0, 1],[0, 1, 0, 0]]])\n",
    "one_hot_permute(atensor)"
   ]
  },
  {
   "cell_type": "code",
   "execution_count": null,
   "id": "a2e665f4",
   "metadata": {},
   "outputs": [],
   "source": [
    "xc= torch.tensor([0, 1, 0, 0, 2, 3, 10])\n",
    "if torch.any(torch.eq(xc, 11)):\n",
    "    print('Do')"
   ]
  },
  {
   "cell_type": "code",
   "execution_count": null,
   "id": "b78a9939",
   "metadata": {},
   "outputs": [],
   "source": [
    "xc = torch.tensor([0, 100, 500, 10000, 5])\n",
    "torch.argmax(xc)"
   ]
  },
  {
   "cell_type": "code",
   "execution_count": null,
   "id": "fe544f24",
   "metadata": {},
   "outputs": [],
   "source": [
    "torch.argsort(xc)[-1]"
   ]
  },
  {
   "cell_type": "code",
   "execution_count": null,
   "id": "c28b22bc",
   "metadata": {},
   "outputs": [],
   "source": [
    "import torch\n",
    "is_onehot = True\n",
    "img = torch.ones((1, 64, 64, 64))\n",
    "is_onehot2 = img.shape[0] > 1 if is_onehot is None else is_onehot\n",
    "is_onehot2"
   ]
  },
  {
   "cell_type": "code",
   "execution_count": 52,
   "id": "4f1b3624",
   "metadata": {},
   "outputs": [
    {
     "data": {
      "text/plain": [
       "(1, 1)"
      ]
     },
     "execution_count": 52,
     "metadata": {},
     "output_type": "execute_result"
    }
   ],
   "source": [
    "dd = np.array([[1.]])\n",
    "dd.shape"
   ]
  },
  {
   "cell_type": "code",
   "execution_count": 55,
   "id": "18136e05",
   "metadata": {},
   "outputs": [
    {
     "data": {
      "text/plain": [
       "(2, 1, 1)"
      ]
     },
     "execution_count": 55,
     "metadata": {},
     "output_type": "execute_result"
    }
   ],
   "source": [
    "dx = np.stack([dd, dd], axis = 0)\n",
    "dx.shape"
   ]
  },
  {
   "cell_type": "code",
   "execution_count": 56,
   "id": "962f5a70",
   "metadata": {},
   "outputs": [
    {
     "data": {
      "text/plain": [
       "(4, 1, 1)"
      ]
     },
     "execution_count": 56,
     "metadata": {},
     "output_type": "execute_result"
    }
   ],
   "source": [
    "np.concatenate([dx, dx], axis = 0).shape"
   ]
  },
  {
   "cell_type": "code",
   "execution_count": 99,
   "id": "62a15dae",
   "metadata": {},
   "outputs": [
    {
     "data": {
      "text/plain": [
       "tensor(0)"
      ]
     },
     "execution_count": 99,
     "metadata": {},
     "output_type": "execute_result"
    }
   ],
   "source": [
    "atns1 = torch.tensor([100, 100, 100, 100])\n",
    "atns2 = torch.tensor([5, float('nan'), -10])\n",
    "\n",
    "torch.argmax(atns1)"
   ]
  },
  {
   "cell_type": "code",
   "execution_count": 118,
   "id": "1facebb3",
   "metadata": {},
   "outputs": [
    {
     "name": "stdout",
     "output_type": "stream",
     "text": [
      "acc_metric# 1.0 , auc# nan , f1# 1.0 \n",
      "\n"
     ]
    },
    {
     "name": "stderr",
     "output_type": "stream",
     "text": [
      "y values can not be all 1, skip AUC computation and return `Nan`.\n"
     ]
    }
   ],
   "source": [
    "auc_metric = ROCAUCMetric()\n",
    "#y_pred = torch.tensor([float('NaN'), 0, 1, 0, 1, float('NaN')])\n",
    "y_pred = torch.tensor([float('NaN'), float('NaN'), float('NaN'), float('NaN'), float('NaN'), 1])\n",
    "y = torch.tensor([0, 0, 0, 0, 0, 1])\n",
    "\n",
    "if torch.all(torch.isnan(y_pred))==True:\n",
    "    print('acc_metric#', np.nan, ', auc#', np.nan, ', f1#', np.nan, '\\n')\n",
    "else:\n",
    "    \n",
    "\n",
    "    num_nanvalues = torch.isnan(y_pred).sum().item()\n",
    "    not_nanmask = torch.logical_not(torch.isnan(y_pred))\n",
    "    y = y[not_nanmask]\n",
    "    y_pred = y_pred[not_nanmask]\n",
    "    acc_value = torch.eq(y_pred, y)\n",
    "    acc_metric = acc_value.sum().item() / len(acc_value)\n",
    "   \n",
    "    \n",
    "    \n",
    "    auc_metric(y_pred, y)\n",
    "    auc_result = auc_metric.aggregate()\n",
    "    auc_metric.reset()\n",
    "\n",
    "    accscore = balanced_accuracy_score(y, y_pred)\n",
    "    f1score = f1_score(y, y_pred, average='micro')\n",
    "    print('acc_metric#', acc_metric, ', auc#', auc_result, ', f1#', f1score, '\\n')\n",
    "    \n",
    "    \n",
    "    \n"
   ]
  },
  {
   "cell_type": "code",
   "execution_count": null,
   "id": "9e841dfa",
   "metadata": {},
   "outputs": [],
   "source": [
    "\n"
   ]
  },
  {
   "cell_type": "code",
   "execution_count": 101,
   "id": "57ec922d",
   "metadata": {},
   "outputs": [],
   "source": [
    "\n",
    "\n",
    "#y_onehot = [post_label(i) for i in torch.unbind(y, dim=0)]\n",
    "#y_pred_act = [post_pred(i) for i in torch.unbind(y_pred, dim=0)]\n",
    "\n"
   ]
  },
  {
   "cell_type": "code",
   "execution_count": null,
   "id": "a0aae3fd",
   "metadata": {},
   "outputs": [],
   "source": []
  },
  {
   "cell_type": "code",
   "execution_count": null,
   "id": "bd70405e",
   "metadata": {},
   "outputs": [],
   "source": []
  }
 ],
 "metadata": {
  "kernelspec": {
   "display_name": "Python 3 (ipykernel)",
   "language": "python",
   "name": "python3"
  },
  "language_info": {
   "codemirror_mode": {
    "name": "ipython",
    "version": 3
   },
   "file_extension": ".py",
   "mimetype": "text/x-python",
   "name": "python",
   "nbconvert_exporter": "python",
   "pygments_lexer": "ipython3",
   "version": "3.9.12"
  }
 },
 "nbformat": 4,
 "nbformat_minor": 5
}
